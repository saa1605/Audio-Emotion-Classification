{
  "nbformat": 4,
  "nbformat_minor": 0,
  "metadata": {
    "colab": {
      "name": "1D_Convolution_AudioBasedEmotionClassification.ipynb",
      "provenance": [],
      "collapsed_sections": []
    },
    "kernelspec": {
      "name": "python3",
      "display_name": "Python 3"
    }
  },
  "cells": [
    {
      "cell_type": "code",
      "metadata": {
        "id": "dPqICo2h56AC",
        "colab_type": "code",
        "outputId": "e776be99-cc97-419c-890f-c5e50cd902e2",
        "colab": {
          "base_uri": "https://localhost:8080/",
          "height": 124
        }
      },
      "source": [
        "from google.colab import drive \n",
        "drive.mount('/content/gdrive')"
      ],
      "execution_count": 1,
      "outputs": [
        {
          "output_type": "stream",
          "text": [
            "Go to this URL in a browser: https://accounts.google.com/o/oauth2/auth?client_id=947318989803-6bn6qk8qdgf4n4g3pfee6491hc0brc4i.apps.googleusercontent.com&redirect_uri=urn%3Aietf%3Awg%3Aoauth%3A2.0%3Aoob&scope=email%20https%3A%2F%2Fwww.googleapis.com%2Fauth%2Fdocs.test%20https%3A%2F%2Fwww.googleapis.com%2Fauth%2Fdrive%20https%3A%2F%2Fwww.googleapis.com%2Fauth%2Fdrive.photos.readonly%20https%3A%2F%2Fwww.googleapis.com%2Fauth%2Fpeopleapi.readonly&response_type=code\n",
            "\n",
            "Enter your authorization code:\n",
            "··········\n",
            "Mounted at /content/gdrive\n"
          ],
          "name": "stdout"
        }
      ]
    },
    {
      "cell_type": "code",
      "metadata": {
        "id": "XK_LsEvArfNr",
        "colab_type": "code",
        "colab": {}
      },
      "source": [
        "!mkdir ravdess_data\n",
        "!unzip 'gdrive/My Drive/Audio_Speech_Actors_01-24.zip' -d ravdess_data\n",
        "!rm -rf ravdess_data/A*/03-01-02*"
      ],
      "execution_count": 0,
      "outputs": []
    },
    {
      "cell_type": "code",
      "metadata": {
        "id": "FHSbKMLc8SRH",
        "colab_type": "code",
        "colab": {}
      },
      "source": [
        "import os\n",
        "import time\n",
        "import numpy as np\n",
        "import librosa\n",
        "lst = []\n",
        "\n",
        "start_time = time.time()\n",
        "for folder in os.listdir('ravdess_data/'):\n",
        "  for file in os.listdir(f'{\"ravdess_data/\"}{folder}'):\n",
        "        try:\n",
        "          X, sample_rate = librosa.load(f'{\"ravdess_data/\"}{folder}{\"/\"}{file}', res_type='kaiser_fast')\n",
        "          mfccs = np.mean(librosa.feature.mfcc(y=X, sr=sample_rate, n_mfcc=40).T,axis=0) \n",
        "          file = int(file[7:8]) - 1\n",
        "          if file>0:\n",
        "            file-=1\n",
        "          arr = mfccs, file\n",
        "          lst.append(arr)\n",
        "        except ValueError:\n",
        "          continue\n",
        "\n",
        "# print(\"--- Data loaded. Loading time: %s seconds ---\" % (time.time() - start_time))"
      ],
      "execution_count": 0,
      "outputs": []
    },
    {
      "cell_type": "code",
      "metadata": {
        "id": "y1NMUUKwtCYD",
        "colab_type": "code",
        "colab": {}
      },
      "source": [
        "np.save('training_data_transposed_1d_ravdess', lst)"
      ],
      "execution_count": 0,
      "outputs": []
    },
    {
      "cell_type": "code",
      "metadata": {
        "id": "GTqLj-ESv-DO",
        "colab_type": "code",
        "colab": {}
      },
      "source": [
        "!cp training_data_transposed_1d_ravdess.npy 'gdrive/My Drive/AI-Hackathon'"
      ],
      "execution_count": 0,
      "outputs": []
    },
    {
      "cell_type": "code",
      "metadata": {
        "id": "48DdQLnRRcDb",
        "colab_type": "code",
        "colab": {}
      },
      "source": [
        "lst = np.load('training_data_transposed_1d_ravdess.npy',allow_pickle=True)"
      ],
      "execution_count": 0,
      "outputs": []
    },
    {
      "cell_type": "code",
      "metadata": {
        "id": "6rXgCDDoFaBz",
        "colab_type": "code",
        "colab": {}
      },
      "source": [
        "X, y = zip(*lst)\n"
      ],
      "execution_count": 0,
      "outputs": []
    },
    {
      "cell_type": "markdown",
      "metadata": {
        "id": "xEd5X98bboIW",
        "colab_type": "text"
      },
      "source": [
        ""
      ]
    },
    {
      "cell_type": "code",
      "metadata": {
        "id": "A7QlrAFBL5yj",
        "colab_type": "code",
        "outputId": "83db8ca3-92ce-42f1-9692-a4d7034c3cb9",
        "colab": {
          "base_uri": "https://localhost:8080/",
          "height": 34
        }
      },
      "source": [
        "# import numpy as np\n",
        "X = np.asarray(X)\n",
        "y = np.asarray(y)\n",
        "\n",
        "\n",
        "X.shape, y.shape\n",
        "\n",
        "set(y)"
      ],
      "execution_count": 104,
      "outputs": [
        {
          "output_type": "execute_result",
          "data": {
            "text/plain": [
              "{0, 1, 2, 3, 4, 5, 6}"
            ]
          },
          "metadata": {
            "tags": []
          },
          "execution_count": 104
        }
      ]
    },
    {
      "cell_type": "code",
      "metadata": {
        "id": "sxjLjrQOj-45",
        "colab_type": "code",
        "colab": {
          "base_uri": "https://localhost:8080/",
          "height": 34
        },
        "outputId": "59303b1a-5ea3-4f87-9035-8143117375bf"
      },
      "source": [
        "# !pip install oblib\n",
        "# import joblib\n",
        "\n",
        "# X_name = 'X.joblib'\n",
        "# y_name = 'y.joblib'\n",
        "# save_dir = '/content/drive/My Drive/ravdess_model'\n",
        "\n",
        "# savedX = joblib.dump(X, os.path.join(save_dir, X_name))\n",
        "# savedy = joblib.dump(y, os.path.join(save_dir, y_name))\n",
        "\n",
        "\n",
        "import numpy as np\n",
        "import joblib\n",
        "# np.save('gdrive/My Drive/ravdess_model/x',X)\n",
        "# np.save('gdrive/My Drive/ravdess_model/y',y)\n",
        "\n",
        "X_old = joblib.load('gdrive/My Drive/ravdess_model/X.joblib')\n",
        "y_old = joblib.load('gdrive/My Drive/ravdess_model/y.joblib')\n",
        "\n",
        "X = []\n",
        "y = []\n",
        "for i in range(len(y_old)):\n",
        "  if y_old[i]!=1:\n",
        "    y.append(y_old[i])\n",
        "    X.append(X_old[i])\n",
        "for i in range(len(y)):\n",
        "  if y[i]>1:\n",
        "    y[i]-=1\n",
        "set(y)\n",
        "\n",
        "\n",
        "# array_rain_fall = np.loadtxt(fname=\"rain-fall.csv\", delimiter=\",\")\n",
        "# np.savetxt(fname=\"saved-rain-fall-row-col-names.csv\", delimiter=\",\", X=array_rain_fall)"
      ],
      "execution_count": 105,
      "outputs": [
        {
          "output_type": "execute_result",
          "data": {
            "text/plain": [
              "{0, 1, 2, 3, 4, 5, 6}"
            ]
          },
          "metadata": {
            "tags": []
          },
          "execution_count": 105
        }
      ]
    },
    {
      "cell_type": "code",
      "metadata": {
        "id": "-Q1UX263Gfsy",
        "colab_type": "code",
        "outputId": "fe5459f2-edfe-46ef-ae90-aa1dd3b5be4b",
        "colab": {
          "base_uri": "https://localhost:8080/",
          "height": 34
        }
      },
      "source": [
        "from fastai.basics import *\n",
        "from fastai.vision import *\n",
        "from sklearn.model_selection import train_test_split\n",
        "import torch\n",
        "\n",
        "class ArrayDataset(Dataset):\n",
        "    \"Sample numpy array dataset\"\n",
        "    def __init__(self, x, y):\n",
        "        self.x, self.y = x, y\n",
        "        self.c = 2 # binary label\n",
        "    \n",
        "    def __len__(self):\n",
        "        return len(self.x)\n",
        "    \n",
        "    def __getitem__(self, i):\n",
        "        return self.x[i], self.y[i]\n",
        "      \n",
        "\n",
        "X = np.asarray(X)\n",
        "y = np.asarray(y)\n",
        "X = np.expand_dims(X,axis=2)  \n",
        "print(X.shape)\n",
        "train_X,valid_X, train_y, valid_y = train_test_split(X,y,test_size=0.2,random_state=42)\n",
        "from sklearn.utils import shuffle\n",
        "train_X, train_y = shuffle(train_X, train_y, random_state=42)\n",
        "\n",
        "# X = np.expand_dims(X,axis=2)\n",
        "# print(train_y.shape,valid_y.shape)\n",
        "# Load necessary Pytorch packages\n",
        "# from torch.utils.data import DataLoader, TensorDataset\n",
        "# from torch import Tensor\n",
        "\n",
        "# # Create dataset from several tensors with matching first dimension\n",
        "# # Samples will be drawn from the first dimension (rows)\n",
        "# train_dataset = TensorDataset( Tensor(x_traincnn), Tensor(train_y) )\n",
        "# valid_dataset = TensorDataset( Tensor(x_validcnn), Tensor(valid_y) )\n",
        "# # Create a data loader from the dataset\n",
        "# # Type of sampling and batch size are specified at this step\n",
        "# train_loader = DataLoader(train_dataset, batch_size= 16, shuffle=True)\n",
        "# valid_loader = DataLoader(valid_dataset, batch_size= 16, shuffle=True)\n",
        "\n",
        "# # Quick test\n",
        "# next(iter(train_loader))\n",
        "\n",
        "\n",
        "\n",
        "\n",
        "\n",
        "# x_traincnn = torch.Tensor([x_traincnn,train_y])\n",
        "# x_testcnn = torch.Tensor([x_testcnn,valid_y])\n",
        "# # print(type(x_traincnn))\n",
        "# print(x_traincnn)\n",
        "# train_set,valid_set = ArrayDataset(train_X,train_y),ArrayDataset(valid_X,valid_y)\n",
        "\n",
        "# train_data = []\n",
        "# valid_data = []\n",
        "# for i in range(len(train_X)):\n",
        "#    train_data.append([train_X[i], train_y[i]])\n",
        "# for i in range(len(valid_X)):\n",
        "#    valid_data.append([valid_X[i], valid_y[i]])\n",
        "    \n",
        "    \n",
        "# train_data = np.array(train_data)\n",
        "# valid_data = np.array(valid_data)\n",
        "\n",
        "\n",
        "# train_data = np.expand_dims(train_data, axis=2)\n",
        "# valid_data = np.expand_dims(valid_data, axis=2)\n",
        "\n",
        "# print(train_data.shape)\n",
        "\n",
        "# trainloader = torch.utils.data.DataLoader(x_traincnn, batch_size=16,\n",
        "#                                           shuffle=True, num_workers=2)\n",
        "# validloader = torch.utils.data.DataLoader(x_validcnn, batch_size=16,\n",
        "#                                           shuffle=True, num_workers=2)\n",
        "\n",
        "\n"
      ],
      "execution_count": 106,
      "outputs": [
        {
          "output_type": "stream",
          "text": [
            "(4177, 40, 1)\n"
          ],
          "name": "stdout"
        }
      ]
    },
    {
      "cell_type": "code",
      "metadata": {
        "id": "FTqqDIxP0-uv",
        "colab_type": "code",
        "colab": {
          "base_uri": "https://localhost:8080/",
          "height": 34
        },
        "outputId": "7f20adf4-6d79-49b0-c6e8-75bb206b1cae"
      },
      "source": [
        "y.shape"
      ],
      "execution_count": 107,
      "outputs": [
        {
          "output_type": "execute_result",
          "data": {
            "text/plain": [
              "(4177,)"
            ]
          },
          "metadata": {
            "tags": []
          },
          "execution_count": 107
        }
      ]
    },
    {
      "cell_type": "code",
      "metadata": {
        "id": "A7ahaIohFNWR",
        "colab_type": "code",
        "colab": {}
      },
      "source": [
        "import keras\n",
        "import numpy as np\n",
        "import matplotlib.pyplot as plt\n",
        "import tensorflow as tf\n",
        "from keras.preprocessing import sequence\n",
        "from keras.models import Sequential\n",
        "from keras.layers import Dense, Embedding\n",
        "from keras.utils import to_categorical\n",
        "from keras.layers import Input, Flatten, Dropout, Activation, BatchNormalization\n",
        "from keras.layers import Conv1D, MaxPooling1D\n",
        "from keras.models import Model\n",
        "from keras.callbacks import ModelCheckpoint\n",
        "\n",
        "\n",
        "\n",
        "model = Sequential()\n",
        "\n",
        "model.add(Conv1D(32, 5,strides=2,padding='same',\n",
        "                 input_shape=(40,1)))\n",
        "model.add(Activation('relu'))\n",
        "model.add(BatchNormalization())\n",
        "# model.add(MaxPooling1D(pool_size=(8)))\n",
        "model.add(Conv1D(64, 5,strides=2,padding='same',))\n",
        "model.add(Activation('relu'))\n",
        "model.add(BatchNormalization())\n",
        "model.add(Flatten())\n",
        "model.add(Dense(7))\n",
        "model.add(Activation('softmax'))\n",
        "# opt = keras.optimizers.rmsprop(lr=0.00005, rho=0.9, epsilon=None, decay=0.0)\n",
        "\n",
        "\n",
        "opt = keras.optimizers.Adam(lr=0.001, beta_1=0.9, beta_2=0.999, epsilon=None, decay=0.0, amsgrad=False)"
      ],
      "execution_count": 0,
      "outputs": []
    },
    {
      "cell_type": "code",
      "metadata": {
        "id": "6McgEjjMG1_J",
        "colab_type": "code",
        "colab": {}
      },
      "source": [
        "model.compile(loss='sparse_categorical_crossentropy',\n",
        "              optimizer=opt,\n",
        "              metrics=['accuracy'])"
      ],
      "execution_count": 0,
      "outputs": []
    },
    {
      "cell_type": "code",
      "metadata": {
        "id": "oaDI3U7RHJT2",
        "colab_type": "code",
        "colab": {
          "base_uri": "https://localhost:8080/",
          "height": 402
        },
        "outputId": "3c143bc2-2e2f-4d28-fba4-d0dc3d80f7ce"
      },
      "source": [
        "cnnhistory=model.fit(train_X, train_y, batch_size=16, epochs=10, validation_data=(valid_X, valid_y))"
      ],
      "execution_count": 111,
      "outputs": [
        {
          "output_type": "stream",
          "text": [
            "Train on 3341 samples, validate on 836 samples\n",
            "Epoch 1/10\n",
            "3341/3341 [==============================] - 1s 259us/step - loss: 0.2745 - acc: 0.9087 - val_loss: 0.4219 - val_acc: 0.8385\n",
            "Epoch 2/10\n",
            "3341/3341 [==============================] - 1s 264us/step - loss: 0.2414 - acc: 0.9216 - val_loss: 0.3941 - val_acc: 0.8553\n",
            "Epoch 3/10\n",
            "3341/3341 [==============================] - 1s 247us/step - loss: 0.2127 - acc: 0.9336 - val_loss: 0.3517 - val_acc: 0.8756\n",
            "Epoch 4/10\n",
            "3341/3341 [==============================] - 1s 245us/step - loss: 0.1833 - acc: 0.9461 - val_loss: 0.3168 - val_acc: 0.9007\n",
            "Epoch 5/10\n",
            "3341/3341 [==============================] - 1s 242us/step - loss: 0.1798 - acc: 0.9434 - val_loss: 0.2771 - val_acc: 0.8971\n",
            "Epoch 6/10\n",
            "3341/3341 [==============================] - 1s 244us/step - loss: 0.1613 - acc: 0.9485 - val_loss: 0.2473 - val_acc: 0.9258\n",
            "Epoch 7/10\n",
            "3341/3341 [==============================] - 1s 241us/step - loss: 0.1235 - acc: 0.9683 - val_loss: 0.3162 - val_acc: 0.8923\n",
            "Epoch 8/10\n",
            "3341/3341 [==============================] - 1s 240us/step - loss: 0.1075 - acc: 0.9722 - val_loss: 0.2243 - val_acc: 0.9246\n",
            "Epoch 9/10\n",
            "3341/3341 [==============================] - 1s 246us/step - loss: 0.1144 - acc: 0.9650 - val_loss: 0.3050 - val_acc: 0.8900\n",
            "Epoch 10/10\n",
            "3341/3341 [==============================] - 1s 254us/step - loss: 0.1087 - acc: 0.9704 - val_loss: 0.2457 - val_acc: 0.9211\n"
          ],
          "name": "stdout"
        }
      ]
    },
    {
      "cell_type": "code",
      "metadata": {
        "id": "BKryo6zFSK_u",
        "colab_type": "code",
        "colab": {}
      },
      "source": [
        "model.save('1d_convolution_model_with_video_data_without_calm.h5')"
      ],
      "execution_count": 0,
      "outputs": []
    },
    {
      "cell_type": "code",
      "metadata": {
        "id": "JPR3lVHImxsM",
        "colab_type": "code",
        "outputId": "806af91c-5158-4276-907b-32d265101ed4",
        "colab": {
          "base_uri": "https://localhost:8080/",
          "height": 34
        }
      },
      "source": [
        "\\model_name = 'OnlyNeutral_Emotion_Voice_Detection_Model.h5'\n",
        "save_dir = 'gdrive/My Drive/ravdess_model'\n",
        "# Save model and weights\n",
        "if not os.path.isdir(save_dir):\n",
        "    os.makedirs(save_dir)\n",
        "model_path = os.path.join(save_dir, model_name)\n",
        "model.save(model_path)\n",
        "print('Saved trained model at %s ' % model_path)"
      ],
      "execution_count": 0,
      "outputs": [
        {
          "output_type": "stream",
          "text": [
            "Saved trained model at gdrive/My Drive/ravdess_model/OnlyNeutral_Emotion_Voice_Detection_Model.h5 \n"
          ],
          "name": "stdout"
        }
      ]
    },
    {
      "cell_type": "code",
      "metadata": {
        "id": "k0qXnF5jKh_o",
        "colab_type": "code",
        "outputId": "c85f61b4-90a0-45bf-aa1c-363ace18617c",
        "colab": {
          "base_uri": "https://localhost:8080/",
          "height": 295
        }
      },
      "source": [
        "import matplotlib.pyplot as plt\n",
        "plt.plot(cnnhistory.history['loss'])\n",
        "plt.plot(cnnhistory.history['val_loss'])\n",
        "plt.title('model loss')\n",
        "plt.ylabel('loss')\n",
        "plt.xlabel('epoch')\n",
        "plt.legend(['train', 'test'], loc='upper left')\n",
        "plt.show()\n",
        "\n"
      ],
      "execution_count": 113,
      "outputs": [
        {
          "output_type": "display_data",
          "data": {
            "image/png": "[encoded data removed]",
            "text/plain": [
              "<Figure size 432x288 with 1 Axes>"
            ]
          },
          "metadata": {
            "tags": []
          }
        }
      ]
    },
    {
      "cell_type": "code",
      "metadata": {
        "id": "tg4922RcxNqO",
        "colab_type": "code",
        "colab": {}
      },
      "source": [
        "cp -R 'gdrive/My Drive/Filtered Data' ."
      ],
      "execution_count": 0,
      "outputs": []
    },
    {
      "cell_type": "code",
      "metadata": {
        "id": "kztsnLphBFHG",
        "colab_type": "code",
        "colab": {}
      },
      "source": [
        "!mv Tata-Training-Diarize/1 Tata-Training-Diarize/temp\n",
        "!mv Tata-Training-Diarize/2 Tata-Training-Diarize/1\n",
        "!mv Tata-Training-Diarize/temp Tata-Training-Diarize/2"
      ],
      "execution_count": 0,
      "outputs": []
    },
    {
      "cell_type": "code",
      "metadata": {
        "id": "ATxuTv60xLw5",
        "colab_type": "code",
        "colab": {}
      },
      "source": [
        "i=0\n",
        "test = []\n",
        "for folder in os.listdir('Tata-Training-Diarize'):\n",
        "  for file in os.listdir(f'{\"Tata-Training-Diarize/\"}{folder}'):\n",
        "    try:\n",
        "      X, sample_rate = librosa.load(f'{\"Tata-Training-Diarize/\"}{folder}{\"/\"}{file}', res_type='kaiser_fast',duration=2.5,sr=22050*2,offset=0.5)\n",
        "      mfccs = np.mean(librosa.feature.mfcc(y=X, sr=sample_rate, n_mfcc=40).T,axis=0) \n",
        "\n",
        "      arr = mfccs, int(folder)\n",
        "      test.append(arr)\n",
        "    except:\n",
        "      continue"
      ],
      "execution_count": 0,
      "outputs": []
    },
    {
      "cell_type": "code",
      "metadata": {
        "id": "M-vxGWluxxse",
        "colab_type": "code",
        "colab": {}
      },
      "source": [
        "test_X, test_y = zip(*test)\n",
        "test_X = np.asarray(test_X)\n",
        "test_X = np.expand_dims(test_X,axis=2)\n",
        "classes = ['Neutral','Happy','Sad','Angry','Fearful','Disgust','Surprise']"
      ],
      "execution_count": 0,
      "outputs": []
    },
    {
      "cell_type": "code",
      "metadata": {
        "id": "ayor4GhrywyJ",
        "colab_type": "code",
        "colab": {
          "base_uri": "https://localhost:8080/",
          "height": 538
        },
        "outputId": "90530ad1-eeba-47af-e630-f52099475d12"
      },
      "source": [
        "preds = model.predict_classes(test_X)\n",
        "for i in range(len(preds)):\n",
        "  print(classes[preds[i]], '     ',classes[test_y[i]])"
      ],
      "execution_count": 120,
      "outputs": [
        {
          "output_type": "stream",
          "text": [
            "Neutral       Sad\n",
            "Neutral       Sad\n",
            "Neutral       Happy\n",
            "Neutral       Happy\n",
            "Happy       Happy\n",
            "Neutral       Happy\n",
            "Happy       Happy\n",
            "Neutral       Happy\n",
            "Sad       Happy\n",
            "Neutral       Fearful\n",
            "Neutral       Angry\n",
            "Neutral       Angry\n",
            "Neutral       Angry\n",
            "Neutral       Disgust\n",
            "Neutral       Neutral\n",
            "Neutral       Neutral\n",
            "Neutral       Neutral\n",
            "Neutral       Neutral\n",
            "Neutral       Neutral\n",
            "Neutral       Neutral\n",
            "Neutral       Neutral\n",
            "Neutral       Neutral\n",
            "Neutral       Neutral\n",
            "Happy       Neutral\n",
            "Neutral       Neutral\n",
            "Neutral       Neutral\n",
            "Neutral       Neutral\n",
            "Neutral       Neutral\n",
            "Neutral       Neutral\n",
            "Neutral       Neutral\n"
          ],
          "name": "stdout"
        }
      ]
    },
    {
      "cell_type": "code",
      "metadata": {
        "id": "iWeSGUxB1SfM",
        "colab_type": "code",
        "colab": {}
      },
      "source": [
        "!mkdir train_new\n",
        "!unzip 'gdrive/My Drive/Tata-Training-Diarize.zip' -d train_new  "
      ],
      "execution_count": 0,
      "outputs": []
    },
    {
      "cell_type": "code",
      "metadata": {
        "id": "gaqvvanRF-US",
        "colab_type": "code",
        "colab": {
          "base_uri": "https://localhost:8080/",
          "height": 34
        },
        "outputId": "94f39806-66ec-4a5b-c640-f3195d483280"
      },
      "source": [
        "X = test_X\n",
        "y = np.asarray(test_y)\n",
        "X.shape, y.shape"
      ],
      "execution_count": 117,
      "outputs": [
        {
          "output_type": "execute_result",
          "data": {
            "text/plain": [
              "((30, 40, 1), (30,))"
            ]
          },
          "metadata": {
            "tags": []
          },
          "execution_count": 117
        }
      ]
    },
    {
      "cell_type": "code",
      "metadata": {
        "id": "Xt2DNxjDfqI1",
        "colab_type": "code",
        "colab": {}
      },
      "source": [
        ""
      ],
      "execution_count": 0,
      "outputs": []
    },
    {
      "cell_type": "code",
      "metadata": {
        "id": "Zd5Hz3l0Aiv9",
        "colab_type": "code",
        "colab": {
          "base_uri": "https://localhost:8080/",
          "height": 34
        },
        "outputId": "35569261-8dff-4b54-fae7-d61bde16a350"
      },
      "source": [
        "import numpy as np\n",
        "\n",
        "\n",
        "print(X.shape)\n",
        "train_X,valid_X, train_y, valid_y = train_test_split(X,y,test_size=0.2,random_state=42)\n",
        "# from sklearn.utils import shuffle\n",
        "# train_X, train_y = shuffle(train_X, train_y, random_state=42)\n"
      ],
      "execution_count": 118,
      "outputs": [
        {
          "output_type": "stream",
          "text": [
            "(30, 40, 1)\n"
          ],
          "name": "stdout"
        }
      ]
    },
    {
      "cell_type": "code",
      "metadata": {
        "id": "I691DXq4fsxR",
        "colab_type": "code",
        "colab": {
          "base_uri": "https://localhost:8080/",
          "height": 34
        },
        "outputId": "38b083d2-1b01-449b-c075-c50696510cb9"
      },
      "source": [
        "train_y"
      ],
      "execution_count": 122,
      "outputs": [
        {
          "output_type": "execute_result",
          "data": {
            "text/plain": [
              "array([0, 0, 3, 2, 1, 0, 1, 5, 3, 0, 2, 1, 0, 1, 0, 0, 0, 0, 0, 1, 3, 0, 0, 1])"
            ]
          },
          "metadata": {
            "tags": []
          },
          "execution_count": 122
        }
      ]
    },
    {
      "cell_type": "code",
      "metadata": {
        "id": "jHRrrBxeF7J9",
        "colab_type": "code",
        "colab": {
          "base_uri": "https://localhost:8080/",
          "height": 228
        },
        "outputId": "c6880460-6cf0-4493-9eb9-75a3dfdeef77"
      },
      "source": [
        "cnnhistory=model.fit(train_X, train_y, batch_size=16, epochs=5, validation_data=(valid_X, valid_y))"
      ],
      "execution_count": 119,
      "outputs": [
        {
          "output_type": "stream",
          "text": [
            "Train on 24 samples, validate on 6 samples\n",
            "Epoch 1/5\n",
            "24/24 [==============================] - 0s 1ms/step - loss: 4.7646 - acc: 0.0417 - val_loss: 5.5944 - val_acc: 0.5000\n",
            "Epoch 2/5\n",
            "24/24 [==============================] - 0s 806us/step - loss: 2.2075 - acc: 0.2917 - val_loss: 5.3794 - val_acc: 0.5000\n",
            "Epoch 3/5\n",
            "24/24 [==============================] - 0s 646us/step - loss: 1.5849 - acc: 0.6250 - val_loss: 4.8784 - val_acc: 0.5000\n",
            "Epoch 4/5\n",
            "24/24 [==============================] - 0s 574us/step - loss: 1.3461 - acc: 0.6250 - val_loss: 4.9070 - val_acc: 0.3333\n",
            "Epoch 5/5\n",
            "24/24 [==============================] - 0s 896us/step - loss: 0.9164 - acc: 0.6667 - val_loss: 5.0237 - val_acc: 0.5000\n"
          ],
          "name": "stdout"
        }
      ]
    },
    {
      "cell_type": "code",
      "metadata": {
        "id": "PL6cz9NCGU5K",
        "colab_type": "code",
        "colab": {}
      },
      "source": [
        ""
      ],
      "execution_count": 0,
      "outputs": []
    }
  ]
}