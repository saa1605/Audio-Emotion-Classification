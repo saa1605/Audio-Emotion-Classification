{
 "cells": [
  {
   "cell_type": "markdown",
   "metadata": {},
   "source": [
    "The First step for preprocessing is extracting information from the Emotion Evaluation Files scattered across all the Session Folders in the IEMOCAP dataset. We start by taking a regular expression as shown and then run a for loop across all the evaluation files. We find the necessary information which includes start_times, end_times, wav_file_names, emotions, vals, acts and doms."
   ]
  },
  {
   "cell_type": "code",
   "execution_count": null,
   "metadata": {},
   "outputs": [],
   "source": [
    "import re\n",
    "import os\n",
    "info_line = re.compile(r'\\[.+\\]\\n', re.IGNORECASE)\n",
    "\n",
    "start_times, end_times, wav_file_names, emotions, vals, acts, doms = [], [], [], [], [], [], []\n",
    "\n",
    "for sess in range(1, 6):\n",
    "    emo_evaluation_dir = './IEMOCAP_full_release/Session{}/dialog/EmoEvaluation/'.format(sess)\n",
    "    evaluation_files = [l for l in os.listdir(emo_evaluation_dir) if 'Ses' in l]\n",
    "    for file in evaluation_files:\n",
    "        with open(emo_evaluation_dir + file) as f:\n",
    "            content = f.read()\n",
    "        info_lines = re.findall(info_line, content)\n",
    "        for line in info_lines[1:]:  # the first line is a header\n",
    "            start_end_time, wav_file_name, emotion, val_act_dom = line.strip().split('\\t')\n",
    "            start_time, end_time = start_end_time[1:-1].split('-')\n",
    "            val, act, dom = val_act_dom[1:-1].split(',')\n",
    "            val, act, dom = float(val), float(act), float(dom)\n",
    "            start_time, end_time = float(start_time), float(end_time)\n",
    "            start_times.append(start_time)\n",
    "            end_times.append(end_time)\n",
    "            wav_file_names.append(wav_file_name)\n",
    "            emotions.append(emotion)\n",
    "            vals.append(val)\n",
    "            acts.append(act)\n",
    "            doms.append(dom)"
   ]
  },
  {
   "cell_type": "markdown",
   "metadata": {},
   "source": [
    "We further import the Pandas Library and convert the information into a CSV format"
   ]
  },
  {
   "cell_type": "code",
   "execution_count": null,
   "metadata": {},
   "outputs": [],
   "source": [
    "import pandas as pd\n",
    "\n",
    "df_iemocap = pd.DataFrame(columns=['start_time', 'end_time', 'wav_file', 'emotion', 'val', 'act', 'dom'])\n",
    "\n",
    "df_iemocap['start_time'] = start_times\n",
    "df_iemocap['end_time'] = end_times\n",
    "df_iemocap['wav_file'] = wav_file_names\n",
    "df_iemocap['emotion'] = emotions\n",
    "df_iemocap['val'] = vals\n",
    "df_iemocap['act'] = acts\n",
    "df_iemocap['dom'] = doms\n",
    "\n",
    "df_iemocap.tail()\n",
    "\n",
    "df_iemocap.to_csv('audio_df.csv', index=False)"
   ]
  },
  {
   "cell_type": "markdown",
   "metadata": {},
   "source": [
    "The existing IEMOCAP dataset is classified into two sets 1)Scripted and 2)Improvised. We restrict our analysis to the improved files[cite source here]. Furthermore, adhering to previous standards of emotion evaluation we restrict our focus to the following emotions \"Happy/Excited\", \"Sad\", \"Neutral\" and \"Angry\". Therefore the following script excludes the unnecessary emotions from the datafram and stores it to a new file.    "
   ]
  },
  {
   "cell_type": "code",
   "execution_count": 2,
   "metadata": {},
   "outputs": [
    {
     "name": "stderr",
     "output_type": "stream",
     "text": [
      "/anaconda/envs/py35/lib/python3.5/site-packages/ipykernel/__main__.py:8: UserWarning: Boolean Series key will be reindexed to match DataFrame index.\n",
      "/anaconda/envs/py35/lib/python3.5/site-packages/ipykernel/__main__.py:9: UserWarning: Boolean Series key will be reindexed to match DataFrame index.\n",
      "/anaconda/envs/py35/lib/python3.5/site-packages/ipykernel/__main__.py:10: UserWarning: Boolean Series key will be reindexed to match DataFrame index.\n",
      "/anaconda/envs/py35/lib/python3.5/site-packages/ipykernel/__main__.py:11: UserWarning: Boolean Series key will be reindexed to match DataFrame index.\n",
      "/anaconda/envs/py35/lib/python3.5/site-packages/ipykernel/__main__.py:12: UserWarning: Boolean Series key will be reindexed to match DataFrame index.\n"
     ]
    }
   ],
   "source": [
    "import pandas as pd\n",
    "audio_df = pd.read_csv('audio_df.csv')\n",
    "\n",
    "# Remove Scripted sources and oth, xxx, dis, fea, fru and sur emotions \n",
    "# audio_impro = audio_df[~audio_df.wav_file.str.contains(\"script\")]\n",
    "# audio_impro = audio_df\n",
    "audio_impro = audio_df[~audio_df.emotion.str.contains(\"oth\")]\n",
    "audio_impro = audio_impro[~audio_df.emotion.str.contains(\"xxx\")]\n",
    "audio_impro = audio_impro[~audio_df.emotion.str.contains(\"dis\")]\n",
    "audio_impro = audio_impro[~audio_df.emotion.str.contains(\"fea\")]\n",
    "audio_impro = audio_impro[~audio_df.emotion.str.contains(\"fru\")]\n",
    "audio_impro = audio_impro[~audio_df.emotion.str.contains(\"sur\")]\n",
    "audio_impro_processed = audio_impro.replace('exc', 'hap')\n",
    "\n",
    "audio_impro_processed.to_csv ('audio_df_improvisedandscripted_4emotions.csv', index = False, header=True)"
   ]
  },
  {
   "cell_type": "code",
   "execution_count": null,
   "metadata": {},
   "outputs": [],
   "source": []
  }
 ],
 "metadata": {
  "kernelspec": {
   "display_name": "Python 3.5",
   "language": "python",
   "name": "python3"
  },
  "language_info": {
   "codemirror_mode": {
    "name": "ipython",
    "version": 3
   },
   "file_extension": ".py",
   "mimetype": "text/x-python",
   "name": "python",
   "nbconvert_exporter": "python",
   "pygments_lexer": "ipython3",
   "version": "3.5.6"
  }
 },
 "nbformat": 4,
 "nbformat_minor": 2
}
