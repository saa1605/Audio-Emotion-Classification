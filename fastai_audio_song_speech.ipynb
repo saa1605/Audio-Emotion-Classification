{
 "cells": [
  {
   "cell_type": "code",
   "execution_count": 0,
   "metadata": {
    "colab": {
     "base_uri": "https://localhost:8080/",
     "height": 122
    },
    "colab_type": "code",
    "id": "-OW5OfNtFVmz",
    "outputId": "e29918d2-b7ac-4170-9426-7a64c2499ef9"
   },
   "outputs": [
    {
     "name": "stdout",
     "output_type": "stream",
     "text": [
      "Go to this URL in a browser: https://accounts.google.com/o/oauth2/auth?client_id=947318989803-6bn6qk8qdgf4n4g3pfee6491hc0brc4i.apps.googleusercontent.com&redirect_uri=urn%3Aietf%3Awg%3Aoauth%3A2.0%3Aoob&scope=email%20https%3A%2F%2Fwww.googleapis.com%2Fauth%2Fdocs.test%20https%3A%2F%2Fwww.googleapis.com%2Fauth%2Fdrive%20https%3A%2F%2Fwww.googleapis.com%2Fauth%2Fdrive.photos.readonly%20https%3A%2F%2Fwww.googleapis.com%2Fauth%2Fpeopleapi.readonly&response_type=code\n",
      "\n",
      "Enter your authorization code:\n",
      "··········\n",
      "Mounted at /content/drive\n"
     ]
    }
   ],
   "source": [
    "from google.colab import drive\n",
    "drive.mount('/content/drive')"
   ]
  },
  {
   "cell_type": "code",
   "execution_count": 0,
   "metadata": {
    "colab": {},
    "colab_type": "code",
    "id": "LBIGS-X2J57f"
   },
   "outputs": [],
   "source": [
    "# !unzip 'drive/My Drive/Audio_Song_Actors_01-24.zip' -d 'audio_song/'\n",
    "!unzip 'drive/My Drive/Audio_Speech_Actors_01-24.zip' -d 'audio_speech/'\n",
    "# !unzip 'drive/My Drive/audio_data.zip' "
   ]
  },
  {
   "cell_type": "markdown",
   "metadata": {
    "colab_type": "text",
    "id": "-5ULK-ht6Wh6"
   },
   "source": [
    "\n",
    "    Modality (01 = full-AV, 02 = video-only, 03 = audio-only).\n",
    "    Vocal channel (01 = speech, 02 = song).\n",
    "    Emotion (01 = neutral, 02 = calm, 03 = happy, 04 = sad, 05 = angry, 06 = fearful, 07 = disgust, 08 = surprised).\n",
    "    Emotional intensity (01 = normal, 02 = strong). NOTE: There is no strong intensity for the ‘neutral’ emotion.\n",
    "    Statement (01 = “Kids are talking by the door”, 02 = “Dogs are sitting by the door”).\n",
    "    Repetition (01 = 1st repetition, 02 = 2nd repetition).\n",
    "    Actor (01 to 24. Odd numbered actors are male, even numbered actors are female).\n"
   ]
  },
  {
   "cell_type": "code",
   "execution_count": 0,
   "metadata": {
    "colab": {},
    "colab_type": "code",
    "id": "IsEPKjC3rBCQ"
   },
   "outputs": [],
   "source": [
    "mkdir -p audio_data/train audio_data/test"
   ]
  },
  {
   "cell_type": "code",
   "execution_count": 0,
   "metadata": {
    "colab": {},
    "colab_type": "code",
    "id": "RlSLAmE1OBTG"
   },
   "outputs": [],
   "source": [
    "!cp audio_speech/Actor_0*/* audio_data/train\n",
    "!cp audio_speech/Actor_1*/* audio_data/train\n",
    "\n"
   ]
  },
  {
   "cell_type": "code",
   "execution_count": 0,
   "metadata": {
    "colab": {},
    "colab_type": "code",
    "id": "1ph_4PbERRNx"
   },
   "outputs": [],
   "source": [
    "!cp audio_speech/Actor_2*/* audio_data/test\n"
   ]
  },
  {
   "cell_type": "code",
   "execution_count": 0,
   "metadata": {
    "colab": {},
    "colab_type": "code",
    "id": "vnZ1f6YirIRU"
   },
   "outputs": [],
   "source": [
    "rm -rf image_data/train/"
   ]
  },
  {
   "cell_type": "code",
   "execution_count": 0,
   "metadata": {
    "colab": {
     "base_uri": "https://localhost:8080/",
     "height": 34
    },
    "colab_type": "code",
    "id": "O9oFoh-IR8n3",
    "outputId": "b93a182c-ea6c-4956-de8d-b19e32e9e2a1"
   },
   "outputs": [
    {
     "data": {
      "text/plain": [
       "('audio_data/train/', 'audio_data/test/')"
      ]
     },
     "execution_count": 159,
     "metadata": {
      "tags": []
     },
     "output_type": "execute_result"
    }
   ],
   "source": [
    "TRAIN_AUDIO_PATH = (f'{\"audio_data/train/\"}')\n",
    "VALID_AUDIO_PATH = (f'{\"audio_data/test/\"}')\n",
    "TRAIN_IMAGE_PATH = (f'{\"image_data/train/\"}')\n",
    "VALID_IMAGE_PATH = (f'{\"image_data/test/\"}')\n",
    "TRAIN_AUDIO_PATH, VALID_AUDIO_PATH"
   ]
  },
  {
   "cell_type": "code",
   "execution_count": 0,
   "metadata": {
    "colab": {},
    "colab_type": "code",
    "id": "hdGsE6plSAss"
   },
   "outputs": [],
   "source": [
    "def log_mel_spec_tfm(fname, src_path, dst_path):\n",
    "    filename = f'{src_path}{fname}'\n",
    "#     print(filename)\n",
    "    x, sample_rate = librosa.load(filename)\n",
    "#     f = list(fname)\n",
    "#     rank = int(f[7])\n",
    "#     if rank>1:\n",
    "#       rank-=1\n",
    "#     f[7] = str(rank)\n",
    "#     fname = \"\".join(f)\n",
    "    n_fft = 1024\n",
    "    hop_length = 256\n",
    "    n_mels = 40\n",
    "    fmin = 20\n",
    "    fmax = sample_rate / 2 \n",
    "    \n",
    "    mel_spec_power = librosa.feature.melspectrogram(x, sr=sample_rate, n_fft=n_fft, \n",
    "                                                    hop_length=hop_length, \n",
    "                                                    n_mels=n_mels, power=2.0, \n",
    "                                                    fmin=fmin, fmax=fmax)\n",
    "    mel_spec_db = librosa.power_to_db(mel_spec_power, ref=np.max)\n",
    "#     dst_fname = dst_path / (fname[:-4] + '.png')\n",
    "    dst_fname = f'{dst_path}{fname[:-4]}{\".png\"}'\n",
    "    plt.imsave(dst_fname, mel_spec_db)"
   ]
  },
  {
   "cell_type": "code",
   "execution_count": 0,
   "metadata": {
    "colab": {},
    "colab_type": "code",
    "id": "jNABX3eOTZ68"
   },
   "outputs": [],
   "source": [
    "import os\n",
    "import librosa\n",
    "import numpy as np\n",
    "import matplotlib.pyplot as plt"
   ]
  },
  {
   "cell_type": "code",
   "execution_count": 0,
   "metadata": {
    "colab": {},
    "colab_type": "code",
    "id": "ka4H9LrjS6_1"
   },
   "outputs": [],
   "source": [
    "for file in os.listdir(TRAIN_AUDIO_PATH):\n",
    "  log_mel_spec_tfm(file,TRAIN_AUDIO_PATH,TRAIN_IMAGE_PATH)"
   ]
  },
  {
   "cell_type": "code",
   "execution_count": 0,
   "metadata": {
    "colab": {},
    "colab_type": "code",
    "id": "l0P7AeoWS_-r"
   },
   "outputs": [],
   "source": [
    "for file in os.listdir(VALID_AUDIO_PATH):\n",
    "  log_mel_spec_tfm(file,VALID_AUDIO_PATH,VALID_IMAGE_PATH)"
   ]
  },
  {
   "cell_type": "code",
   "execution_count": 0,
   "metadata": {
    "colab": {},
    "colab_type": "code",
    "id": "4dQi3BADdXBZ"
   },
   "outputs": [],
   "source": [
    "# !zip -r image_data.zip image_data"
   ]
  },
  {
   "cell_type": "code",
   "execution_count": 0,
   "metadata": {
    "colab": {},
    "colab_type": "code",
    "id": "A0NbNC1nWTji"
   },
   "outputs": [],
   "source": [
    "import fastai\n",
    "from fastai.vision import *\n",
    "from fastai.basics import *"
   ]
  },
  {
   "cell_type": "code",
   "execution_count": 0,
   "metadata": {
    "colab": {
     "base_uri": "https://localhost:8080/",
     "height": 34
    },
    "colab_type": "code",
    "id": "Ezba9CpS-A3Y",
    "outputId": "73280030-67f4-4561-c136-7d5c5f7366c6"
   },
   "outputs": [
    {
     "name": "stdout",
     "output_type": "stream",
     "text": [
      "2\n"
     ]
    }
   ],
   "source": [
    "Emotions = ['neutral','happy','sad','angry','fearful','disgust','surprised']\n",
    "def func(file_path): \n",
    "  rank = int(str(file_path)[-17])\n",
    "  rank-=1\n",
    "  if rank>1:\n",
    "    rank-=1\n",
    "  return rank\n",
    "\n",
    "print(func(Path('02-01-04-02-02-01-12.png')))"
   ]
  },
  {
   "cell_type": "code",
   "execution_count": 0,
   "metadata": {
    "colab": {},
    "colab_type": "code",
    "id": "yTW17MzNu2He"
   },
   "outputs": [],
   "source": [
    "# rm -rf image_data/test/03-01-02*"
   ]
  },
  {
   "cell_type": "code",
   "execution_count": 0,
   "metadata": {
    "colab": {},
    "colab_type": "code",
    "id": "Qo1oEbQAXJVY"
   },
   "outputs": [],
   "source": [
    "# def func(file_path): return str(file_path)[-17]\n",
    "src = (ImageList.from_folder('image_data')\n",
    "            .split_by_folder('train','test')\n",
    "            .label_from_func(func))\n",
    "tfms = None # or tfms=None if none are needed\n",
    "size=(40,265)# or (400,224)\n",
    "data = src.transform(tfms=tfms, size=size, resize_method=ResizeMethod.SQUISH).databunch(bs=10, num_workers=16).normalize()"
   ]
  },
  {
   "cell_type": "code",
   "execution_count": 0,
   "metadata": {
    "colab": {
     "base_uri": "https://localhost:8080/",
     "height": 34
    },
    "colab_type": "code",
    "id": "Z_k3LSd8XMxu",
    "outputId": "aea7196a-bf01-4227-fa1e-77a51e570783"
   },
   "outputs": [
    {
     "data": {
      "text/plain": [
       "(7, [0, 1, 2, 3, 4, 5, 6])"
      ]
     },
     "execution_count": 171,
     "metadata": {
      "tags": []
     },
     "output_type": "execute_result"
    }
   ],
   "source": [
    "data.c, data.classes\n"
   ]
  },
  {
   "cell_type": "code",
   "execution_count": 0,
   "metadata": {
    "colab": {
     "base_uri": "https://localhost:8080/",
     "height": 34
    },
    "colab_type": "code",
    "id": "I9TtaImZXO8-",
    "outputId": "8db5a36d-9f0c-4d6e-80a4-2eeda4448649"
   },
   "outputs": [
    {
     "data": {
      "text/plain": [
       "(torch.Size([10, 3, 40, 265]), torch.Size([10]))"
      ]
     },
     "execution_count": 172,
     "metadata": {
      "tags": []
     },
     "output_type": "execute_result"
    }
   ],
   "source": [
    "xs, ys = data.one_batch()\n",
    "xs.shape, ys.shape"
   ]
  },
  {
   "cell_type": "code",
   "execution_count": 0,
   "metadata": {
    "colab": {
     "base_uri": "https://localhost:8080/",
     "height": 34
    },
    "colab_type": "code",
    "id": "SPf9wH-aXU9u",
    "outputId": "52aac106-73e8-461b-eb9d-84ffd652be84"
   },
   "outputs": [
    {
     "data": {
      "text/plain": [
       "(tensor(0.0039), tensor(0.9922), tensor(0.3204), tensor(0.1953))"
      ]
     },
     "execution_count": 173,
     "metadata": {
      "tags": []
     },
     "output_type": "execute_result"
    }
   ],
   "source": [
    "xs.min(), xs.max(), xs.mean(), xs.std()\n"
   ]
  },
  {
   "cell_type": "code",
   "execution_count": 0,
   "metadata": {
    "colab": {
     "base_uri": "https://localhost:8080/",
     "height": 265
    },
    "colab_type": "code",
    "id": "1fR3Bn5DXZQG",
    "outputId": "c04e4753-eca1-4558-8d9c-0aa8b6fabdae"
   },
   "outputs": [
    {
     "data": {
      "image/png": "[encoded data removed]",
      "text/plain": [
       "<Figure size 576x288 with 9 Axes>"
      ]
     },
     "metadata": {
      "tags": []
     },
     "output_type": "display_data"
    }
   ],
   "source": [
    "data.show_batch(3, figsize=(8,4), hide_axis=False)\n"
   ]
  },
  {
   "cell_type": "code",
   "execution_count": 0,
   "metadata": {
    "colab": {
     "base_uri": "https://localhost:8080/",
     "height": 143
    },
    "colab_type": "code",
    "id": "ejH5b6ssXbCu",
    "outputId": "c4c61230-5849-4b19-c082-8e8ab77930da"
   },
   "outputs": [
    {
     "data": {
      "text/html": [
       "<table border=\"1\" class=\"dataframe\">\n",
       "  <thead>\n",
       "    <tr style=\"text-align: left;\">\n",
       "      <th>epoch</th>\n",
       "      <th>train_loss</th>\n",
       "      <th>valid_loss</th>\n",
       "      <th>accuracy</th>\n",
       "      <th>time</th>\n",
       "    </tr>\n",
       "  </thead>\n",
       "  <tbody>\n",
       "    <tr>\n",
       "      <td>0</td>\n",
       "      <td>2.142187</td>\n",
       "      <td>1.793093</td>\n",
       "      <td>0.357692</td>\n",
       "      <td>00:09</td>\n",
       "    </tr>\n",
       "    <tr>\n",
       "      <td>1</td>\n",
       "      <td>1.705742</td>\n",
       "      <td>1.773600</td>\n",
       "      <td>0.311538</td>\n",
       "      <td>00:09</td>\n",
       "    </tr>\n",
       "    <tr>\n",
       "      <td>2</td>\n",
       "      <td>1.350187</td>\n",
       "      <td>1.737336</td>\n",
       "      <td>0.326923</td>\n",
       "      <td>00:09</td>\n",
       "    </tr>\n",
       "  </tbody>\n",
       "</table>"
      ],
      "text/plain": [
       "<IPython.core.display.HTML object>"
      ]
     },
     "metadata": {
      "tags": []
     },
     "output_type": "display_data"
    }
   ],
   "source": [
    "learn = cnn_learner(data, models.resnet34, metrics=accuracy)\n",
    "learn.fit_one_cycle(3)"
   ]
  },
  {
   "cell_type": "code",
   "execution_count": 0,
   "metadata": {
    "colab": {
     "base_uri": "https://localhost:8080/",
     "height": 34
    },
    "colab_type": "code",
    "id": "WtP3ZV81X3xp",
    "outputId": "785eb5c1-7626-48df-83c6-fd83d168c92b"
   },
   "outputs": [
    {
     "data": {
      "text/html": [],
      "text/plain": [
       "<IPython.core.display.HTML object>"
      ]
     },
     "metadata": {
      "tags": []
     },
     "output_type": "display_data"
    },
    {
     "name": "stdout",
     "output_type": "stream",
     "text": [
      "LR Finder is complete, type {learner_name}.recorder.plot() to see the graph.\n"
     ]
    }
   ],
   "source": [
    "learn.lr_find()"
   ]
  },
  {
   "cell_type": "code",
   "execution_count": 0,
   "metadata": {
    "colab": {
     "base_uri": "https://localhost:8080/",
     "height": 283
    },
    "colab_type": "code",
    "id": "BlhYj5HaeC7h",
    "outputId": "831b37e8-1f29-466d-b53a-c67c4d1c3f7e"
   },
   "outputs": [
    {
     "data": {
      "image/png": "[encoded data removed]",
      "text/plain": [
       "<Figure size 432x288 with 1 Axes>"
      ]
     },
     "metadata": {
      "tags": []
     },
     "output_type": "display_data"
    }
   ],
   "source": [
    "learn.recorder.plot()"
   ]
  },
  {
   "cell_type": "code",
   "execution_count": 0,
   "metadata": {
    "colab": {
     "base_uri": "https://localhost:8080/",
     "height": 143
    },
    "colab_type": "code",
    "id": "oQj7UDj6eSY-",
    "outputId": "60a109da-6ebf-4fdb-ae95-03fe8c93a1cf"
   },
   "outputs": [
    {
     "data": {
      "text/html": [
       "<table border=\"1\" class=\"dataframe\">\n",
       "  <thead>\n",
       "    <tr style=\"text-align: left;\">\n",
       "      <th>epoch</th>\n",
       "      <th>train_loss</th>\n",
       "      <th>valid_loss</th>\n",
       "      <th>accuracy</th>\n",
       "      <th>time</th>\n",
       "    </tr>\n",
       "  </thead>\n",
       "  <tbody>\n",
       "    <tr>\n",
       "      <td>0</td>\n",
       "      <td>1.103808</td>\n",
       "      <td>1.835753</td>\n",
       "      <td>0.369231</td>\n",
       "      <td>00:09</td>\n",
       "    </tr>\n",
       "    <tr>\n",
       "      <td>1</td>\n",
       "      <td>1.155479</td>\n",
       "      <td>1.762476</td>\n",
       "      <td>0.411538</td>\n",
       "      <td>00:09</td>\n",
       "    </tr>\n",
       "    <tr>\n",
       "      <td>2</td>\n",
       "      <td>0.837300</td>\n",
       "      <td>1.726216</td>\n",
       "      <td>0.407692</td>\n",
       "      <td>00:09</td>\n",
       "    </tr>\n",
       "  </tbody>\n",
       "</table>"
      ],
      "text/plain": [
       "<IPython.core.display.HTML object>"
      ]
     },
     "metadata": {
      "tags": []
     },
     "output_type": "display_data"
    }
   ],
   "source": [
    "learn.fit_one_cycle(3,max_lr=slice(8e-4,2e-3))"
   ]
  },
  {
   "cell_type": "markdown",
   "metadata": {
    "colab_type": "text",
    "id": "0mFPTBIWfz_8"
   },
   "source": [
    "0-Neutral 1-Happy 2-sad 3-angry 4-fearful 5-disgust 6-surprised "
   ]
  },
  {
   "cell_type": "code",
   "execution_count": 0,
   "metadata": {
    "colab": {
     "base_uri": "https://localhost:8080/",
     "height": 359
    },
    "colab_type": "code",
    "id": "R1IRbxTpgNBC",
    "outputId": "dc950f42-71a5-4b21-d143-522c8c78e771"
   },
   "outputs": [
    {
     "data": {
      "text/html": [
       "<table border=\"1\" class=\"dataframe\">\n",
       "  <thead>\n",
       "    <tr style=\"text-align: left;\">\n",
       "      <th>epoch</th>\n",
       "      <th>train_loss</th>\n",
       "      <th>valid_loss</th>\n",
       "      <th>accuracy</th>\n",
       "      <th>time</th>\n",
       "    </tr>\n",
       "  </thead>\n",
       "  <tbody>\n",
       "    <tr>\n",
       "      <td>0</td>\n",
       "      <td>0.103453</td>\n",
       "      <td>1.074876</td>\n",
       "      <td>0.663462</td>\n",
       "      <td>00:23</td>\n",
       "    </tr>\n",
       "    <tr>\n",
       "      <td>1</td>\n",
       "      <td>0.262514</td>\n",
       "      <td>1.354884</td>\n",
       "      <td>0.621154</td>\n",
       "      <td>00:23</td>\n",
       "    </tr>\n",
       "    <tr>\n",
       "      <td>2</td>\n",
       "      <td>0.365549</td>\n",
       "      <td>1.617003</td>\n",
       "      <td>0.594231</td>\n",
       "      <td>00:23</td>\n",
       "    </tr>\n",
       "    <tr>\n",
       "      <td>3</td>\n",
       "      <td>0.301344</td>\n",
       "      <td>1.205544</td>\n",
       "      <td>0.621154</td>\n",
       "      <td>00:23</td>\n",
       "    </tr>\n",
       "    <tr>\n",
       "      <td>4</td>\n",
       "      <td>0.268760</td>\n",
       "      <td>1.472892</td>\n",
       "      <td>0.592308</td>\n",
       "      <td>00:23</td>\n",
       "    </tr>\n",
       "    <tr>\n",
       "      <td>5</td>\n",
       "      <td>0.167061</td>\n",
       "      <td>0.993117</td>\n",
       "      <td>0.661538</td>\n",
       "      <td>00:23</td>\n",
       "    </tr>\n",
       "    <tr>\n",
       "      <td>6</td>\n",
       "      <td>0.099233</td>\n",
       "      <td>1.221733</td>\n",
       "      <td>0.642308</td>\n",
       "      <td>00:23</td>\n",
       "    </tr>\n",
       "    <tr>\n",
       "      <td>7</td>\n",
       "      <td>0.053559</td>\n",
       "      <td>1.276873</td>\n",
       "      <td>0.636538</td>\n",
       "      <td>00:23</td>\n",
       "    </tr>\n",
       "    <tr>\n",
       "      <td>8</td>\n",
       "      <td>0.027164</td>\n",
       "      <td>1.176638</td>\n",
       "      <td>0.648077</td>\n",
       "      <td>00:23</td>\n",
       "    </tr>\n",
       "    <tr>\n",
       "      <td>9</td>\n",
       "      <td>0.020239</td>\n",
       "      <td>1.166791</td>\n",
       "      <td>0.659615</td>\n",
       "      <td>00:23</td>\n",
       "    </tr>\n",
       "  </tbody>\n",
       "</table>"
      ],
      "text/plain": [
       "<IPython.core.display.HTML object>"
      ]
     },
     "metadata": {
      "tags": []
     },
     "output_type": "display_data"
    }
   ],
   "source": [
    "learn.fit_one_cycle(10,max_lr=slice(3e-4,1e-3))"
   ]
  },
  {
   "cell_type": "code",
   "execution_count": 0,
   "metadata": {
    "colab": {},
    "colab_type": "code",
    "id": "A8AfgeoEgtUV"
   },
   "outputs": [],
   "source": [
    "learn.save('stage1_ravdess')"
   ]
  },
  {
   "cell_type": "code",
   "execution_count": 0,
   "metadata": {
    "colab": {},
    "colab_type": "code",
    "id": "rdDL2D5zhuWg"
   },
   "outputs": [],
   "source": [
    "!unzip 'drive/My Drive/torontov2.zip' "
   ]
  },
  {
   "cell_type": "code",
   "execution_count": 0,
   "metadata": {
    "colab": {},
    "colab_type": "code",
    "id": "8OICtJccmPN2"
   },
   "outputs": [],
   "source": [
    "# !zip -r model.zip image_data/models"
   ]
  },
  {
   "cell_type": "code",
   "execution_count": 0,
   "metadata": {
    "colab": {},
    "colab_type": "code",
    "id": "dGhzj8C1O8mR"
   },
   "outputs": [],
   "source": [
    "TRAIN_AUDIO_PATH = (f'{\"toronto/\"}')\n",
    "VALID_AUDIO_PATH = (f'{\"audio_data/test/\"}')\n",
    "TRAIN_IMAGE_PATH = (f'{\"image_data/train/\"}')\n",
    "VALID_IMAGE_PATH = (f'{\"image_data/test/\"}')\n",
    "TRAIN_AUDIO_PATH, VALID_AUDIO_PATH"
   ]
  },
  {
   "cell_type": "code",
   "execution_count": 0,
   "metadata": {
    "colab": {},
    "colab_type": "code",
    "id": "jmQsXakLPVmd"
   },
   "outputs": [],
   "source": [
    "# !zip -r image_data.zip image_data"
   ]
  },
  {
   "cell_type": "code",
   "execution_count": 0,
   "metadata": {
    "colab": {},
    "colab_type": "code",
    "id": "Ty0SUcMdPwtk"
   },
   "outputs": [],
   "source": [
    "def log_mel_spec_tfm(fname, src_path, dst_path):\n",
    "    filename = f'{src_path}{fname}'\n",
    "#     print(filename)\n",
    "    x, sample_rate = librosa.load(filename)\n",
    "#     f = list(fname)\n",
    "#     rank = int(f[7])\n",
    "#     if rank>1:\n",
    "#       rank-=1\n",
    "#     f[7] = str(rank)\n",
    "#     fname = \"\".join(f)\n",
    "    n_fft = 1024\n",
    "    hop_length = 256\n",
    "    n_mels = 40\n",
    "    fmin = 20\n",
    "    fmax = sample_rate / 2 \n",
    "    \n",
    "    mel_spec_power = librosa.feature.melspectrogram(x, sr=sample_rate, n_fft=n_fft, \n",
    "                                                    hop_length=hop_length, \n",
    "                                                    n_mels=n_mels, power=2.0, \n",
    "                                                    fmin=fmin, fmax=fmax)\n",
    "    mel_spec_db = librosa.power_to_db(mel_spec_power, ref=np.max)\n",
    "#     dst_fname = dst_path / (fname[:-4] + '.png')\n",
    "    dst_fname = f'{dst_path}{fname[:-4]}{\".png\"}'\n",
    "    plt.imsave(dst_fname, mel_spec_db)"
   ]
  },
  {
   "cell_type": "code",
   "execution_count": 0,
   "metadata": {
    "colab": {},
    "colab_type": "code",
    "id": "54O2XmgdOxwv"
   },
   "outputs": [],
   "source": [
    "for folder in os.listdir('toronto'):\n",
    "  for file in os.listdir(f'{\"toronto/\"}{folder}'):\n",
    "    log_mel_spec_tfm(file, f'{\"toronto/\"}{folder}{\"/\"}', f'{\"toronto_images/\"}{folder}{\"/\"}')"
   ]
  },
  {
   "cell_type": "markdown",
   "metadata": {
    "colab_type": "text",
    "id": "bmXfKTgUzrfA"
   },
   "source": [
    "TESS DATASET"
   ]
  },
  {
   "cell_type": "code",
   "execution_count": 0,
   "metadata": {
    "colab": {},
    "colab_type": "code",
    "id": "d8qdtJ5qFRwS"
   },
   "outputs": [],
   "source": [
    "\n",
    "# def func(file_path): return str(file_path)[-17]\n",
    "src = (ImageList.from_folder('toronto_images')\n",
    "                .split_by_rand_pct(valid_pct=0.2, seed=46)\n",
    "                .label_from_folder())\n",
    "tfms = None # or tfms=None if none are needed\n",
    "size=(40,265)# or (400,224)\n",
    "data = src.transform(tfms=tfms, size=size, resize_method=ResizeMethod.SQUISH).databunch(bs=10, num_workers=16).normalize()"
   ]
  },
  {
   "cell_type": "code",
   "execution_count": 0,
   "metadata": {
    "colab": {
     "base_uri": "https://localhost:8080/",
     "height": 34
    },
    "colab_type": "code",
    "id": "LpqWcIdJN6p1",
    "outputId": "a626620f-3d9e-4306-eb0c-9789f158165b"
   },
   "outputs": [
    {
     "data": {
      "text/plain": [
       "(7, ['0', '1', '2', '3', '4', '5', '6'])"
      ]
     },
     "execution_count": 208,
     "metadata": {
      "tags": []
     },
     "output_type": "execute_result"
    }
   ],
   "source": [
    "data.c, data.classes"
   ]
  },
  {
   "cell_type": "code",
   "execution_count": 0,
   "metadata": {
    "colab": {},
    "colab_type": "code",
    "id": "BeDFhLWMdWJP"
   },
   "outputs": [],
   "source": [
    "!cp image_data/models/stage1_ravdess.pth toronto_images/models\n"
   ]
  },
  {
   "cell_type": "code",
   "execution_count": 0,
   "metadata": {
    "colab": {
     "base_uri": "https://localhost:8080/",
     "height": 143
    },
    "colab_type": "code",
    "id": "SKvjGWJXcjB-",
    "outputId": "bb2af05c-2de0-462c-a663-8dc4692f73d9"
   },
   "outputs": [
    {
     "data": {
      "text/html": [
       "<table border=\"1\" class=\"dataframe\">\n",
       "  <thead>\n",
       "    <tr style=\"text-align: left;\">\n",
       "      <th>epoch</th>\n",
       "      <th>train_loss</th>\n",
       "      <th>valid_loss</th>\n",
       "      <th>accuracy</th>\n",
       "      <th>time</th>\n",
       "    </tr>\n",
       "  </thead>\n",
       "  <tbody>\n",
       "    <tr>\n",
       "      <td>0</td>\n",
       "      <td>0.702320</td>\n",
       "      <td>0.263767</td>\n",
       "      <td>0.919786</td>\n",
       "      <td>00:18</td>\n",
       "    </tr>\n",
       "    <tr>\n",
       "      <td>1</td>\n",
       "      <td>0.355759</td>\n",
       "      <td>0.137691</td>\n",
       "      <td>0.953654</td>\n",
       "      <td>00:18</td>\n",
       "    </tr>\n",
       "    <tr>\n",
       "      <td>2</td>\n",
       "      <td>0.220572</td>\n",
       "      <td>0.109496</td>\n",
       "      <td>0.967914</td>\n",
       "      <td>00:18</td>\n",
       "    </tr>\n",
       "  </tbody>\n",
       "</table>"
      ],
      "text/plain": [
       "<IPython.core.display.HTML object>"
      ]
     },
     "metadata": {
      "tags": []
     },
     "output_type": "display_data"
    }
   ],
   "source": [
    "learn = cnn_learner(data, models.resnet34, metrics=accuracy)\n",
    "learn.load(\"stage1_ravdess\")\n",
    "learn.fit_one_cycle(3)"
   ]
  },
  {
   "cell_type": "code",
   "execution_count": 0,
   "metadata": {
    "colab": {
     "base_uri": "https://localhost:8080/",
     "height": 34
    },
    "colab_type": "code",
    "id": "gXnytbf3dJ8r",
    "outputId": "71e2921e-0d51-4eab-e988-415202a15146"
   },
   "outputs": [
    {
     "data": {
      "text/html": [],
      "text/plain": [
       "<IPython.core.display.HTML object>"
      ]
     },
     "metadata": {
      "tags": []
     },
     "output_type": "display_data"
    },
    {
     "name": "stdout",
     "output_type": "stream",
     "text": [
      "LR Finder is complete, type {learner_name}.recorder.plot() to see the graph.\n"
     ]
    }
   ],
   "source": [
    "learn.lr_find()"
   ]
  },
  {
   "cell_type": "code",
   "execution_count": 0,
   "metadata": {
    "colab": {
     "base_uri": "https://localhost:8080/",
     "height": 283
    },
    "colab_type": "code",
    "id": "19FoIusmeYtY",
    "outputId": "8e58f563-ab5b-41f1-f633-276ce4a884c6"
   },
   "outputs": [
    {
     "data": {
      "image/png": "[encoded data removed]",
      "text/plain": [
       "<Figure size 432x288 with 1 Axes>"
      ]
     },
     "metadata": {
      "tags": []
     },
     "output_type": "display_data"
    }
   ],
   "source": [
    "learn.recorder.plot()"
   ]
  },
  {
   "cell_type": "code",
   "execution_count": 0,
   "metadata": {
    "colab": {
     "base_uri": "https://localhost:8080/",
     "height": 143
    },
    "colab_type": "code",
    "id": "HSgLhlj6emc1",
    "outputId": "4f8c4f01-5158-42df-ce42-c2d8ec6a4202"
   },
   "outputs": [
    {
     "data": {
      "text/html": [
       "<table border=\"1\" class=\"dataframe\">\n",
       "  <thead>\n",
       "    <tr style=\"text-align: left;\">\n",
       "      <th>epoch</th>\n",
       "      <th>train_loss</th>\n",
       "      <th>valid_loss</th>\n",
       "      <th>accuracy</th>\n",
       "      <th>time</th>\n",
       "    </tr>\n",
       "  </thead>\n",
       "  <tbody>\n",
       "    <tr>\n",
       "      <td>0</td>\n",
       "      <td>0.198327</td>\n",
       "      <td>0.077266</td>\n",
       "      <td>0.975045</td>\n",
       "      <td>00:18</td>\n",
       "    </tr>\n",
       "    <tr>\n",
       "      <td>1</td>\n",
       "      <td>0.162088</td>\n",
       "      <td>0.052106</td>\n",
       "      <td>0.985740</td>\n",
       "      <td>00:18</td>\n",
       "    </tr>\n",
       "    <tr>\n",
       "      <td>2</td>\n",
       "      <td>0.118277</td>\n",
       "      <td>0.041186</td>\n",
       "      <td>0.989305</td>\n",
       "      <td>00:18</td>\n",
       "    </tr>\n",
       "  </tbody>\n",
       "</table>"
      ],
      "text/plain": [
       "<IPython.core.display.HTML object>"
      ]
     },
     "metadata": {
      "tags": []
     },
     "output_type": "display_data"
    }
   ],
   "source": [
    "learn.fit_one_cycle(3,max_lr=slice(3e-4,7e-4))"
   ]
  },
  {
   "cell_type": "code",
   "execution_count": 0,
   "metadata": {
    "colab": {},
    "colab_type": "code",
    "id": "yQ0srglae5Ji"
   },
   "outputs": [],
   "source": [
    "learn.save(\"stage1_ravdess_tess\")"
   ]
  },
  {
   "cell_type": "code",
   "execution_count": 0,
   "metadata": {
    "colab": {},
    "colab_type": "code",
    "id": "-RtRN0rQlS1J"
   },
   "outputs": [],
   "source": [
    "!cp toronto_images/models/stage1_ravdess_tess.pth image_data/models"
   ]
  },
  {
   "cell_type": "code",
   "execution_count": 0,
   "metadata": {
    "colab": {},
    "colab_type": "code",
    "id": "GEeUyHYNhjs-"
   },
   "outputs": [],
   "source": [
    "preds,y,losses = learn.get_preds(with_loss=True)\n",
    "interp = ClassificationInterpretation(learn, preds, y, losses)"
   ]
  },
  {
   "cell_type": "code",
   "execution_count": 0,
   "metadata": {
    "colab": {
     "base_uri": "https://localhost:8080/",
     "height": 311
    },
    "colab_type": "code",
    "id": "CSc-cApaifxB",
    "outputId": "f01de541-829f-4e9e-8cf1-ee6e92d03f36"
   },
   "outputs": [
    {
     "data": {
      "image/png": "[encoded data removed]",
      "text/plain": [
       "<Figure size 432x288 with 1 Axes>"
      ]
     },
     "metadata": {
      "tags": []
     },
     "output_type": "display_data"
    }
   ],
   "source": [
    "interp.plot_confusion_matrix()"
   ]
  },
  {
   "cell_type": "markdown",
   "metadata": {
    "colab_type": "text",
    "id": "u0eeg3qi0hxH"
   },
   "source": [
    "RAVDESS DATA"
   ]
  },
  {
   "cell_type": "code",
   "execution_count": 0,
   "metadata": {
    "colab": {},
    "colab_type": "code",
    "id": "vfSnfkzhijf5"
   },
   "outputs": [],
   "source": [
    "# def func(file_path): return str(file_path)[-17]\n",
    "src = (ImageList.from_folder('image_data')\n",
    "            .split_by_folder('train','test')\n",
    "            .label_from_func(func))\n",
    "tfms = None # or tfms=None if none are needed\n",
    "size=(40,265)# or (400,224)\n",
    "data = src.transform(tfms=tfms, size=size, resize_method=ResizeMethod.SQUISH).databunch(bs=10, num_workers=16).normalize()"
   ]
  },
  {
   "cell_type": "code",
   "execution_count": 0,
   "metadata": {
    "colab": {},
    "colab_type": "code",
    "id": "edMBfBiAyxXB"
   },
   "outputs": [],
   "source": [
    "learn = cnn_learner(data, models.resnet34, metrics=accuracy)\n",
    "learn.load(\"stage1_ravdess_tess\")"
   ]
  },
  {
   "cell_type": "code",
   "execution_count": 0,
   "metadata": {
    "colab": {},
    "colab_type": "code",
    "id": "YxbShzvzBURG"
   },
   "outputs": [],
   "source": [
    "learn.export('export.pkl')"
   ]
  },
  {
   "cell_type": "code",
   "execution_count": 0,
   "metadata": {
    "colab": {
     "base_uri": "https://localhost:8080/",
     "height": 34
    },
    "colab_type": "code",
    "id": "491WWlNrjPx7",
    "outputId": "1e57b7d7-92cc-455b-a40f-753f11a6273b"
   },
   "outputs": [
    {
     "data": {
      "text/plain": [
       "tensor(0.1808)"
      ]
     },
     "execution_count": 202,
     "metadata": {
      "tags": []
     },
     "output_type": "execute_result"
    }
   ],
   "source": [
    "preds,y,losses = learn.get_preds(with_loss=True)\n",
    "interp = ClassificationInterpretation(learn, preds, y, losses)\n",
    "accuracy(preds,y)"
   ]
  },
  {
   "cell_type": "code",
   "execution_count": 0,
   "metadata": {
    "colab": {
     "base_uri": "https://localhost:8080/",
     "height": 269
    },
    "colab_type": "code",
    "id": "oMr3OZSLjbg8",
    "outputId": "875584d9-4c3e-4977-86a6-12130ee03fc5"
   },
   "outputs": [
    {
     "data": {
      "text/html": [
       "<table border=\"1\" class=\"dataframe\">\n",
       "  <thead>\n",
       "    <tr style=\"text-align: left;\">\n",
       "      <th>epoch</th>\n",
       "      <th>train_loss</th>\n",
       "      <th>valid_loss</th>\n",
       "      <th>accuracy</th>\n",
       "      <th>time</th>\n",
       "    </tr>\n",
       "  </thead>\n",
       "  <tbody>\n",
       "    <tr>\n",
       "      <td>epoch</td>\n",
       "      <td>train_loss</td>\n",
       "      <td>valid_loss</td>\n",
       "      <td>accuracy</td>\n",
       "      <td>time</td>\n",
       "    </tr>\n",
       "    <tr>\n",
       "      <td>0</td>\n",
       "      <td>1.685249</td>\n",
       "      <td>1.869229</td>\n",
       "      <td>0.419231</td>\n",
       "      <td>00:09</td>\n",
       "    </tr>\n",
       "    <tr>\n",
       "      <td>0</td>\n",
       "      <td>1.685249</td>\n",
       "      <td>1.869229</td>\n",
       "      <td>0.419231</td>\n",
       "      <td>00:09</td>\n",
       "    </tr>\n",
       "    <tr>\n",
       "      <td>1</td>\n",
       "      <td>1.100593</td>\n",
       "      <td>1.784821</td>\n",
       "      <td>0.453846</td>\n",
       "      <td>00:09</td>\n",
       "    </tr>\n",
       "    <tr>\n",
       "      <td>1</td>\n",
       "      <td>1.100593</td>\n",
       "      <td>1.784821</td>\n",
       "      <td>0.453846</td>\n",
       "      <td>00:09</td>\n",
       "    </tr>\n",
       "    <tr>\n",
       "      <td>2</td>\n",
       "      <td>0.851436</td>\n",
       "      <td>1.774948</td>\n",
       "      <td>0.465385</td>\n",
       "      <td>00:09</td>\n",
       "    </tr>\n",
       "    <tr>\n",
       "      <td>2</td>\n",
       "      <td>0.851436</td>\n",
       "      <td>1.774948</td>\n",
       "      <td>0.465385</td>\n",
       "      <td>00:09</td>\n",
       "    </tr>\n",
       "  </tbody>\n",
       "</table>"
      ],
      "text/plain": [
       "<IPython.core.display.HTML object>"
      ]
     },
     "metadata": {
      "tags": []
     },
     "output_type": "display_data"
    }
   ],
   "source": [
    "learn.fit_one_cycle(3)"
   ]
  },
  {
   "cell_type": "code",
   "execution_count": 0,
   "metadata": {
    "colab": {},
    "colab_type": "code",
    "id": "LzcKz9KokKPS"
   },
   "outputs": [],
   "source": [
    "learn.save(\"stage2_ravdess_tess_ravdess\")"
   ]
  },
  {
   "cell_type": "code",
   "execution_count": 0,
   "metadata": {
    "colab": {},
    "colab_type": "code",
    "id": "dKbUfzvizWSg"
   },
   "outputs": [],
   "source": [
    "!cp image_data/models/stage2_ravdess_tess_ravdess.pth toronto_images/models"
   ]
  },
  {
   "cell_type": "code",
   "execution_count": 0,
   "metadata": {
    "colab": {},
    "colab_type": "code",
    "id": "I2-njLSyBrv5"
   },
   "outputs": [],
   "source": []
  },
  {
   "cell_type": "code",
   "execution_count": 0,
   "metadata": {
    "colab": {},
    "colab_type": "code",
    "id": "s7x159klzmTE"
   },
   "outputs": [],
   "source": [
    "learn = cnn_learner(data, models.resnet34, metrics=accuracy)\n",
    "learn.load(\"stage2_ravdess_tess_ravdess\")"
   ]
  },
  {
   "cell_type": "code",
   "execution_count": 0,
   "metadata": {
    "colab": {
     "base_uri": "https://localhost:8080/",
     "height": 34
    },
    "colab_type": "code",
    "id": "oDkvSoSUzwkk",
    "outputId": "166ab743-6949-44e5-ec95-597cf9f93f0a"
   },
   "outputs": [
    {
     "data": {
      "text/plain": [
       "tensor(0.4207)"
      ]
     },
     "execution_count": 210,
     "metadata": {
      "tags": []
     },
     "output_type": "execute_result"
    }
   ],
   "source": [
    "preds,y,losses = learn.get_preds(with_loss=True)\n",
    "interp = ClassificationInterpretation(learn, preds, y, losses)\n",
    "accuracy(preds,y)"
   ]
  },
  {
   "cell_type": "code",
   "execution_count": 0,
   "metadata": {
    "colab": {
     "base_uri": "https://localhost:8080/",
     "height": 269
    },
    "colab_type": "code",
    "id": "NL1wGDLLz0Ca",
    "outputId": "b9041fd7-112c-4abe-80b4-ec0970e86a18"
   },
   "outputs": [
    {
     "data": {
      "text/html": [
       "<table border=\"1\" class=\"dataframe\">\n",
       "  <thead>\n",
       "    <tr style=\"text-align: left;\">\n",
       "      <th>epoch</th>\n",
       "      <th>train_loss</th>\n",
       "      <th>valid_loss</th>\n",
       "      <th>accuracy</th>\n",
       "      <th>time</th>\n",
       "    </tr>\n",
       "  </thead>\n",
       "  <tbody>\n",
       "    <tr>\n",
       "      <td>epoch</td>\n",
       "      <td>train_loss</td>\n",
       "      <td>valid_loss</td>\n",
       "      <td>accuracy</td>\n",
       "      <td>time</td>\n",
       "    </tr>\n",
       "    <tr>\n",
       "      <td>0</td>\n",
       "      <td>0.331311</td>\n",
       "      <td>0.097647</td>\n",
       "      <td>0.969697</td>\n",
       "      <td>00:18</td>\n",
       "    </tr>\n",
       "    <tr>\n",
       "      <td>0</td>\n",
       "      <td>0.331311</td>\n",
       "      <td>0.097647</td>\n",
       "      <td>0.969697</td>\n",
       "      <td>00:18</td>\n",
       "    </tr>\n",
       "    <tr>\n",
       "      <td>1</td>\n",
       "      <td>0.171697</td>\n",
       "      <td>0.057253</td>\n",
       "      <td>0.982175</td>\n",
       "      <td>00:18</td>\n",
       "    </tr>\n",
       "    <tr>\n",
       "      <td>1</td>\n",
       "      <td>0.171697</td>\n",
       "      <td>0.057253</td>\n",
       "      <td>0.982175</td>\n",
       "      <td>00:18</td>\n",
       "    </tr>\n",
       "    <tr>\n",
       "      <td>2</td>\n",
       "      <td>0.158981</td>\n",
       "      <td>0.050759</td>\n",
       "      <td>0.980392</td>\n",
       "      <td>00:18</td>\n",
       "    </tr>\n",
       "    <tr>\n",
       "      <td>2</td>\n",
       "      <td>0.158981</td>\n",
       "      <td>0.050759</td>\n",
       "      <td>0.980392</td>\n",
       "      <td>00:18</td>\n",
       "    </tr>\n",
       "  </tbody>\n",
       "</table>"
      ],
      "text/plain": [
       "<IPython.core.display.HTML object>"
      ]
     },
     "metadata": {
      "tags": []
     },
     "output_type": "display_data"
    }
   ],
   "source": [
    "learn.fit_one_cycle(3)"
   ]
  },
  {
   "cell_type": "code",
   "execution_count": 0,
   "metadata": {
    "colab": {},
    "colab_type": "code",
    "id": "3tLVr6940Dy0"
   },
   "outputs": [],
   "source": [
    "learn.save(\"stage2_ravdess_tess_ravdess_tess\")\n",
    "!cp toronto_images/models/stage2_ravdess_tess_ravdess_tess.pth image_data/models"
   ]
  },
  {
   "cell_type": "code",
   "execution_count": 0,
   "metadata": {
    "colab": {},
    "colab_type": "code",
    "id": "t3sy-AdG0eIl"
   },
   "outputs": [],
   "source": [
    "learn = cnn_learner(data, models.resnet34, metrics=accuracy)\n",
    "learn.load(\"stage2_ravdess_tess_ravdess_tess\")"
   ]
  },
  {
   "cell_type": "code",
   "execution_count": 0,
   "metadata": {
    "colab": {
     "base_uri": "https://localhost:8080/",
     "height": 34
    },
    "colab_type": "code",
    "id": "TNxgwVyH0nYR",
    "outputId": "6c13c550-083d-41b8-d96b-1ea8059961a8"
   },
   "outputs": [
    {
     "data": {
      "text/plain": [
       "tensor(0.1923)"
      ]
     },
     "execution_count": 216,
     "metadata": {
      "tags": []
     },
     "output_type": "execute_result"
    }
   ],
   "source": [
    "preds,y,losses = learn.get_preds(with_loss=True)\n",
    "interp = ClassificationInterpretation(learn, preds, y, losses)\n",
    "accuracy(preds,y)"
   ]
  },
  {
   "cell_type": "code",
   "execution_count": 0,
   "metadata": {
    "colab": {},
    "colab_type": "code",
    "id": "7-mLoTD45AMf"
   },
   "outputs": [],
   "source": [
    "!cp 'drive/My Drive/speaker1.wav' sit_test_samples/\n",
    "!cp 'drive/My Drive/speaker2.wav' sit_test_samples/"
   ]
  },
  {
   "cell_type": "code",
   "execution_count": 0,
   "metadata": {
    "colab": {},
    "colab_type": "code",
    "id": "7TvsJruT5e3r"
   },
   "outputs": [],
   "source": [
    "def log_mel_spec_tfm(fname, src_path, dst_path):\n",
    "    filename = f'{src_path}{fname}'\n",
    "#     print(filename)\n",
    "    x, sample_rate = librosa.load(filename)\n",
    "#     f = list(fname)\n",
    "#     rank = int(f[7])\n",
    "#     if rank>1:\n",
    "#       rank-=1\n",
    "#     f[7] = str(rank)\n",
    "#     fname = \"\".join(f)\n",
    "    n_fft = 1024\n",
    "    hop_length = 256\n",
    "    n_mels = 40\n",
    "    fmin = 20\n",
    "    fmax = sample_rate / 2 \n",
    "    \n",
    "    mel_spec_power = librosa.feature.melspectrogram(x, sr=sample_rate, n_fft=n_fft, \n",
    "                                                    hop_length=hop_length, \n",
    "                                                    n_mels=n_mels, power=2.0, \n",
    "                                                    fmin=fmin, fmax=fmax)\n",
    "    mel_spec_db = librosa.power_to_db(mel_spec_power, ref=np.max)\n",
    "#     dst_fname = dst_path / (fname[:-4] + '.png')\n",
    "    dst_fname = f'{dst_path}{fname[:-4]}{\".png\"}'\n",
    "    plt.imsave(dst_fname, mel_spec_db)"
   ]
  },
  {
   "cell_type": "code",
   "execution_count": 0,
   "metadata": {
    "colab": {},
    "colab_type": "code",
    "id": "yKlQHMsD5hXU"
   },
   "outputs": [],
   "source": [
    "log_mel_spec_tfm('speaker1.wav', 'sit_test_samples/','sit_test_samples/')\n",
    "log_mel_spec_tfm('speaker2.wav', 'sit_test_samples/','sit_test_samples/')"
   ]
  },
  {
   "cell_type": "code",
   "execution_count": 0,
   "metadata": {
    "colab": {},
    "colab_type": "code",
    "id": "FQOOYnuG0tD7"
   },
   "outputs": [],
   "source": [
    "preds,y,losses = learn.get_preds(with_loss=True)\n",
    "interp = ClassificationInterpretation(learn, preds, y, losses)\n",
    "accuracy(preds,y)"
   ]
  },
  {
   "cell_type": "code",
   "execution_count": 0,
   "metadata": {
    "colab": {},
    "colab_type": "code",
    "id": "kr8IDoWL9hQ0"
   },
   "outputs": [],
   "source": [
    "!mv sit_test_samples/speaker1.wav .\n",
    "!mv sit_test_samples/speaker2.wav ."
   ]
  },
  {
   "cell_type": "code",
   "execution_count": 0,
   "metadata": {
    "colab": {},
    "colab_type": "code",
    "id": "pIX16SuA63od"
   },
   "outputs": [],
   "source": [
    "\n",
    "test = (ImageList.from_folder('sit_test_samples'))\n",
    "learn = load_learner(\"toronto_images\",test=test)\n",
    "\n",
    "# tfms = None # or tfms=None if none are needed\n",
    "# size=(40,265)# or (400,224)\n",
    "# data = src.transform(tfms=tfms, size=size, resize_method=ResizeMethod.SQUISH).databunch(bs=1, num_workers=16).normalize()"
   ]
  },
  {
   "cell_type": "code",
   "execution_count": 0,
   "metadata": {
    "colab": {},
    "colab_type": "code",
    "id": "TUcnKZM-A1U7"
   },
   "outputs": [],
   "source": [
    "\n",
    "preds, _ = learn.get_preds(ds_type=DatasetType.Test)\n",
    "# thresh = 0.2\n",
    "# labelled_preds = [' '.join([learn.data.classes[i] for i,p in enumerate(pred) if p > thresh]) for pred in preds]\n",
    "# fnames = [f.name[:-4] for f in learn.data.test_ds.items]\n",
    "# df = pd.DataFrame({'image_name':fnames, 'tags':labelled_preds}, columns=['image_name', 'tags'])\n",
    "# dataframes.append(df)"
   ]
  },
  {
   "cell_type": "code",
   "execution_count": 0,
   "metadata": {
    "colab": {
     "base_uri": "https://localhost:8080/",
     "height": 52
    },
    "colab_type": "code",
    "id": "d1IR_55U7e9v",
    "outputId": "e02d95a6-ca0b-4c92-99e7-88412a7d744d"
   },
   "outputs": [
    {
     "data": {
      "text/plain": [
       "tensor([[0.0614, 0.0866, 0.0486, 0.0318, 0.4191, 0.3129, 0.0396],\n",
       "        [0.0046, 0.0263, 0.0407, 0.0352, 0.4229, 0.4557, 0.0145]])"
      ]
     },
     "execution_count": 264,
     "metadata": {
      "tags": []
     },
     "output_type": "execute_result"
    }
   ],
   "source": [
    "preds"
   ]
  },
  {
   "cell_type": "code",
   "execution_count": 0,
   "metadata": {
    "colab": {},
    "colab_type": "code",
    "id": "Vp46CQgHEOxt"
   },
   "outputs": [],
   "source": []
  }
 ],
 "metadata": {
  "accelerator": "GPU",
  "colab": {
   "name": "fastai_audio_song_speech.ipynb",
   "provenance": []
  },
  "kernelspec": {
   "display_name": "Python 3.5",
   "language": "python",
   "name": "python3"
  },
  "language_info": {
   "codemirror_mode": {
    "name": "ipython",
    "version": 3
   },
   "file_extension": ".py",
   "mimetype": "text/x-python",
   "name": "python",
   "nbconvert_exporter": "python",
   "pygments_lexer": "ipython3",
   "version": "3.5.6"
  }
 },
 "nbformat": 4,
 "nbformat_minor": 1
}
