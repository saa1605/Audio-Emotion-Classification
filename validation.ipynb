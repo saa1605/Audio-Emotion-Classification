{
 "cells": [
  {
   "cell_type": "code",
   "execution_count": 1,
   "metadata": {},
   "outputs": [],
   "source": [
    "import pickle \n",
    "import torch\n",
    "import torch.nn as nn\n",
    "import torch.optim as optim\n",
    "import librosa\n",
    "from torch.utils.data import Dataset, DataLoader\n",
    "from tqdm import tqdm\n",
    "import torch.nn.functional as F\n",
    "import pandas as pd\n",
    "import numpy as np\n",
    "import re\n",
    "import librosa\n",
    "import string\n",
    "import matplotlib.pyplot as plt\n",
    "import os\n",
    "import noisereduce as nr\n",
    "import IPython\n",
    "from collections import Counter\n",
    "from sklearn.metrics import mean_squared_error, accuracy_score\n",
    "\n",
    "torch.manual_seed(10)\n",
    "torch.backends.cudnn.deterministic = True\n",
    "torch.backends.cudnn.benchmark = False\n",
    "np.random.seed(10)"
   ]
  },
  {
   "cell_type": "code",
   "execution_count": 34,
   "metadata": {},
   "outputs": [],
   "source": [
    "from torch.utils.tensorboard import SummaryWriter\n",
    "\n"
   ]
  },
  {
   "cell_type": "code",
   "execution_count": 3,
   "metadata": {},
   "outputs": [],
   "source": [
    "if torch.cuda.is_available():\n",
    "    device=torch.device('cuda:0')\n",
    "else:\n",
    "    device=torch.device('cpu')"
   ]
  },
  {
   "cell_type": "code",
   "execution_count": 4,
   "metadata": {},
   "outputs": [],
   "source": [
    "def setlr(optimizer, lr):\n",
    "    for param_group in optimizer.param_groups:\n",
    "        param_group['lr'] = lr\n",
    "    return optimizer\n",
    "\n",
    "def lr_decay(optimizer, epoch, learning_rate):\n",
    "    if epoch%10==0:\n",
    "        new_lr = learning_rate / (10**(epoch//10))\n",
    "        optimizer = setlr(optimizer, new_lr)\n",
    "        print(\"Changed learning rate to {}\".format(new_lr))\n",
    "    return optimizer"
   ]
  },
  {
   "cell_type": "code",
   "execution_count": 5,
   "metadata": {},
   "outputs": [],
   "source": [
    "BASE = '/data/home/advaitmb/datasets/sentences/'\n",
    "vocab_size = 2255"
   ]
  },
  {
   "cell_type": "code",
   "execution_count": 6,
   "metadata": {},
   "outputs": [
    {
     "data": {
      "text/html": [
       "<div>\n",
       "<style scoped>\n",
       "    .dataframe tbody tr th:only-of-type {\n",
       "        vertical-align: middle;\n",
       "    }\n",
       "\n",
       "    .dataframe tbody tr th {\n",
       "        vertical-align: top;\n",
       "    }\n",
       "\n",
       "    .dataframe thead th {\n",
       "        text-align: right;\n",
       "    }\n",
       "</style>\n",
       "<table border=\"1\" class=\"dataframe\">\n",
       "  <thead>\n",
       "    <tr style=\"text-align: right;\">\n",
       "      <th></th>\n",
       "      <th>index</th>\n",
       "      <th>start_time</th>\n",
       "      <th>end_time</th>\n",
       "      <th>wav_file</th>\n",
       "      <th>emotion</th>\n",
       "      <th>val</th>\n",
       "      <th>act</th>\n",
       "      <th>dom</th>\n",
       "    </tr>\n",
       "  </thead>\n",
       "  <tbody>\n",
       "    <tr>\n",
       "      <th>0</th>\n",
       "      <td>0</td>\n",
       "      <td>6.2901</td>\n",
       "      <td>8.2357</td>\n",
       "      <td>Ses01F_impro01_F000</td>\n",
       "      <td>0</td>\n",
       "      <td>2.5</td>\n",
       "      <td>2.5</td>\n",
       "      <td>2.5</td>\n",
       "    </tr>\n",
       "    <tr>\n",
       "      <th>1</th>\n",
       "      <td>1</td>\n",
       "      <td>10.0100</td>\n",
       "      <td>11.3925</td>\n",
       "      <td>Ses01F_impro01_F001</td>\n",
       "      <td>0</td>\n",
       "      <td>2.5</td>\n",
       "      <td>2.5</td>\n",
       "      <td>2.5</td>\n",
       "    </tr>\n",
       "    <tr>\n",
       "      <th>2</th>\n",
       "      <td>2</td>\n",
       "      <td>14.8872</td>\n",
       "      <td>18.0175</td>\n",
       "      <td>Ses01F_impro01_F002</td>\n",
       "      <td>0</td>\n",
       "      <td>2.5</td>\n",
       "      <td>2.5</td>\n",
       "      <td>2.5</td>\n",
       "    </tr>\n",
       "    <tr>\n",
       "      <th>3</th>\n",
       "      <td>3</td>\n",
       "      <td>27.4600</td>\n",
       "      <td>31.4900</td>\n",
       "      <td>Ses01F_impro01_F005</td>\n",
       "      <td>0</td>\n",
       "      <td>2.5</td>\n",
       "      <td>3.5</td>\n",
       "      <td>2.0</td>\n",
       "    </tr>\n",
       "    <tr>\n",
       "      <th>4</th>\n",
       "      <td>4</td>\n",
       "      <td>85.2700</td>\n",
       "      <td>88.0200</td>\n",
       "      <td>Ses01F_impro01_F012</td>\n",
       "      <td>1</td>\n",
       "      <td>2.0</td>\n",
       "      <td>3.5</td>\n",
       "      <td>3.5</td>\n",
       "    </tr>\n",
       "  </tbody>\n",
       "</table>\n",
       "</div>"
      ],
      "text/plain": [
       "   index  start_time  end_time             wav_file emotion  val  act  dom\n",
       "0      0      6.2901    8.2357  Ses01F_impro01_F000       0  2.5  2.5  2.5\n",
       "1      1     10.0100   11.3925  Ses01F_impro01_F001       0  2.5  2.5  2.5\n",
       "2      2     14.8872   18.0175  Ses01F_impro01_F002       0  2.5  2.5  2.5\n",
       "3      3     27.4600   31.4900  Ses01F_impro01_F005       0  2.5  3.5  2.0\n",
       "4      4     85.2700   88.0200  Ses01F_impro01_F012       1  2.0  3.5  3.5"
      ]
     },
     "execution_count": 6,
     "metadata": {},
     "output_type": "execute_result"
    }
   ],
   "source": [
    "import pandas as pd\n",
    "audio = pd.read_csv('audio_df_improvised.csv')\n",
    "\n",
    "audio.reset_index(inplace=True)\n",
    "audio.emotion = pd.Categorical(pd.factorize(audio.emotion)[0])\n",
    "audio.head()"
   ]
  },
  {
   "cell_type": "code",
   "execution_count": 7,
   "metadata": {},
   "outputs": [],
   "source": [
    "# Generate Spectrogram and Normalize \n",
    "\n",
    "def get_melspectrogram_db(file_path, sr=None, n_fft=2048, hop_length=512, n_mels=128,top_db=80):\n",
    "    wav,sr = librosa.load(file_path,sr=sr)\n",
    "    \n",
    "    if wav.shape[0]<5*sr:\n",
    "        wav=np.pad(wav,int(np.ceil((5*sr-wav.shape[0])/2)),mode='reflect')\n",
    "    else:\n",
    "        wav=wav[:5*sr]\n",
    "    spec=librosa.feature.melspectrogram(wav, sr=sr, n_fft=n_fft,\n",
    "              hop_length=hop_length,n_mels=n_mels)\n",
    "    spec_db=librosa.power_to_db(spec,top_db=top_db)\n",
    "    return spec_db\n",
    "\n",
    "def normalize(spec):\n",
    "    return (spec - spec.mean())/(spec.std())"
   ]
  },
  {
   "cell_type": "code",
   "execution_count": 8,
   "metadata": {},
   "outputs": [],
   "source": [
    "def generate_spectrograms(base, df, in_col, out_col):\n",
    "    data = []\n",
    "    labels = []\n",
    "    for ind in tqdm(range(len(df))):\n",
    "        row = audio.iloc[ind]\n",
    "        file_path = base + row[in_col] + '.wav'\n",
    "        data.append(normalize(get_melspectrogram_db(file_path))[np.newaxis,...])\n",
    "        labels.append(row[out_col])\n",
    "    return (data, labels)"
   ]
  },
  {
   "cell_type": "code",
   "execution_count": 13,
   "metadata": {},
   "outputs": [
    {
     "name": "stderr",
     "output_type": "stream",
     "text": [
      "100%|██████████| 2943/2943 [00:59<00:00, 49.14it/s]\n"
     ]
    }
   ],
   "source": [
    "# Generate Pickel Files \n",
    "import pickle\n",
    "\n",
    "spec = generate_spectrograms(BASE, audio, 'wav_file', 'emotion')\n",
    "\n",
    "with open('spectrograms.pkl', 'wb') as handle:\n",
    "    pickle.dump(spec, handle, protocol=pickle.HIGHEST_PROTOCOL)"
   ]
  },
  {
   "cell_type": "code",
   "execution_count": 46,
   "metadata": {},
   "outputs": [],
   "source": [
    "with open('spectrograms.pkl', 'rb') as handle:\n",
    "    (data, labels) = pickle.load(handle)"
   ]
  },
  {
   "cell_type": "code",
   "execution_count": 47,
   "metadata": {},
   "outputs": [],
   "source": [
    "data = np.array(data)\n",
    "labels = np.array(labels)"
   ]
  },
  {
   "cell_type": "code",
   "execution_count": 48,
   "metadata": {},
   "outputs": [
    {
     "data": {
      "text/plain": [
       "(2943, 1, 128, 157)"
      ]
     },
     "execution_count": 48,
     "metadata": {},
     "output_type": "execute_result"
    }
   ],
   "source": [
    "data.shape"
   ]
  },
  {
   "cell_type": "code",
   "execution_count": 49,
   "metadata": {},
   "outputs": [],
   "source": [
    "class Audio(Dataset):\n",
    "    def __init__(self, data, labels):\n",
    "        self.data = data\n",
    "        self.labels = labels\n",
    "    def __len__(self):\n",
    "        return len(self.data)\n",
    "    def __getitem__(self, idx):\n",
    "        return self.data[idx], self.labels[idx]"
   ]
  },
  {
   "cell_type": "markdown",
   "metadata": {},
   "source": [
    "Text Setup"
   ]
  },
  {
   "cell_type": "code",
   "execution_count": 7,
   "metadata": {},
   "outputs": [
    {
     "data": {
      "text/html": [
       "<div>\n",
       "<style scoped>\n",
       "    .dataframe tbody tr th:only-of-type {\n",
       "        vertical-align: middle;\n",
       "    }\n",
       "\n",
       "    .dataframe tbody tr th {\n",
       "        vertical-align: top;\n",
       "    }\n",
       "\n",
       "    .dataframe thead th {\n",
       "        text-align: right;\n",
       "    }\n",
       "</style>\n",
       "<table border=\"1\" class=\"dataframe\">\n",
       "  <thead>\n",
       "    <tr style=\"text-align: right;\">\n",
       "      <th></th>\n",
       "      <th>wav_file</th>\n",
       "      <th>emotion</th>\n",
       "      <th>transcription</th>\n",
       "    </tr>\n",
       "  </thead>\n",
       "  <tbody>\n",
       "    <tr>\n",
       "      <th>0</th>\n",
       "      <td>Ses01F_impro01_F000</td>\n",
       "      <td>0</td>\n",
       "      <td>excuse me .</td>\n",
       "    </tr>\n",
       "    <tr>\n",
       "      <th>1</th>\n",
       "      <td>Ses01F_impro01_F001</td>\n",
       "      <td>0</td>\n",
       "      <td>yeah .</td>\n",
       "    </tr>\n",
       "    <tr>\n",
       "      <th>2</th>\n",
       "      <td>Ses01F_impro01_F002</td>\n",
       "      <td>0</td>\n",
       "      <td>is there a problem ?</td>\n",
       "    </tr>\n",
       "    <tr>\n",
       "      <th>3</th>\n",
       "      <td>Ses01F_impro01_F005</td>\n",
       "      <td>0</td>\n",
       "      <td>well what s the problem ? let me change it .</td>\n",
       "    </tr>\n",
       "    <tr>\n",
       "      <th>4</th>\n",
       "      <td>Ses01F_impro01_F012</td>\n",
       "      <td>1</td>\n",
       "      <td>that s out of control .</td>\n",
       "    </tr>\n",
       "  </tbody>\n",
       "</table>\n",
       "</div>"
      ],
      "text/plain": [
       "              wav_file emotion                                 transcription\n",
       "0  Ses01F_impro01_F000       0                                   excuse me .\n",
       "1  Ses01F_impro01_F001       0                                        yeah .\n",
       "2  Ses01F_impro01_F002       0                          is there a problem ?\n",
       "3  Ses01F_impro01_F005       0  well what s the problem ? let me change it .\n",
       "4  Ses01F_impro01_F012       1                       that s out of control ."
      ]
     },
     "execution_count": 7,
     "metadata": {},
     "output_type": "execute_result"
    }
   ],
   "source": [
    "old_text = pd.read_csv('text_df.csv')\n",
    "old_text.emotion = audio.emotion\n",
    "old_text.emotion = pd.Categorical(pd.factorize(old_text.emotion)[0])\n",
    "old_text.head()"
   ]
  },
  {
   "cell_type": "code",
   "execution_count": 8,
   "metadata": {},
   "outputs": [
    {
     "data": {
      "text/html": [
       "<div>\n",
       "<style scoped>\n",
       "    .dataframe tbody tr th:only-of-type {\n",
       "        vertical-align: middle;\n",
       "    }\n",
       "\n",
       "    .dataframe tbody tr th {\n",
       "        vertical-align: top;\n",
       "    }\n",
       "\n",
       "    .dataframe thead th {\n",
       "        text-align: right;\n",
       "    }\n",
       "</style>\n",
       "<table border=\"1\" class=\"dataframe\">\n",
       "  <thead>\n",
       "    <tr style=\"text-align: right;\">\n",
       "      <th></th>\n",
       "      <th>data</th>\n",
       "      <th>label</th>\n",
       "    </tr>\n",
       "  </thead>\n",
       "  <tbody>\n",
       "    <tr>\n",
       "      <th>0</th>\n",
       "      <td>excuse me .</td>\n",
       "      <td>0</td>\n",
       "    </tr>\n",
       "    <tr>\n",
       "      <th>1</th>\n",
       "      <td>yeah .</td>\n",
       "      <td>0</td>\n",
       "    </tr>\n",
       "    <tr>\n",
       "      <th>2</th>\n",
       "      <td>is there a problem ?</td>\n",
       "      <td>0</td>\n",
       "    </tr>\n",
       "    <tr>\n",
       "      <th>3</th>\n",
       "      <td>well what s the problem ? let me change it .</td>\n",
       "      <td>0</td>\n",
       "    </tr>\n",
       "    <tr>\n",
       "      <th>4</th>\n",
       "      <td>that s out of control .</td>\n",
       "      <td>1</td>\n",
       "    </tr>\n",
       "  </tbody>\n",
       "</table>\n",
       "</div>"
      ],
      "text/plain": [
       "                                           data label\n",
       "0                                   excuse me .     0\n",
       "1                                        yeah .     0\n",
       "2                          is there a problem ?     0\n",
       "3  well what s the problem ? let me change it .     0\n",
       "4                       that s out of control .     1"
      ]
     },
     "execution_count": 8,
     "metadata": {},
     "output_type": "execute_result"
    }
   ],
   "source": [
    "text = pd.DataFrame()\n",
    "text['data'] = old_text.transcription\n",
    "text['label'] = old_text.emotion\n",
    "\n",
    "text.head()"
   ]
  },
  {
   "cell_type": "code",
   "execution_count": 9,
   "metadata": {},
   "outputs": [],
   "source": [
    "#tokenization\n",
    "import spacy\n",
    "tok = spacy.load('en')\n",
    "def tokenize (text):\n",
    "    text = re.sub(r\"[^\\x00-\\x7F]+\", \" \", text)\n",
    "    regex = re.compile('[' + re.escape(string.punctuation) + '0-9\\\\r\\\\t\\\\n]') # remove punctuation and numbers\n",
    "    nopunct = regex.sub(\" \", text.lower())\n",
    "    return [token.text for token in tok.tokenizer(nopunct)]\n"
   ]
  },
  {
   "cell_type": "code",
   "execution_count": 10,
   "metadata": {},
   "outputs": [],
   "source": [
    "#count number of occurences of each word\n",
    "counts = Counter()\n",
    "for index, row in text.iterrows():\n",
    "    counts.update(tokenize(row['data']))\n",
    "    \n",
    "    \n",
    "#creating vocabulary\n",
    "vocab2index = {\"\":0, \"UNK\":1}\n",
    "words = [\"\", \"UNK\"]\n",
    "for word in counts:\n",
    "    vocab2index[word] = len(words)\n",
    "    words.append(word)"
   ]
  },
  {
   "cell_type": "code",
   "execution_count": 11,
   "metadata": {},
   "outputs": [],
   "source": [
    "def encode_sentence(text, vocab2index, N=70):\n",
    "    tokenized = tokenize(text)\n",
    "    encoded = np.zeros(N, dtype=int)\n",
    "    enc1 = np.array([vocab2index.get(word, vocab2index[\"UNK\"]) for word in tokenized])\n",
    "    length = min(N, len(enc1))\n",
    "    encoded[:length] = enc1[:length]\n",
    "    return encoded, length"
   ]
  },
  {
   "cell_type": "code",
   "execution_count": 12,
   "metadata": {},
   "outputs": [
    {
     "data": {
      "text/html": [
       "<div>\n",
       "<style scoped>\n",
       "    .dataframe tbody tr th:only-of-type {\n",
       "        vertical-align: middle;\n",
       "    }\n",
       "\n",
       "    .dataframe tbody tr th {\n",
       "        vertical-align: top;\n",
       "    }\n",
       "\n",
       "    .dataframe thead th {\n",
       "        text-align: right;\n",
       "    }\n",
       "</style>\n",
       "<table border=\"1\" class=\"dataframe\">\n",
       "  <thead>\n",
       "    <tr style=\"text-align: right;\">\n",
       "      <th></th>\n",
       "      <th>data</th>\n",
       "      <th>label</th>\n",
       "      <th>encoded_data</th>\n",
       "    </tr>\n",
       "  </thead>\n",
       "  <tbody>\n",
       "    <tr>\n",
       "      <th>0</th>\n",
       "      <td>excuse me .</td>\n",
       "      <td>0</td>\n",
       "      <td>[[2, 3, 4, 0, 0, 0, 0, 0, 0, 0, 0, 0, 0, 0, 0,...</td>\n",
       "    </tr>\n",
       "    <tr>\n",
       "      <th>1</th>\n",
       "      <td>yeah .</td>\n",
       "      <td>0</td>\n",
       "      <td>[[5, 4, 0, 0, 0, 0, 0, 0, 0, 0, 0, 0, 0, 0, 0,...</td>\n",
       "    </tr>\n",
       "    <tr>\n",
       "      <th>2</th>\n",
       "      <td>is there a problem ?</td>\n",
       "      <td>0</td>\n",
       "      <td>[[6, 7, 8, 9, 4, 0, 0, 0, 0, 0, 0, 0, 0, 0, 0,...</td>\n",
       "    </tr>\n",
       "    <tr>\n",
       "      <th>3</th>\n",
       "      <td>well what s the problem ? let me change it .</td>\n",
       "      <td>0</td>\n",
       "      <td>[[10, 11, 12, 13, 9, 14, 15, 3, 16, 17, 4, 0, ...</td>\n",
       "    </tr>\n",
       "    <tr>\n",
       "      <th>4</th>\n",
       "      <td>that s out of control .</td>\n",
       "      <td>1</td>\n",
       "      <td>[[18, 12, 19, 20, 21, 4, 0, 0, 0, 0, 0, 0, 0, ...</td>\n",
       "    </tr>\n",
       "  </tbody>\n",
       "</table>\n",
       "</div>"
      ],
      "text/plain": [
       "                                           data label  \\\n",
       "0                                   excuse me .     0   \n",
       "1                                        yeah .     0   \n",
       "2                          is there a problem ?     0   \n",
       "3  well what s the problem ? let me change it .     0   \n",
       "4                       that s out of control .     1   \n",
       "\n",
       "                                        encoded_data  \n",
       "0  [[2, 3, 4, 0, 0, 0, 0, 0, 0, 0, 0, 0, 0, 0, 0,...  \n",
       "1  [[5, 4, 0, 0, 0, 0, 0, 0, 0, 0, 0, 0, 0, 0, 0,...  \n",
       "2  [[6, 7, 8, 9, 4, 0, 0, 0, 0, 0, 0, 0, 0, 0, 0,...  \n",
       "3  [[10, 11, 12, 13, 9, 14, 15, 3, 16, 17, 4, 0, ...  \n",
       "4  [[18, 12, 19, 20, 21, 4, 0, 0, 0, 0, 0, 0, 0, ...  "
      ]
     },
     "execution_count": 12,
     "metadata": {},
     "output_type": "execute_result"
    }
   ],
   "source": [
    "text['encoded_data'] = text['data'].apply(lambda x: np.array(encode_sentence(x,vocab2index )))\n",
    "text.head()"
   ]
  },
  {
   "cell_type": "code",
   "execution_count": 19,
   "metadata": {},
   "outputs": [
    {
     "data": {
      "text/plain": [
       "array([array([84, 45, 85, 33, 11, 42, 86,  4,  0,  0,  0,  0,  0,  0,  0,  0,  0,\n",
       "        0,  0,  0,  0,  0,  0,  0,  0,  0,  0,  0,  0,  0,  0,  0,  0,  0,\n",
       "        0,  0,  0,  0,  0,  0,  0,  0,  0,  0,  0,  0,  0,  0,  0,  0,  0,\n",
       "        0,  0,  0,  0,  0,  0,  0,  0,  0,  0,  0,  0,  0,  0,  0,  0,  0,\n",
       "        0,  0]),\n",
       "       8], dtype=object)"
      ]
     },
     "execution_count": 19,
     "metadata": {},
     "output_type": "execute_result"
    }
   ],
   "source": [
    "text['encoded_data'][16]"
   ]
  },
  {
   "cell_type": "code",
   "execution_count": 69,
   "metadata": {},
   "outputs": [],
   "source": [
    "text_encodings = (X, y)\n",
    "# # Generate Pickel Files \n",
    "# import pickle\n",
    "\n",
    "with open('text_encodings.pkl', 'wb') as handle:\n",
    "    pickle.dump(text_encodings, handle, protocol=pickle.HIGHEST_PROTOCOL)"
   ]
  },
  {
   "cell_type": "code",
   "execution_count": 47,
   "metadata": {},
   "outputs": [],
   "source": [
    "with open('text_encodings.pkl', 'rb') as handle:\n",
    "    (X, y) = pickle.load(handle)\n",
    "    \n",
    "X = np.array(X)\n",
    "y = np.array(y)"
   ]
  },
  {
   "cell_type": "code",
   "execution_count": 13,
   "metadata": {},
   "outputs": [],
   "source": [
    "X = list(text['encoded_data'])\n",
    "y = list(text['label'])\n",
    "X = np.array(X)\n",
    "y = np.array(y)\n",
    "# from sklearn.model_selection import train_test_split\n",
    "# X_train = X[:2214]\n",
    "# X_valid = X[2214:]\n",
    "# y_train = y[:2214]\n",
    "# y_valid = y[2214:]\n",
    "\n"
   ]
  },
  {
   "cell_type": "code",
   "execution_count": 14,
   "metadata": {},
   "outputs": [],
   "source": [
    "class Text(Dataset):\n",
    "    def __init__(self, X, Y):\n",
    "        self.X = X\n",
    "        self.y = Y\n",
    "        \n",
    "    def __len__(self):\n",
    "        return len(self.y)\n",
    "    \n",
    "    def __getitem__(self, idx):\n",
    "        return torch.from_numpy(self.X[idx][0].astype(np.int32)), self.y[idx], self.X[idx][1]"
   ]
  },
  {
   "cell_type": "code",
   "execution_count": 20,
   "metadata": {},
   "outputs": [
    {
     "data": {
      "text/plain": [
       "2255"
      ]
     },
     "execution_count": 20,
     "metadata": {},
     "output_type": "execute_result"
    }
   ],
   "source": []
  },
  {
   "cell_type": "code",
   "execution_count": 86,
   "metadata": {},
   "outputs": [],
   "source": [
    "\n",
    "train_text = Text(X_train, y_train)\n",
    "valid_text = Text(X_valid, y_valid)\n",
    "\n",
    "\n",
    "\n",
    "batch_size = 1000\n",
    "text_train_loader = DataLoader(train_text, batch_size=batch_size, shuffle=False)\n",
    "text_valid_loader = DataLoader(valid_text, batch_size=batch_size, shuffle=False)"
   ]
  },
  {
   "cell_type": "code",
   "execution_count": 15,
   "metadata": {},
   "outputs": [],
   "source": [
    "def load_glove_vectors(glove_file=\".vector_cache/glove.6B.50d.txt\"):\n",
    "    \"\"\"Load the glove word vectors\"\"\"\n",
    "    word_vectors = {}\n",
    "    with open(glove_file) as f:\n",
    "        for line in f:\n",
    "            split = line.split()\n",
    "            word_vectors[split[0]] = np.array([float(x) for x in split[1:]])\n",
    "    return word_vectors"
   ]
  },
  {
   "cell_type": "code",
   "execution_count": 16,
   "metadata": {},
   "outputs": [],
   "source": [
    "def get_emb_matrix(pretrained, word_counts, emb_size = 50):\n",
    "    \"\"\" Creates embedding matrix from word vectors\"\"\"\n",
    "    vocab_size = len(word_counts) + 2\n",
    "    vocab_to_idx = {}\n",
    "    vocab = [\"\", \"UNK\"]\n",
    "    W = np.zeros((vocab_size, emb_size), dtype=\"float32\")\n",
    "    W[0] = np.zeros(emb_size, dtype='float32') # adding a vector for padding\n",
    "    W[1] = np.random.uniform(-0.25, 0.25, emb_size) # adding a vector for unknown words \n",
    "    vocab_to_idx[\"UNK\"] = 1\n",
    "    i = 2\n",
    "    for word in word_counts:\n",
    "        if word in word_vecs:\n",
    "            W[i] = word_vecs[word]\n",
    "        else:\n",
    "            W[i] = np.random.uniform(-0.25,0.25, emb_size)\n",
    "        vocab_to_idx[word] = i\n",
    "        vocab.append(word)\n",
    "        i += 1   \n",
    "    return W, np.array(vocab), vocab_to_idx"
   ]
  },
  {
   "cell_type": "code",
   "execution_count": 17,
   "metadata": {},
   "outputs": [],
   "source": [
    "word_vecs = load_glove_vectors()\n"
   ]
  },
  {
   "cell_type": "code",
   "execution_count": 18,
   "metadata": {},
   "outputs": [],
   "source": [
    "pretrained_weights, vocab, vocab2index = get_emb_matrix(word_vecs, counts)"
   ]
  },
  {
   "cell_type": "code",
   "execution_count": 19,
   "metadata": {},
   "outputs": [],
   "source": [
    "class LSTM(torch.nn.Module) :\n",
    "    def __init__(self, vocab_size, embedding_dim, hidden_dim, glove_weights) :\n",
    "        super().__init__()\n",
    "        self.embeddings = nn.Embedding(vocab_size, embedding_dim, padding_idx=0)\n",
    "        self.embeddings.weight.data.copy_(torch.from_numpy(glove_weights))\n",
    "        self.embeddings.weight.requires_grad = True \n",
    "        self.lstm = nn.LSTM(embedding_dim, hidden_dim, batch_first=True)\n",
    "        self.linear = nn.Linear(hidden_dim, 4)\n",
    "        self.dropout = nn.Dropout(0.2)\n",
    "        \n",
    "    def forward(self, x, l):\n",
    "        x = self.embeddings(x)\n",
    "        x = self.dropout(x)\n",
    "        lstm_out, (ht, ct) = self.lstm(x)\n",
    "        return self.linear(ht[-1])"
   ]
  },
  {
   "cell_type": "code",
   "execution_count": 20,
   "metadata": {},
   "outputs": [
    {
     "data": {
      "text/plain": [
       "LSTM(\n",
       "  (embeddings): Embedding(2255, 50, padding_idx=0)\n",
       "  (lstm): LSTM(50, 64, batch_first=True)\n",
       "  (linear): Linear(in_features=64, out_features=4, bias=True)\n",
       "  (dropout): Dropout(p=0.2, inplace=False)\n",
       ")"
      ]
     },
     "execution_count": 20,
     "metadata": {},
     "output_type": "execute_result"
    }
   ],
   "source": [
    "lstm = LSTM(vocab_size, 50, 64, pretrained_weights)\n",
    "lstm.to(device)"
   ]
  },
  {
   "cell_type": "code",
   "execution_count": 50,
   "metadata": {},
   "outputs": [],
   "source": [
    "from sklearn.metrics import balanced_accuracy_score\n",
    "from sklearn.metrics import accuracy_score\n",
    "from sklearn.metrics import mean_squared_error"
   ]
  },
  {
   "cell_type": "code",
   "execution_count": 36,
   "metadata": {},
   "outputs": [],
   "source": [
    "def train_text_model(model, loss_fn, train_loader, valid_loader, epochs, learning_rate, optimizer, train_losses, valid_losses, comment, change_lr=None):\n",
    "    print(\"Training Text Model\")\n",
    "#     tb = SummaryWriter(comment=comment)\n",
    "    for epoch in range(1, epochs+1):\n",
    "        model.train()\n",
    "        batch_losses=[]\n",
    "        if change_lr and epoch != 0:\n",
    "            optimizer = change_lr(optimizer, epoch, learning_rate)\n",
    "        for x, y, l in text_train_loader:\n",
    "            x = x.to(device, dtype=torch.long)\n",
    "            y = y.to(device, dtype=torch.long)\n",
    "            y_pred = model(x, l)\n",
    "            optimizer.zero_grad()\n",
    "            loss = loss_fn(y_pred, y)\n",
    "            loss.backward()\n",
    "            optimizer.step()\n",
    "            batch_losses.append(loss.item())\n",
    "            y = y.cpu().detach()\n",
    "        train_losses.append(batch_losses)\n",
    "            \n",
    "        model.eval()\n",
    "        batch_losses=[]\n",
    "        trace_y = []\n",
    "        trace_yhat = []\n",
    "        for x, y, l in text_valid_loader:\n",
    "            x = x.to(device, dtype=torch.long)\n",
    "            y = y.to(device, dtype=torch.long)\n",
    "            y_hat = model(x, l)\n",
    "            loss = loss_fn(y_hat, y)\n",
    "            trace_y.append(y.cpu().detach().numpy())\n",
    "            trace_yhat.append(y_hat.cpu().detach().numpy())      \n",
    "            batch_losses.append(loss.item())\n",
    "\n",
    "        valid_losses.append(batch_losses)\n",
    "        trace_y = np.concatenate(trace_y)\n",
    "        trace_yhat = np.concatenate(trace_yhat)\n",
    "        accuracy = np.mean(trace_yhat.argmax(axis=1)==trace_y)\n",
    "        unweighted_accuracy = accuracy_score( trace_yhat.argmax(axis=1), trace_y )\n",
    "        weighted_accuracy = balanced_accuracy_score( trace_yhat.argmax(axis=1), trace_y )\n",
    "        \n",
    "#         tb.add_scalar(\n",
    "#             'train_loss', np.mean(train_losses[-1]), epoch\n",
    "#         )\n",
    "#         tb.add_scalar(\n",
    "#             'valid_loss', np.mean(valid_losses[-1]), epoch\n",
    "#         )\n",
    "#         tb.add_scalar(\n",
    "#             'Unweighted Accuracy', unweighted_accuracy, epoch\n",
    "#         )     \n",
    "#         tb.add_scalar(\n",
    "#             'Weighted Accuracy', weighted_accuracy, epoch\n",
    "#         )   \n",
    "        if epoch%5 == 0:\n",
    "            print(\"Epoch - {} Train-Loss : {} Valid-Loss : {}\".format(epoch, np.mean(train_losses[-1]), np.mean(valid_losses[-1])))\n",
    "            print(\"unweighted_accuracy : {} weighted_accuracy : {}\".format(unweighted_accuracy, weighted_accuracy ))\n",
    "#         print(\"train loss %.3f, val loss %.3f, val accuracy %.3f, and val rmse %.3f\" % (sum_loss/total, val_loss, val_acc, val_rmse))\n",
    "    return unweighted_accuracy, weighted_accuracy"
   ]
  },
  {
   "cell_type": "code",
   "execution_count": 95,
   "metadata": {},
   "outputs": [],
   "source": [
    "learning_rate = 0.01\n",
    "optimizer = optim.Adam(lstm.parameters(), lr=learning_rate)\n",
    "epochs = 300\n",
    "loss_fn = nn.CrossEntropyLoss()\n",
    "train_losses=[]\n",
    "valid_losses=[]"
   ]
  },
  {
   "cell_type": "code",
   "execution_count": 101,
   "metadata": {},
   "outputs": [
    {
     "name": "stdout",
     "output_type": "stream",
     "text": [
      "Training Text Model\n",
      "Epoch - 5 Train-Loss : 1.4000828266143799 Valid-Loss : 1.4073214530944824\n",
      "unweighted_accuracy : 0.18244170096021947 weighted_accuracy : 0.18244170096021947\n",
      "Epoch - 10 Train-Loss : 1.4000670909881592 Valid-Loss : 1.4073214530944824\n",
      "unweighted_accuracy : 0.18244170096021947 weighted_accuracy : 0.18244170096021947\n",
      "Epoch - 15 Train-Loss : 1.4000750382741292 Valid-Loss : 1.4073214530944824\n",
      "unweighted_accuracy : 0.18244170096021947 weighted_accuracy : 0.18244170096021947\n",
      "Epoch - 20 Train-Loss : 1.4001056750615437 Valid-Loss : 1.4073214530944824\n",
      "unweighted_accuracy : 0.18244170096021947 weighted_accuracy : 0.18244170096021947\n",
      "Epoch - 25 Train-Loss : 1.4000577926635742 Valid-Loss : 1.4073214530944824\n",
      "unweighted_accuracy : 0.18244170096021947 weighted_accuracy : 0.18244170096021947\n",
      "Epoch - 30 Train-Loss : 1.399972677230835 Valid-Loss : 1.4073214530944824\n",
      "unweighted_accuracy : 0.18244170096021947 weighted_accuracy : 0.18244170096021947\n",
      "Epoch - 35 Train-Loss : 1.400027592976888 Valid-Loss : 1.4073214530944824\n",
      "unweighted_accuracy : 0.18244170096021947 weighted_accuracy : 0.18244170096021947\n",
      "Epoch - 40 Train-Loss : 1.4001593589782715 Valid-Loss : 1.4073214530944824\n",
      "unweighted_accuracy : 0.18244170096021947 weighted_accuracy : 0.18244170096021947\n",
      "Epoch - 45 Train-Loss : 1.4000797669092815 Valid-Loss : 1.4073214530944824\n",
      "unweighted_accuracy : 0.18244170096021947 weighted_accuracy : 0.18244170096021947\n",
      "Epoch - 50 Train-Loss : 1.400080680847168 Valid-Loss : 1.4073214530944824\n",
      "unweighted_accuracy : 0.18244170096021947 weighted_accuracy : 0.18244170096021947\n",
      "Epoch - 55 Train-Loss : 1.4000969727834065 Valid-Loss : 1.4073214530944824\n",
      "unweighted_accuracy : 0.18244170096021947 weighted_accuracy : 0.18244170096021947\n",
      "Epoch - 60 Train-Loss : 1.400158445040385 Valid-Loss : 1.4073214530944824\n",
      "unweighted_accuracy : 0.18244170096021947 weighted_accuracy : 0.18244170096021947\n",
      "Epoch - 65 Train-Loss : 1.4000959396362305 Valid-Loss : 1.4073214530944824\n",
      "unweighted_accuracy : 0.18244170096021947 weighted_accuracy : 0.18244170096021947\n",
      "Epoch - 70 Train-Loss : 1.4000451962153118 Valid-Loss : 1.4073214530944824\n",
      "unweighted_accuracy : 0.18244170096021947 weighted_accuracy : 0.18244170096021947\n",
      "Epoch - 75 Train-Loss : 1.4000398715337117 Valid-Loss : 1.4073214530944824\n",
      "unweighted_accuracy : 0.18244170096021947 weighted_accuracy : 0.18244170096021947\n",
      "Epoch - 80 Train-Loss : 1.400069793065389 Valid-Loss : 1.4073214530944824\n",
      "unweighted_accuracy : 0.18244170096021947 weighted_accuracy : 0.18244170096021947\n",
      "Epoch - 85 Train-Loss : 1.4001686573028564 Valid-Loss : 1.4073214530944824\n",
      "unweighted_accuracy : 0.18244170096021947 weighted_accuracy : 0.18244170096021947\n",
      "Epoch - 90 Train-Loss : 1.4000436464945476 Valid-Loss : 1.4073214530944824\n",
      "unweighted_accuracy : 0.18244170096021947 weighted_accuracy : 0.18244170096021947\n",
      "Epoch - 95 Train-Loss : 1.4000728527704875 Valid-Loss : 1.4073214530944824\n",
      "unweighted_accuracy : 0.18244170096021947 weighted_accuracy : 0.18244170096021947\n",
      "Epoch - 100 Train-Loss : 1.4001039266586304 Valid-Loss : 1.4073214530944824\n",
      "unweighted_accuracy : 0.18244170096021947 weighted_accuracy : 0.18244170096021947\n",
      "Epoch - 105 Train-Loss : 1.4000215927759807 Valid-Loss : 1.4073214530944824\n",
      "unweighted_accuracy : 0.18244170096021947 weighted_accuracy : 0.18244170096021947\n",
      "Epoch - 110 Train-Loss : 1.40011727809906 Valid-Loss : 1.4073214530944824\n",
      "unweighted_accuracy : 0.18244170096021947 weighted_accuracy : 0.18244170096021947\n",
      "Epoch - 115 Train-Loss : 1.4000166654586792 Valid-Loss : 1.4073214530944824\n",
      "unweighted_accuracy : 0.18244170096021947 weighted_accuracy : 0.18244170096021947\n",
      "Epoch - 120 Train-Loss : 1.4000924030939739 Valid-Loss : 1.4073214530944824\n",
      "unweighted_accuracy : 0.18244170096021947 weighted_accuracy : 0.18244170096021947\n",
      "Epoch - 125 Train-Loss : 1.400126338005066 Valid-Loss : 1.4073214530944824\n",
      "unweighted_accuracy : 0.18244170096021947 weighted_accuracy : 0.18244170096021947\n",
      "Epoch - 130 Train-Loss : 1.400105595588684 Valid-Loss : 1.4073214530944824\n",
      "unweighted_accuracy : 0.18244170096021947 weighted_accuracy : 0.18244170096021947\n",
      "Epoch - 135 Train-Loss : 1.4000604152679443 Valid-Loss : 1.4073214530944824\n",
      "unweighted_accuracy : 0.18244170096021947 weighted_accuracy : 0.18244170096021947\n",
      "Epoch - 140 Train-Loss : 1.4000402291615803 Valid-Loss : 1.4073214530944824\n",
      "unweighted_accuracy : 0.18244170096021947 weighted_accuracy : 0.18244170096021947\n",
      "Epoch - 145 Train-Loss : 1.400071144104004 Valid-Loss : 1.4073214530944824\n",
      "unweighted_accuracy : 0.18244170096021947 weighted_accuracy : 0.18244170096021947\n"
     ]
    },
    {
     "ename": "KeyboardInterrupt",
     "evalue": "",
     "output_type": "error",
     "traceback": [
      "\u001b[0;31m---------------------------------------------------------------------------\u001b[0m",
      "\u001b[0;31mKeyboardInterrupt\u001b[0m                         Traceback (most recent call last)",
      "\u001b[0;32m<ipython-input-101-835c0c091bc7>\u001b[0m in \u001b[0;36m<module>\u001b[0;34m\u001b[0m\n\u001b[0;32m----> 1\u001b[0;31m \u001b[0mtrain_text_model\u001b[0m\u001b[0;34m(\u001b[0m\u001b[0mlstm\u001b[0m\u001b[0;34m,\u001b[0m \u001b[0mloss_fn\u001b[0m\u001b[0;34m,\u001b[0m \u001b[0mtext_train_loader\u001b[0m\u001b[0;34m,\u001b[0m \u001b[0mtext_valid_loader\u001b[0m\u001b[0;34m,\u001b[0m \u001b[0mepochs\u001b[0m\u001b[0;34m,\u001b[0m \u001b[0mlearning_rate\u001b[0m\u001b[0;34m,\u001b[0m \u001b[0moptimizer\u001b[0m\u001b[0;34m,\u001b[0m \u001b[0mtrain_losses\u001b[0m\u001b[0;34m,\u001b[0m \u001b[0mvalid_losses\u001b[0m\u001b[0;34m,\u001b[0m \u001b[0;34m\"text validation 5\"\u001b[0m \u001b[0;34m,\u001b[0m\u001b[0;32mNone\u001b[0m\u001b[0;34m)\u001b[0m\u001b[0;34m\u001b[0m\u001b[0;34m\u001b[0m\u001b[0m\n\u001b[0m",
      "\u001b[0;32m<ipython-input-94-3a08bef425e4>\u001b[0m in \u001b[0;36mtrain_text_model\u001b[0;34m(model, loss_fn, train_loader, valid_loader, epochs, learning_rate, optimizer, train_losses, valid_losses, comment, change_lr)\u001b[0m\n\u001b[1;32m     13\u001b[0m             \u001b[0moptimizer\u001b[0m\u001b[0;34m.\u001b[0m\u001b[0mzero_grad\u001b[0m\u001b[0;34m(\u001b[0m\u001b[0;34m)\u001b[0m\u001b[0;34m\u001b[0m\u001b[0;34m\u001b[0m\u001b[0m\n\u001b[1;32m     14\u001b[0m             \u001b[0mloss\u001b[0m \u001b[0;34m=\u001b[0m \u001b[0mloss_fn\u001b[0m\u001b[0;34m(\u001b[0m\u001b[0my_pred\u001b[0m\u001b[0;34m,\u001b[0m \u001b[0my\u001b[0m\u001b[0;34m)\u001b[0m\u001b[0;34m\u001b[0m\u001b[0;34m\u001b[0m\u001b[0m\n\u001b[0;32m---> 15\u001b[0;31m             \u001b[0mloss\u001b[0m\u001b[0;34m.\u001b[0m\u001b[0mbackward\u001b[0m\u001b[0;34m(\u001b[0m\u001b[0;34m)\u001b[0m\u001b[0;34m\u001b[0m\u001b[0;34m\u001b[0m\u001b[0m\n\u001b[0m\u001b[1;32m     16\u001b[0m             \u001b[0moptimizer\u001b[0m\u001b[0;34m.\u001b[0m\u001b[0mstep\u001b[0m\u001b[0;34m(\u001b[0m\u001b[0;34m)\u001b[0m\u001b[0;34m\u001b[0m\u001b[0;34m\u001b[0m\u001b[0m\n\u001b[1;32m     17\u001b[0m             \u001b[0mbatch_losses\u001b[0m\u001b[0;34m.\u001b[0m\u001b[0mappend\u001b[0m\u001b[0;34m(\u001b[0m\u001b[0mloss\u001b[0m\u001b[0;34m.\u001b[0m\u001b[0mitem\u001b[0m\u001b[0;34m(\u001b[0m\u001b[0;34m)\u001b[0m\u001b[0;34m)\u001b[0m\u001b[0;34m\u001b[0m\u001b[0;34m\u001b[0m\u001b[0m\n",
      "\u001b[0;32m/anaconda/envs/py36/lib/python3.6/site-packages/torch/tensor.py\u001b[0m in \u001b[0;36mbackward\u001b[0;34m(self, gradient, retain_graph, create_graph)\u001b[0m\n\u001b[1;32m    196\u001b[0m                 \u001b[0mproducts\u001b[0m\u001b[0;34m.\u001b[0m \u001b[0mDefaults\u001b[0m \u001b[0mto\u001b[0m\u001b[0;31m \u001b[0m\u001b[0;31m`\u001b[0m\u001b[0;31m`\u001b[0m\u001b[0;32mFalse\u001b[0m\u001b[0;31m`\u001b[0m\u001b[0;31m`\u001b[0m\u001b[0;34m.\u001b[0m\u001b[0;34m\u001b[0m\u001b[0;34m\u001b[0m\u001b[0m\n\u001b[1;32m    197\u001b[0m         \"\"\"\n\u001b[0;32m--> 198\u001b[0;31m         \u001b[0mtorch\u001b[0m\u001b[0;34m.\u001b[0m\u001b[0mautograd\u001b[0m\u001b[0;34m.\u001b[0m\u001b[0mbackward\u001b[0m\u001b[0;34m(\u001b[0m\u001b[0mself\u001b[0m\u001b[0;34m,\u001b[0m \u001b[0mgradient\u001b[0m\u001b[0;34m,\u001b[0m \u001b[0mretain_graph\u001b[0m\u001b[0;34m,\u001b[0m \u001b[0mcreate_graph\u001b[0m\u001b[0;34m)\u001b[0m\u001b[0;34m\u001b[0m\u001b[0;34m\u001b[0m\u001b[0m\n\u001b[0m\u001b[1;32m    199\u001b[0m \u001b[0;34m\u001b[0m\u001b[0m\n\u001b[1;32m    200\u001b[0m     \u001b[0;32mdef\u001b[0m \u001b[0mregister_hook\u001b[0m\u001b[0;34m(\u001b[0m\u001b[0mself\u001b[0m\u001b[0;34m,\u001b[0m \u001b[0mhook\u001b[0m\u001b[0;34m)\u001b[0m\u001b[0;34m:\u001b[0m\u001b[0;34m\u001b[0m\u001b[0;34m\u001b[0m\u001b[0m\n",
      "\u001b[0;32m/anaconda/envs/py36/lib/python3.6/site-packages/torch/autograd/__init__.py\u001b[0m in \u001b[0;36mbackward\u001b[0;34m(tensors, grad_tensors, retain_graph, create_graph, grad_variables)\u001b[0m\n\u001b[1;32m     98\u001b[0m     Variable._execution_engine.run_backward(\n\u001b[1;32m     99\u001b[0m         \u001b[0mtensors\u001b[0m\u001b[0;34m,\u001b[0m \u001b[0mgrad_tensors\u001b[0m\u001b[0;34m,\u001b[0m \u001b[0mretain_graph\u001b[0m\u001b[0;34m,\u001b[0m \u001b[0mcreate_graph\u001b[0m\u001b[0;34m,\u001b[0m\u001b[0;34m\u001b[0m\u001b[0;34m\u001b[0m\u001b[0m\n\u001b[0;32m--> 100\u001b[0;31m         allow_unreachable=True)  # allow_unreachable flag\n\u001b[0m\u001b[1;32m    101\u001b[0m \u001b[0;34m\u001b[0m\u001b[0m\n\u001b[1;32m    102\u001b[0m \u001b[0;34m\u001b[0m\u001b[0m\n",
      "\u001b[0;31mKeyboardInterrupt\u001b[0m: "
     ]
    }
   ],
   "source": [
    "train_text_model(lstm, loss_fn, text_train_loader, text_valid_loader, epochs, learning_rate, optimizer, train_losses, valid_losses, \"text validation 5\" ,None)"
   ]
  },
  {
   "cell_type": "markdown",
   "metadata": {},
   "source": [
    "5 Fold Cross Validation"
   ]
  },
  {
   "cell_type": "code",
   "execution_count": 57,
   "metadata": {},
   "outputs": [],
   "source": [
    "from sklearn.metrics import balanced_accuracy_score\n",
    "from sklearn.metrics import accuracy_score\n",
    "\n",
    "def train_audio_model(model, loss_fn, train_loader, valid_loader, epochs, learning_rate, optimizer, train_losses, valid_losses, comment, change_lr=None):\n",
    "    print(\"Training Audio Model\")\n",
    "#     tb = SummaryWriter(comment=comment)\n",
    "    for epoch in range(1, epochs+1):\n",
    "        \n",
    "        model.train()\n",
    "        batch_losses=[]\n",
    "        if change_lr:\n",
    "            optimizer = change_lr(optimizer, epoch, learning_rate)\n",
    "        for i, data in tqdm(enumerate(train_loader)):\n",
    "            x, y = data\n",
    "            optimizer.zero_grad()\n",
    "            x = x.to(device, dtype=torch.float32)\n",
    "            y = y.to(device, dtype=torch.long)\n",
    "            y_hat = model(x)\n",
    "            loss = loss_fn(y_hat, y)\n",
    "            loss.backward()\n",
    "            batch_losses.append(loss.item())\n",
    "            optimizer.step()\n",
    "        train_losses.append(batch_losses)\n",
    "\n",
    "\n",
    "#         print(\"Epoch - {} Train-Loss : {}\".format(epoch, np.mean(train_losses[-1])))\n",
    "        model.eval()\n",
    "        batch_losses=[]\n",
    "        trace_y = []\n",
    "        trace_yhat = []\n",
    "        for i, data in enumerate(valid_loader):\n",
    "            x, y = data\n",
    "            x = x.to(device, dtype=torch.float32)\n",
    "            y = y.to(device, dtype=torch.long)\n",
    "            y_hat = model(x)\n",
    "            loss = loss_fn(y_hat, y)\n",
    "            trace_y.append(y.cpu().detach().numpy())\n",
    "            trace_yhat.append(y_hat.cpu().detach().numpy())      \n",
    "            batch_losses.append(loss.item())\n",
    "        \n",
    "        \n",
    "\n",
    "        valid_losses.append(batch_losses)\n",
    "        trace_y = np.concatenate(trace_y)\n",
    "        trace_yhat = np.concatenate(trace_yhat)\n",
    "        accuracy = np.mean(trace_yhat.argmax(axis=1)==trace_y)\n",
    "        unweighted_accuracy = accuracy_score( trace_yhat.argmax(axis=1), trace_y )\n",
    "        weighted_accuracy = balanced_accuracy_score( trace_yhat.argmax(axis=1), trace_y )\n",
    "        \n",
    "        \n",
    "        \n",
    "#         tb.add_scalar(\n",
    "#             'train_loss', np.mean(train_losses[-1]), epoch\n",
    "#         )\n",
    "#         tb.add_scalar(\n",
    "#             'valid_loss', np.mean(valid_losses[-1]), epoch\n",
    "#         )\n",
    "#         tb.add_scalar(\n",
    "#             'Unweighted Accuracy', unweighted_accuracy, epoch\n",
    "#         )     \n",
    "#         tb.add_scalar(\n",
    "#             'Weighted Accuracy', weighted_accuracy, epoch\n",
    "#         )   \n",
    "        \n",
    "        print(\"Epoch - {} Train-Loss : {} Valid-Loss : {}\".format(epoch, np.mean(train_losses[-1]), np.mean(valid_losses[-1])))\n",
    "        print(\"unweighted_accuracy : {} weighted_accuracy : {}\".format(unweighted_accuracy, weighted_accuracy ))\n",
    "    return unweighted_accuracy, weighted_accuracy "
   ]
  },
  {
   "cell_type": "code",
   "execution_count": 52,
   "metadata": {},
   "outputs": [],
   "source": [
    "import torch\n",
    "import torch.nn as nn\n",
    "import torch.nn.functional as F\n",
    "\n",
    "class CNN(nn.Module):\n",
    "    def __init__(self):\n",
    "        super().__init__() # just run the init of parent class (nn.Module)\n",
    "        self.conv1 = nn.Conv2d(1, 32, 5, 2, padding=1) # input is 1 image, 32 output channels, 5x5 kernel / window\n",
    "        self.bn1 = nn.BatchNorm2d(32)\n",
    "        self.conv2 = nn.Conv2d(32, 64, 5, 2, padding=1) # input is 32, bc the first layer output 32. Then we say the output will be 64 channels, 5x5 kernel / window\n",
    "        self.bn2 = nn.BatchNorm2d(64)\n",
    "        self.conv3 = nn.Conv2d(64, 128, 5, 2, padding=1)\n",
    "        self.bn3 = nn.BatchNorm2d(128)\n",
    "        self.conv4 = nn.Conv2d(128, 128, 5, 2, padding=1)\n",
    "        \n",
    "        self.fc1 = nn.Linear((7*8*128), 512) #flattening.\n",
    "        \n",
    "        \n",
    "        self.fc2 = nn.Linear(512, 4) # 512 in, 2 out bc we're doing 2 classes (dog vs cat).\n",
    "        self.activation = nn.Softmax(dim=1)\n",
    "\n",
    "    def convs(self, x):\n",
    "        # max pooling over 2x2\n",
    "        x = F.relu(self.conv1(x))\n",
    "        x = self.bn1(x)\n",
    "        x = F.relu(self.conv2(x))\n",
    "        x = self.bn2(x)\n",
    "        x = F.relu(self.conv3(x))\n",
    "        x = self.bn3(x)\n",
    "        x = F.relu(self.conv4(x))\n",
    "\n",
    "        return x\n",
    "\n",
    "    def forward(self, x):\n",
    "        x = self.convs(x)\n",
    "        x = x.reshape(x.size(0), -1)\n",
    "        x = F.relu(self.fc1(x))\n",
    "        x = self.fc2(x) # bc this is our output layer. No activation here.\n",
    "        return self.activation(x)\n"
   ]
  },
  {
   "cell_type": "code",
   "execution_count": 58,
   "metadata": {},
   "outputs": [],
   "source": [
    "def validate_audio(train_loader, valid_loader, comment):\n",
    "    net = CNN()\n",
    "    net.to(device)\n",
    "    learning_rate = 2e-5\n",
    "    optimizer = optim.Adam(net.parameters(), lr=learning_rate)\n",
    "    epochs = 15\n",
    "    loss_fn = nn.CrossEntropyLoss()\n",
    "    train_losses=[]\n",
    "    valid_losses=[]\n",
    "    valid_accuracy = []\n",
    "    uwa, wa = train_audio_model(net, loss_fn, train_loader, valid_loader, epochs, learning_rate, optimizer, train_losses, valid_losses, comment,change_lr=lr_decay)\n",
    "    print(\"validation over\")\n",
    "    torch.save(net, comment+'.pth')\n",
    "    del net\n",
    "    \n",
    "    return np.mean(valid_losses[-1]), uwa, wa  "
   ]
  },
  {
   "cell_type": "code",
   "execution_count": 37,
   "metadata": {},
   "outputs": [],
   "source": [
    "def validate_text(train_loader, valid_loader, vocab_size, embedding_dim, hidden_dim, pretrained_weights, comment):\n",
    "    net = LSTM(vocab_size, embedding_dim, hidden_dim, pretrained_weights)\n",
    "    net.to(device)\n",
    "    learning_rate = 0.01\n",
    "    optimizer = optim.Adam(net.parameters(), lr=learning_rate)\n",
    "    epochs = 300\n",
    "    loss_fn = nn.CrossEntropyLoss()\n",
    "    train_losses=[]\n",
    "    valid_losses=[]\n",
    "    valid_accuracy = []\n",
    "    uwa, wa = train_text_model(net, loss_fn, train_loader, valid_loader, epochs, learning_rate, optimizer, train_losses, valid_losses, comment, None)\n",
    "    print(\"validation over\")\n",
    "    torch.save(net, comment+'.pth')\n",
    "    del net\n",
    "    \n",
    "    return np.mean(valid_losses[-1]), uwa, wa  "
   ]
  },
  {
   "cell_type": "code",
   "execution_count": 59,
   "metadata": {},
   "outputs": [],
   "source": [
    "# 0-242 1F\n",
    "# 243-522 1M\n",
    "# 522-773 2F\n",
    "# 773-1052 2M\n",
    "# 1053 - 1314 3F\n",
    "# 1315 - 1679 3M\n",
    "# 1680 - 1992 4F\n",
    "# 1993 - 2213 4M\n",
    "# 2214 - 2616 5F\n",
    "# 2617 : 5M\n",
    "ses_idx = np.array([ range(0,523), range(523, 1052), range(1052, 1680), range(1680, 2214), range(2214, len(audio)) ])\n",
    "# ses_idx = np.array([range(0, 243), range(243, 523), range(523, 773), range(773, 1052), range(1052, 1315), range(1315, 1680), range(1680, 1993), range(1993, 2214), range(2214, 2617), range(2617,len(audio))])\n",
    "    "
   ]
  },
  {
   "cell_type": "code",
   "execution_count": 60,
   "metadata": {},
   "outputs": [],
   "source": [
    "train_audio = []\n",
    "valid_audio = []\n",
    "train_text = []\n",
    "valid_text = []\n",
    "\n",
    "for i in range(ses_idx.shape[0]):\n",
    "    train_audio.append(Audio(np.delete(data,ses_idx[i], axis=0), np.delete(labels,ses_idx[i], axis=0)))\n",
    "    valid_audio.append(Audio(data[ses_idx[i]], labels[ses_idx[i]]))\n",
    "    \n",
    "    train_text.append(Text(np.delete(X,ses_idx[i], axis=0), np.delete(y,ses_idx[i], axis=0)))\n",
    "    valid_text.append(Text(X[ses_idx[i]], y[ses_idx[i]]))\n",
    "        \n",
    "    "
   ]
  },
  {
   "cell_type": "code",
   "execution_count": 61,
   "metadata": {},
   "outputs": [],
   "source": [
    "a_losses = []\n",
    "a_uwas = []\n",
    "a_was = []"
   ]
  },
  {
   "cell_type": "code",
   "execution_count": 62,
   "metadata": {},
   "outputs": [
    {
     "name": "stderr",
     "output_type": "stream",
     "text": [
      "1it [00:00,  7.35it/s]"
     ]
    },
    {
     "name": "stdout",
     "output_type": "stream",
     "text": [
      "Training Audio Model\n"
     ]
    },
    {
     "name": "stderr",
     "output_type": "stream",
     "text": [
      "76it [00:10,  7.32it/s]\n",
      "1it [00:00,  7.64it/s]"
     ]
    },
    {
     "name": "stdout",
     "output_type": "stream",
     "text": [
      "Epoch - 1 Train-Loss : 1.3324374462428845 Valid-Loss : 1.273698883898118\n",
      "unweighted_accuracy : 0.5353728489483748 weighted_accuracy : 0.5277777777777778\n"
     ]
    },
    {
     "name": "stderr",
     "output_type": "stream",
     "text": [
      "76it [00:10,  7.43it/s]\n",
      "1it [00:00,  7.74it/s]"
     ]
    },
    {
     "name": "stdout",
     "output_type": "stream",
     "text": [
      "Epoch - 2 Train-Loss : 1.2528104044889148 Valid-Loss : 1.2133772303076351\n",
      "unweighted_accuracy : 0.5564053537284895 weighted_accuracy : 0.5648598552138725\n"
     ]
    },
    {
     "name": "stderr",
     "output_type": "stream",
     "text": [
      "76it [00:10,  7.46it/s]\n",
      "1it [00:00,  5.62it/s]"
     ]
    },
    {
     "name": "stdout",
     "output_type": "stream",
     "text": [
      "Epoch - 3 Train-Loss : 1.1790136247873306 Valid-Loss : 1.1918892159181482\n",
      "unweighted_accuracy : 0.5602294455066922 weighted_accuracy : 0.5665618859609903\n"
     ]
    },
    {
     "name": "stderr",
     "output_type": "stream",
     "text": [
      "76it [00:10,  7.40it/s]\n",
      "1it [00:00,  7.76it/s]"
     ]
    },
    {
     "name": "stdout",
     "output_type": "stream",
     "text": [
      "Epoch - 4 Train-Loss : 1.1401646066653102 Valid-Loss : 1.1799067854881287\n",
      "unweighted_accuracy : 0.5697896749521989 weighted_accuracy : 0.5775586620618282\n"
     ]
    },
    {
     "name": "stderr",
     "output_type": "stream",
     "text": [
      "76it [00:10,  7.41it/s]\n",
      "1it [00:00,  6.96it/s]"
     ]
    },
    {
     "name": "stdout",
     "output_type": "stream",
     "text": [
      "Epoch - 5 Train-Loss : 1.1131862637243772 Valid-Loss : 1.1721668664146871\n",
      "unweighted_accuracy : 0.5678776290630975 weighted_accuracy : 0.5801628665214157\n"
     ]
    },
    {
     "name": "stderr",
     "output_type": "stream",
     "text": [
      "76it [00:10,  7.49it/s]\n",
      "1it [00:00,  7.57it/s]"
     ]
    },
    {
     "name": "stdout",
     "output_type": "stream",
     "text": [
      "Epoch - 6 Train-Loss : 1.0906414844487842 Valid-Loss : 1.1664238326689775\n",
      "unweighted_accuracy : 0.5755258126195029 weighted_accuracy : 0.5877130277130277\n"
     ]
    },
    {
     "name": "stderr",
     "output_type": "stream",
     "text": [
      "76it [00:10,  7.44it/s]\n",
      "1it [00:00,  7.58it/s]"
     ]
    },
    {
     "name": "stdout",
     "output_type": "stream",
     "text": [
      "Epoch - 7 Train-Loss : 1.0690671495701138 Valid-Loss : 1.1616380915922278\n",
      "unweighted_accuracy : 0.5736137667304015 weighted_accuracy : 0.5875793257767506\n"
     ]
    },
    {
     "name": "stderr",
     "output_type": "stream",
     "text": [
      "76it [00:10,  7.40it/s]\n",
      "1it [00:00,  7.66it/s]"
     ]
    },
    {
     "name": "stdout",
     "output_type": "stream",
     "text": [
      "Epoch - 8 Train-Loss : 1.0475249713972996 Valid-Loss : 1.1573816643041723\n",
      "unweighted_accuracy : 0.5850860420650096 weighted_accuracy : 0.600102486409411\n"
     ]
    },
    {
     "name": "stderr",
     "output_type": "stream",
     "text": [
      "76it [00:10,  7.37it/s]\n",
      "1it [00:00,  7.49it/s]"
     ]
    },
    {
     "name": "stdout",
     "output_type": "stream",
     "text": [
      "Epoch - 9 Train-Loss : 1.0257688015699387 Valid-Loss : 1.153092135401333\n",
      "unweighted_accuracy : 0.5850860420650096 weighted_accuracy : 0.603601164161509\n",
      "Changed learning rate to 2.0000000000000003e-06\n"
     ]
    },
    {
     "name": "stderr",
     "output_type": "stream",
     "text": [
      "76it [00:10,  7.44it/s]\n",
      "1it [00:00,  7.66it/s]"
     ]
    },
    {
     "name": "stdout",
     "output_type": "stream",
     "text": [
      "Epoch - 10 Train-Loss : 1.0142458183200735 Valid-Loss : 1.147594921729144\n",
      "unweighted_accuracy : 0.6003824091778203 weighted_accuracy : 0.5969467827079469\n"
     ]
    },
    {
     "name": "stderr",
     "output_type": "stream",
     "text": [
      "76it [00:10,  7.39it/s]\n",
      "1it [00:00,  7.17it/s]"
     ]
    },
    {
     "name": "stdout",
     "output_type": "stream",
     "text": [
      "Epoch - 11 Train-Loss : 1.0024719308865697 Valid-Loss : 1.1499791005078484\n",
      "unweighted_accuracy : 0.5908221797323135 weighted_accuracy : 0.5872543678035669\n"
     ]
    },
    {
     "name": "stderr",
     "output_type": "stream",
     "text": [
      "76it [00:10,  7.43it/s]\n",
      "1it [00:00,  7.40it/s]"
     ]
    },
    {
     "name": "stdout",
     "output_type": "stream",
     "text": [
      "Epoch - 12 Train-Loss : 0.9997084948577379 Valid-Loss : 1.1495854503968184\n",
      "unweighted_accuracy : 0.5946462715105163 weighted_accuracy : 0.5911970884398672\n"
     ]
    },
    {
     "name": "stderr",
     "output_type": "stream",
     "text": [
      "76it [00:10,  7.38it/s]\n",
      "1it [00:00,  7.60it/s]"
     ]
    },
    {
     "name": "stdout",
     "output_type": "stream",
     "text": [
      "Epoch - 13 Train-Loss : 0.9970393322016063 Valid-Loss : 1.1489205816212822\n",
      "unweighted_accuracy : 0.5927342256214149 weighted_accuracy : 0.5893076554625348\n"
     ]
    },
    {
     "name": "stderr",
     "output_type": "stream",
     "text": [
      "76it [00:10,  7.44it/s]\n",
      "1it [00:00,  6.37it/s]"
     ]
    },
    {
     "name": "stdout",
     "output_type": "stream",
     "text": [
      "Epoch - 14 Train-Loss : 0.994466013030002 Valid-Loss : 1.1482669044943417\n",
      "unweighted_accuracy : 0.5965583173996176 weighted_accuracy : 0.5929575422715962\n"
     ]
    },
    {
     "name": "stderr",
     "output_type": "stream",
     "text": [
      "76it [00:10,  7.43it/s]\n"
     ]
    },
    {
     "name": "stdout",
     "output_type": "stream",
     "text": [
      "Epoch - 15 Train-Loss : 0.9919444220630746 Valid-Loss : 1.1476389485246994\n",
      "unweighted_accuracy : 0.6003824091778203 weighted_accuracy : 0.5972320710823603\n",
      "validation over\n"
     ]
    },
    {
     "name": "stderr",
     "output_type": "stream",
     "text": [
      "/anaconda/envs/py36/lib/python3.6/site-packages/torch/serialization.py:402: UserWarning: Couldn't retrieve source code for container of type CNN. It won't be checked for correctness upon loading.\n",
      "  \"type \" + obj.__name__ + \". It won't be checked \"\n"
     ]
    }
   ],
   "source": [
    "audio_train_loader = DataLoader(train_audio[0], batch_size=32, shuffle=False)\n",
    "audio_valid_loader = DataLoader(valid_audio[0], batch_size=32, shuffle=False)\n",
    "comment=\"Audio validation : {}\".format(0)\n",
    "a_loss, a_uwa, a_wa = validate_audio(audio_train_loader, audio_valid_loader, comment)\n",
    "\n",
    "a_losses.append(a_loss)\n",
    "a_uwas.append(a_uwa)\n",
    "a_was.append(a_wa)\n"
   ]
  },
  {
   "cell_type": "code",
   "execution_count": 63,
   "metadata": {},
   "outputs": [
    {
     "name": "stderr",
     "output_type": "stream",
     "text": [
      "1it [00:00,  7.45it/s]"
     ]
    },
    {
     "name": "stdout",
     "output_type": "stream",
     "text": [
      "Training Audio Model\n"
     ]
    },
    {
     "name": "stderr",
     "output_type": "stream",
     "text": [
      "76it [00:10,  7.28it/s]\n",
      "1it [00:00,  7.55it/s]"
     ]
    },
    {
     "name": "stdout",
     "output_type": "stream",
     "text": [
      "Epoch - 1 Train-Loss : 1.3349689041313373 Valid-Loss : 1.253240704536438\n",
      "unweighted_accuracy : 0.48582230623818523 weighted_accuracy : 0.4805913348946136\n"
     ]
    },
    {
     "name": "stderr",
     "output_type": "stream",
     "text": [
      "76it [00:10,  7.18it/s]\n",
      "1it [00:00,  7.51it/s]"
     ]
    },
    {
     "name": "stdout",
     "output_type": "stream",
     "text": [
      "Epoch - 2 Train-Loss : 1.2496822899893711 Valid-Loss : 1.1834073592634762\n",
      "unweighted_accuracy : 0.553875236294896 weighted_accuracy : 0.6158262176882928\n"
     ]
    },
    {
     "name": "stderr",
     "output_type": "stream",
     "text": [
      "76it [00:10,  7.29it/s]\n",
      "1it [00:00,  5.18it/s]"
     ]
    },
    {
     "name": "stdout",
     "output_type": "stream",
     "text": [
      "Epoch - 3 Train-Loss : 1.1931072026491165 Valid-Loss : 1.1612672700601465\n",
      "unweighted_accuracy : 0.5519848771266541 weighted_accuracy : 0.6170196041898351\n"
     ]
    },
    {
     "name": "stderr",
     "output_type": "stream",
     "text": [
      "76it [00:10,  7.24it/s]\n",
      "1it [00:00,  7.50it/s]"
     ]
    },
    {
     "name": "stdout",
     "output_type": "stream",
     "text": [
      "Epoch - 4 Train-Loss : 1.1592668749784167 Valid-Loss : 1.1459762559217566\n",
      "unweighted_accuracy : 0.5708884688090737 weighted_accuracy : 0.6403432498578993\n"
     ]
    },
    {
     "name": "stderr",
     "output_type": "stream",
     "text": [
      "76it [00:10,  7.31it/s]\n",
      "1it [00:00,  7.17it/s]"
     ]
    },
    {
     "name": "stdout",
     "output_type": "stream",
     "text": [
      "Epoch - 5 Train-Loss : 1.1305767282059318 Valid-Loss : 1.1338643992648405\n",
      "unweighted_accuracy : 0.5803402646502835 weighted_accuracy : 0.653228021978022\n"
     ]
    },
    {
     "name": "stderr",
     "output_type": "stream",
     "text": [
      "76it [00:10,  7.25it/s]\n",
      "1it [00:00,  7.53it/s]"
     ]
    },
    {
     "name": "stdout",
     "output_type": "stream",
     "text": [
      "Epoch - 6 Train-Loss : 1.104349981797369 Valid-Loss : 1.1258079655030195\n",
      "unweighted_accuracy : 0.5765595463137996 weighted_accuracy : 0.6537356321839081\n"
     ]
    },
    {
     "name": "stderr",
     "output_type": "stream",
     "text": [
      "76it [00:10,  7.29it/s]\n",
      "1it [00:00,  7.62it/s]"
     ]
    },
    {
     "name": "stdout",
     "output_type": "stream",
     "text": [
      "Epoch - 7 Train-Loss : 1.0792597140136517 Valid-Loss : 1.1209363025777481\n",
      "unweighted_accuracy : 0.5954631379962193 weighted_accuracy : 0.6863311410338699\n"
     ]
    },
    {
     "name": "stderr",
     "output_type": "stream",
     "text": [
      "76it [00:10,  7.33it/s]\n",
      "1it [00:00,  7.54it/s]"
     ]
    },
    {
     "name": "stdout",
     "output_type": "stream",
     "text": [
      "Epoch - 8 Train-Loss : 1.0551015962111323 Valid-Loss : 1.1173315889695112\n",
      "unweighted_accuracy : 0.6011342155009451 weighted_accuracy : 0.6967702040101567\n"
     ]
    },
    {
     "name": "stderr",
     "output_type": "stream",
     "text": [
      "76it [00:10,  7.32it/s]\n",
      "1it [00:00,  7.52it/s]"
     ]
    },
    {
     "name": "stdout",
     "output_type": "stream",
     "text": [
      "Epoch - 9 Train-Loss : 1.0316276448337656 Valid-Loss : 1.1146872990271623\n",
      "unweighted_accuracy : 0.6162570888468809 weighted_accuracy : 0.71031254607106\n",
      "Changed learning rate to 2.0000000000000003e-06\n"
     ]
    },
    {
     "name": "stderr",
     "output_type": "stream",
     "text": [
      "76it [00:10,  7.33it/s]\n",
      "1it [00:00,  7.35it/s]"
     ]
    },
    {
     "name": "stdout",
     "output_type": "stream",
     "text": [
      "Epoch - 10 Train-Loss : 1.014898476632018 Valid-Loss : 1.0876084460931665\n",
      "unweighted_accuracy : 0.6824196597353497 weighted_accuracy : 0.7130799778909491\n"
     ]
    },
    {
     "name": "stderr",
     "output_type": "stream",
     "text": [
      "76it [00:10,  7.37it/s]\n",
      "1it [00:00,  7.43it/s]"
     ]
    },
    {
     "name": "stdout",
     "output_type": "stream",
     "text": [
      "Epoch - 11 Train-Loss : 1.0094940544743287 Valid-Loss : 1.0879718521062065\n",
      "unweighted_accuracy : 0.6729678638941399 weighted_accuracy : 0.7058616440767471\n"
     ]
    },
    {
     "name": "stderr",
     "output_type": "stream",
     "text": [
      "76it [00:10,  7.34it/s]\n",
      "1it [00:00,  7.47it/s]"
     ]
    },
    {
     "name": "stdout",
     "output_type": "stream",
     "text": [
      "Epoch - 12 Train-Loss : 1.0067596976694309 Valid-Loss : 1.0882264621117537\n",
      "unweighted_accuracy : 0.667296786389414 weighted_accuracy : 0.7017437805161592\n"
     ]
    },
    {
     "name": "stderr",
     "output_type": "stream",
     "text": [
      "76it [00:10,  7.24it/s]\n",
      "1it [00:00,  7.37it/s]"
     ]
    },
    {
     "name": "stdout",
     "output_type": "stream",
     "text": [
      "Epoch - 13 Train-Loss : 1.0039869311608767 Valid-Loss : 1.0885004681699417\n",
      "unweighted_accuracy : 0.665406427221172 weighted_accuracy : 0.7003719577044789\n"
     ]
    },
    {
     "name": "stderr",
     "output_type": "stream",
     "text": [
      "76it [00:10,  7.31it/s]\n",
      "1it [00:00,  7.45it/s]"
     ]
    },
    {
     "name": "stdout",
     "output_type": "stream",
     "text": [
      "Epoch - 14 Train-Loss : 1.0013812576469623 Valid-Loss : 1.0887493876849903\n",
      "unweighted_accuracy : 0.6635160680529301 weighted_accuracy : 0.6964648889387693\n"
     ]
    },
    {
     "name": "stderr",
     "output_type": "stream",
     "text": [
      "76it [00:10,  7.36it/s]\n"
     ]
    },
    {
     "name": "stdout",
     "output_type": "stream",
     "text": [
      "Epoch - 15 Train-Loss : 0.9988806020272406 Valid-Loss : 1.0889782800393946\n",
      "unweighted_accuracy : 0.665406427221172 weighted_accuracy : 0.6978475558605964\n",
      "validation over\n"
     ]
    }
   ],
   "source": [
    "audio_train_loader = DataLoader(train_audio[1], batch_size=32, shuffle=False)\n",
    "audio_valid_loader = DataLoader(valid_audio[1], batch_size=32, shuffle=False)\n",
    "comment=\"Audio validation : {}\".format(1)\n",
    "a_loss, a_uwa, a_wa = validate_audio(audio_train_loader, audio_valid_loader, comment)\n",
    "\n",
    "a_losses.append(a_loss)\n",
    "a_uwas.append(a_uwa)\n",
    "a_was.append(a_wa)\n",
    "\n"
   ]
  },
  {
   "cell_type": "code",
   "execution_count": 64,
   "metadata": {},
   "outputs": [
    {
     "name": "stderr",
     "output_type": "stream",
     "text": [
      "1it [00:00,  7.43it/s]"
     ]
    },
    {
     "name": "stdout",
     "output_type": "stream",
     "text": [
      "Training Audio Model\n"
     ]
    },
    {
     "name": "stderr",
     "output_type": "stream",
     "text": [
      "73it [00:09,  7.32it/s]\n",
      "1it [00:00,  7.28it/s]"
     ]
    },
    {
     "name": "stdout",
     "output_type": "stream",
     "text": [
      "Epoch - 1 Train-Loss : 1.3269077163853058 Valid-Loss : 1.3580786824226379\n",
      "unweighted_accuracy : 0.3614649681528662 weighted_accuracy : 0.3659274634039764\n"
     ]
    },
    {
     "name": "stderr",
     "output_type": "stream",
     "text": [
      "73it [00:10,  7.29it/s]\n",
      "1it [00:00,  7.43it/s]"
     ]
    },
    {
     "name": "stdout",
     "output_type": "stream",
     "text": [
      "Epoch - 2 Train-Loss : 1.266043726712057 Valid-Loss : 1.3177964568138123\n",
      "unweighted_accuracy : 0.37420382165605093 weighted_accuracy : 0.3785883147585275\n"
     ]
    },
    {
     "name": "stderr",
     "output_type": "stream",
     "text": [
      "73it [00:10,  7.18it/s]\n",
      "1it [00:00,  7.34it/s]"
     ]
    },
    {
     "name": "stdout",
     "output_type": "stream",
     "text": [
      "Epoch - 3 Train-Loss : 1.2110898102799508 Valid-Loss : 1.256193894147873\n",
      "unweighted_accuracy : 0.4856687898089172 weighted_accuracy : 0.5637009971383022\n"
     ]
    },
    {
     "name": "stderr",
     "output_type": "stream",
     "text": [
      "73it [00:10,  7.29it/s]\n",
      "1it [00:00,  7.26it/s]"
     ]
    },
    {
     "name": "stdout",
     "output_type": "stream",
     "text": [
      "Epoch - 4 Train-Loss : 1.1613753201210335 Valid-Loss : 1.2369085431098938\n",
      "unweighted_accuracy : 0.49522292993630573 weighted_accuracy : 0.5654700854700855\n"
     ]
    },
    {
     "name": "stderr",
     "output_type": "stream",
     "text": [
      "73it [00:10,  7.25it/s]\n",
      "1it [00:00,  7.08it/s]"
     ]
    },
    {
     "name": "stdout",
     "output_type": "stream",
     "text": [
      "Epoch - 5 Train-Loss : 1.1236353238968 Valid-Loss : 1.225796389579773\n",
      "unweighted_accuracy : 0.5095541401273885 weighted_accuracy : 0.571794112401102\n"
     ]
    },
    {
     "name": "stderr",
     "output_type": "stream",
     "text": [
      "73it [00:10,  7.29it/s]\n",
      "1it [00:00,  7.33it/s]"
     ]
    },
    {
     "name": "stdout",
     "output_type": "stream",
     "text": [
      "Epoch - 6 Train-Loss : 1.0914504168784782 Valid-Loss : 1.2187771856784821\n",
      "unweighted_accuracy : 0.5207006369426752 weighted_accuracy : 0.578251517315915\n"
     ]
    },
    {
     "name": "stderr",
     "output_type": "stream",
     "text": [
      "73it [00:10,  7.28it/s]\n",
      "1it [00:00,  7.38it/s]"
     ]
    },
    {
     "name": "stdout",
     "output_type": "stream",
     "text": [
      "Epoch - 7 Train-Loss : 1.0616245563716105 Valid-Loss : 1.2160897135734559\n",
      "unweighted_accuracy : 0.5191082802547771 weighted_accuracy : 0.5778144376390779\n"
     ]
    },
    {
     "name": "stderr",
     "output_type": "stream",
     "text": [
      "73it [00:09,  7.33it/s]\n",
      "1it [00:00,  7.39it/s]"
     ]
    },
    {
     "name": "stdout",
     "output_type": "stream",
     "text": [
      "Epoch - 8 Train-Loss : 1.0333947808775183 Valid-Loss : 1.2146981567144395\n",
      "unweighted_accuracy : 0.517515923566879 weighted_accuracy : 0.5748559671301033\n"
     ]
    },
    {
     "name": "stderr",
     "output_type": "stream",
     "text": [
      "73it [00:10,  7.24it/s]\n",
      "1it [00:00,  7.28it/s]"
     ]
    },
    {
     "name": "stdout",
     "output_type": "stream",
     "text": [
      "Epoch - 9 Train-Loss : 1.0064425958346015 Valid-Loss : 1.2128012627363205\n",
      "unweighted_accuracy : 0.5270700636942676 weighted_accuracy : 0.5792224511579829\n",
      "Changed learning rate to 2.0000000000000003e-06\n"
     ]
    },
    {
     "name": "stderr",
     "output_type": "stream",
     "text": [
      "73it [00:10,  7.24it/s]\n",
      "1it [00:00,  6.84it/s]"
     ]
    },
    {
     "name": "stdout",
     "output_type": "stream",
     "text": [
      "Epoch - 10 Train-Loss : 0.9923720367967266 Valid-Loss : 1.1761911034584045\n",
      "unweighted_accuracy : 0.5796178343949044 weighted_accuracy : 0.5964349148763298\n"
     ]
    },
    {
     "name": "stderr",
     "output_type": "stream",
     "text": [
      "73it [00:10,  7.30it/s]\n",
      "1it [00:00,  7.11it/s]"
     ]
    },
    {
     "name": "stdout",
     "output_type": "stream",
     "text": [
      "Epoch - 11 Train-Loss : 0.9854111189711584 Valid-Loss : 1.1745733618736267\n",
      "unweighted_accuracy : 0.5875796178343949 weighted_accuracy : 0.60077246537169\n"
     ]
    },
    {
     "name": "stderr",
     "output_type": "stream",
     "text": [
      "73it [00:10,  7.26it/s]\n",
      "1it [00:00,  7.25it/s]"
     ]
    },
    {
     "name": "stdout",
     "output_type": "stream",
     "text": [
      "Epoch - 12 Train-Loss : 0.9821070383672845 Valid-Loss : 1.1751346796751023\n",
      "unweighted_accuracy : 0.5843949044585988 weighted_accuracy : 0.5973622049359442\n"
     ]
    },
    {
     "name": "stderr",
     "output_type": "stream",
     "text": [
      "73it [00:10,  7.27it/s]\n",
      "1it [00:00,  5.10it/s]"
     ]
    },
    {
     "name": "stdout",
     "output_type": "stream",
     "text": [
      "Epoch - 13 Train-Loss : 0.9787433833292086 Valid-Loss : 1.1756538182497025\n",
      "unweighted_accuracy : 0.5843949044585988 weighted_accuracy : 0.5974561645841242\n"
     ]
    },
    {
     "name": "stderr",
     "output_type": "stream",
     "text": [
      "73it [00:10,  7.24it/s]\n",
      "1it [00:00,  6.08it/s]"
     ]
    },
    {
     "name": "stdout",
     "output_type": "stream",
     "text": [
      "Epoch - 14 Train-Loss : 0.9755980225458537 Valid-Loss : 1.1760825037956237\n",
      "unweighted_accuracy : 0.5828025477707006 weighted_accuracy : 0.595247865691689\n"
     ]
    },
    {
     "name": "stderr",
     "output_type": "stream",
     "text": [
      "73it [00:10,  7.22it/s]\n"
     ]
    },
    {
     "name": "stdout",
     "output_type": "stream",
     "text": [
      "Epoch - 15 Train-Loss : 0.9726241467750236 Valid-Loss : 1.1764829874038696\n",
      "unweighted_accuracy : 0.5843949044585988 weighted_accuracy : 0.5961663288982877\n",
      "validation over\n"
     ]
    }
   ],
   "source": [
    "audio_train_loader = DataLoader(train_audio[2], batch_size=32, shuffle=False)\n",
    "audio_valid_loader = DataLoader(valid_audio[2], batch_size=32, shuffle=False)\n",
    "comment=\"Audio validation : {}\".format(2)\n",
    "a_loss, a_uwa, a_wa = validate_audio(audio_train_loader, audio_valid_loader, comment)\n",
    "\n",
    "a_losses.append(a_loss)\n",
    "a_uwas.append(a_uwa)\n",
    "a_was.append(a_wa)\n",
    "\n"
   ]
  },
  {
   "cell_type": "code",
   "execution_count": null,
   "metadata": {},
   "outputs": [
    {
     "name": "stderr",
     "output_type": "stream",
     "text": [
      "1it [00:00,  7.66it/s]"
     ]
    },
    {
     "name": "stdout",
     "output_type": "stream",
     "text": [
      "Training Audio Model\n"
     ]
    },
    {
     "name": "stderr",
     "output_type": "stream",
     "text": [
      "76it [00:10,  7.35it/s]\n",
      "1it [00:00,  7.32it/s]"
     ]
    },
    {
     "name": "stdout",
     "output_type": "stream",
     "text": [
      "Epoch - 1 Train-Loss : 1.3335283116290444 Valid-Loss : 1.3065304545795215\n",
      "unweighted_accuracy : 0.4232209737827715 weighted_accuracy : 0.4388509316770186\n"
     ]
    },
    {
     "name": "stderr",
     "output_type": "stream",
     "text": [
      "76it [00:10,  7.34it/s]\n",
      "1it [00:00,  7.31it/s]"
     ]
    },
    {
     "name": "stdout",
     "output_type": "stream",
     "text": [
      "Epoch - 2 Train-Loss : 1.2691733837127686 Valid-Loss : 1.2510914732428158\n",
      "unweighted_accuracy : 0.46254681647940077 weighted_accuracy : 0.5873768148649665\n"
     ]
    },
    {
     "name": "stderr",
     "output_type": "stream",
     "text": [
      "76it [00:10,  7.35it/s]\n",
      "1it [00:00,  7.38it/s]"
     ]
    },
    {
     "name": "stdout",
     "output_type": "stream",
     "text": [
      "Epoch - 3 Train-Loss : 1.196905454522685 Valid-Loss : 1.2257497801500208\n",
      "unweighted_accuracy : 0.49812734082397003 weighted_accuracy : 0.626482484469667\n"
     ]
    },
    {
     "name": "stderr",
     "output_type": "stream",
     "text": [
      "76it [00:10,  7.36it/s]\n",
      "1it [00:00,  7.44it/s]"
     ]
    },
    {
     "name": "stdout",
     "output_type": "stream",
     "text": [
      "Epoch - 4 Train-Loss : 1.149173057393024 Valid-Loss : 1.2154660470345442\n",
      "unweighted_accuracy : 0.5093632958801498 weighted_accuracy : 0.6366446841203673\n"
     ]
    },
    {
     "name": "stderr",
     "output_type": "stream",
     "text": [
      "76it [00:10,  7.31it/s]\n",
      "1it [00:00,  7.40it/s]"
     ]
    },
    {
     "name": "stdout",
     "output_type": "stream",
     "text": [
      "Epoch - 5 Train-Loss : 1.1106448863681995 Valid-Loss : 1.2106702783528496\n",
      "unweighted_accuracy : 0.5168539325842697 weighted_accuracy : 0.634096576050599\n"
     ]
    },
    {
     "name": "stderr",
     "output_type": "stream",
     "text": [
      "76it [00:10,  7.35it/s]\n",
      "1it [00:00,  7.38it/s]"
     ]
    },
    {
     "name": "stdout",
     "output_type": "stream",
     "text": [
      "Epoch - 6 Train-Loss : 1.075945763995773 Valid-Loss : 1.210414683117586\n",
      "unweighted_accuracy : 0.5112359550561798 weighted_accuracy : 0.6215264923816407\n"
     ]
    },
    {
     "name": "stderr",
     "output_type": "stream",
     "text": [
      "76it [00:10,  7.31it/s]\n",
      "1it [00:00,  7.41it/s]"
     ]
    },
    {
     "name": "stdout",
     "output_type": "stream",
     "text": [
      "Epoch - 7 Train-Loss : 1.04529848537947 Valid-Loss : 1.214568373034982\n",
      "unweighted_accuracy : 0.50187265917603 weighted_accuracy : 0.6098206836443117\n"
     ]
    },
    {
     "name": "stderr",
     "output_type": "stream",
     "text": [
      "76it [00:10,  7.34it/s]\n",
      "1it [00:00,  7.41it/s]"
     ]
    },
    {
     "name": "stdout",
     "output_type": "stream",
     "text": [
      "Epoch - 8 Train-Loss : 1.0181542031074826 Valid-Loss : 1.2216050309293411\n",
      "unweighted_accuracy : 0.4868913857677903 weighted_accuracy : 0.5932682056159823\n"
     ]
    },
    {
     "name": "stderr",
     "output_type": "stream",
     "text": [
      "76it [00:10,  7.35it/s]\n",
      "1it [00:00,  7.41it/s]"
     ]
    },
    {
     "name": "stdout",
     "output_type": "stream",
     "text": [
      "Epoch - 9 Train-Loss : 0.9932330274268201 Valid-Loss : 1.2300321915570427\n",
      "unweighted_accuracy : 0.4794007490636704 weighted_accuracy : 0.5786065786065787\n",
      "Changed learning rate to 2.0000000000000003e-06\n"
     ]
    },
    {
     "name": "stderr",
     "output_type": "stream",
     "text": [
      "76it [00:10,  7.37it/s]\n",
      "1it [00:00,  7.41it/s]"
     ]
    },
    {
     "name": "stdout",
     "output_type": "stream",
     "text": [
      "Epoch - 10 Train-Loss : 0.9754643769640672 Valid-Loss : 1.2189198522006763\n",
      "unweighted_accuracy : 0.4868913857677903 weighted_accuracy : 0.5898828431475668\n"
     ]
    },
    {
     "name": "stderr",
     "output_type": "stream",
     "text": [
      "4it [00:00,  6.91it/s]"
     ]
    }
   ],
   "source": [
    "audio_train_loader = DataLoader(train_audio[3], batch_size=32, shuffle=False)\n",
    "audio_valid_loader = DataLoader(valid_audio[3], batch_size=32, shuffle=False)\n",
    "comment=\"Audio validation : {}\".format(3)\n",
    "a_loss, a_uwa, a_wa = validate_audio(audio_train_loader, audio_valid_loader, comment)\n",
    "\n",
    "a_losses.append(a_loss)\n",
    "a_uwas.append(a_uwa)\n",
    "a_was.append(a_wa)\n",
    "\n"
   ]
  },
  {
   "cell_type": "code",
   "execution_count": 66,
   "metadata": {},
   "outputs": [
    {
     "name": "stderr",
     "output_type": "stream",
     "text": [
      "70it [00:09,  7.40it/s]\n",
      "1it [00:00,  7.44it/s]"
     ]
    },
    {
     "name": "stdout",
     "output_type": "stream",
     "text": [
      "Epoch - 5 Train-Loss : 1.1211950940745217 Valid-Loss : 1.19667677257372\n",
      "unweighted_accuracy : 0.541838134430727 weighted_accuracy : 0.6041201173944537\n"
     ]
    },
    {
     "name": "stderr",
     "output_type": "stream",
     "text": [
      "70it [00:09,  7.38it/s]\n",
      "1it [00:00,  7.18it/s]"
     ]
    },
    {
     "name": "stdout",
     "output_type": "stream",
     "text": [
      "Epoch - 6 Train-Loss : 1.092919683456421 Valid-Loss : 1.1941716178603794\n",
      "unweighted_accuracy : 0.541838134430727 weighted_accuracy : 0.6160096818810512\n"
     ]
    },
    {
     "name": "stderr",
     "output_type": "stream",
     "text": [
      "70it [00:09,  7.30it/s]\n",
      "1it [00:00,  7.44it/s]"
     ]
    },
    {
     "name": "stdout",
     "output_type": "stream",
     "text": [
      "Epoch - 7 Train-Loss : 1.0663431721074241 Valid-Loss : 1.1929851278014805\n",
      "unweighted_accuracy : 0.5349794238683128 weighted_accuracy : 0.6181284765257202\n"
     ]
    },
    {
     "name": "stderr",
     "output_type": "stream",
     "text": [
      "70it [00:09,  7.35it/s]\n",
      "1it [00:00,  7.43it/s]"
     ]
    },
    {
     "name": "stdout",
     "output_type": "stream",
     "text": [
      "Epoch - 8 Train-Loss : 1.0421322584152222 Valid-Loss : 1.1921221095582712\n",
      "unweighted_accuracy : 0.5349794238683128 weighted_accuracy : 0.6324066699044844\n"
     ]
    },
    {
     "name": "stderr",
     "output_type": "stream",
     "text": [
      "70it [00:09,  7.37it/s]\n",
      "1it [00:00,  7.39it/s]"
     ]
    },
    {
     "name": "stdout",
     "output_type": "stream",
     "text": [
      "Epoch - 9 Train-Loss : 1.0200192740985325 Valid-Loss : 1.1908211137937463\n",
      "unweighted_accuracy : 0.532235939643347 weighted_accuracy : 0.6257231993106526\n",
      "Changed learning rate to 2.0000000000000003e-06\n"
     ]
    },
    {
     "name": "stderr",
     "output_type": "stream",
     "text": [
      "70it [00:09,  7.37it/s]\n",
      "1it [00:00,  7.38it/s]"
     ]
    },
    {
     "name": "stdout",
     "output_type": "stream",
     "text": [
      "Epoch - 10 Train-Loss : 1.0067213211740766 Valid-Loss : 1.1646522024403447\n",
      "unweighted_accuracy : 0.5692729766803841 weighted_accuracy : 0.6198207960989537\n"
     ]
    },
    {
     "name": "stderr",
     "output_type": "stream",
     "text": [
      "70it [00:09,  7.35it/s]\n",
      "1it [00:00,  7.45it/s]"
     ]
    },
    {
     "name": "stdout",
     "output_type": "stream",
     "text": [
      "Epoch - 11 Train-Loss : 0.9988967597484588 Valid-Loss : 1.1640066945034524\n",
      "unweighted_accuracy : 0.5720164609053497 weighted_accuracy : 0.625890764039293\n"
     ]
    },
    {
     "name": "stderr",
     "output_type": "stream",
     "text": [
      "70it [00:09,  7.37it/s]\n",
      "1it [00:00,  7.38it/s]"
     ]
    },
    {
     "name": "stdout",
     "output_type": "stream",
     "text": [
      "Epoch - 12 Train-Loss : 0.9962200786386217 Valid-Loss : 1.1638933575671653\n",
      "unweighted_accuracy : 0.5720164609053497 weighted_accuracy : 0.6269961504007471\n"
     ]
    },
    {
     "name": "stderr",
     "output_type": "stream",
     "text": [
      "70it [00:09,  7.31it/s]\n",
      "1it [00:00,  7.40it/s]"
     ]
    },
    {
     "name": "stdout",
     "output_type": "stream",
     "text": [
      "Epoch - 13 Train-Loss : 0.9937410524913243 Valid-Loss : 1.163814928220666\n",
      "unweighted_accuracy : 0.5692729766803841 weighted_accuracy : 0.6241440906817346\n"
     ]
    },
    {
     "name": "stderr",
     "output_type": "stream",
     "text": [
      "70it [00:09,  7.32it/s]\n",
      "1it [00:00,  7.27it/s]"
     ]
    },
    {
     "name": "stdout",
     "output_type": "stream",
     "text": [
      "Epoch - 14 Train-Loss : 0.9913747710841042 Valid-Loss : 1.1637188973634138\n",
      "unweighted_accuracy : 0.5692729766803841 weighted_accuracy : 0.6236747308110512\n"
     ]
    },
    {
     "name": "stderr",
     "output_type": "stream",
     "text": [
      "70it [00:09,  7.33it/s]\n"
     ]
    },
    {
     "name": "stdout",
     "output_type": "stream",
     "text": [
      "Epoch - 15 Train-Loss : 0.9890804409980773 Valid-Loss : 1.1636328645374463\n",
      "unweighted_accuracy : 0.5679012345679012 weighted_accuracy : 0.6218800386264457\n",
      "validation over\n"
     ]
    }
   ],
   "source": [
    "audio_train_loader = DataLoader(train_audio[4], batch_size=32, shuffle=False)\n",
    "audio_valid_loader = DataLoader(valid_audio[4], batch_size=32, shuffle=False)\n",
    "comment=\"Audio validation : {}\".format(4)\n",
    "a_loss, a_uwa, a_wa = validate_audio(audio_train_loader, audio_valid_loader, comment)\n",
    "\n",
    "a_losses.append(a_loss)\n",
    "a_uwas.append(a_uwa)\n",
    "a_was.append(a_wa)\n",
    "\n"
   ]
  },
  {
   "cell_type": "code",
   "execution_count": 67,
   "metadata": {},
   "outputs": [
    {
     "data": {
      "text/plain": [
       "(1.159422809882542, 0.5806207404034505, 0.6198180167113558)"
      ]
     },
     "execution_count": 67,
     "metadata": {},
     "output_type": "execute_result"
    }
   ],
   "source": [
    "mean(a_losses), mean(a_uwas), mean(a_was)"
   ]
  },
  {
   "cell_type": "code",
   "execution_count": null,
   "metadata": {},
   "outputs": [],
   "source": [
    "t_losses = []\n",
    "t_uwas = []\n",
    "t_was = []"
   ]
  },
  {
   "cell_type": "code",
   "execution_count": 38,
   "metadata": {},
   "outputs": [
    {
     "name": "stdout",
     "output_type": "stream",
     "text": [
      "Training Text Model\n"
     ]
    },
    {
     "name": "stderr",
     "output_type": "stream",
     "text": [
      "/anaconda/envs/py36/lib/python3.6/site-packages/sklearn/metrics/classification.py:1437: UserWarning: y_pred contains classes not in y_true\n",
      "  warnings.warn('y_pred contains classes not in y_true')\n"
     ]
    },
    {
     "name": "stdout",
     "output_type": "stream",
     "text": [
      "Epoch - 5 Train-Loss : 1.252090573310852 Valid-Loss : 1.3160866498947144\n",
      "unweighted_accuracy : 0.42829827915869984 weighted_accuracy : 0.42829827915869984\n",
      "Epoch - 10 Train-Loss : 1.2540449301401775 Valid-Loss : 1.3165521621704102\n",
      "unweighted_accuracy : 0.42829827915869984 weighted_accuracy : 0.21455938697318008\n",
      "Epoch - 15 Train-Loss : 1.2507102092107136 Valid-Loss : 1.321996808052063\n",
      "unweighted_accuracy : 0.4321223709369025 weighted_accuracy : 0.588310854206808\n",
      "Epoch - 20 Train-Loss : 1.2536580562591553 Valid-Loss : 1.317845344543457\n",
      "unweighted_accuracy : 0.42829827915869984 weighted_accuracy : 0.42829827915869984\n",
      "Epoch - 25 Train-Loss : 1.253665804862976 Valid-Loss : 1.3197951316833496\n",
      "unweighted_accuracy : 0.42829827915869984 weighted_accuracy : 0.42829827915869984\n",
      "Epoch - 30 Train-Loss : 1.2531375487645466 Valid-Loss : 1.3199560642242432\n",
      "unweighted_accuracy : 0.42829827915869984 weighted_accuracy : 0.42829827915869984\n",
      "Epoch - 35 Train-Loss : 1.2528282006581624 Valid-Loss : 1.3198151588439941\n",
      "unweighted_accuracy : 0.42829827915869984 weighted_accuracy : 0.42829827915869984\n",
      "Epoch - 40 Train-Loss : 1.2523688475290935 Valid-Loss : 1.3199653625488281\n",
      "unweighted_accuracy : 0.42829827915869984 weighted_accuracy : 0.42829827915869984\n",
      "Epoch - 45 Train-Loss : 1.250819484392802 Valid-Loss : 1.3217977285385132\n",
      "unweighted_accuracy : 0.42829827915869984 weighted_accuracy : 0.21455938697318008\n",
      "Epoch - 50 Train-Loss : 1.2539153893788655 Valid-Loss : 1.3203679323196411\n",
      "unweighted_accuracy : 0.42829827915869984 weighted_accuracy : 0.42829827915869984\n",
      "Epoch - 55 Train-Loss : 1.2535121440887451 Valid-Loss : 1.3204540014266968\n",
      "unweighted_accuracy : 0.42829827915869984 weighted_accuracy : 0.42829827915869984\n",
      "Epoch - 60 Train-Loss : 1.2528509696324666 Valid-Loss : 1.3201392889022827\n",
      "unweighted_accuracy : 0.43021032504780116 weighted_accuracy : 0.4649712092130518\n",
      "Epoch - 65 Train-Loss : 1.2522008419036865 Valid-Loss : 1.3199666738510132\n",
      "unweighted_accuracy : 0.42829827915869984 weighted_accuracy : 0.38108974358974357\n",
      "Epoch - 70 Train-Loss : 1.251586635907491 Valid-Loss : 1.3195154666900635\n",
      "unweighted_accuracy : 0.42829827915869984 weighted_accuracy : 0.38108974358974357\n",
      "Epoch - 75 Train-Loss : 1.2507555882136028 Valid-Loss : 1.319373369216919\n",
      "unweighted_accuracy : 0.42829827915869984 weighted_accuracy : 0.38108974358974357\n",
      "Epoch - 80 Train-Loss : 1.2486930290857952 Valid-Loss : 1.3185759782791138\n",
      "unweighted_accuracy : 0.4340344168260038 weighted_accuracy : 0.4391482922611327\n",
      "Epoch - 85 Train-Loss : 1.2414017915725708 Valid-Loss : 1.3006775379180908\n",
      "unweighted_accuracy : 0.4397705544933078 weighted_accuracy : 0.41764069264069265\n",
      "Epoch - 90 Train-Loss : 1.249350627263387 Valid-Loss : 1.3232767581939697\n",
      "unweighted_accuracy : 0.42829827915869984 weighted_accuracy : 0.21455938697318008\n",
      "Epoch - 95 Train-Loss : 1.2460494836171467 Valid-Loss : 1.316626787185669\n",
      "unweighted_accuracy : 0.43021032504780116 weighted_accuracy : 0.3589424141749723\n",
      "Epoch - 100 Train-Loss : 1.2397529284159343 Valid-Loss : 1.3172667026519775\n",
      "unweighted_accuracy : 0.4359464627151052 weighted_accuracy : 0.4674757281553398\n",
      "Epoch - 105 Train-Loss : 1.17811785141627 Valid-Loss : 1.4814823865890503\n",
      "unweighted_accuracy : 0.4110898661567878 weighted_accuracy : 0.42220744680851063\n",
      "Epoch - 110 Train-Loss : 1.0872247815132141 Valid-Loss : 1.312606930732727\n",
      "unweighted_accuracy : 0.4416826003824092 weighted_accuracy : 0.41995894909688014\n",
      "Epoch - 115 Train-Loss : 1.1142654220263164 Valid-Loss : 1.2512866258621216\n",
      "unweighted_accuracy : 0.4474187380497132 weighted_accuracy : 0.4376465350942276\n",
      "Epoch - 120 Train-Loss : 1.0081461866696675 Valid-Loss : 1.3653286695480347\n",
      "unweighted_accuracy : 0.4416826003824092 weighted_accuracy : 0.4363432046536224\n",
      "Epoch - 125 Train-Loss : 0.9585751493771871 Valid-Loss : 1.3952962160110474\n",
      "unweighted_accuracy : 0.4378585086042065 weighted_accuracy : 0.37362375108775225\n",
      "Epoch - 130 Train-Loss : 0.9058161576588949 Valid-Loss : 1.3568968772888184\n",
      "unweighted_accuracy : 0.48565965583174 weighted_accuracy : 0.4721192535563793\n",
      "Epoch - 135 Train-Loss : 0.8596916000048319 Valid-Loss : 1.3666718006134033\n",
      "unweighted_accuracy : 0.5047801147227533 weighted_accuracy : 0.5023766289254432\n",
      "Epoch - 140 Train-Loss : 0.7669015725453695 Valid-Loss : 1.4679949283599854\n",
      "unweighted_accuracy : 0.42447418738049714 weighted_accuracy : 0.4167845624923938\n",
      "Epoch - 145 Train-Loss : 0.706358790397644 Valid-Loss : 1.5004303455352783\n",
      "unweighted_accuracy : 0.4722753346080306 weighted_accuracy : 0.4419295970933437\n",
      "Epoch - 150 Train-Loss : 0.6575151880582174 Valid-Loss : 1.5938012599945068\n",
      "unweighted_accuracy : 0.42829827915869984 weighted_accuracy : 0.45382760827632246\n",
      "Epoch - 155 Train-Loss : 0.6416225632031759 Valid-Loss : 1.6188749074935913\n",
      "unweighted_accuracy : 0.4340344168260038 weighted_accuracy : 0.45128640215278937\n",
      "Epoch - 160 Train-Loss : 0.5785488784313202 Valid-Loss : 1.648865818977356\n",
      "unweighted_accuracy : 0.43021032504780116 weighted_accuracy : 0.46003357467664446\n",
      "Epoch - 165 Train-Loss : 0.5943871835867564 Valid-Loss : 1.6869128942489624\n",
      "unweighted_accuracy : 0.4397705544933078 weighted_accuracy : 0.3208581231450382\n",
      "Epoch - 170 Train-Loss : 0.5482548971970876 Valid-Loss : 1.650429606437683\n",
      "unweighted_accuracy : 0.42447418738049714 weighted_accuracy : 0.33108168161082274\n",
      "Epoch - 175 Train-Loss : 0.5017602741718292 Valid-Loss : 1.7897047996520996\n",
      "unweighted_accuracy : 0.42638623326959846 weighted_accuracy : 0.4016282507797613\n",
      "Epoch - 180 Train-Loss : 0.47052882115046185 Valid-Loss : 1.8273420333862305\n",
      "unweighted_accuracy : 0.4416826003824092 weighted_accuracy : 0.4047232373030643\n",
      "Epoch - 185 Train-Loss : 0.3883269478877385 Valid-Loss : 1.8496463298797607\n",
      "unweighted_accuracy : 0.4588910133843212 weighted_accuracy : 0.3724085656990068\n",
      "Epoch - 190 Train-Loss : 0.34846724569797516 Valid-Loss : 1.8959985971450806\n",
      "unweighted_accuracy : 0.45506692160611856 weighted_accuracy : 0.39671080203258424\n",
      "Epoch - 195 Train-Loss : 0.30978262921174365 Valid-Loss : 1.9935020208358765\n",
      "unweighted_accuracy : 0.4225621414913958 weighted_accuracy : 0.38891104301351653\n",
      "Epoch - 200 Train-Loss : 0.3023470640182495 Valid-Loss : 1.9566479921340942\n",
      "unweighted_accuracy : 0.42638623326959846 weighted_accuracy : 0.3984451036739727\n",
      "Epoch - 205 Train-Loss : 0.26725005110104877 Valid-Loss : 2.131887435913086\n",
      "unweighted_accuracy : 0.42065009560229444 weighted_accuracy : 0.3869246260069045\n",
      "Epoch - 210 Train-Loss : 0.24937817454338074 Valid-Loss : 2.0937209129333496\n",
      "unweighted_accuracy : 0.4378585086042065 weighted_accuracy : 0.41325312435780914\n",
      "Epoch - 215 Train-Loss : 0.2640746881564458 Valid-Loss : 2.1850175857543945\n",
      "unweighted_accuracy : 0.42829827915869984 weighted_accuracy : 0.3982652874005085\n",
      "Epoch - 220 Train-Loss : 0.33939329783121747 Valid-Loss : 1.7759758234024048\n",
      "unweighted_accuracy : 0.4110898661567878 weighted_accuracy : 0.3783979081901659\n",
      "Epoch - 225 Train-Loss : 0.2757767786582311 Valid-Loss : 2.0385591983795166\n",
      "unweighted_accuracy : 0.4187380497131931 weighted_accuracy : 0.38860316042830617\n",
      "Epoch - 230 Train-Loss : 0.25709674259026843 Valid-Loss : 2.1049082279205322\n",
      "unweighted_accuracy : 0.4149139579349904 weighted_accuracy : 0.38938696196528677\n",
      "Epoch - 235 Train-Loss : 0.23020794490973154 Valid-Loss : 2.143946409225464\n",
      "unweighted_accuracy : 0.4588910133843212 weighted_accuracy : 0.4073216328865642\n",
      "Epoch - 240 Train-Loss : 0.26807596286137897 Valid-Loss : 2.1477787494659424\n",
      "unweighted_accuracy : 0.42447418738049714 weighted_accuracy : 0.3910113038978853\n",
      "Epoch - 245 Train-Loss : 0.23975993196169534 Valid-Loss : 2.121398448944092\n",
      "unweighted_accuracy : 0.42447418738049714 weighted_accuracy : 0.38605717943247275\n",
      "Epoch - 250 Train-Loss : 0.22542144854863486 Valid-Loss : 2.2046637535095215\n",
      "unweighted_accuracy : 0.42638623326959846 weighted_accuracy : 0.38961622527799\n",
      "Epoch - 255 Train-Loss : 0.22040539979934692 Valid-Loss : 2.278451681137085\n",
      "unweighted_accuracy : 0.43021032504780116 weighted_accuracy : 0.3987913624641314\n",
      "Epoch - 260 Train-Loss : 0.24772745867570242 Valid-Loss : 1.95319664478302\n",
      "unweighted_accuracy : 0.4168260038240918 weighted_accuracy : 0.4031985641567767\n",
      "Epoch - 265 Train-Loss : 0.21475099523862204 Valid-Loss : 2.1911468505859375\n",
      "unweighted_accuracy : 0.47609942638623326 weighted_accuracy : 0.425431554297948\n"
     ]
    },
    {
     "name": "stdout",
     "output_type": "stream",
     "text": [
      "Epoch - 270 Train-Loss : 0.19684582451979318 Valid-Loss : 2.2611701488494873\n",
      "unweighted_accuracy : 0.4684512428298279 weighted_accuracy : 0.4175217129638099\n",
      "Epoch - 275 Train-Loss : 0.19920291503270468 Valid-Loss : 2.2720651626586914\n",
      "unweighted_accuracy : 0.4378585086042065 weighted_accuracy : 0.4116877602454526\n",
      "Epoch - 280 Train-Loss : 0.18882025529940924 Valid-Loss : 2.331650733947754\n",
      "unweighted_accuracy : 0.47992351816443596 weighted_accuracy : 0.42943105671296267\n",
      "Epoch - 285 Train-Loss : 0.1749906837940216 Valid-Loss : 2.4118499755859375\n",
      "unweighted_accuracy : 0.4340344168260038 weighted_accuracy : 0.4196607987642005\n",
      "Epoch - 290 Train-Loss : 0.15700294574101767 Valid-Loss : 2.456967830657959\n",
      "unweighted_accuracy : 0.47418738049713194 weighted_accuracy : 0.43513515798576585\n",
      "Epoch - 295 Train-Loss : 0.15913129349549612 Valid-Loss : 2.5600662231445312\n",
      "unweighted_accuracy : 0.47036328871892924 weighted_accuracy : 0.4304163484127558\n",
      "Epoch - 300 Train-Loss : 0.15626291185617447 Valid-Loss : 2.597010850906372\n",
      "unweighted_accuracy : 0.4665391969407266 weighted_accuracy : 0.4280607886030212\n",
      "validation over\n"
     ]
    },
    {
     "name": "stderr",
     "output_type": "stream",
     "text": [
      "/anaconda/envs/py36/lib/python3.6/site-packages/torch/serialization.py:402: UserWarning: Couldn't retrieve source code for container of type LSTM. It won't be checked for correctness upon loading.\n",
      "  \"type \" + obj.__name__ + \". It won't be checked \"\n"
     ]
    }
   ],
   "source": [
    "text_train_loader = DataLoader(train_text[0], batch_size=1000, shuffle=False)\n",
    "text_valid_loader = DataLoader(valid_text[0], batch_size=1000, shuffle=False)\n",
    "comment=\"Text validation : {}\".format(0)\n",
    "t_loss, t_uwa, t_wa = validate_text(text_train_loader, text_valid_loader, vocab_size, 50, 64, pretrained_weights, comment)\n",
    "\n",
    "t_losses.append(t_loss)\n",
    "t_uwas.append(t_uwa)\n",
    "t_was.append(t_wa)"
   ]
  },
  {
   "cell_type": "code",
   "execution_count": 40,
   "metadata": {},
   "outputs": [
    {
     "name": "stdout",
     "output_type": "stream",
     "text": [
      "Training Text Model\n",
      "Epoch - 5 Train-Loss : 1.2688506444295247 Valid-Loss : 1.1891313791275024\n",
      "unweighted_accuracy : 0.4102079395085066 weighted_accuracy : 0.4102079395085066\n",
      "Epoch - 10 Train-Loss : 1.2730892896652222 Valid-Loss : 1.2046594619750977\n",
      "unweighted_accuracy : 0.4102079395085066 weighted_accuracy : 0.4102079395085066\n",
      "Epoch - 15 Train-Loss : 1.2679523229599 Valid-Loss : 1.4244393110275269\n",
      "unweighted_accuracy : 0.31568998109640833 weighted_accuracy : 0.15345630308846003\n",
      "Epoch - 20 Train-Loss : 1.2722065448760986 Valid-Loss : 1.199858546257019\n",
      "unweighted_accuracy : 0.4102079395085066 weighted_accuracy : 0.4102079395085066\n",
      "Epoch - 25 Train-Loss : 1.2716678778330486 Valid-Loss : 1.197521448135376\n",
      "unweighted_accuracy : 0.4102079395085066 weighted_accuracy : 0.4102079395085066\n",
      "Epoch - 30 Train-Loss : 1.2698241869608562 Valid-Loss : 1.19846773147583\n",
      "unweighted_accuracy : 0.4102079395085066 weighted_accuracy : 0.4102079395085066\n",
      "Epoch - 35 Train-Loss : 1.268721103668213 Valid-Loss : 1.1982073783874512\n",
      "unweighted_accuracy : 0.4102079395085066 weighted_accuracy : 0.4102079395085066\n",
      "Epoch - 40 Train-Loss : 1.2674092849095662 Valid-Loss : 1.1983191967010498\n",
      "unweighted_accuracy : 0.4102079395085066 weighted_accuracy : 0.4102079395085066\n",
      "Epoch - 45 Train-Loss : 1.2692418495814006 Valid-Loss : 1.1988459825515747\n",
      "unweighted_accuracy : 0.4102079395085066 weighted_accuracy : 0.4102079395085066\n",
      "Epoch - 50 Train-Loss : 1.2679948806762695 Valid-Loss : 1.1978625059127808\n",
      "unweighted_accuracy : 0.4102079395085066 weighted_accuracy : 0.4102079395085066\n",
      "Epoch - 55 Train-Loss : 1.2671447197596233 Valid-Loss : 1.198822021484375\n",
      "unweighted_accuracy : 0.4064272211720227 weighted_accuracy : 0.13624841571609633\n",
      "Epoch - 60 Train-Loss : 1.2652614514033 Valid-Loss : 1.2048660516738892\n",
      "unweighted_accuracy : 0.4045368620037807 weighted_accuracy : 0.13587301587301587\n",
      "Epoch - 65 Train-Loss : 1.2650305032730103 Valid-Loss : 1.1997807025909424\n",
      "unweighted_accuracy : 0.4045368620037807 weighted_accuracy : 0.3032442748091603\n",
      "Epoch - 70 Train-Loss : 1.259195884068807 Valid-Loss : 1.2394682168960571\n",
      "unweighted_accuracy : 0.4064272211720227 weighted_accuracy : 0.3847025067955301\n",
      "Epoch - 75 Train-Loss : 1.2178800106048584 Valid-Loss : 1.2616080045700073\n",
      "unweighted_accuracy : 0.39697542533081287 weighted_accuracy : 0.24750478878919246\n",
      "Epoch - 80 Train-Loss : 1.1804401675860088 Valid-Loss : 1.2427403926849365\n",
      "unweighted_accuracy : 0.42722117202268434 weighted_accuracy : 0.2878049500856518\n",
      "Epoch - 85 Train-Loss : 1.0476051370302837 Valid-Loss : 1.245762586593628\n",
      "unweighted_accuracy : 0.504725897920605 weighted_accuracy : 0.337097841917119\n",
      "Epoch - 90 Train-Loss : 0.9304516514142355 Valid-Loss : 1.2720924615859985\n",
      "unweighted_accuracy : 0.5311909262759924 weighted_accuracy : 0.319779772799907\n",
      "Epoch - 95 Train-Loss : 0.824237326780955 Valid-Loss : 1.450575828552246\n",
      "unweighted_accuracy : 0.5444234404536862 weighted_accuracy : 0.4257731538753914\n",
      "Epoch - 100 Train-Loss : 0.7866097688674927 Valid-Loss : 1.4330145120620728\n",
      "unweighted_accuracy : 0.5444234404536862 weighted_accuracy : 0.4295443042889091\n",
      "Epoch - 105 Train-Loss : 0.7058038612206777 Valid-Loss : 1.2840747833251953\n",
      "unweighted_accuracy : 0.5444234404536862 weighted_accuracy : 0.40358961108559177\n",
      "Epoch - 110 Train-Loss : 0.6310179134209951 Valid-Loss : 1.4176709651947021\n",
      "unweighted_accuracy : 0.5463137996219282 weighted_accuracy : 0.4820989351547186\n",
      "Epoch - 115 Train-Loss : 0.5673065682252248 Valid-Loss : 1.428518533706665\n",
      "unweighted_accuracy : 0.5519848771266541 weighted_accuracy : 0.466165858758285\n",
      "Epoch - 120 Train-Loss : 0.5047110021114349 Valid-Loss : 1.5470876693725586\n",
      "unweighted_accuracy : 0.555765595463138 weighted_accuracy : 0.47372972555634574\n",
      "Epoch - 125 Train-Loss : 0.4375229875246684 Valid-Loss : 1.5457603931427002\n",
      "unweighted_accuracy : 0.5633270321361059 weighted_accuracy : 0.5242290613292815\n",
      "Epoch - 130 Train-Loss : 0.48783737421035767 Valid-Loss : 1.5800637006759644\n",
      "unweighted_accuracy : 0.555765595463138 weighted_accuracy : 0.4648121105919003\n",
      "Epoch - 135 Train-Loss : 0.45858684182167053 Valid-Loss : 1.6161600351333618\n",
      "unweighted_accuracy : 0.5519848771266541 weighted_accuracy : 0.48262909370422324\n",
      "Epoch - 140 Train-Loss : 0.400739848613739 Valid-Loss : 1.579145073890686\n",
      "unweighted_accuracy : 0.5727788279773157 weighted_accuracy : 0.49138225777560424\n",
      "Epoch - 145 Train-Loss : 0.36233286062876385 Valid-Loss : 1.6171495914459229\n",
      "unweighted_accuracy : 0.5614366729678639 weighted_accuracy : 0.5041479857401303\n",
      "Epoch - 150 Train-Loss : 0.35567285617192584 Valid-Loss : 1.6871567964553833\n",
      "unweighted_accuracy : 0.5519848771266541 weighted_accuracy : 0.4838239801667794\n",
      "Epoch - 155 Train-Loss : 0.33382253845532733 Valid-Loss : 1.7226577997207642\n",
      "unweighted_accuracy : 0.5671077504725898 weighted_accuracy : 0.48990056449947494\n",
      "Epoch - 160 Train-Loss : 0.3635555903116862 Valid-Loss : 1.6481744050979614\n",
      "unweighted_accuracy : 0.5595463137996219 weighted_accuracy : 0.4830439163854518\n",
      "Epoch - 165 Train-Loss : 0.3241003106037776 Valid-Loss : 1.9482821226119995\n",
      "unweighted_accuracy : 0.55765595463138 weighted_accuracy : 0.4830167108894793\n",
      "Epoch - 170 Train-Loss : 0.32815446456273395 Valid-Loss : 1.9240776300430298\n",
      "unweighted_accuracy : 0.555765595463138 weighted_accuracy : 0.46701316231367385\n",
      "Epoch - 175 Train-Loss : 0.3067892442146937 Valid-Loss : 1.8618453741073608\n",
      "unweighted_accuracy : 0.555765595463138 weighted_accuracy : 0.487957386244232\n",
      "Epoch - 180 Train-Loss : 0.29641982913017273 Valid-Loss : 1.9284629821777344\n",
      "unweighted_accuracy : 0.555765595463138 weighted_accuracy : 0.48235731792717085\n",
      "Epoch - 185 Train-Loss : 0.2825001080830892 Valid-Loss : 2.0500807762145996\n",
      "unweighted_accuracy : 0.5444234404536862 weighted_accuracy : 0.4727033014733881\n",
      "Epoch - 190 Train-Loss : 0.2765869200229645 Valid-Loss : 1.9958417415618896\n",
      "unweighted_accuracy : 0.5519848771266541 weighted_accuracy : 0.4911127691914712\n",
      "Epoch - 195 Train-Loss : 0.26513837774594623 Valid-Loss : 2.090765953063965\n",
      "unweighted_accuracy : 0.5614366729678639 weighted_accuracy : 0.4789857667493014\n",
      "Epoch - 200 Train-Loss : 0.25883059203624725 Valid-Loss : 2.110483169555664\n",
      "unweighted_accuracy : 0.5614366729678639 weighted_accuracy : 0.4854997890442806\n",
      "Epoch - 205 Train-Loss : 0.24786673982938132 Valid-Loss : 2.298600435256958\n",
      "unweighted_accuracy : 0.553875236294896 weighted_accuracy : 0.47539950995833347\n",
      "Epoch - 210 Train-Loss : 0.2504629095395406 Valid-Loss : 2.2658603191375732\n",
      "unweighted_accuracy : 0.5406427221172023 weighted_accuracy : 0.46066676649117333\n",
      "Epoch - 215 Train-Loss : 0.27168134848276776 Valid-Loss : 1.94441556930542\n",
      "unweighted_accuracy : 0.5406427221172023 weighted_accuracy : 0.45695244605019036\n",
      "Epoch - 220 Train-Loss : 0.2353308399518331 Valid-Loss : 2.2161693572998047\n",
      "unweighted_accuracy : 0.5255198487712666 weighted_accuracy : 0.4444772271623272\n",
      "Epoch - 225 Train-Loss : 0.2224922925233841 Valid-Loss : 2.2852020263671875\n",
      "unweighted_accuracy : 0.5368620037807184 weighted_accuracy : 0.4599616395534122\n",
      "Epoch - 230 Train-Loss : 0.22727054357528687 Valid-Loss : 2.3648288249969482\n",
      "unweighted_accuracy : 0.5274102079395085 weighted_accuracy : 0.44598308414797777\n",
      "Epoch - 235 Train-Loss : 0.22838088870048523 Valid-Loss : 2.2826788425445557\n",
      "unweighted_accuracy : 0.5463137996219282 weighted_accuracy : 0.46411983425155867\n",
      "Epoch - 240 Train-Loss : 0.21335963904857635 Valid-Loss : 2.383470296859741\n",
      "unweighted_accuracy : 0.5293005671077504 weighted_accuracy : 0.45713775339654517\n",
      "Epoch - 245 Train-Loss : 0.21647882461547852 Valid-Loss : 2.3947391510009766\n",
      "unweighted_accuracy : 0.5198487712665406 weighted_accuracy : 0.44194089848099893\n",
      "Epoch - 250 Train-Loss : 0.21765362719694772 Valid-Loss : 2.3182551860809326\n",
      "unweighted_accuracy : 0.5217391304347826 weighted_accuracy : 0.44445327286319936\n",
      "Epoch - 255 Train-Loss : 0.21647493541240692 Valid-Loss : 2.430758237838745\n",
      "unweighted_accuracy : 0.5293005671077504 weighted_accuracy : 0.44749616650924656\n",
      "Epoch - 260 Train-Loss : 0.21235668659210205 Valid-Loss : 2.412229061126709\n",
      "unweighted_accuracy : 0.5274102079395085 weighted_accuracy : 0.44043133966457193\n",
      "Epoch - 265 Train-Loss : 0.21445719401041666 Valid-Loss : 2.488508462905884\n",
      "unweighted_accuracy : 0.5236294896030246 weighted_accuracy : 0.43906729971450786\n"
     ]
    },
    {
     "name": "stdout",
     "output_type": "stream",
     "text": [
      "Epoch - 270 Train-Loss : 0.20494285225868225 Valid-Loss : 2.3988637924194336\n",
      "unweighted_accuracy : 0.5236294896030246 weighted_accuracy : 0.4458747262995702\n",
      "Epoch - 275 Train-Loss : 0.19212614496548971 Valid-Loss : 2.370833396911621\n",
      "unweighted_accuracy : 0.5293005671077504 weighted_accuracy : 0.4525442067993227\n",
      "Epoch - 280 Train-Loss : 0.19096198678016663 Valid-Loss : 2.396437168121338\n",
      "unweighted_accuracy : 0.5425330812854442 weighted_accuracy : 0.4638797038568891\n",
      "Epoch - 285 Train-Loss : 0.18809436758359274 Valid-Loss : 2.4442970752716064\n",
      "unweighted_accuracy : 0.5463137996219282 weighted_accuracy : 0.4609618628109766\n",
      "Epoch - 290 Train-Loss : 0.18185112377007803 Valid-Loss : 2.414764881134033\n",
      "unweighted_accuracy : 0.5274102079395085 weighted_accuracy : 0.44920904890612795\n",
      "Epoch - 295 Train-Loss : 0.18395421405633292 Valid-Loss : 2.4622654914855957\n",
      "unweighted_accuracy : 0.5387523629489603 weighted_accuracy : 0.4660573470168148\n",
      "Epoch - 300 Train-Loss : 0.18060087660948435 Valid-Loss : 2.5168800354003906\n",
      "unweighted_accuracy : 0.5463137996219282 weighted_accuracy : 0.46988459733024956\n",
      "validation over\n"
     ]
    }
   ],
   "source": [
    "text_train_loader = DataLoader(train_text[1], batch_size=1000, shuffle=False)\n",
    "text_valid_loader = DataLoader(valid_text[1], batch_size=1000, shuffle=False)\n",
    "comment=\"Text validation : {}\".format(1)\n",
    "t_loss, t_uwa, t_wa = validate_text(text_train_loader, text_valid_loader, vocab_size, 50, 64, pretrained_weights, comment)\n",
    "\n",
    "t_losses.append(t_loss)\n",
    "t_uwas.append(t_uwa)\n",
    "t_was.append(t_wa)"
   ]
  },
  {
   "cell_type": "code",
   "execution_count": 41,
   "metadata": {},
   "outputs": [
    {
     "name": "stdout",
     "output_type": "stream",
     "text": [
      "Training Text Model\n",
      "Epoch - 5 Train-Loss : 1.2205537954966228 Valid-Loss : 1.493313193321228\n",
      "unweighted_accuracy : 0.31369426751592355 weighted_accuracy : 0.31369426751592355\n",
      "Epoch - 10 Train-Loss : 1.221978227297465 Valid-Loss : 1.4391615390777588\n",
      "unweighted_accuracy : 0.31369426751592355 weighted_accuracy : 0.31369426751592355\n",
      "Epoch - 15 Train-Loss : 1.2211787303288777 Valid-Loss : 1.456871509552002\n",
      "unweighted_accuracy : 0.31369426751592355 weighted_accuracy : 0.31369426751592355\n",
      "Epoch - 20 Train-Loss : 1.2216686010360718 Valid-Loss : 1.4578930139541626\n",
      "unweighted_accuracy : 0.31369426751592355 weighted_accuracy : 0.31369426751592355\n",
      "Epoch - 25 Train-Loss : 1.220909595489502 Valid-Loss : 1.4569162130355835\n",
      "unweighted_accuracy : 0.31369426751592355 weighted_accuracy : 0.31369426751592355\n",
      "Epoch - 30 Train-Loss : 1.2193565766016643 Valid-Loss : 1.4564902782440186\n",
      "unweighted_accuracy : 0.31369426751592355 weighted_accuracy : 0.31369426751592355\n",
      "Epoch - 35 Train-Loss : 1.2509472370147705 Valid-Loss : 1.428715467453003\n",
      "unweighted_accuracy : 0.31369426751592355 weighted_accuracy : 0.31369426751592355\n",
      "Epoch - 40 Train-Loss : 1.219379186630249 Valid-Loss : 1.4720792770385742\n",
      "unweighted_accuracy : 0.31369426751592355 weighted_accuracy : 0.31369426751592355\n",
      "Epoch - 45 Train-Loss : 1.215740164120992 Valid-Loss : 1.4669697284698486\n",
      "unweighted_accuracy : 0.2515923566878981 weighted_accuracy : 0.2599076909421737\n",
      "Epoch - 50 Train-Loss : 1.2168667713801067 Valid-Loss : 1.4581917524337769\n",
      "unweighted_accuracy : 0.3105095541401274 weighted_accuracy : 0.15625\n",
      "Epoch - 55 Train-Loss : 1.2095240751902263 Valid-Loss : 1.4723314046859741\n",
      "unweighted_accuracy : 0.31369426751592355 weighted_accuracy : 0.31369426751592355\n",
      "Epoch - 60 Train-Loss : 1.2018684546152751 Valid-Loss : 1.4670517444610596\n",
      "unweighted_accuracy : 0.31369426751592355 weighted_accuracy : 0.24088960342979637\n",
      "Epoch - 65 Train-Loss : 1.2143712043762207 Valid-Loss : 1.4685168266296387\n",
      "unweighted_accuracy : 0.31369426751592355 weighted_accuracy : 0.31369426751592355\n",
      "Epoch - 70 Train-Loss : 1.2189775705337524 Valid-Loss : 1.4459705352783203\n",
      "unweighted_accuracy : 0.31369426751592355 weighted_accuracy : 0.31369426751592355\n",
      "Epoch - 75 Train-Loss : 1.216931144396464 Valid-Loss : 1.4538745880126953\n",
      "unweighted_accuracy : 0.31369426751592355 weighted_accuracy : 0.31369426751592355\n",
      "Epoch - 80 Train-Loss : 1.213228464126587 Valid-Loss : 1.4556498527526855\n",
      "unweighted_accuracy : 0.31369426751592355 weighted_accuracy : 0.31369426751592355\n",
      "Epoch - 85 Train-Loss : 1.2130008935928345 Valid-Loss : 1.4559444189071655\n",
      "unweighted_accuracy : 0.31369426751592355 weighted_accuracy : 0.15709728867623604\n",
      "Epoch - 90 Train-Loss : 1.2004179159800212 Valid-Loss : 1.4702293872833252\n",
      "unweighted_accuracy : 0.31210191082802546 weighted_accuracy : 0.1711682743837085\n",
      "Epoch - 95 Train-Loss : 1.2177026271820068 Valid-Loss : 1.4279654026031494\n",
      "unweighted_accuracy : 0.31369426751592355 weighted_accuracy : 0.31369426751592355\n",
      "Epoch - 100 Train-Loss : 1.2188280820846558 Valid-Loss : 1.445070743560791\n",
      "unweighted_accuracy : 0.31369426751592355 weighted_accuracy : 0.31369426751592355\n",
      "Epoch - 105 Train-Loss : 1.2165287335713704 Valid-Loss : 1.4576894044876099\n",
      "unweighted_accuracy : 0.31369426751592355 weighted_accuracy : 0.31369426751592355\n",
      "Epoch - 110 Train-Loss : 1.2179723978042603 Valid-Loss : 1.4536429643630981\n",
      "unweighted_accuracy : 0.31369426751592355 weighted_accuracy : 0.31369426751592355\n",
      "Epoch - 115 Train-Loss : 1.2148301601409912 Valid-Loss : 1.4487742185592651\n",
      "unweighted_accuracy : 0.31369426751592355 weighted_accuracy : 0.31369426751592355\n",
      "Epoch - 120 Train-Loss : 1.2170260747273762 Valid-Loss : 1.4533389806747437\n",
      "unweighted_accuracy : 0.31528662420382164 weighted_accuracy : 0.6570972886762361\n",
      "Epoch - 125 Train-Loss : 1.2161214351654053 Valid-Loss : 1.453539490699768\n",
      "unweighted_accuracy : 0.31528662420382164 weighted_accuracy : 0.6570972886762361\n",
      "Epoch - 130 Train-Loss : 1.2138299544652302 Valid-Loss : 1.4507145881652832\n",
      "unweighted_accuracy : 0.31528662420382164 weighted_accuracy : 0.6570972886762361\n",
      "Epoch - 135 Train-Loss : 1.2121332883834839 Valid-Loss : 1.4526690244674683\n",
      "unweighted_accuracy : 0.31687898089171973 weighted_accuracy : 0.532051282051282\n",
      "Epoch - 140 Train-Loss : 1.1960052649180095 Valid-Loss : 1.451197862625122\n",
      "unweighted_accuracy : 0.34394904458598724 weighted_accuracy : 0.4200415917662402\n",
      "Epoch - 145 Train-Loss : 1.1542141834894817 Valid-Loss : 1.48007071018219\n",
      "unweighted_accuracy : 0.35668789808917195 weighted_accuracy : 0.36689469320066337\n",
      "Epoch - 150 Train-Loss : 0.9721317887306213 Valid-Loss : 1.4184050559997559\n",
      "unweighted_accuracy : 0.3980891719745223 weighted_accuracy : 0.4022311649941419\n",
      "Epoch - 155 Train-Loss : 0.8683866659800211 Valid-Loss : 1.430201768875122\n",
      "unweighted_accuracy : 0.40605095541401276 weighted_accuracy : 0.4049910656270306\n",
      "Epoch - 160 Train-Loss : 0.7826326290766398 Valid-Loss : 1.5040919780731201\n",
      "unweighted_accuracy : 0.40605095541401276 weighted_accuracy : 0.4030088062622309\n",
      "Epoch - 165 Train-Loss : 0.8603465358416239 Valid-Loss : 1.5345438718795776\n",
      "unweighted_accuracy : 0.39331210191082805 weighted_accuracy : 0.40365637717327146\n",
      "Epoch - 170 Train-Loss : 0.733273963133494 Valid-Loss : 1.5619691610336304\n",
      "unweighted_accuracy : 0.4012738853503185 weighted_accuracy : 0.39899498509770415\n",
      "Epoch - 175 Train-Loss : 0.6951791445414225 Valid-Loss : 1.6264441013336182\n",
      "unweighted_accuracy : 0.3980891719745223 weighted_accuracy : 0.3961025098860437\n",
      "Epoch - 180 Train-Loss : 0.6707189083099365 Valid-Loss : 1.7158104181289673\n",
      "unweighted_accuracy : 0.40445859872611467 weighted_accuracy : 0.4110003614630837\n",
      "Epoch - 185 Train-Loss : 0.6553985277811686 Valid-Loss : 1.789230227470398\n",
      "unweighted_accuracy : 0.410828025477707 weighted_accuracy : 0.39891101793617517\n",
      "Epoch - 190 Train-Loss : 0.624642421801885 Valid-Loss : 1.7992011308670044\n",
      "unweighted_accuracy : 0.43789808917197454 weighted_accuracy : 0.43493961489541216\n",
      "Epoch - 195 Train-Loss : 0.6251489122708639 Valid-Loss : 1.7679872512817383\n",
      "unweighted_accuracy : 0.43630573248407645 weighted_accuracy : 0.4370939745125717\n",
      "Epoch - 200 Train-Loss : 0.5521508554617564 Valid-Loss : 1.9369903802871704\n",
      "unweighted_accuracy : 0.43471337579617836 weighted_accuracy : 0.4381709547086043\n",
      "Epoch - 205 Train-Loss : 0.5161449412504832 Valid-Loss : 1.9786758422851562\n",
      "unweighted_accuracy : 0.43789808917197454 weighted_accuracy : 0.4510589980978064\n",
      "Epoch - 210 Train-Loss : 0.4650009175141652 Valid-Loss : 1.9788044691085815\n",
      "unweighted_accuracy : 0.4713375796178344 weighted_accuracy : 0.488330993745663\n",
      "Epoch - 215 Train-Loss : 0.39322227239608765 Valid-Loss : 2.0671443939208984\n",
      "unweighted_accuracy : 0.4570063694267516 weighted_accuracy : 0.4254080876624323\n",
      "Epoch - 220 Train-Loss : 0.36895330250263214 Valid-Loss : 2.2697718143463135\n",
      "unweighted_accuracy : 0.45222929936305734 weighted_accuracy : 0.4173244997335859\n",
      "Epoch - 225 Train-Loss : 0.35188042124112445 Valid-Loss : 2.233316659927368\n",
      "unweighted_accuracy : 0.4315286624203822 weighted_accuracy : 0.41113553276045145\n",
      "Epoch - 230 Train-Loss : 0.3098465104897817 Valid-Loss : 2.3748695850372314\n",
      "unweighted_accuracy : 0.43471337579617836 weighted_accuracy : 0.42727741690663473\n",
      "Epoch - 235 Train-Loss : 0.28581759830315906 Valid-Loss : 2.294948101043701\n",
      "unweighted_accuracy : 0.445859872611465 weighted_accuracy : 0.41255313517051284\n",
      "Epoch - 240 Train-Loss : 0.2543736646572749 Valid-Loss : 2.3345983028411865\n",
      "unweighted_accuracy : 0.4681528662420382 weighted_accuracy : 0.44180784706885473\n",
      "Epoch - 245 Train-Loss : 0.21603354811668396 Valid-Loss : 2.5022456645965576\n",
      "unweighted_accuracy : 0.44904458598726116 weighted_accuracy : 0.4363521637751333\n",
      "Epoch - 250 Train-Loss : 0.23116711775461832 Valid-Loss : 2.4908688068389893\n",
      "unweighted_accuracy : 0.44745222929936307 weighted_accuracy : 0.4335760882635883\n",
      "Epoch - 255 Train-Loss : 0.2045637791355451 Valid-Loss : 2.4159255027770996\n",
      "unweighted_accuracy : 0.46496815286624205 weighted_accuracy : 0.44298058629268816\n",
      "Epoch - 260 Train-Loss : 0.18696078658103943 Valid-Loss : 2.5057148933410645\n",
      "unweighted_accuracy : 0.4745222929936306 weighted_accuracy : 0.446991616470041\n",
      "Epoch - 265 Train-Loss : 0.19601336618264517 Valid-Loss : 2.4394052028656006\n",
      "unweighted_accuracy : 0.47929936305732485 weighted_accuracy : 0.45016909516326875\n"
     ]
    },
    {
     "name": "stdout",
     "output_type": "stream",
     "text": [
      "Epoch - 270 Train-Loss : 0.18473405639330545 Valid-Loss : 2.6134984493255615\n",
      "unweighted_accuracy : 0.48089171974522293 weighted_accuracy : 0.4367530345471522\n",
      "Epoch - 275 Train-Loss : 0.1691186601916949 Valid-Loss : 2.4669904708862305\n",
      "unweighted_accuracy : 0.47770700636942676 weighted_accuracy : 0.45568635666365614\n",
      "Epoch - 280 Train-Loss : 0.16401877999305725 Valid-Loss : 2.488884687423706\n",
      "unweighted_accuracy : 0.46337579617834396 weighted_accuracy : 0.4469463322861408\n",
      "Epoch - 285 Train-Loss : 0.15421398480733237 Valid-Loss : 2.709904432296753\n",
      "unweighted_accuracy : 0.47770700636942676 weighted_accuracy : 0.45699766777195083\n",
      "Epoch - 290 Train-Loss : 0.16957303881645203 Valid-Loss : 2.662468671798706\n",
      "unweighted_accuracy : 0.47611464968152867 weighted_accuracy : 0.4371794871794872\n",
      "Epoch - 295 Train-Loss : 0.16663318872451782 Valid-Loss : 2.580683708190918\n",
      "unweighted_accuracy : 0.46496815286624205 weighted_accuracy : 0.4411930598408371\n",
      "Epoch - 300 Train-Loss : 0.1664936045805613 Valid-Loss : 2.3658125400543213\n",
      "unweighted_accuracy : 0.46178343949044587 weighted_accuracy : 0.44369093941078375\n",
      "validation over\n"
     ]
    }
   ],
   "source": [
    "text_train_loader = DataLoader(train_text[2], batch_size=1000, shuffle=False)\n",
    "text_valid_loader = DataLoader(valid_text[2], batch_size=1000, shuffle=False)\n",
    "comment=\"Text validation : {}\".format(2)\n",
    "t_loss, t_uwa, t_wa = validate_text(text_train_loader, text_valid_loader, vocab_size, 50, 64, pretrained_weights, comment)\n",
    "\n",
    "t_losses.append(t_loss)\n",
    "t_uwas.append(t_uwa)\n",
    "t_was.append(t_wa)"
   ]
  },
  {
   "cell_type": "code",
   "execution_count": 42,
   "metadata": {},
   "outputs": [
    {
     "name": "stdout",
     "output_type": "stream",
     "text": [
      "Training Text Model\n",
      "Epoch - 5 Train-Loss : 1.2502099672953289 Valid-Loss : 1.3604512214660645\n",
      "unweighted_accuracy : 0.3295880149812734 weighted_accuracy : 0.3295880149812734\n",
      "Epoch - 10 Train-Loss : 1.2485563357671101 Valid-Loss : 1.3529784679412842\n",
      "unweighted_accuracy : 0.3295880149812734 weighted_accuracy : 0.3295880149812734\n",
      "Epoch - 15 Train-Loss : 1.246622363726298 Valid-Loss : 1.3573945760726929\n",
      "unweighted_accuracy : 0.3295880149812734 weighted_accuracy : 0.3295880149812734\n",
      "Epoch - 20 Train-Loss : 1.2460387150446575 Valid-Loss : 1.3495219945907593\n",
      "unweighted_accuracy : 0.33146067415730335 weighted_accuracy : 0.22180293501048218\n",
      "Epoch - 25 Train-Loss : 1.2450847625732422 Valid-Loss : 1.3543603420257568\n",
      "unweighted_accuracy : 0.33146067415730335 weighted_accuracy : 0.332391713747646\n",
      "Epoch - 30 Train-Loss : 1.2444626490275066 Valid-Loss : 1.3553866147994995\n",
      "unweighted_accuracy : 0.33146067415730335 weighted_accuracy : 0.332391713747646\n",
      "Epoch - 35 Train-Loss : 1.2442583640416462 Valid-Loss : 1.3560558557510376\n",
      "unweighted_accuracy : 0.3295880149812734 weighted_accuracy : 0.1651031894934334\n",
      "Epoch - 40 Train-Loss : 1.2408612966537476 Valid-Loss : 1.3559881448745728\n",
      "unweighted_accuracy : 0.3295880149812734 weighted_accuracy : 0.11048336472065286\n",
      "Epoch - 45 Train-Loss : 1.2403581142425537 Valid-Loss : 1.3576525449752808\n",
      "unweighted_accuracy : 0.3295880149812734 weighted_accuracy : 0.11069182389937106\n",
      "Epoch - 50 Train-Loss : 1.235583980878194 Valid-Loss : 1.3638198375701904\n",
      "unweighted_accuracy : 0.32771535580524347 weighted_accuracy : 0.22137242404928828\n",
      "Epoch - 55 Train-Loss : 1.2290818293889363 Valid-Loss : 1.3587749004364014\n",
      "unweighted_accuracy : 0.32771535580524347 weighted_accuracy : 0.3546594982078853\n",
      "Epoch - 60 Train-Loss : 1.217616041501363 Valid-Loss : 1.3683452606201172\n",
      "unweighted_accuracy : 0.34269662921348315 weighted_accuracy : 0.4288713910761155\n",
      "Epoch - 65 Train-Loss : 1.221918026606242 Valid-Loss : 1.3405027389526367\n",
      "unweighted_accuracy : 0.3408239700374532 weighted_accuracy : 0.40180039598644246\n",
      "Epoch - 70 Train-Loss : 1.1969410181045532 Valid-Loss : 1.3598699569702148\n",
      "unweighted_accuracy : 0.34269662921348315 weighted_accuracy : 0.38275584986397915\n",
      "Epoch - 75 Train-Loss : 1.1855627695719402 Valid-Loss : 1.3695063591003418\n",
      "unweighted_accuracy : 0.3464419475655431 weighted_accuracy : 0.39583672053674973\n",
      "Epoch - 80 Train-Loss : 1.0686732530593872 Valid-Loss : 1.3583202362060547\n",
      "unweighted_accuracy : 0.45880149812734083 weighted_accuracy : 0.4994455460086657\n",
      "Epoch - 85 Train-Loss : 0.8957323233286539 Valid-Loss : 1.4210318326950073\n",
      "unweighted_accuracy : 0.4681647940074906 weighted_accuracy : 0.46533097173713306\n",
      "Epoch - 90 Train-Loss : 0.8242573936780294 Valid-Loss : 1.4128398895263672\n",
      "unweighted_accuracy : 0.45880149812734083 weighted_accuracy : 0.40783843695226313\n",
      "Epoch - 95 Train-Loss : 0.7750723759333292 Valid-Loss : 1.4283854961395264\n",
      "unweighted_accuracy : 0.46254681647940077 weighted_accuracy : 0.38539015324241044\n",
      "Epoch - 100 Train-Loss : 0.6774518589178721 Valid-Loss : 1.5297267436981201\n",
      "unweighted_accuracy : 0.45318352059925093 weighted_accuracy : 0.4193486590038314\n",
      "Epoch - 105 Train-Loss : 0.614220380783081 Valid-Loss : 1.5242477655410767\n",
      "unweighted_accuracy : 0.4850187265917603 weighted_accuracy : 0.4428131439178999\n",
      "Epoch - 110 Train-Loss : 0.540791263182958 Valid-Loss : 1.5897700786590576\n",
      "unweighted_accuracy : 0.4700374531835206 weighted_accuracy : 0.4617574927138541\n",
      "Epoch - 115 Train-Loss : 0.47985466321309406 Valid-Loss : 1.5718493461608887\n",
      "unweighted_accuracy : 0.49625468164794007 weighted_accuracy : 0.47838057745821005\n",
      "Epoch - 120 Train-Loss : 0.410678505897522 Valid-Loss : 1.6785204410552979\n",
      "unweighted_accuracy : 0.5224719101123596 weighted_accuracy : 0.48848429276908656\n",
      "Epoch - 125 Train-Loss : 0.383368859688441 Valid-Loss : 1.7506041526794434\n",
      "unweighted_accuracy : 0.49812734082397003 weighted_accuracy : 0.4622092289902321\n",
      "Epoch - 130 Train-Loss : 0.3351987103621165 Valid-Loss : 1.683599829673767\n",
      "unweighted_accuracy : 0.5355805243445693 weighted_accuracy : 0.5076978557712286\n",
      "Epoch - 135 Train-Loss : 0.3092259814341863 Valid-Loss : 1.8220741748809814\n",
      "unweighted_accuracy : 0.5074906367041199 weighted_accuracy : 0.4746311203243993\n",
      "Epoch - 140 Train-Loss : 0.27327196796735126 Valid-Loss : 1.8249382972717285\n",
      "unweighted_accuracy : 0.5131086142322098 weighted_accuracy : 0.4769887518905725\n",
      "Epoch - 145 Train-Loss : 0.259736105799675 Valid-Loss : 1.9028240442276\n",
      "unweighted_accuracy : 0.5112359550561798 weighted_accuracy : 0.49847971341654795\n",
      "Epoch - 150 Train-Loss : 0.22554505864779154 Valid-Loss : 2.0360589027404785\n",
      "unweighted_accuracy : 0.5187265917602997 weighted_accuracy : 0.5109582216538913\n",
      "Epoch - 155 Train-Loss : 0.23364623387654623 Valid-Loss : 2.149388074874878\n",
      "unweighted_accuracy : 0.4887640449438202 weighted_accuracy : 0.46879661450251575\n",
      "Epoch - 160 Train-Loss : 0.20906286935011545 Valid-Loss : 2.0753700733184814\n",
      "unweighted_accuracy : 0.49250936329588013 weighted_accuracy : 0.4726566314390779\n",
      "Epoch - 165 Train-Loss : 0.1907315949598948 Valid-Loss : 2.2312121391296387\n",
      "unweighted_accuracy : 0.50187265917603 weighted_accuracy : 0.4719927536231884\n",
      "Epoch - 170 Train-Loss : 0.19552171230316162 Valid-Loss : 2.27502703666687\n",
      "unweighted_accuracy : 0.5056179775280899 weighted_accuracy : 0.47718460154011244\n",
      "Epoch - 175 Train-Loss : 0.17202194531758627 Valid-Loss : 2.2523000240325928\n",
      "unweighted_accuracy : 0.4943820224719101 weighted_accuracy : 0.45507499766713394\n",
      "Epoch - 180 Train-Loss : 0.1734269211689631 Valid-Loss : 2.375731945037842\n",
      "unweighted_accuracy : 0.5149812734082397 weighted_accuracy : 0.4989494452923946\n",
      "Epoch - 185 Train-Loss : 0.17883142828941345 Valid-Loss : 2.203150987625122\n",
      "unweighted_accuracy : 0.50187265917603 weighted_accuracy : 0.48572804314329737\n",
      "Epoch - 190 Train-Loss : 0.17049005130926767 Valid-Loss : 2.205657958984375\n",
      "unweighted_accuracy : 0.49625468164794007 weighted_accuracy : 0.4591241296895258\n",
      "Epoch - 195 Train-Loss : 0.18051300942897797 Valid-Loss : 2.367467164993286\n",
      "unweighted_accuracy : 0.49812734082397003 weighted_accuracy : 0.47558569396077666\n",
      "Epoch - 200 Train-Loss : 0.17627285669247308 Valid-Loss : 2.4162607192993164\n",
      "unweighted_accuracy : 0.5318352059925093 weighted_accuracy : 0.5022005172758941\n",
      "Epoch - 205 Train-Loss : 0.14790544162193933 Valid-Loss : 2.525254487991333\n",
      "unweighted_accuracy : 0.5168539325842697 weighted_accuracy : 0.5028324126771566\n",
      "Epoch - 210 Train-Loss : 0.15274906903505325 Valid-Loss : 2.472832202911377\n",
      "unweighted_accuracy : 0.5056179775280899 weighted_accuracy : 0.4800430804713327\n",
      "Epoch - 215 Train-Loss : 0.14192822327216467 Valid-Loss : 2.553317070007324\n",
      "unweighted_accuracy : 0.4943820224719101 weighted_accuracy : 0.4606299893740777\n",
      "Epoch - 220 Train-Loss : 0.137579674522082 Valid-Loss : 2.506991386413574\n",
      "unweighted_accuracy : 0.50187265917603 weighted_accuracy : 0.47464189500687104\n",
      "Epoch - 225 Train-Loss : 0.14052296181519827 Valid-Loss : 2.559488534927368\n",
      "unweighted_accuracy : 0.5074906367041199 weighted_accuracy : 0.47252248556627596\n",
      "Epoch - 230 Train-Loss : 0.13706463078657785 Valid-Loss : 2.684767723083496\n",
      "unweighted_accuracy : 0.5056179775280899 weighted_accuracy : 0.4795431656737815\n",
      "Epoch - 235 Train-Loss : 0.1409588704506556 Valid-Loss : 2.4222378730773926\n",
      "unweighted_accuracy : 0.5280898876404494 weighted_accuracy : 0.49761584629001276\n",
      "Epoch - 240 Train-Loss : 0.14538990457852682 Valid-Loss : 2.3945624828338623\n",
      "unweighted_accuracy : 0.5393258426966292 weighted_accuracy : 0.5285819544440233\n",
      "Epoch - 245 Train-Loss : 0.14119586100180945 Valid-Loss : 2.53035831451416\n",
      "unweighted_accuracy : 0.5168539325842697 weighted_accuracy : 0.5026495672896024\n",
      "Epoch - 250 Train-Loss : 0.1273072510957718 Valid-Loss : 2.577361583709717\n",
      "unweighted_accuracy : 0.5318352059925093 weighted_accuracy : 0.49897956260600984\n",
      "Epoch - 255 Train-Loss : 0.13825547446807226 Valid-Loss : 2.522580862045288\n",
      "unweighted_accuracy : 0.5280898876404494 weighted_accuracy : 0.5085959383753501\n",
      "Epoch - 260 Train-Loss : 0.1443603535493215 Valid-Loss : 2.3754281997680664\n",
      "unweighted_accuracy : 0.5262172284644194 weighted_accuracy : 0.517209561830202\n",
      "Epoch - 265 Train-Loss : 0.14628825088342032 Valid-Loss : 2.4366466999053955\n",
      "unweighted_accuracy : 0.5280898876404494 weighted_accuracy : 0.4944229656482132\n"
     ]
    },
    {
     "name": "stdout",
     "output_type": "stream",
     "text": [
      "Epoch - 270 Train-Loss : 0.12728859980901083 Valid-Loss : 2.5325253009796143\n",
      "unweighted_accuracy : 0.5093632958801498 weighted_accuracy : 0.47901915725560895\n",
      "Epoch - 275 Train-Loss : 0.13324010372161865 Valid-Loss : 2.620513677597046\n",
      "unweighted_accuracy : 0.5224719101123596 weighted_accuracy : 0.4832224242060308\n",
      "Epoch - 280 Train-Loss : 0.14481928944587708 Valid-Loss : 2.7182071208953857\n",
      "unweighted_accuracy : 0.5131086142322098 weighted_accuracy : 0.48563645468470495\n",
      "Epoch - 285 Train-Loss : 0.13479936867952347 Valid-Loss : 2.4874484539031982\n",
      "unweighted_accuracy : 0.5131086142322098 weighted_accuracy : 0.4860992556983364\n",
      "Epoch - 290 Train-Loss : 0.13693790634473166 Valid-Loss : 2.574989080429077\n",
      "unweighted_accuracy : 0.5355805243445693 weighted_accuracy : 0.5139700700576213\n",
      "Epoch - 295 Train-Loss : 0.12911691019932428 Valid-Loss : 2.465425729751587\n",
      "unweighted_accuracy : 0.5374531835205992 weighted_accuracy : 0.5068866738334838\n",
      "Epoch - 300 Train-Loss : 0.1235200713078181 Valid-Loss : 2.6979870796203613\n",
      "unweighted_accuracy : 0.5374531835205992 weighted_accuracy : 0.5128023826520542\n",
      "validation over\n"
     ]
    }
   ],
   "source": [
    "text_train_loader = DataLoader(train_text[3], batch_size=1000, shuffle=False)\n",
    "text_valid_loader = DataLoader(valid_text[3], batch_size=1000, shuffle=False)\n",
    "comment=\"Text validation : {}\".format(3)\n",
    "t_loss, t_uwa, t_wa = validate_text(text_train_loader, text_valid_loader, vocab_size, 50, 64, pretrained_weights, comment)\n",
    "\n",
    "t_losses.append(t_loss)\n",
    "t_uwas.append(t_uwa)\n",
    "t_was.append(t_wa)"
   ]
  },
  {
   "cell_type": "code",
   "execution_count": 43,
   "metadata": {},
   "outputs": [
    {
     "name": "stdout",
     "output_type": "stream",
     "text": [
      "Training Text Model\n",
      "Epoch - 5 Train-Loss : 1.3014346361160278 Valid-Loss : 1.2054779529571533\n",
      "unweighted_accuracy : 0.3895747599451303 weighted_accuracy : 0.1953232462173315\n",
      "Epoch - 10 Train-Loss : 1.2969671090443928 Valid-Loss : 1.225237488746643\n",
      "unweighted_accuracy : 0.38820301783264743 weighted_accuracy : 0.1966804979253112\n",
      "Epoch - 15 Train-Loss : 1.295925259590149 Valid-Loss : 1.2184544801712036\n",
      "unweighted_accuracy : 0.39231824417009603 weighted_accuracy : 0.4639080459770115\n",
      "Epoch - 20 Train-Loss : 1.2938182751337688 Valid-Loss : 1.2201236486434937\n",
      "unweighted_accuracy : 0.38820301783264743 weighted_accuracy : 0.21334716459197786\n",
      "Epoch - 25 Train-Loss : 1.2948696215947468 Valid-Loss : 1.2193821668624878\n",
      "unweighted_accuracy : 0.38820301783264743 weighted_accuracy : 0.1966804979253112\n",
      "Epoch - 30 Train-Loss : 1.294488787651062 Valid-Loss : 1.2226511240005493\n",
      "unweighted_accuracy : 0.38820301783264743 weighted_accuracy : 0.24112494236975565\n",
      "Epoch - 35 Train-Loss : 1.2940397262573242 Valid-Loss : 1.2302772998809814\n",
      "unweighted_accuracy : 0.3868312757201646 weighted_accuracy : 0.130374479889043\n",
      "Epoch - 40 Train-Loss : 1.3046993811925252 Valid-Loss : 1.2184555530548096\n",
      "unweighted_accuracy : 0.3936899862825789 weighted_accuracy : 0.4736111111111111\n",
      "Epoch - 45 Train-Loss : 1.2943867047627766 Valid-Loss : 1.2175291776657104\n",
      "unweighted_accuracy : 0.39094650205761317 weighted_accuracy : 0.39544198895027627\n",
      "Epoch - 50 Train-Loss : 1.2932090361913045 Valid-Loss : 1.2200543880462646\n",
      "unweighted_accuracy : 0.3895747599451303 weighted_accuracy : 0.2413846391593262\n",
      "Epoch - 55 Train-Loss : 1.2926311095555623 Valid-Loss : 1.223853349685669\n",
      "unweighted_accuracy : 0.3936899862825789 weighted_accuracy : 0.28261696462533287\n",
      "Epoch - 60 Train-Loss : 1.29017170270284 Valid-Loss : 1.2331410646438599\n",
      "unweighted_accuracy : 0.3895747599451303 weighted_accuracy : 0.24194791185082445\n",
      "Epoch - 65 Train-Loss : 1.293109655380249 Valid-Loss : 1.2365254163742065\n",
      "unweighted_accuracy : 0.3868312757201646 weighted_accuracy : 0.2627450980392157\n",
      "Epoch - 70 Train-Loss : 1.2903588215510051 Valid-Loss : 1.2275233268737793\n",
      "unweighted_accuracy : 0.39094650205761317 weighted_accuracy : 0.24749652294853963\n",
      "Epoch - 75 Train-Loss : 1.2870959440867107 Valid-Loss : 1.229227066040039\n",
      "unweighted_accuracy : 0.39231824417009603 weighted_accuracy : 0.33953304313415117\n",
      "Epoch - 80 Train-Loss : 1.2923410733540852 Valid-Loss : 1.2189781665802002\n",
      "unweighted_accuracy : 0.3895747599451303 weighted_accuracy : 0.19505494505494506\n",
      "Epoch - 85 Train-Loss : 1.2917956511179607 Valid-Loss : 1.2193939685821533\n",
      "unweighted_accuracy : 0.3895747599451303 weighted_accuracy : 0.1953232462173315\n",
      "Epoch - 90 Train-Loss : 1.2907836039861043 Valid-Loss : 1.2224195003509521\n",
      "unweighted_accuracy : 0.3895747599451303 weighted_accuracy : 0.1953232462173315\n",
      "Epoch - 95 Train-Loss : 1.2858928044637044 Valid-Loss : 1.2351963520050049\n",
      "unweighted_accuracy : 0.39231824417009603 weighted_accuracy : 0.3219486823855756\n",
      "Epoch - 100 Train-Loss : 1.2808099587758381 Valid-Loss : 1.2645301818847656\n",
      "unweighted_accuracy : 0.38820301783264743 weighted_accuracy : 0.2679320679320679\n",
      "Epoch - 105 Train-Loss : 1.2789791822433472 Valid-Loss : 1.2521438598632812\n",
      "unweighted_accuracy : 0.38820301783264743 weighted_accuracy : 0.19544198895027623\n",
      "Epoch - 110 Train-Loss : 1.2738178968429565 Valid-Loss : 1.2446281909942627\n",
      "unweighted_accuracy : 0.3868312757201646 weighted_accuracy : 0.25736823855755897\n",
      "Epoch - 115 Train-Loss : 1.2476528485616047 Valid-Loss : 1.3076525926589966\n",
      "unweighted_accuracy : 0.4252400548696845 weighted_accuracy : 0.33213845303397543\n",
      "Epoch - 120 Train-Loss : 1.1993465820948284 Valid-Loss : 1.3112819194793701\n",
      "unweighted_accuracy : 0.47050754458161864 weighted_accuracy : 0.24412898863262544\n",
      "Epoch - 125 Train-Loss : 1.1741835673650105 Valid-Loss : 1.2804603576660156\n",
      "unweighted_accuracy : 0.4842249657064472 weighted_accuracy : 0.2845007245414183\n",
      "Epoch - 130 Train-Loss : 1.01045556863149 Valid-Loss : 1.4416604042053223\n",
      "unweighted_accuracy : 0.49657064471879286 weighted_accuracy : 0.25593007239413157\n",
      "Epoch - 135 Train-Loss : 0.8927433888117472 Valid-Loss : 1.3928755521774292\n",
      "unweighted_accuracy : 0.42935528120713307 weighted_accuracy : 0.3554759108704811\n",
      "Epoch - 140 Train-Loss : 0.7669195930163065 Valid-Loss : 1.3624649047851562\n",
      "unweighted_accuracy : 0.45816186556927296 weighted_accuracy : 0.39510692473424613\n",
      "Epoch - 145 Train-Loss : 0.634876529375712 Valid-Loss : 1.60848867893219\n",
      "unweighted_accuracy : 0.4567901234567901 weighted_accuracy : 0.3910567152027491\n",
      "Epoch - 150 Train-Loss : 0.5373269418875376 Valid-Loss : 1.649578332901001\n",
      "unweighted_accuracy : 0.46502057613168724 weighted_accuracy : 0.3853177606038018\n",
      "Epoch - 155 Train-Loss : 0.5001302659511566 Valid-Loss : 1.8249444961547852\n",
      "unweighted_accuracy : 0.44718792866941015 weighted_accuracy : 0.3990805371870081\n",
      "Epoch - 160 Train-Loss : 0.42179539799690247 Valid-Loss : 1.7791614532470703\n",
      "unweighted_accuracy : 0.48559670781893005 weighted_accuracy : 0.42422483296130864\n",
      "Epoch - 165 Train-Loss : 0.3963053027788798 Valid-Loss : 1.910038709640503\n",
      "unweighted_accuracy : 0.4842249657064472 weighted_accuracy : 0.42357923944217474\n",
      "Epoch - 170 Train-Loss : 0.3679017722606659 Valid-Loss : 1.8622252941131592\n",
      "unweighted_accuracy : 0.4993141289437586 weighted_accuracy : 0.42655912032218646\n",
      "Epoch - 175 Train-Loss : 0.3373280813296636 Valid-Loss : 1.9338734149932861\n",
      "unweighted_accuracy : 0.5075445816186557 weighted_accuracy : 0.4446175320846316\n",
      "Epoch - 180 Train-Loss : 0.31841889520486194 Valid-Loss : 2.012380599975586\n",
      "unweighted_accuracy : 0.49657064471879286 weighted_accuracy : 0.4295390574893188\n",
      "Epoch - 185 Train-Loss : 0.2952326188484828 Valid-Loss : 1.9866524934768677\n",
      "unweighted_accuracy : 0.5130315500685871 weighted_accuracy : 0.4407986676312775\n",
      "Epoch - 190 Train-Loss : 0.2966712415218353 Valid-Loss : 2.0783610343933105\n",
      "unweighted_accuracy : 0.5061728395061729 weighted_accuracy : 0.44230651391057907\n",
      "Epoch - 195 Train-Loss : 0.25762522717316944 Valid-Loss : 2.1234142780303955\n",
      "unweighted_accuracy : 0.52400548696845 weighted_accuracy : 0.4335486710020482\n",
      "Epoch - 200 Train-Loss : 0.25811099509398144 Valid-Loss : 2.156566619873047\n",
      "unweighted_accuracy : 0.4883401920438957 weighted_accuracy : 0.41865363796927063\n",
      "Epoch - 205 Train-Loss : 0.21775188048680624 Valid-Loss : 2.3020570278167725\n",
      "unweighted_accuracy : 0.5034293552812071 weighted_accuracy : 0.42757518021853913\n",
      "Epoch - 210 Train-Loss : 0.25204246242841083 Valid-Loss : 2.1638875007629395\n",
      "unweighted_accuracy : 0.5020576131687243 weighted_accuracy : 0.41646870099983996\n",
      "Epoch - 215 Train-Loss : 0.269594207406044 Valid-Loss : 2.3196606636047363\n",
      "unweighted_accuracy : 0.4842249657064472 weighted_accuracy : 0.41522858945677743\n",
      "Epoch - 220 Train-Loss : 0.2499054173628489 Valid-Loss : 2.090632677078247\n",
      "unweighted_accuracy : 0.5020576131687243 weighted_accuracy : 0.4255258957787791\n",
      "Epoch - 225 Train-Loss : 0.23313007255395254 Valid-Loss : 2.170030117034912\n",
      "unweighted_accuracy : 0.5171467764060357 weighted_accuracy : 0.43848362672910574\n",
      "Epoch - 230 Train-Loss : 0.197186807791392 Valid-Loss : 2.3547213077545166\n",
      "unweighted_accuracy : 0.5034293552812071 weighted_accuracy : 0.433508064516129\n",
      "Epoch - 235 Train-Loss : 0.19690659642219543 Valid-Loss : 2.2414393424987793\n",
      "unweighted_accuracy : 0.50480109739369 weighted_accuracy : 0.43072088579287693\n",
      "Epoch - 240 Train-Loss : 0.19458496570587158 Valid-Loss : 2.389029026031494\n",
      "unweighted_accuracy : 0.4691358024691358 weighted_accuracy : 0.430647949817605\n",
      "Epoch - 245 Train-Loss : 0.20201232035954794 Valid-Loss : 2.307497978210449\n",
      "unweighted_accuracy : 0.4869684499314129 weighted_accuracy : 0.4278199112902351\n",
      "Epoch - 250 Train-Loss : 0.19440189003944397 Valid-Loss : 2.4186272621154785\n",
      "unweighted_accuracy : 0.49794238683127573 weighted_accuracy : 0.4284132258715103\n",
      "Epoch - 255 Train-Loss : 0.18584193537632623 Valid-Loss : 2.3463964462280273\n",
      "unweighted_accuracy : 0.4732510288065844 weighted_accuracy : 0.41331892982676655\n",
      "Epoch - 260 Train-Loss : 0.19409215450286865 Valid-Loss : 2.4040777683258057\n",
      "unweighted_accuracy : 0.4828532235939643 weighted_accuracy : 0.42128287984045965\n",
      "Epoch - 265 Train-Loss : 0.18720401326815286 Valid-Loss : 2.4845383167266846\n",
      "unweighted_accuracy : 0.49519890260631 weighted_accuracy : 0.43241516763842036\n"
     ]
    },
    {
     "name": "stdout",
     "output_type": "stream",
     "text": [
      "Epoch - 270 Train-Loss : 0.17558061083157858 Valid-Loss : 2.3676323890686035\n",
      "unweighted_accuracy : 0.48148148148148145 weighted_accuracy : 0.4282874196510561\n",
      "Epoch - 275 Train-Loss : 0.23907069861888885 Valid-Loss : 2.2795894145965576\n",
      "unweighted_accuracy : 0.5075445816186557 weighted_accuracy : 0.4358174159186753\n",
      "Epoch - 280 Train-Loss : 0.21635495126247406 Valid-Loss : 2.2756118774414062\n",
      "unweighted_accuracy : 0.4842249657064472 weighted_accuracy : 0.40847647240454926\n",
      "Epoch - 285 Train-Loss : 0.20182236532370249 Valid-Loss : 2.4388794898986816\n",
      "unweighted_accuracy : 0.4869684499314129 weighted_accuracy : 0.4248137674901519\n",
      "Epoch - 290 Train-Loss : 0.19484174251556396 Valid-Loss : 2.3866307735443115\n",
      "unweighted_accuracy : 0.4828532235939643 weighted_accuracy : 0.41900296198223264\n",
      "Epoch - 295 Train-Loss : 0.20105614264806113 Valid-Loss : 2.498678684234619\n",
      "unweighted_accuracy : 0.4842249657064472 weighted_accuracy : 0.43256696298457975\n",
      "Epoch - 300 Train-Loss : 0.17783045768737793 Valid-Loss : 2.5587985515594482\n",
      "unweighted_accuracy : 0.47050754458161864 weighted_accuracy : 0.41928024761513255\n",
      "validation over\n"
     ]
    }
   ],
   "source": [
    "text_train_loader = DataLoader(train_text[4], batch_size=1000, shuffle=False)\n",
    "text_valid_loader = DataLoader(valid_text[4], batch_size=1000, shuffle=False)\n",
    "comment=\"Text validation : {}\".format(4)\n",
    "t_loss, t_uwa, t_wa = validate_text(text_train_loader, text_valid_loader, vocab_size, 50, 64, pretrained_weights, comment)\n",
    "\n",
    "t_losses.append(t_loss)\n",
    "t_uwas.append(t_uwa)\n",
    "t_was.append(t_wa)"
   ]
  },
  {
   "cell_type": "code",
   "execution_count": 44,
   "metadata": {},
   "outputs": [
    {
     "data": {
      "text/plain": [
       "(2.547297811508179, 0.4965194328310637, 0.4547437911222483)"
      ]
     },
     "execution_count": 44,
     "metadata": {},
     "output_type": "execute_result"
    }
   ],
   "source": [
    "from statistics import mean \n",
    "mean(t_losses), mean(t_uwas), mean(t_was)"
   ]
  },
  {
   "cell_type": "code",
   "execution_count": null,
   "metadata": {},
   "outputs": [],
   "source": []
  }
 ],
 "metadata": {
  "kernelspec": {
   "display_name": "Python 3.6 - AzureML",
   "language": "python",
   "name": "python3-azureml"
  },
  "language_info": {
   "codemirror_mode": {
    "name": "ipython",
    "version": 3
   },
   "file_extension": ".py",
   "mimetype": "text/x-python",
   "name": "python",
   "nbconvert_exporter": "python",
   "pygments_lexer": "ipython3",
   "version": "3.6.9"
  }
 },
 "nbformat": 4,
 "nbformat_minor": 2
}
