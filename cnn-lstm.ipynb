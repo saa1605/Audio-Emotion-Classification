{
 "cells": [
  {
   "cell_type": "code",
   "execution_count": 1,
   "metadata": {},
   "outputs": [
    {
     "name": "stderr",
     "output_type": "stream",
     "text": [
      "/anaconda/envs/py36/lib/python3.6/site-packages/noisereduce/noisereduce.py:5: TqdmExperimentalWarning: Using `tqdm.autonotebook.tqdm` in notebook mode. Use `tqdm.tqdm` instead to force console mode (e.g. in jupyter console)\n",
      "  from tqdm.autonotebook import tqdm\n"
     ]
    },
    {
     "data": {
      "text/plain": [
       "<torch._C.Generator at 0x7f72ceb3a310>"
      ]
     },
     "execution_count": 1,
     "metadata": {},
     "output_type": "execute_result"
    }
   ],
   "source": [
    "import torch\n",
    "import torch.nn as nn\n",
    "import torch.optim as optim\n",
    "import librosa\n",
    "from torch.utils.data import Dataset, DataLoader\n",
    "from tqdm import tqdm\n",
    "import torch.nn.functional as F\n",
    "import pandas as pd\n",
    "import numpy as np\n",
    "import librosa\n",
    "import matplotlib.pyplot as plt\n",
    "import os\n",
    "import noisereduce as nr\n",
    "import IPython\n",
    "torch.manual_seed(10)"
   ]
  },
  {
   "cell_type": "code",
   "execution_count": 2,
   "metadata": {},
   "outputs": [],
   "source": [
    "BASE = '/data/home/advaitmb/datasets/sentences/'"
   ]
  },
  {
   "cell_type": "code",
   "execution_count": 3,
   "metadata": {},
   "outputs": [
    {
     "data": {
      "text/html": [
       "<div>\n",
       "<style scoped>\n",
       "    .dataframe tbody tr th:only-of-type {\n",
       "        vertical-align: middle;\n",
       "    }\n",
       "\n",
       "    .dataframe tbody tr th {\n",
       "        vertical-align: top;\n",
       "    }\n",
       "\n",
       "    .dataframe thead th {\n",
       "        text-align: right;\n",
       "    }\n",
       "</style>\n",
       "<table border=\"1\" class=\"dataframe\">\n",
       "  <thead>\n",
       "    <tr style=\"text-align: right;\">\n",
       "      <th></th>\n",
       "      <th>index</th>\n",
       "      <th>start_time</th>\n",
       "      <th>end_time</th>\n",
       "      <th>wav_file</th>\n",
       "      <th>emotion</th>\n",
       "      <th>val</th>\n",
       "      <th>act</th>\n",
       "      <th>dom</th>\n",
       "    </tr>\n",
       "  </thead>\n",
       "  <tbody>\n",
       "    <tr>\n",
       "      <th>0</th>\n",
       "      <td>0</td>\n",
       "      <td>6.2901</td>\n",
       "      <td>8.2357</td>\n",
       "      <td>Ses01F_impro01_F000</td>\n",
       "      <td>neu</td>\n",
       "      <td>2.5</td>\n",
       "      <td>2.5</td>\n",
       "      <td>2.5</td>\n",
       "    </tr>\n",
       "    <tr>\n",
       "      <th>1</th>\n",
       "      <td>1</td>\n",
       "      <td>10.0100</td>\n",
       "      <td>11.3925</td>\n",
       "      <td>Ses01F_impro01_F001</td>\n",
       "      <td>neu</td>\n",
       "      <td>2.5</td>\n",
       "      <td>2.5</td>\n",
       "      <td>2.5</td>\n",
       "    </tr>\n",
       "    <tr>\n",
       "      <th>2</th>\n",
       "      <td>2</td>\n",
       "      <td>14.8872</td>\n",
       "      <td>18.0175</td>\n",
       "      <td>Ses01F_impro01_F002</td>\n",
       "      <td>neu</td>\n",
       "      <td>2.5</td>\n",
       "      <td>2.5</td>\n",
       "      <td>2.5</td>\n",
       "    </tr>\n",
       "    <tr>\n",
       "      <th>3</th>\n",
       "      <td>3</td>\n",
       "      <td>27.4600</td>\n",
       "      <td>31.4900</td>\n",
       "      <td>Ses01F_impro01_F005</td>\n",
       "      <td>neu</td>\n",
       "      <td>2.5</td>\n",
       "      <td>3.5</td>\n",
       "      <td>2.0</td>\n",
       "    </tr>\n",
       "    <tr>\n",
       "      <th>4</th>\n",
       "      <td>4</td>\n",
       "      <td>85.2700</td>\n",
       "      <td>88.0200</td>\n",
       "      <td>Ses01F_impro01_F012</td>\n",
       "      <td>ang</td>\n",
       "      <td>2.0</td>\n",
       "      <td>3.5</td>\n",
       "      <td>3.5</td>\n",
       "    </tr>\n",
       "  </tbody>\n",
       "</table>\n",
       "</div>"
      ],
      "text/plain": [
       "   index  start_time  end_time             wav_file emotion  val  act  dom\n",
       "0      0      6.2901    8.2357  Ses01F_impro01_F000     neu  2.5  2.5  2.5\n",
       "1      1     10.0100   11.3925  Ses01F_impro01_F001     neu  2.5  2.5  2.5\n",
       "2      2     14.8872   18.0175  Ses01F_impro01_F002     neu  2.5  2.5  2.5\n",
       "3      3     27.4600   31.4900  Ses01F_impro01_F005     neu  2.5  3.5  2.0\n",
       "4      4     85.2700   88.0200  Ses01F_impro01_F012     ang  2.0  3.5  3.5"
      ]
     },
     "execution_count": 3,
     "metadata": {},
     "output_type": "execute_result"
    }
   ],
   "source": [
    "import pandas as pd\n",
    "audio = pd.read_csv('audio_df_improvised.csv')\n",
    "\n",
    "audio.reset_index(inplace=True)\n",
    "audio.head()"
   ]
  },
  {
   "cell_type": "code",
   "execution_count": 73,
   "metadata": {},
   "outputs": [
    {
     "data": {
      "image/png": "[encoded data removed]",
      "text/plain": [
       "<Figure size 432x288 with 1 Axes>"
      ]
     },
     "metadata": {
      "needs_background": "light"
     },
     "output_type": "display_data"
    },
    {
     "data": {
      "text/plain": [
       "array([[4.9540834e+00, 1.3929467e+00, 1.7555124e-01, ..., 2.6783612e-01,\n",
       "        3.2297209e-01, 1.8852812e-01],\n",
       "       [8.0558860e-01, 2.7288103e+01, 1.5808014e+00, ..., 7.2865702e-02,\n",
       "        3.7659515e+01, 2.5938410e+01],\n",
       "       [9.2334641e+01, 3.2209969e+01, 2.1711199e+01, ..., 4.2785553e+01,\n",
       "        5.9137988e+00, 6.2987185e+00],\n",
       "       ...,\n",
       "       [2.9528293e-05, 8.7063536e-06, 2.6570602e-05, ..., 3.8541766e-06,\n",
       "        2.0493972e-05, 4.3956220e-06],\n",
       "       [9.3047584e-06, 3.5067612e-07, 2.5598016e-05, ..., 5.2366113e-06,\n",
       "        2.1329264e-05, 6.7887195e-06],\n",
       "       [8.3403870e-07, 2.3460029e-06, 1.9754012e-07, ..., 4.1959397e-06,\n",
       "        1.1236058e-05, 2.4576315e-05]], dtype=float32)"
      ]
     },
     "execution_count": 73,
     "metadata": {},
     "output_type": "execute_result"
    }
   ],
   "source": [
    "import matplotlib.pyplot as plt\n",
    "from scipy import signal\n",
    "from scipy.io import wavfile\n",
    "\n",
    "sample_rate, samples = wavfile.read(BASE+audio['wav_file'][100]+'.wav')\n",
    "frequencies, times, spectrogram = signal.spectrogram(samples, sample_rate)\n",
    "\n",
    "plt.pcolormesh(times, frequencies, spectrogram)\n",
    "plt.imshow(spectrogram)\n",
    "plt.ylabel('Frequency [Hz]')\n",
    "plt.xlabel('Time [sec]')\n",
    "plt.show()\n",
    "spectrogram"
   ]
  },
  {
   "cell_type": "code",
   "execution_count": 8,
   "metadata": {},
   "outputs": [
    {
     "name": "stdout",
     "output_type": "stream",
     "text": [
      "(65, 128)\n"
     ]
    },
    {
     "data": {
      "text/plain": [
       "<matplotlib.image.AxesImage at 0x7f4ac0c80cc0>"
      ]
     },
     "execution_count": 8,
     "metadata": {},
     "output_type": "execute_result"
    },
    {
     "data": {
      "image/png": "[encoded data removed]",
      "text/plain": [
       "<Figure size 432x288 with 1 Axes>"
      ]
     },
     "metadata": {
      "needs_background": "light"
     },
     "output_type": "display_data"
    }
   ],
   "source": [
    "med_duration=4\n",
    "wav,sr = librosa.load(BASE+audio['wav_file'][2]+'.wav',sr=None)\n",
    "wav = nr.reduce_noise(audio_clip=wav, noise_clip=wav, verbose=False)\n",
    "if wav.shape[0]<(med_duration*sr):\n",
    "    wav=np.pad(wav,int( np.ceil( ((med_duration*sr)-wav.shape[0])/2 ) ),mode='constant', constant_values=(0, 0))\n",
    "else:\n",
    "    wav=wav[:(med_duration*sr)]\n",
    "\n",
    "\n",
    "D = np.abs(librosa.stft(wav, hop_length=501, n_fft=128))\n",
    "D_db = librosa.amplitude_to_db(D)\n",
    "print(D_db.shape)\n",
    "plt.imshow(D_db)"
   ]
  },
  {
   "cell_type": "code",
   "execution_count": 55,
   "metadata": {},
   "outputs": [
    {
     "data": {
      "text/html": [
       "\n",
       "                <audio  controls=\"controls\" >\n",
       "                    <source src=\"data:audio/wav;base64,UklGRiT0AQBXQVZFZm10IBAAAAABAAEAgD4AAAB9AAACABAAZGF0YQD0AQAAAAAAAAAAAAAAAAAAAAAAAAAAAAAAAAAAAAAAAAAAAAAAAAAAAAAAAAAAAAAAAAAAAAAAAAAAAAAAAAAAAAAAAAAAAAAAAAAAAAAAAAAAAAAAAAAAAAAAAAAAAAAAAAAAAAAAAAAAAAAAAAAAAAAAAAAAAAAAAAAAAAAAAAAAAAAAAAAAAAAAAAAAAAAAAAAAAAAAAAAAAAAAAAAAAAAAAAAAAAAAAAAAAAAAAAAAAAAAAAAAAAAAAAAAAAAAAAAAAAAAAAAAAAAAAAAAAAAAAAAAAAAAAAAAAAAAAAAAAAAAAAAAAAAAAAAAAAAAAAAAAAAAAAAAAAAAAAAAAAAAAAAAAAAAAAAAAAAAAAAAAAAAAAAAAAAAAAAAAAAAAAAAAAAAAAAAAAAAAAAAAAAAAAAAAAAAAAAAAAAAAAAAAAAAAAAAAAAAAAAAAAAAAAAAAAAAAAAAAAAAAAAAAAAAAAAAAAAAAAAAAAAAAAAAAAAAAAAAAAAAAAAAAAAAAAAAAAAAAAAAAAAAAAAAAAAAAAAAAAAAAAAAAAAAAAAAAAAAAAAAAAAAAAAAAAAAAAAAAAAAAAAAAAAAAAAAAAAAAAAAAAAAAAAAAAAAAAAAAAAAAAAAAAAAAAAAAAAAAAAAAAAAAAAAAAAAAAAAAAAAAAAAAAAAAAAAAAAAAAAAAAAAAAAAAAAAAAAAAAAAAAAAAAAAAAAAAAAAAAAAAAAAAAAAAAAAAAAAAAAAAAAAAAAAAAAAAAAAAAAAAAAAAAAAAAAAAAAAAAAAAAAAAAAAAAAAAAAAAAAAAAAAAAAAAAAAAAAAAAAAAAAAAAAAAAAAAAAAAAAAAAAAAAAAAAAAAAAAAAAAAAAAAAAAAAAAAAAAAAAAAAAAAAAAAAAAAAAAAAAAAAAAAAAAAAAAAAAAAAAAAAAAAAAAAAAAAAAAAAAAAAAAAAAAAAAAAAAAAAAAAAAAAAAAAAAAAAAAAAAAAAAAAAAAAAAAAAAAAAAAAAAAAAAAAAAAAAAAAAAAAAAAAAAAAAAAAAAAAAAAAAAAAAAAAAAAAAAAAAAAAAAAAAAAAAAAAAAAAAAAAAAAAAAAAAAAAAAAAAAAAAAAAAAAAAAAAAAAAAAAAAAAAAAAAAAAAAAAAAAAAAAAAAAAAAAAAAAAAAAAAAAAAAAAAAAAAAAAAAAAAAAAAAAAAAAAAAAAAAAAAAAAAAAAAAAAAAAAAAAAAAAAAAAAAAAAAAAAAAAAAAAAAAAAAAAAAAAAAAAAAAAAAAAAAAAAAAAAAAAAAAAAAAAAAAAAAAAAAAAAAAAAAAAAAAAAAAAAAAAAAAAAAAAAAAAAAAAAAAAAAAAAAAAAAAAAAAAAAAAAAAAAAAAAAAAAAAAAAAAAAAAAAAAAAAAAAAAAAAAAAAAAAAAAAAAAAAAAAAAAAAAAAAAAAAAAAAAAAAAAAAAAAAAAAAAAAAAAAAAAAAAAAAAAAAAAAAAAAAAAAAAAAAAAAAAAAAAAAAAAAAAAAAAAAAAAAAAAAAAAAAAAAAAAAAAAAAAAAAAAAAAAAAAAAAAAAAAAAAAAAAAAAAAAAAAAAAAAAAAAAAAAAAAAAAAAAAAAAAAAAAAAAAAAAAAAAAAAAAAAAAAAAAAAAAAAAAAAAAAAAAAAAAAAAAAAAAAAAAAAAAAAAAAAAAAAAAAAAAAAAAAAAAAAAAAAAAAAAAAAAAAAAAAAAAAAAAAAAAAAAAAAAAAAAAAAAAAAAAAAAAAAAAAAAAAAAAAAAAAAAAAAAAAAAAAAAAAAAAAAAAAAAAAAAAAAAAAAAAAAAAAAAAAAAAAAAAAAAAAAAAAAAAAAAAAAAAAAAAAAAAAAAAAAAAAAAAAAAAAAAAAAAAAAAAAAAAAAAAAAAAAAAAAAAAAAAAAAAAAAAAAAAAAAAAAAAAAAAAAAAAAAAAAAAAAAAAAAAAAAAAAAAAAAAAAAAAAAAAAAAAAAAAAAAAAAAAAAAAAAAAAAAAAAAAAAAAAAAAAAAAAAAAAAAAAAAAAAAAAAAAAAAAAAAAAAAAAAAAAAAAAAAAAAAAAAAAAAAAAAAAAAAAAAAAAAAAAAAAAAAAAAAAAAAAAAAAAAAAAAAAAAAAAAAAAAAAAAAAAAAAAAAAAAAAAAAAAAAAAAAAAAAAAAAAAAAAAAAAAAAAAAAAAAAAAAAAAAAAAAAAAAAAAAAAAAAAAAAAAAAAAAAAAAAAAAAAAAAAAAAAAAAAAAAAAAAAAAAAAAAAAAAAAAAAAAAAAAAAAAAAAAAAAAAAAAAAAAAAAAAAAAAAAAAAAAAAAAAAAAAAAAAAAAAAAAAAAAAAAAAAAAAAAAAAAAAAAAAAAAAAAAAAAAAAAAAAAAAAAAAAAAAAAAAAAAAAAAAAAAAAAAAAAAAAAAAAAAAAAAAAAAAAAAAAAAAAAAAAAAAAAAAAAAAAAAAAAAAAAAAAAAAAAAAAAAAAAAAAAAAAAAAAAAAAAAAAAAAAAAAAAAAAAAAAAAAAAAAAAAAAAAAAAAAAAAAAAAAAAAAAAAAAAAAAAAAAAAAAAAAAAAAAAAAAAAAAAAAAAAAAAAAAAAAAAAAAAAAAAAAAAAAAAAAAAAAAAAAAAAAAAAAAAAAAAAAAAAAAAAAAAAAAAAAAAAAAAAAAAAAAAAAAAAAAAAAAAAAAAAAAAAAAAAAAAAAAAAAAAAAAAAAAAAAAAAAAAAAAAAAAAAAAAAAAAAAAAAAAAAAAAAAAAAAAAAAAAAAAAAAAAAAAAAAAAAAAAAAAAAAAAAAAAAAAAAAAAAAAAAAAAAAAAAAAAAAAAAAAAAAAAAAAAAAAAAAAAAAAAAAAAAAAAAAAAAAAAAAAAAAAAAAAAAAAAAAAAAAAAAAAAAAAAAAAAAAAAAAAAAAAAAAAAAAAAAAAAAAAAAAAAAAAAAAAAAAAAAAAAAAAAAAAAAAAAAAAAAAAAAAAAAAAAAAAAAAAAAAAAAAAAAAAAAAAAAAAAAAAAAAAAAAAAAAAAAAAAAAAAAAAAAAAAAAAAAAAAAAAAAAAAAAAAAAAAAAAAAAAAAAAAAAAAAAAAAAAAAAAAAAAAAAAAAAAAAAAAAAAAAAAAAAAAAAAAAAAAAAAAAAAAAAAAAAAAAAAAAAAAAAAAAAAAAAAAAAAAAAAAAAAAAAAAAAAAAAAAAAAAAAAAAAAAAAAAAAAAAAAAAAAAAAAAAAAAAAAAAAAAAAAAAAAAAAAAAAAAAAAAAAAAAAAAAAAAAAAAAAAAAAAAAAAAAAAAAAAAAAAAAAAAAAAAAAAAAAAAAAAAAAAAAAAAAAAAAAAAAAAAAAAAAAAAAAAAAAAAAAAAAAAAAAAAAAAAAAAAAAAAAAAAAAAAAAAAAAAAAAAAAAAAAAAAAAAAAAAAAAAAAAAAAAAAAAAAAAAAAAAAAAAAAAAAAAAAAAAAAAAAAAAAAAAAAAAAAAAAAAAAAAAAAAAAAAAAAAAAAAAAAAAAAAAAAAAAAAAAAAAAAAAAAAAAAAAAAAAAAAAAAAAAAAAAAAAAAAAAAAAAAAAAAAAAAAAAAAAAAAAAAAAAAAAAAAAAAAAAAAAAAAAAAAAAAAAAAAAAAAAAAAAAAAAAAAAAAAAAAAAAAAAAAAAAAAAAAAAAAAAAAAAAAAAAAAAAAAAAAAAAAAAAAAAAAAAAAAAAAAAAAAAAAAAAAAAAAAAAAAAAAAAAAAAAAAAAAAAAAAAAAAAAAAAAAAAAAAAAAAAAAAAAAAAAAAAAAAAAAAAAAAAAAAAAAAAAAAAAAAAAAAAAAAAAAAAAAAAAAAAAAAAAAAAAAAAAAAAAAAAAAAAAAAAAAAAAAAAAAAAAAAAAAAAAAAAAAAAAAAAAAAAAAAAAAAAAAAAAAAAAAAAAAAAAAAAAAAAAAAAAAAAAAAAAAAAAAAAAAAAAAAAAAAAAAAAAAAAAAAAAAAAAAAAAAAAAAAAAAAAAAAAAAAAAAAAAAAAAAAAAAAAAAAAAAAAAAAAAAAAAAAAAAAAAAAAAAAAAAAAAAAAAAAAAAAAAAAAAAAAAAAAAAAAAAAAAAAAAAAAAAAAAAAAAAAAAAAAAAAAAAAAAAAAAAAAAAAAAAAAAAAAAAAAAAAAAAAAAAAAAAAAAAAAAAAAAAAAAAAAAAAAAAAAAAAAAAAAAAAAAAAAAAAAAAAAAAAAAAAAAAAAAAAAAAAAAAAAAAAAAAAAAAAAAAAAAAAAAAAAAAAAAAAAAAAAAAAAAAAAAAAAAAAAAAAAAAAAAAAAAAAAAAAAAAAAAAAAAAAAAAAAAAAAAAAAAAAAAAAAAAAAAAAAAAAAAAAAAAAAAAAAAAAAAAAAAAAAAAAAAAAAAAAAAAAAAAAAAAAAAAAAAAAAAAAAAAAAAAAAAAAAAAAAAAAAAAAAAAAAAAAAAAAAAAAAAAAAAAAAAAAAAAAAAAAAAAAAAAAAAAAAAAAAAAAAAAAAAAAAAAAAAAAAAAAAAAAAAAAAAAAAAAAAAAAAAAAAAAAAAAAAAAAAAAAAAAAAAAAAAAAAAAAAAAAAAAAAAAAAAAAAAAAAAAAAAAAAAAAAAAAAAAAAAAAAAAAAAAAAAAAAAAAAAAAAAAAAAAAAAAAAAAAAAAAAAAAAAAAAAAAAAAAAAAAAAAAAAAAAAAAAAAAAAAAAAAAAAAAAAAAAAAAAAAAAAAAAAAAAAAAAAAAAAAAAAAAAAAAAAAAAAAAAAAAAAAAAAAAAAAAAAAAAAAAAAAAAAAAAAAAAAAAAAAAAAAAAAAAAAAAAAAAAAAAAAAAAAAAAAAAAAAAAAAAAAAAAAAAAAAAAAAAAAAAAAAAAAAAAAAAAAAAAAAAAAAAAAAAAAAAAAAAAAAAAAAAAAAAAAAAAAAAAAAAAAAAAAAAAAAAAAAAAAAAAAAAAAAAAAAAAAAAAAAAAAAAAAAAAAAAAAAAAAAAAAAAAAAAAAAAAAAAAAAAAAAAAAAAAAAAAAAAAAAAAAAAAAAAAAAAAAAAAAAAAAAAAAAAAAAAAAAAAAAAAAAAAAAAAAAAAAAAAAAAAAAAAAAAAAAAAAAAAAAAAAAAAAAAAAAAAAAAAAAAAAAAAAAAAAAAAAAAAAAAAAAAAAAAAAAAAAAAAAAAAAAAAAAAAAAAAAAAAAAAAAAAAAAAAAAAAAAAAAAAAAAAAAAAAAAAAAAAAAAAAAAAAAAAAAAAAAAAAAAAAAAAAAAAAAAAAAAAAAAAAAAAAAAAAAAAAAAAAAAAAAAAAAAAAAAAAAAAAAAAAAAAAAAAAAAAAAAAAAAAAAAAAAAAAAAAAAAAAAAAAAAAAAAAAAAAAAAAAAAAAAAAAAAAAAAAAAAAAAAAAAAAAAAAAAAAAAAAAAAAAAAAAAAAAAAAAAAAAAAAAAAAAAAAAAAAAAAAAAAAAAAAAAAAAAAAAAAAAAAAAAAAAAAAAAAAAAAAAAAAAAAAAAAAAAAAAAAAAAAAAAAAAAAAAAAAAAAAAAAAAAAAAAAAAAAAAAAAAAAAAAAAAAAAAAAAAAAAAAAAAAAAAAAAAAAAAAAAAAAAAAAAAAAAAAAAAAAAAAAAAAAAAAAAAAAAAAAAAAAAAAAAAAAAAAAAAAAAAAAAAAAAAAAAAAAAAAAAAAAAAAAAAAAAAAAAAAAAAAAAAAAAAAAAAAAAAAAAAAAAAAAAAAAAAAAAAAAAAAAAAAAAAAAAAAAAAAAAAAAAAAAAAAAAAAAAAAAAAAAAAAAAAAAAAAAAAAAAAAAAAAAAAAAAAAAAAAAAAAAAAAAAAAAAAAAAAAAAAAAAAAAAAAAAAAAAAAAAAAAAAAAAAAAAAAAAAAAAAAAAAAAAAAAAAAAAAAAAAAAAAAAAAAAAAAAAAAAAAAAAAAAAAAAAAAAAAAAAAAAAAAAAAAAAAAAAAAAAAAAAAAAAAAAAAAAAAAAAAAAAAAAAAAAAAAAAAAAAAAAAAAAAAAAAAAAAAAAAAAAAAAAAAAAAAAAAAAAAAAAAAAAAAAAAAAAAAAAAAAAAAAAAAAAAAAAAAAAAAAAAAAAAAAAAAAAAAAAAAAAAAAAAAAAAAAAAAAAAAAAAAAAAAAAAAAAAAAAAAAAAAAAAAAAAAAAAAAAAAAAAAAAAAAAAAAAAAAAAAAAAAAAAAAAAAAAAAAAAAAAAAAAAAAAAAAAAAAAAAAAAAAAAAAAAAAAAAAAAAAAAAAAAAAAAAAAAAAAAAAAAAAAAAAAAAAAAAAAAAAAAAAAAAAAAAAAAAAAAAAAAAAAAAAAAAAAAAAAAAAAAAAAAAAAAAAAAAAAAAAAAAAAAAAAAAAAAAAAAAAAAAAAAAAAAAAAAAAAAAAAAAAAAAAAAAAAAAAAAAAAAAAAAAAAAAAAAAAAAAAAAAAAAAAAAAAAAAAAAAAAAAAAAAAAAAAAAAAAAAAAAAAAAAAAAAAAAAAAAAAAAAAAAAAAAAAAAAAAAAAAAAAAAAAAAAAAAAAAAAAAAAAAAAAAAAAAAAAAAAAAAAAAAAAAAAAAAAAAAAAAAAAAAAAAAAAAAAAAAAAAAAAAAAAAAAAAAAAAAAAAAAAAAAAAAAAAAAAAAAAAAAAAAAAAAAAAAAAAAAAAAAAAAAAAAAAAAAAAAAAAAAAAAAAAAAAAAAAAAAAAAAAAAAAAAAAAAAAAAAAAAAAAAAAAAAAAAAAAAAAAAAAAAAAAAAAAAAAAAAAAAAAAAAAAAAAAAAAAAAAAAAAAAAAAAAAAAAAAAAAAAAAAAAAAAAAAAAAAAAAAAAAAAAAAAAAAAAAAAAAAAAAAAAAAAAAAAAAAAAAAAAAAAAAAAAAAAAAAAAAAAAAAAAAAAAAAAAAAAAAAAAAAAAAAAAAAAAAAAAAAAAAAAAAAAAAAAAAAAAAAAAAAAAAAAAAAAAAAAAAAAAAAAAAAAAAAAAAAAAAAAAAAAAAAAAAAAAAAAAAAAAAAAAAAAAAAAAAAAAAAAAAAAAAAAAAAAAAAAAAAAAAAAAAAAAAAAAAAAAAAAAAAAAAAAAAAAAAAAAAAAAAAAAAAAAAAAAAAAAAAAAAAAAAAAAAAAAAAAAAAAAAAAAAAAAAAAAAAAAAAAAAAAAAAAAAAAAAAAAAAAAAAAAAAAAAAAAAAAAAAAAAAAAAAAAAAAAAAAAAAAAAAAAAAAAAAAAAAAAAAAAAAAAAAAAAAAAAAAAAAAAAAAAAAAAAAAAAAAAAAAAAAAAAAAAAAAAAAAAAAAAAAAAAAAAAAAAAAAAAAAAAAAAAAAAAAAAAAAAAAAAAAAAAAAAAAAAAAAAAAAAAAAAAAAAAAAAAAAAAAAAAAAAAAAAAAAAAAAAAAAAAAAAAAAAAAAAAAAAAAAAAAAAAAAAAAAAAAAAAAAAAAAAAAAAAAAAAAAAAAAAAAAAAAAAAAAAAAAAAAAAAAAAAAAAAAAAAAAAAAAAAAAAAAAAAAAAAAAAAAAAAAAAAAAAAAAAAAAAAAAAAAAAAAAAAAAAAAAAAAAAAAAAAAAAAAAAAAAAAAAAAAAAAAAAAAAAAAAAAAAAAAAAAAAAAAAAAAAAAAAAAAAAAAAAAAAAAAAAAAAAAAAAAAAAAAAAAAAAAAAAAAAAAAAAAAAAAAAAAAAAAAAAAAAAAAAAAAAAAAAAAAAAAAAAAAAAAAAAAAAAAAAAAAAAAAAAAAAAAAAAAAAAAAAAAAAAAAAAAAAAAAAAAAAAAAAAAAAAAAAAAAAAAAAAAAAAAAAAAAAAAAAAAAAAAAAAAAAAAAAAAAAAAAAAAAAAAAAAAAAAAAAAAAAAAAAAAAAAAAAAAAAAAAAAAAAAAAAAAAAAAAAAAAAAAAAAAAAAAAAAAAAAAAAAAAAAAAAAAAAAAAAAAAAAAAAAAAAAAAAAAAAAAAAAAAAAAAAAAAAAAAAAAAAAAAAAAAAAAAAAAAAAAAAAAAAAAAAAAAAAAAAAAAAAAAAAAAAAAAAAAAAAAAAAAAAAAAAAAAAAAAAAAAAAAAAAAAAAAAAAAAAAAAAAAAAAAAAAAAAAAAAAAAAAAAAAAAAAAAAAAAAAAAAAAAAAAAAAAAAAAAAAAAAAAAAAAAAAAAAAAAAAAAAAAAAAAAAAAAAAAAAAAAAAAAAAAAAAAAAAAAAAAAAAAAAAAAAAAAAAAAAAAAAAAAAAAAAAAAAAAAAAAAAAAAAAAAAAAAAAAAAAAAAAAAAAAAAAAAAAAAAAAAAAAAAAAAAAAAAAAAAAAAAAAAAAAAAAAAAAAAAAAAAAAAAAAAAAAAAAAAAAAAAAAAAAAAAAAAAAAAAAAAAAAAAAAAAAAAAAAAAAAAAAAAAAAAAAAAAAAAAAAAAAAAAAAAAAAAAAAAAAAAAAAAAAAAAAAAAAAAAAAAAAAAAAAAAAAAAAAAAAAAAAAAAAAAAAAAAAAAAAAAAAAAAAAAAAAAAAAAAAAAAAAAAAAAAAAAAAAAAAAAAAAAAAAAAAAAAAAAAAAAAAAAAAAAAAAAAAAAAAAAAAAAAAAAAAAAAAAAAAAAAAAAAAAAAAAAAAAAAAAAAAAAAAAAAAAAAAAAAAAAAAAAAAAAAAAAAAAAAAAAAAAAAAAAAAAAAAAAAAAAAAAAAAAAAAAAAAAAAAAAAAAAAAAAAAAAAAAAAAAAAAAAAAAAAAAAAAAAAAAAAAAAAAAAAAAAAAAAAAAAAAAAAAAAAAAAAAAAAAAAAAAAAAAAAAAAAAAAAAAAAAAAAAAAAAAAAAAAAAAAAAAAAAAAAAAAAAAAAAAAAAAAAAAAAAAAAAAAAAAAAAAAAAAAAAAAAAAAAAAAAAAAAAAAAAAAAAAAAAAAAAAAAAAAAAAAAAAAAAAAAAAAAAAAAAAAAAAAAAAAAAAAAAAAAAAAAAAAAAAAAAAAAAAAAAAAAAAAAAAAAAAAAAAAAAAAAAAAAAAAAAAAAAAAAAAAAAAAAAAAAAAAAAAAAAAAAAAAAAAAAAAAAAAAAAAAAAAAAAAAAAAAAAAAAAAAAAAAAAAAAAAAAAAAAAAAAAAAAAAAAAAAAAAAAAAAAAAAAAAAAAAAAAAAAAAAAAAAAAAAAAAAAAAAAAAAAAAAAAAAAAAAAAAAAAAAAAAAAAAAAAAAAAAAAAAAAAAAAAAAAAAAAAAAAAAAAAAAAAAAAAAAAAAAAAAAAAAAAAAAAAAAAAAAAAAAAAAAAAAAAAAAAAAAAAAAAAAAAAAAAAAAAAAAAAAAAAAAAAAAAAAAAAAAAAAAAAAAAAAAAAAAAAAAAAAAAAAAAAAAAAAAAAAAAAAAAAAAAAAAAAAAAAAAAAAAAAAAAAAAAAAAAAAAAAAAAAAAAAAAAAAAAAAAAAAAAAAAAAAAAAAAAAAAAAAAAAAAAAAAAAAAAAAAAAAAAAAAAAAAAAAAAAAAAAAAAAAAAAAAAAAAAAAAAAAAAAAAAAAAAAAAAAAAAAAAAAAAAAAAAAAAAAAAAAAAAAAAAAAAAAAAAAAAAAAAAAAAAAAAAAAAAAAAAAAAAAAAAAAAAAAAAAAAAAAAAAAAAAAAAAAAAAAAAAAAAAAAAAAAAAAAAAAAAAAAAAAAAAAAAAAAAAAAAAAAAAAAAAAAAAAAAAAAAAAAAAAAAAAAAAAAAAAAAAAAAAAAAAAAAAAAAAAAAAAAAAAAAAAAAAAAAAAAAAAAAAAAAAAAAAAAAAAAAAAAAAAAAAAAAAAAAAAAAAAAAAAAAAAAAAAAAAAAAAAAAAAAAAAAAAAAAAAAAAAAAAAAAAAAAAAAAAAAAAAAAAAAAAAAAAAAAAAAAAAAAAAAAAAAAAAAAAAAAAAAAAAAAAAAAAAAAAAAAAAAAAAAAAAAAAAAAAAAAAAAAAAAAAAAAAAAAAAAAAAAAAAAAAAAAAAAAAAAAAAAAAAAAAAAAAAAAAAAAAAAAAAAAAAAAAAAAAAAAAAAAAAAAAAAAAAAAAAAAAAAAAAAAAAAAAAAAAAAAAAAAAAAAAAAAAAAAAAAAAAAAAAAAAAAAAAAAAAAAAAAAAAAAAAAAAAAAAAAAAAAAAAAAAAAAAAAAAAAAAAAAAAAAAAAAAAAAAAAAAAAAAAAAAAAAAAAAAAAAAAAAAAAAAAAAAAAAAAAAAAAAAAAAAAAAAAAAAAAAAAAAAAAAAAAAAAAAAAAAAAAAAAAAAAAAAAAAAAAAAAAAAAAAAAAAAAAAAAAAAAAAAAAAAAAAAAAAAAAAAAAAAAAAAAAAAAAAAAAAAAAAAAAAAAAAAAAAAAAAAAAAAAAAAAAAAAAAAAAAAAAAAAAAAAAAAAAAAAAAAAAAAAAAAAAAAAAAAAAAAAAAAAAAAAAAAAAAAAAAAAAAAAAAAAAAAAAAAAAAAAAAAAAAAAAAAAAAAAAAAAAAAAAAAAAAAAAAAAAAAAAAAAAAAAAAAAAAAAAAAAAAAAAAAAAAAAAAAAAAAAAAAAAAAAAAAAAAAAAAAAAAAAAAAAAAAAAAAAAAAAAAAAAAAAAAAAAAAAAAAAAAAAAAAAAAAAAAAAAAAAAAAAAAAAAAAAAAAAAAAAAAAAAAAAAAAAAAAAAAAAAAAAAAAAAAAAAAAAAAAAAAAAAAAAAAAAAAAAAAAAAAAAAAAAAAAAAAAAAAAAAAAAAAAAAAAAAAAAAAAAAAAAAAAAAAAAAAAAAAAAAAAAAAAAAAAAAAAAAAAAAAAAAAAAAAAAAAAAAAAAAAAAAAAAAAAAAAAAAAAAAAAAAAAAAAAAAAAAAAAAAAAAAAAAAAAAAAAAAAAAAAAAAAAAAAAAAAAAAAAAAAAAAAAAAAAAAAAAAAAAAAAAAAAAAAAAAAAAAAAAAAAAAAAAAAAAAAAAAAAAAAAAAAAAAAAAAAAAAAAAAAAAAAAAAAAAAAAAAAAAAAAAAAAAAAAAAAAAAAAAAAAAAAAAAAAAAAAAAAAAAAAAAAAAAAAAAAAAAAAAAAAAAAAAAAAAAAAAAAAAAAAAAAAAAAAAAAAAAAAAAAAAAAAAAAAAAAAAAAAAAAAAAAAAAAAAAAAAAAAAAAAAAAAAAAAAAAAAAAAAAAAAAAAAAAAAAAAAAAAAAAAAAAAAAAAAAAAAAAAAAAAAAAAAAAAAAAAAAAAAAAAAAAAAAAAAAAAAAAAAAAAAAAAAAAAAAAAAAAAAAAAAAAAAAAAAAAAAAAAAAAAAAAAAAAAAAAAAAAAAAAAAAAAAAAAAAAAAAAAAAAAAAAAAAAAAAAAAAAAAAAAAAAAAAAAAAAAAAAAAAAAAAAAAAAAAAAAAAAAAAAAAAAAAAAAAAAAAAAAAAAAAAAAAAAAAAAAAAAAAAAAAAAAAAAAAAAAAAAAAAAAAAAAAAAAAAAAAAAAAAAAAAAAAAAAAAAAAAAAAAAAAAAAAAAAAAAAAAAAAAAAAAAAAAAAAAAAAAAAAAAAAAAAAAAAAAAAAAAAAAAAAAAAAAAAAAAAAAAAAAAAAAAAAAAAAAAAAAAAAAAAAAAAAAAAAAAAAAAAAAAAAAAAAAAAAAAAAAAAAAAAAAAAAAAAAAAAAAAAAAAAAAAAAAAAAAAAAAAAAAAAAAAAAAAAAAAAAAAAAAAAAAAAAAAAAAAAAAAAAAAAAAAAAAAAAAAAAAAAAAAAAAAAAAAAAAAAAAAAAAAAAAAAAAAAAAAAAAAAAAAAAAAAAAAAAAAAAAAAAAAAAAAAAAAAAAAAAAAAAAAAAAAAAAAAAAAAAAAAAAAAAAAAAAAAAAAAAAAAAAAAAAAAAAAAAAAAAAAAAAAAAAAAAAAAAAAAAAAAAAAAAAAAAAAAAAAAAAAAAAAAAAAAAAAAAAAAAAAAAAAAAAAAAAAAAAAAAAAAAAAAAAAAAAAAAAAAAAAAAAAAAAAAAAAAAAAAAAAAAAAAAAAAAAAAAAAAAAAAAAAAAAAAAAAAAAAAAAAAAAAAAAAAAAAAAAAAAAAAAAAAAAAAAAAAAAAAAAAAAAAAAAAAAAAAAAAAAAAAAAAAAAAAAAAAAAAAAAAAAAAAAAAAAAAAAAAAAAAAAAAAAAAAAAAAAAAAAAAAAAAAAAAAAAAAAAAAAAAAAAAAAAAAAAAAAAAAAAAAAAAAAAAAAAAAAAAAAAAAAAAAAAAAAAAAAAAAAAAAAAAAAAAAAAAAAAAAAAAAAAAAAAAAAAAAAAAAAAAAAAAAAAAAAAAAAAAAAAAAAAAAAAAAAAAAAAAAAAAAAAAAAAAAAAAAAAAAAAAAAAAAAAAAAAAAAAAAAAAAAAAAAAAAAAAAAAAAAAAAAAAAAAAAAAAAAAAAAAAAAAAAAAAAAAAAAAAAAAAAAAAAAAAAAAAAAAAAAAAAAAAAAAAAAAAAAAAAAAAAAAAAAAAAAAAAAAAAAAAAAAAAAAAAAAAAAAAAAAAAAAAAAAAAAAAAAAAAAAAAAAAAAAAAAAAAAAAAAAAAAAAAAAAAAAAAAAAAAAAAAAAAAAAAAAAAAAAAAAAAAAAAAAAAAAAAAAAAAAAAAAAAAAAAAAAAAAAAAAAAAAAAAAAAAAAAAAAAAAAAAAAAAAAAAAAAAAAAAAAAAAAAAAAAAAAAAAAAAAAAAAAAAAAAAAAAAAAAAAAAAAAAAAAAAAAAAAAAAAAAAAAAAAAAAAAAAAAAAAAAAAAAAAAAAAAAAAAAAAAAAAAAAAAAAAAAAAAAAAAAAAAAAAAAAAAAAAAAAAAAAAAAAAAAAAAAAAAAAAAAAAAAAAAAAAAAAAAAAAAAAAAAAAAAAAAAAAAAAAAAAAAAAAAAAAAAAAAAAAAAAAAAAAAAAAAAAAAAAAAAAAAAAAAAAAAAAAAAAAAAAAAAAAAAAAAAAAAAAAAAAAAAAAAAAAAAAAAAAAAAAAAAAAAAAAAAAAAAAAAAAAAAAAAAAAAAAAAAAAAAAAAAAAAAAAAAAAAAAAAAAAAAAAAAAAAAAAAAAAAAAAAAAAAAAAAAAAAAAAAAAAAAAAAAAAAAAAAAAAAAAAAAAAAAAAAAAAAAAAAAAAAAAAAAAAAAAAAAAAAAAAAAAAAAAAAAAAAAAAAAAAAAAAAAAAAAAAAAAAAAAAAAAAAAAAAAAAAAAAAAAAAAAAAAAAAAAAAAAAAAAAAAAAAAAAAAAAAAAAAAAAAAAAAAAAAAAAAAAAAAAAAAAAAAAAAAAAAAAAAAAAAAAAAAAAAAAAAAAAAAAAAAAAAAAAAAAAAAAAAAAAAAAAAAAAAAAAAAAAAAAAAAAAAAAAAAAAAAAAAAAAAAAAAAAAAAAAAAAAAAAAAAAAAAAAAAAAAAAAAAAAAAAAAAAAAAAAAAAAAAAAAAAAAAAAAAAAAAAAAAAAAAAAAAAAAAAAAAAAAAAAAAAAAAAAAAAAAAAAAAAAAAAAAAAAAAAAAAAAAAAAAAAAAAAAAAAAAAAAAAAAAAAAAAAAAAAAAAAAAAAAAAAAAAAAAAAAAAAAAAAAAAAAAAAAAAAAAAAAAAAAAAAAAAAAAAAAAAAAAAAAAAAAAAAAAAAAAAAAAAAAAAAAAAAAAAAAAAAAAAAAAAAAAAAAAAAAAAAAAAAAAAAAAAAAAAAAAAAAAAAAAAAAAAAAAAAAAAAAAAAAAAAAAAAAAAAAAAAAAAAAAAAAAAAAAAAAAAAAAAAAAAAAAAAAAAAAAAAAAAAAAAAAAAAAAAAAAAAAAAAAAAAAAAAAAAAAAAAAAAAAAAAAAAAAAAAAAAAAAAAAAAAAAAAAAAAAAAAAAAAAAAAAAAAAAAAAAAAAAAAAAAAAAAAAAAAAAAAAAAAAAAAAAAAAAAAAAAAAAAAAAAAAAAAAAAAAAAAAAAAAAAAAAAAAAAAAAAAAAAAAAAAAAAAAAAAAAAAAAAAAAAAAAAAAAAAAAAAAAAAAAAAAAAAAAAAAAAAAAAAAAAAAAAAAAAAAAAAAAAAAAAAAAAAAAAAAAAAAAAAAAAAAAAAAAAAAAAAAAAAAAAAAAAAAAAAAAAAAAAAAAAAAAAAAAAAAAAAAAAAAAAAAAAAAAAAAAAAAAAAAAAAAAAAAAAAAAAAAAAAAAAAAAAAAAAAAAAAAAAAAAAAAAAAAAAAAAAAAAAAAAAAAAAAAAAAAAAAAAAAAAAAAAAAAAAAAAAAAAAAAAAAAAAAAAAAAAAAAAAAAAAAAAAAAAAAAAAAAAAAAAAAAAAAAAAAAAAAAAAAAAAAAAAAAAAAAAAAAAAAAAAAAAAAAAAAAAAAAAAAAAAAAAAAAAAAAAAAAAAAAAAAAAAAAAAAAAAAAAAAAAAAAAAAAAAAAAAAAAAAAAAAAAAAAAAAAAAAAAAAAAAAAAAAAAAAAAAAAAAAAAAAAAAAAAAAAAAAAAAAAAAAAAAAAAAAAAAAAAAAAAAAAAAAAAAAAAAAAAAAAAAAAAAAAAAAAAAAAAAAAAAAAAAAAAAAAAAAAAAAAAAAAAAAAAAAAAAAAAAAAAAAAAAAAAAAAAAAAAAAAAAAAAAAAAAAAAAAAAAAAAAAAAAAAAAAAAAAAAAAAAAAAAAAAAAAAAAAAAAAAAAAAAAAAAAAAAAAAAAAAAAAAAAAAAAAAAAAAAAAAAAAAAAAAAAAAAAAAAAAAAAAAAAAAAAAAAAAAAAAAAAAAAAAAAAAAAAAAAAAAAAAAAAAAAAAAAAAAAAAAAAAAAAAAAAAAAAAAAAAAAAAAAAAAAAAAAAAAAAAAAAAAAAAAAAAAAAAAAAAAAAAAAAAAAAAAAAAAAAAAAAAAAAAAAAAAAAAAAAAAAAAAAAAAAAAAAAAAAAAAAAAAAAAAAAAAAAAAAAAAAAAAAAAAAAAAAAAAAAAAAAAAAAAAAAAAAAAAAAAAAAAAAAAAAAAAAAAAAAAAAAAAAAAAAAAAAAAAAAAAAAAAAAAAAAAAAAAAAAAAAAAAAAAAAAAAAAAAAAAAAAAAAAAAAAAAAAAAAAAAAAAAAAAAAAAAAAAAAAAAAAAAAAAAAAAAAAAAAAAAAAAAAAAAAAAAAAAAAAAAAAAAAAAAAAAAAAAAAAAAAAAAAAAAAAAAAAAAAAAAAAAAAAAAAAAAAAAAAAAAAAAAAAAAAAAAAAAAAAAAAAAAAAAAAAAAAAAAAAAAAAAAAAAAAAAAAAAAAAAAAAAAAAAAAAAAAAAAAAAAAAAAAAAAAAAAAAAAAAAAAAAAAAAAAAAAAAAAAAAAAAAAAAAAAAAAAAAAAAAAAAAAAAAAAAAAAAAAAAAAAAAAAAAAAAAAAAAAAAAAAAAAAAAAAAAAAAAAAAAAAAAAAAAAAAAAAAAAAAAAAAAAAAAAAAAAAAAAAAAAAAAAAAAAAAAAAAAAAAAAAAAAAAAAAAAAAAAAAAAAAAAAAAAAAAAAAAAAAAAAAAAAAAAAAAAAAAAAAAAAAAAAAAAAAAAAAAAAAAAAAAAAAAAAAAAAAAAAAAAAAAAAAAAAAAAAAAAAAAAAAAAAAAAAAAAAAAAAAAAAAAAAAAAAAAAAAAAAAAAAAAAAAAAAAAAAAAAAAAAAAAAAAAAAAAAAAAAAAAAAAAAAAAAAAAAAAAAAAAAAAAAAAAAAAAAAAAAAAAAAAAAAAAAAAAAAAAAAAAAAAAAAAAAAAAAAAAAAAAAAAAAAAAAAAAAAAAAAAAAAAAAAAAAAAAAAAAAAAAAAAAAAAAAAAAAAAAAAAAAAAAAAAAAAAAAAAAAAAAAAAAAAAAAAAAAAAAAAAAAAAAAAAAAAAAAAAAAAAAAAAAAAAAAAAAAAAAAAAAAAAAAAAAAAAAAAAAAAAAAAAAAAAAAAAAAAAAAAAAAAAAAAAAAAAAAAAAAAAAAAAAAAAAAAAAAAAAAAAAAAAAAAAAAAAAAAAAAAAAAAAAAAAAAAAAAAAAAAAAAAAAAAAAAAAAAAAAAAAAAAAAAAAAAAAAAAAAAAAAAAAAAAAAAAAAAAAAAAAAAAAAAAAAAAAAAAAAAAAAAAAAAAAAAAAAAAAAAAAAAAAAAAAAAAAAAAAAAAAAAAAAAAAAAAAAAAAAAAAAAAAAAAAAAAAAAAAAAAAAAAAAAAAAAAAAAAAAAAAAAAAAAAAAAAAAAAAAAAAAAAAAAAAAAAAAAAAAAAAAAAAAAAAAAAAAAAAAAAAAAAAAAAAAAAAAAAAAAAAAAAAAAAAAAAAAAAAAAAAAAAAAAAAAAAAAAAAAAAAAAAAAAAAAAAAAAAAAAAAAAAAAAAAAAAAAAAAAAAAAAAAAAAAAAAAAAAAAAAAAAAAAAAAAAAAAAAAAAAAAAAAAAAAAAAAAAAAAAAAAAAAAAAAAAAAAAAAAAAAAAAAAAAAAAAAAAAAAAAAAAAAAAAAAAAAAAAAAAAAAAAAAAAAAAAAAAAAAAAAAAAAAAAAAAAAAAAAAAAAAAAAAAAAAAAAAAAAAAAAAAAAAAAAAAAAAAAAAAAAAAAAAAAAAAAAAAAAAAAAAAAAAAAAAAAAAAAAAAAAAAAAAAAAAAAAAAAAAAAAAAAAAAAAAAAAAAAAAAAAAAAAAAAAAAAAAAAAAAAAAAAAAAAAAAAAAAAAAAAAAAAAAAAAAAAAAAAAAAAAAAAAAAAAAAAAAAAAAAAAAAAAAAAAAAAAAAAAAAAAAAAAAAAAAAAAAAAAAAAAAAAAAAAAAAAAAAAAAAAAAAAAAAAAAAAAAAAAAAAAAAAAAAAAAAAAAAAAAAAAAAAAAAAAAAAAAAAAAAAAAAAAAAAAAAAAAAAAAAAAAAAAAAAAAAAAAAAAAAAAAAAAAAAAAAAAAAAAAAAAAAAAAAAAAAAAAAAAAAA//////////////////////////////////////////////////////////////////////////////////////////////////////////////////////////////////////////////////////////////////////////////////////////////////////////////////////////////////////////////////////////////////////////////////////////////////////////////////////////////////////////////////////////////////////////////////////7//v/+//7//v/+//7//v/+//7//v/+//7//v/+//7//v/+//7//v/+//7//v/+//7//v/+//7//v/+//7//v/+//7//v/+//7//v/+//7//v/+//7//v/+//7//v/+//7//v/+//7//v/+//7//v/+//7//v/+//7//v/+//7//v/+//7//v/+//7//v/+//7//v/+//7//v/+//7//v/+//7//f/9//3//f/9//3//f/9//3//f/9//3//f/9//3//f/9//3//f/9//3//f/9//3//f/9//3//f/9//3//f/9//3//f/9//3//f/9//3//f/9//3//f/9//3//f/9//3//f/9//3//f/9//3//f/9//3//P/8//z//P/8//z//P/8//z//P/8//z//P/8//z//P/8//z//P/8//z//P/8//z//P/8//z//P/8//z//P/8//z//P/8//z//P/8//z//P/8//z//P/8//v/+//7//v/+//7//v/+//7//v/+//7//v/+//7//v/+//7//v/+//7//v/+//7//v/+//7//v/+//7//v/+//7//v/+//7//v/+//6//r/+v/6//r/+v/6//r/+v/6//r/+v/6//r/+v/6//r/+v/6//r/+v/6//r/+v/6//r/+v/6//r/+v/6//r/+v/5//n/+f/5//n/+f/5//n/+f/5//n/+f/5//n/+f/5//n/+f/5//n/+f/5//n/+f/5//n/+f/5//n/+f/5//n/+P/4//j/+P/4//j/+P/4//j/+P/4//j/+P/4//j/+P/4//j/+P/4//j/+P/4//j/+P/4//j/+P/4//j/+P/4//f/9//3//f/9//3//f/9//3//f/9//3//f/9//3//f/9//3//f/9//3//f/9//3//f/9//3//f/9//3//f/9//2//b/9v/2//b/9v/2//b/9v/2//b/9v/2//b/9v/2//b/9v/2//b/9v/2//b/9v/2//b/9v/2//b/9v/2//b/9v/2//b/9v/1//X/9f/1//X/9f/1//X/9f/1//X/9f/1//X/9f/1//X/9f/1//X/9f/1//X/9f/1//X/9f/1//X/9f/1//X/9f/1//X/9f/1//X/9f/1//X/9f/1//X/9f/1//T/9P/0//T/9P/0//T/9P/0//T/9P/0//T/9P/0//T/9P/0//T/9P/0//T/9P/0//T/9P/0//T/9P/0//T/9P/0//T/9P/0//T/9P/0//T/9P/0//T/9P/0//T/9P/0//T/9P/0//T/9P/0//T/9P/0//T/9P/0//T/9P/0//T/9P/0//T/9P/0//T/9P/0//T/9P/0//T/9P/0//T/9P/0//T/9P/0//T/9P/0//T/9P/0//T/9P/0//T/9P/0//T/9P/0//T/9P/0//T/9P/0//T/9P/0//T/9P/0//T/9P/0//T/9P/0//T/9P/1//X/9f/1//X/9f/1//X/9f/1//X/9f/1//X/9f/1//X/9f/1//X/9f/1//X/9f/1//X/9f/1//X/9f/1//X/9f/1//X/9f/1//X/9f/1//b/9v/2//b/9v/2//b/9v/2//b/9v/2//b/9v/2//b/9v/2//b/9v/2//b/9v/2//b/9v/2//b/9v/2//f/9//3//f/9//3//f/9//3//f/9//3//f/9//3//f/9//3//f/9//3//f/9//3//f/9//4//j/+P/4//j/+P/4//j/+P/4//j/+P/4//j/+P/4//j/+P/4//j/+P/4//n/+f/5//n/+f/5//n/+f/5//n/+f/5//n/+f/5//n/+f/5//n/+f/5//r/+f/5//r/+v/6//r/+v/6//r/+v/6//r/+v/6//r/+v/6//r/+v/6//r/+v/6//v/+//7//v/+//7//v/+//7//v/+//7//v/+//7//v/+//7//v/+//7//v/+//8//z//P/8//z//P/8//z//P/8//z//P/8//z//P/8//z//P/8//z//P/8//z//P/8//3//f/9//3//f/9//3//f/9//3//f/9//3//f/9//3//f/9//3//f/9//3//f/9//3//f/9//7//v/+//7//v/+//7//v/+//7//v/+//7//v/+//7//v/+//7//v/+//7//v/+//7//v/+//7//v/+//7//v/+//7//v/+//7//v/+//7//v/+//7//////////v////////////////////////////////////////////////////////////////////////////////////////////////////////////////////////////////////////////////////////////////////////////////////////////////////////////////////////////7//v////7//v/+//7//v/+//7//v/+//7//v/+//7//v/+//7//v/+//7//v/+//7//v/+//7//v/+//7//v/+//7//v/+//7//v/+//3//v/+//7//v/9//3//f/9//3//f/9//3//f/9//3//f/9//3//f/9//3//f/9//3//f/9//3//f/9//3//f/9//3//P/8//z//P/8//z//P/8//z//P/8//z//P/8//z//P/8//z//P/8//z//P/8//z/+//7//v/+//7//v/+//7//v/+//7//v/+//7//v/+//7//v/+//7//v/+//6//r/+//6//r/+v/6//r/+v/6//r/+v/6//r/+v/6//r/+v/6//r/+v/6//r/+v/5//n/+f/5//n/+f/5//n/+f/5//n/+f/5//n/+f/5//n/+f/5//n/+f/5//n/+P/4//j/+P/4//j/+P/4//j/+P/4//j/+P/4//j/+P/4//j/+P/4//j/+P/4//f/9//3//f/9//3//f/9//3//f/9//3//f/9//3//f/9//3//f/9//3//f/9//3//b/9v/2//f/9v/2//b/9v/2//b/9v/2//b/9v/2//b/9v/2//b/9v/2//b/9v/2//b/9v/2//b/9v/2//b/9v/2//b/9f/1//X/9f/1//X/9f/1//X/9f/1//X/9f/1//X/9f/1//X/9f/1//X/9f/1//X/9f/1//X/9f/1//X/9f/1//X/9f/1//X/9P/0//X/9f/1//T/9P/1//X/9f/0//T/9P/1//T/9P/0//X/9P/0//T/9P/0//X/9P/0//T/9P/0//T/9P/0//T/9P/0//T/9P/0//T/9P/0//T/9P/0//T/9P/0//T/9P/0//T/9P/0//T/9P/0//T/9P/0//T/9P/0//T/9P/0//T/9P/0//T/9P/0//T/9P/0//T/9P/0//T/9f/0//T/9P/0//X/9P/0//T/9P/0//T/9P/1//X/9P/0//T/9f/1//X/9f/0//X/9f/0//X/9f/1//X/9P/1//X/9f/1//T/9f/1//X/9f/1//X/9f/1//X/9f/1//X/9f/1//X/9f/1//b/9f/1//X/9f/2//X/9f/1//X/9v/1//X/9f/2//b/9f/1//X/9v/2//b/9f/1//b/9v/2//b/9v/2//b/9v/2//b/9v/2//b/9v/2//b/9v/2//b/9v/2//b/9v/2//b/9//3//b/9v/3//f/9//2//b/9//3//f/9v/2//f/9//3//f/9//3//f/9//3//f/9//4//f/9//3//f/+P/4//f/9//3//j/+P/3//f/+P/4//j/9//4//j/+P/4//j/+P/4//j/+P/4//j/+P/4//j/+P/4//j/+P/4//j/+f/5//n/+P/4//n/+f/5//n/+f/5//n/+f/5//n/+f/5//n/+f/5//n/+v/5//n/+f/5//r/+v/5//n/+v/6//n/+f/6//r/+v/6//n/+f/6//r/+v/6//r/+v/6//r/+v/6//r/+v/6//r/+v/6//v/+v/6//r/+v/6//v/+v/7//v/+v/6//v/+//7//v/+v/6//v/+//7//v/+//7//v/+//7//v/+//7//v/+//7//z//P/7//v/+//7//z//P/7//z/+//7//z//P/8//z//P/8//v//P/8//z//P/8//z//P/8//z//P/8//z//P/8//z//P/8//z//P/8//z//P/8//z//P/8//z//P/8//z//P/9//3//P/8//z//f/9//z//P/9//3//f/8//3//f/9//3//f/9//3//f/9//3//f/9//3//f/9//3//f/9//3//f/9//3//f/9//3//f/9//3//f/9//3//f/9//3//v/9//3//f/9//7//v/9//3//f/9//7//v/9//3//f/9//3//f/9//7//f/9//3//f/9//7//v/9//3//v/9//7//v/+//3//f/+//7//f/+//3//f/+//7//v/9//7//v/+//7//f/+//7//v/9//3//f/+//7//v/9//3//v/+//7//v/+//7//v/+//7//v/+//7//f/+//7//v/+//7//v/+//7//v/9//7//v/+//3//f/+//7//v/9//3//v/+//7//f/9//7//v/+//3//f/+//7//v/9//3//f////7//f/9//7//v/+//3//f/9//7//v/9//3//v/+//7//f/9//3//v/+//3//f/9//7//v/+//3//f/+//3//f/9//7//v/+//3//f/9//7//v/+//3//f/9//3//f/+//7//f/9//3//f/+//7//f/9//3//f/9//3//f/+//3//f/8//z//v/+//7//f/8//3//f/+//3//P/9//3//f/9//z//f/+//3//f/8//3//f/9//3//f/9//3//f/8//z//f/9//3//f/8//z//f/9//3//f/9//3//P/8//z//f/9//z//P/8//z//P/8//3//f/9//z/+//8//3//f/8//z//P/8//z//P/8//z//f/8//v//P/8//3//f/8//v/+//8//z/+//9//z//P/7//v//P/8//3//P/7//v/+//8//z//P/7//z//P/7//v//P/8//z/+//7//v//P/8//v/+//8//v//P/7//v/+//7//v//P/8//v/+//7//v/+//8//v/+//7//v/+//7//z/+//7//v/+//7//v//P/7//r/+v/6//v//P/7//r/+v/6//v/+//7//v/+//7//v/+v/6//v//P/7//r/+v/6//v/+//7//r/+v/7//r/+v/7//v/+//6//r/+v/6//v/+//6//r/+v/6//v/+v/6//r/+v/5//r/+v/7//r/+f/6//r/+v/6//r/+v/6//r/+f/5//n/+//7//r/+f/5//r/+//6//n/+f/7//r/+f/5//n/+v/7//r/+P/5//r/+v/6//n/+f/5//r/+v/5//n/+v/6//r/+f/5//n/+v/7//r/+P/5//n/+v/6//n/+f/5//n/+v/5//j/+f/6//r/+v/4//j/+v/6//r/+f/4//n/+v/6//n/+P/5//r/+f/4//j/+f/6//v/+P/3//j/+v/7//n/+P/4//n/+f/5//n/+f/5//n/+P/5//n/+f/5//n/+f/4//n/+f/5//n/+f/5//n/+f/6//n/+f/4//n/+v/6//n/+P/4//n/+f/6//n/+P/4//n/+f/5//n/+f/5//n/+P/4//n/+v/6//n/+P/5//r/+v/5//j/+P/6//r/+v/5//n/+f/6//n/+P/5//r/+v/6//j/+P/5//r/+v/5//j/+f/5//r/+f/6//n/+f/6//n/+f/5//n/+//6//n/+f/4//r/+//6//n/+f/6//r/+v/5//n/+v/7//r/+f/5//n/+//6//n/+f/6//v/+v/5//n/+f/7//v/+f/5//r/+v/6//r/+v/6//v/+v/6//r/+v/7//v/+v/6//r/+v/7//v/+//7//r/+f/6//v//P/7//r/+v/7//v/+//7//v/+//7//r/+v/7//z//P/7//r/+v/8//z//P/7//r/+//8//z/+//8//v/+//7//v/+//8//3//P/6//v//P/8//3//P/7//z//P/9//z//P/8//z//P/8//z//P/8//3//f/9//3//P/8//3//f/9//3//f/9//z//P/9//3//v/+//3//P/9//3//v////3//P/9//3//v/+//7//f/+//7//f/9///////+/////f/9//7/AAD///3//v/////////9//3///8AAAAA/f/9////AAAAAP7//v///wAAAAD///7/AAAAAAAA/f/+/wAAAAAAAP7//f8AAAEAAAAAAP//AAAAAAAAAAAAAAEAAAD/////AAAAAAEAAQD///7/AAABAAAAAAAAAAAAAAAAAAAAAAABAAEAAAAAAAAAAQABAAEAAQAAAAAAAQABAAIAAQAAAAEAAQABAAIAAQACAAIAAAABAAEAAQACAAIAAQAAAAEAAgACAAMAAgABAAIAAgACAAEAAgAEAAIAAQACAAIAAgADAAMAAwABAAIABAACAAIAAwADAAMAAgACAAMAAwAEAAMAAgADAAQABQACAAIAAwADAAUABQADAAIAAwAFAAQAAgADAAUABgAEAAEAAgAEAAYABQACAAMABAAFAAUAAgAFAAYABAAEAAIAAwAFAAYABQACAAMABQAGAAUABAAEAAQABgAGAAIABAAGAAYABQADAAMABQAGAAYABQAEAAQABgAGAAQABAAFAAcABQADAAQABQAGAAcABQAEAAUABgAEAAUABwAFAAcABAACAAUABgAHAAYABAAEAAQABQAGAAUABgAHAAUAAwADAAYACAAIAAYABAADAAQABgAHAAYABwAGAAMABAAFAAYABwAHAAYAAwADAAYABgAHAAYABQAGAAUABAAEAAYACAAGAAUABAAEAAYABwAFAAUABgAFAAQABQAFAAYACAAGAAMAAwAFAAcABgAFAAUABAAFAAQABAAHAAYABgAFAAEAAwAGAAgABgAFAAQAAQAEAAcABgAFAAYABQACAAIABQAGAAgABQACAAIAAwAFAAUABgAGAAQAAwABAAIABgAHAAYABAABAAIAAwAGAAYABAAEAAQAAgABAAEABgAIAAUAAQAAAAAABAAIAAYAAQACAAIAAQAEAAUABAAEAAMAAQAAAAIABgAFAAMAAAAAAAQABQADAAEAAAACAAIAAgADAAEAAwADAAAAAAABAAQABAAAAAAAAAACAAQAAgD//wAAAwACAAAAAAAAAAIAAgAAAAAAAQACAAEA//8AAAEAAgAAAP//AQABAAAAAAD//wAAAAABAAEA/////wAA///+/wAAAQAAAAAA/f/9/wAAAAAAAAAA/v/////////+/wAAAQD///7//v////////////3///8AAP///f/9/////v///////f////7/+//9//7//v8AAP7//P/8//3//v/+//7//f/7//v////+//v//f/9//z//f/8//v//f////z/+v/6//v//v/+//z//P/7//v/+v/6//3////8//n/+f/4//z/AAD7//n/+//6//n/+v/6//z//v/7//b/9//8//7//P/4//b/+v/9//z/+P/3//r//P/7//b/9//9////+v/y//X/+/////3/9f/1//n/+v/6//f/9//8//z/9//0//f/+v/8//r/9P/2//n/+v/6//f/9v/3//r/+f/3//r/+P/3//f/9P/3//3//f/2//L/9f/3//j/+//6//f/9//1//T/9f/6//z/+f/0//L/9f/6//v/+P/1//X/9v/5//j/9f/4//j/9v/2//X/9v/7//r/8//y//X/+f/6//f/9f/1//j/+P/z//T/9//5//r/9f/z//T/9//4//b/9v/2//j/9//1//X/8//2//r/+P/3//T/9P/2//b/9v/2//n/9//0//b/9P/1//f/9f/4//n/9v/0//P/9f/3//n/+P/1//b/9v/0//X/9f/4//j/9v/2//T/9//3//P/9P/5//r/9//0//P/9P/4//n/9v/1//f/9//0//P/9v/4//n/+P/0//T/9f/4//n/9//1//f/9f/0//j/+v/3//b/9f/x//f//f/6//f/9P/x//X/+f/6//r/+P/2//L/8v/3//v//P/5//b/8//y//f/+f/6//v/+f/1//L/9v/4//r//P/4//X/9f/3//j/+P/8//j/9f/3//X/9//7//3/+f/z//X/9//7//3/+P/4//j/+P/0//P//f8AAPz/9v/u//P//v8AAP3/9v/2//n/9//4//n//P/8//j/9//1//r//v/6//f/9//6//z//P/5//f/+P/5//z/+f/6//7//f/3//L/+P/+/wAAAAD4//P/9//8//3//f/7//n//f/6//X/+v/+/wAA/P/2//n//P/+//v/9//5//7////7//n/+f/8//7//P/6//v//P////3/+P/5//z//f8AAP//+P/4//z//f/+//3/+v/7//7//v/7//n//P8AAAAA/v/2//j/AAAAAP//+v/5//z///8AAPz//P/+//3//v/6//r/AQACAAAA+P/0//3/AgAEAP//9//5//7/AAD///z//v///wEA/v/2//r/AQAFAP//+f/7//3/AwAAAPn//f8CAAAA/P/6//3/AAACAP7//P/+/////v/9/wAAAgABAP3/+P/7/wEABwADAPr/9//8/wMAAgD/////AAAAAPz/+v/+/wQACQD+//f/+f///wUAAgD///z///8EAP7/+P/8/wUACQABAPr/9P/8/wcABQAAAP3/AAAAAPv//P///wMABwACAPz/9v/6/wMABgAGAAAA+P/6////AQAFAAMAAAD9//z///8AAAIABQAAAP3//P/+/wAAAwAEAAAA/f/9//7/AQAEAAIAAAD+//3/AAABAAAAAAADAAEA///9//v/AQAIAAQA/f/9//7///8CAAMAAAAAAAIAAAD7//7/AQAEAAgAAQD2//f/AwAHAAMAAQD8//z/AQACAAAA/v8AAAMAAgAAAPr//P8CAAgABAD5//7/AgAAAAAA/v///wgABQD6//f///8FAAgAAAD7//3//f8CAAEAAAAEAAIA/v/5//3/BAAFAAYA/v/5/wAA/v8AAAEAAwAGAAAA+f/5/wAABQAFAAQA/P/7////AAADAAAA/v8CAAEAAAD8//r/AwAIAAIA+v/6/wEABQAEAP//+P///wYAAgAAAP7//P8BAAUA/v/6/wIABQAAAP3//f///wMABgD8//n/AQAHAAMA/f/4//r/BQALAAEA+v/5/wAABgAAAPv/AAAGAAMA+//3//3/CAAJAP//+f/8/wAAAwAAAP3/AwACAAAA/f/5/wEABQACAAAA+f/+/wQAAgD9//v/AwAFAAAA/f/5////BwADAP7//P///wEAAgAAAPv/AAAFAAEA///5//v/BwAIAAAA+P/8/wQAAQABAAAA+/8EAAMA+f/9/wEABQAFAAAA+v/6/wQABAAAAAMA/f///wEA/P8BAAIAAgAAAP3/AAAAAAAA//8BAAUA/v/+//3/AAAJAAIA/f/8//7/BAACAAAAAgABAP//+v/+/wUABAADAAEA+f/6/wUABAAAAAIAAgAAAP7////+/wQACQAAAPz//f8AAAQABAABAP7///8CAAIAAAD//wAABwAGAPv/9P8DAA4ABwD9//X//v8MAAkA+//5/wMACwAFAPn/+P8CAA0ACAD8//v/AQAFAAQA/v/+/wQADAAFAPj/+P8BAAoADAACAPv//f8CAAEAAwAHAAYAAgD+//7/AAAEAAgAAgABAAUAAQD//wAAAQAEAAoABQD9/wEABQACAAAAAQAIAAoABgD9//f/AAANAA0ABgD9//3/AgAEAAYABQAFAAUAAwABAP3/AQAMAAkABgAAAPz/AgAHAAYABwAKAAQA/v/+/wAACQARAAcAAAAAAAAAAgAHAAoACgAGAAMA///+/wUACgANAAcAAQADAAIAAwAFAAQACwAQAAUA/P/9/wUADAAOAAgABQAAAAAACAAFAAYADwAKAAIAAAAAAAcAEgARAAEA/f8EAAcADQAJAAEADQALAP//AQAGAA0AEAAGAAUABAACAAYABgAMABEACgACAP//AAAIABQAEwAHAAEAAgAAAAcAEQAPABAACwD5//r/CAASABkADgAAAP3/AAAMABIAEAAMAAMABAAEAAQADQARAA8ABQACAAcABwAOAAwACQAOAAgAAwAEAAsAEAAMAAsABwAHAAYABgAOAA8AEAAOAAIAAAAFAAwAFAAUAA8AAAD6/wYADgAaABcAAwAEAAMAAgAOABEAFgAQAAYA///6/xAAIAAWAAUA+v8CABIAGgANAAAACgARAAwABQAGABAAFgASAP7/+/8RABkAFAALAAAAAwASABcABwADAA8AEwAQAAcAAgAJABMAFQAKAAIADAASABAACAABAAwAFgAXAAsA/v8DAA8AGQAUAAQABQALABAAEgAIAAgAEAARAAwABAAEABUAGQAOAAIAAAAPABgAEgALAAcACwANAAwABQAHABwAHQAGAPr/AAARABkAGQAMAAIADQANAAEABgASACAAIAACAPL/+/8SACcAHwAGAPz/BwAPAAcADQAVABgAFQD8//j/DQAaAB4ADQD+/wMAEAAUAA4ADgALAAkACgAIAA8AFQARAAQAAQAPAA8AEQATAAMABAATABAABwALABAACgALAA0ACgANABEACQABAAkAFAATAA0ADQAEAAEACgAPABYAGAAKAAAA/v8CABEAIgAbAAEA+f/+/wwAGwAYAA0AAgADAAgABAANABcAFQAMAP7/+/8DABsAHgAKAAUA/v8AABMADgANABcADAD+//z/AwARABwAFgACAPv/AwALAA4ADgANABAACAAAAAIAAgALABoAEwAEAP7/AQALAA0ADAALAAsACgAHAP////8PABYADgACAPz/BAAKABEADgAAAAUABwAHAAkACAAHAAgACwABAP7/DQALAAYADwAJAPz//f8HAA4AEQAOAP3/+/8EAAIACgAPAAoACgABAPn//v8OAA0ABQAMAAgA/v/7//v/BwAUABYACADz/+///v8UAB0ADAD5//T/+P8IABAACgAIAAAA/v/6//n/CwASAA0AAQD2//b///8SABMAAAD4//r/AwAOAAQA9//7/wkAEAACAPf/+f8AAA0ACwD7//b/AAAPAAYA7v/3/wwAFAADAOv/7v8JAB4ACwDq/+z/+/8OABIAAAD7//j/9//8//r/CwAVAAYA9v/l/+b/BQAhABgA+f/j/+f//f8PAA0A+f/8/wcA///y/+f/9f8VAB4ACADh/9v/+f8MABAA/v/4/wMA+f/w/+v//P8XAA8A/P/o/+b/+/8BAAgAAQD9//7/8P/r/+z/BgAkAAUA5v/f/+X/BwAcAAYA8P/r//L/+P/1//v/DAAQAAAA3//S/+z/FgAoAAUA3//a/+T/AwAQAAEA/v/8//b/4f/c//7/GQAhAP//xv/C//7/KwAWAO3/3v/m//z//P/u//3/FAAOAOf/w//V/wwAKgAaAOv/yf/W//P/CgASAAUA9v/s/+f/3f/k/woAGwALAPD/0v/T/+7/DwAZAPf/5//t/+z/8f/x//T/BwAHAPH/3//i//D/AgAKAP3/4//i//L/+f8EAPr/4v/x/wMA8//g/+b/+/8UAAsA3P/F/+P/CgAUAAcA8f/c/9r/4f/1/wYAFAAMAN7/yv/T/+r/GAAeAPz/5v/Z/9T/6f8AAAsACgD1/+f/2//U/+v/CwAVAAAA5P/R/97//v////3/+f/r/+7/3v/i/wQADAD5/9//1//j/wYAFQD3/9z/1f/z/wEA5f/q/wMAEAAAAMT/qv/s/zoANADs/6j/vf8PACEA5v/N//7/GAABAND/rv/q/yoAHQDo/8P/5f8FAP3/3v/N/wQAJgAAAMz/uf/o/xgAHADx/8P/3v/+/wYA///c/9j/8/8KAPn/2f/j//3/EADw/8H/2P8AAB0AGADb/7n/0//9/w8ACAD3/+n/3v/V/+T/AwAKAPr/9f/o/9T/5P/z//j/EQADANn/1v/b//P/FQAFAOr/3P/i/+n/7/8EAP3/AQAAAL//qv/z/z4ANwD5/6z/j//j/zkALwD1/+f/5v/I/8X/1/8dAFgAIAC4/3j/wv8xADoADQDY/9L/6P/m/9r/6f8qAC4A2f+k/7j/EwBWABEArP+c/+n/QwAlANf/yf/k/wYA9P/E/9n/NQBXAOj/ev+O////awBJANH/r//U/+//7v/g////QAA6AML/bP+w/yoAbAAyALb/kP/U/ygAGQDh/+X//P8LAOz/sf/N/zgAUwDt/5D/j/8GAGwAOgDR/5T/zf8MAPz/+v8KAC4AAACm/5v/yP9VAHcA4v+Z/7H/BQAwAPL/vv/j/0EALgDD/5b/x/86AEcA5f+x/97/LQAQALz/r//6/1YAMQCx/4///P9GAA0Ax/+2/wcAUwD4/5j/vv8fAEYA/f+m/7X/MQBQAND/pv/n/yMAJgDX/7D/7v9PACQApf+l/+f/QwA2ANH/3f/s/wMA4f+j/wkASgBLAPn/Y/+C/wYAdwBYANT/q/+5/wMAGgDY/+f/LwA5AN//hP+a/zAAiwARAJH/iv8KAGwADwCr/6j/HgBVAOP/nP+9/0MAawDh/2//kv9JAIIAEwCV/3//HQBTAAMAtf+0/ywARQDw/5n/uP85ADYA4f+4/+//QQAaAKn/if8PAHkAIgCi/5T/AQBaABAAjP+v/0QAcgDl/23/xP8wAFcA+v9+/9H/QABeANP/Wf/a/0sAagDj/2j/4v9LAGAAs/89/+//iQCWAMb/IP+b/04ApAD+/2P/0/9IAEMAs/9g/+//jwCYAKz/8f61/6EAkgDj/1r/pP9GAGwAvf90/y4AfgAIAFL/Xf9HALsAYABo/yL/7f94AGIAwv+t/xIAIADo/2r/xv+IAIYA6v82/4X/OQB7ABgAjP/Z/yQANQDH/1b/EwCKAEwAoP89/+7/ewBdAKb/af/8/2oAVQB2/3b/NwBUACsAiP+F/zYAcgAAAEr/sP9lAHQA/v9S/5r/NgB0ABwAcf+7/04ALgCo/3P/BQCjAHgAdv/9/tD/lgCbAPX/X//L/ywA2/+v/9T/cgDJAMX/zv4z/20AGQF9AGz/9f7H/5IAPgC2/6z/PwBsAMT/Jv9n/44ABAE+ABz/8P4DALQAmAC7/0P/CwA8ANb/l//B/4MAqQDf/+7+JP9vAAsBeABU/xH/8f9kACMAtv/Z/2oAOwCG/xP/rf/pAOUA0v/y/kX/UwCVADcAn/+2/zwA1/+A/7j/ZACyAPn/U/8u/xQAvAAtAM7/iv/a/0EA2v+1/9//TwBWAKn/fP/Q/1YAPgCt/8D//f9AACcAgv+A/yAAfgAVAJT/of/5/18ADACU/8T/CwBSAA0ApP/D//f/HwD3/8X/7v83AB8As/+g/7D/TQCbANL/kf+j//L/WQAGALP/y/9gAB8AW/+h/wAAqACXAF7/Bv+T/9QA7wCk/0P/Z/8eAIkAEQDS/7z/OADt/0v/8/9YAIsANQA4/zL/+//BAGoAm/+Q/7//JgA/AL7/u/82AE8A0v9u/8T/UwBqAP7/d/+Q/yQAbgANAIj/xv8wADQA7f+a/9b/LwA7APP/q//Z/xAAFQDD/87/SgAhANP/vP/a/wUAFgAOAMr/FwAvALv/rP+3/z0AYwDv/77/uf8+AB4Aef+q/z0AtgBCAHH/NP+c/4MArQADAHn/vf9DAPH/oP/O/y0AnwBOAFf/Hv8TAKIAMADW/5z/1f9jACwAj/9r/xUAuABgALz/Qv9z/1oAqgA0AJL/hv/4/ykASQDH/3z/MgCXAEYASP8d/yAAwwDAALf/D/+O/ysApAArAKT/3/8cAAAAqP/S/y0AWAA0AMv/mf+9/yEACwARAF4A/P+Y/5//DwBCACwAFwCm//H/TADI/6z/AQAlAFUATgBw/yn/OwDUAEYAk/95/93/YgBkAND/iv/4/4AAFgB8/4r/HgDMAE8Aov9k/4v/YABbAFEATQCX/4L/h////7cAcgDh/5n/5/8BAML/0/8OAKkAygDE/7/+Lf98APsAqwC7/wn/tv+JAC8AjP8NAHcANQAvAG//+P42ADcBhABn/zT/jv+AABwB8v8A/6P/lQCgANv/b/+O/4IAHgHB/8L+Yv99AEEBvwBX/5j+hv/BAOwAegCi/1D/0/8UACoAHAD2/0sATgCt/3j/yv8kAIYAowAJAEr/S/8KAM8AvgC1/wv/vv+dAMkAAQC6/mj/UwFoAZn/HP5A/04BkwE8AHD+vf74AIYBfv9V/jMA2QEcAef+a/06/1gCnQLw/+z9P/7t/3sBDgHb/+X/KwCW/+f+dv/MALABAgEi/z3+Gv/zAF8BLgCq/6H/+f8NAJP/3/+ZAOgAGgD6/j3/bgAiAXMAD/8g/58A0QDG/5D/+/94AG0Abf8O/24AhAF2AO7+3P74/xUB+wDF/wj/iP9wAMEAXgBx/yH/aQAcASwARv8j/y4AZwHPAPL+Tv75/5wBZwHh/1z+9f6uAAMBfwDs/5X/AQAtAIT/WP9TAG8B0AAb/9v+j/9RABwBzAC//1b/rP/l/zAArQA/ALP/n/8AAIgA9P+g//b/WQDSABAAB/8E/3wA9QGwAKT+Kf7e/z0CYgGc/i/+YwAiAtIAQP7Q/WoATQPHAar9Hv0WAE8CcAEn/1f+JgAxAnMAnP03/kYBJAMqAdv9aP1SAEwCXQCq/o//JQHFAdn/7vwK/mACKgOAAGz+IP5+//EA/gDG/0AARQGJ/zf+5v6kAF8ClAG3/nb9vP+8Ae0A1/+Q/9b/SwDa//j+4//bAUIBMv+T/uj+OwCmAUoBEgAX/7D+dv/XACEBIgDE/wsA2/+7/8r/vP9BACkBtgBE/0L/zv+6/5UA5ADp/9f/7P/A/+//6f/P/4oAagEPAJv+6/69/5oBIQKw/479sf45AagBnwAh/+n+YgAJAe3/fP7J/7gBjwHY/6z9g/7pAL0BuwCt/+T/Vf+n/wwAav9DAIkBuwGH/839VP6d/x8CVwJQAOD+kv5Y/6L/RwBhAfsB7ABB/gD9nP6/ARMD6QED/8P8aP7pALsBNQGDAOz/oP6H/jf/0gD1AskBtf4G/f79+QCxAqABtf8Q/+7+sP6b/ygBFALGAYP/O/2l/TQAkQJJAj4Ad/7s/aj//ADNANcAUQBZ/zb/xP/s/3oALQHY/yr/FwCd/4L/BQFZAeD/ov7t/gsAXgGrAa7/gv5m/+n/gQC6AAkAKQB3AIz/nP6t/9kA7ACQAff/Xf2c/rgA6AELAnL/YP2n/hEBkwHdAOr/of7v/7UAmv5n/9MBCAJPAN39Gf1O/wkDIwOp/9j9b/4ZAJ0AAACoAI8BtgCZ/nf92v6bAcICXwG4/l/9EP8aAU4BcAAdAAEAjP+X/7j+VP9VAlwCif9w/fr9egBUAo4BRf8R/+v/lf83/+H/JgHnAQoBHf6b/GX/uwJWAhwA2f5Z/r//AgHR/23/7wCzAU8AV/5i/VP/xAJlAu3/ff4R/n3/MgFvAT8Akv/J/3D/i/8mAGcAagCLACIAzv7s/lEA+wBDAXUAmP6E/g0A1ADlAJQAnf84/xQAnf/T/o8AyAE1AaL/D/5+/g8AnwGBASMArP8h/5H+Gf/4ACECAwFD/zr+FP+PAKAASQCXAKsA0v/X/i3+cf93AsMCd/8a/Vf+sQDoASYBRv8f/xoAeQBs/7b+lwDWAeMABv/3/Uz/DgFdAWUA2P9c//b+YgB2AMr/nwAfAIj/FwDX/yf/+v8jAX4A6/9g/8/+VwBLASoAsP/c/0r/nP/sAL4Ak/8t/73/SQC6AMMADP92/qUApAFpAAL/lf7z/7kBwwB4/tX+0gB6AWMAkf4K/nUA1QL3AFT+sP6V/1sAAQEwAMn/vwAiACr+jP6LANoBOgI3AFn9q/3x/1sBdQKwAWn+Rf3o/lcAlgHyATYAxP4n/w3/TP8QAc0BRAGu/8n9zv0uAC8CawGYAI//yf2B/jgAgAEfAhQBq/4J/TT/tgEgASsAQAAVACj/8v5F/+n/2gFOAr//Af5M/hj/OgFzAp8AVv+H/5z+Gf5sANQB2QHrAcD++fuJ/UYB7gPvAuD/AP2t/Ib+PgHgA9cCrP/S/HL8R//5AUMDvgHU/3/+lfzj/WoBjQPkAvD/nPxJ/BwABgLxATYC/P+T/er98f4yACQDOgPy/gP9HP5n/zMBXQIAAeD/sP8F/t39GQBHAscCLwFy/kL8Ov4jAQgCwwLjABT+a/1f/gMA0QGQA90B2f0P/JD9WwF7A6kC//84/UL9If8zAZIC5gEbAGf+af2L/jABkwL6ATYAEP7l/JP+/QEBA6EBMf8+/Xv+YAA6AZgB0ACv/8T+1P4g/zQAkgKSAav+H/7q/ogAzgENASH/Kf+mAMb/z/4ZAFgBiwHR/1f9af63ARACEwA0/5P/9P8JAGb/gP+7AQMCRP+S/WD+twAWAnABef+I/qj/9P/r/4MA6wC3AKz/9v7n/okARgFk//v/GwF5//3+6f8BANIAhQFG/1b+fwCZAAgAtQBQ/8r+HAGaAAj/fgCVAAb/3f/lAOL/wf+sAAgAev8oAIn/Dv9NAecBgv94/p/+bv/3ASEDt/8n/Sn/DwBuAJkBUwDY//wADf8s/DP/ygM6A8AAtv33+5b+fQKMA3gB7f5h/Sn+RgB8AZYBgADM/yb/qf5C/4sANgKGAWD/+P1W/skA4AHzAF//Kf/y/5z/3v8fAGcAtAESARn+i/0yAI4BmQHyACH/Sv5P/1AA7P/AAA8CnAB0/in+ZP+8AAgCEQHf/u3/OwBh/tf+wQD/AewBFQAa/Sj9iwEcA5cAF/8i/+H/YQD+/wn/u/9JAgUBP/4c//z/5f95ABQB5wBIABL/f/1o/7QC0wG3/x3/of4w/40A9wCXAK4AtQC+/jj+CACSAGkBkgHp/2f+L/5q/9sA1AKhAfn92/1I/wgBYgKyAOj9NP8nAgcA1v0y/zoBzwJuARP9uvvHACoEYQIF/6H8Pf8yAuQANf4O/5ICEQJ+/7H81vzAAS8EIgIq/nf9kv+KAFgAdP8WAUkC8AD2/bL7/v4vAyMEFAFA/eb8+v5kAusBwf/i/8z/8/+D//7+dP+uASICQf/c/iT/g/+bANcAQQG9AHf/qv1e/jkBLQIZAtn/Zv1r/dv/rwL7AZkAJ/8W/pL/+P+q//0AzgJjAZj9t/zR/dQBPAWoAZP9A/1o/nQAXAKFAsP/jv/N/mT8xf+BAxcDcgDj/XH8cP0PA2wEygAF/zT9z/3bAKIBrQBZAXsB0f17/DP/qAGNA7gCd/1w+xkAewJEASIAYf/B/1cAbf+H/bIALwQVAev9FfxE/t8DZgSZ/0r8rP5hALIAOQGH/5cA3gEN/4f8/P0RAnEEUwK0/MP7KgBXAsYB5/+n/t3/TgF2/7H98P8iAgsCnf9c/aP+LQHtAYUAaP8b/3n/RQDj/2EACQH0/2v/LP9d//sAFAFD/6r/VgH4/6r+qP88/04ABAO+AML9xP5A/5j/2gEPAjIAnf8I/gf94ACZA2oBb/9v/p/99v/7AQwASQC4ARr/lP1D/8gA6QHVAcz+Hv1sAIsBkf/g/+7/QQBzAWX/Ov2i/2ECUgHW/4f/nP7k/roA5ABuAM4A8f/C/qn+c//gANwBJAFE/6b+hP5e/8cBpgH4/7j/Qf8K/ov/FgIDATgAlf/k/db/WwHE/2cAmAHC/sv9owBMAJwATgLS/pT8XwCBAiUAKP+2/5P/3gDuAJr+q/7gABcBAwAAAHP/CP9ZAI8Ac/8oAN0AZf/H/90AHP/l/pIAcwBeAOIAp/+S/m3/7f8rACEBDwHg/xT/rf4f/3YARgGFAZIAoP6J/Yz+xAHDAlAAwf67/jr/+f+3AJoAjAAyATP/EP2d/hkBWAOiAtv9r/ta/swB9QKjARj/vf10/xsA4/40ALYCPgKS/rD8zf1+AK0D4QEn/pj+5/+Q/47/fADNAG8BIQAQ/Qv/FAJ3ALH+3P//ALoADADB/eH97QEYA2QAhP0Z/ssAzQAFABcABAC8ABkAv/1l/lMBGgIQAZ//9v1Q/mkAkgDlAD0C1f/r/Er+pwCVAW8Bp/8e/tT/bAHY/2f+SP9kAQwC0v9k/Zn+vQFVAVP/8P5F/ysBygHE/kP9VQCOAp8AyP41/pr/GgLMALr+Of/F/5T/UwBoATIAgf9d/wj+1f+cAlABvf6b/pH/EQBjAO//KQDaAOj/tv65/jEA7gFZAbX+q/12/78B7wFu/8r9Cf/RACkBJACC/7n/6v+o/zH/MgDEAY0Ak/7D/qf/XACxAO0AbwC3/h/+JP8wAZ8CIgEx/vr8M/8WApMBtv/h/8H/p/4E/9P/2QDpAbsAV/6B/h8Aff+9/74BmAFPAGX+Ofxp/vQD0wOI/mb9Gv9x/5YATAH7/xoAQgFM/938qv7ZAY4CnQEc/3f8cP2oAOQC8QJIAA399vzW/3wBMgFTAf0Avf4t/SL+EwB3AlgD8QDN/Gb7u/8mA3cCCwFT/iv9qP88AeD/nv9eAdoAbP+j/pT9cf8lA88CeP+f/WT9Tv9lAmMCfP+v/vX/iP7J/sIBzAD5/8MAWv9T/lz/RQB2AAYCRgGM/Wb9Wf+XAWADJQAo/F7+KwKfAbP/ff7W/sIB0wEU/nH9+gCHAkUA8/3S/RwBEAM5/xD9AwDhAQIBe/8A/i//DgK3AA3+zf/bASwACv4K/h0ALQMEAiX+EP75/jf/TQGqAqsA9/5v/t38cv/cA2UCO//7/e39gf+lAXwB/v8jAD3/Rv7t/6UAfAAmAfH/cv0Z/yQCyAA8/2v/O/9zAK8By//Z/Yf/hAHyAEH/Jv7h/14CnwA7/TX+sAGoAswAv/0l/WsAewLNAKr+aP8GAa//yP1G/0UCAgJp/0b+if4vAIoBWgC1/5cAiP8I/n7/WgGjAU0Ajf0N/ucBJAIU/43+OQDyAFoAuP4U/vwAeAN/AHP8Pv3NAMMCnwEU/4T+1f/I/wv/VgCzAXIBJABw/cn8XgA8A/0BiP9s/rL94P6RAUACkQGJ/2D95/0oAM4BywE9AfD+aPxx/lgBAAJhAp8A7Py+/I8AdgJvAX4A+P4//qz/of+S/78BJAK+/1v9Vv13AKsDfAIZ/oz8gf8IAgwBnv9M/6r/ugCc//T9FQACA34Bjf2U/VsAIAKWAT7+B/5VAaMBHf9g/aX/7wLmARz+xvyJABgDWADf/Rz/CwLOAar9Hvy8AAYFIwKE/Er7cv+QBEoDWv1h/dkBUQEL/pr9NQDPA3UD0/1D+v398gI5AyoBYP/h/jD/A/4r/osC5gQWAYP87fvb/gcCnwINAbf/e/96/m/9u/9JA2kDuf+R/KP9mwD4AcAA+v70/1QBxP+0/TH++ACMA48C+v3H+zb/jQJ1AcL/l/+D/20AFwBe/ZD+WwNTAyz/n/0N/oX/IgJgAXn/DwFlAJX8uv2QASoCKAJ1AM78tP0DAd4AswBBAqEAvv3A/aL+5wBnA6gBfv4F/lL+B//DASIDQwHY/lT96f3uAOAC4QD//mP/YP+J/4j/dv9LAeACtADM/Lj8YgDPA04Drf6x+yL+dAJ9ApP/lP5x/7AAVQAM/3H/vAFIAp/+2/yT/2wCOgL2/r39af+/AOoA2f/R/9gAJABV/gD/4AFHAq3/af0T/pMBQgOx/4L8HP9UArgBHf+m/fL/PQNdAaf8pP37AbMC2QDG/Y/8twCEAzcAOv7G/xAAbgCBAPP+HwBEAsT/N/0EAJQB1f8/AP//Av8jAMP/Sv+oAYACBf+2/Nf+kwE5A6UBBP2p/OYAtwGW/2EAawE1AO3+Z/2F/koDMwSU/+H8qv1J/6sBNQJ+ACcAXf8K/ez9qAEbBLkCH/7p+8r9dQGxA2QBn/5z/hH/wf8XAH8A7gAyAYoAGv7u/ZoAXQFSAeoA0v5Q/of/XQCPALcAdwAH/5f/kwBy/w0A3AA4AGUACABY/sH+0AHCAW7/wv5D/i4AtgJjABv+EgAhAQIAnv+u/oT/sQLoAdr99fy1/44B9AHVAHn+7v5DAHD/v/9VAgwCIf4t/ZX/YQHLAXkAEP77/gMCmP9O/TEB/QL9ADP/afxC/QYEnwTd/V/8zf9cAToBiv91/ZgAQgT7/yv83P53Ac4B5gC+/kz+BAEwAen90f4YAokBwf+I/mD+zwD0ASgAVf8SAN3/6v6e/8AAFwG/AJ7+aP5hAGYAuwAsAez/Df8+/+7/BgCdABsBqf9l/3X/n/5UAPQBpQBL/x3/Lv9YAO8BSABa/r3/IADw/+wA1v8a/3YA/P8X/ysA1QCNAEEAuf8J/0H/dADXAI8AGQA0/yv/wf/2/y4A5wAbAej/xf5n/uH/MgKLAU3/Fv7P/iQBqgFa//79WQAfAmkAh/4y/lYArgIAAQT+aP6gADgBEgCt/nb/gAEIAZz+IP6uAOcBcgDu/gf/zAAQAU7/AP4bAMECQAD9/er+aQDFAe3/yf0MAPkCLgF4/WX91P+SAqgCBP9P/VX/hAAAAI0ABwHXAOb/gP0Y/nkB7wJUAXb+kP22/tUAmgG8AIQAOP8n/iX/iQCzAVYB3P/J/n7+jf8GARgBOQC8/1r/Lf+9/zYAaQAdAZ8Av/7A/hAApQDyAIgAHP+//gUAgAAoAGUAAAAK/+f//wDg/0D/EgB+AK8AMACJ/nH+UwHcASH/Df8NAAQAbABK/xf/+gHcASn+pP1QAFEB7wA3ALT+Hv/AAPD/K/+vAB4BAQCQ/5z+3/7/AR0C4v46/rf/dgCsAEsA2P6W/6sBCwCM/sf/bQC8AHIAIv8z/ysB4gAq/pT+CwG7AbcAk/7w/T8A4QF4APL+3f/RAPT/K/8M/wQA+AERAQj+8f2yAPUBWwC8/t7+5ADvASr/nf1RAAICpgD+/jf+uv8eAqYAGP4X//8AeAFnACj+ZP53AY8Baf+e/wAAoP/o/zr/Rf8HAigCY/5M/Zj/lAHQAd//W/4KAIQBFP+W/XsAggI7Aez+dP3O/tsBAAK4/zf/l/96/wgAlwBDAN//9f/n/+H/jv8e/14AwgH3AIn+jf04AJICLwGJ/iD+LgDPAbYAFf5s/mkBxgHC/6v+RP9GAOgAwQBQ/yj/tABpAAz/rv98AEEAsgBz//v9lgBJAt//jP7o/xEAFAAXAZD/6f4jAU0AFv6i/3YBCgFMAI7+pf2aAE4DBAHO/VP+x/8tAYcBev9H/1MAWf+j/hcA2gH2ARUA6vwm/Z8BfQM8Aaj+wv38/scAugAGAPoADQHa/rr9Av8TAcYCHAJ1/oz8sf5RAVkClwFF/8397P4fAF4AUAF7Aen/ef51/qv/XwG9AfX/Fv+A/6T/qf+k/9IAYAEAADb/Hv9p/44ATwEoAGD/UwDf//j+1f8vAE0AiQFtAML9pf7IAH4BVAF1/0H+vv9IASgAq/4PAI4B1QDM/nr9ov/LAkMCyP5X/YL/qgGWAXr/cv74/+kAhABg/+/+PAAJAU4AMv+b/6UAVgDp/6f/vf+OAGAAbf+h/08ARgDY/1f/9P8WAW0ANf87/0oAKAFgAPr+MP98ANYASwBk//f+IQC/AAEAQwCTAJ//D/9T/5EAGQKzAAb+f/5zAL0AUQBMAE4AQAD9/s/9JgBJA1wCgP6U/JX+5gHaAh0ADP6D/3UAeP9U/58A1AFUAZ/+7/yS/5wCBgIBAGL+Hf6t/zUBTQGUAMf/if6m/qIAZgFcAYEAFv74/aQAAQLWAFv/Ef9d/+P/KwBwAF8B2wBo/sn9IgBNAt0Bc/8E/iL/QgBvAMwAjwBYAKj/t/24/nIC7ALe/7H9Iv6JAFQCbgBI/uT/VQHW/3v+Qf/zAP4ByQAQ/i/+CAHIAR0A5v5+//cAvwDV/ln+pQBPAo8AS/5x/o4A5QF1AOr+jv9yAGwA0f8j/wgANwEiAB//g//b/6wAIgHs/x3/zv8+ABAAMwBeAGIA4f+R/gb/PAF5AWQAff9z/lX/QQHfAEgAtwBL/zz+wv+3ACoBaAH6/nP9NgCwAVEAKADG/3X/2AAIAEn+LABTAsQAU/4T/q//LAIBAk/+wP0AAVsCTgCF/VL+CAJoA9X/Hfx//hECywEBAHD+4f/zAWf/hf1JAE8CfAGf/wb+z/4TAdcAHf+mAPkBIf+f/ej+4AD0ApIBDP7u/TAA2wBfAA4AUQAgAcL/S/1h/uwBWgPbAIj9Zv1WAF8C7QBV/8L/6P+5/7D/kf+nAF8Bn/96/vL/OAGTAIv/Jv/M/28BGgHm/sz+EgBxAF4ASwAoAOn/kf8h/7r/hQGYAff/ov4K/gQASAJ6AbP/Lf7N/rsAUQAoADQB8wBL/x3+6v6fAJ4C4wGN/kf+5/4E/5kBqgKSAA//6P2g/fAA0gPFAYz+xP15/noAUwLiAIj/SQDa/on9+f+2ApACHwBB/ff82wA5Ax4BZf8Z/yj/w//Y/+3/gAHrAeX+Of2Y/+sBsgGs/1/+BACpAf7/RP6D/1ABQQERAMX+h/6ZAJgBBgDN/yAAk/8EAEUAcf/z/2kBgAAl/1D/2v4JADICDAFM/wT/Iv/w//0ACQErAO//j//E/rz/3QDZANIArv+W/lX/awA3ARMB9f8D/7H+3/9qAXQBRgBy/jL+TwCCASkBSQDr/uL+4P+BAEwBGwFK/0X+kv/SABIB3wA+/8f+/P/z/2EAgQHxAAn/zP0K/8wB/wJjACH9Ov7xAHoBhgCS/wYARwAs/+z+oQAvAtgAZP4N/h8A8wELAXL/Ev+X/xgAAABhAAEB3QBl/7n9Iv9CAloCzP8f/mH+UADaAY8AT/80ABQA6P6i/8gA8wAqAaL/vv1g/2UBNwGyAIX/h/59/2UAnwBLAaMAbP4//swABQKiAPj+eP4eAJEBhwB4/3//1v/n//r/ugD2AAwA4P7Z/kwAhAH6AHD/OP/d/7f/xf/AAGUBWgCS/mD+PwDnAUMBS/+s/u//VgD6/5EAoAAQAHr/7v7u/0kBpQCS/7v/FQDx/5f/+v8JAd0ANv+W/ksAUwFrAHP/Af8uAEwBAwAk/1UAnQBI/4P/igDSAOwASf8D/v3/xgG3AMH//v88/y7/UwCqACgB3QC2/vD9PwDeAcwAuv9g/4D/FwAjAPn/fwD1ANL/5f6d/z4AsACrAPv/vv+m/3L/AgD+AJwAv/+n/2f/BwDTAOz/1v/FAPz/Hf+t/ywA6QA1AUr/R/5VABwB8f8jACoAw/8sAH3/Qf8ZAXYBdv/G/u3/bwB2ADAAcv86ADgBfP8o/hgAxwH5AKb/z/4G/7YAKAHS/xsAuwAx/47+IABfAUYBMQCt/lP+PwCyAbwACADN/+3+Lv96ABUB9gBUANj+Yf4yAGIB7gA+AEr/Af/V/3AAowCwADUAZP8d/6D/eQBTAc0AGf/v/sP/RgDwAKoA1f+j/4f/Zv8TAHMBDwET/8n+yv9xAOYAiwBu/6D/bwB7/2T/EgH5APP/fv+6/m//xgGfARr/l/7S/24AxQCLAFP/h//ZABoAGf/g/9UA5QDo/7v++v5EAd8BKf9v/kEAHgFaABz/lv/+ANgAJf+T/pIAwgFWAJP+yP72AIwBsf/R/tD/IgGbANf+S/8NATABpv9t/oH/UAFaAcX/q/5i/2AAzQC0ANv/f//U/8z/yP9gAOEAjQCV/9H+Hf+EALwB4QAg/+L+cf9CAPsAiwAFAB8Alv+o/nv/UwGdAYUA1P4N/rH/ZwEsAUYAq/9e/4v/pf/T/w8BqAHM/zb+7v4xAF8BbQFv/7L+/P9JAOz/TgCCACoA4P81/yT/yAB2AREACP8d/+D/+wDxALb/Xv/I/+//KQA6AF8AbAB7/xP/8P99AMQAoABZ/9L+6P+kAMQAgQBT/xT/XwBqAIr/CACuAF4Au//m/kL/GwF/Acf/wP6N/5kAhgC1/4b/YAC4ALr/+v7D/+oAjwCd/5f/5f9KADsAqv8LAGMAs/+K/04AjwDO/3L/1v8uAHsAQgCp/6r/BwDy/9P/dQC3ANb/D/9D/zgA8QCyAMP/O/+k/+b/5/+DAPMAPgBI/+L+Ov+5AJkBTwAi/1L/pP/L/zsAzwDwAPn/hP7C/moARQECAc//v/5G/xgALACjAOQAuv8H/2j/m/+dAI4BIQDR/oj/Yv96/7wBggHZ/nH+dP9xAG0BcACg/s//BAFF//b+mAAKAYwAPv8s/tv/zgGMABb/jf8EACMA6f+Y/2sAAwGM/5T+0P+0AKkAEQAz/5j/TQAAAM//UQBMAJb/oP/5/xgAQADu/7P/8P8CAMn/8v96APX/MP/p/5EASgDj/0X/i/+tAIkAg/9L/xEAhgAVAHH/P/+HACsBjf/g/pb/cgAUAfv/1f6l/3wALgC5/6D/DwC5ABgAt/5I/+oA6wD0/zH/RP9BAFEAwv/8/1gAEwBX/03/8v+rAOQAtv/4/n3/8f+OALAA8v97/z3/Tf9nAD4BKAD1/nj/HAAgAP7/uP9qAN0AOf9Q/sT/WgFBAXP/Jv5d/2oB4gD1/iD/TwDWADkApv4V/zoBGgED/6X+UQDvAAkAK/8+/6kAAgFL/+L+QgChANH/k/8AACgAEgCA//f+WAByAf///f42/4z/jwAQASIAQv9I/3X/BgDoAEAAYv/o/+r/a/+O/yMAFQHTANX+Ov4HADMBhwCk/3n/7v/z/w7/c/9jAXIBNf8F/jX/7gBLAQ4ADf/B/xoANf96/+UAPQG2/z/+GP/XADEB8f/t/sH/iADB/0D/HQDCAB8AZf8z/6D/twCjAGv/pf81AHv/m/+FAEAAwv/n/57/fv9RABkAsP+GAOT/5v7x/7AAGwCb/7X/7P9JABYA6v6p/3QBVACL/jH/fwDBADMAUP82/2YAowBI/2D/uABlAFj/Qv/i/9sAjQDK/tP+DQFHATn/uf7E/8sA0gBH//v+dwB7AFv/mv9LACEALQDI/yP/GwCEALX/DQApAH3/wP8DAOv/LAAUALD/0/8gAMT/oP8sACsALgAgAE7/W/8NAGUAmwANAD//Lf/S/6QAmQDY/33/2v/n/3P/DQDYAFAAbf8O/7X/oQBkALz/xv8fANT/V//k/60AiwCw/wT/mv+VAG8Au/+X/xoAKwCA/5n/WAB7ABAAcv92/0cAPgCP//v/qAAPACD/IP8cAEcBxQDY/rP+YADlAPf/Uf/z//MAIABJ/gb/cQGeAc7/KP6j/kMBkAE//wP/XgCTAM3/+/5r/zMBXgEX/2b+BwCsAGEA//+C/yAAdgAy/yb/pwD5ACAAb/8s/4v/ZwC2AFMA7/9A/xb/OgDuAFsAo/+e/+r/xv+//z0AmgBgAGr/3/7l/+0AjAC5/3r/vf8uAEYAo//B/9AAMwD7/p7/cwBpAAEAcP/g/88A/v+x/sX/WAGrAGT/+f6H/9sAoQBc/wIAlwBr/xX/AADkACEBt/83/nb/dAGwACz/sP93ABcAZf89/3kAmgEkADj+CP/wACIBFAB5/4b/0v8jAAsAHACYAAkAB/+R/4EASwA0AEQAg/9z/x8AHQBOAHcArP9x////8P///5kAcQCQ/wz/nv/bAA4B4f/6/nL/ZwCgAAwAkf8eAF4Aa/9X/08A8gC8AEn/ZP7G/18BMgHh/7P+9/6GAPoAFADr/yEAoP9G/57/kQCEAYAAaf6i/m0AKgGkAKz/WP///xcATf/l/10B3gAq/2/+bf9fAXYBhv/6/uf/9//u/1sAUgBOAPL//P5w/9QApwAAABUAZ/9C/4QAfgDj/0cABwBj/73//P8rAPMAUADd/kf/ZQCmAFkAvf+o/0UA9f8u/+r/BwHlAKD/ef5e/yEBBQGz/27/JQAdAGD/h/+/AEkBAACA/vj+vABCAQgAWv8AABsAh/+u/0gA2gDCADb/iP7x/9wAowBLAMv/T/9h/9X/eAAoAZAAE//I/pT/wwA6ASAAZP+X/27/vf/DANUADQCG/yz/mP+sAH8A9f94AOb/rv5u/74ALwG3AO3+Uf5MAFMBLwCG/83/GwBIAIL/I//aAEsBY//t/tD/QgCkADsAev/m/xIAg/8OAMUAGgB7/6f/+v9BACwA7//3//f/xP+y/ywAqAALACj/sP+kAEAAov/T/yIATQDI/xH/KQBeAScAyf4t/0MAGAGUACr/NP82AD0AFAAnAM3/8/80AIr/if9tAHEABgDr/3n/dv9MAH0AQAAlAGn/If8PAK8AgADz/1j/i/83ABIA4/9WAEYA3/92/yL/PQBQASAAGf+c//L/LgBAALf/GgCwAGn/s/5JACcBXwBt/+T+5f8yATQA5/6f/7MAjACj/xX/uf/EAI8Akf9l/+P/VAA2AIz/rP9yAFsAo/9N/9r/lwBRALD/oP/U/yQAJACo/+X/kAABADb/of9AAIQAWwBj/x7/QgCOANP/2P8MANb/5P/K/7//bgBpAI//ef/M/xsAcwAKAJT/5P/w/6//CwBIAB0ADwBv/zT/aQC7AOX/rP+Q/7P/UQAtAL7/AAAkALf/n//w/xoAUwAaAIf/n//E/xUApQASAGH/hf/P/2oAkgCf/0r/JAA/AJv/5v9IAAoA3v9r/5f/tABmAFH/nf8tABwA3v+o//n/iAAFAAT/lP+zAGoAxv9y/4b/TQBYAKz/zv8mAOb/rf/l/xgADgDr/9D/4P/h/9r/BwAiAAYArP96/xUAgwD5/5//rv+6/z0AZwC2/4z/6f/4/ycAFACC/87/ZwAAAI7/o/8MAJIAHgAd/2j/gAB+AM7/fP+o/1MALwBj/9b/gAAhAIn/WP/0/6kAQQBl/3H/BwA9ACMAy/+a/xIAIwCr/97/DAD1/y4A1/9f/+H/ZgAxAMj/mf+g/xgAbgDL/6T/KgDk/5r/3f8gAG0AGgAn/0L/aACoAP3/p/+Y/8D/AADl/zwAmQCx/wH/n/9gAIQAEQCj/7P/4f+y/6T/dgDtAM7/rf44/6AAEAEYAAj/Sf92AGkAUv+0/8AARwBU/yb/w//sAMcAMf8a/zIAJgDz/zAA3//H/+v/if/w/7wAAAA4/9b/IgD3/zMA7P+s/xUAxf+G/2YAcwCV/5//9f/U/xIANwDi/woA3v82//L/1AAzAIT/bf+0/18AbwDA/6v/BgDa/8X/DgAoACYA2/+A/9D/MwAeAAwA8/+w/6X/8v9YAFYAyf9f/6r/WAB3APH/lf+j//v/OAARAOn/5v/m/93/4P8DABAAGAAIAKT/m/8iAFgAFgDH/5n/3f84AA0A4v8SAAkAt/+g//H/dQByAJ3/PP/v/3AAOgDd/6L/8f9XAMf/Yv9EAK0A9f9u/2v//v/TAGkAPv9t/zoANgAdAOX/qP88ADoAbP+2/20AWgD7/4T/d/9GAJsA7f+i/9L/3f8fAD4A/P/8/9H/iv8OAIMALADE/5n/xf81AEcA+f/0/wIAuP+5/yEAVQBCAM3/hP/p/yIAEwA2ADEA1v+D/5//QQC/AD8AYP9u/yIAXgAPAN3/EwBFANH/Rf/N/8YAuADN/yb/eP9kAK4ADQC7//7/5v+j/+v/aACBAAsAcf92/yQAiQAsANv/AAD0/6z/0v9DAHgARQCi/1D/AACTAEMA4v/J/+T/HgADANr/MgBKANT/xf///w8AOQANAMD/FwA0AMf/7P83AA8ADQD0/8D/KABYANH/yv8oABwAFgD7/7//GQBTAO3/2P8OABgAGwABANT/AQBAAAwA4v8FAAcACAAXAPP/BgAwAPP/3v8aAC8ACwDY/+j/OABGAPP/vf/t/zwAVQD4/7P/GABCAOf/5f8kADwAKADQ/5r/GgCdADcAqf/D/xIAOAAyAP//9v8fAAUA0v/4/0sAUQAAAMr/yv8AAGgAZQDg/63/9f8wADYAFAD9/x8AFgC7/8z/ZQCPAAsAkP+b/z4ApAAhALP/9P8rAAgA4P8EAHIAbwCp/1r/HQCrAGMA5/+i/9j/RAAxAAwARwAnALv/sf8HAHgAjwADAHz/pv81AIsAZwDr/6n/4f8dADMAPwA7ABsAwv+P/w0ArwCPAN3/bP+z/2EAkgAhAOn/BADm/8T/DACBAJkA+P9J/6n/fgCcACcAz//k/w4A6f/u/2cAlwASAHT/g/9DAMgAXgC6/7L/8/8eAD8AMwArACoAyf+g/y4AgAA8AAYA2//F/xEARgA2AD0ADACi/9L/YQBqAB4A3f/E/xYASwASABMAMAD5/9X/+/87AHEAIgCN/87/cABbAAAA4P/v/zYALgDN/wkAhwAjAI//zP9SAHoAMgC4/7v/OQBSAP3/+/89AB0Azf/m/zEAVQA2ANb/vP8sAFgAAADy/yIAHQALAO7/6v8+AGAA/f+7//L/OwBOABYAyP/r/1cAQgDQ/8//LgBdACEAxv/R/0AAXgDu/7//IwBiABoAuP/N/0kAdQASALD/2f89ADsAAAAAACAAHQDr/8v/FgBxAEIA0/+3/+//OQBaACQA5f/o/+n/+/9DAEsADgDq/9H/3f85AGEAHgD+/9b/qv8UAIEAUQD3/6n/qP8zAIMAGwDc/w0AAADD/+j/TgCPAD0AZv9J/0gA4ABTAJv/k/8JAEIABwD8/1sATACg/2D/AgDBAJYAtP9f/+T/UQA4ABEAHwAVAND/nf/w/40AhgDV/37/x/8sAFcANQD9/+H/2P/d/wwATgBFAPX/vP/M/wkANAA8ACMA3f+v/93/NABUACIA2P/A/+3/IgAkABgAFADp/8P/6v8pAEEAHgDT/73/9f8oAC4AEQDv/+X/5f/l/xwAWAAYALb/tv/v/zwAWwAAALH/2f8BAAQAJgAxAPj/z//U/+b/GgBFACMA5P+5/7n/CgBcAEIA4v+j/8//JQAeAPT/FwApANr/nf/N/zoAgAAcAHb/ov84AC4A7P8BACEAAAC4/53/FQCTACQAhv+x/xIAKAAFAOD/DgAqAMX/n/8NAE4AGwDV/8D/7v8bAPv/3P8eACEAuf/E/yAAGwDu/+P/7f8XABEAsP/A/0kAPADH/73/7P8OAB4A6f/M/xUAFQDI/9f/BwAKAA4A8P/J//b/AgDT/wMAOgDw/67/y////zoALQCw/6P/JAAmAMj/1/8RAB8AAQCk/53/OwBqANr/nP/d/wsACgDl/+P/MQAXAIX/kv84AHMABwCJ/5j/HQBCAN3/xP8XAB4AxP+Z/+j/VQBHAMP/fP/O/yoAKAAJAOH/tf/S/wYABwAFAP3/1P/X//L/3P/u/zgAEgCk/6n/9/8tADAA1f+g//L/DwDY//D/JgAGALv/nf/i/1EAPgC0/5P/7f8cAAYA3f/k/xcA9P+a/8H/NwBHAOb/lP+z/xYALwDo/9L/AADq/77/4v8WACEA7f+m/8b/HQAcANr/zP/0//3/5P/f//b/DADq/73/5/8cAP3/yf/a/wUA9//V/+H/DQAWAMT/mf8LAFIA7v+X/8//JgAVAMT/uf8UADwAwv9+/wQAXwAAAJH/p/8uAE8Awv+I//7/SQD6/5j/xf81ADAArf+S/x0ASwDg/6P/0P8cAB0Ayv/B/xgAFwC3/7D/CQA6AAwAsP+h/wEALgD5/9n/5f/x/+b/zv/v/yYACwDN/77/2/8EABUA///p/9z/yf/Z/w8AIgD3/8n/yv/u/wQA9P/u/wcA+//H/73/9f8wABgAy/+8//H/AADg/+7/KAAVALD/jP/z/1wAMwC8/5v/6v8hAO3/1P8hACgAwf+L/9D/SgBYAN//kf/L/wgA/P8FACUA/f+3/5//5P9VADwAuv+x//z/9f/Z//3/LQAoAMH/bP/g/3gAOwC3/6r/6P8VAPn/2f8XACwAx/+S/+n/SgA8AM7/lf/p/zUAAADP//j/FgDv/7n/0f8zAEQA1f+X/97/LAAoAO7/zv/m//b/7f/8/xoADwDR/7H/6/81ACsA4//B/97///8CAAEAEwABAMj/vv/0/zQANgDf/6v/3v8OABUADwD2/9r/4P/w//n/FgAXAN//0v/z//n/CQAXAPP/2f/k//T/EAAaAOv/z//0/wkAAQD+/+//8f8AAOv/7v8XAA0A4v/Y/+//FAAeAPT/2P/p//T/BAAdAAgA4f/b/+T/BQAsABEA4f/Z/97//P8lABsA+f/d/9D/6v8YAC0AFADe/77/5P8dACIADAD3/9z/2f/y/w0ALAAhANz/tv/i/yUAMwAFAN//3//y//7/AAAWACIA8v++/9n/JAA0AAIA3f/k////AAD4/xQAJADr/77/7v8yACkA5//O/wIAJwD2/9L/BwA2AAoAxP/K/yUASgD2/7v/8f8nABAA5f/w/x8AFQDX/9P/GAA8AAYAyf/d/xsAJAD1/+z/DQAJAO7/6P8CAC0AHQDU/9D/DwAlAAwA9//0/wAA///v/wIAJwATAOb/2//0/x8AJAD6/+//AAD1//H/DAAgABoA+f/K/9v/KwA9AAgA4f/a//f/GgAYAAwACAD1/9r/7f8hADMAEQDi/9X/9P8bAC4AFgDs/93/6v8SAC8AEQDx//P/8v/5/xMAHgAWAAAA1v/X/x4ARgAZAOD/yv/z/zYAKQDx//L/BgD9//H/AgAlACwA9/+9/+b/OgA+AAIA0//k/xcAHAAAAAEAFAALAOn/3/8LADwAJwDl/83/9/8pACgAAwD1//n//f8AAAUAFQAjAAcA2//g/xAAMwAoAPn/1P/q/xkAIgAXAAgA8P/s//z/DwApACAA7v/c//7/GAAcABIA/P/8////7/8JADUAGwDp/9//+f8iACsAAwDy/wUA+//x/xgAKgAVAPf/1f/0/zQAJwD9//v/+//2/wQAFAAjAB8A7//S//r/KQAvABIA7//o//f/BwAkAC8ADgDk/9P/+f87AD4AAADe/+v/AAAYACYAGwAHAO3/2P/7/zsAQQAIAND/z/8OAEEALgD8/+T/8v8CAAsAJgA0AAQAy//W/x0AUwAsANj/zf8JACcAFQAQABAAAgDs/+D/FABUACkAz//I/wcAOQAzAAAA5/8DAAIA8v8cAD8AFQDZ/8z/BwBNADYA6f/c////DgASABsAHQAOAOT/0f8SAE8ALgDt/9L/7v8fAC8AGQAGAPn/5f/x/yYAPwAYAOT/2P/+/ykALwARAPj/8//u////MgA6AAAA1v/i/xUAPAAhAPD/9f8DAPr/DQAuACIA/P/W/+T/MABMAAgA1//s/w4AIAAaAAoADAAAAOD//P82ADQAAgDZ/+L/HQA1ABMA/f/7//f/AAAUACAAIAADAN3/7v8eAC0AHgD+/+L/8/8WACQAIAAHAOj/8f8QABkAHgAXAPX/5v/8/xsAMAAYAOv/6f8IABcAFAASABEAAgDq/+r/HgBFABgA2f/Z/w0ANQAfAPb/+f8MAAMA+P8PACwAHADq/9r/CQA0AB8A9//w/wUAEwAFAAIAGgAXAPb/7f8FACIAHgD5/+//CgAWAAkAAwAIAAwABAD9/wsAGQAFAPf/BgATABIAAADx/w0AIgAAAPP/DgAWAAgA+P/2/xkAKwD8/9z/BQAmABcA+//y/w0AGAD5//n/GQAdAAAA5P/5/yoAIwDx/+z/EAAYAAAA9f8JACcADgDW/+3/LgAvAP//3P/v/yYAJQDx//L/GgASAPH/8v8OAC0AFwDW/+D/JwAtAAAA7P/6/xQAEgDv//r/LAAcAOD/2/8OADYAIgDk/9f/DAAlAAoA+/8EAA0A///q/wEAKgAdAPD/4v/6/xgAIAAKAPj/9v/3////FwAiAAUA5v/r/wgAGQAWAAcA9//z//f/AQAeACQA/P/e/+z/DAAgABkAAADx/+7/9P8OACcAGQDz/93/6P8TAC4AEwD0/+r/7f8FABoAEQAKAP//5P/r/xAAHwAZAAEA2//i/xEAIAAUAAIA6f/o/wEADwAXABUA8//d//b/FAAdAA4A7v/p/wIABAADABQADADy/+n/8f8SACsABgDb/+f/CAAXABAA+v/x//7//v/7/woAEgADAO//5//+/x4AGAD0/+P/8/8JABQACQD3//f/+f/2/wMAFQANAPT/5P/y/xEAGwADAOr/7/8BAAQAAwAKAAMA8//s//b/EAAbAP7/4//x/wQACAAKAAMA+P/z/+7//f8cABUA7P/e//X/DwAXAAEA6v/3/wAA9P/+/xYADQDw/93/7P8YACQA/f/f/+r/AQAIAAUABwACAO7/4v/1/xkAIQD7/9b/5v8NABEAAAD+////8v/k//T/HgAkAPL/y//m/xoAHwD7/+n/+P8AAPD/8/8WABsA8//R/+T/GwAoAPb/2v/2/woA/P/0/wQAEgD+/9r/4f8VACUA/P/d/+r/AwAMAP//+f8CAPr/6P/1/wwADwD+/+n/6v8BAAwAAQD7//X/8v/6/wEAAwABAPr/8v/0//3/BgAGAP3/8f/t//3/DAAFAPb/8//4//3//////wIAAQDx/+r/AAAQAAQA8v/s//v/CQD///P//v8FAPv/8f/1/wMADAD9/+n/9v8JAAMA+P/1//z/BQD///H/9/8FAAIA+v/5//v//f/8//n/AAAGAPr/8f/5/wAAAwAEAPv/9v/4//f/AAANAAQA8f/u//r/CAAHAPr/+v8AAPf/7////xIADgDy/97/9v8XAA8A9P/w////BAD6//T/BAAUAAAA4//q/woAGQAFAOz/7f8CAAkA/v/8/wQAAgD0//P/AAANAAsA9//s//z/CgAGAP///P/6/wAAAAD6/wMACwD+//T/+f8BAAsABwD3//X/AgADAAAABAAAAPz////+/wAABwADAP7//v/9////BgAGAAAA/P/8/wIACAAAAPz/AwAFAAEA/v/8/wQACgAAAPz/AQACAAAAAQAEAAcAAwD4//r/CgANAAIA/v/9/wEABQADAAQACQADAPr//P8FAA4ADwABAPT/+f8IABIADAD+//j/AQAGAAUACAAKAAUA/P/3/wIAFgAVAP//8v/+/wwADQAHAAYABwAAAPf/AQAWABgAAQDy//z/DAARAAwAAwADAAIA/f8EABMAEgAFAPv//P8GABIAEQAIAAIA/P/+/w8AFwAOAAAA+/8DAA4ADwALAAoABgD+////DwAZABAA/v/3/wYAFgATAAcAAwAFAAUABgAPABUADgAAAPr/CQAaABUABAD9/wYAEAAOAAkACwAPAAgAAAAHABYAFgAIAP3/AwATABYACgAFAAoACwAIAAsADwASAA0AAAACABQAFwAMAAgABQAJABIADgAKABMADwACAAYAEAAUABUACwD//wgAFgASAA8ADQAHAAsADgAMABMAFwAKAAIACwASABUAEwAIAAcADwANAA8AFwASAAUABQAQABgAFgAKAAQADgAWAA8ADgAUAA8ACAAIABEAHQAXAAIAAQAUAB0AEQAJAAwAEQARAAkADgAeABgAAgABABMAHwAaAAkAAgAQABgAEAAPABUAEgAMAAkACwAbAB8ADAAEAAsAEwAaABcADQAMABEADgAPABcAGAATAAsABAAQACAAGgAMAAkACwATABgAEwATABUACwAGABIAHgAcAA8AAwAIABgAHAAVABAADQAMAA0AFQAcABgADAAFAAsAGAAeABYADAAJAAsAEwAbABsAEQAJAAgAEQAdABoAEQANAAoADQAXABoAGAARAAUACAAaAB0AEwAQAAwACwATABUAFgAaABAAAwALABoAHAAWAAwABwASABkAEQASABgAEQAJAAsAFAAeABkACAAGABQAGQASAA8AEgAVAA8ACQAQABwAGgAKAAUAEwAbABQADAANABQAFgAMAAoAFwAaAA0ACQAQABYAFgAPAAoAEwAYAA4ADAARABMAEwAQAAwAEQAUAA0ADwAUABAAEAAPAAsAEQAXABAADgAOAAoAEQAXABEADAANAAwAEAAVABEADgAPAAsACwATABcAEgAKAAcADQAVABQADwALAAoADAAPABIAFQAPAAYABgAPABcAFgALAAUACgAPABIAEwAPAAsACAAGAA8AGgAUAAcAAwAHABEAGAAQAAcACAAJAAsAEgAUAA0ACAAEAAUAEgAYABAABwABAAQAEgAYAA8ABAABAAgAEQARAA0ACwAIAAMABQAQABcAEAAAAPz/CgAYABQABgABAAcACwAJAAsAEQAOAAEA+/8GABkAGAACAPj/AwARABIACgAEAAUABgADAAgAEgAQAAIA+v8AABAAFAAIAAAAAAAEAAgADQANAAkAAAD6/wUAFAARAAMA+//+/wgADgAKAAYABAD///7/CAARAA0AAAD4////CgAOAAkAAgD+//3/AAAKABEACAD6//b/AQAOAA4AAgD9//7///8CAAoADAAEAPj/9P8DABEACgD9//r//f8BAAUABgAGAAMA9//0/wUAEQAIAPr/9P/8/wgACAAAAP//AAD7//v/AQAHAAYA/f/z//r/BgAIAAEA+//3//z/AQABAAAAAAD7//j//P8AAAMAAgD5//T//P8CAAEA/v/7//r/+//8//7/AAAAAPj/9P/7/wIAAQD5//X/+v/+//3/+//8//3/+f/1//j/AAABAPf/8v/5/////f/5//n/+v/5//b/+P///wAA9f/w//f/AAD+//f/9P/3//r/+P/2//v//f/2//D/9P/9////9//w//P/+f/6//f/+P/5//T/8P/z//z////1/+z/8P/6//z/9v/z//T/9f/y//L/+f/9//b/6//r//b//v/6//D/7f/w//X/9//4//f/8f/s/+7/9v/8//n/7v/q/+//9f/4//f/8//u/+v/7f/3//3/9v/q/+f/7v/4//r/8//t/+z/6//w//j/+f/y/+r/5v/u//r/+f/v/+v/6v/t//P/9f/0//L/6P/k/+//+//4/+3/5P/n//L/9v/x/+//7f/p/+n/7//1//b/7P/j/+f/8//2//H/6//o/+r/7f/u//L/8v/q/+T/6P/y//b/7//m/+T/7P/y/+//7P/s/+r/6P/p//D/8v/t/+X/4//s//T/8P/o/+X/5//s/+7/7f/t/+j/5P/n/+7/8f/u/+f/4v/o/+//7v/s/+r/5f/l/+r/7//w/+n/4//i/+r/8f/t/+j/5v/l/+f/6v/v/+//5//g/+P/7P/y/+z/5P/j/+f/6f/q/+v/7P/n/+H/4v/s//H/7P/j/9//5f/u/+z/5//o/+b/5P/m/+n/7P/s/+T/3//l/+3/7f/n/+T/4//m/+j/6f/q/+j/4//h/+b/6//t/+f/4P/i/+j/6v/p/+f/5f/k/+T/5v/q/+z/5v/g/+H/6P/s/+r/5P/i/+T/5//n/+n/6f/l/+H/4v/o/+3/6P/i/+H/5f/o/+n/5//m/+T/4v/j/+n/7P/n/+H/4f/l/+r/6v/m/+P/5P/k/+T/6f/r/+b/4f/g/+b/7P/p/+T/4v/k/+b/5v/o/+n/5v/h/+D/5//u/+r/4v/g/+P/6f/q/+f/5v/l/+L/4v/o/+z/6v/j/97/4//r/+v/5//k/+P/4//l/+n/7P/p/+L/3v/k/+3/7P/m/+P/4v/l/+j/6f/r/+j/4f/g/+b/7P/t/+f/4P/i/+f/6f/q/+r/5f/h/+P/6P/s/+z/5v/h/+P/6P/q/+r/6P/l/+T/5f/o/+z/6//m/+P/5f/p/+z/6f/m/+b/5v/n/+n/6//p/+b/5f/o/+v/6v/o/+f/5//p/+n/6P/q/+r/6P/m/+n/6//r/+j/5//o/+v/6//p/+j/6f/q/+r/6v/r/+n/6P/p/+v/7P/q/+n/6v/r/+r/6//s/+v/6f/o/+r/7f/t/+r/6P/q/+z/7P/s/+z/6//q/+r/7P/w/+3/6f/q/+3/7f/u/+3/6//s/+z/6//u//D/7f/r/+r/7f/w/+//7f/s/+z/7v/v/+//7//u/+z/7P/v//L/8P/s/+3/7//w//D/8P/u/+7/7//v//D/8v/w/+7/7f/v//L/8v/w/+//7//x//L/8//x/+//7//y//L/8v/y//D/8P/y//L/8v/0//L/8f/x//L/9f/1//H/8f/y//P/9f/1//P/8v/z//P/9P/2//b/8v/y//T/9v/2//b/9P/z//T/9f/2//j/9v/0//T/9f/4//j/9v/1//X/9P/3//r/+f/2//T/9f/4//r/+P/3//f/9//3//f/+v/8//f/9f/3//r//P/6//f/+P/5//j/+v/7//v/+v/4//f/+//9//z/+v/5//r/+//7//z//f/7//r/+f/7/////v/8//r/+v/+//7//P/9//3/+//8//3///8AAP7//P/8//7/AAD///7////9//z///8AAAAA///9//3/AAAAAAAAAAD///////8AAAIAAgD///7/AAABAAIAAQABAAAA//8AAAEAAwAEAAAA/f8AAAQAAwABAAAAAQABAAEAAwAFAAMAAAAAAAEABgAGAAIAAAACAAMABAAFAAUAAwABAAEABAAHAAcAAwABAAIABgAHAAYABQADAAMABAAFAAgACAADAAIABAAHAAkABwAEAAQABQAGAAgACQAHAAUAAwAFAAoACgAHAAUABAAHAAgACgAJAAcABgAGAAYACwAMAAgABQAGAAgACwALAAkACAAHAAgACgAKAAsACgAFAAcACwALAAsACgAIAAgACQALAA0ACwAJAAkABwALAA4ACwAKAAkACQAKAAwADQAMAAkACgAKAAsADQANAAoACQAKAAwADAAMAAwADAAKAAsADQANAA0ADQAKAAoADQANAA0ADAAMAAwACwANAA4ADQAMAAwACwAMAA4ADwANAAwADAAMAA0ADgAOAA4ADAAMAA0ADQAPAA8ADAALAA0ADgANAA4ADgANAAwADQAPAA8ADgAOAAwADAAQAA8ADQAOAA0ADQANAA4AEAAPAA0ADAAMAA8AEAAOAAwADQAOAA4ADQAPAA8ADQALAA4AEAAOAA4ADQANAA4ADgAPAA8ADQANAA0ADQAQABAADQAMAA0ADwAOAA4ADwANAA0ADgAOAA4ADwAOAAwADAAPAA8ADQAMAA0ADQANAA4ADwANAA0ADAAMAA4ADwAOAAwACwAOAA0ADQAPAA0ACwAMAA0ADQAOAA4ACwAKAA0ADgANAA0ADAAMAAsADAAOAA0ACwAMAAsACwANAA4ACwAKAAwACwAMAA4ADAAKAAoACwAMAAwADAAMAAkACgALAAwADQALAAkACQAKAAwACwAKAAsACgAIAAoADAALAAkACQAIAAkADAAKAAkACQAIAAkACAALAAwABwAHAAgACAALAAoACAAIAAcACAAJAAgACgAJAAUABgAJAAkACAAIAAYABQAIAAgACAAIAAYABQAGAAcACQAHAAUABQAGAAcABgAHAAgABAAEAAYABgAHAAYABAAEAAUABwAGAAUABQAEAAQAAwAFAAcABAADAAIAAwAGAAUAAwADAAMABAACAAMABgADAAEAAgADAAQAAwADAAEAAQADAAMAAgADAAIAAQAAAAIABAACAAAAAQAAAAEAAgACAAEAAAAAAAEAAAACAAEAAAAAAAAAAAABAAAAAAAAAAAA//8AAAAA//8AAAAA/f8AAAAA//////7///////7/AAD+//z////+//7///////7//P/+/////f/9/////f/7//3////8//3//f/7//3//f/9//3/+//9//z/+v/+//3/+v/8//v/+//8//z//P/6//r//P/7//r/+//8//r/+f/7//v/+//7//n/+f/5//r/+//5//r/+//4//n/+f/7//r/9//5//r/9//7//r/9//5//n/+P/4//n/+v/3//b/+f/5//j/+P/5//f/9f/5//j/9v/5//j/9f/2//n/+f/2//f/+P/2//f/+P/4//f/9f/3//b/9v/5//f/9f/2//b/9//2//f/9//0//X/9v/2//j/9v/0//X/9f/3//f/9P/2//X/9P/2//f/9v/1//T/9P/1//f/9f/1//T/9P/3//T/9P/4//P/8//1//T/9//1//P/9f/z//X/9//z//X/9f/y//X/9f/1//X/8//z//X/9f/1//b/8//y//X/9P/0//f/8//z//T/8//3//X/8//1//L/8//2//T/9f/0//L/9f/0//X/9f/z//T/8//1//X/9f/0//P/8//0//X/9v/0//T/8//z//b/9f/0//b/8f/0//f/9P/2//T/8//1//P/9v/2//T/9P/0//X/9f/1//b/8//0//b/9f/2//X/9f/0//T/9//2//X/9v/0//P/9//3//b/9f/1//X/9f/3//f/9v/1//T/9v/2//b/+P/0//X/+P/1//f/+P/1//b/9f/3//n/9v/2//b/9f/4//n/9//3//f/9f/3//n/+P/4//f/9v/4//j/+P/6//b/9v/5//j/+f/5//j/+P/2//j/+//5//j/+P/3//r/+f/5//r/+P/3//n/+v/6//v/+f/4//r/+v/6//v/+v/5//r/+f/8//v/+f/7//n/+v/8//v/+//6//n//P/8//z//P/6//v/+//7//3//f/7//r//P/9//z//f/9//v/+//8//7//v/8//3//P/8/////f/9/////P/8//7////+//z//v/+//7//////////f/+/wAA/v///wAA/f///wAA//8AAAAA////////AAAAAP//AAAAAP7/AAABAAAA//8AAAAAAAAAAAAAAQAAAAAAAgAAAAAAAgAAAAAAAgABAAIAAQABAAIAAAACAAMAAQABAAEAAgACAAIAAwACAAEAAgADAAMAAgACAAMAAgADAAQAAwADAAIAAwADAAMABQACAAMABQADAAQABQAEAAQAAgAEAAYABAAEAAQABQAEAAQABgAFAAQABQAEAAYABgAFAAUABQAFAAYABQAHAAYABAAGAAYABgAGAAYABwAFAAUABwAIAAYABQAIAAcABAAIAAkABgAHAAYABwAIAAcACAAHAAYACQAHAAYACQAIAAYABgAJAAkABgAHAAoABwAGAAkACgAGAAgACQAHAAgACQAIAAgACAAIAAkACAAJAAkABwAJAAkACAAJAAkACQAIAAgACwAJAAgACgAKAAkACAAJAAoACQAIAAkACgAJAAgACgAKAAgACQAKAAkACQAKAAkACAAKAAoACAALAAoACAAKAAoACgAJAAgADAAJAAcADAAKAAgACgALAAoACAAKAAwACAAJAAwACQAIAAsACwAIAAoADAAIAAgACwALAAgACAAMAAoABwALAAsACAAJAAoACgAJAAkACwAIAAgADAAIAAgADAAJAAgACgAKAAkACAAKAAsABgAJAAwACAAHAAoACgAHAAkACwAIAAgACQAJAAkACAAKAAgABgAKAAkABwAJAAoABwAGAAoACwAGAAgACgAGAAcACAAJAAgABgAJAAgABgAJAAkABgAHAAkABwAHAAkACAAGAAcACQAIAAUACAAJAAQABgAKAAYABgAHAAcABwAFAAgACQAEAAYACAAFAAYACAAGAAUABgAHAAQABQAJAAUAAQAHAAkAAwAEAAgABgACAAUACQAEAAEABwAGAAEABgAIAAIAAgAGAAUAAwAEAAcABAAAAAYABwAAAAUACAAAAAEABwAEAAEAAgAHAAMAAAAFAAYAAAAAAAYAAwAAAAQABAAAAAIABQACAAAABAAFAP7/AQAHAAAAAAAEAAMA//8AAAYAAgD8/wQABQD+/wAABAACAP3/AQAGAP7///8FAAAA/f8CAAQA/v/+/wUAAAD6/wMABQD9//z/BAABAPr/AQAEAPz//v8BAAAA/f///wMA/f/7/wQAAAD7/wAAAAD9//z/AQAAAPr///8BAPv//f8BAP//+//9/wAA/v/8///////8//z////+//z////9//v//v/+//z//P/+//7/+f/9/wAA+v/7//3//P/8//v//v/9//j//P/+//v//P/9//z/+f/7//3/+//7//z/+//6//r//v/6//j//v/7//j//P/7//v/+f/5//7/+v/4//z/+v/5//n//P/8//j/+v/6//j/+//6//n/+//5//f/+v/6//r/+f/4//r/+v/4//n/+//4//b/+v/6//n/+P/3//r/+P/3//v/+P/3//j/9v/7//r/9v/6//j/9f/5//n/+f/4//X/+P/5//f/9//5//j/9v/3//n/+P/3//f/+P/4//f/+P/4//b/9//3//j/+P/4//f/9f/3//j/9v/4//f/9v/3//X/+P/5//X/+P/3//X/9//3//j/9v/1//j/9//3//b/9//4//T/+P/5//X/9//2//X/+P/3//j/9v/1//j/9P/2//n/9//2//T/+P/3//T/+f/3//T/+P/2//b/9//1//f/9f/1//n/9f/1//n/9f/0//n/+f/z//X/+P/1//X/9//5//b/8f/4//n/8v/5//j/8v/3//f/9f/3//b/+P/1//P/+//3//L/+f/5//P/9v/6//b/8//3//j/9f/1//n/9//z//b/+P/1//f/+P/1//b/9v/3//f/9P/6//b/8f/6//n/8//3//j/9//1//b/+v/1//T/+f/3//b/9//4//b/9f/5//f/9v/5//b/9v/2//j/+v/z//j//P/x//b//P/2//X/9v/5//j/8//6//n/9P/3//n/+P/1//j/+f/1//j/+P/2//n/9//3//f/9v/7//b/9f/8//X/9f/7//j/9//3//j/+f/2//j/+f/4//f/9//6//b/9//7//X/+P/6//b/+v/2//j/+v/1//n/+//1//n/+P/3//n/+P/5//n/9//4//n/+f/3//r/+f/2//v/+P/2//v/+P/3//n/+f/6//b/9//9//f/9v/8//n/9//3//v/+v/2//r/+v/3//n/+P/5//n/+P/6//f/+v/6//b/+//5//j/+v/4//v/+P/2//3/9//4//z/9//6//j/9//8//j/+f/6//f/+v/5//j/+v/5//n/+P/6//r/9//7//j/+P/8//b/+v/7//b/+//5//n//P/2//n//f/2//n/+//6//j/+P/7//j/+f/7//j/+v/5//n/+v/4//v/+f/3//3/+P/2//v/+v/5//f/+//8//X/+f/8//j/+P/5//z/+P/2//3/+P/4//v/+P/5//n/+f/5//j/+//5//f/+//6//j/+P/6//v/9v/5//3/9v/4//v/+P/6//f/+v/7//X/+v/7//f/+v/5//j/+f/4//r/+P/4//v/+P/4//n/+f/5//f/+//6//b/+//5//f/+v/5//r/9//4//v/9f/4//z/9//3//n/+v/3//X//P/5//X/+v/6//f/9v/5//v/9f/4//z/9v/3//n/+f/4//b/+//3//X/+//4//b/+f/5//j/9P/6//v/8v/5//z/9f/3//f/+v/2//T//P/4//T/+f/4//f/9f/5//v/8//4//r/8//4//j/9//2//b/+v/0//T/+//2//X/+P/5//b/8v/6//n/8f/6//j/9P/3//b/+P/1//b/+//0//X/+v/1//T/+P/4//T/9P/5//b/8//3//n/9v/y//f/+v/x//b/+//0//X/9v/2//f/8v/4//n/8v/3//j/8//1//f/9v/0//b/+P/z//X/9v/3//X/9P/6//X/8f/5//b/8//2//b/9//y//T/+v/y//T/+f/z//X/9v/1//b/9P/3//X/9P/3//T/9P/2//T/9v/0//X/9v/y//f/9f/0//j/9P/1//X/8//3//P/9f/4//H/9v/3//H/9//1//T/9v/z//b/9P/0//b/9P/2//T/9P/1//L/9//0//P/+v/x//T/+P/x//b/9f/0//j/8f/1//f/8f/2//f/9P/0//X/9v/y//b/9//z//b/8//1//b/8f/4//b/8v/3//T/9v/0//H/+//0//H/+f/1//L/9f/3//b/8v/3//b/8v/1//b/9//z//X/+//w//P//P/y//P/+f/2//T/8//5//X/8f/5//b/9P/1//X/+P/z//X/+v/z//X/+P/0//X/9v/3//X/9f/5//P/9f/5//T/9//3//X/+P/0//b/+P/1//b/9//3//X/9v/4//X/9v/4//b/9//1//f/+f/z//j/+//z//b/+//2//P/+v/7//T/9P/8//j/8f/5//7/8//0//3/+P/y//n//f/1//P//f/7//D/+v////L/9v/+//f/9P/6//v/9//1//z//P/x//r/AADz//b/AAD4//P//f/8//T/+f/+//j/9v/7//z/9//2////+v/0//3//f/2//j//v/8//P//f8AAPP/+v8AAPj/+P/7//7/+f/2/wAA/P/1//3//v/5//f///////T//f8AAPf/+v/+//z/+f/6/wAA+v/4/////P/7//v//v////b//v8AAPf//f/+//z//P/6/wAA/P/5/wAA/P/7//7//P////v//f////v//v/9//z////8/////f/9////+/////7//P8AAPv/AAAAAPf/AwD///f/AwD+//z/AAD9/wEA/P/8/wIA/f/8/wAAAQD8//z/BQD8//r/BQD9//3/AAD+/wEA+/8AAAQA+f8AAAIA/P8AAP7/AQAAAPr/BAAAAPz/AQAAAAAA/v8AAAIA+/8BAAAA/v8CAP3/AgAAAPv/BgD///z/BgD9/wAAAgD+/wIA//8AAAMA/v8AAAIAAAD//wEAAwD8/wIABQD7/wMAAwD9/wMA//8CAAIA+f8IAAMA9/8IAAUA+f8BAAYAAAD8/wIACAD9//z/CAADAPn/AwAJAPv///8HAP//AAABAAEABgD8/wEACQD5/wEACQD7/wMABgD9/wMAAgD//wQAAAAAAAQAAAAAAAQAAAABAAUA//8CAAQA/f8FAAQA+/8HAAMA/f8GAAAAAQAFAP3/BQAFAPr/BgAEAPz/BAAEAP//AgAEAAAAAAAFAAAAAQADAAAAAwD//wIABwD5/wQACgD3/wQACAD7/wMAAwACAAMA/P8GAAUA+v8EAAgA/f/9/wkAAwD5/wUACAD8/wAABAAEAP7//f8LAP//+v8KAAAA//8EAP//BgD///3/CwD8//3/CgD+////BQAAAAAAAQAAAAMAAQD//wQAAgD7/wYAAwD5/wgAAQD7/wgA/f8AAAYA+f8GAAMA+P8JAAAA+f8IAAAA+/8GAAEA+/8EAAIA/f8CAAAAAQACAPj/BwAEAPP/CAAGAPb/AwACAAAA///7/wkAAAD2/wgAAwD3/wEABQD9//7/AgAAAP//AAAAAAMA/P///wYA+P8AAAcA9v8DAAQA+P8EAAAA/P8EAPz///8DAPz///8BAP7/AAAAAP//AAAAAPz/AAACAPr/AAADAPv/AAD///3/AwD7////BAD5/wAAAQD4/wQA///4/wUA///4/wEAAAD9//7///8BAPz/+f8EAAAA9f8CAAYA8//9/wgA+P/7/wIAAAD9//b/BAAEAO7/AgALAPH/+v8IAPz/9v///wUA+//1/wQAAgDz//7/BgD5//r/AQD9//3/+v/+/wUA9f/6/wsA8v/3/wwA9P/4/wcA+P/7/wAA+v8AAPz/+P8FAP3/8f8GAAAA7/8CAAQA9P/9/wAA/f/6//j/BgD8//H/BwD+//D/AwAAAPb//f8AAP7/9v/8/wQA9//2/wcA/v/u/wIABwDu//v/CgD2//X/AAABAPr/8f8IAAMA5/8EAAgA6////wQA9//8//v//v/9//b///8AAPf/+f8CAPn/9v8DAPr/+f8BAPj//f/9//f/AQD6//r/AAD1/////v/z/wUA+//z/wYA+P/0/wQA+f/5/wEA+f/6//7/+v/7//3//P/9//v/9/8AAP3/8f8EAAEA7/8AAAEA9f/5////AAD1//j/CAD0//P/CgD4//P/BAD9//b/+v8AAP//8v///wgA8P/z/w0A+f/s/wgAAwDu//z/AgD6//j/+v8EAPv/8P8EAAAA7/8BAAEA9f////7/9//8////+//6/wAA/P/4//z//v////b///8FAPH/+/8EAPb//P/+//7////z/wAAAQD1//z/AQD+//b/+v8EAPj/9/8DAP//+v/2/wMAAADt/wYABADv/wEA///6//z/9/8JAPn/8P8NAPn/7/8GAAAA+P/5/wIAAQDv////CQD1//j/BQAAAPP//P8HAPn/+f8AAAAA/v/w/wUACADn/wQADADr////AgD7////9v8GAAIA6/8FAAgA7v/9/wsA+v/z/wQAAgD0//r/CAABAOz/BAAQAOP//P8dAOj/8/8WAPr/7//+/xAA/P/j/xQAEQDX/wAAIQDs/+f/GQAMAN7/+/8dAPX/4v8UABUA3v/2/yUA8P/h/x0ACADi/wIAEgD4/+r/DAAUAOT/+f8eAPL/6f8SAAwA6v/6/xgA+f/p/w4ACgDw//v/DwAAAO3/BgALAPP///8JAP//+v/+/wYA/v/5/wgAAAD5/wAAAgD///r/BgAFAPT/AwAIAPb//v8JAAEA+P8CAAoA9//5/wwAAgD4/wAACwD//+//CwAOAOv/AgAVAPT/9v8MAAYA9v/9/xEA///v/woADQDz//v/FgAAAOv/EAAKAO7/BAAMAAAA+f8AABEA9//0/xkA/v/x/xAAAwD4/wEABwAFAPn/BAALAPf//v8OAAAA+f8LAAcA9f8DAAsA+/8AAAcABQD9//z/DwAAAPT/EgAIAPH/BQANAPz/9/8OAA8A7v8BABgA9v/0/xQACwDx/wAAFwD7//H/EAAPAPX/+f8aAAQA5P8VABQA6f8HABMA/v/5/wQAFQD3//f/HgD+/+//EgAKAPX/AgAVAAAA9P8RAAcA9/8GAAwABAD4/wkADwDw/wYAFAD3/wQACwABAAAAAAAQAAAA+v8XAAAA9f8RAAcA+v8GAA4AAAD7/wsACAD9/wMACgALAPn/AAAXAPj/+/8ZAAAA/P8KAAUABAAAAAcADAAAAAIACAAEAAAABAAKAAMABAAFAAMABwAAAAUADgD//wQACgD//wUABQAFAAkAAAAHAAkA/f8GAAsAAQAEAAoABQAAAAUACAAFAAMABwAKAAAAAQANAAIAAQANAAQAAQAHAAQABQAEAAcACwAAAAUADAD+/wUADQACAAUABwAGAAQAAAAMAAoA/P8LAA8A+P8DABUA/v///xQAAwD+/wgABgALAP7/BAAaAPn/+f8dAAAA9v8UAA0A/v8AAA0ADAD4/wYAFgAAAPv/DgAMAPr/AwAVAAIA/v8MAAcAAAACAAwACQD+/woACQD+/wkABgAFAAoAAQAKAAYA/v8NAAUAAgANAAMABQAFAAMACQAEAAcACQADAAUAAwAIAAYAAgANAAQAAAAKAAMABQAHAAYACwAAAAQADAAAAAQADQAEAAQABwAGAAMAAwAKAAgAAgAGAAsAAQD//xEABgD7/xEACAD6/woACQADAAQABQAQAP//+/8VAAQA9/8SAA0A+f8FAAwAAwABAAUADQAGAPr/CwAMAPj/CgAOAP7/CQACAAIADAD9/wgADQD9/woAAwD+/xEAAAD+/xUAAQD5/w4ABgD+/wcABgAJAAMA+/8OAAkA9P8PABAA9v8IAAoA/v8GAAMACAAJAPz/CQAIAPr/CgAJAP//CAAFAAEAAwACAAkAAwAAAAsABQD6/wUADAD//wAADQAFAPv/AwAKAAQA/f8HAA0A+//+/wwAAgD//wUACAAEAPv/BAAKAP3/AQAKAAMAAAAAAAUAAwAAAAYABQACAAEAAAAGAAIA//8IAAEAAQADAPz/CAAEAPn/CwAEAPv/BAD//wYABAD5/wsABwD0/wMADAD8//3/CQAEAP7//f8CAAsA+P/6/xgA+f/w/xQA///2/woAAgABAPz/AAALAPT///8SAPX/+/8PAPr/9/8HAAYA+//7/wkABADv/wEAEwDz//X/FQD9/+//BwAFAPz/+f8EAAoA7//7/xEA9P/5/wwA+//6/wEA///+//3/AwAAAPn/AQAAAPX///8KAPb/9/8NAPn/8v8HAAAA+//6/wAABwDu//n/EQDz//X/CQD9//f/+P8CAAIA8f8AAAcA8//2/wIAAAD2//z/BgD4//T/AgD9//f//f8AAP3/9P/+/wAA8//8/wMA9//3//7//f/0//n/BAD4//T/AAD8//T/9/8DAPz/7v8BAAAA7f/7/wAA+f/1//n/AwDy/+//BgD3//D/AgD6//P/+v/5//j/+P/6//v/9v/1//3/9//w/wEA/P/r//7//f/u//f/+//9//P/7/8FAPX/5f8EAP7/6//3//3/+f/s//T/BgDx/+n/BAD6/+b/+f8AAPD/8f/9//j/7//x//3/+P/p//3//v/l//j//v/r//f/+f/0//T/7v/7//T/6f8AAPj/5v/8//n/6P/0//z/8//u//X/+f/t/+3//f/1/+j/+f/6/+f/8f/8/+//7//4//P/7v/w//b/8v/t//n/9f/p//T/9v/t/+//9//1/+r/8f/4/+v/7f/3//T/7v/s//b/8//m//X/+f/r/+7/8//x/+3/7v/1//P/7f/u//P/8P/o//P/9v/r/+//8P/w/+7/6f/3//L/5//1/+//6v/x/+3/8v/w/+v/8v/s/+z/8f/r//H/8v/p/+7/8P/s/+z/8P/y/+z/6//w/+//6f/t//X/7f/p//L/7f/q/+7/7v/y/+v/6v/0/+j/6P/2/+v/6//y/+v/6//r/+7/8f/o/+7/9P/l/+n/9f/q/+j/8v/w/+j/6f/w//D/5v/t//f/6P/k//T/7v/k/+3/9P/r/+X/7v/y/+X/6P/3/+3/4//x/+//5v/r//H/7v/o/+3/7//m/+3/8f/o/+7/8P/o/+r/7f/u/+n/6//z/+v/5f/v//H/5v/q//b/6//k//D/8P/n/+n/8v/w/+T/7f/z/+X/6//z/+v/6v/s/+//6f/o//P/7f/n//D/7v/n/+r/8v/u/+b/8f/x/+T/7P/x/+v/6v/v//L/6f/o//H/7P/q/+7/8P/t/+f/7//w/+j/7//x/+v/7P/s/+//6v/s//X/6v/r//T/6f/q//L/7v/s/+7/8f/t/+j/8P/y/+v/7f/y//D/6P/t//X/7P/q//X/8P/o/+7/9P/t/+r/9P/z/+j/7v/0/+z/7P/0//L/7P/t//T/7//q//X/9P/q//D/9f/t/+v/9v/0/+r/8v/1/+3/7f/0//X/7v/u//j/8P/q//b/9f/t//H/9v/y/+z/8v/4/+7/7//5//L/6//1//b/7v/y//j/9P/t//T/+f/u//D//P/y/+7/9//2//D/8f/5//j/7f/0//z/7//v//z/9//v//b/+//y//D/+v/5/+//9v/9//D/8v/9//X/8f/8//n/8f/1//z/9//v//3////r//f/AgDx//H////9//H/9P8BAPj/7P8AAAEA7f/3/wMA9f/x///////z//b/AQD6/+7/AAACAO//+v8EAPX/9f//////9v/2/wQA/P/v/wEAAgDx//z/BQD5//b/AAAAAPj/+v8CAP7/9v8AAAEA9v/+/wIA+//8/wAA///8//z/BAD9//j/BQAAAPb/AgAEAPv/+/8FAAIA9v8AAAoA+v/4/woAAwD1/wEACgD9//n/BwAIAPj//f8OAAAA9f8JAAoA+P///woAAwD5/wIADgD8//r/DwACAPn/CAAHAAAAAAAGAAkA+/8CAA8A/v///w0AAgAAAAYACAAEAAAACAAJAP7/BQANAAAAAgAMAAQAAQAKAAYAAwAHAAcACAADAAYADQAAAAQAEgABAAIAEAAGAAIACAANAAkA/f8OABMA+v8HABcAAgD//xAAEQAAAAIAFgALAPz/DQAWAAAAAAAXAA0A/v8NABQABgABABEAEwD//wkAGAAEAAQAEgANAAcACAARAA0AAwAQABAABQANAA8ACQALAA0ADQAMAAwADgAMAAwADgAMAAsAEAAOAAcAEQARAAUADgAUAAoACgARABMACAAJABkADQADABUAFAAHAAoAFQAVAAMADgAeAAYABQAbABIABQAOABkAEAACABQAGwAFAAkAHQASAAMAEwAaAAoACgAWABYACgAJABwAEQAEABgAFQAKABEAEQAVAA4ACwAaABEACgAWABEAEAASAA4AFQATAAwAEgAUABAADgATABYADwANABYAFgAJABAAHQANAAoAGgAVAAwADgAZABcABQAUACAABgAMAB4AEgAKABEAHAASAAUAGgAeAAUADgAhABEABQAYABwACwAMABoAGQAIAA0AIgAQAAUAHAAZAAsADgAZABgACQARAB8ADwALABcAFwAQAA0AGAAZAAsADwAaABQADAATABoAEQAMABUAGAAQAA0AFwAaAAsADQAcABUABwAUAB8ADQAIABwAGQAHABAAHwATAAUAFQAgAAkACAAhABcAAwAUAB8ADQAIABoAHAAIAAsAIQASAAQAGQAbAAoADgAYABYACwAOABwAEQAJABcAFQAOAA8AEwAWABAADQAWABQADAAPABYAFAAMAA8AGQARAAcAFAAbAAkACwAcABMABgARABsADwAFABcAHAAEAAkAIAARAAMAFAAcAAsABAAZABsAAQAKACMADQAAABgAGgAHAAgAGQAYAAIACgAgAAwAAAAYABoABAAJABkAEgADAA8AGgALAAYAEwAVAAgACAAXABIABAAPABUACwAJAA8AEwANAAcAEAASAAgACQASABIABgAJABUADQADAA4AFgAIAAMAFQATAAAACgAYAAoAAgAPABYABQABABcAEQD+/wwAFwAGAAEAEQATAAIABQAVAAwA//8MABUABQACABEADwABAAUAEwALAAAADAATAAMAAgAPAA4AAQAFABMACQD//wsAEAADAAEADgAPAAAAAgARAAgA/f8KABEAAgAAAA0ACwABAAMADQAKAAAABAAOAAUA//8IAA0AAwAAAAoACwAAAAAADQAJAP3/BAAOAAIA/P8IAA4AAAD8/w8ACAD3/wUADwAAAPz/CAAMAPr//f8QAAMA+f8HAAsA///6/woACgD2/wIADgD9//v/BwAHAPz//v8KAAMA+f8CAAgA///7/wYABgD6////BwAAAPz/AAAGAP//+v8FAAIA+/8AAAMAAQD8//7/BAD///v/AQAEAP3/+/8CAAEA+//9/wMAAQD4//7/BQD7//n/AgABAPz/+f8CAAIA8//+/wcA+v/4/wAAAQD6//b/AwACAPP//f8EAPr/9v///wMA+P/3/wIA///1//r/AwD8//T/AAAAAPX/+f////7/9//4/wIA+//y/wAAAAD1//n/AAD7//X/+v8AAPn/9f/+//7/9P/3/wAA+f/1//3//f/3//b//P/9//X/+P////n/9P/7//z/9v/3//z/+v/3//b/+//7//P/+P/+//X/9f/7//j/9//2//n//P/0//X//f/3//P/+v/7//b/9f/5//v/9P/0//3/+P/y//n/+v/0//T/+f/7//T/9P/8//f/8P/5//v/9P/0//r/+f/z//T//P/4//D/+P/8//H/9P/7//b/9P/1//n/+P/w//f//P/x//X/+//0//T/9v/3//j/8//2//r/8//0//n/9v/0//f/9//2//T/9f/4//b/9P/4//f/9P/1//f/9v/1//X/9//3//P/9f/5//T/8//6//b/8//2//f/9v/z//b/+v/z//P/+v/1//L/+P/4//X/8//4//j/8v/2//n/9f/0//f/+P/0//T/+f/2//T/9//3//b/9P/3//n/8//2//n/9P/3//b/9f/5//T/9v/5//T/9v/3//X/+P/1//X/+v/0//T/+v/3//X/9//4//f/9f/2//r/9v/0//r/+P/0//f/+f/2//X/+P/5//b/9f/5//n/9P/4//v/9f/2//r/9//3//f/+P/5//T/+f/7//P/+f/7//X/+f/5//f/+f/3//r/+v/1//r/+v/2//n/+v/4//j/+v/5//f/+f/6//n/+P/6//r/+P/4//z/+P/4//z/+f/4//v/+v/5//r/+v/7//n/+f/8//n/+P/9//r/+P/8//v/+v/6//r//f/6//r//v/5//n//f/7//v/+//7//z/+v/7//3/+//7//3//P/6//z//f/6//3//f/6//3//P/8//3/+/////3/+f8AAP3/+f8AAP3/+//+//3//v/8//z/AAD9//r/AAD///n///8AAPv//P8AAP//+//9/wEA/v/6/wAAAAD7//7/AQD+//z/AAAAAPz//v8AAP7//f8AAAAA/v///wAA/v/+/wAAAAD+/wAAAAD+/wAAAAAAAP//AQAAAP7/AAABAAAA//8BAAIA/f8AAAQA/v/+/wQAAQD+/wAAAwAAAP3/AwAEAP3/AAAEAAAA/v8BAAUAAAD+/wYAAgD8/wIABQAAAAAAAwADAP//AAAGAAEA/v8EAAQA//8BAAQAAgAAAAMABAABAAAABAADAAAAAwAEAAAAAwADAAEAAwADAAEABAADAAIAAgACAAUAAgABAAYAAwAAAAUABQABAAIABgAFAAAAAwAIAAEAAAAIAAUAAAAEAAcAAgABAAYABwABAAEACQADAAAABwAHAAEAAwAFAAYAAQADAAkAAwABAAcABQACAAQABgAFAAMABAAGAAQABAAFAAYABAAEAAUABAAFAAQABAAHAAQABAAGAAQABQAEAAYACAACAAQACQACAAMACAAGAAMABAAIAAUAAQAHAAkAAgADAAkABgABAAYACQADAAMACQAIAAAABAALAAMAAgAKAAcAAgAEAAkABgABAAgACQABAAQACQAFAAMABgAIAAQAAwAIAAYAAwAHAAcABAAFAAYABQAFAAYABgAGAAYABQAFAAUABgAGAAQABwAHAAMABQAIAAQABAAHAAcABAAEAAgABgACAAcACQADAAQACAAFAAMABQAJAAQAAgAIAAcAAgAFAAgABQADAAYABwADAAMACAAFAAIABgAHAAIABAAHAAUAAwAGAAYABAACAAcABgACAAUABwADAAMABgAFAAQABAAGAAQAAwAFAAUABAAEAAUABQAEAAQABAAEAAQABAAEAAQAAwADAAMABQAEAAIABQAEAAEABAAFAAMAAwAEAAUAAgACAAUAAwABAAUABAACAAIABAADAAIAAwAFAAIAAQAEAAMAAAADAAUAAgABAAQAAwABAAIABAACAAEAAwADAAAAAQAEAAIAAAADAAIAAAABAAMAAgAAAAIAAwAAAAAAAwABAAAAAQACAAEAAAABAAEAAQABAAEAAQAAAAAAAQABAAAAAAABAAAAAAAAAAEAAAAAAAAAAQAAAP//AQAAAAAAAAABAAAA/v8AAAEA//8AAAAAAAD/////AQD///7/AAAAAP////8AAAAA/v///wAA///+///////+//7/AAD///7////+//7//v/+/wAA/v/9/////v/9//7//v/+//3//f////3/+/////7/+//9/////f/7//3////7//v////+//r//P////z/+f/+//7/+v/6//7//f/5//z////6//n//f/9//n/+v/+//z/+P/7//7/+v/5//3//P/4//r//f/6//n/+v/8//r/+P/7//z/+P/5//v/+v/5//n/+//6//j/+f/7//n/9//6//r/+P/4//r/+v/3//j/+//4//b/+v/6//f/9//6//n/9v/4//v/9//1//r/+f/1//f/+v/4//X/+P/6//b/9P/5//n/9P/2//r/9v/0//f/+v/1//T/+f/4//P/9v/4//b/9P/2//n/9f/z//n/9//z//b/+P/1//P/9v/3//X/9P/2//f/9P/0//f/9v/z//T/9//1//L/9f/3//T/8//2//b/8//z//f/9f/x//X/9//z//L/9v/2//L/8//3//T/8P/0//f/8f/x//f/9P/x//P/9f/0//D/9P/3//D/8f/3//P/8f/z//X/8//w//T/9f/w//L/9f/z//H/8v/0//L/8P/z//X/8v/w//T/8//w//L/9P/y//H/8v/0//L/8P/z//T/8f/x//P/8//w//H/9f/x/+//8//z//D/8P/z//P/8P/x//T/8f/v//P/9P/v//D/8//y/+//8P/0//H/7v/z//P/7//w//P/8v/v//D/9f/w/+7/8//z/+//8P/0//L/7v/x//T/8P/v//P/8//v//D/8//x/+//8f/z//H/7v/y//P/7//w//P/8f/w//D/8//y/+7/8v/z//D/8P/y//L/8P/w//P/8v/v//H/8//w/+//8v/z/+//8P/z//L/7//x//T/8P/v//P/8v/v//H/8//y//D/8f/z//D/8P/z//L/8P/x//P/8v/w//L/8//x//H/8//y//D/8f/z//L/8f/y//P/8f/w//L/8//x//H/8//z//D/8f/0//L/8P/z//T/8f/x//T/8//w//L/9P/y//D/8//0//H/8f/0//P/8P/y//T/8v/x//P/9P/x//H/9P/z//H/8v/1//P/8f/z//T/8v/y//T/9P/y//P/9P/z//L/9P/0//P/8v/0//T/8v/z//X/8//z//T/9P/z//P/9P/0//P/8//1//T/8//0//T/9P/z//T/9f/z//P/9f/0//T/9P/1//X/8//1//b/9P/0//b/9f/z//X/9v/0//T/9v/2//T/9P/2//b/8//2//f/9P/1//b/9v/0//X/9//1//T/9v/2//X/9f/2//b/9f/2//f/9v/2//b/9v/2//b/9v/2//b/9v/3//f/9v/2//b/9v/3//b/9//3//b/9//3//f/9//3//j/9//2//j/9//2//f/+P/3//f/9//4//f/9//4//j/9v/4//n/9//3//n/+P/3//j/+P/4//f/+f/5//f/+P/5//f/+P/5//j/+P/4//n/+P/3//n/+f/4//n/+f/4//n/+f/4//n/+f/5//n/+P/6//n/+P/6//n/+P/6//n/+P/5//n/+v/4//n/+//5//j/+//6//j/+f/7//n/+f/6//v/+f/5//v/+v/4//r/+//5//n/+//7//n/+f/8//r/+f/7//v/+f/6//v/+//6//v/+//6//r/+//6//r/+//7//r/+//7//v/+//7//z/+//6//z/+v/6//z/+//7//z/+//7//v//P/8//r//P/8//r/+//9//v/+v/8//3/+//7//3//P/6//z//f/7//v//f/8//v//P/9//z/+v/9//3/+v/8//7/+//8//z//f/8//v//f/9//v//f/9//z//P/9//3//f/8//3//f/8//z//f/9//z//f/9//3//f/8//7//f/8//7//f/8//3//f/+//3//f/+//3//P/+//3//f/9//7//f/8//3//v/9//3//v/+//z//f////3//f/+//7//v/8//7//v/8//7////9//3//v////3//f////7//f/+//7//v/9//7////9//3////+//7//v////7//f/+/////v/+///////9//7////+//7///////7//v///////v/////////+//7/AAD+//7///////7//////////v///wAA///+////AAD+////AAD///////8AAP///v8AAAAA/v///wAA///+/wAAAAD///7/AAAAAP7///8AAP///v8AAAAA/////wAAAAD/////AAD/////AAAAAAAA//8AAAAA//8AAAAAAAAAAAAAAAAAAP//AAAAAAAAAAAAAAAA//8AAAAAAAAAAAAAAAAAAP//AAAAAP//AAAAAP//AAAAAAAAAAAAAAAAAAD//wAAAAAAAAAAAAAAAP//AAAAAAAAAAAAAAAAAAAAAAAAAAAAAAAAAAAAAAAAAAAAAAAAAAAAAAAAAAAAAAAAAAAAAAAAAAAAAAAAAAAAAAAAAAAAAAAAAAAAAAAAAAAAAAAAAAAAAAAAAAAAAAAAAAAAAAAAAAAAAAAAAAAAAAAAAAAAAAAAAAAAAAAAAAAAAAAAAAAAAAAAAAAAAAAAAAAAAAAAAAAAAAAAAAAAAAAAAAAAAAAAAAAAAAAAAAAAAAAAAAAAAAAAAAAAAAAAAAAAAAAAAAAAAAAAAAAAAAAAAAAAAAAAAAAAAAAAAAAAAAAAAAAAAAAAAAAAAAAAAAAAAAAAAAAAAAAAAAAAAAAAAAAAAAAAAAAAAAAAAAAAAAAAAAAAAAAAAAAAAAAAAAAAAAAAAAAAAAAAAAAAAAAA//8AAAAA//8AAAAAAAD//wAAAAAAAAAAAAAAAP//AAAAAAAA//8AAAAA//8AAAAAAAD//wAAAAAAAP//AAAAAP//AAAAAAAA//8AAAAA/////wAAAAD/////AAAAAP//AAAAAP///////wAAAAD//wAAAAD/////AAD///////8AAP///v///wAA/v///wAA///+//////////7///////7///8AAP7//v///////v/+///////+//7/AAD+//7///////7//v///////v/+/////v/+/////v/+//7//v/+//7//v////7//f////7//f/+//7//v/+//3//v/+//3//v/+//3//v/+//7//v/9//7//v/9//7//v/9//3//v/+//3//f/+//3//f/+//7//f/9//7//f/9//3//v/9//3//f/+//3//f/+//3//f/9//3//f/9//3//f/9//3//f/9//3//f/9//3//f/9//3//f/9//3//f/9//3//f/9//z//f/9//z//f/9//z//f/8//3//f/8//3//f/8//3//f/8//3//f/8//3//P/9//3//P/9//3//P/9//z//P/8//z//f/8//z//f/9//z//P/9//z//P/8//z//P/8//z//f/8//z//f/8//z//f/8//3//P/8//3//P/8//3//P/8//3//P/9//z//P/9//z//P/9//z//P/9//z//P/8//z//f/8//z//f/8//z//f/9//z//f/9//3//P/8//3//P/8//3//f/8//z//f/9//z//f/9//z//P/9//3//P/9//3//f/8//3//f/9//z//f/9//z//f/+//3//f/9//7//f/8//7//v/8//3//v/9//3//f/+//3//f/+//7//f/+//7//v/9//3//v/9//3//v/+//3//v/+//7//v/+/////v/9/////v/+//7////+//7//v////7//v///////v/+///////+//////////7///////7///8AAP///////wAA/////wAAAAD/////AAD/////AAAAAAAA//8AAAAA/////wAAAAD//wAAAAAAAAAAAAAAAAAAAAAAAAAAAAAAAAAAAAAAAAAAAQAAAAAAAQAAAAAAAAABAAAAAAABAAEAAAAAAAEAAQAAAAEAAQABAAAAAQABAAEAAQACAAEAAAABAAIAAQABAAIAAgABAAEAAgACAAEAAgADAAIAAQACAAMAAgACAAMAAwACAAIAAwACAAIAAwADAAIAAgAEAAMAAgADAAQAAwADAAQABAADAAMABAAEAAMABAAEAAQAAwAEAAUABAAEAAUABAADAAQABQAEAAQABQAFAAQABAAFAAUABAAFAAYABQAEAAUABgAFAAUABgAGAAUABQAGAAYABQAGAAYABgAFAAYABgAFAAYABwAGAAYABgAHAAYABgAHAAcABgAGAAcABwAGAAcACAAHAAcACAAIAAcABwAIAAcABwAIAAgABwAHAAgACAAHAAgACAAIAAcACAAJAAgACAAJAAkACAAIAAkACQAIAAkACQAIAAgACQAJAAgACQAJAAkACAAJAAoACQAJAAoACgAJAAkACgAKAAkACQAKAAkACQAKAAoACQAKAAoACgAJAAoACwAKAAoACgAKAAoACgALAAoACgAKAAsACgAKAAsACwAKAAoACwALAAoACwALAAsACgALAAsACwALAAsACwALAAsADAALAAsACwALAAsACwAMAAsACwALAAwACwALAAwADAALAAsADAAMAAsACwAMAAsACwAMAAwACwALAAwADAALAAwADAAMAAsADAAMAAsADAAMAAwADAAMAAwADAALAAwADAALAAwADAAMAAsADAAMAAwACwAMAAwADAAMAAwADAALAAwADAAMAAwADAAMAAsADAAMAAwACwAMAAwADAALAAwADAAMAAwADAAMAAsADAAMAAsACwAMAAwACwALAAwADAALAAwADAALAAsADAAMAAsACwAMAAsACwALAAwACwALAAsACwALAAsACwALAAsACwALAAsACwALAAsACwALAAsACwAKAAsACwALAAoACwALAAoACgALAAoACgAKAAoACgAKAAoACgAKAAoACgAKAAkACgAKAAoACQAKAAoACQAJAAoACQAJAAkACQAJAAkACQAJAAkACQAJAAkACAAJAAkACAAIAAkACQAIAAgACAAIAAgACAAIAAgACAAIAAgACAAHAAgACAAHAAcACAAHAAcABwAHAAcABwAHAAcABgAHAAcABwAGAAcABwAGAAYABwAGAAYABgAGAAYABQAGAAYABQAFAAYABgAFAAUABgAFAAUABQAFAAUABQAFAAUABAAEAAUABAAEAAQABAAEAAQABAAEAAMABAAEAAQAAwADAAQAAwADAAMAAwADAAMAAwADAAIAAgADAAIAAgACAAIAAgACAAIAAgABAAIAAgACAAEAAQACAAEAAQABAAEAAQABAAEAAQAAAAEAAQAAAAAAAQAAAAAAAAAAAAAAAAAAAAAAAAAAAAAAAAAAAAAAAAAAAAAAAAAAAP////8AAP////////////////////////7///////7//v////7//v/+//7//v/+//7//v/9//3//v/9//3//f/9//3//f/9//3//P/9//3//f/8//z//f/8//z//P/8//z//P/8//z/+//8//z/+//7//z/+//7//v/+//7//v/+//7//v/+v/7//v/+v/6//r/+v/6//r/+v/6//r/+v/6//r/+v/6//r/+f/5//r/+f/5//n/+f/5//n/+f/5//n/+f/5//n/+P/5//n/+P/4//n/+P/4//j/+P/4//j/+P/4//j/+P/4//j/+P/4//j/+P/3//j/+P/3//f/9//3//f/9//3//f/9//3//f/9//3//f/9//3//f/9//3//b/9//3//b/9v/3//b/9v/2//b/9v/2//b/9v/2//b/9v/2//b/9v/2//b/9v/2//b/9v/2//b/9v/2//b/9v/2//X/9v/2//X/9f/1//b/9f/1//X/9f/1//X/9f/1//X/9f/1//X/9f/1//X/9f/1//X/9f/1//X/9f/1//X/9f/1//X/9f/1//X/9f/1//X/9f/1//X/9f/1//X/9f/1//X/9f/1//X/9f/1//X/9f/1//X/9f/1//X/9f/1//X/9f/1//X/9f/1//X/9f/1//X/9f/1//X/9f/1//X/9f/1//X/9f/1//X/9f/1//X/9f/1//X/9f/1//X/9f/1//X/9f/1//X/9f/1//X/9f/1//b/9f/1//b/9v/2//b/9v/2//b/9v/2//b/9v/2//b/9v/2//b/9v/2//b/9v/2//b/9v/2//b/9v/2//b/9v/2//b/9v/2//b/9v/2//b/9v/2//f/9//2//f/9//3//f/9//3//f/9//3//f/9//3//f/9//3//f/9//3//f/9//3//f/9//3//f/9//3//f/9//4//j/+P/4//j/+P/4//j/+P/4//j/+P/4//j/+P/4//j/+P/4//j/+P/4//j/+P/4//j/+P/5//j/+P/5//n/+f/5//n/+f/5//n/+f/5//n/+f/5//n/+f/5//n/+f/5//n/+f/5//n/+f/5//r/+v/6//r/+v/6//r/+v/6//r/+v/6//r/+v/6//r/+v/6//r/+v/6//r/+v/6//r/+v/6//r/+v/6//v/+//7//v/+//7//v/+//7//v/+//7//v/+//7//v/+//7//v/+//7//v/+//7//v/+//8//v/+//8//z/+//8//z//P/8//z//P/8//z//P/8//z//P/8//z//P/8//z//P/8//z//P/8//z//P/8//z//P/8//z//P/9//3//P/9//3//f/9//3//f/9//3//f/9//3//f/9//3//f/9//3//f/9//3//f/9//3//f/9//3//f/9//3//f/9//3//f/9//3//f/9//3//f/9//3//f/9//3//f/+//7//f/+//7//f/+//7//v/+//7//v/+//7//v/+//7//v/+//7//v/+//7//v/+//7//v/+//7//v/+//7//v/+//7//v/+//7//v/+//7//v/+//7//v/+//7//v/+//7//v/+//7//v/+//7//v/+//7//v/+//7//v/+//7//v/+//7//v/+//7//v/+//7//v/+//7//v/+//7//v/+//7//v/+//7//v/+//7//v/+//7//v/+//7//v/+//7//v/+//7//v/+//7//v/+//7//v/+//7//v/+//7//v/+//7//v/+//7//v/+//7//v/+//7//v/+//7//v/+//7//v/+//7//v/+//7//v/+//7//v/+//7//v/+//7//v/+//7//v/+//7//v/+//7//v/+//7//v/+//7//v/+//7//v/+//7//v/+//7//v/+//7//v/9//7//v/9//3//f/9//3//f/9//3//f/9//3//f/9//3//f/9//3//f/9//3//f/9//3//f/9//3//f/9//3//f/9//3//f/9//3//f/9//3//f/9//3//f/9//3//f/9//3//f/9//3//f/9//z//f/9//3//P/9//z//P/8//z//P/8//z//P/8//z//P/8//z//P/8//z//P/8//z//P/8//z//P/8//z//P/8//z//P/8//z//P/8//z//P/8//z//P/8//z//P/8//v//P/8//v/+//7//v/+//7//v/+//7//v/+//7//v/+//7//v/+//7//v/+//7//v/+//7//v/+//7//v/+//7//v/+//7//v/+//7//v/+//7//v/+//6//v/+//6//r/+v/6//r/+v/6//r/+v/6//r/+v/6//r/+v/6//r/+v/6//r/+v/6//r/+v/6//r/+v/6//r/+v/6//r/+v/6//r/+v/6//r/+v/6//r/+f/5//r/+f/5//n/+f/5//n/+f/5//n/+f/5//n/+f/5//n/+f/5//n/+f/5//n/+f/5//n/+f/5//n/+f/5//n/+f/5//n/+f/5//n/+f/5//n/+f/5//n/+f/5//n/+P/5//n/+f/4//j/+P/4//j/+P/4//j/+P/4//j/+P/4//j/+P/4//j/+P/4//j/+P/4//j/+P/4//j/+P/4//j/+P/4//j/+P/4//j/+P/4//j/+P/4//j/+P/4//j/+P/4//j/+P/4//j/+P/4//j/+P/4//j/+P/4//j/+P/4//j/+P/4//j/+P/4//j/+P/4//j/+P/4//j/+P/4//j/+P/4//j/+P/4//j/+P/4//j/+P/4//f/+P/4//j/9//4//j/9//3//j/+P/3//f/+P/4//f/+P/4//f/+P/4//j/9//4//j/+P/3//j/+P/4//j/+P/4//j/+P/4//j/+P/4//j/+P/4//j/+P/4//j/+P/4//j/+P/4//j/+P/4//j/+P/4//j/+P/4//j/+P/4//j/+P/4//j/+P/4//j/+P/4//j/+P/4//j/+P/4//j/+P/4//j/+P/4//j/+P/4//j/+P/4//j/+P/4//j/+P/4//j/+P/4//j/+P/4//j/+P/4//j/+P/4//j/+f/4//n/+f/5//n/+f/5//n/+f/5//n/+f/5//n/+f/5//n/+f/5//n/+f/5//n/+f/5//n/+f/5//n/+f/5//n/+f/5//n/+f/5//n/+f/5//n/+v/6//r/+v/6//r/+v/6//r/+v/6//r/+v/6//r/+v/6//r/+v/6//r/+v/6//r/+v/6//r/+v/6//r/+v/6//v/+//7//v/+//7//v/+//7//v/+//7//v/+//7//v/+//7//v/+//7//v/+//7//v/+//7//v//P/8//z//P/8//z//P/8//z//P/8//z//P/8//z//P/8//z//P/8//z//P/8//z//P/9//3//f/9//3//f/9//3//f/9//3//f/9//3//f/9//3//f/9//3//f/9//3//v/+//7//v/+//7//v/+//7//v/+//7//v/+//7//v/+//7//v/+//7//v/+//7///////////////////////////////////////////////////////////8AAAAAAAAAAAAAAAAAAAAAAAAAAAAAAAAAAAAAAAAAAAAAAAAAAAAAAAAAAAAAAAAAAAAAAAAAAAAAAAAAAAAAAAAAAAAAAAAAAAAAAAAAAAAAAAAAAAAAAQABAAEAAQABAAEAAQABAAEAAQABAAEAAQABAAEAAQABAAEAAQABAAEAAQACAAIAAgACAAIAAgACAAIAAgACAAIAAgACAAIAAgACAAIAAgACAAIAAgACAAMAAwADAAMAAwADAAMAAwADAAMAAwADAAMAAwADAAMAAwADAAMAAwADAAMAAwAEAAQABAAEAAQABAAEAAQABAAEAAQABAAEAAQABAAEAAQABAAEAAQABAAEAAQABAAFAAUABQAFAAUABQAFAAUABQAFAAUABQAFAAUABQAFAAUABQAFAAUABQAFAAUABQAGAAYABgAGAAYABgAGAAYABgAGAAYABgAGAAYABgAGAAYABgAGAAYABgAGAAYABgAGAAYABwAHAAcABwAHAAcABwAHAAcABwAHAAcABwAHAAcABwAHAAcABwAHAAcABwAHAAcABwAHAAcABwAIAAgACAAIAAgACAAIAAgACAAIAAgACAAIAAgACAAIAAgACAAIAAgACAAIAAgACAAIAAgACAAIAAgACAAIAAgACAAJAAkACQAJAAkACQAJAAkACQAJAAkACQAJAAkACQAJAAkACQAJAAkACQAJAAkACQAJAAkACQAJAAkACQAJAAkACQAJAAkACQAJAAkACgAKAAoACgAKAAoACgAKAAoACgAKAAoACgAKAAoACgAKAAoACgAKAAoACgAKAAoACgAKAAoACgAKAAoACgAKAAoACgAKAAoACgAKAAoACgAKAAoACgAKAAoACgAKAAoACgAKAAoACgAKAAoACgAKAAoACgAKAAoACgAKAAoACgAKAAoACwAKAAsACwALAAsACwALAAsACwALAAsACwALAAsACwALAAsACwALAAsACwALAAsACwALAAsACwALAAsACwALAAsACwALAAsACwALAAsACwALAAsACwALAAsACwALAAsACwAKAAsACgAKAAoACgAKAAoACgAKAAoACgAKAAoACgAKAAoACgAKAAoACgAKAAoACgAKAAoACgAKAAoACgAKAAoACgAKAAoACgAKAAoACgAKAAoACgAKAAoACgAKAAoACgAKAAoACgAKAAoACgAKAAoACgAKAAoACgAKAAoACQAJAAkACQAJAAkACQAJAAkACQAJAAkACQAJAAkACQAJAAkACQAJAAkACQAJAAkACQAJAAkACQAJAAkACQAJAAgACAAIAAgACAAIAAgACAAIAAgACAAIAAgACAAIAAgACAAIAAgACAAIAAgACAAIAAcABwAHAAcABwAHAAcABwAHAAcABwAHAAcABwAHAAcABwAHAAcABwAHAAcABgAGAAYABgAGAAYABgAGAAYABgAGAAYABgAGAAYABgAGAAYABgAGAAUABQAFAAUABQAFAAUABQAFAAUABQAFAAUABQAFAAUABQAFAAQABAAEAAQABAAEAAQABAAEAAQABAAEAAQABAAEAAQABAADAAMAAwADAAMAAwADAAMAAwADAAMAAwADAAMAAwADAAMAAgACAAIAAgACAAIAAgACAAIAAgACAAIAAgACAAIAAgABAAEAAQABAAEAAQABAAEAAQABAAEAAQABAAEAAQABAAAAAAAAAAAAAAAAAAAAAAAAAAAAAAAAAAAAAAAAAAAAAAAAAAAAAAAAAAAAAAAAAAAAAAAAAAAAAAAAAAAAAAD///////////////////////////////////////////7//v/+//7//v/+//7//v/+//7//v/+//7//v/+//7//f/9//3//f/9//3//f/9//3//f/9//3//f/9//3//f/9//3//P/8//z//P/8//z//P/8//z//P/8//z//P/8//z//P/8//z/+//7//v/+//7//v/+//7//v/+//7//v/+//7//v/+//7//v/+//7//r/+v/6//r/+v/6//r/+v/6//r/+v/6//r/+v/6//r/+v/6//r/+v/6//n/+f/5//n/+f/5//n/+f/5//n/+f/5//n/+f/5//n/+f/5//n/+f/5//n/+f/5//n/+f/4//j/+P/4//j/+P/4//j/+P/4//j/+P/4//j/+P/4//j/+P/4//j/+P/4//j/+P/4//j/+P/4//j/+P/4//j/9//3//f/9//3//f/9//3//f/9//3//f/9//3//f/9//3//f/9//3//f/9//3//f/9//3//f/9//3//f/9//3//f/9//3//f/9//3//f/9//3//f/9//3//f/9//3//f/9//3//f/9//3//f/9v/2//b/9v/2//b/9v/2//b/9v/2//b/9v/2//b/9v/2//b/9v/2//b/9v/2//b/9v/2//b/9v/2//b/9v/2//b/9v/2//b/9v/2//b/9v/2//b/9v/2//b/9v/2//b/9v/2//b/9v/2//b/9v/2//b/9v/2//b/9v/2//b/9v/2//b/9v/2//b/9v/2//b/9v/2//b/9v/2//b/9v/2//b/9v/2//b/9v/2//b/9v/2//b/9v/2//b/9v/2//b/9v/2//b/9v/2//b/9v/2//b/9v/2//b/9v/2//b/9v/2//f/9//3//f/9//3//f/9//3//f/9//3//f/9//3//f/9//3//f/9//3//f/9//3//f/9//3//f/9//3//f/9//3//f/9//3//f/9//3//f/9//3//f/9//3//f/9//3//f/9//3//f/9//3//f/9//3//f/9//3//f/9//3//f/9//3//f/9//3//f/9//3//f/9//3//f/9//3//f/9//3//f/9//3//f/9//3//f/9//3//f/9//3//f/9//3//f/9//3//f/9//3//f/9//3//f/9//3//f/9//3//f/9//3//f/9//3//f/9//3//f/9//3//f/9//3//f/9//3//f/9//3//f/9//3//f/9//3//f/9//3//f/9//3//f/9//3//f/9//3//f/9//3//f/9//3//f/9//3//f/9//3//f/9//3//f/9//3//f/9//3//f/9//3//f/9//3//f/9//3//f/9//3//f/9//3//f/9//3//f/9//3//f/9//3//f/9//3//f/9//3//f/9//3//f/9//2//b/9v/2//b/9v/2//b/9v/2//b/9v/2//b/9v/2//b/9v/2//b/9v/2//b/9v/2//b/9v/2//b/9v/2//b/9v/2//b/9v/2//b/9v/2//b/9v/2//b/9v/2//b/9v/2//b/9v/1//X/9f/1//X/9f/1//X/9f/1//X/9f/1//X/9f/1//X/9f/1//X/9f/1//X/9f/1//X/9f/1//X/9f/1//X/9f/1//X/9f/1//X/9f/1//T/9P/0//T/9P/0//T/9P/0//T/9P/0//T/9P/0//T/9P/0//T/9P/0//T/9P/0//T/9P/0//T/9P/0//T/9P/0//T/9P/0//T/8//z//P/8//z//P/8//z//P/8//z//P/8//z//P/8//z//P/8//z//P/8//z//P/8//z//P/8//z//P/8//z//P/8//z//P/8//z//P/8v/y//L/8v/y//L/8v/y//L/8v/y//L/8v/y//L/8v/y//L/8v/y//L/8v/y//L/8v/y//L/8v/y//L/8v/y//L/8v/y//L/8v/y//L/8v/y//L/8v/y//L/8v/y//L/8v/y//L/8f/x//H/8f/x//H/8f/x//H/8f/x//H/8f/x//H/8f/x//H/8f/x//H/8f/x//H/8f/x//H/8f/x//H/8f/x//H/8f/x//H/8f/x//H/8f/x//H/8f/x//H/8f/x//H/8f/x//H/8f/x//H/8f/x//H/8f/x//H/8f/x//H/8f/x//H/8f/x//H/8f/x//H/8f/x//H/8f/x//H/8f/x//H/8f/x//H/8f/x//H/8f/x//H/8f/x//H/8f/x//H/8f/x//H/8f/x//H/8f/y//L/8v/y//L/8v/y//L/8v/y//L/8v/y//L/8v/y//L/8v/y//L/8v/y//L/8v/y//L/8v/y//L/8v/y//L/8v/y//L/8v/y//L/8v/y//L/8v/z//P/8//z//P/8//z//P/8//z//P/8//z//P/8//z//P/8//z//P/8//z//P/8//z//P/8//z//T/9P/0//T/9P/0//T/9P/0//T/9P/0//T/9P/0//T/9P/0//T/9P/0//T/9f/1//X/9f/1//X/9f/1//X/9f/1//X/9f/1//X/9f/1//X/9f/1//b/9v/2//b/9v/2//b/9v/2//b/9v/2//b/9v/2//b/9v/2//f/9//3//f/9//3//f/9//3//f/9//3//f/9//3//f/9//4//j/+P/4//j/+P/4//j/+P/4//j/+P/4//j/+P/4//n/+f/5//n/+f/5//n/+f/5//n/+f/5//n/+f/5//n/+v/6//r/+v/6//r/+v/6//r/+v/6//r/+v/6//r/+//7//v/+//7//v/+//7//v/+//7//v/+//7//z//P/8//z//P/8//z//P/8//z//P/8//z//P/8//3//f/9//3//f/9//3//f/9//3//f/9//3//f/9//7//v/+//7//v/+//7//v/+//7//v/+//7//v////////////////////////////////////////8AAAAAAAAAAAAAAAAAAAAAAAAAAAAAAAAAAAAAAAAAAAAAAAAAAAAAAAAAAAAAAAAAAAAAAAAAAAAAAAAAAAEAAQABAAEAAQABAAEAAQABAAEAAQABAAEAAQABAAEAAgACAAIAAgACAAIAAgACAAIAAgACAAIAAgACAAIAAgACAAIAAwADAAMAAwADAAMAAwADAAMAAwADAAMAAwADAAMAAwADAAMABAAEAAQABAAEAAQABAAEAAQABAAEAAQABAAEAAQABAAEAAQABAAEAAUABQAFAAUABQAFAAUABQAFAAUABQAFAAUABQAFAAUABQAFAAUABQAFAAUABQAFAAYABgAGAAYABgAGAAYABgAGAAYABgAGAAYABgAGAAYABgAGAAYABgAGAAYABgAGAAYABgAGAAYABwAHAAcABwAHAAcABwAHAAcABwAHAAcABwAHAAcABwAHAAcABwAHAAcABwAHAAcABwAHAAcABwAHAAcABwAHAAcABwAHAAcABwAHAAcABwAHAAcABwAHAAcABwAHAAcACAAIAAgACAAIAAgACAAIAAgACAAIAAgACAAIAAgACAAIAAgACAAIAAgACAAIAAgACAAIAAgACAAIAAgACAAIAAgACAAIAAgACAAIAAgACAAIAAgACAAIAAgACAAIAAgACAAIAAgACAAIAAgACAAIAAgACAAIAAgACAAIAAgACAAIAAgACAAIAAgACAAIAAgACAAIAAgABwAHAAcABwAHAAcABwAHAAcABwAHAAcABwAHAAcABwAHAAcABwAHAAcABwAHAAcABwAHAAcABwAHAAcABwAHAAcABwAHAAcABwAHAAcABwAHAAcABwAHAAcABwAHAAcABwAHAAYABgAGAAYABgAGAAYABgAGAAYABgAGAAYABgAGAAYABgAGAAYABgAGAAYABgAGAAYABgAGAAYABgAGAAYABgAFAAUABQAFAAUABQAFAAUABQAFAAUABQAFAAUABQAFAAUABQAFAAUABQAFAAUABQAFAAUABQAFAAQABAAEAAQABAAEAAQABAAEAAQABAAEAAQABAAEAAQABAAEAAQABAAEAAQABAAEAAMAAwADAAMAAwADAAMAAwADAAMAAwADAAMAAwADAAMAAwADAAMAAwADAAMAAwADAAIAAgACAAIAAgACAAIAAgACAAIAAgACAAIAAgACAAIAAgACAAIAAgACAAIAAgABAAEAAQABAAEAAQABAAEAAQABAAEAAQABAAEAAQABAAEAAQABAAEAAQABAAEAAAAAAAAAAAAAAAAAAAAAAAAAAAAAAAAAAAAAAAAAAAAAAAAAAAAAAAAAAAAAAAAAAAAAAAAAAAAAAAAAAAAAAAAAAAAAAAAAAAAAAAAAAAAAAAAAAAAAAAAAAAAAAAAAAAAAAAAAAAAAAP///////////////////////////////////////////////////////////////////////////////////////////v/+//7//v/+//7//v/+//7//v/+//7//v/+//7//v/+//7//v/+//7//v/+//7//v/+//7//v/+//7//v/+//7//v/+//7//v/+//7//v/+//7//v/+//7//v/+//7//v/+//7//v/+//7//v/+//7//v/+//7//v/+//7//v/+//7//v/+//7//v/+//7//v/+//7//v/+//7//v/+//7//v/+//7//v/+//7//v/+//7//v/+//7//v/+//7//v/+//7//v/+//7//v/+//7//v/+//7//v/+//7//v/+//7//v/+//7//v/+//7//v/+//7//v/+//7//v/+//7//v/+//////////////////////////////////////////////////////////////////////////////////////8AAAAAAAAAAAAAAAAAAAAAAAAAAAAAAAAAAAAAAAAAAAAAAAAAAAAAAAAAAAAAAAAAAAAAAAAAAAAAAAAAAAAAAAAAAAAAAAAAAAAAAAAAAAAAAAAAAAAAAAABAAEAAQABAAEAAQABAAEAAQABAAEAAQABAAEAAQABAAEAAQABAAIAAgACAAIAAgACAAIAAgACAAIAAgACAAIAAgACAAIAAgACAAMAAwADAAMAAwADAAMAAwADAAMAAwADAAMAAwADAAMAAwADAAQABAAEAAQABAAEAAQABAAEAAQABAAEAAQABAAEAAQABAAFAAUABQAFAAUABQAFAAUABQAFAAUABQAFAAUABQAFAAUABQAGAAYABgAGAAYABgAGAAYABgAGAAYABgAGAAYABgAGAAYABgAHAAcABwAHAAcABwAHAAcABwAHAAcABwAHAAcABwAHAAcABwAHAAcACAAIAAgACAAIAAgACAAIAAgACAAIAAgACAAIAAgACAAIAAgACAAIAAgACAAJAAkACQAJAAkACQAJAAkACQAJAAkACQAJAAkACQAJAAkACQAJAAkACQAJAAkACQAJAAkACgAKAAoACgAKAAoACgAKAAoACgAKAAoACgAKAAoACgAKAAoACgAKAAoACgAKAAoACgAKAAoACgAKAAoACgAKAAoACgAKAAoACgAKAAoACgAKAAoACgAKAAoACgALAAoACwALAAsACwALAAsACwALAAsACwALAAsACwALAAsACwALAAsACwALAAsACwALAAsACwALAAsACwALAAsACwALAAsACwALAAsACwAKAAsACgAKAAoACgAKAAoACgAKAAoACgAKAAoACgAKAAoACgAKAAoACgAKAAoACgAKAAoACgAKAAoACgAKAAoACgAKAAoACgAKAAoACgAKAAoACgAKAAoACgAKAAkACQAJAAkACQAJAAkACQAJAAkACQAJAAkACQAJAAkACQAJAAkACQAJAAkACQAJAAgACAAIAAgACAAIAAgACAAIAAgACAAIAAgACAAIAAgACAAIAAgACAAHAAcABwAHAAcABwAHAAcABwAHAAcABwAHAAcABwAHAAcABgAGAAYABgAGAAYABgAGAAYABgAGAAYABgAGAAYABQAFAAUABQAFAAUABQAFAAUABQAFAAUABQAFAAUABQAEAAQABAAEAAQABAAEAAQABAAEAAQABAAEAAQAAwADAAMAAwADAAMAAwADAAMAAwADAAMAAwACAAIAAgACAAIAAgACAAIAAgACAAIAAgACAAEAAQABAAEAAQABAAEAAQABAAEAAQABAAEAAQAAAAAAAAAAAAAAAAAAAAAAAAAAAAAAAAAAAAAAAAAAAAAAAAAAAAAAAAAAAAAAAAAAAAAA//////////////////////////////////////7//v/+//7//v/+//7//v/+//7//v/+//7//v/+//3//f/9//3//f/9//3//f/9//3//f/9//3//f/9//z//P/8//z//P/8//z//P/8//z//P/8//z//P/8//z//P/8//v/+//7//v/+//7//v/+//7//v/+//7//v/+//7//v/+//7//r/+v/6//r/+v/6//r/+v/6//r/+v/6//r/+v/6//r/+v/6//r/+v/6//r/+v/6//n/+f/5//n/+f/5//n/+f/5//n/+f/5//n/+f/5//n/+f/5//n/+f/5//n/+f/5//n/+f/5//n/+f/5//n/+f/5//n/+f/5//n/+P/4//j/+P/4//j/+P/4//j/+P/4//j/+P/4//j/+P/4//j/+P/4//j/+P/4//j/+P/4//j/+P/4//j/+P/4//j/+P/4//j/+P/4//j/+P/4//j/+P/4//j/+P/4//j/+P/4//j/+P/4//j/+P/4//j/+P/4//j/+P/4//j/+P/5//n/+f/5//n/+f/5//n/+f/5//n/+f/5//n/+f/5//n/+f/5//n/+f/5//n/+f/5//n/+f/5//n/+f/5//n/+f/5//n/+f/5//n/+f/6//r/+v/6//r/+v/6//r/+v/6//r/+v/6//r/+v/6//r/+v/6//r/+v/6//r/+v/6//r/+v/7//v/+//7//v/+//7//v/+//7//v/+//7//v/+//7//v/+//7//v/+//7//z//P/8//z//P/8//z//P/8//z//P/8//z//P/8//z//P/8//z//P/8//3//f/9//3//f/9//3//f/9//3//f/9//3//f/9//3//f/9//3//f/+//7//v/+//7//v/+//7//v/+//7//v/+//7//v/+//7//v/+//7//v////////////////////////////////////////////////////////8AAAAAAAAAAAAAAAAAAAAAAAAAAAAAAAAAAAAAAAAAAAAAAAAAAAAAAAAAAAAAAAAAAAAAAAAAAAAAAAAAAAAAAAAAAAAAAAAAAAAAAAAAAAAAAAAAAAAAAAAAAAAAAAAAAAAAAAAAAAAAAQABAAEAAQABAAEAAQABAAEAAQABAAEAAQABAAEAAQABAAEAAQABAAEAAQABAAEAAQABAAEAAQABAAEAAQABAAEAAQABAAEAAQABAAEAAQABAAEAAQABAAEAAQABAAEAAQABAAEAAQABAAEAAQABAAEAAQABAAEAAQABAAEAAQABAAEAAQABAAEAAQABAAEAAQABAAEAAQABAAEAAQABAAEAAQABAAEAAQABAAEAAQABAAEAAQABAAEAAQABAAEAAQABAAEAAQABAAEAAQABAAEAAQABAAEAAQABAAEAAQABAAEAAQABAAEAAQABAAEAAQABAAEAAQABAAEAAAAAAAAAAAAAAAAAAAAAAAAAAAAAAAAAAAAAAAAAAAAAAAAAAAAAAAAAAAAAAAAAAAAAAAAAAAAAAAAAAAAAAAAAAAAAAAAAAAAAAAAAAAAAAAAAAAAAAAAAAAAAAAAA/////////////////////////////////////////////////v/+//7//v/+//7//v/+//7//v/+//7//v/+//7//v/+//3//f/9//3//f/9//3//f/9//3//f/9//3//f/9//z//P/8//z//P/8//z//P/8//z//P/8//z//P/8//v/+//7//v/+//7//v/+//7//v/+//7//v/+//6//r/+v/6//r/+v/6//r/+v/6//r/+v/6//n/+f/5//n/+f/5//n/+f/5//n/+f/5//n/+f/4//j/+P/4//j/+P/4//j/+P/4//j/+P/4//f/9//3//f/9//3//f/9//3//f/9//3//f/9//2//b/9v/2//b/9v/2//b/9v/2//b/9v/2//b/9f/1//X/9f/1//X/9f/1//X/9f/1//X/9f/1//T/9P/0//T/9P/0//T/9P/0//T/9P/0//T/9P/z//P/8//z//P/8//z//P/8//z//P/8//z//P/8//y//L/8v/y//L/8v/y//L/8v/y//L/8v/y//L/8v/y//H/8f/x//H/8f/x//H/8f/x//H/8f/x//H/8f/x//H/8f/w//D/8P/w//D/8P/w//D/8P/w//D/8P/w//D/8P/w//D/8P/w//D/7//v/+//7//v/+//7//v/+//7//v/+//7//v/+//7//v/+//7//v/+//7//u/+7/7v/u/+7/7v/u/+7/7v/u/+7/7v/u/+7/7v/u/+7/7v/u/+7/7v/u/+7/7v/u/+7/7v/u/+7/7v/t/+3/7f/t/+3/7f/t/+3/7f/t/+3/7f/t/+3/7f/t/+3/7f/t/+3/7f/t/+3/7f/t/+3/7f/t/+3/7f/t/+3/7f/t/+3/7f/t/+3/7f/t/+3/7f/t/+3/7f/t/+3/7f/t/+3/7f/t/+3/7f/t/+3/7f/t/+z/7f/s/+3/7P/t/+z/7f/s/+3/7P/t/+z/7f/s/+3/7P/t/+z/7f/s/+3/7P/t/+3/7f/t/+3/7f/t/+3/7f/t/+3/7f/t/+3/7f/t/+3/7f/t/+3/7f/t/+3/7f/t/+3/7f/t/+3/7f/t/+3/7f/t/+3/7f/t/+3/7f/t/+3/7f/t/+3/7f/t/+3/7f/t/+3/7f/t/+3/7f/t/+3/7f/t/+3/7f/u/+3/7v/u/+7/7v/u/+7/7v/u/+7/7v/u/+7/7v/u/+7/7v/u/+7/7v/u/+7/7v/u/+7/7v/u/+7/7v/u/+7/7//v/+//7//v/+//7//v/+//7//v/+//7//v/+//7//v/+//7//v/+//7//v/+//8P/w//D/8P/w//D/8P/w//D/8P/w//D/8P/w//D/8P/w//D/8P/w//D/8P/x//H/8f/x//H/8f/x//H/8f/x//H/8f/x//H/8f/x//H/8f/x//H/8v/y//L/8v/y//L/8v/y//L/8v/y//L/8v/y//L/8v/y//L/8//z//P/8//z//P/8//z//P/8//z//P/8//z//P/8//z//P/9P/0//T/9P/0//T/9P/0//T/9P/0//T/9P/0//T/9P/0//T/9f/1//X/9f/1//X/9f/1//X/9f/1//X/9f/1//X/9f/2//b/9v/2//b/9v/2//b/9v/2//b/9v/2//b/9v/2//f/9//3//f/9//3//f/9//3//f/9//3//f/9//3//f/+P/4//j/+P/4//j/+P/4//j/+P/4//j/+P/4//j/+P/4//n/+f/5//n/+f/5//n/+f/5//n/+f/5//n/+f/5//n/+v/6//r/+v/6//r/+v/6//r/+v/6//r/+v/6//r/+v/6//v/+//7//v/+//7//v/+//7//v/+//7//v/+//7//v/+//7//z//P/8//z//P/8//z//P/8//z//P/8//z//P/8//z//P/9//3//f/9//3//f/9//3//f/9//3//f/9//3//f/9//3//f/9//7//v/+//7//v/+//7//v/+//7//v/+//7//v/+//7//v/+//7/////////////////////////////////////////////////////////AAAAAAAAAAAAAAAAAAAAAAAAAAAAAAAAAAAAAAAAAAAAAAAAAAAAAAAAAAAAAAAAAAAAAAAAAAAAAAAAAAAAAAAAAAAAAAAAAAAAAAAAAAAAAAAAAAAAAAAAAAAAAAEAAQABAAEAAQABAAEAAQABAAEAAQABAAEAAQABAAEAAQABAAEAAQABAAEAAQABAAEAAQABAAEAAgACAAIAAgACAAIAAgACAAIAAgACAAIAAgACAAIAAgACAAIAAgACAAIAAgACAAIAAgACAAIAAgACAAIAAgACAAIAAgADAAMAAwADAAMAAwADAAMAAwADAAMAAwADAAMAAwADAAMAAwADAAMAAwADAAMAAwADAAMAAwADAAMAAwADAAMAAwADAAMAAwADAAMAAwADAAMAAwAEAAQABAAEAAQABAAEAAQABAAEAAQABAAEAAQABAAEAAQABAAEAAQABAAEAAQABAAEAAQABAAEAAQABAAEAAQABAAEAAQABAAEAAQABAAEAAQABAAEAAQABAAEAAQABAAEAAQABAAEAAQABAAEAAQABAAEAAQABAAEAAQABAAEAAQABAAEAAQABQAFAAUABQAFAAUABQAFAAUABQAFAAUABQAFAAUABQAFAAUABQAFAAUABQAFAAUABQAFAAUABQAFAAUABQAFAAUABQAFAAUABQAFAAUABQAFAAUABQAFAAUABQAFAAUABQAFAAUABQAFAAUABQAFAAUABQAFAAUABQAFAAUABQAFAAUABQAFAAUABQAFAAUABQAFAAUABQAFAAUABQAFAAUABQAFAAUABQAFAAUABQAFAAUABQAFAAUABQAFAAUABQAFAAUABQAFAAUABQAFAAUABQAFAAUABQAFAAUABQAFAAUABQAFAAUABQAFAAUABQAFAAUABQAFAAUABQAFAAUABQAFAAUABQAFAAUABQAFAAUABQAFAAQABAAEAAQABAAEAAQABAAEAAQABAAEAAQABAAEAAQABAAEAAQABAAEAAQABAAEAAQABAAEAAQABAAEAAQABAAEAAQABAAEAAQABAAEAAQABAAEAAQABAAEAAQABAAEAAQABAAEAAQABAAEAAQABAAEAAQABAAEAAMABAADAAMAAwADAAMAAwADAAMAAwADAAMAAwADAAMAAwADAAMAAwADAAMAAwADAAMAAwADAAMAAwADAAMAAwADAAMAAwADAAMAAwADAAMAAgACAAIAAgACAAIAAgACAAIAAgACAAIAAgACAAIAAgACAAIAAgACAAIAAgACAAIAAgACAAIAAgACAAIAAgACAAEAAQABAAEAAQABAAEAAQABAAEAAQABAAEAAQABAAEAAQABAAEAAQABAAEAAQABAAEAAQAAAAAAAAAAAAAAAAAAAAAAAAAAAAAAAAAAAAAAAAAAAAAAAAAAAAAAAAAAAAAAAAAAAAAAAAAAAAAAAAAAAAAAAAAAAAAAAAAAAAAAAAAAAAAAAAAAAAAAAAAAAP///////////////////////////////////////////////////////////v/+//7//v/+//7//v/+//7//v/+//7//v/+//7//v/+//7//v/+//7//v/9//3//f/9//3//f/9//3//f/9//3//f/9//3//f/9//3//f/9//3//P/8//z//P/8//z//P/8//z//P/8//z//P/8//z//P/8//z//P/8//z//P/7//v/+//7//v/+//7//v/+//7//v/+//7//v/+//7//v/+//7//v/+//7//r/+v/6//r/+v/6//r/+v/6//r/+v/6//r/+v/6//r/+v/6//r/+v/6//r/+v/6//n/+f/5//n/+f/5//n/+f/5//n/+f/5//n/+f/5//n/+f/5//n/+f/5//n/+f/5//n/+f/5//n/+P/4//j/+P/4//j/+P/4//j/+P/4//j/+P/4//j/+P/4//j/+P/4//j/+P/4//j/+P/4//j/+P/4//j/+P/4//j/+P/4//j/+P/4//j/+P/3//j/9//3//f/9//3//f/9//3//f/9//3//f/9//3//f/9//3//f/9//3//f/9//3//f/9//3//f/9//3//f/9//3//f/9//3//f/9//3//f/9//3//f/9//3//f/9//3//f/9//3//f/9//3//f/9//3//f/9//3//f/9//3//f/9//3//f/9//3//f/9//3//f/9//3//f/9//3//j/9//4//j/+P/4//j/+P/4//j/+P/4//j/+P/4//j/+P/4//j/+P/4//j/+P/4//j/+P/4//j/+P/4//j/+P/4//j/+P/4//n/+P/5//n/+f/5//n/+f/5//n/+f/5//n/+f/5//n/+f/5//n/+f/5//n/+f/5//r/+f/6//r/+v/6//r/+v/6//r/+v/6//r/+v/6//r/+v/6//r/+v/7//v/+//7//v/+//7//v/+//7//v/+//7//v/+//7//z//P/8//z//P/8//z//P/8//z//P/8//z//P/8//z//f/9//3//f/9//3//f/9//3//f/9//3//f/9//7//v/+//7//v/+//7//v/+//7//v/+/////////////////////////////////wAAAAAAAAAAAAAAAAAAAAAAAAAAAAAAAAAAAAAAAAAAAAAAAAAAAAAAAAAAAAAAAAEAAQABAAEAAQABAAEAAQABAAEAAQABAAIAAgACAAIAAgACAAIAAgACAAIAAwADAAMAAwADAAMAAwADAAMAAwADAAMABAAEAAQABAAEAAQABAAEAAQABAAFAAUABQAFAAUABQAFAAUABQAFAAYABgAGAAYABgAGAAYABgAGAAYABgAGAAcABwAHAAcABwAHAAcABwAHAAcACAAIAAgACAAIAAgACAAIAAgACAAIAAgACQAJAAkACQAJAAkACQAJAAkACQAKAAoACgAKAAoACgAKAAoACgAKAAoACgALAAsACwALAAsACwALAAsACwALAAsACwAMAAwADAAMAAwADAAMAAwADAAMAAwADAAMAA0ADQANAA0ADQANAA0ADQANAA0ADQANAA0ADQAOAA4ADgAOAA4ADgAOAA4ADgAOAA4ADgAOAA4ADwAPAA8ADwAPAA8ADwAPAA8ADwAPAA8ADwAPAA8ADwAQABAAEAAQABAAEAAQABAAEAAQABAAEAAQABAAEAAQABAAEAAQABEAEAARABEAEQARABEAEQARABEAEQARABEAEQARABEAEQARABEAEQARABEAEQARABEAEQARABIAEgARABIAEgASABIAEgASABIAEgASABIAEgASABIAEgASABIAEgASABIAEgASABIAEgASABIAEgASABIAEgASABIAEgASABIAEgASABIAEgASABIAEgASABIAEgASABIAEgASABIAEgASABIAEgASABIAEgASABIAEgASABIAEgASABIAEgASABIAEgASABIAEgASABIAEgASABEAEgARABEAEQARABEAEQARABEAEQARABEAEQARABEAEQARABEAEQARABEAEQARABAAEQAQABAAEAAQABAAEAAQABAAEAAQABAAEAAQABAAEAAQABAADwAPAA8ADwAPAA8ADwAPAA8ADwAPAA8ADwAPAA4ADwAOAA4ADgAOAA4ADgAOAA4ADgAOAA4ADQANAA0ADQANAA0ADQANAA0ADQANAA0ADAANAAwADAAMAAwADAAMAAwADAALAAsACwALAAsACwALAAsACwALAAsACgAKAAoACgAKAAoACgAKAAoACQAJAAkACQAJAAkACQAJAAgACQAIAAgACAAIAAgACAAIAAgABwAHAAcABwAHAAcABwAHAAYABgAGAAYABgAGAAYABgAFAAUABQAFAAUABQAFAAUABAAEAAQABAAEAAQABAADAAMAAwADAAMAAwADAAMAAgACAAIAAgACAAIAAgACAAEAAQABAAEAAQABAAEAAAAAAAAAAAAAAAAAAAAAAAAAAAAAAAAAAAAAAP////////////////7////+//7//v/+//7//v/9//3//f/9//3//f/8//3//P/8//z//P/8//z/+//7//v/+//7//v/+//7//r/+v/6//r/+v/6//n/+f/5//n/+f/5//n/+P/4//j/+P/4//j/+P/4//f/9//3//f/9//3//b/9v/2//b/9v/2//b/9v/1//X/9f/1//X/9f/1//X/9P/0//T/9P/0//T/9P/0//P/8//z//P/8//z//L/8//y//L/8v/y//L/8v/y//H/8f/x//H/8f/x//H/8f/w//H/8P/w//D/8P/w//D/7//w/+//7//v/+//7//v/+//7//u/+7/7v/u/+7/7v/u/+7/7v/t/+7/7f/t/+3/7f/t/+3/7f/t/+3/7P/t/+z/7P/s/+z/7P/s/+z/7P/s/+v/7P/r/+v/6//r/+v/6//r/+v/6//r/+v/6v/q/+r/6v/q/+r/6v/q/+r/6v/q/+n/6v/q/+n/6f/p/+n/6f/p/+n/6f/p/+n/6f/p/+n/6f/p/+n/6P/o/+j/6P/o/+j/6P/o/+j/6P/o/+j/6P/o/+j/6P/o/+j/6P/n/+j/6P/n/+j/5//n/+f/5//n/+f/5//n/+f/5//n/+f/5//n/+f/5//n/+f/5//n/+f/5//n/+f/5//n/+f/5//n/+f/5//n/+f/5//n/+f/5//n/+f/5//n/+f/5//n/+f/5//n/+f/5//n/+f/5//n/+f/5//n/+f/5//n/+f/5//n/+f/5//n/+f/5//n/+f/5//n/+f/5//o/+f/5//o/+f/6P/o/+j/6P/o/+j/6P/o/+j/6P/o/+j/6P/o/+j/6P/o/+j/6P/o/+j/6P/p/+j/6f/p/+n/6f/p/+n/6f/p/+n/6f/p/+n/6f/p/+n/6f/p/+r/6v/q/+r/6v/q/+r/6v/q/+r/6v/q/+r/6v/r/+r/6//r/+v/6//r/+v/6//r/+v/6//r/+z/7P/s/+z/7P/s/+z/7P/s/+z/7P/s/+z/7f/t/+3/7f/t/+3/7f/t/+3/7f/t/+3/7v/u/+7/7v/u/+7/7v/u/+7/7v/v/+//7//v/+//7//v/+//7//v/+//8P/w//D/8P/w//D/8P/w//D/8f/w//H/8f/x//H/8f/x//H/8f/y//L/8v/y//L/8v/y//L/8v/y//L/8//z//P/8//z//P/8//z//P/9P/0//T/9P/0//T/9P/0//T/9P/1//X/9f/1//X/9f/1//X/9f/2//b/9v/2//b/9v/2//b/9v/3//f/9//3//f/9//3//f/9//3//j/+P/4//j/+P/4//j/+P/4//n/+f/5//n/+f/5//n/+f/5//r/+v/6//r/+v/6//r/+v/6//r/+//7//v/+//7//v/+//7//v/+//8//z//P/8//z//P/8//z//P/8//3//f/9//3//f/9//3//f/9//3//v/+//7//v/+//7//v/+//7//v////////////////////////////////8AAAAAAAAAAAAAAAAAAAAAAAAAAAAAAAAAAAAAAAAAAAAAAAAAAAAAAAAAAAEAAQABAAEAAQABAAEAAQABAAEAAQABAAIAAgACAAIAAgACAAIAAgACAAIAAgACAAMAAgADAAMAAwADAAMAAwADAAMAAwADAAMAAwAEAAMABAAEAAQABAAEAAQABAAEAAQABAAEAAQABAAFAAUABQAFAAUABQAFAAUABQAFAAUABQAFAAUABQAGAAUABgAGAAYABgAGAAYABgAGAAYABgAGAAYABgAGAAYABgAHAAcABwAHAAcABwAHAAcABwAHAAcABwAHAAcABwAHAAcABwAHAAgACAAHAAgACAAIAAgACAAIAAgACAAIAAgACAAIAAgACAAIAAgACAAIAAgACQAJAAkACQAJAAkACQAJAAkACQAJAAkACQAJAAkACQAJAAkACQAJAAkACQAJAAkACQAKAAkACgAKAAoACgAKAAoACgAKAAoACgAKAAoACgAKAAoACgAKAAoACgAKAAoACgAKAAoACgAKAAoACgAKAAoACgAKAAoACwALAAoACwAKAAsACwALAAsACwALAAsACwALAAsACwALAAsACwALAAsACwALAAsACwALAAsACwALAAsACwALAAsACwALAAsACwALAAsACwALAAwACwALAAwACwAMAAwACwAMAAsADAAMAAwADAAMAAwADAAMAAwADAAMAAwADAAMAAwADAAMAAwADAAMAAwADAAMAAwADAAMAAwADAAMAAwADAAMAAwADAAMAAwADAAMAAwADAAMAAwADAAMAAwADAAMAAwADAAMAAwADAAMAAwADAAMAAwADAAMAAwADAAMAAwADAAMAAwADAAMAAwADAAMAAwADAAMAAwADAAMAAwADAAMAAwADAAMAAwADAAMAAwADAANAAwADAAMAAwADAAMAAwADAAMAAwADAAMAAwADAAMAAwADAAMAAwADAAMAA0ADAAMAAwADAAMAAwADAAMAAwADAAMAAwADAAMAAwADAAMAAwADAAMAAwADAAMAAwADAAMAAwADAAMAAwADAAMAAwADAAMAAwADAAMAAwADAAMAAwADAAMAAwADAAMAAwADAAMAAwADAAMAAwADAAMAAwADAAMAAwADAAMAAwADAAMAAwADAAMAAwADAAMAAwADAAMAAwADAALAAwADAALAAwACwALAAsACwALAAsACwALAAsACwALAAsACwALAAsACwALAAsACwALAAsACwALAAsACwALAAsACwALAAsACwALAAsACwALAAsACgAKAAsACgAKAAoACgAKAAoACgAKAAoACgAKAAoACgAKAAoACgAKAAoACgAKAAoACgAKAAoACQAKAAkACQAJAAkACQAJAAkACQAJAAkACQAJAAkACQAJAAkACQAJAAkACQAJAAkACAAIAAgACAAIAAgACAAIAAgACAAIAAgACAAIAAgACAAIAAgACAAIAAcACAAHAAcABwAHAAcABwAHAAcABwAHAAcABwAHAAcABwAHAAcABgAGAAYABgAGAAYABgAGAAYABgAGAAYABgAGAAYABgAFAAUABQAFAAUABQAFAAUABQAFAAUABQAFAAUABQAEAAQABAAEAAQABAAEAAQABAAEAAQABAAEAAQABAADAAMAAwADAAMAAwADAAMAAwADAAMAAwADAAIAAgACAAIAAgACAAIAAgACAAIAAgACAAIAAgABAAEAAQABAAEAAQABAAEAAQABAAEAAQAAAAAAAAAAAAAAAAAAAAAAAAAAAAAAAAAAAAAAAAAAAAAAAAAAAAAAAAAAAAAAAAD//wAA//////////////////////////////7//v/+//7//v/+//7//v/+//7//v/9//7//f/9//3//f/9//3//f/9//3//f/9//z//P/8//z//P/8//z//P/8//z//P/8//v/+//7//v/+//7//v/+//7//v/+//7//v/+v/6//r/+v/6//r/+v/6//r/+v/6//n/+v/5//n/+f/5//n/+f/5//n/+f/5//n/+P/5//j/+P/4//j/+P/4//j/+P/4//j/+P/4//f/+P/3//f/9//3//f/9//3//f/9//3//f/9//2//b/9v/2//b/9v/2//b/9v/2//b/9v/2//X/9v/1//X/9f/1//X/9f/1//X/9f/1//X/9f/0//X/9P/0//X/9P/0//T/9P/0//T/9P/0//T/9P/0//T/9P/z//P/9P/z//P/8//z//P/8//z//P/8//z//P/8//z//P/8v/z//L/8v/y//L/8v/y//L/8v/y//L/8v/y//L/8v/y//L/8v/x//L/8v/x//L/8f/y//L/8f/x//H/8f/x//H/8f/x//H/8f/x//H/8f/x//H/8f/x//H/8f/x//H/8f/x//H/8f/x//H/8f/x//H/8P/w//H/8P/x//D/8P/x//D/8P/x//D/8f/w//D/8P/w//D/8P/w//D/8P/w//D/8P/w//H/8P/w//D/8P/w//D/8P/x//D/8P/w//D/8P/w//D/8P/w//D/8P/w//D/8P/w//D/8P/w//D/8P/w//H/8P/w//D/8P/w//D/8P/w//D/8P/w//D/8P/x//D/8f/w//D/8f/w//D/8f/w//H/8f/w//H/8P/x//H/8P/x//H/8f/x//H/8f/x//H/8f/x//H/8f/x//H/8v/x//H/8f/x//L/8f/x//L/8f/y//L/8v/y//L/8v/y//L/8v/y//L/8v/y//L/8v/y//L/8v/y//L/8//y//P/8//y//P/8//y//P/8//z//P/8//z//P/8//0//P/8//0//P/8//0//P/9P/0//T/9P/0//T/9P/0//T/9P/0//T/9P/0//X/9P/0//X/9P/1//X/9f/1//X/9f/1//X/9f/2//X/9f/2//X/9v/2//X/9v/2//b/9v/2//b/9v/2//f/9v/3//f/9v/3//f/9//3//f/9//3//f/9//4//f/+P/3//f/+P/4//j/+P/4//j/+P/4//j/+P/4//n/+P/5//n/+f/5//n/+f/5//n/+f/6//n/+f/6//n/+v/5//r/+v/6//r/+v/6//r/+v/6//v/+//6//v/+v/7//v/+v/7//v/+//8//v/+//7//v//P/8//v//P/8//z//P/8//z//P/8//z//P/8//3//P/8//3//P/9//3//f/9//3//f/9//3//f/9//3//f/+//3//v/+//7//v/+//7//v/+/////v/+/////v///////v//////////////////////////////////////AAD//wAAAAAAAAAAAAAAAAAAAAAAAAAAAAAAAAAAAAAAAAAAAAAAAAAAAAAAAAAAAAAAAAAAAAAAAAAAAAAAAAAAAAAAAAAAAAAAAAEAAAAAAAEAAAABAAEAAAABAAEAAQABAAEAAQABAAEAAQABAAEAAQABAAEAAQABAAEAAQABAAEAAgABAAIAAQABAAIAAQACAAIAAQACAAIAAgACAAIAAgACAAIAAgACAAIAAgACAAIAAgACAAIAAgACAAIAAgACAAIAAgACAAIAAgACAAIAAgACAAIAAgACAAIAAgACAAIAAgACAAIAAgACAAIAAgACAAIAAgACAAIAAgACAAIAAgACAAIAAgACAAIAAgACAAIAAgACAAIAAgACAAIAAgACAAIAAgACAAIAAgACAAIAAgACAAIAAgACAAIAAgACAAIAAgACAAEAAgACAAEAAgABAAIAAQABAAEAAQABAAEAAQABAAEAAQABAAEAAQABAAEAAQABAAEAAQABAAEAAQABAAEAAQABAAEAAQABAAAAAAABAAAAAQAAAAAAAAAAAAAAAAAAAAAAAAAAAAAAAAAAAAAAAAAAAAAAAAAAAAAAAAAAAAAAAAAAAAAAAAAAAAAAAAAAAAAAAAAAAAAAAAAAAAAAAAAAAP//AAD///////////////////////////////////////////7////+/////v/+//7//v/+//7//v/+//7//v/+//7//f/+//3//f/9//3//f/9//3//f/9//3//f/9//3//f/9//3//f/8//z//P/8//z//P/8//z//P/8//z//P/8//z//P/8//v/+//7//v/+//7//v/+//7//v/+//6//v/+//6//v/+v/7//v/+v/7//r/+v/6//r/+v/6//r/+v/6//r/+v/6//n/+f/5//n/+f/5//n/+f/5//n/+f/5//n/+f/5//n/+f/5//j/+P/4//j/+P/4//j/+P/4//j/+P/4//j/+P/4//j/+P/4//j/+P/3//j/9//3//f/9//3//f/9//3//f/9//3//f/9//3//f/9//3//f/9v/3//b/9v/2//b/9v/2//b/9v/2//b/9v/2//b/9v/2//b/9v/2//X/9v/2//X/9v/1//X/9v/1//X/9f/1//X/9v/1//X/9f/1//X/9f/1//X/9f/1//X/9f/1//X/9f/1//X/9f/1//X/9f/1//X/9f/1//X/9f/1//X/9f/0//T/9f/1//T/9f/0//T/9P/0//T/9f/0//T/9f/0//T/9f/0//T/9P/0//T/9P/0//T/9P/0//T/9P/0//T/9P/0//T/9P/0//X/9P/0//T/9P/0//T/9P/0//T/9P/0//T/9P/0//T/9f/0//X/9P/0//X/9P/1//X/9P/1//X/9f/1//X/9f/1//X/9f/1//X/9f/1//X/9f/0//X/9f/1//X/9f/1//X/9f/1//X/9f/1//X/9f/1//X/9f/1//b/9f/2//X/9f/2//X/9v/2//X/9v/2//b/9v/2//b/9v/2//b/9v/2//b/9v/2//b/9v/3//b/9v/2//f/9v/3//f/9//3//f/9//3//f/9//3//f/9//3//f/+P/3//j/+P/4//j/+P/4//j/+P/4//j/+P/4//j/9//4//j/+P/5//j/+P/5//j/+f/5//j/+f/5//n/+f/5//n/+f/5//n/+f/6//r/+v/6//n/+v/6//r/+v/6//r/+v/6//r/+v/6//r/+v/7//v/+//7//v/+//7//v/+//7//z//P/7//z//P/8//z//P/8//z//P/9//z//P/9//z//f/9//z//f/8//3//f/9//3//f/9//3//f/9//7//v/9//7//v/9//7//v/+/////v/+/////v///////v//////////////////////AAD/////AAD/////AAAAAAAAAAAAAAAAAAAAAAAAAAAAAAAAAAAAAAAAAQAAAAAAAQAAAAEAAAAAAAEAAAABAAEAAAABAAEAAQABAAEAAQACAAEAAgACAAIAAgACAAIAAgACAAIAAwACAAIAAwACAAIAAwACAAMAAwACAAQAAwACAAQAAwADAAQAAwADAAQAAwAEAAQAAwAEAAQABAAEAAQABAAEAAQABAAEAAQABAAEAAUABAAFAAUABQAFAAYABQAFAAYABQAGAAUABQAGAAUABQAHAAUABgAGAAUABgAGAAUABgAGAAYABgAGAAcABgAGAAcABgAHAAcABwAHAAcABwAIAAcABwAIAAcACAAHAAcACAAHAAcACAAHAAgABwAHAAgABwAHAAgABwAHAAgABwAIAAgABwAIAAgABwAIAAgACAAIAAcACAAIAAcACQAIAAgACQAIAAgACQAIAAkACQAIAAkACAAJAAkACAAJAAkACAAJAAkACQAJAAgACgAJAAgACQAJAAkACQAIAAoACQAIAAoACAAJAAoACQAKAAkACQAKAAkACQAKAAkACQAKAAgACQAJAAgACgAKAAkACgAJAAgACgAJAAgACgAJAAkACwAIAAkACgAJAAkACQAJAAoACQAJAAkACAAJAAkACQAJAAgACQAJAAgACQAIAAgACgAJAAkACQAJAAkACQAJAAkACgAJAAkACgAJAAkACgAIAAkACgAIAAkACQAIAAkACAAHAAgACAAIAAgACQAIAAgACAAIAAgACAAHAAkACAAIAAkACAAIAAgABwAJAAgABwAJAAgABwAJAAcABwAIAAgACAAIAAgABwAHAAcABgAHAAcABgAHAAYABgAHAAUABwAGAAYABwAGAAYABwAGAAYABwAGAAcABwAHAAcABwAHAAcABwAHAAcABwAHAAYABgAGAAYABQAFAAYABAAFAAUABAAEAAQABAAEAAQABQAEAAQABQAEAAUABAAFAAUABAAFAAUABAAFAAQABAAFAAQABAAEAAMAAwADAAQAAwACAAMAAwACAAIAAgACAAIAAgADAAIAAgADAAEAAgADAAIAAgADAAMAAgACAAMAAQACAAMAAgACAAIAAgACAAEAAgACAAEAAgACAAEAAQAAAAEAAQABAAEAAAAAAAAAAAAAAAAAAAAAAAAAAAAAAAAA//8AAAAAAAAAAAAAAAAAAAAA//8AAAAA/v8AAP////8AAP3///////3/AAD+//3////9//7//v/9//7//f/+//3//v/9//3////9//3////9//7////8//7//v/9/////f/9/////P/8//7//P/8//3//P/9//z//P/9//z//P/9//3//P/9//7//P/8//z//P/8//z//P/8//v/+//8//v/+v/5//r/+v/4//r/+v/4//r/+f/4//n/+P/5//r/+f/5//r/+f/4//n/+f/5//n/+f/5//j/+P/4//j/9//4//n/9//4//n/9v/4//n/9//5//j/+P/5//n/+f/4//j/+P/4//j/+f/4//j/+P/4//j/9//3//j/9//4//j/9//5//n/9//5//n/9//4//j/+P/5//j/+f/5//b/9//3//b/9f/2//b/9P/1//X/9P/z//X/9P/0//X/9P/1//X/8//1//X/9P/2//b/9f/1//X/9v/1//P/9v/2//P/9f/2//P/8//0//T/8//z//T/9f/0//P/9P/0//P/9P/2//b/9f/2//f/9f/1//b/9f/3//f/9v/3//b/9f/2//b/9f/2//b/9v/2//b/9f/2//b/9f/2//X/9f/1//T/9f/0//P/9v/0//T/9P/y//P/8//y//X/8v/x//b/9P/y//T/8//0//T/8//2//T/8v/1//T/8v/0//P/9P/z//D/9f/z//D/8//y//H/8//x//L/9f/x//L/9v/z//P/9v/1//X/9v/2//j/9v/2//f/9v/2//X/9//3//X/9//2//T/9v/0//T/9//1//T/9//1//T/9v/1//f/9f/2//n/9f/3//j/9v/2//f/9v/2//b/9f/2//b/9P/1//T/8//0//P/9P/1//P/9f/1//H/9P/0//P/9v/0//b/+P/z//b/9v/y//b/9//1//f/9v/3//f/9f/3//X/9f/4//b/9//4//b/+P/3//X/9//1//b/9//3//j/9//5//j/9v/5//j/9//5//n/+v/6//r/+//6//n/+v/8//r/+v/8//v//P/6//n//P/3//j//f/3//b/+v/3//f/9v/0//n/9f/0//v/9f/0//n/9//5//j/+P/8//r/+v/8//v/+//6//v//f/7//v//f/7//r/+//5//n/+f/4//n/+v/4//f/+v/5//j/+f/4//n/+P/5//3//P/7//3//v/8//v//v8AAP7/AAACAP////////3////+//3/AAAAAP7//f/9//v/+f/8//v/+//9//7//f/8//v/+//7//z//f///wAA/f///wAA/P/8/wAA/v/+/wAAAAAAAP///f/+//z/+////wAA/f/8//7//f/7//v//f/8//r///8AAPz//f///////////wAAAAD//wAAAwABAAAAAQADAAAAAAACAAAAAAADAAEAAAAAAAAAAAABAAAA//8BAAAAAAAAAP//AAD//wAAAQAAAAAAAAAAAAEAAQAAAAQAAgAAAAIAAQACAAEAAQAEAAEAAAADAAEA//8BAAAAAAABAAAAAAAAAP////8AAP//AAAAAAAAAAAAAP////8AAAAAAQADAAMAAwACAAQAAwADAAYAAgAFAAgAAwAEAAQAAwAEAAIABAADAAAAAwACAAAAAAD//wEAAgAAAAEAAQAAAAEAAAABAAIA/v8DAAYAAQADAAIAAwAFAAEABAAHAAEABAAJAAQAAgAEAAQABQACAAIABQACAAAAAgACAAAAAQAEAAIAAgAAAAAAAwD//wEAAgABAAUAAAADAAQA/f8CAAYAAgAEAAcABwAFAAYABQAFAAYABQAIAAoABwAGAAcABgACAAAABQADAAAABAAEAAAAAAACAP//AAAAAAAAAgAAAAAAAgABAAMABQADAAMABgAFAAQABgAEAAcACAAEAAkABwABAAYABAABAAMAAAAAAAIAAAD///7//P/8//7/AAAAAP3/AAACAAAABAACAAAACgAIAAcADQAHAAYACgAIAAkADQAIAAkADQAGAAQABQABAAEAAwAFAAMA//8AAAEA/f/+/wAA//8AAAAAAwADAAAAAQAGAAIABAAHAAUACQAIAAcADAADAAIACAACAAAABAACAAMAAwD9/////v/5//3//P/5////AAD9/wAA/f/8/wAA//8BAAIAAAAGAAMAAgAFAAEAAgAHAAUAAwAGAAcABwAIAAUABAAFAAIAAwAIAAYAAgAHAAQAAAABAPz/AAADAP//BgAHAAIAAQD//wIAAQD//wQABwAGAAUACAAIAAEAAQAFAAQAAwAGAAcABAADAAIAAgD///z////+//v/AAD9//n/+v/3//r/+v/3//v//P/8//7/AAD9//n/AgAEAAIABgACAAMABwADAAYAAwD//wUAAwABAAQA+//8/wAA/f8AAP7//P8AAAAAAAD///7//f8CAAUABwAFAAMACgAJAAUACwAHAAYACQAKAAkABgAGAAUABgAEAAAAAAD7//7//v/7//7/+f/6//v/9v/6//j/9//9//j//P8AAPz//f/9//v//f/+/wAAAAD+/wQABQD//wAA/v/7/wAAAgAAAAEAAAD7/////P/2//3//P/7/wAA+v/2//n/9//5//3/+v/9/wAA/v8AAAIAAQAEAAgABwAHAAoACAAGAA0ACQADAA4ACgABAAgACAAAAAEAAQD9////+v/3//3/9//4//v/9//3//T/9//6//f/+v/6//v////8//7/AAD9/wAAAQAAAAAA/f//////+f/6//7/+P/3//n/9//5//f/+P/6//b/9//6//z/+P/5//7//f8AAP///f8BAP7///8CAP3//v//////BQAAAPz/AgABAP3/AAAAAP7/AAADAAQA/v/7/wEA/v/7/wIAAAD9/wQAAwD+/wAA+f/6/wMA+v/8/wIA+f/8//v/+P/7//P/9v/8//r/+f/4//v/+v/1//j//P/4//T/+P/9////+v/4//z/9P/1//r/+P/3//P/+//+//X/+f/1//n/AAD5/wAA/v/0/////f///wMA9/8AAAIA+P/+//3/9v/8/wAA/v////n/9P/8///////+////AAD7//v/+//8//n/+v8EAAAA//////f//P/7//f//P////v/+v////j/8v/y//T/9v/1//j//P/2//T/9f/x//H/9v/6//v/+//6//X/+P/7//b/+v8AAPz/+//9//j/9P/1//n////9//v////6//H//P/7//L/AAD9//z/AgD0//f/9//s//7//v/y//v/9f/z//r/8//2//3/+f///wQA9v/z////+v/5/wMAAwD///z/+v/5/+//8f/3//X//f/8//n/8//r/+n/6f/4//v/9v////n/9P/3/+3/8v/6//3/BwAIAP7/+P/6//f/9P/6//3//f/5//v//P/w/+7/8f/x//n/+P/4//z/8v/x//z/+f/z////BgACAAYAAgD4//v/8//4/wUA+f/3//7/8//s/+z/5//o/+7/8f/1//b/8P/v//H/9f/5//z/AwAAAP//AQABAAEA/P8BAAcAAAD8//3/+f/v//X/+P/w//H/8v/1/+//6v/x/+3/7f/5//j/9f/6//3/+v/6//3/+//9//7/AAAFAPr/9//8//T/+P/7//T/8//2//b/+P/4//H/9//4//r/BQD+//v////5////AAD8/wMACQAEAAAA/v/v/+b/8P/v//H//v/z//D/9P/p/+n/5v/q//j/8v/9/wUA8//4/wEA+P/9/wMA//8DAAUAAQACAPz/9v///////v8DAPv/9//3//X//P/0//T/AAD///z/+v/0//D/8f/2/wAAAQD4//r/+v/t/+z/8v/s//D/AAACAP7/+f/1//L/9P///wMAAAAHABAACgAGAAUA/P8AAAkABgAMAAkA//8DAPv/8//2/+3/7f/1//P/8P/n/+f/7v/p//T//v/0//b/+f/0//X/+/8AAAYACgAKABMACgD//wQABQAJAAwABgAFAAEA+//8//7/+v/5//z/+v/3//L/8P/x/+v/8f/0/+//+f/y/+///f/2//r/BAD7//v//v///wkAAAACAA8AAwAMABIABQAKAAkACQAMAAMAAgAFAAIABAAKAAEA+f/+//f/8//+//7//v8DAAQA+//y//D/7//4//3/AwAHAAMADAD9//P/AQDy//f/BgD7/wAA+P/z/wAA8f/y////9v/8/wYA+//4//3/9v8AAAkA//8IABAABQAPAA0A/P8FAAoAAAAHAAgAAAADAPr/+f/+//b/9//6//7/AAD5/wEA+P/t/wIA/v/6/xEACgAEABAADAAKAA0ADQATABMADwAUABIACAAPABEADgATAAgAAQAAAPr//P/9////AAD+//r/8P/0//D/6f/5//z/9P/1//n/9v/u//H/8v/y//j/9f/3//3//v8AAAgABQD3//3/AAACAA8ADQAXAB0ACwAOAA0AAgAJAA4AEQANAAYABwD///r/AgAGAAIAAwAAAPn//f/9//7/AgACAA4ADAAEAA0ABgALABgAEQARABIADQARABgADgAJABkACAAEAA0A/v8KAAYA+P8AAPT/7v/y/+7/6v/t//X/8P/u/+7/6P/z//z/+//+//L/7v/5//T//f8GAP//BAACAP7/CQAAAPj/CQANAAQACAAEAP//CgAOABUAGgANAAwAEAAQABMADQATABgACQAOABYACwANABQADQAJAAoADQARABAAEQAJAAIABQD///j/+/8GABIACgADAAEA9f/w//v//v8BAAIA+v8CAP//+P/+//L/+f8AAPn/AwD0/+b/9P/r/+r/7//l/+z/8f/x//T/7f/p/+z/7f/2//3/9f/9//v/8/8GAP3/AAAbAAsAFQAjAAcAEgAaAAcAHwAvACIAJwAhABkAIQAWABkAJgAXABsAIgAVABIACgAFABAAFAAUABIADgAKAAUABAD9//r/+v/6/wwABQDt//L/8v/Z/9z/6//i//D/+v/t//L/5f/c/+r/6//s//T////5//T/9P/n/+7/8//y/wAA/f/t/+n/7v/p/+v/+P/2//7/AQD6/wAA9//z/wQABAARABoACwARABcAFQAgAB4AGAAkAC0AKAArAB8AFAApACUAFQAjACAAEwAdAB4ACgAEAAYACgAJAAYAEAAKAAIAEAALAAsAEgAEAAgACgD7/wIAAwD//wAA8//4//X/2P/V/97/zf/R/+H/1f/L/8z/w//K/8n/uP/J/87/x//e/+f/2//a/+b/8//4//n/CAAYABwAKAAwADUANQAyAD0AOgA2AEMAPAA4ADoAKQAjABsADAADAAEAAQD4/wQABADo/+n/8f/n/+7//f/8/wAABwANABcAEQAYACUAIAArAC8AJAAoACYAIAAqACcAGAAWAA8AAAD6//f/7P/h/+H/2P/I/7v/v/++/6v/uv/B/7L/xf/H/7r/yP/B/8r/7f/n/+r/9//q//b/BgD7/wIAFgAeACsANQAzACQAHgApADYARAA/AEIASwA4ADIALgAgABYAEwAnACMABgACAP3/8P/s/+f/7//z/+z//P/5//D/+//2/wgAGQANACMALwAnADAAKwAhACIAGwAjAC8AHgAUABcABwD7/+z/2f/a/9v/z//O/9P/zv+//7j/xP/E/8D/w//G/87/0f/h//b/9P/z//v//P/5//r//f8OABYAEgAkABkA9f8DABMABQAVACIAGwAfACIALAAnABwAMQA+ADEAJAAtACsAHwAyAD4AJgAbABkAEwAgAA0A/P8RAAAA8f8BAPT/3P/n//z/AAALAAMA//8NAPn//v8MAPr//P8OABIADgAGAPr/+//6//j/AQAKAP//6P/w/+7/0f/T/+//9P/3/wIA+v///+3/1v/z/+r/2//3/wQAAAD4//z//f/q/9z/5//4/+T/7v8NAAEABQD///P/CgAKABYANwA/ADwAMQAzADUAJQAtAEAASwBMAD8AOAAjAAoADQAGAPP/AQAVAAIA+v/+//3/8P/V/+b/3/++//D/CQAIADMAKAAVACEA/P/0/woA//8JABYAHAAmABcABQD4//P/9v///wMA6v/g//L//f/u/+b/9P/t/+f/+v8JAPr/6f/y//r/+f/n/+L/8//1//P/9f/5/+v/zv/S//f/CAD4/wMAIAD3//z/CQDw/zcAHQAfAJIAOQACADQAIAACABIAOQAdAC4AUQAiAAoACQDs/7z/y//2//7/AQAWADYAIgDy/+f/3f/P//H/LwBWAFEARwA5ABQACwAAAO//AAASABkAGAAWAOf/zv/z/9//y//l/9b/v//X/+P/4f/o/9T/4f/5/+T/6f/6/w4AGAANABsAFQDv//P/DAAMABMAEwABAAAA7//V/9r/7//t//f/EQD6/+L/4f/X/97/5v/8/x0AJAAoAC4AKQAlABkADwAsAD0AMABNAE8AIgAnACAA/v8JAA8ABQATAAMA7//3/9r/y//l/+3/9//5//P/9v/Z/9P/4P/X//3/FgABABMAHwADAP3/BAAGABUAEwAaACwAFwABAO//8//9/+T/6v/1/93/3v/u/9v/xv/K/8f/wP/F/9H/1P/N/9L/4v/s/+X/4f/w//D/8/8MABIABAASACUAHgAkAB4ADwAmADQALQBEAFUASQBeAFIAFgAUAA8A9/8AABMAGAARAAsA/v/d/6n/l/+v/7P/uP/U/9z/xf/K/9T/x//V/+P/8/8FAP3/CAAUABgAIgAfADAANQAtADcAKQAkACkAGQAMAPb/4P/e/9r/1v/X/9n/wP+k/7P/sf+r/8H/uf/D/93/xP+//+z/3//m/ygAEQAhAEsAFwAvAEUAGgAtACwADwAZABkAKAAyABYAFgAEAOD/6f/o/+r/9P/z/wcA5v+q/7P/s/+4/9//8//9/+v/0//a/8X/uf/f//z/DwARAA0AEAAFAAsAIAAhAA0ADgATAAUAAAAHABEAAAD5/woA2v/E/+r/2f/Y//L/3P/T/9D/x//X/9v/6P/1//P/BAD3/+P/AQD7/+//GwAXAAsADQDm//L/AADr//f/+f/7/wAAAQAAAN//1//r/+H/1//m/+z/9/8TABoAEwAQAPf/6//5//L/9//3//T/EgDs/7//3f/I/7z/4v/h/9L/0P/Y/8z/vv/K/87/2//3/woADwAFAAQAAgD+/wgABwD//wUAFAAdAA0ADQATAO7/8v8AAOX/8//3/+n///8AAPn/CgADAO//BQAdABIA/v/9/wIA+v8AABIABwDm/97/4f/L/8r/wf/K/+7/1P/M/93/tP+q/8v/1//e/+//DgAQAPb/CQATAPb/+P8XABkADAAKAPb/8v/v/9P/3v/m/9b/1//v/+f/sf+v/9D/0v/P/+b/BAAAAAkAEQAAAAEA7f/5/zMAJgAqAE4ALgAaABQA+P8AAAMA/f8TACAACgD8//T/1P/N/9b/0//f//f/DwAQAAgA+P/R/8r/zP/V/+f/6f8FABIA/f/2/8b/qP/R/8f/zP/2/+j/8v8JAPz/9v/w/9v/3//9/xIAHwAkABYACAAAAO3/5//q/9//5v/x//T/7//F/8v/4//L//T/DwDg//T/CADk/wEAEwDy/xoAMQAoAEwAMwABAA0AGAAZAC8AOwAgABYAHwAIAOb/y//j/wUAAwAdABgA4P/U/9j/zf/O/9X/4f/w/wcAEQDz/9j/0P/M/9L/3P/O/8//3f/M/8r/wf+1/7b/sv/J//T//f/u//7/AwDx/wcAGgAcAEYAVgBDAE4ASAAdABIAFQAUACQANgAuAAYAAQAAAMP/x//2/8//0v8OABgABgAAAAsA+f/g//3/DwAWAB4A//8kAEoA+v8cAGAALgA0AD8AMwArAOf/9/8jAPH/9P8JAAoAAwC//9X/7/+p/7z/w/+d/8T/uf+Y/77/vf+Q/6H/4//n/6j/zP8xAOr/wv8dANn/t/8LAOz/9/9hAEIAMAC6AGYA4P9hAD4A1v9kAGkA7f9mAGIAsv8mABwAef8mADsArf9DAOr/c/9DAMX/hP+EACMA7v+iABYA+/9SAM7/NgCLACUAfgCWAAMAHAAgANj/JAAHADIAhgAYABkAHQDX/7b/lv/N//T/mv+y/w0Auf94/4b/av+r/5f/U/8JAPD/ZP/g/9L/sv/n/9f/OQBkABoAWwCBADcARwApABoAmQBLAOX/iAB3AAAAUAA3AAoA+v+U/wQAVQBi/43/ZwC0/7n/KQC0/xgADQDS/5MASQC7/2QAbAAvAIYARQCLAKgAIAChAH0Aw/8gABwA1f8MAMT/3////5f/FADl/2//5v+p/6j/9v/X/+n/6P8XADkABAD7/xcAEwDj/x8ASwDn/9n/+//s/+L/vf+0/zIACgC5/2UA8P+O//z/yf85ABUAFwCKAOj/HgAPAMn/IQDc/0EAjwAqAFUAOwCv/97/AACW/wkAHwDi/4gAPQDn/0sA4//X/3wARwAeAG4ASwAYACEALQD7/zQAawAwAHMA/v+6/yUAiv+T/xkAyf+M/+r/BACx/+v/0f/z/0YAwv8nAEQAuf8SACoAPwA5AAEAZQBCAAAAFADw/+P/wf/y/wgAw//P/9P/DwDx/7L/AgDo/8z/DgBZAPf/7/92APT/KwAdAOX/ZgDe/28AcwAEAE0Aw/9KAPP/0f9/ANX/HABHAB0AIQDP/+r/AAD+/x0ALgAWABcA5v/4/9X/nP/m/8H/9f/w/+3/0v+V/97/wv8SAOv/7v8cAOn/GQDp/0EAEgBAALoANwCBADkAHgBdACMAZQAUAAAAPADm/+b/CQC0/8H/2/+D/+v/j/9G/xYAuP/g/xQA0/9FAMb/7/+EAC0ATABNAGQAZgALAEkAcwAcAAoATgArAPb/+P/t//T/6P/H/+n/2f9l/+f//P+h/04A//+y/0gAEwD//00A5f8TADEAuP9PAPX/1P8rAN//PwCU/7b/BwBh/9T/1v+i/6X/sf+o//b/7/+x/1oAsf/r/1cAz/9FAPv/agAnAPb/vgCl/w4AdwD2/3oACgAAAFUAxP/n/1EA2f/9/1YAPQAFAPX/RgCx/yUASQCk/9cAPwDD/8MAuv+e/6AAlv/K/5cAUf8yACAAAf9xAH7/SP90AGz/2P/p/1v/GQCj/7X/WgD7/1AAfgArAEcARAD2/xAAPQDY/zwATgD2/y8AlP+o/9f/Wv99/3b/dv9g/4X/iv92/4P/Mf/S/6z/ff8NAKv/IwAsADwAaQDI/3oAJwBTAKsAnf/FAKkA2v/RAGEAw/+NADQAtf+vAHv/pP+rAFj/RgACAJ3/ogCc/y0ApwCa/00ATwD1/7QAv/8UANoAff8/AH4Akv9LAAkAiv8uAGL/M/9jAAT/Qf+FAAr/3P9TABH/BwAVAHf/SQCKANf/yP8MALT/FwDV/8T/2wC6/9P/bgAn/6X/L/8J/3wAcf9p/14AFf8o/8r//P6k/9z/T/9IADAAif/c/+7/zP/J/ygAewArAGkAoAAIAHsAcQA3AMUA0f9oAMsAT/92AHMAgv/fAD4AEwD+AH3/9f+EAHv/UQAoACsAqgAfAP//lP///5T/lf+MAID/EABQAJ7/1P9W/0r/kf83AMz/MwB8AHX/gQDc//X/kgCO/3cASwDu//D/zf/c/zn/JAD+/4T/IQDX/pT/4f9b/p//Rf8N/6D/C/8OAD7/kv7I/2//Gv/y/9r//v+VAGb/hwB7AOn++wDYAFIA0QB0ANsAQQAyAG8AhgC8ADkAqQB7AEj/3f9MAFT/WgAqAIL/GwFf/5f/zQDL/vj/YQCj/yAA6f82AP3/BABJAJT/OgAUAH7/jQHM/zj/+wHl/qv/pwHc/rkACgFH/xQBVACk/jUA1v+g/4EA9f5/AKD/1/2WAOH+sf51AP/+8f/W/13+w/9g/5r+DACn/+X/4/9b/zoAWP8q/0YAAwCI/8kAjgDy/ycB0P+E/9AApf8t/wsBpgB8//oAtADk/+b/BwC6/9f/xgDv/lwAGgGM/psAlAB8/wUAkgDXAAz/ZQCMABT/fAArAAoAYwD4/18AkwC0/3//UQDp/00AZwDb/0gBAAAn/9sBWf9b/oMBU/8lAHcAuP6fARn/hv7xAN7+fv93/zT/bgDH/v/+wABM/yT/GwCw/wQAI/9Z/4cAi//f/1AAfwBdAO3+wgAyAVb+vgBcAv3+QwAWAb7+2ACw/7D+2gGJ/xP/WAEwAPv+lP5fAHYAKf5+AM0AAP4uADoAwv+2ADH+vQBgAWn+RAHu/6r+fwHX/wMARAJb//L+QgL6/6j/GQGC/+YAVwDC/woBqgBp/5T/eAIW/zj+8gF+/mL/vQD+/mIB+v8v/q8Asv9e/QwA6/9X/4wAQP6AAUYAK/ycASIAkf1SAer/eAAlAfr97QFRAcP9fAJJAUIAYwGz/ywCmgAu/i0BIQHT/qIARwFj/2L/BP65/zb/Df0AAJr+pP9T/x/95wAG/vT80QBIAM//4v6AANEBbv4BADECAwFlAf3/YAJSA839TwDnBKcA4P2rAycDFP6TAF4AQwDe/3H/nwH3/iX/Qf6k/zEBtfsVALsBuv3QAAj/Rv05AMP90v1/Ak0AMP5rAfMBfv4Z/zoBEACyAT7/OQCwBA3+Sv9CBC0A+/6vApADqf5y/lL/t/85AHz9AQA1/179e/4d/pX/2/vH+/n/Lv4r/hT+4PzJ//D/1/7MA7gBi/xrAkUDwP+DApcCdAK1A20CVQSjAhb+6AGAAuoAmQLEAJIAPgCM/zoAPP+W/tP+8P/e/7j/mf4Q/nL/NP48ACgB+f6zADMAIwA+AQf/gP9KAXX/0f8DA24Ag/4cAcL/cv99/879IAFo/1P8NAHi/mP7Av5c/dD+Vv/5/K7/vf+l+5L98P+8/fP9xP80AbQAlv5p/6L/dv9tAD8BbgJlAfkAzgF3AQ8BAQCHAHcCSgLDAWMCPAG/AEoCVAE9AacBAwBrAUEC4QCeAQ8BwwD0ApwCkgGjAeoAcgGrASoBvwEZAbkAigEoAVIAA/+G/vP/lf8W//r/xP7g/az9nv0k/k383fxI/+n9q/3V/a/7z/vw+0D7Iv21/HD7Gv1n/FD7lvsB+zD8R/0j/lkAuv/m/j4AYgADAXsBAAKDBJUEDwRoBV8E0gJ1A1QEVgTMA3QDZgM/AqgA4ADeAKr//v81Ab4Amv+7/9P/tf8qAP4ADwI5AhoCowKZAgICgQIaAz8DFgRIBAMEUQMqApQBGwFrAV4BFAELAQAACACz/3v+t/4y/hD+Lf8p/qn8TfxK+wn7ivvc+jj6QPnR97X3gfUt83r0h/Ni9PX2W/Vn9gH3Pfb296H4W/ul/wEDrQWTBgkI5gm6CWgK4g2lD+APoBFsEh0Q7Av1CckJ0AcNBowF8wNtANL9g/xZ+eP2y/aZ9+P4BPkl+ef5M/nb+B37JP6fAKYCeASeBpMHyAbWBl0IdgkjCnkL2wyfCzMIvgbNBbwDqgKEAkwCOgD7/df8AfrA9nv1NvQY8k/yn/JA8PPuDu5+61bp/Omx7bLvHu4B8bf2//Tu8l320fhA+pAAjwzdEvoP0A6tETMRzQ1oEKEV2RdVGyAebRp3EGIH3wIfAeABEgOMAjUA6/yi+A3zv+0E64zst/D79UX6vPpX+rH6Dvtt/uQCXwV9CWIO2BFNFDQTjBADD/0OmxAkET4QvQ6EDBgJNwXMAdT9XvoF+bP5HvmL9TXxDu0N67nqnupE62fqN+nH6TrqgOkH6IHoa+st7kLwAfG+8JvyaPgXAWIIiQuTC/4KxQziDl0Q0BOgGfofbiK7ICQbJRJAC/4IogrfC0EKHAfoAeH7uvVU8Mfs6uol7c/xk/QX9e7zoPNU9bD3ifv2/wUEMQisDMIR2RPbEowTxRQMFKITlhT/E4QR+A4zDTELUAa5Aaf/Z/2Z+/X5kPeP9IzxQvBU71zupe6R7uDtyu1o7YbsWev96SzqI+ue7PvuSfBM8e7xzfGF8X7xh/Oj9z3+5gaqD7QVPxX5EI8P/xBLEjUWdxxHIjUlRSHbGW0QrAX+/5z/+ACeAVYAY/xb9bDtNejt5Cnkbejc7/H1yfnr+2T80vtg/CwASwa0DFcT2xiDGyIcSRvnGJYU3xFnEyIUIhKID6wMFgj0AZT9u/q/91j1VvR783jxXu+37RDsduon63ztK+3z6+jr3esi6+3pkeui7gHwIfFn8sLyvvAr7inu7vJu+0UFxw+7FT0VkRH/DoUOEg6oEr4cCyYeKmYnbx/1EnkGEAAm/7v/2wDSAQr/DPju77/nQOB03fbgUOgJ8G72ofuC/X38KPwT/qMBBgeFD44YGB8JIvwgkhzsFqwUFRX2FOUUIBS2EXcM0QQi/lD5I/Zo9Qv2cPUa89zvV+wI6iXqrus57dbuw/Dl8WLwh+0W7ObrOO0p8T710vWN9Fr0yfJZ72bt0+7g9Jz+HArmE/QWhRO2D5EOxgxUDVkURh45JvsnRCTxGq4MAwGA+536u/tF/QX+1Pq88x7s9OQP3yneTON867rzm/rP/2gCMAL9AZwDnwXMCZkRcxmwHusgsyCiHVwYLhSOEaoPAw/gDiwN+wiGA2/+Bvrr9ePzMfSu80zyYfGT8Jnv1+1T7Vfvy/BB8b3xQ/G27z7uf+5U8AvyifPa9I/0EfJ77kjrYOot7lv3kQNfDooUBhZ4Ez8PmQu/CngQ4xp2JIgpryiMIbsU9Aa6/dD5t/ie+SL79Pkh9fvtWuaT33jcOt9k5ZDsEfRZ+24ByARnBu0HGwk5CwEQBRYtGxEf/CBjIGkdYBl8FYQRVQ5/DBILZQgsBBEACPyx9870w/MH8zDyafF08cPxaPHp8RPz1vMw9PL0Avb/9NHyNPJf8tjxz/Er8370IfRB8knwzuyb6NXog+4b+L0Dwg7uFmUYORQaEJ4MbQt8EJ0ahCT+KB8npB+fEiME5/lb9DHy4PJn9KL0bPHQ60Tm7uBm3tLgp+ag7mv3ZgCGCIwMVA3aDS8OTA+qEmEYdR4VIrMiTSAYGwIVEBBzDDYKBQkgBwkEVP9I+nX2Z/OT8irzwfNj9Hrzi/IM8+PzuPWw9+34Wfqs+sj5+/cM9TrzPvKM8SDyYPLu8Rzxc+426gvm7uM45mjtNfkHB3wR3RaXF9ITLw4wCycOTRaYIOspbC5SKpoe5A+DAWv2HfBB793xdPO68vLubOhy4TrcWNt+3v/k1e6G+eMCwAkHDicQYhCyEPMSnBajGksfLiM8JHIiER50GLESYw3HCW0GhwJ7/4n8EfkI9jT0ZfNL8inx3/DJ8MbwBPIb9dP42/u//YD+Z/1h+r33N/WT8gny5PJr9IL1ifT78Qbt/+Uk4O3daeC46Ib27QXPEicaKhp7FEgN2wgNCpwRdR2oKS0x3S9FJvkWSwVl9sbtkOuL7Vjw0PF18Ejr+uRK4PbdKt/U46rrEfWT/ZQFtwzOEXgVxBfFGDAZNhkwGooclR4qIDkgbB3bGNcSwQuABAr+tPkO96P1N/WU9BH0y/O/8szx9fCK8B7ygfQL+Db9LgFlA0kEYQOgABH8cPeS9CTz7vI39Cz10fON8Mrri+XZ3jjbcd2g5DDwAv6iCpwTRxbkE7YPzwumCiEOVxY8IJcnwinCJUocQQ/uAb/3UvFM7nrufu9V7zzuPeyq6Uboz+gL6wzvDvSl+bH/zwUiDAASeRZTGQYbghsbGpAYRxgZGOgX8xeJF5AVihBoCZ0CFfze9dzxivAy8TvzcfUZ93/3PPZW9V312/UV+N37RgDbA88FrwbZBBwBvv1T+tH35PWy8zzyfPAn7rbrU+iu5NHhWeCA4bnltezi9cz/Wgj4DUEQnw9gDdoL7gybENQV9BoAHikezxrrE1wL/wJ5/MX3LfSO8unxRPEL8TfxXfLB8yD1NfeI+e/7ev6oAaAFEQrkDoITCxd6GGYYrRcGFsQTkhFxEAgQ5Q6+DHYJNQU3APn6GPcE9T70UvQb9SL3Dvnj+Zf6jfvw/AP+9f53AKABygJTBDMFIwUVBEsBZ/1J+aT0rPAB7jvsx+uP65Xq3ug05v7jb+N95PHnre3w9Kf8jgJHBvwH7gfQBx8IJgpNDuMRhBRoFrEVzxISD7wKGwdTBHcCzQFHAB3+3/z1+3X7zPvg/HH+kf+pADECCgOlAwIF5AYqCScLLQxzDMULOQrWCOMHUQd6BwYIbAiYB58ExwAp/UT6Jvlf+m79swB1A0QFMwXwA2kCpAF+AnsE7gZ3CJoIvgeHBZcCQf+z+9v4PPZ/87rws+0h6zLp9ee152nnweZn5v7ls+Wo5tzoMOyk8BP2NvzkAM8DEgYDB5wHfwhxCW8Log1CD6IQxBDtD70O6AygC/cKGQr2COgGgwSkAgwBgwB5AQgD7QR2BpcGlQWaA3cB/P9E/9v/qADiAC8BNwEYATMBmwHTAisExATXBBsEaAKkAA4ANwFTAyEGoQlCDDIN+Qz+C0QKQQgMB2IGvwUSBfYDfQKgAJn+avyv+a32p/PI8Hbuvex36wnrY+u269fruutr64nrfuxs7vPwXvNe9ZP2KPeg91L4CPrO/HUAogTYB2kJdQmACIYHVwdFCAoKNAzSDTQOgQ3SC7QJvQeeBv0G8AdHCKgH5wVKA3sAJP68/Jn8l/32/hEAbwDU/5X+if1+/Y3+ZwB8AmkESgaIB90H3QfbB14IlAkFCy0MyQwDDc8M+AuBCqkIowZ0BG8C8QCp/zP+7vz1+/T60vlx+L72/PSP85zyCvJ98THxifEE8tDy3vOU9BP1NPUc9dr0ZfQ+9Gb0LPX89j75Z/uD/UP/qQDbAWwC5wKvA7kEdgZXCM4JpwotCpkIswZ5BHQCTQHPAKEALwBB/8n9Avxt+pH5O/rL+5D9tP/ZAVoDBwSlBGQFHgYZB4cIVArMC8oMpQ0TDsANHw2rDAwMQQvQCnEKowknCCYGUwRTAiQApf56/X38tvvo+j36mPks+Sr5NPlb+ZD5iflv+Un5TPmb+fX5efrk+rn6G/ol+Q34Ivdw9iX2ZfYC9wT4Yfll+gb7sPtJ/BH9M/6r/6sB3AOABXUGtwbdBRsEHAKRAEz/wP1//Gv7B/qT+GD3sPZ19tT24/dD+Zj6APzZ/fb/TALWBEUHlQmCCwQNbQ6aD0EQqRACEecQSBA9DysOLQ22Cy8Knwi2BtgE2QIJAaT/S/45/Rz81fq++cv4XPh++An5Kfpm+2r8R/3P/ez98v0U/mX+9P5H/0r/IP93/n39cvx0+7z6avqR+uH6DPsD+5r6L/pE+tr6IPzj/XP/gwD4ANAACQDN/rL9Hv2q/CT8ePsG+h74b/Yw9aX06fT39UL3m/gv+n/7hfzB/ZP/KwIPBbgHWQqgDA8OBg+PD5wPXA8fD1wPnQ81D1sOBg0VC/kIvwZwBHwCBAEAAD3/Xv43/dz7hPp7+fH4r/ij+P74tfnB+gf8Uv1f/mr/xQD3AdcCYwN6A0kD/AK5AjICXQHDAHUAPwAFAIn/iP4S/ar7tfoa+vr5cfpK+2D8F/0Q/Zb83vsU+2b68vmI+dD48fcn90b2b/Uk9Sz1T/XN9a323vcL+X76h/yF/pUA5wIHBe8GsQhjCgEMRA18DrMPZhC2EHQQgA8HDhkMXArSCHgHrAb3BTIFMARTAtf/Vf02+835HPkO+X/55vkS+gb6xPnP+U/6Xfsz/Tn/CAF5AjoDnAPjA/QDDAQ7BJAE4QTJBKUETwRzA4oCeQEHAKj+nP3V/EL8AvwI/M77gftE+7j6G/qG+fj4Q/hE9332x/Ue9QP1MfVM9W/1nPW59f71nfbO97T5EPy7/ugAkwI2BDgFAwZBB8YIYwrbC0UNRw48DpcN2gyoC1UKXwmRCNIH9QYyBqoFoARXAyYCrQBV/xn+6vwv/J/7b/vB+yb8u/w+/ZH96v0y/rr+QP/Q/9sA6gHSAlcDbwOcA7kDswPSA/MDtQNDA7YCAwJDAW0A9f+S/77+/v0b/f/7QfvQ+pn6dfo2+v75jfmu+KH3ifai9UL1b/UL9p/23Pb69hT3Jfc+99H3NPlN++f9mAAQA7QESwWIBZ4FowX8BacGqwcRCV8KLgtCC1kKrQiqBs4EgwPUAhYDNQQnBZYFgwVRBC4CNgA2/xD/T/8tAGsBAwLSAQ0B4f/D/jr+1f43AI4BzgLUAzMEBQSQAxYDuAJ1AqYCEwPjAmcC/wE5AScAMv+K/gX+Xv3Z/FL8e/u3+ib6sflt+Tv57PhF+GP3o/Y19lr2OPeA+Nv56/o++9H61vnG+Hz4PPnG+g39uP8TAr0DVAQDBEcDUAKiAXwB7QH0AhMEEwWoBaAFJwUhBAwDnwKrAgUDjwPZA9cDkgP5AoICsAKSA9QECQbgBuMG3wUbBDkC9QB/ALwAjgGOAlMDtQOUAxkD2wLwAh8DYAOnA7EDNwONAtwB7gAyAPX/3f+q/2r/9f7n/Wn8APun+YL4C/gZ+Hf48/g3+SP5tvhk+HH4nfjr+Gz56fk++mz6lvrq+mf7Sfx+/YH+VP/c/xYAbQDSAC4BigHPASMCZAIZAoUBBgF8AEkAhgANAa0B5gE6ArICmwIoAqwBbQGlAXYCCgTABf0GpweOB9sG0AWpBPMD1gMrBLcE+ASWBJYDUAJCAdgAMQETAjYD+gMSBK4D6ALZAb8AEwDP/8D/KwCaAK4AiwDy/wz/9v2X/Fj7a/rE+YX5f/ly+Z357/kv+oD6u/rE+on64fkm+Y74V/jn+Aj6i/sF/fX9Yf5R/if+HP5W/i3/PwA8ARYCgQJxAisC2QF8ASQB4ADCAMYAxwDZAP0ABgEYAUYBiQH0AZ4CWgPmA3EE6gQmBVgFiAWjBZcFfgVyBWcFIwW9BGYE4QNjA/sCWAKNAeUAvgDzACYBXAGAAVsBBwGyAF0A3/9i/zP/5f6b/rP+j/4r/g3+Mv7t/T/9p/zk+1P7Mvtc+9j7Fvwe/A38j/uq+sH5H/np+Hj5XPoF+5L73vv4+zP8sPx2/UD+8/7E/2YAvQALAWMB2AFAAtgCUgPiAkUCvwHgAFoAfADDABkBpgEqAlICKgJFAsoCRwPjA7cERwVbBTcFFQXLBHcEVQRYBEoEHwQGBMkDDwMsAtsBxQFhATEBIQHUAFQA8f/x/wAADQAXAPn/v/9W/8r+X/4y/g/+AP4m/jL+yf07/c78Ovzm+837jPtS+yT7B/vs+sj6ofqW+qb6hfo/+vP57vlI+u367/s7/Yb+Yf/g/zUAcgC2AC4BAwLlAokDzgOXAwoDWAKKAeYAtwC5ANEADgFyAeQB8gHgAesBzAGsAd8BfgJLAzAEOgUOBmAGIAZSBUEEYQPQApgC1QIcAyADDQMBA9ECSAKqATwBEQEsAUwBOgHxAJoANACo/xz/vf6L/mz+Yf5U/i7+6/10/er8gvwJ/Gv79/qf+lb6LPo5+oD6svrF+qT6Qfqh+RH5L/mm+Tz6EPv7+9z8bv3L/Tb+1f6o/2wAVAFcAvsCMgMpA+ECjAIVAqkBkQGrAc0B7AErAjgC+QG8AXEBXAGFAdgBiwJgAzYE7AQ/BTIFFQUWBdoEUQTkA5oDJwPCArMChAJEAkQCJQICAhkCewL4AhkDOwM0A3sCnAHfACoAzP8LAKIA9AC2AD0Ajv9n/jH9S/zM+5H7fvu6+9v7nftH++76Y/rA+TL5ofhn+JT4x/gk+cv5a/pr+t/5ifm5+Vv6pvuv/dX/RAGwAV0BngCt//3+Bf8AAIEBvwKYA9gDBAO4AbsA+P/a/38ATAFeAoQDNgSHBIEEMQQHBEEEnQTIBMUEzwSeBCsEBwT9A9EDlgOJA6UDHgNdAg8CFgLAArgDKAQlBNYD3wKTAZMATgDUAIQBXQIpAysDRQK/AFr/LP4R/b38c/13/iD/Mv9Q/pL8SPoT+Jn2MfZq+ID8Lv+t/3L+WPvY9vDyy/GV8xz3jfv9/5gCfAJLACL9h/pu+d35X/te/Z3/SAHZAc4BIAE1ALD/ev+m/wsAVwCkAD8BAQKOAiEDEQQRBW4FDwVxBKEDfAKkAd4B3gJSBNQFdAYSBjwF9gM+AkwB2AEnA7UEIgYgByYHxAW9AwIC5ACTACsBCAKjAhQD6QJQAsMBFAGdAIYAsgAAAfEAdACo/6D+UP3Z+6n64fmF+YH5vfkX+oL6vfqK+o360Pr/+mz7GfzB/OT8lPxy/Fn8gfw3/dT97/3O/YX9yPzL+3X7EPwC/TP+mP9CAMP/l/6f/Vv9lv1k/rv/EAH3ASsCugH3AA8Alv8fAFoB0QIQBNkEIQWaBMMDMAPbAuoChQPdBJYGsgffB4gHyga1Ba4EAQTZA98D+ANJBFsEHwSwA/oCMwJeAX8Asv8L/+P+Mf+E/wEAkwBqAHf/WP4g/ab7ffpK+vX66vvU/HX9ov3B/e79/v38/d39w/2M/Ub9Rv1J/XP98P03/g3+gP2Z/Gn7iPqe+nf7iPwt/Xj9pf1i/dz8ivz0/Bv+aP9JACwAW/86/u/8M/xy/Hf9/v57AH8BRwKoAlYC6gEHAskCsgNRBOwEtQVKBnQGhgZuBusFIQU5BHEDSwPEAxoEMwR0BIcE9APyAmACigKiAlkC8gE5ARcAAv+J/hz/eQCSAfIBnwFiAET+B/y/+o76V/vo/MH+ggBvAVkBnwDL/0b/nf5m/Tb8//ty/Dz9lf4+AJMBXQGi/yL9XPoU+Kj2yPbQ+OH7fv6u/woA9/+m/pL8lfv0+5j8T/2t/kMA0ACKAAIAT//X/of+K/4w/hr/UgC2APwAfwLsA/oDKwRpBb4GigbtBJoDyQI/AsQBugH+AsoEdQWYBMsDWQMMAhoA9P5y/yAAUADfANYB+gJvA8gCowG9AGQAxP8O/8H/gQHDApMDnwQkBQMEdgHM/pH88vpn+vz6fPxv/gwAWQCo/93+tP2L/FX8ff3k/pP/pv97/tv81fuz+z78iPzf/Nf8Ivwu+2r6fvpF+5/8LP3w/KT97P73/58ACwLdA+MD6QGl/4H+0/23/ab/lAMlB+gHHgYnAwIAxvw6+h/6yPzcALsDswT+BJsEnAKG///9nf6X/08A3gGhBO4Gvgd5B9EGNQUBAgr+x/ok+hP8s/9DBGgIqQqkCLQD6/5a+yf6kPsQAKIF4QgGCREGYAGL/Df5pPgT+3L/tAJrA9EBtf5e+nn2XfbA+ST+eQEFA4MCnP9J+533mvZS+Kz7uf4hAfgCdgLn/zH9gvwp/Uz9qf3i/mEAcQBA/1n+n/5c//X+fv5D/8QAuQBF/13/5gC6AcYAQQCIAVwCIAEg/8P+f/9H/+b9vv2o//AAzQAPAWID8AWSBYADVgJUAuEBRgFoAycIagvKChsIYwVCAlj+v/vO/KAAGAS6BOQDkwMnArP+fvs8/Mb/ogEhAmQD6gSsA+n/FP2H/JX95/34/f3+9/8C/yv7g/jA+Nr56Pqd/ND/twHwACz/yP33/BH8FPuW+lz7e/wg/dj9jf8lAjgDCALP/4D9svso+in50vmC+0v8qfvi+s37H/0z/Tv9f/3p/UD+Sv5S/+AC6wcSC9oK2wjSBmkDVv+K/igBhwQWBj0GQgZKBeED6AJ0AzkGswhWCM4FYwM2Av8B+gIaBp4JUQpiB4IC9P6Z/dL8Lf0sAO8DRQSRANf8rfvH+3j8Y/6ZAHkBnv92+xj4B/jm+vz9fACjAxsF4wJa/9D8+/rZ+LH3Hfit+L/5xPth/Tb9Sfvk9+Hz0vH38nn29Pp6/yYCTQCT+4r3jvXT9UT4cfwoAFAB1P+a/bn9cABVA5IFNwhgClMJJgb+BK4GTghyCFwI2Qf3BTEDygFKBE8JugxBDMQJwAc2BVgCkQIPB84LwgxDCjcGpQF1/YX7Ff2pAdMGwghvBqMCEgBg/ij9Sf4XAkcF2wTNAdv+av2U/Nf7M/xm/Zv9TPtK+If3UPhn+DH43viz+YL5EfgB92D3Ufir94T0AvJg8T/xUPFs8hL1ZPfx95H29vRw9Y33gPiO99L4mvzr/lkAGgVUDT4TChTOEXAOlQqCBroDIwRzB5gJ4QcwBZ8EsAQAAzcCqwTcBtwFpAOEA64FIggUChcMFw4TDsoKpAbkBGcF3QUYBjQHHggCB40E2gJwAqgCDgM8A38DGgQXBPECxwGQAWgBQABA/7//ZgAT/9X7GvjJ9CzytfAi8ULzifUS9o70oPLI8BzuFuuR6Tzqm+t77LDtT/Bh89H0bvR8803ykvDU79XysflNAswKPBLsF5Aarhm7FasQYgzMBx0C1f2y/WMAcwM6B6MLwg2sC00H7wJ9/y39T/wf/lMDNgpzD44SHRV0FYUQ2Af//yr6hfXZ83z3Zf/PCKoRRxiPG74aUxWiDHkEqP+5/ez9sgBsBQAJiQnYB+4EVgFe/Xr5bvY29Uz1IfXc9FL1u/U09EPxGO/f7absiesh6/zqpOpP6jPqf+o66/7rKOzr6wjrx+ic5prnQ+1E9pEBbA6wGbEg+iIOIdIblhTyDPwFCAFY/x4AxwH0AyQGUwaoA7j/Gvyb+Tf5zPveAIsH2w4zFbYZJRyDGwYXrQ8kB4z+PvfO8rrxGfNn9lT7VgCHBDEIOQzSEcUYGR+LIvchYh0LFWUKdwBX+V31mfTP9q36Sv7lABgCJwFj/sr6Svec9BHzwvIP84/yKPEE8HHvv+557Vrs8+uH62bqDOmr50rlNuF33NXYJ9dS2dbh2PAeA1IUNyJBK+ctAyp/IcgW5AujAnj8wPqC/Av/tQCtAWcBP/4u+fP07vKz8qX1ev0CCb4VNCHzKUwuCy0QJjca+wuD/XLwt+Ze4vHj3OnX8d76XQQ/DNcQ3RHWECMP2QzuC5cP5RciIO4juCLWHM4R9AIO9VXsSeka6inuwvWM/n8EwAXIA93/AfqC8wrv4u2+7qnwefMw9rb3pvdC9r/zCPBH65Llqd5N1iDNcMU/we/Cg86i5TUDrx7AMxtBe0RVPLMr0RiFByz5RO+t7Pjw9/an+uT7xfux+IPyVO0Y7QXyxvozCAMahyx5OuZAhD8jNkslnA9M+u/oZtzO1czWWt8M7A75LASjDL0RvxLKEMUOKA52DRoMswsPDSMOAQ6MD9kTYxeFFn8Sdg3EBn7+Gvc88yTy5/GD8qD0Evd+9zr2WfXU9bj2qPfE+U792wA/AoYBNP84+izy1ujm4BXakNLMyZPA5rcQsZ2wFb0b2u4CPSzyTeZkCG0yYnRHmSX+Ajbj+8vDw0fKUtg25+30vQByB3IHSwQbA50FoQsdF5AoxzqdRuFIEELLMuMbrgDH5hHSPsQdvzbEENM46Br/jhOGIoYq2SoJJLIYmwxPAn/76vmD/T0ELwsnEBYS3RG1ETURjQ6YCqAHkwQ3/w35HvSq74jqneaQ5gbqHe/39Bv8VgM0CHAKawuhC0IJKQMt+xHzs+kK3sfSW8qow668R7Ydsy6zobbcw2rj7BHLP9pimXn/f65v7UtSIMf0/M0ws/mrbrd5zOvimffOCbgW/huHG6cZiBgtGTwf9isvOoJC8EGzOCUnNQ+P9InbIsdfusC4YcOo12rwvwg2HZcrxjFdL/Am+ho3DdEAx/lo+Zz9RANKCGYLqgqPBUH+wvYF8hLzvvgQAfgL8xXmF2oQfwNC9LflUNvk2MbfqeyZ+3MK9hUPGV8TZAg7+9LtH+FH2MDVdter2SHcoN9z4ZXfm9qr1b3SANGD1M3nvw56OrZZ12m7bFpdlTjDCQHfBr2YphykrrlP3B3+6RkSMOs9fD6aM/QkFxjjDeEJvxAdHl0o0ipAJkMaQwYF7jDXx8VrvGu+/c1x6MQGmyFoNexAIEImOKQlrg8g+n/oR99h4C3pIvRl/dcDnQYmBIb83fM87n3tLPPm/zgRWyEiK00rkCDbDKv0Sd1zy9fDd8he17LsxgKDEzkaIxZBCnP72O2W4gTb1Nl14G7rA/Wj+5n/8P6h97LrRd8J1NHJl8WN1Fb7JyihRkVWelxZUqIznQw76ozO1bx6v4fZWP58HtQ0+0LrRis80yXNDev5KOvJ5t3xfwV3FaYdaR+1GXwMt/sG63fdUtdP26zoOfy1EIQgLCmiKrMkwBdvBuj05eZT38XfGedn8c/6pwFuBcAFtQLr/dP5QPi3+kEC3wwbFzUgtyWQIeIRRPsX45HN3b9avobJLN3O8zwJhhg1HSkXcQuj/9/1D+5P6kntefMl+BH7Pfzo+E7v4ODn0JTDh7notHzC0OyUJlZUsm3Teh14cVs4LRAAr9ljuymwisA04zMFoh1FL5A6MTl1KekTsQDg8Yfr9fN4BwMZhSGAIuUcpRB//y/sbtoQz3PNe9ZK6YkA9hRyIwQsYC2rJfsWTAVZ8z7kctzq3c3ktewo9A77hwDSAjUCRQHhAZADjgfBD9gZ7iGdJLYecw8m+r/iis0/wOO9q8aI2CbvNgXsFGoanRY7Dn8Ff/4L+YP1iPZP+7j+5v1S+VvxdObL2bTNxcWqwsnDPtJJ+loy1F4Zc/p3HnCJUrkiu/JwzRG0t60OwoLoVw3DJJYx8zeyM18hdwgG9AboXeY18jUIaRyDJR0kqRxaEBX+bOgg1s7MUs5j2s7u5gWGGG8jXyiNJ6weQQ9R/iPv1OO730Ljpuqh8VX2UvrN/uABRAJ+AtkE5QiSDesSPxqfH9Yb8Q91AYbw69zfy8/CecQt0Kfi3PjcDF8Y7BpIF3UQGwqbBbMBAwD/AY0EIARO/rLz1+fp29DPycZ2w+HDFsk03JIF/TvMZb92p3e2a7hLLxzb7S3Kd7Oar8zDrOfnB04aGCMUJ/oiIxSTAXv0c/Dh9WQFCBuVK40uFiU9FSwCQuxX1s3Gf8PxzPnfgfiMEMIhoSnMKWEj/xYrB+r22eno44HlOesx8o74Ufxt/Zf9of2m/Bz7bPycAkcLHRMwGdgbzhfIDCr+je4d38/Sxc080vbee/CgArAQExjQGVIX5xHUDH8JOgZhA5sCWgKh/tH1Hups31vX+dAEzYbNldJQ2+bsvg/hPQhhLGzfZzRaQDwkDyTiLsG4rgyu6sLH5iEJkx6VKYYvzC1TIBMMjftU9Pr1nP9+DoMa/Bv/EqUFDPhQ6SrZVs630Nbe//FXBoAY+yIUJDIfPRYtCdz5G+zN42vjb+k88dL3JfyW/aj8APtr+ej3hvj4/pwKZBYsICYn9SaQHYMObPzd6EHXg8sfytLTHORZ9zwKpxfRHT4eeBkZEhoLuAQSAFf+vf5O/3z9ovcY8Mboy9911QTNMsqfzYTWCusfEk1ArF1zZfBin1WpNHAGy92ywuWzobWSzL7uWApFGkgkSipTJkkW9ALa9rv0WPlKAy8QexhHFnEMkQH19abmCNfg0I/Y0OdK+J4ILRbyHAgdBxgXDjcBZvTZ6qnou+3k9Cr6ov2dAFYClwCh/ND6I/xRAIEIvRM9H0smPCQwG0gQzwFv7r3ciNJz0XDYQuWQ9iQIzxP0GLkahxhEEkILqAWIAl4B2QBFAJj98faf7afjBNk/zkDFXsJTyVDXUeuXCxU3w1wibspsaF7NQSMWnuYFwuSsfacStYvTzPWVDyAf+ifSKeggMA8S/nj2wfmVA7oPuBp7H/4Z1gwk/W3r9ddfyXrH7tJO5nz7XA6MHA0kqSMZHHgPsQDJ89Xs6+1K9V/+3AVgC1wO2wytBlf+RvfF9BP5mQPXD34YChyCG0QWYQuE/EntNuKE3j3i1Ouy+LsECw2uEeYSvw+lCBEBKfy++Sv5s/p2/Ff7u/ZJ8NLojd9r1IfKbsYdyrTV6+pqC6MyulQgZ8FnXlnyPCcUr+ecw/6uU6uDuHHTv/IWDIobkCJYIhoaLgtB/NP1JvshCIMWKSJzJ64iNhQuABXq59TdxRnDj87F44j79BBJIQYq8CkoIcMRsgD+8gXsIe4m+HcEXg6LFC4XghVnDT0AfPRH74bxmvp6B24Tixv8Hewa2BMmCGv4jOmY4EnfVuRt7LP1i/9vB7wL7gybC5YIJgRx/g36qPgv93LzWu9T7D7oHOBV1VbMK8dlxorNYeJlBmowTlGLYuhmXl2hQbsXb+x3ypC1oa9GuwnVVvF3ByYX3CA7IWAWoAVr+Fr06PhXA3sR4R/hKJYoDCBGEUb8ReSL0efKMNBj3Arso/6WERwfLCS3IccY/wre/ET01fMV+VAAygivEqobEyA1HWgUZwrXAYP7XvmO+xr/JAKqBJIGlga7Amr73fNt7mjrTuvk7oz1Uf1RBDgKmA41D+kK4gN2/JD0eOxg5gjjPuBi3N/XHNMfz7DNo8/W15vrtgmRKFtBtVPTXGtWZEADIskB0ONNzdHCUMQEzuzbyOsm/NIJgBCID7cLrgm8CYQLmRC2GPYffCOGI4sfAxW+Az7w7N8T1erPktE32/fqfPx4DK0ZryIrJYEgWRc9DRwEkv3k+2oAjglME4kapB5lH2QbDxLMBVL6K/L27antOvG19pn6KvzG/aP/Ev9z++n3hvfj+Rz9pACQBOsHHwknBzUClfvk83jq4d+x1vPP0MlfxB7DLMe9zkfcz/MaEBUn0DbwQj1K6EcKO5onwBKQ/xfvi+IC23zX+tVq15feEupq9Bf8TAXZEXkdHCR/Jkon3SapI0IdKhUZDDEBhvWB7Bvn3OIF3+TeneW68V/+nwg/EX0YghyXHIwZlBMNC5ECMf7b/yoFjAr/D/EW+RztHWMZRxIiClkAaPbr7x7twuo06CrojesV8NXzbff8+88AfATRBowIoAmYCPkE6wBT/dD3Uu/p5RbdA9SLyoTDn8EexMPKiNk+8ZUKrh5/LSc4zzspNlUq3h31EtII2f/d+ST3ofSh7zXq9ueg6DLq4+1U9sICiw9rGjoj+iiRKTQkxRqOEOwG5Pw48yrttOu17PTuM/O5+cEARAaiCkkPGRPJE+ERvg8bDowLIgd8AkX/dfxa+W/4gvuOADcFGwpSEOIVoxdUFaoQ4QmRAHf2DO4I6IDkYORc6FzvI/cB/hEDBwbHBuIEiAD/+kX15+/N6/zoHubn4qHg0d8G4A3ir+d18Fn5CAGtCLYPRRM1ElYO1AlFBQoB6/4yAHcDdgbYCL0KywrNB/MCP/9a/vH/9AOiCrAS4BngHqUglR1YFaoJXfzg7pTj0twS27zdzeTr7/P8FwmgEmAZrh11Hw0fwh1rHGsaNheyE6gQygzuBcX7bfCj5tXfv9yM3tflmvECAOIOWBvPIjQkpR8kFvMJov2n8lHqfeYr6P/t4vRZ+n79sP1E+vjz0uyA5gjiVuCH4tjoOPHb+P3+igRTCZULwwo8CP4EiwD9+hj27vKc8Ezu7Oz67Tfx/PQi+RH/DwZ+C6gO2hAXEi0R9Q7zDSgPjhFJFHkXlBoeHFUbUBiFEo8Jff4A89fo2OEq38PgWObX71/8GAnfEhMZpxy0HTQchRlGF5gVphM4EZ4OTAupBeP8Z/Ko6NnggNul2n3gzOuQ+Z0IpxcRI8sn5yXZHp8TqAWP98vryONU4J3hh+aA7M3wefI/8pHwQe1L6b7m9eZJ6kzwr/en/soDmwaCB+MGQwSA/xD6nPWz8nbxF/Jr9BH4rfy5AYMGJAouDHEN1Q79D+cPTw7nC2AJDQeXBYkFeAZtCDMMDBH4FCoXpRf4Fd4RwguMBA/9A/YX8T3wNPMV+CX+QwUuDN8QLxIPEQ4PzgzXCg4KVQotCokIzQVAAqb8ffTu61flaOGn4E/keux5918D7w5rGLscDRrjEa0Gxfmm7KrhxdrU2MjbzOLS6yD09/nn/Ez99fur+VP3RPZs92v6Pv7EAfUDLQReAvT+cvqt9efxOvAy8av0//l7AKEHow5YFBMYmhnsGPAWDBWsEz0SQBCyDf0KVQh8BXECyP+Z/rf/oQJcBoEKmA5nEewR9w/pC0QGwf+z+aX1SvRM9SD4UfzlAHQEBwb6BSkF1QNsAscB+AEcAlYBtf+s/aH6uvX27zjrQ+hs54Dpx+479lL+OQYlDQERCxDBCs4Cn/l18JfoReNC4Z/iK+ch7qX1qftc/1YBXQKJAiYCRwJOA+gEIQc+CdEJgAi7Bd0Bmf22+Zf26vSA9ZH4mf2VA7UJOQ9KE6YVvRbhFjUWGxUAFP0ScRGZDp4KHgY/AUH8Ofib9iD4E/xKAUcHHg0DEdcRqg+uCjQDwvqe80vvze1/7ibxb/VZ+rL+nwH+AjEDjAKZATwBigGoASEBSAAs/978gPjh8tTtPOp76HnpWe0N8+r5pwEJCfgNEA+EDGQHbwB8+AfxbOtB6KnnxOlK7q/z+ffq+rj9ywCUA/kFjwinC8EOERH1EfUQ+Q2FCXoE1f81/MT57PhZ+iL+ZQOvCOgMDhCAEhEUlRR2FAsUUhNJEuMQ3Q6jC+oGUwEB/K73jfQY8y305/cz/dIC3QcvC8wLewmGBKL9H/ZX73vqluj16QruwfMI+hcA9ASWB7gHGQaOA68ARv74/GH8XvvT+ZD4Q/fS9JHx3O4/7fXsb+7e8ST3W/0IA2IHLwreCtMIJwTC/ST3pPG/7bHr5euA7gfzofi8/ukEbwrKDiMSzxS7FnkXzxb6FCwSmA7ACgwHmgPhALP/IgCnAdsDgwaQCbEMQw/tELcRmBGcEEgP4A0ADGkJUQbZAgb/N/vr92719/PD8xb1s/fT+pP9K/9A/9f99frO9vzxL+1e6dLn3OjC6yzwxvVw+10AYAQUB+YHxAZBBCgBJP59+x75D/ec9fH02PT89BX1IvWk9c72KPjL+Qn8Xf6KABkDzAVqB0gHugVNA0YA6fwE+mj4Gfgg+RD89ACsBu8LfhCqFB4YABonGjkZxhfOFVwTDBEqDykNmAr/B1AGrAU5BXsEGgRvBMwEzwSdBAcE7wKbASEAff66/On6QvkS+Ib3RffU9mT2VfaG9gr3GvgL+SH5mfi190L2VfRB8j/wjO5X7bTsveyu7azva/KP9ev4CPw8/kb/Xv/K/pb9zfv8+dT4ifgi+aj66vyW/x0C8AMVBWYFZAQDA/MCZASBBvgIHgzND6cShxPWEiMRGw4JCmoGcgRFBFcFOQfACXkMgQ7+DgkOywwDDGULBwsoC3UL2gsaDH4LxwkqB94DsgDI/ib+Xf5l/zcBTwNPBCcDLQAk/EL3O/Jd7jvse+uJ63nsge6s8Ljxs/Eg8RbwDe9y7jDur+5J8CDyRfPU8+7zGvM18e7ua+1h7cTugfGp9ez6mgDgBbAJVgsYC3wJ6AYhBCUCqwEFA/kF2wlUDtMS9BUoFwIXqxUQE9cPUA2fDLoNpg/0EZgUkRZ6Fj4U9xBODS4J+QTQATgAn/+I/xkAcwEJA9ADoAN9A7kDcwNcAl8B3wAmAI7+QvwP+kr4vfbE9en1o/YC9zL3Afg1+bb5HfkA+GT2k/PR71Ts3Ol46PnnSuiE6Szrbuxa7YLuye/z8C7yWPN59EH23PiL+7j9S/8yAI0AvABAAcMClwWICUEOBhPHFgEZshnZGJoWOBMGD44KhQbxA6UDDwUgB5kJ9QsfDdYMgAtQCY0G8wNdAikC9AJgBKwGvAmbDGEOng48DWcKgQZiAiP/Zf0e/er9S//8AKcCZQOvAiIBaP9d/dL6Jfgt9lj13PTe857yR/F476Lttuzh7OPtou8K8m30efUP9WX0m/My8g/xdvGi8yP3Tfvi/+wERAlxC6kL7QqFCZwH4AUeBUYFQwWpBNgDUgJb/7P74fhe94n2IPZR9w/7BACHBOgIWQ0MELwPdA2/CvQHpgSHAaYAdwL/BFIHUgreDW4Q2BBuD14N0AqbByAFwwQrBjUI/QkwC30LtQmuBe8A8/uz9jDy0O6o7DDstOwJ7ffsduzz6ybs8uyw7ibyx/bF+2kAmgM3BcIFhQVoBbMF/QVfB3MKlA1yDw4Qpw8UDlEKWQRa/sP5ivb19Dn1MvcE+ub7b/xs/IH7m/nw9xr3JPcu+EL6yP35AdMEKwbiBlgG9gOwAET+6P0U/yAB0gS9Ce0NphAEEswR2g/+C6cGJgFD/Iz44PYK9+j3vPgf+Yb4M/YC8mPt++nd56rmYOdA653xV/hY/tUDiQiVC4YMPgyuDGgOXRBgEs4U6RbOFxQXoxRQEfcNpAqpB2gFhQOfAYn/EP1O+nL3ffSS8WbvZO/w8ar1ufkF/q0BAwSqBCQDpADk/lz98vs2/BP+cwBAAx4GiwgRCrwJ7wckBkkEIgKTAMP/T//S/pf9vPt/+S72D/Ic7onq1ucm5ivl4uVA6LjqPu2z7yfxkvKa9HD20Phx/CQBbwcLDiUT5BdGHDYe5B0mHEQZuRbxFEETNxIDEjASERIDECgMEwiAA4L+JPqR9tL0LfWW9Zb2n/mp/Jr+MwDnADgBCgJ7AgIDKQTEBHgF1gYtB2EGdQVgBHcDOQKi//78Ivtj+UP4qfcM9xX39fbg9Rb1J/Q78rPwhu8w7qPt9exe6yDqluhM5rXkjuOW48XmnOtr8bz52wK6CjcRZxU5GO0akRulGtUaixsQHCQcgBpnGJEW1BLADQ0JfwSNAPb8hfk/+FT4v/cL+E75mfpI/ZAAkAPQB+gLqg7cEToUVBS8EyYSUw9QDEsIBwRLAdj+YPzz+uf5TPnt+I/3bPYO9h31VPQs9CD03vSj9ZD1rfXQ9K/xsO2J6JnhuNoR1U/RNND10QPYI+Ld7Hf3FwO/DQMVsRi5GjYdhx4RHeMbvxxCHZ0btRcFExYPUQoBBBP/z/y3+8j6k/r6+6n93/0g/tz/6wHwA28G0Al3DqUS1hS+FrAYnxiCFrITFxG3DkkL4wZTA4MATf3g+RP3mvUh9cz0VPUu90P5b/ub/cz+If+r/pn8EflQ9FXu8+dZ4bna09Uj08HRs9J612DfPOiR8JH5XQQKDvwTeBjaHSUiUiLyHjobkRcYEesHi//D+fX1H/Pe8UL0O/kX/bX/nAJqBB0EGQPbAhIECgYjCMUL1xBMFAwV2RSQFBMTfQ+XC8QJRwlWCCAHoQYWBxcH7QTtAS0A0/7G/IH62/jZ+PL5Uvq1+oL8NP4o/or81Pn99QHw3udV4CTbFtdO1IjV3tvC5K3tpvfJA+YOUBU2GPUa/RyRGvcTQw40CzcH8ACx++/5Efp6+a34Efr5/G3+tP5uAE0DFQVYBigJFw07EAgSRBPqEykSUQ0DCEQEvwCO/N35E/sj/60CFQXACGkNoA8YDu4KBgg9BPP9c/fN8/vxVPDZ76LxvfT29m73QPf69dXx0utQ5uzhbN6B3IreveX37mn3RwASCgcSVBVbFKQShhFWDgAJHgUtBJ4EegSdA/cDswVvBokFeQRbBPsETAWkBVEH9wn3DEUQ2BJrFJQVHhUOEhgNAgfzALv7L/c69Cz0wfbQ+jr/pwNlCHUMVA72DQMMGwlKBef/8flN9ejxTe/g7VrtTe2s7avtW+yf6fflS+Jk343dW91z4BTomfL7/HsGcg82FkQYFhVfDz4KDQV4/jH5Gfjg+fD7p/3K/7ICWAW9BmgHmgjXCoANKxAsEykWsRjZGsob/xo/GUwWeBF5C8YE1P0u+Fb0GvJv8un10vu7AjwJHw8+FPQWCBY3Eu8Mwgan/4/4IPN+7wrtAOwb7HrsmOzJ6wjq5uf45JLhj9973xbhsuUp7oX4GQJJCqIRnRYsFqwQDAoaBFP9vfXr8C3x4vPV9cf3S/vo/j0AXf/D/mIAHwPEBTgKYhHUGP8e5iOFJsolnSF2GnIRNQdH/PvyNu1s6kjqk+1Z9D/9QQZmDqQV+RoFHYgbNhdiEcsKhgPa/LX3g/Oe8PzuCe3W6vzomObT41Phm9+J4EjkcOlG8Wf8pQd3EJ0WKBpoGsEV5AyXA637X/QN7sHqG+yc8Pb0y/j5/EQAeQFlAEr+yv3D/sL/wwL5CCIQ7hasHEIgliG8HwMaDhKZCAr+z/Re7pTqzuk+7KTxM/k6AcYIWg/PE5AVyhQiEtUO+wpoBo8Cyf/7/L/5f/UI8EDqCuRo3Q7YWNXm1RraiOFm7Lv6ZgnoFOgcNSLcI7UfThb2C6EDOfzB9Gvv2u4K8i719fZI+Y/8tP6H/nv9Iv4JAcsENAkFD/IVyhzGIXgjLSJ2HrkXDg5oA675hvGI6+zoFOrV7VTzcfpCAvoIVA3EDy4RvxCiDV0JywXIAkr/UPu/97z0JPE07JfmZuHo3NrYRdY41+LbSeO97bz6mQcpEtYZXh6oHq4ZchHVCa0Dlv15+OP2NPmx/Ib+9v65/0AAp/5s+7v5iPts/wsEUwqIEtoaLCEuJBIkoyFWHPoTqwoxAp/6avTU8DfwhPGl87P24/oo/zUCMAQzBlEIUwkOCfMIVAmyCDUGcgKy/Tv3qe4B5dzbONTPzrDM1c5x1QzgJu4i/toMOxhWILQkQCOfG0sRHghlANX4/PL28Vj1Uvmm+4r9MQAfApQBmP8G/1oBRwV3CbgOdhXdG9EfZCD9HcMZ4xMbDOoDFv0A+C/1zPSB9cL2bPkM/Zf/YwDYAOoBCQNrAz4DqwM5BWQGsgWjA6QAGvys9SjtbOP02hDVmNFd0XnVC96G6qD4bAVfEKoZZB91H8AajxQHD3EJLQN//sb9bf/4//7+cP50/oP9Z/vH+Uv6vfzk/yEERgrZEBEW5BlCHIMciRq7FtQRYQxBBv7/EPt89/3z5PDI74vwlfF78jb0aPdg++r+NAJhBpYKkQwNDP4J+QVP/2P2V+zO4jDbAta300DVWttC5aTwbfstBcQNzxPxFfUUOhMFEpIQWA6cDJYMdA02DQILwQd7BBMBMf3Q+Y/4ufnX/MsBsAf5DE0R4RTLFvsV3hIWD8ILWAhZBCMB6P+X/5v+2fwE+0L5HPdh9PzxPfEb8qDz0vX/+FL87/56ADQA3/0m+kH1eO/c6XvlUePj44fmAOvZ8YH5HP9dAooEFgWrAmr+nfsZ/Kf+2QG2BoEO2BaFG+gbgRr5F/IStQsEBV0BoABjAdADawiRDXYR4xN8FMYSYg9GCx4HWwP//4j9Gf01/sr+W/5S/sj+yv2t+lL3QfXq82jyPfHB8erzxPU49hP2Q/Wz8qDuIeos5sDjaOPR5RnsOvX1/cwEeApGDrUNDAiGAPf6Z/c59OnyaPYt/oMG7AzAEfsV5xi0GGoV8xGJEDIQuQ/eDz4RZRNZFb0VhRT1ErkQzQw0CBsEVwBJ/YT7p/po+qP6q/pA+qb5Yfgr9in06/Kv8a7wuvBk8QbyI/LL8ObtIeq45cXhvt9D39Pg1Oas8Hf6awKkCS8QrRMiEg8NDwhBBBYA3vtX+nb8QwDgAwUHagpqDrcRDxObE58UchXBFQoWJRYRFiAW1RW/FPgSLxBzDMAIUAWvAW3+i/xF/F79Dv9XAGsBYAKSAWT+Vfrk9azwtusN6KXldOQo5DDkyuTn5ZTm5ObJ5xzpgera7IvwdvTw9077mv5OAcsCQQPpAwsFowXPBYAGbgciCPIIEwp1Cy4NXA/aEREUuRUpF2YY/hi5GMIXixZWFcQTcxGLDo4L1wjiBTkC0P6m/Kz7oPsP/Kj86P3C/wkBCQFHAJH/kf7K+wv3KPLP7bDoVuKt3OHZhtn22d3bC+H86AvxZfer/L4BxQSiA1oAc/6j/b37jvke+sb9pwFzBJwHwgtbDxYRshFRErASlhLlEiYU5xW0F0sZ0xpGHBgcpxmzFmETvQ1qBoMA7/zo+d/2U/Ut9i74SvkR+dD4nPm7+nX6//iw+PX5zfn99mb00/KT73DqweVz4o7guOAA44Dm6Oqq8Ff39fxTAPkC4QVZB0EG8gMoAloB7gCR/9z9y/9gBUEIUQc7CVQPgBO8E4ETrhTKFp4Y6xghGN4XvBgsGRkX7RIHD/UL1wd3Avb9wfqt97z0vfJH8pnza/UT9h/3Kvoj/Ln6m/if93z1zPD86zHpd+fZ5aHlpedu6hjtc/AK9Ej22fcR+4v/pQIzBPcFjQj7CjcL3gjpBsAGkAWfAkQBOAImA0YEWgdqC1cOfxBSE0YWqxcXF/AVIBVRE6kP9QuzCf0H3AWBA2UB8f90/v/7ifn992f2tfRX9Nn0d/TX83n0cvUr9dvzh/KI8a3wt+8k727veO+97q/uhu/e797vM/Fq9J742PzJANIEBQmgDN8OMw/RDQ0MKQuxCg0J1QbJBm8J7gs1DCUMJg7xECIS4RHBERgS8xGYEJkOSw1DDE8KEwj2BXoD/ACJ/n77VPhA9gD1ffPb8fXwO/EJ8h/yS/Gv8CLxZPFd8K7vrPAl8oLy7fH/8fTyPfOQ8r3yqvRN9+P5VPwT/7wCNwYkCBYJCgrOCt0KvgoSC2cLXwtmC9oLEgx0C/YKmAusDB4Naw1aDhoPGA+QDpENlwyoC+YJaAdxBVAErALr/039wvtB+rL3MvXA88XyDPKa8QPxg/Ds8N3x5fFW8fHxVvNg8/PxOfHL8TfyLfK/8of0N/dC+i/93//MArQFpQfmCAsKsQrcCnALUwyCDGIM6AxeDdEMHAx0DDIN9AwCDPEL+QwbDXUL2QllCR0J+wf+BQkEKQMPA0sCpwBb/7T+q/0A/HT6zvib9rb0TvOV8QXwQO+i7gvuQu4r7/zve/Di8GPxUPLH8/f0V/UJ9tH3z/lG+0j8if3E/1MCKQSsBWgHJgnUCu8LMgygDFkNrg02DngP0RDJEYAS+BLGEogReQ8ZDXkKtQdgBb0DgAJIAXIAfACEAMT/2v4k/m79kvxx+2L64flp+Vn4Ofdy9pb1T/Sd8uvwke997q3tK+057Wnu1vDo8+b2z/n8/Pr/BgIuA7wDlwMuAzMDbQOdAwME7AR9BhAI9AhoCf8J5QqxCwoMcQyIDecOvQ8DEA4Q1Q++DlYMUwknBkACD/61+ij4wfX78/DzOvWY9uL3a/kE+1H8x/z9+6T6bfn393j2e/W89Ef0b/Qs9Tr27vYX95v3y/ji+br6Afzy/V8AFAPYBUAI+AleC3sMqAwFDCELGwoOCSQIlAd/B2gHHAdGB80HzwduByUH5gbEBsUGwwauBlIGlQWEBPoCqABw/db5vfYs9IjxVe/C7pzvsPC38Y/zRvZh+E/5MPpi++/7aPuU+lH6dfpZ+jv6wPrL+wz9iP4XAHIBmQLsA7YFeAeTCJsJXQtuDcEODg8NDxkPUQ5SDDcKnAi3Bm8E7QKDAkcCtwEqAQ4BawGWAdEAl/8F/93+C/5//O76q/l8+O725PTk8n/xtPA48P/vYfDD8eXz/vXi9x76i/wr/uD+hv9NALAAggBKAKUAlgGVAkoD/AMrBcwGPggRCZoJcwrMC0QNHA5MDuEOKxD4EF0Q8w6bDS8MCwoUB+wDMwH+/iT9hPs9+pr5fvlx+U/5UvlM+bn4xvcJ93n2ivUQ9JDysPF38SDxRfDL717wc/F+8q3zQvU594v5IPyN/noAKQLvA3EFTQb2Bs4Hiwj2CHAJcwrCC3YMWAxeDBgNiA3CDIYLIAt8C4oLFQvUChQLVwsGC0QKbgkxCDoG9QO8AVr/tPwC+oH3k/VI9C3zK/Kc8abxKPLY8j3zM/Nu80T0wfRh9Bb0fvTx9Bv1h/Ve9mT3ufh7+mD8IP7U/4EB8AInBFIFUQYgBywItwlMC5AMtg3ZDtsPlRCTEJAPWQ6fDaAMxwrfCJQHqga9BccEAQRtA9ACOwLGAfUAmP9I/i793PtL+sD4OffS9c30zfOV8tzxtPFC8dnwR/H58VvyA/M59Jr11/bV9/b4gfr1+yP9gP4KAIcBBwNwBJEFgwZRB9YHJgh4CKcImwjaCJsJXAodCyYMCg2xDXsO9w6XDqMNVgy4CtkImQYfBN8BDACw/pT9cvyF+xX7yvpD+qb5NvnT+CL4Vffq9pD23PUt9dH0nvRi9Bj0C/Rm9PX0rvWm9qj3tvgW+qH7/fwc/k7/5wCTArYDkgTOBVoHfAjwCD8JtAnVCW0J/QixCEgI0we0BwsIXghoCJ8IHwlfCRYJaAiLB3IG9ARCA8oBdADQ/h/9EPyO+9T6lvmV+G/4kvgr+Gz3RPe/9/T3wPe89+73D/gR+Pr3CPhl+Jf4efi++Jr5qvrU+yP9rv6PAI8CJgQeBboFQAavBtcGkgZFBnIG3AYTB0AHaQdTB00HQQeMBq4FcQVPBcQEUgRBBDUE8wN8A+oCVgKFAUMA8v7d/c/8v/vi+iX6w/kS+lH6BPoO+rH6H/tD+2b7Ufsk+077lvuR+2X7d/vm+278uPzZ/C/9x/1U/tn+g/81AAEBAQLqAtsDAQW+BfUFXAbBBoYG/gV5BdYEPATQA10D2QKGApoC5gLnAn4CFgLnAYgBywArAL7/Kv/F/rn+Vf61/X39Rv3P/J78h/w3/Az8Cfzi+9b78fvq++L7Jfyx/GX9DP58/vz+x/9kAHcAWwBRAEIAUQBiACIABAB2APgAUwHdAWECsAI3A+UDNAQkBPcDwgObA1IDoALEAR8BvgCWAH0AJwDT/+3/LgAvAAkAzP9o/y7/Sv8w/4X+2/28/dD9j/0f/RD9ff3Z/en9If6F/pL+T/41/mL+n/62/uT+l/9/APUAJQGBAdUB2AGmAX0BZQExAQABEQEyAR0B/QAhAYIBwwG/AcsBCwIdAt4BkAFUARoBoAD6/7n/x/9s/6X+Gv76/dj9cv0I/fT8OP2q/Sv+g/68/hL/Y/9+/1v/Df/a/vL+I/82/0j/g//E/93/7P8IAPj/yP/3/3wA1QAEAWYB/gF5ArUC6gIXAwcD2wLbAtQCWQKoAT8BEQHLAGwAKAASADIAVAAtAAQAFwD6/6L/nv/P/6H/O/8X/xH/z/4z/m794vyg/Fz8DvwC/Ef8sPw5/bz9GP6M/hv/lP8KAHgApgDNACABRwEzATQBGwHJAKcA0wDqALcAigDJAFMBogGNAYkB3AFFAokCnAKLAn8CjQJ9AiYCvQFYAdIASADa/27/Df+w/kr+J/5w/rH+rP6w/vL+cf/g/7z/Mv/o/tP+e/7U/Sr9zPzZ/Ab9Bf0J/Wr9Bv6O/gP/jP8SAIAA3wApAWwBsAHKAcIB1QEOAkMCTAIjAvwB9wHfAYwBHAHNANsAKQFHASwBOwGRAdEBoAEtAfUABQHrAGgA2f+h/4//K/96/vD9wf2j/VP9Fv1X/c/9A/4j/mL+if6n/s7+s/5n/mv+sv6r/kf+B/4q/mb+av5P/nf+Ff/T/1EAyAB3ATICpQKwAqUC0wLnApkCZwKZArMCgwJXAkUCOwIwAgACmwFJAUQBOwHsAJUAbQBwAIkAggBBAA8AJQBAAAcAaP+0/kP+yf0D/WP8MPwr/D38ifz+/HP92v0f/k7+iv63/pb+RP4s/lv+fP6C/o7+tv78/kT/gP+4/+v/MwCvACQBZQHFAWgC9AJSA7IDAgQTBOYDiwMcA8YCcALqAYMBgwGgAZgBlAGwAcIBogFLAdAAWgDv/4n/Ov8K//b+AP8Q//n+yv6w/nr+8f1a/ev8hfwn/PT7/ftD/LL8GP1w/eH9XP6m/q/+sv7S/uH+yv7A/uT+L/+J/9n/EgBNAKcA+wAiAUgBogEWAnoC1wIzA4YD3AMWBAkE0AODAxcDigL5AY8BUAESAeEA8gApAUABPgE3AQ0BtwBVAOH/Qf+p/lb+Lv4O/vP93v3b/ej92v2y/Zb9d/05/fn82vzd/Of85vwT/ZP9Fv5e/pz+/f5X/43/sP+2/6n/u//Y/+H///9MAKEA/wB6AfEBYALUAikDXwOMA58DhQNMAwsD2QLCAp0CTQL0AagBXAERAb4AWAAKAAUAFAD7/+f/8P/t/9f/qf9X//X+iP4F/oz9R/0S/cv8m/yn/Nr8Dv01/Wb9s/0A/iv+R/5t/pX+y/4b/2P/m//r/0IAZwBdAFcAYgBjAFEAUACXACQBwwFTAtcCVAO3A+IDuwNdAw8D3wKnAl8CGQLlAcMBnQFMAeMAjgA6ANP/fP9K/yP/9P7W/uL+9P7l/r7+ov6S/mj+JP7U/Xz9K/38/PD89PwO/Ur9mv32/U/+jP65/vT+PP90/53/1/8vAIoAzQAJAUQBWQFWAWABVgEvATgBiwHVAf8BRwKyAhMDSANGAzMDJgPyAn4CBwKsAT8BzACCAFMAFADQ/6n/n/+G/zj/2v6x/o3+MP7f/dL9z/2v/Zz9pv2j/Xr9P/0o/T39R/1K/Xv90P0o/o/+C/9q/6n//P9bAKUA1QDqAAIBOAFiAV4BXgGCAaABrgHTARcCUwJjAlsCfQLAAtcCuQKyAtAC2QK4AmoC8AF0AQ4BiQDc/1f/IP8A/9f+vf7H/uP+4P6o/m3+bf57/kX+7/3X/fP94P17/R/9Ef0e/Qz9CP09/Y799/11/tn+IP95/97/IgBXAKgABQFQAZIBzQH7AR8CJAL4AdYB5QHxAdoByAHfARgCRQJPAl4CgwKUAo4ChQJjAhUCuwFgAecAVwDV/13/6P6T/mf+Qf4c/gn+Bf4X/jT+N/4u/kf+ef6L/mj+Of4k/hv++/3F/an9zf0b/mf+of7k/kz/x/8MAAwAKwCRAOUA+QAYAXIB0wEJAhMCDQISAgsC2gGdAXQBXwFWAVkBYgF9AbYB4wHlAdYByAGrAWYB8ABkAAEAyv9s/+7+sv67/qv+dv5f/mX+W/4//iX+I/42/kr+WP5b/mX+kf66/qv+i/6i/tz+/v4V/zf/af+s//n/NgBdAJoA7AAkAVoBnQHAAcAByAHaAdQBuwGiAYQBbwFlAVsBOAHxALkAwADVALAAegCPAMoA2AC9AIwAUwAtAPv/eP/j/pn+Yv4P/tP9v/3K/fz9PP5i/o7+3v4b/yn/Iv8Z/xr/GP/6/uT+Av8y/0r/c/+u/+D/IgBoAIUAnwDiACMBPQFTAXgBpAHOAdcBxQHIAdQBuAF+AV4BTQEcAdYAlwB6AHIATQAbABQAJgAbAPr/3v+3/4z/dP9a/yf/7v7S/s3+tv5//kj+NP41/iD+/f0L/k7+g/6h/tj+Lf92/5b/qf/a/xUAJwAZACQAQwBUAFwAZAB6AKwA5gAKAR4BPwFwAZwBqQGZAZYBswG3AYsBZgFaATwB/wCyAGsAQwAgANz/r//B/8j/pf+V/4f/XP9B/yb/3P6Z/ov+f/5b/kT+Qf5R/nT+ff5u/oj+xP7W/s3+6/4a/zT/Rv9a/4j/0/8IAB8ASgCNALoA0ADhAOEA9AAvAUsBNAEzAWcBkgGKAWgBVAFfAWMBNgEBAfUA/gDvAMAAlAB/AHEARAD9/9P/xf+d/1v/Kv8V/wb/9P7N/qj+sv7A/qP+d/5o/mz+bP5Z/jz+QP5t/o/+q/7X/g3/Rv91/5b/sv/a/wEACgAXAEEAYwB3AIsAqADcAB0BPAE8AVwBjwGcAYwBdAFmAW0BWwEWAeYA7gDkAKsAfwBqAFcAQAAYAOf/0//c/8T/jv9x/2P/Sv8r/wH/1f7G/sb+rP6G/oP+lP6Z/pH+kP6k/r/+1P7g/vz+Mv9a/2L/bv+V/8L/1v/g//f/IQBWAHEAcwCBAKkAzgDcAN4A6QAQAUMBSgEwAT0BXgFMAQwB4ADZAM4AowBtAFcAXQBJABEA7P/l/9r/uv+V/33/cv9p/0//Iv8B//n+9v7m/sj+wP7i/gD/9P7a/uD++/7+/uj+5/4T/07/bP95/6D/3P8IABIADAAVAC4APgBAAD8AUgB6AJwAqgC0ANAA6gDsAOsA9wD+APkA6ADQAMAAvQCoAHkAXwBbAD8AGAABAOr/yP+u/6L/kv+H/4P/gv+K/4v/cv9b/1T/Pf8S/wP/Dv8J/wr/Iv8y/zf/Pv9K/2H/cf9p/2b/lP/L/9T/1v///y8ARwBKAEIAPwBKAEwANwApADMAQABTAGkAeACUALoAxwDAAMAAwACqAH8AXQBMAD8AKQAHAPr/CgAWAAAA3P/K/8T/r/+T/33/eP94/3n/iv+V/4//kP+Z/5r/kv+I/3//b/9g/1//af90/3n/gv+h/87/7//z//P/DQAuADAAIAAlAEAASgBCAEEAOwAqACMAJQAiACMAMgA9AEQAWABjAFkAUgBSAEkAQwBHADIACAADAB4AGADt/8r/0//x/+3/wv+p/77/0P+8/6L/mv+h/7P/u/+0/7r/x//H/8X/zP/M/8L/y//V/9D/3f/y/+r/3P/q/wAA+f/p//X/DQAnAD8AUQBaAFYAUwBVAEcAJgADAP7/EQAWAAYA+P/9/xEAFgAGAPn/9//9//3/AAALAAMA9/8BABEACQD4//r//v/z/+T/2//V/8j/s/+z/83/2v/R/9b/8f8CAP//+P/7///////4//T/+f/9/wAADAAUAAoA//8HABMACwAAAAcAIQAvADAAQABTAFIASgBQAFcARQAnABYAEQANAPn/3//V/8//0//h/+P/2f/c//j/CgAEAP3/+v8FAB0AGgABAPX/9v/u/+D/3v/b/9T/2//t//3/AgD7//T//f8QABcADQAFAAoAHQAvACQABgAAAAoADgACAPH/6f/0/wQACQD//wMAHAAxAEMATgBQAFcAXgBYAEQANgAtABkABwACAAQAAQDw/+j/9/8CAP3/7//v/wAAEQAaABQACgALAAwABQDx/9r/1P/e/+//8f/u//r/BQALAAcAAAAAAPn/9f///woADgANABYAIQAkACQAHAATABUAFwASAAoABQAGAAwAFAAWABcAJAAxADQAOABAAEAAOQA1ADsAPAAmABAAFQAlACQACgD9/wsAHQAaAAcABgAYAB8AHQAUAAkABAD8//D/5P/c/9X/0P/c/+b/6v///wcA/f8CABMAEQD3/+3/+v8EAAMA8v/t/wkAHgAXAA8AHAAtADIANAAsACoAOAA3ACoAKAAyADkANwA0ADUAQABJADcAIAAhACsAJAAQAAIACwAcABwACgAIABsAJgAdABIACQAJAA8ABgDz/+z/8P/z/+r/4f/h/+T/5//f/9v/8P/+//n/+f8JACAAIAAOAP//AgARAAEA6f/x/wMAEQAXAB0ALwBCAEwARQBAAEcAQQA3ADYAMQAwADYANQAsAC0ANAAuACQAIAAXABUAFwAIAP3/AgAHAAMA///7//z/BAAGAPv/9v/9//n/8v/x/+z/4//g/+D/3v/d/9//5P/x//7/AwAKABQAFgAbAB8AGwAVABYAGgASAAkADAAUABsAGQAbACwAPABAAEAARQBOAEgAOQAvACoAJQAVAAgACAALABUAFgAMAAwAFAAeABgA///1//3/AAD0/9//4P/t//D/5f/a/+j//P/3/+n/6f/5/wAA7//g/+H/7f/1/+3/5//v//7/CwAMAAsAFAAiACYAIQAeACEAIgAcABQAEwAeACQAHgAgADEARQBEADUANgA/ADsAKgASAAcACAAGAPv/6v/s//7/AwD7/+3/8/8FAAUA8v/o//f/AgD2/+f/4P/m/+7/3//N/9D/3f/g/9r/4P/s//v/CAABAPv/BQAMAAMA8f/r//b/AAACAPf/AAAfACkAIQAdACIAKwAoABkADwAWACEAGQARABoAJwAtACoAHwAgAC0AKAASAAMABQAKAAAA7f/i/+j/8P/l/9z/5P/q/+7/7P/p/+3/8v/y/+j/4v/m/+H/3P/X/87/0//e/9//3P/l//f/9//0//n/+//9//j/8P/2/wAAAgABAAgAEAATABwAHgAWABoAIQAcABoAIQAgABkAHQAfABUAFgAYABAACgANAA0ACAAEAAAA+//8//n/8//w/+3/6//u/+r/4P/e/+D/3f/Y/9n/2v/Z/97/3v/Y/9v/3//d/9z/3P/j/+b/5//u//L/8f/v//H/9f/w/+z/8//2//v/AAACAAgADgAUABYAGAAgACMAIwAnACYAJgAiABwAGwAWAA0ABQADAAUAAwD+//j/9v/9////9P/s/+v/7//w/+n/3//Z/93/4f/Y/87/yf/M/9L/z//J/8r/0//b/9v/3P/k/+v/8f/3//z//f/8//7//v/8//j/8v/v//T/+v/8//v///8LABUAGwAbABwAIwAoACYAIQAdABoAFgAQAAkABAADAP//+P/4//n/9//0//T/9P/t/+3/8f/q/+P/4f/f/9//3P/X/9D/zv/S/83/yf/O/8//0//X/9n/2//e/+j/7v/v//T/+/8DAAoABwAHAAsACgAIAAkACAAGAAYACwAOABEAEgAOAA8AFgAYABUAEQAQABIAEwARAAcAAAAAAP7/+P/u/+b/6P/q/+f/5P/k/+b/5f/m/+j/5f/j/+H/4//l/+H/2f/V/9j/3//f/9v/3P/i/+z/8v/z//H/7//3/wIAAgD8//3/BwARABMADwANABEAFgAUAA8ADQAQABIAEAAQABEAEwAVAA4ABgAGAAQA/f/1//L/9P/y/+//6//n/+r/6f/i/9//3//h/+L/4v/l/+X/6v/t/+n/6v/r/+f/5f/j/+f/7P/s/+v/7v/7/wYABAACAAYADQASAA8ABwADAAYADwAQAAoACAANABUAFQAOAAkACAAKAAgABAAFAAgACQAKAAkACAADAPv/9f/y/+//5v/d/9//4v/i/+H/3P/c/+L/6P/o/+L/5P/t//X/+P/x//D/+P/8//n/9f/3//z//P/6//r/AAAGAAYACAAQABcAGQAYABcAFQAVABUADwAIAAkACwALAAYAAAABAAEA/P/2//P/9//6//r/+v/8/////P/2//f/9v/v/+n/5v/o/+j/5f/l/+L/5f/s/+z/6v/o/+z/+P/9//v/+P/8/wUACAAHAAgACgAPABIAEAANAAkABgAGAAgACAAFAAYADQASABUAFQAQAA4ADwAQAAoAAwABAP///P/4/+//6P/l/+f/6P/m/+n/6//r/+7/8P/z//L/7f/v//T/+P/3//D/7//2//v/+v/y//L//P8BAAMAAwAFAAkACwAOAA4ADQAPABIAFQAXABkAGAAWABUAFQARAAoAAgD+///////7//b/9f/7//7//P/5//v/AAACAP7/+f/x/+z/6f/j/9//3P/c/9//4v/p/+3/7P/x//X/+//+//v//f8AAAQABwAEAAEAAAAFAAwACAAGAAwAEgAWABYAFAATABYAGQAVABMAFQATABAAEQARAA8ACgAFAAIAAAD///r/8//w/+//8f/u/+X/4//p/+7/7f/p/+r/7f/w//H/6v/o/+r/6f/q/+r/7P/u/+7/9f/8//7///8AAAYADgASABMADwAOABYAGQAVAA0ADAAUABYAEgAPAA4AFQAYABYAEwARABEADQAJAAkABQAAAP7//v////v/9v/z/+//7v/s/+j/4//h/+f/6//o/+j/6f/s/+//7f/t/+z/7f/w/+//8f/z//T/+P/8/wAABQAFAAgACwAQABMAEQARABMAFAAYABkAFwAXABoAHQAaABMAEAAOAA4ADgAJAAgACAAJAAkABwAHAAAA+//7//n/9P/u/+r/7P/s/+z/6f/k/+f/6v/r/+v/5//p/+7/8P/w/+//8f/2//f/+f/6//z////9/wAABAAFAAYABwAMABMAFQAVABUAFgAaABkAFQATABMAFwAYABQAFAAVABYAEwAQAA0ACQAIAAQAAAAAAP///P/6//n/+v/3//T/8v/x//L/7//p/+j/6f/p/+r/6P/p/+v/7//y//H/8//2//j//P/9//3/AAABAAQABQAIAAwACwAOABIAEwAXABgAFwAYABkAGwAXABUAFQAUABUAFQARABEAEgASABAADgANAAoACQAJAAQAAQAAAPv/+f/2//T/8v/u/+7/7//w//H/7P/t//D/8P/x/+//7//z//T/9f/0//T/+f/6//v//f8AAAMABAAGAAwADgAPABEAEwAXABgAGgAaABsAHwAfABwAGwAZABoAGQAWABMAEQASABEADQANAAsACwAKAAYABgAFAAIAAAD8//3/+f/0//P/8P/v/+//7f/s/+v/7v/w/+7/8f/z//X/+f/5//n/+//9//7//v///wAAAgAGAAgACQAOABAAEQAUABYAFwAZABsAHAAcAB8AIAAdAB4AHgAcABsAFwAVABMAEgAQAAoACQAKAAgABgAEAAQABAABAAAA/f/7//r/9P/y//H/7//w/+3/7P/v/+//8P/v/+//9P/2//j/+v/7/wAAAgADAAQABQAIAAgACQALAAwADgAQABMAFQAWABgAGwAbAB0AHgAeABwAHAAdABsAGAAXABUAFAATAA8ADAAKAAkABgACAAEAAAD//////f/8//z/+f/6//n/9f/z//L/8v/w/+7/8P/u/+//8//y//T/9v/5//z//v8BAAMAAwAIAAoACgAMAA0ADwAQABEAEwASABQAFQAWABgAGAAZABoAGgAaABkAGAAXABQAFQATAA8ADQAKAAkABwADAAAA/v/9//3/+f/3//j/9//3//f/9v/2//T/9P/z//H/8v/w/+//8f/y//T/9f/2//n//P///wAA//8CAAQABwAHAAcACwAOABAAEQAQABMAFAATABMAEwAUABMAEwATABIAEgASABAAEAAOAA0ADQAKAAgABgAEAAMAAAD+//3/+v/4//b/8//z//L/8f/w//D/8v/w//D/8//y//L/8v/y//P/8//0//X/9v/5//v//P/+////AAAEAAUABQAGAAkACgALAA0ADQANABAAEAAQAA8ADwAPAA4ADgAMAAoACgAJAAgABwAFAAQAAwACAAEA///+//z/+v/5//b/9P/z//H/8f/w/+//7//u/+7/7//u/+//7//v//D/8f/y//L/8v/1//b/9//4//r//P/9//7/AAAAAAEAAgADAAQABQAHAAcACAAJAAoACgAKAAgACgAJAAcABgAFAAUABAABAAAA/////wAA/f/8//v/+f/6//j/9v/0//L/8//w/+//7//t/+3/7f/s/+7/7f/t/+7/7v/w//D/8P/x//H/8//0//T/9P/2//j/+f/5//v//P/+//////8AAAAAAQABAAEAAgACAAIAAwACAAMAAwABAAEAAAAAAAAA/v/+//z/+//7//n/9//3//b/9//1//P/9P/z//P/8v/w//D/7//u/+3/7f/t/+z/7P/t/+3/7v/u/+//8f/x//L/8v/y//T/9P/1//X/9f/3//j/+P/5//n/+//8//v//P/8//3//v/9//7//f/9//7//P/9//3/+//8//v/+//6//n/+P/3//f/9//1//T/9P/z//P/8v/x//H/8f/y//D/8P/w/+//7//v/+7/7v/u/+7/7v/v//D/8P/x//L/8v/z//P/8//0//X/9v/1//X/9v/2//f/+P/3//j/+f/5//r/+f/6//v/+v/7//n/+v/6//j/+P/4//f/9//2//b/9//2//f/9f/1//X/9P/0//P/8//z//P/8//x//H/8v/x//H/8f/w//L/8f/x//L/8v/z//L/8//0//P/9P/z//P/9f/0//X/9f/1//b/9v/2//f/9v/4//j/9//4//f/+P/5//j/+P/5//n/+f/4//j/+P/3//f/9v/2//b/9f/2//X/9f/2//X/9v/1//X/9//1//X/9f/1//X/9P/0//T/8//1//T/9P/1//T/9v/2//b/9//2//f/9//3//j/9//2//f/9v/3//f/9v/4//j/+f/5//j/+f/5//n/+f/4//n/+f/5//n/+P/4//n/+P/5//j/+P/4//j/+P/4//j/+P/3//f/+P/4//j/9//3//n/+P/4//j/+P/5//j/+P/4//j/+f/4//j/+f/4//n/+v/6//r/+v/7//v/+v/7//r/+v/6//r/+v/6//r/+//6//v/+//7//z/+//7//z/+//7//r/+//7//r/+v/6//r/+//7//v/+//7//z/+//7//v/+//7//v/+//7//v/+//7//z//P/8//z//f/8//3//f/9//3//f/9//7//f/9//3//v/+//3//v/+//7//v/9//7//v/9//7//v/+//7//v/+//7//v/+//7//v/+//7//v/9//3//f/+//7//f/+//7//v///////v////////////////////////////////8AAAAAAAAAAAAAAAAAAAAAAAAAAAAAAAAAAAAAAAAAAAAAAAAAAAAAAAAAAAAAAAAAAAAAAAAAAAAAAAAAAAAAAAAAAAAAAAAAAAAAAAAAAAAAAAAAAAAAAAAAAAAAAAAAAAEAAQABAAEAAQABAAIAAQABAAEAAQACAAEAAgACAAIAAgACAAIAAwACAAMAAwADAAMAAwADAAMAAgADAAIAAgACAAEAAgABAAEAAgABAAIAAgACAAIAAQACAAIAAgACAAEAAQABAAEAAQABAAEAAQABAAIAAgACAAIAAgADAAMAAwADAAMAAwAEAAMABAADAAMABAAEAAQABAADAAQABAAEAAQABAAFAAQABAAFAAQABAAEAAQABAADAAMAAwACAAMAAgABAAIAAgACAAIAAgACAAIAAgADAAIAAgACAAIAAgACAAIAAgABAAIAAgACAAMAAgADAAMAAwAEAAQABAAEAAQABQAEAAQABQAEAAUABAAEAAUABAAFAAUABAAFAAQABAAFAAQABAAEAAMABAADAAMAAwACAAMAAgACAAIAAQACAAEAAQABAAEAAQABAAEAAgABAAEAAgABAAIAAQABAAIAAQACAAIAAQACAAIAAgACAAIAAwADAAMABAADAAQAAwADAAQAAwADAAMAAwADAAMAAwADAAIAAwADAAIAAgACAAIAAgACAAIAAQABAAEAAAAAAAAAAAAAAAAAAAAAAAAAAAAAAAAAAAAAAAAAAAAAAAAAAAAAAAAAAAAAAAAAAAAAAAAAAAAAAAAAAAAAAAEAAAABAAEAAAABAAEAAQABAAAAAAAAAAAAAAAAAAAAAAAAAAAAAAD//wAA//////////////7//v/+//3//v/9//3//f/8//3//P/8//3//P/9//z//P/9//z//f/9//z//f/9//3//f/8//3//f/9//7//f/9//7//f/+//3//f/+//3//v/9//3//f/8//3//f/8//3/+//8//z/+//7//v/+v/7//r/+v/6//n/+v/5//n/+f/4//n/+P/4//n/9//4//j/9//4//f/+P/4//f/+f/4//j/+f/4//n/+f/4//n/+P/4//n/+P/5//j/+P/5//j/+f/5//j/+f/4//j/+f/3//j/9//3//j/9v/3//b/9v/3//X/9v/2//T/9v/0//T/9f/z//X/9P/z//X/8//0//T/8v/0//P/8//0//L/9P/z//L/9P/y//P/9P/y//X/8//z//X/8//0//T/8//1//P/9P/0//P/9f/z//P/9P/y//T/8//y//T/8v/z//P/8f/z//H/8f/y//D/8f/x//D/8f/v//D/8P/u//D/7//v//D/7v/w/+//7v/w/+7/7//v/+3/8P/u/+7/8P/u//D/7//u//D/7v/w//D/7v/x/+//7//x/+7/8f/v/+//8f/u//D/8P/u//H/7v/v//D/7v/w/+7/7v/w/+3/7v/u/+z/7//s/+3/7v/r/+7/7P/s/+3/6//s/+z/6//t/+v/6//t/+r/7P/r/+v/7f/q/+z/7P/r/+3/6//s/+3/6//t/+z/6//u/+v/7f/t/+v/7v/s/+3/7v/r/+7/7f/s/+7/6//t/+3/6//u/+z/7P/t/+v/7f/s/+v/7f/q/+z/7P/q/+z/6v/r/+z/6f/s/+r/6v/s/+n/6//r/+n/7P/p/+r/6//p/+v/6v/q/+z/6f/r/+v/6v/s/+r/6//s/+r/7f/r/+v/7f/r/+3/7P/r/+7/6//s/+3/6//u/+z/7P/u/+v/7f/t/+v/7v/r/+z/7f/r/+3/7P/r/+3/6v/s/+z/6v/t/+r/6//s/+r/7P/r/+r/7f/q/+z/7P/q/+3/6v/r/+z/6v/t/+v/6//t/+v/7f/t/+v/7v/s/+3/7v/s/+7/7f/t/+//7f/u/+7/7f/w/+3/7v/v/+3/8P/u/+7/8P/t/+//7//u//D/7v/v//D/7f/w/+7/7v/w/+3/7//v/+3/8P/t/+7/7//t/+//7v/t//D/7f/v/+//7f/w/+7/7//w/+7/8P/v/+//8f/v//H/8P/v//L/8P/x//L/8P/y//H/8f/z//H/8//y//H/9P/y//P/9P/x//T/8v/y//T/8v/0//P/8v/0//L/8//0//L/9P/y//L/9P/x//P/8//y//T/8v/z//T/8v/0//P/8//1//L/9P/0//P/9f/z//T/9f/z//b/9f/0//f/9P/2//b/9f/3//b/9//4//b/+P/3//f/+f/2//j/+P/3//n/9//4//n/9//5//j/+P/6//f/+f/4//f/+v/3//j/+f/3//n/+P/4//n/9//5//n/9//6//j/+f/6//j/+v/5//n/+v/4//r/+v/5//v/+f/7//v/+v/8//v/+//9//v//f/8//z//v/8//3//v/8//7//f/9/////P/+//7//f////3//v////3////9//7////9/////v/9/////f/+/////f////7//v////3////+//7/AAD+///////+/wAA/////wAA//8AAAAA//8AAAAAAAAAAAAAAQAAAAAAAQAAAAIAAQABAAIAAAACAAIAAQADAAEAAgADAAEAAwACAAEAAwABAAIAAgABAAMAAQACAAMAAQADAAIAAQADAAEAAgACAAEAAwABAAIAAwABAAMAAgACAAMAAgADAAMAAgAEAAMAAwAEAAMABAADAAQABQADAAUABQAEAAYABAAFAAUABAAGAAUABQAGAAQABgAFAAUABgAFAAYABgAFAAYABQAFAAYABQAGAAUABQAGAAUABQAGAAQABgAFAAUABgAEAAYABQAFAAYABQAGAAYABQAGAAUABgAGAAUABwAGAAYABwAGAAcABwAGAAcABgAHAAgABgAIAAcABwAIAAcACAAIAAcACAAHAAgACAAHAAgABwAHAAgABwAIAAcABwAIAAcABwAIAAYACAAHAAcACAAGAAcABwAGAAcABgAHAAcABgAHAAcABwAHAAYABwAHAAcACAAHAAcACAAHAAgABwAHAAgABwAIAAgABwAIAAcACAAIAAcACQAIAAgACAAHAAkACAAIAAkABwAIAAgABwAIAAcACAAIAAcACAAHAAcACAAHAAgABwAHAAgABgAHAAcABgAHAAYABwAHAAYABwAHAAYABwAGAAcABwAGAAcABgAHAAcABgAHAAcABwAIAAYABwAHAAYACAAHAAcACAAGAAgABwAHAAgABgAHAAcABgAHAAYABwAHAAYABwAGAAYABwAGAAcABgAGAAcABQAGAAYABQAGAAUABQAGAAUABgAFAAUABgAFAAYABgAFAAYABQAFAAYABQAGAAUABQAGAAUABgAGAAUABgAFAAUABgAFAAYABQAFAAYABQAFAAYABAAGAAUABQAGAAQABQAFAAQABgAEAAUABQAEAAUABAAEAAUAAwAFAAQABAAFAAMABAAEAAMABAADAAQABAADAAQAAwADAAQAAgAEAAQAAwAEAAMAAwAEAAIABAADAAMABAACAAQAAwACAAQAAwADAAQAAgAEAAMAAwAEAAIAAwADAAIABAACAAMAAwACAAMAAgACAAMAAgADAAIAAgADAAEAAgACAAEAAwABAAEAAwABAAIAAgABAAIAAQACAAIAAAACAAEAAQACAAAAAgABAAEAAgAAAAEAAgAAAAIAAQABAAIAAAACAAEAAQACAAAAAQACAAAAAgABAAEAAgAAAAIAAQAAAAIAAAABAAEAAAACAAAAAAABAAAAAQAAAAAAAQAAAAEAAQAAAAEAAAAAAAEAAAABAAAAAAABAAAAAAAAAAAAAQAAAAAAAQAAAAEAAAAAAAEAAAAAAAAAAAABAAAAAAABAAAAAQAAAAAAAQAAAAAAAAAAAAEAAAAAAAEAAAABAAAAAAABAAAAAAAAAAAAAQAAAAAAAAAAAAAAAAAAAAEAAAAAAAAAAAAAAAAAAAAAAP//AAAAAAAAAAAAAAAAAAAAAAAAAAAAAAAAAAAAAAAAAAABAAAAAAAAAAAAAQAAAAAAAAAAAAEAAAAAAAEAAAAAAAAAAAABAAAAAAAAAAAAAQAAAAAAAQAAAAAAAAAAAAEAAAAAAAAAAAABAAAAAAABAAAAAAAAAAAAAQAAAAAAAAAAAAEAAAAAAAEAAAABAAAAAAABAAAAAAABAAAAAQAAAAAAAQAAAAEAAQAAAAIAAAABAAEAAAACAAAAAQACAAAAAgABAAAAAgAAAAEAAQAAAAIAAQABAAIAAAACAAEAAQACAAAAAgACAAAAAgABAAEAAgAAAAIAAQABAAIAAQACAAIAAQADAAEAAgACAAEAAgACAAEAAwABAAIAAgABAAMAAgACAAMAAQADAAIAAgADAAIAAwADAAIABAACAAMAAwACAAMAAwACAAQAAgADAAMAAgAEAAMAAwAEAAIABAADAAMABAADAAQABAADAAQAAwAEAAQAAwAEAAMAAwAEAAMABAAEAAMABQADAAQABQADAAUABAAEAAUAAwAFAAUABAAFAAQABQAFAAQABQAEAAQABgAEAAUABQAEAAYABAAFAAYABAAGAAUABQAGAAUABgAFAAUABgAFAAYABgAFAAYABQAFAAYABQAGAAYABQAHAAUABgAGAAUABwAGAAYABwAFAAcABgAGAAcABgAHAAcABgAHAAYABgAHAAYABwAHAAYACAAGAAcABwAGAAgABwAHAAgABgAIAAcABwAIAAcACAAIAAcACAAHAAcACAAHAAgACAAHAAgABwAIAAgABwAJAAcACAAIAAcACAAIAAcACQAHAAgACAAHAAkACAAIAAkABwAJAAgACAAJAAgACQAJAAgACQAIAAgACQAIAAkACQAIAAoACAAJAAkACAAKAAgACQAKAAgACgAJAAkACgAIAAkACQAIAAoACAAJAAoACAAKAAkACQAKAAgACgAJAAkACgAJAAkACgAIAAoACQAJAAoACQAKAAoACQAKAAkACQAKAAkACgAJAAkACgAIAAoACgAJAAoACQAJAAoACQAKAAkACQAKAAkACgAKAAkACgAJAAoACgAJAAoACQAJAAoACQAKAAoACQAKAAkACQAKAAgACgAJAAkACgAJAAoACgAJAAoACQAJAAoACAAKAAkACQAKAAgACgAJAAkACgAJAAkACgAIAAoACQAJAAoACAAJAAkACAAKAAgACQAJAAgACgAJAAgACgAIAAkACQAIAAkACAAJAAkACAAJAAgACAAJAAgACQAIAAgACQAIAAkACQAHAAkACAAIAAkABwAJAAgABwAJAAcACAAIAAcACQAHAAgACAAHAAgACAAHAAgABwAIAAgABwAIAAcABwAIAAYACAAHAAcACAAGAAcABwAGAAgABgAHAAcABgAHAAYABgAHAAYABwAGAAYABwAGAAYABwAFAAcABgAFAAYABQAGAAYABQAGAAUABQAGAAUABgAFAAUABgAEAAUABQAEAAYABAAFAAUABAAFAAQABAAFAAQABQAEAAMABQADAAQABAADAAQABAADAAQAAwAEAAMAAwAEAAMAAwAEAAIABAADAAMAAwACAAMAAwACAAMAAgADAAMAAgADAAIAAgADAAEAAwACAAEAAgABAAIAAgABAAIAAQABAAIAAAACAAEAAAACAAAAAQABAAAAAQAAAAAAAQAAAAEAAAAAAAEAAAAAAAAAAAABAAAAAAAAAAAAAAAAAAAAAAD//wAAAAD//wAAAAAAAAAA//8AAP////8AAP////8AAP7/AAD+///////+///////+/////v////7//v////7//v////3////+//7//v/9//7//v/9//7//f/+//3//f/+//3//f/+//z//f/9//z//f/8//3//f/8//3//P/8//3//P/8//z/+//9//v//P/8//v//P/7//v//P/7//z/+//7//z/+//7//v/+v/8//r/+//7//r/+//7//r/+//6//v/+v/6//v/+v/6//v/+f/6//r/+v/6//n/+v/6//n/+v/5//r/+v/5//r/+f/5//r/+P/5//n/+f/5//n/+f/5//j/+f/4//n/+f/4//n/+f/4//n/+P/4//j/+P/4//j/+P/5//f/+P/4//j/+P/4//j/+P/3//j/9//4//j/9//4//j/9//4//f/+P/3//f/+P/3//f/+P/2//j/9//3//f/9//3//f/9v/3//b/9//3//b/9//3//b/9//2//f/9//2//f/9v/2//f/9v/3//b/9v/3//b/9v/3//b/9//2//b/9v/2//b/9v/2//f/9v/2//b/9v/2//b/9v/2//X/9v/2//b/9v/2//b/9v/1//b/9f/2//b/9v/2//b/9v/2//X/9v/2//b/9v/2//b/9v/1//b/9f/2//b/9v/2//b/9f/2//X/9v/2//b/9v/2//b/9v/1//b/9v/2//b/9v/2//b/9f/2//X/9v/2//b/9v/2//b/9v/1//b/9v/2//b/9v/2//b/9f/2//b/9v/2//b/9v/2//b/9v/2//b/9v/2//b/9v/2//b/9v/2//b/9v/2//b/9v/2//b/9v/2//b/9v/2//b/9v/2//f/9v/2//b/9v/2//b/9v/3//b/9//2//b/9//3//b/9//2//f/9v/3//f/9//3//f/9//3//f/9//3//f/9//3//f/9//3//f/9//3//f/9//3//f/9//3//f/9//3//f/9//3//f/+P/3//j/9//3//j/+P/3//j/9//4//j/+P/4//j/+P/4//j/+P/4//j/+P/4//j/+P/4//j/+P/4//j/+P/4//j/+P/4//j/+P/4//j/+P/4//j/+f/4//n/+P/5//n/+f/5//n/+f/5//n/+f/5//n/+f/5//n/+f/5//n/+f/5//n/+f/5//n/+f/5//n/+f/5//n/+f/5//n/+v/5//r/+f/6//r/+v/6//r/+v/6//r/+v/6//r/+v/6//r/+v/6//r/+v/6//r/+v/6//r/+v/6//r/+v/6//r/+v/6//r/+//6//v/+v/7//v/+//7//v/+//7//v/+//7//v/+//7//v/+//7//v/+//7//v/+//7//v/+//7//v/+//7//v/+//7//v/+//7//v/+//7//v//P/7//z/+//8//z//P/8//z//P/8//z//P/8//z//P/8//z//P/8//z//P/8//z//P/8//z//P/8//z//P/8//z//P/8//z//P/8//z//P/8//z//P/8//3//P/9//z//f/9//3//f/9//3//f/9//3//f/9//3//f/9//3//f/9//3//f/9//3//f/9//3//f/9//3//f/9//3//f/9//3//f/9//3//f/9//3//f/9//3//f/9//3//f/9//3//f/9//3//f/+//3//v/9//7//v/+//7//v/+//7//v/+//7//v/+//7//v/+//7//v/+//7//v/+//7//v/+//7//v/+//7//v/+//7//v/+//7//v/+//7//v/+//7//v/+//7//v/+//7//v/+//7//v/+//7//v/+//7//v/+//7//v/+//7//v/+//7//v/+//7//v/+//7//v/+//7//v/+//7////+/////v////////////////////////////////////////////////////////////////////////////////////////////////////////////////////////////////////////////////////////////////////////////////////////////////////////////////////////////////////////////////////////////////////////////////////////////////////////////////////////////////////////////////////////////////8AAP//AAD//wAAAAAAAAAAAAAAAAAAAAAAAAAAAAAAAAAAAAAAAAAAAAAAAAAAAAAAAAAAAAAAAAAAAAAAAAAAAAAAAAAAAAAAAAAAAAAAAAAAAAAAAAAAAAAAAAAAAAAAAAAAAAAAAAAAAAAAAAAAAAAAAAAAAAAAAAAAAAAAAAAAAAAAAAAAAAAAAAAAAAAAAAAAAAAAAAAAAAAAAAAAAAAAAAAAAAAAAAAAAAAAAAAAAAAAAAAAAAAAAAAAAAAAAAAAAAAAAAAAAAAAAAAAAAAAAAAAAAAAAAAAAAAAAAAAAAAAAAAAAAAAAAAAAAAAAAAAAAAAAAAAAAAAAAAAAAAAAAAAAAAAAAAAAAAAAAAAAAAAAAAAAAAAAAAAAAAAAAAAAAAAAAAAAAAAAAAAAAAAAAAAAAAAAAAAAAAAAAAAAAAAAAAAAAAAAAAAAAAAAAAAAAAAAAAAAAAAAAAAAAAAAAAAAAAAAAAAAAAAAAAAAAAAAAAAAAAAAAAAAAAAAAAAAAAAAAAAAAAAAAAAAAAAAAAAAAAAAAAAAAAAAAAAAAAAAAAAAAAAAAAAAAAAAAAAAAAAAAAAAAAAAAAAAAAAAAAAAAAAAAAAAAAAAAAAAAAAAAAAAAAAAAAAAAAAAAAAAAAAAAAAAAAAAAAAAAAAAAAAAAAAAAAAAAAAAAAAAAAAAAAAAAAAAAAAAAAAAAAAAAAAAAAAAAAAAAAAAAAAAAAAAAAAAAAAAAAAAAAAAAAAAAAAAAAAAAAAAAAAAAAAAAAAAAAAAAAAAAAAAAAAAAAAAAAAAAAAAAAAAAAAAAAAAAAAAAAAAAAAAAAAAAAAAAAAAAAAAAAAAAAAAAAAAAAAAAAAAAAAAAAAAAAAAAAAAAAAAAAAAAAAAAAAAAAAAAAAAAAAAAAAAAAAAAAAAAAAAAAAAAAAAAAAAAAAAAAAAAAAAAAAAAAAAAAAAAAAAAAAAAAAAAAAAAAAAAAAAAAAAAAAAAAAAAAAAAAAAAAAAAAAAAAAAAAAAAAAAAAAAAAAAAAAAAAAAAAAAAAAAAAAAAAAAAAAAAAAAAAAAAAAAAAAAAAAAAAAAAAAAAAAAAAAAAAAAAAAAAAAAAAAAAAAAAAAAAAAAAAAAAAAAAAAAAAAAAAAAAAAAAAAAAAAAAAAAAAAAAAAAAAAAAAAAAAAAAAAAAAAAAAAAAAAAAAAAAAAAAAAAAAAAAAAAAAAAAAAAAAAAAAAAAAAAAAAAAAAAAAAAAAAAAAAAAAAAAAAAAAAAAAAAAAAAAAAAAAAAAAAAAAAAAAAAAAAAAAAAAAAAAAAAAAAAAAAAAAAAAAAAAAAAAAAAAAAAAAAAAAAAAAAAAAAAAAAAAAAAAAAAAAAAAAAAAAAAAAAAAAAAAAAAAAAAAAAAAAAAAAAAAAAAAAAAAAAAAAAAAAAAAAAAAAAAAAAAAAAAAAAAAAAAAAAAAAAAAAAAAAAAAAAAAAAAAAAAAAAAAAAAAAAAAAAAAAAAAAAAAAAAAAAAAAAAAAAAAAAAAAAAAAAAAAAAAAAAAAAAAAAAAAAAAAAAAAAAAAAAAAAAAAAAAAAAAAAAAAAAAAAAAAAAAAAAAAAAAAAAAAAAAAAAAAAAAAAAAAAAAAAAAAAAAAAAAAAAAAAAAAAAAAAAAAAAAAAAAAAAAAAAAAAAAAAAAAAAAAAAAAAAAAAAAAAAAAAAAAAAAAAAAAAAAAAAAAAAAAAAAAAAAAAAAAAAAAAAAAAAAAAAAAAAAAAAAAAAAAAAAAAAAAAAAAAAAAAAAAAAAAAAAAAAAAAAAAAAAAAAAAAAAAAAAAAAAAAAAAAAAAAAAAAAAAAAAAAAAAAAAAAAAAAAAAAAAAAAAAAAAAAAAAAAAAAAAAAAAAAAAAAAAAAAAAAAAAAAAAAAAAAAAAAAAAAAAAAAAAAAAAAAAAAAAAAAAAAAAAAAAAAAAAAAAAAAAAAAAAAAAAAAAAAAAAAAAAAAAAAAAAAAAAAAAAAAAAAAAAAAAAAAAAAAAAAAAAAAAAAAAAAAAAAAAAAAAAAAAAAAAAAAAAAAAAAAAAAAAAAAAAAAAAAAAAAAAAAAAAAAAAAAAAAAAAAAAAAAAAAAAAAAAAAAAAAAAAAAAAAAAAAAAAAAAAAAAAAAAAAAAAAAAAAAAAAAAAAAAAAAAAAAAAAAAAAAAAAAAAAAAAAAAAAAAAAAAAAAAAAAAAAAAAAAAAAAAAAAAAAAAAAAAAAAAAAAAAAAAAAAAAAAAAAAAAAAAAAAAAAAAAAAAAAAAAAAAAAAAAAAAAAAAAAAAAAAAAAAAAAAAAAAAAAAAAAAAAAAAAAAAAAAAAAAAAAAAAAAAAAAAAAAAAAAAAAAAAAAAAAAAAAAAAAAAAAAAAAAAAAAAAAAAAAAAAAAAAAAAAAAAAAAAAAAAAAAAAAAAAAAAAAAAAAAAAAAAAAAAAAAAAAAAAAAAAAAAAAAAAAAAAAAAAAAAAAAAAAAAAAAAAAAAAAAAAAAAAAAAAAAAAAAAAAAAAAAAAAAAAAAAAAAAAAAAAAAAAAAAAAAAAAAAAAAAAAAAAAAAAAAAAAAAAAAAAAAAAAAAAAAAAAAAAAAAAAAAAAAAAAAAAAAAAAAAAAAAAAAAAAAAAAAAAAAAAAAAAAAAAAAAAAAAAAAAAAAAAAAAAAAAAAAAAAAAAAAAAAAAAAAAAAAAAAAAAAAAAAAAAAAAAAAAAAAAAAAAAAAAAAAAAAAAAAAAAAAAAAAAAAAAAAAAAAAAAAAAAAAAAAAAAAAAAAAAAAAAAAAAAAAAAAAAAAAAAAAAAAAAAAAAAAAAAAAAAAAAAAAAAAAAAAAAAAAAAAAAAAAAAAAAAAAAAAAAAAAAAAAAAAAAAAAAAAAAAAAAAAAAAAAAAAAAAAAAAAAAAAAAAAAAAAAAAAAAAAAAAAAAAAAAAAAAAAAAAAAAAAAAAAAAAAAAAAAAAAAAAAAAAAAAAAAAAAAAAAAAAAAAAAAAAAAAAAAAAAAAAAAAAAAAAAAAAAAAAAAAAAAAAAAAAAAAAAAAAAAAAAAAAAAAAAAAAAAAAAAAAAAAAAAAAAAAAAAAAAAAAAAAAAAAAAAAAAAAAAAAAAAAAAAAAAAAAAAAAAAAAAAAAAAAAAAAAAAAAAAAAAAAAAAAAAAAAAAAAAAAAAAAAAAAAAAAAAAAAAAAAAAAAAAAAAAAAAAAAAAAAAAAAAAAAAAAAAAAAAAAAAAAAAAAAAAAAAAAAAAAAAAAAAAAAAAAAAAAAAAAAAAAAAAAAAAAAAAAAAAAAAAAAAAAAAAAAAAAAAAAAAAAAAAAAAAAAAAAAAAAAAAAAAAAAAAAAAAAAAAAAAAAAAAAAAAAAAAAAAAAAAAAAAAAAAAAAAAAAAAAAAAAAAAAAAAAAAAAAAAAAAAAAAAAAAAAAAAAAAAAAAAAAAAAAAAAAAAAAAAAAAAAAAAAAAAAAAAAAAAAAAAAAAAAAAAAAAAAAAAAAAAAAAAAAAAAAAAAAAAAAAAAAAAAAAAAAAAAAAAAAAAAAAAAAAAAAAAAAAAAAAAAAAAAAAAAAAAAAAAAAAAAAAAAAAAAAAAAAAAAAAAAAAAAAAAAAAAAAAAAAAAAAAAAAAAAAAAAAAAAAAAAAAAAAAAAAAAAAAAAAAAAAAAAAAAAAAAAAAAAAAAAAAAAAAAAAAAAAAAAAAAAAAAAAAAAAAAAAAAAAAAAAAAAAAAAAAAAAAAAAAAAAAAAAAAAAAAAAAAAAAAAAAAAAAAAAAAAAAAAAAAAAAAAAAAAAAAAAAAAAAAAAAAAAAAAAAAAAAAAAAAAAAAAAAAAAAAAAAAAAAAAAAAAAAAAAAAAAAAAAAAAAAAAAAAAAAAAAAAAAAAAAAAAAAAAAAAAAAAAAAAAAAAAAAAAAAAAAAAAAAAAAAAAAAAAAAAAAAAAAAAAAAAAAAAAAAAAAAAAAAAAAAAAAAAAAAAAAAAAAAAAAAAAAAAAAAAAAAAAAAAAAAAAAAAAAAAAAAAAAAAAAAAAAAAAAAAAAAAAAAAAAAAAAAAAAAAAAAAAAAAAAAAAAAAAAAAAAAAAAAAAAAAAAAAAAAAAAAAAAAAAAAAAAAAAAAAAAAAAAAAAAAAAAAAAAAAAAAAAAAAAAAAAAAAAAAAAAAAAAAAAAAAAAAAAAAAAAAAAAAAAAAAAAAAAAAAAAAAAAAAAAAAAAAAAAAAAAAAAAAAAAAAAAAAAAAAAAAAAAAAAAAAAAAAAAAAAAAAAAAAAAAAAAAAAAAAAAAAAAAAAAAAAAAAAAAAAAAAAAAAAAAAAAAAAAAAAAAAAAAAAAAAAAAAAAAAAAAAAAAAAAAAAAAAAAAAAAAAAAAAAAAAAAAAAAAAAAAAAAAAAAAAAAAAAAAAAAAAAAAAAAAAAAAAAAAAAAAAAAAAAAAAAAAAAAAAAAAAAAAAAAAAAAAAAAAAAAAAAAAAAAAAAAAAAAAAAAAAAAAAAAAAAAAAAAAAAAAAAAAAAAAAAAAAAAAAAAAAAAAAAAAAAAAAAAAAAAAAAAAAAAAAAAAAAAAAAAAAAAAAAAAAAAAAAAAAAAAAAAAAAAAAAAAAAAAAAAAAAAAAAAAAAAAAAAAAAAAAAAAAAAAAAAAAAAAAAAAAAAAAAAAAAAAAAAAAAAAAAAAAAAAAAAAAAAAAAAAAAAAAAAAAAAAAAAAAAAAAAAAAAAAAAAAAAAAAAAAAAAAAAAAAAAAAAAAAAAAAAAAAAAAAAAAAAAAAAAAAAAAAAAAAAAAAAAAAAAAAAAAAAAAAAAAAAAAAAAAAAAAAAAAAAAAAAAAAAAAAAAAAAAAAAAAAAAAAAAAAAAAAAAAAAAAAAAAAAAAAAAAAAAAAAAAAAAAAAAAAAAAAAAAAAAAAAAAAAAAAAAAAAAAAAAAAAAAAAAAAAAAAAAAAAAAAAAAAAAAAAAAAAAAAAAAAAAAAAAAAAAAAAAAAAAAAAAAAAAAAAAAAAAAAAAAAAAAAAAAAAAAAAAAAAAAAAAAAAAAAAAAAAAAAAAAAAAAAAAAAAAAAAAAAAAAAAAAAAAAAAAAAAAAAAAAAAAAAAAAAAAAAAAAAAAAAAAAAAAAAAAAAAAAAAAAAAAAAAAAAAAAAAAAAAAAAAAAAAAAAAAAAAAAAAAAAAAAAAAAAAAAAAAAAAAAAAAAAAAAAAAAAAAAAAAAAAAAAAAAAAAAAAAAAAAAAAAAAAAAAAAAAAAAAAAAAAAAAAAAAAAAAAAAAAAAAAAAAAAAAAAAAAAAAAAAAAAAAAAAAAAAAAAAAAAAAAAAAAAAAAAAAAAAAAAAAAAAAAAAAAAAAAAAAAAAAAAAAAAAAAAAAAAAAAAAAAAAAAAAAAAAAAAAAAAAAAAAAAAAAAAAAAAAAAAAAAAAAAAAAAAAAAAAAAAAAAAAAAAAAAAAAAAAAAAAAAAAAAAAAAAAAAAAAAAAAAAAAAAAAAAAAAAAAAAAAAAAAAAAAAAAAAAAAAAAAAAAAAAAAAAAAAAAAAAAAAAAAAAAAAAAAAAAAAAAAAAAAAAAAAAAAAAAAAAAAAAAAAAAAAAAAAAAAAAAAAAAAAAAAAAAAAAAAAAAAAAAAAAAAAAAAAAAAAAAAAAAAAAAAAAAAAAAAAAAAAAAAAAAAAAAAAAAAAAAAAAAAAAAAAAAAAAAAAAAAAAAAAAAAAAAAAAAAAAAAAAAAAAAAAAAAAAAAAAAAAAAAAAAAAAAAAAAAAAAAAAAAAAAAAAAAAAAAAAAAAAAAAAAAAAAAAAAAAAAAAAAAAAAAAAAAAAAAAAAAAAAAAAAAAAAAAAAAAAAAAAAAAAAAAAAAAAAAAAAAAAAAAAAAAAAAAAAAAAAAAAAAAAAAAAAAAAAAAAAAAAAAAAAAAAAAAAAAAAAAAAAAAAAAAAAAAAAAAAAAAAAAAAAAAAAAAAAAAAAAAAAAAAAAAAAAAAAAAAAAAAAAAAAAAAAAAAAAAAAAAAAAAAAAAAAAAAAAAAAAAAAAAAAAAAAAAAAAAAAAAAAAAAAAAAAAAAAAAAAAAAAAAAAAAAAAAAAAAAAAAAAAAAAAAAAAAAAAAAAAAAAAAAAAAAAAAAAAAAAAAAAAAAAAAAAAAAAAAAAAAAAAAAAAAAAAAAAAAAAAAAAAAAAAAAAAAAAAAAAAAAAAAAAAAAAAAAAAAAAAAAAAAAAAAAAAAAAAAAAAAAAAAAAAAAAAAAAAAAAAAAAAAAAAAAAAAAAAAAAAAAAAAAAAAAAAAAAAAAAAAAAAAAAAAAAAAAAAAAAAAAAAAAAAAAAAAAAAAAAAAAAAAAAAAAAAAAAAAAAAAAAAAAAAAAAAAAAAAAAAAAAAAAAAAAAAAAAAAAAAAAAAAAAAAAAAAAAAAAAAAAAAAAAAAAAAAAAAAAAAAAAAAAAAAAAAAAAAAAAAAAAAAAAAAAAAAAAAAAAAAAAAAAAAAAAAAAAAAAAAAAAAAAAAAAAAAAAAAAAAAAAAAAAAAAAAAAAAAAAAAAAAAAAAAAAAAAAAAAAAAAAAAAAAAAAAAAAAAAAAAAAAAAAAAAAAAAAAAAAAAAAAAAAAAAAAAAAAAAAAAAAAAAAAAAAAAAAAAAAAAAAAAAAAAAAAAAAAAAAAAAAAAAAAAAAAAAAAAAAAAAAAAAAAAAAAAAAAAAAAAAAAAAAAAAAAAAAAAAAAAAAAAAAAAAAAAAAAAAAAAAAAAAAAAAAAAAAAAAAAAAAAAAAAAAAAAAAAAAAAAAAAAAAAAAAAAAAAAAAAAAAAAAAAAAAAAAAAAAAAAAAAAAAAAAAAAAAAAAAAAAAAAAAAAAAAAAAAAAAAAAAAAAAAAAAAAAAAAAAAAAAAAAAAAAAAAAAAAAAAAAAAAAAAAAAAAAAAAAAAAAAAAAAAAAAAAAAAAAAAAAAAAAAAAAAAAAAAAAAAAAAAAAAAAAAAAAAAAAAAAAAAAAAAAAAAAAAAAAAAAAAAAAAAAAAAAAAAAAAAAAAAAAAAAAAAAAAAAAAAAAAAAAAAAAAAAAAAAAAAAAAAAAAAAAAAAAAAAAAAAAAAAAAAAAAAAAAAAAAAAAAAAAAAAAAAAAAAAAAAAAAAAAAAAAAAAAAAAAAAAAAAAAAAAAAAAAAAAAAAAAAAAAAAAAAAAAAAAAAAAAAAAAAAAAAAAAAAAAAAAAAAAAAAAAAAAAAAAAAAAAAAAAAAAAAAAAAAAAAAAAAAAAAAAAAAAAAAAAAAAAAAAAAAAAAAAAAAAAAAAAAAAAAAAAAAAAAAAAAAAAAAAAAAAAAAAAAAAAAAAAAAAAAAAAAAAAAAAAAAAAAAAAAAAAAAAAAAAAAAAAAAAAAAAAAAAAAAAAAAAAAAAAAAAAAAAAAAAAAAAAAAAAAAAAAAAAAAAAAAAAAAAAAAAAAAAAAAAAAAAAAAAAAAAAAAAAAAAAAAAAAAAAAAAAAAAAAAAAAAAAAAAAAAAAAAAAAAAAAAAAAAAAAAAAAAAAAAAAAAAAAAAAAAAAAAAAAAAAAAAAAAAAAAAAAAAAAAAAAAAAAAAAAAAAAAAAAAAAAAAAAAAAAAAAAAAAAAAAAAAAAAAAAAAAAAAAAAAAAAAAAAAAAAAAAAAAAAAAAAAAAAAAAAAAAAAAAAAAAAAAAAAAAAAAAAAAAAAAAAAAAAAAAAAAAAAAAAAAAAAAAAAAAAAAAAAAAAAAAAAAAAAAAAAAAAAAAAAAAAAAAAAAAAAAAAAAAAAAAAAAAAAAAAAAAAAAAAAAAAAAAAAAAAAAAAAAAAAAAAAAAAAAAAAAAAAAAAAAAAAAAAAAAAAAAAAAAAAAAAAAAAAAAAAAAAAAAAAAAAAAAAAAAAAAAAAAAAAAAAAAAAAAAAAAAAAAAAAAAAAAAAAAAAAAAAAAAAAAAAAAAAAAAAAAAAAAAAAAAAAAAAAAAAAAAAAAAAAAAAAAAAAAAAAAAAAAAAAAAAAAAAAAAAAAAAAAAAAAAAAAAAAAAAAAAAAAAAAAAAAAAAAAAAAAAAAAAAAAAAAAAAAAAAAAAAAAAAAAAAAAAAAAAAAAAAAAAAAAAAAAAAAAAAAAAAAAAAAAAAAAAAAAAAAAAAAAAAAAAAAAAAAAAAAAAAAAAAAAAAAAAAAAAAAAAAAAAAAAAAAAAAAAAAAAAAAAAAAAAAAAAAAAAAAAAAAAAAAAAAAAAAAAAAAAAAAAAAAAAAAAAAAAAAAAAAAAAAAAAAAAAAAAAAAAAAAAAAAAAAAAAAAAAAAAAAAAAAAAAAAAAAAAAAAAAAAAAAAAAAAAAAAAAAAAAAAAAAAAAAAAAAAAAAAAAAAAAAAAAAAAAAAAAAAAAAAAAAAAAAAAAAAAAAAAAAAAAAAAAAAAAAAAAAAAAAAAAAAAAAAAAAAAAAAAAAAAAAAAAAAAAAAAAAAAAAAAAAAAAAAAAAAAAAAAAAAAAAAAAAAAAAAAAAAAAAAAAAAAAAAAAAAAAAAAAAAAAAAAAAAAAAAAAAAAAAAAAAAAAAAAAAAAAAAAAAAAAAAAAAAAAAAAAAAAAAAAAAAAAAAAAAAAAAAAAAAAAAAAAAAAAAAAAAAAAAAAAAAAAAAAAAAAAAAAAAAAAAAAAAAAAAAAAAAAAAAAAAAAAAAAAAAAAAAAAAAAAAAAAAAAAAAAAAAAAAAAAAAAAAAAAAAAAAAAAAAAAAAAAAAAAAAAAAAAAAAAAAAAAAAAAAAAAAAAAAAAAAAAAAAAAAAAAAAAAAAAAAAAAAAAAAAAAAAAAAAAAAAAAAAAAAAAAAAAAAAAAAAAAAAAAAAAAAAAAAAAAAAAAAAAAAAAAAAAAAAAAAAAAAAAAAAAAAAAAAAAAAAAAAAAAAAAAAAAAAAAAAAAAAAAAAAAAAAAAAAAAAAAAAAAAAAAAAAAAAAAAAAAAAAAAAAAAAAAAAAAAAAAAAAAAAAAAAAAAAAAAAAAAAAAAAAAAAAAAAAAAAAAAAAAAAAAAAAAAAAAAAAAAAAAAAAAAAAAAAAAAAAAAAAAAAAAAAAAAAAAAAAAAAAAAAAAAAAAAAAAAAAAAAAAAAAAAAAAAAAAAAAAAAAAAAAAAAAAAAAAAAAAAAAAAAAAAAAAAAAAAAAAAAAAAAAAAAAAAAAAAAAAAAAAAAAAAAAAAAAAAAAAAAAAAAAAAAAAAAAAAAAAAAAAAAAAAAAAAAAAAAAAAAAAAAAAAAAAAAAAAAAAAAAAAAAAAAAAAAAAAAAAAAAAAAAAAAAAAAAAAAAAAAAAAAAAAAAAAAAAAAAAAAAAAAAAAAAAAAAAAAAAAAAAAAAAAAAAAAAAAAAAAAAAAAAAAAAAAAAAAAAAAAAAAAAAAAAAAAAAAAAAAAAAAAAAAAAAAAAAAAAAAAAAAAAAAAAAAAAAAAAAAAAAAAAAAAAAAAAAAAAAAAAAAAAAAAAAAAAAAAAAAAAAAAAAAAAAAAAAAAAAAAAAAAAAAAAAAAAAAAAAAAAAAAAAAAAAAAAAAAAAAAAAAAAAAAAAAAAAAAAAAAAAAAAAAAAAAAAAAAAAAAAAAAAAAAAAAAAAAAAAAAAAAAAAAAAAAAAAAAAAAAAAAAAAAAAAAAAAAAAAAAAAAAAAAAAAAAAAAAAAAAAAAAAAAAAAAAAAAAAAAAAAAAAAAAAAAAAAAAAAAAAAAAAAAAAAAAAAAAAAAAAAAAAAAAAAAAAAAAAAAAAAAAAAAAAAAAAAAAAAAAAAAAAAAAAAAAAAAAAAAAAAAAAAAAAAAAAAAAAAAAAAAAAAAAAAAAAAAAAAAAAAAAAAAAAAAAAAAAAAAAAAAAAAAAAAAAAAAAAAAAAAAAAAAAAAAAAAAAAAAAAAAAAAAAAAAAAAAAAAAAAAAAAAAAAAAAAAAAAAAAAAAAAAAAAAAAAAAAAAAAAAAAAAAAAAAAAAAAAAAAAAAAAAAAAAAAAAAAAAAAAAAAAAAAAAAAAAAAAAAAAAAAAAAAAAAAAAAAAAAAAAAAAAAAAAAAAAAAAAAAAAAAAAAAAAAAAAAAAAAAAAAAAAAAAAAAAAAAAAAAAAAAAAAAAAAAAAAAAAAAAAAAAAAAAAAAAAAAAAAAAAAAAAAAAAAAAAAAAAAAAAAAAAAAAAAAAAAAAAAAAAAAAAAAAAAAAAAAAAAAAAAAAAAAAAAAAAAAAAAAAAAAAAAAAAAAAAAAAAAAAAAAAAAAAAAAAAAAAAAAAAAAAAAAAAAAAAAAAAAAAAAAAAAAAAAAAAAAAAAAAAAAAAAAAAAAAAAAAAAAAAAAAAAAAAAAAAAAAAAAAAAAAAAAAAAAAAAAAAAAAAAAAAAAAAAAAAAAAAAAAAAAAAAAAAAAAAAAAAAAAAAAAAAAAAAAAAAAAAAAAAAAAAAAAAAAAAAAAAAAAAAAAAAAAAAAAAAAAAAAAAAAAAAAAAAAAAAAAAAAAAAAAAAAAAAAAAAAAAAAAAAAAAAAAAAAAAAAAAAAAAAAAAAAAAAAAAAAAAAAAAAAAAAAAAAAAAAAAAAAAAAAAAAAAAAAAAAAAAAAAAAAAAAAAAAAAAAAAAAAAAAAAAAAAAAAAAAAAAAAAAAAAAAAAAAAAAAAAAAAAAAAAAAAAAAAAAAAAAAAAAAAAAAAAAAAAAAAAAAAAAAAAAAAAAAAAAAAAAAAAAAAAAAAAAAAAAAAAAAAAAAAAAAAAAAAAAAAAAAAAAAAAAAAAAAAAAAAAAAAAAAAAAAAAAAAAAAAAAAAAAAAAAAAAAAAAAAAAAAAAAAAAAAAAAAAAAAAAAAAAAAAAAAAAAAAAAAAAAAAAAAAAAAAAAAAAAAAAAAAAAAAAAAAAAAAAAAAAAAAAAAAAAAAAAAAAAAAAAAAAAAAAAAAAAAAAAAAAAAAAAAAAAAAAAAAAAAAAAAAAAAAAAAAAAAAAAAAAAAAAAAAAAAAAAAAAAAAAAAAAAAAAAAAAAAAAAAAAAAAAAAAAAAAAAAAAAAAAAAAAAAAAAAAAAAAAAAAAAAAAAAAAAAAAAAAAAAAAAAAAAAAAAAAAAAAAAAAAAAAAAAAAAAAAAAAAAAAAAAAAAAAAAAAAAAAAAAAAAAAAAAAAAAAAAAAAAAAAAAAAAAAAAAAAAAAAAAAAAAAAAAAAAAAAAAAAAAAAAAAAAAAAAAAAAAAAAAAAAAAAAAAAAAAAAAAAAAAAAAAAAAAAAAAAAAAAAAAAAAAAAAAAAAAAAAAAAAAAAAAAAAAAAAAAAAAAAAAAAAAAAAAAAAAAAAAAAAAAAAAAAAAAAAAAAAAAAAAAAAAAAAAAAAAAAAAAAAAAAAAAAAAAAAAAAAAAAAAAAAAAAAAAAAAAAAAAAAAAAAAAAAAAAAAAAAAAAAAAAAAAAAAAAAAAAAAAAAAAAAAAAAAAAAAAAAAAAAAAAAAAAAAAAAAAAAAAAAAAAAAAAAAAAAAAAAAAAAAAAAAAAAAAAAAAAAAAAAAAAAAAAAAAAAAAAAAAAAAAAAAAAAAAAAAAAAAAAAAAAAAAAAAAAAAAAAAAAAAAAAAAAAAAAAAAAAAAAAAAAAAAAAAAAAAAAAAAAAAAAAAAAAAAAAAAAAAAAAAAAAAAAAAAAAAAAAAAAAAAAAAAAAAAAAAAAAAAAAAAAAAAAAAAAAAAAAAAAAAAAAAAAAAAAAAAAAAAAAAAAAAAAAAAAAAAAAAAAAAAAAAAAAAAAAAAAAAAAAAAAAAAAAAAAAAAAAAAAAAAAAAAAAAAAAAAAAAAAAAAAAAAAAAAAAAAAAAAAAAAAAAAAAAAAAAAAAAAAAAAAAAAAAAAAAAAAAAAAAAAAAAAAAAAAAAAAAAAAAAAAAAAAAAAAAAAAAAAAAAAAAAAAAAAAAAAAAAAAAAAAAAAAAAAAAAAAAAAAAAAAAAAAAAAAAAAAAAAAAAAAAAAAAAAAAAAAAAAAAAAAAAAAAAAAAAAAAAAAAAAAAAAAAAAAAAAAAAAAAAAAAAAAAAAAAAAAAAAAAAAAAAAAAAAAAAAAAAAAAAAAAAAAAAAAAAAAAAAAAAAAAAAAAAAAAAAAAAAAAAAAAAAAAAAAAAAAAAAAAAAAAAAAAAAAAAAAAAAAAAAAAAAAAAAAAAAAAAAAAAAAAAAAAAAAAAAAAAAAAAAAAAAAAAAAAAAAAAAAAAAAAAAAAAAAAAAAAAAAAAAAAAAAAAAAAAAAAAAAAAAAAAAAAAAAAAAAAAAAAAAAAAAAAAAAAAAAAAAAAAAAAAAAAAAAAAAAAAAAAAAAAAAAAAAAAAAAAAAAAAAAAAAAAAAAAAAAAAAAAAAAAAAAAAAAAAAAAAAAAAAAAAAAAAAAAAAAAAAAAAAAAAAAAAAAAAAAAAAAAAAAAAAAAAAAAAAAAAAAAAAAAAAAAAAAAAAAAAAAAAAAAAAAAAAAAAAAAAAAAAAAAAAAAAAAAAAAAAAAAAAAAAAAAAAAAAAAAAAAAAAAAAAAAAAAAAAAAAAAAAAAAAAAAAAAAAAAAAAAAAAAAAAAAAAAAAAAAAAAAAAAAAAAAAAAAAAAAAAAAAAAAAAAAAAAAAAAAAAAAAAAAAAAAAAAAAAAAAAAAAAAAAAAAAAAAAAAAAAAAAAAAAAAAAAAAAAAAAAAAAAAAAAAAAAAAAAAAAAAAAAAAAAAAAAAAAAAAAAAAAAAAAAAAAAAAAAAAAAAAAAAAAAAAAAAAAAAAAAAAAAAAAAAAAAAAAAAAAAAAAAAAAAAAAAAAAAAAAAAAAAAAAAAAAAAAAAAAAAAAAAAAAAAAAAAAAAAAAAAAAAAAAAAAAAAAAAAAAAAAAAAAAAAAAAAAAAAAAAAAAAAAAAAAAAAAAAAAAAAAAAAAAAAAAAAAAAAAAAAAAAAAAAAAAAAAAAAAAAAAAAAAAAAAAAAAAAAAAAAAAAAAAAAAAAAAAAAAAAAAAAAAAAAAAAAAAAAAAAAAAAAAAAAAAAAAAAAAAAAAAAAAAAAAAAAAAAAAAAAAAAAAAAAAAAAAAAAAAAAAAAAAAAAAAAAAAAAAAAAAAAAAAAAAAAAAAAAAAAAAAAAAAAAAAAAAAAAAAAAAAAAAAAAAAAAAAAAAAAAAAAAAAAAAAAAAAAAAAAAAAAAAAAAAAAAAAAAAAAAAAAAAAAAAAAAAAAAAAAAAAAAAAAAAAAAAAAAAAAAAAAAAAAAAAAAAAAAAAAAAAAAAAAAAAAAAAAAAAAAAAAAAAAAAAAAAAAAAAAAAAAAAAAAAAAAAAAAAAAAAAAAAAAAAAAAAAAAAAAAAAAAAAAAAAAAAAAAAAAAAAAAAAAAAAAAAAAAAAAAAAAAAAAAAAAAAAAAAAAAAAAAAAAAAAAAAAAAAAAAAAAAAAAAAAAAAAAAAAAAAAAAAAAAAAAAAAAAAAAAAAAAAAAAAAAAAAAAAAAAAAAAAAAAAAAAAAAAAAAAAAAAAAAAAAAAAAAAAAAAAAAAAAAAAAAAAAAAAAAAAAAAAAAAAAAAAAAAAAAAAAAAAAAAAAAAAAAAAAAAAAAAAAAAAAAAAAAAAAAAAAAAAAAAAAAAAAAAAAAAAAAAAAAAAAAAAAAAAAAAAAAAAAAAAAAAAAAAAAAAAAAAAAAAAAAAAAAAAAAAAAAAAAAAAAAAAAAAAAAAAAAAAAAAAAAAAAAAAAAAAAAAAAAAAAAAAAAAAAAAAAAAAAAAAAAAAAAAAAAAAAAAAAAAAAAAAAAAAAAAAAAAAAAAAAAAAAAAAAAAAAAAAAAAAAAAAAAAAAAAAAAAAAAAAAAAAAAAAAAAAAAAAAAAAAAAAAAAAAAAAAAAAAAAAAAAAAAAAAAAAAAAAAAAAAAAAAAAAAAAAAAAAAAAAAAAAAAAAAAAAAAAAAAAAAAAAAAAAAAAAAAAAAAAAAAAAAAAAAAAAAAAAAAAAAAAAAAAAAAAAAAAAAAAAAAAAAAAAAAAAAAAAAAAAAAAAAAAAAAAAAAAAAAAAAAAAAAAAAAAAAAAAAAAAAAAAAAAAAAAAAAAAAAAAAAAAAAAAAAAAAAAAAAAAAAAAAAAAAAAAAAAAAAAAAAAAAAAAAAAAAAAAAAAAAAAAAAAAAAAAAAAAAAAAAAAAAAAAAAAAAAAAAAAAAAAAAAAAAAAAAAAAAAAAAAAAAAAAAAAAAAAAAAAAAAAAAAAAAAAAAAAAAAAAAAAAAAAAAAAAAAAAAAAAAAAAAAAAAAAAAAAAAAAAAAAAAAAAAAAAAAAAAAAAAAAAAAAAAAAAAAAAAAAAAAAAAAAAAAAAAAAAAAAAAAAAAAAAAAAAAAAAAAAAAAAAAAAAAAAAAAAAAAAAAAAAAAAAAAAAAAAAAAAAAAAAAAAAAAAAAAAAAAAAAAAAAAAAAAAAAAAAAAAAAAAAAAAAAAAAAAAAAAAAAAAAAAAAAAAAAAAAAAAAAAAAAAAAAAAAAAAAAAAAAAAAAAAAAAAAAAAAAAAAAAAAAAAAAAAAAAAAAAAAAAAAAAAAAAAAAAAAAAAAAAAAAAAAAAAAAAAAAAAAAAAAAAAAAAAAAAAAAAAAAAAAAAAAAAAAAAAAAAAAAAAAAAAAAAAAAAAAAAAAAAAAAAAAAAAAAAAAAAAAAAAAAAAAAAAAAAAAAAAAAAAAAAAAAAAAAAAAAAAAAAAAAAAAAAAAAAAAAAAAAAAAAAAAAAAAAAAAAAAAAAAAAAAAAAAAAAAAAAAAAAAAAAAAAAAAAAAAAAAAAAAAAAAAAAAAAAAAAAAAAAAAAAAAAAAAAAAAAAAAAAAAAAAAAAAAAAAAAAAAAAAAAAAAAAAAAAAAAAAAAAAAAAAAAAAAAAAAAAAAAAAAAAAAAAAAAAAAAAAAAAAAAAAAAAAAAAAAAAAAAAAAAAAAAAAAAAAAAAAAAAAAAAAAAAAAAAAAAAAAAAAAAAAAAAAAAAAAAAAAAAAAAAAAAAAAAAAAAAAAAAAAAAAAAAAAAAAAAAAAAAAAAAAAAAAAAAAAAAAAAAAAAAAAAAAAAAAAAAAAAAAAAAAAAAAAAAAAAAAAAAAAAAAAAAAAAAAAAAAAAAAAAAAAAAAAAAAAAAAAAAAAAAAAAAAAAAAAAAAAAAAAAAAAAAAAAAAAAAAAAAAAAAAAAAAAAAAAAAAAAAAAAAAAAAAAAAAAAAAAAAAAAAAAAAAAAAAAAAAAAAAAAAAAAAAAAAAAAAAAAAAAAAAAAAAAAAAAAAAAAAAAAAAAAAAAAAAAAAAAAAAAAAAAAAAAAAAAAAAAAAAAAAAAAAAAAAAAAAAAAAAAAAAAAAAAAAAAAAAAAAAAAAAAAAAAAAAAAAAAAAAAAAAAAAAAAAAAAAAAAAAAAAAAAAAAAAAAAAAAAAAAAAAAAAAAAAAAAAAAAAAAAAAAAAAAAAAAAAAAAAAAAAAAAAAAAAAAAAAAAAAAAAAAAAAAAAAAAAAAAAAAAAAAAAAAAAAAAAAAAAAAAAAAAAAAAAAAAAAAAAAAAAAAAAAAAAAAAAAAAAAAAAAAAAAAAAAAAAAAAAAAAAAAAAAAAAAAAAAAAAAAAAAAAAAAAAAAAAAAAAAAAAAAAAAAAAAAAAAAAAAAAAAAAAAAAAAAAAAAAAAAAAAAAAAAAAAAAAAAAAAAAAAAAAAAAAAAAAAAAAAAAAAAAAAAAAAAAAAAAAAAAAAAAAAAAAAAAAAAAAAAAAAAAAAAAAAAAAAAAAAAAAAAAAAAAAAAAAAAAAAAAAAAAAAAAAAAAAAAAAAAAAAAAAAAAAAAAAAAAAAAAAAAAAAAAAAAAAAAAAAAAAAAAAAAAAAAAAAAAAAAAAAAAAAAAAAAAAAAAAAAAAAAAAAAAAAAAAAAAAAAAAAAAAAAAAAAAAAAAAAAAAAAAAAAAAAAAAAAAAAAAAAAAAAAAAAAAAAAAAAAAAAAAAAAAAAAAAAAAAAAAAAAAAAAAAAAAAAAAAAAAAAAAAAAAAAAAAAAAAAAAAAAAAAAAAAAAAAAAAAAAAAAAAAAAAAAAAAAAAAAAAAAAAAAAAAAAAAAAAAAAAAAAAAAAAAAAAAAAAAAAAAAAAAAAAAAAAAAAAAAAAAAAAAAAAAAAAAAAAAAAAAAAAAAAAAAAAAAAAAAAAAAAAAAAAAAAAAAAAAAAAAAAAAAAAAAAAAAAAAAAAAAAAAAAAAAAAAAAAAAAAAAAAAAAAAAAAAAAAAAAAAAAAAAAAAAAAAAAAAAAAAAAAAAAAAAAAAAAAAAAAAAAAAAAAAAAAAAAAAAAAAAAAAAAAAAAAAAAAAAAAAAAAAAAAAAAAAAAAAAAAAAAAAAAAAAAAAAAAAAAAAAAAAAAAAAAAAAAAAAAAAAAAAAAAAAAAAAAAAAAAAAAAAAAAAAAAAAAAAAAAAAAAAAAAAAAAAAAAAAAAAAAAAAAAAAAAAAAAAAAAAAAAAAAAAAAAAAAAAAAAAAAAAAAAAAAAAAAAAAAAAAAAAAAAAAAAAAAAAAAAAAAAAAAAAAAAAAAAAAAAAAAAAAAAAAAAAAAAAAAAAAAAAAAAAAAAAAAAAAAAAAAAAAAAAAAAAAAAAAAAAAAAAAAAAAAAAAAAAAAAAAAAAAAAAAAAAAAAAAAAAAAAAAAAAAAAAAAAAAAAAAAAAAAAAAAAAAAAAAAAAAAAAAAAAAAAAAAAAAAAAAAAAAAAAAAAAAAAAAAAAAAAAAAAAAAAAAAAAAAAAAAAAAAAAAAAAAAAAAAAAAAAAAAAAAAAAAAAAAAAAAAAAAAAAAAAAAAAAAAAAAAAAAAAAAAAAAAAAAAAAAAAAAAAAAAAAAAAAAAAAAAAAAAAAAAAAAAAAAAAAAAAAAAAAAAAAAAAAAAAAAAAAAAAAAAAAAAAAAAAAAAAAAAAAAAAAAAAAAAAAAAAAAAAAAAAAAAAAAAAAAAAAAAAAAAAAAAAAAAAAAAAAAAAAAAAAAAAAAAAAAAAAAAAAAAA==\" type=\"audio/wav\" />\n",
       "                    Your browser does not support the audio element.\n",
       "                </audio>\n",
       "              "
      ],
      "text/plain": [
       "<IPython.lib.display.Audio object>"
      ]
     },
     "execution_count": 55,
     "metadata": {},
     "output_type": "execute_result"
    }
   ],
   "source": [
    "base = '/data/home/advaitmb/datasets/sentences/'\n",
    "med_duration=4\n",
    "wav,sr = librosa.load(base+audio['wav_file'][2]+'.wav',sr=None)\n",
    "\n",
    "if wav.shape[0]<(med_duration*sr):\n",
    "    wav=np.pad(wav,int( np.ceil( ((med_duration*sr)-wav.shape[0])/2 ) ),mode='constant', constant_values=(0, 0))\n",
    "else:\n",
    "    wav=wav[:(med_duration*sr)]\n",
    "wav = nr.reduce_noise(audio_clip=wav, noise_clip=wav, verbose=False)\n",
    "\n",
    "IPython.display.Audio(data=wav, rate=sr)"
   ]
  },
  {
   "cell_type": "code",
   "execution_count": 4,
   "metadata": {},
   "outputs": [],
   "source": [
    "def get_melspectrogram_db(file_path, med_duration ,sr=None, n_fft=128, hop_length=512, n_mels=65, fmin=100, fmax=15000, top_db=80):\n",
    "    med_duration = int(np.floor(med_duration))\n",
    "    wav,sr = librosa.load(file_path,sr=sr)\n",
    "    wav = nr.reduce_noise(audio_clip=wav, noise_clip=wav, verbose=False)\n",
    "    if wav.shape[0]<(med_duration*sr):\n",
    "        wav=np.pad(wav,int( np.ceil( ((med_duration*sr)-wav.shape[0])/2 ) ),mode='constant', constant_values=(0, 0))\n",
    "    else:\n",
    "        wav=wav[:(med_duration*sr)]\n",
    "    spec=librosa.feature.melspectrogram(wav, sr=sr, n_fft=n_fft,\n",
    "              hop_length=hop_length,n_mels=n_mels, power=1)\n",
    "    spec_db=librosa.amplitude_to_db(spec)\n",
    "    return spec_db"
   ]
  },
  {
   "cell_type": "code",
   "execution_count": 139,
   "metadata": {},
   "outputs": [],
   "source": [
    "def get_spectrogram_db(file_path, med_duration ,sr=None, n_fft=256, hop_length=500, n_mels=128, fmin=100, fmax=15000, top_db=80):\n",
    "    med_duration = int(np.floor(med_duration))\n",
    "    wav,sr = librosa.load(file_path,sr=sr)\n",
    "    wav = nr.reduce_noise(audio_clip=wav, noise_clip=wav, verbose=False)\n",
    "    if wav.shape[0]<(med_duration*sr):\n",
    "        wav=np.pad(wav,int( np.ceil( ((med_duration*sr)-wav.shape[0])/2 ) ),mode='constant', constant_values=(0, 0))\n",
    "    else:\n",
    "        wav=wav[:(med_duration*sr)]\n",
    "    spec=np.abs(librosa.stft(wav, n_fft=n_fft, hop_length=hop_length))\n",
    "#     spec_db=librosa.amplitude_to_db(spec)\n",
    "    return spec"
   ]
  },
  {
   "cell_type": "code",
   "execution_count": 140,
   "metadata": {},
   "outputs": [],
   "source": [
    "def spec_to_image(spec, eps=1e-6):\n",
    "    mean = spec.mean()\n",
    "    std = spec.std()\n",
    "    spec_norm = (spec - mean) / (std + eps)\n",
    "    spec_min, spec_max = spec_norm.min(), spec_norm.max()\n",
    "    spec_scaled = 255 * (spec_norm - spec_min) / (spec_max - spec_min)\n",
    "\n",
    "    return spec_scaled"
   ]
  },
  {
   "cell_type": "code",
   "execution_count": 5,
   "metadata": {},
   "outputs": [],
   "source": [
    "def normalize(spec):\n",
    "    return (spec - spec.mean())/(spec.std())"
   ]
  },
  {
   "cell_type": "code",
   "execution_count": 142,
   "metadata": {},
   "outputs": [
    {
     "data": {
      "text/plain": [
       "1.0"
      ]
     },
     "execution_count": 142,
     "metadata": {},
     "output_type": "execute_result"
    }
   ],
   "source": [
    "normalize(get_spectrogram_db('/data/home/advaitmb/datasets/sentences/' + audio['wav_file'][0] + '.wav', 4)).std()"
   ]
  },
  {
   "cell_type": "code",
   "execution_count": 143,
   "metadata": {},
   "outputs": [
    {
     "data": {
      "text/html": [
       "<div>\n",
       "<style scoped>\n",
       "    .dataframe tbody tr th:only-of-type {\n",
       "        vertical-align: middle;\n",
       "    }\n",
       "\n",
       "    .dataframe tbody tr th {\n",
       "        vertical-align: top;\n",
       "    }\n",
       "\n",
       "    .dataframe thead th {\n",
       "        text-align: right;\n",
       "    }\n",
       "</style>\n",
       "<table border=\"1\" class=\"dataframe\">\n",
       "  <thead>\n",
       "    <tr style=\"text-align: right;\">\n",
       "      <th></th>\n",
       "      <th>index</th>\n",
       "      <th>start_time</th>\n",
       "      <th>end_time</th>\n",
       "      <th>wav_file</th>\n",
       "      <th>emotion</th>\n",
       "      <th>val</th>\n",
       "      <th>act</th>\n",
       "      <th>dom</th>\n",
       "    </tr>\n",
       "  </thead>\n",
       "  <tbody>\n",
       "    <tr>\n",
       "      <th>35</th>\n",
       "      <td>35</td>\n",
       "      <td>4.8800</td>\n",
       "      <td>7.74</td>\n",
       "      <td>Ses01F_impro03_F000</td>\n",
       "      <td>hap</td>\n",
       "      <td>4.3333</td>\n",
       "      <td>2.6667</td>\n",
       "      <td>2.6667</td>\n",
       "    </tr>\n",
       "    <tr>\n",
       "      <th>36</th>\n",
       "      <td>36</td>\n",
       "      <td>7.9300</td>\n",
       "      <td>11.37</td>\n",
       "      <td>Ses01F_impro03_F001</td>\n",
       "      <td>hap</td>\n",
       "      <td>4.0000</td>\n",
       "      <td>2.6667</td>\n",
       "      <td>2.6667</td>\n",
       "    </tr>\n",
       "    <tr>\n",
       "      <th>37</th>\n",
       "      <td>37</td>\n",
       "      <td>12.8000</td>\n",
       "      <td>15.37</td>\n",
       "      <td>Ses01F_impro03_F002</td>\n",
       "      <td>hap</td>\n",
       "      <td>4.3333</td>\n",
       "      <td>3.0000</td>\n",
       "      <td>2.3333</td>\n",
       "    </tr>\n",
       "    <tr>\n",
       "      <th>38</th>\n",
       "      <td>38</td>\n",
       "      <td>21.7500</td>\n",
       "      <td>25.52</td>\n",
       "      <td>Ses01F_impro03_F004</td>\n",
       "      <td>hap</td>\n",
       "      <td>4.6667</td>\n",
       "      <td>3.6667</td>\n",
       "      <td>2.3333</td>\n",
       "    </tr>\n",
       "    <tr>\n",
       "      <th>39</th>\n",
       "      <td>39</td>\n",
       "      <td>25.5584</td>\n",
       "      <td>28.14</td>\n",
       "      <td>Ses01F_impro03_F005</td>\n",
       "      <td>hap</td>\n",
       "      <td>4.3333</td>\n",
       "      <td>4.0000</td>\n",
       "      <td>2.3333</td>\n",
       "    </tr>\n",
       "  </tbody>\n",
       "</table>\n",
       "</div>"
      ],
      "text/plain": [
       "    index  start_time  end_time             wav_file emotion     val     act  \\\n",
       "35     35      4.8800      7.74  Ses01F_impro03_F000     hap  4.3333  2.6667   \n",
       "36     36      7.9300     11.37  Ses01F_impro03_F001     hap  4.0000  2.6667   \n",
       "37     37     12.8000     15.37  Ses01F_impro03_F002     hap  4.3333  3.0000   \n",
       "38     38     21.7500     25.52  Ses01F_impro03_F004     hap  4.6667  3.6667   \n",
       "39     39     25.5584     28.14  Ses01F_impro03_F005     hap  4.3333  4.0000   \n",
       "\n",
       "       dom  \n",
       "35  2.6667  \n",
       "36  2.6667  \n",
       "37  2.3333  \n",
       "38  2.3333  \n",
       "39  2.3333  "
      ]
     },
     "execution_count": 143,
     "metadata": {},
     "output_type": "execute_result"
    }
   ],
   "source": [
    "neu = audio[ audio['emotion'] =='neu' ]\n",
    "ang = audio[ audio['emotion'] =='ang' ]\n",
    "hap = audio[ audio['emotion'] =='hap' ]\n",
    "sad = audio[ audio['emotion'] =='sad' ]\n",
    "\n",
    "hap.head()"
   ]
  },
  {
   "cell_type": "code",
   "execution_count": 144,
   "metadata": {},
   "outputs": [],
   "source": [
    "def plot_mel_spectrograms(idx):\n",
    "    \n",
    "    fg, axs = plt.subplots(2,3)\n",
    "    fg.tight_layout(pad=1.5)\n",
    "    base = '/data/home/advaitmb/datasets/sentences/'\n",
    "\n",
    "    axs[0, 0].imshow(spec_to_image(get_melspectrogram_db( base+audio['wav_file'][idx[0]]+'.wav', 3 )))\n",
    "    axs[0, 0].set_title(audio['emotion'][idx[0]])\n",
    "    axs[0, 1].imshow(spec_to_image(get_melspectrogram_db( base+audio['wav_file'][idx[1]]+'.wav', 3 )))\n",
    "    axs[0, 1].set_title(audio['emotion'][idx[1]])\n",
    "    axs[0, 2].imshow(spec_to_image(get_melspectrogram_db( base+audio['wav_file'][idx[2]]+'.wav', 3 )))\n",
    "    axs[0, 2].set_title(audio['emotion'][idx[2]])\n",
    "    axs[1, 0].imshow(spec_to_image(get_melspectrogram_db( base+audio['wav_file'][idx[3]]+'.wav', 3 )))\n",
    "    axs[1, 0].set_title(audio['emotion'][idx[3]])\n",
    "    axs[1, 1].imshow(spec_to_image(get_melspectrogram_db( base+audio['wav_file'][idx[4]]+'.wav', 3 )))\n",
    "    axs[1, 1].set_title(audio['emotion'][idx[4]])\n",
    "    axs[1, 2].imshow(spec_to_image(get_melspectrogram_db( base+audio['wav_file'][idx[5]]+'.wav', 3 )))\n",
    "    axs[1, 2].set_title(audio['emotion'][idx[5]])"
   ]
  },
  {
   "cell_type": "code",
   "execution_count": 145,
   "metadata": {},
   "outputs": [],
   "source": [
    "def plot_spectrograms(idx):\n",
    "    \n",
    "    fg, axs = plt.subplots(2,3)\n",
    "    fg.tight_layout(pad=1.5)\n",
    "    base = '/data/home/advaitmb/datasets/sentences/'\n",
    "\n",
    "    axs[0, 0].imshow(normalize(get_spectrogram_db( base+audio['wav_file'][idx[0]]+'.wav', 3 )))\n",
    "    axs[0, 0].set_title(audio['emotion'][idx[0]])\n",
    "    axs[0, 1].imshow(spec_to_image(get_spectrogram_db( base+audio['wav_file'][idx[1]]+'.wav', 3 )))\n",
    "    axs[0, 1].set_title(audio['emotion'][idx[1]])\n",
    "    axs[0, 2].imshow(spec_to_image(get_spectrogram_db( base+audio['wav_file'][idx[2]]+'.wav', 3 )))\n",
    "    axs[0, 2].set_title(audio['emotion'][idx[2]])\n",
    "    axs[1, 0].imshow(spec_to_image(get_spectrogram_db( base+audio['wav_file'][idx[3]]+'.wav', 3 )))\n",
    "    axs[1, 0].set_title(audio['emotion'][idx[3]])\n",
    "    axs[1, 1].imshow(spec_to_image(get_spectrogram_db( base+audio['wav_file'][idx[4]]+'.wav', 3 )))\n",
    "    axs[1, 1].set_title(audio['emotion'][idx[4]])\n",
    "    axs[1, 2].imshow(spec_to_image(get_spectrogram_db( base+audio['wav_file'][idx[5]]+'.wav', 3 )))\n",
    "    axs[1, 2].set_title(audio['emotion'][idx[5]])"
   ]
  },
  {
   "cell_type": "markdown",
   "metadata": {},
   "source": [
    "Happy plots "
   ]
  },
  {
   "cell_type": "code",
   "execution_count": 146,
   "metadata": {},
   "outputs": [
    {
     "data": {
      "image/png": "[encoded data removed]",
      "text/plain": [
       "<Figure size 432x288 with 6 Axes>"
      ]
     },
     "metadata": {
      "needs_background": "light"
     },
     "output_type": "display_data"
    }
   ],
   "source": [
    "plot_spectrograms(hap['index'].values[:6])"
   ]
  },
  {
   "cell_type": "markdown",
   "metadata": {},
   "source": [
    "Neutral Plots "
   ]
  },
  {
   "cell_type": "code",
   "execution_count": 147,
   "metadata": {},
   "outputs": [
    {
     "name": "stderr",
     "output_type": "stream",
     "text": [
      "/anaconda/envs/py36/lib/python3.6/site-packages/librosa/filters.py:235: UserWarning: Empty filters detected in mel frequency basis. Some channels will produce empty responses. Try increasing your sampling rate (and fmax) or reducing n_mels.\n",
      "  warnings.warn('Empty filters detected in mel frequency basis. '\n"
     ]
    },
    {
     "data": {
      "image/png": "[encoded data removed]",
      "text/plain": [
       "<Figure size 432x288 with 6 Axes>"
      ]
     },
     "metadata": {
      "needs_background": "light"
     },
     "output_type": "display_data"
    }
   ],
   "source": [
    "plot_mel_spectrograms(hap['index'].values[:6])"
   ]
  },
  {
   "cell_type": "code",
   "execution_count": 148,
   "metadata": {},
   "outputs": [
    {
     "data": {
      "image/png": "[encoded data removed]",
      "text/plain": [
       "<Figure size 432x288 with 6 Axes>"
      ]
     },
     "metadata": {
      "needs_background": "light"
     },
     "output_type": "display_data"
    }
   ],
   "source": [
    "plot_spectrograms(sad['index'].values[:6])"
   ]
  },
  {
   "cell_type": "code",
   "execution_count": 149,
   "metadata": {},
   "outputs": [
    {
     "data": {
      "image/png": "[encoded data removed]",
      "text/plain": [
       "<Figure size 432x288 with 6 Axes>"
      ]
     },
     "metadata": {
      "needs_background": "light"
     },
     "output_type": "display_data"
    }
   ],
   "source": [
    "plot_spectrograms(ang['index'].values[:6])"
   ]
  },
  {
   "cell_type": "code",
   "execution_count": 150,
   "metadata": {},
   "outputs": [
    {
     "name": "stdout",
     "output_type": "stream",
     "text": [
      "torch.Size([1, 126, 65])\n"
     ]
    },
    {
     "ename": "RuntimeError",
     "evalue": "input.size(-1) must be equal to input_size. Expected 128, got 65",
     "output_type": "error",
     "traceback": [
      "\u001b[0;31m---------------------------------------------------------------------------\u001b[0m",
      "\u001b[0;31mRuntimeError\u001b[0m                              Traceback (most recent call last)",
      "\u001b[0;32m<ipython-input-150-04b9ced58170>\u001b[0m in \u001b[0;36m<module>\u001b[0;34m\u001b[0m\n\u001b[1;32m      2\u001b[0m \u001b[0mx\u001b[0m\u001b[0;34m=\u001b[0m \u001b[0mtorch\u001b[0m\u001b[0;34m.\u001b[0m\u001b[0mfrom_numpy\u001b[0m\u001b[0;34m(\u001b[0m\u001b[0mget_melspectrogram_db\u001b[0m\u001b[0;34m(\u001b[0m\u001b[0;34m'/data/home/advaitmb/datasets/sentences/'\u001b[0m \u001b[0;34m+\u001b[0m \u001b[0maudio\u001b[0m\u001b[0;34m.\u001b[0m\u001b[0mwav_file\u001b[0m\u001b[0;34m[\u001b[0m\u001b[0;36m1000\u001b[0m\u001b[0;34m]\u001b[0m \u001b[0;34m+\u001b[0m \u001b[0;34m'.wav'\u001b[0m\u001b[0;34m,\u001b[0m \u001b[0;36m4\u001b[0m \u001b[0;34m)\u001b[0m\u001b[0;34m.\u001b[0m\u001b[0mT\u001b[0m\u001b[0;34m)\u001b[0m\u001b[0;34m.\u001b[0m\u001b[0munsqueeze\u001b[0m\u001b[0;34m(\u001b[0m\u001b[0;36m0\u001b[0m\u001b[0;34m)\u001b[0m\u001b[0;34m\u001b[0m\u001b[0;34m\u001b[0m\u001b[0m\n\u001b[1;32m      3\u001b[0m \u001b[0mprint\u001b[0m\u001b[0;34m(\u001b[0m\u001b[0mx\u001b[0m\u001b[0;34m.\u001b[0m\u001b[0mshape\u001b[0m\u001b[0;34m)\u001b[0m\u001b[0;34m\u001b[0m\u001b[0;34m\u001b[0m\u001b[0m\n\u001b[0;32m----> 4\u001b[0;31m \u001b[0mout\u001b[0m\u001b[0;34m,\u001b[0m \u001b[0m_\u001b[0m \u001b[0;34m=\u001b[0m \u001b[0mrnn\u001b[0m\u001b[0;34m(\u001b[0m\u001b[0mx\u001b[0m\u001b[0;34m)\u001b[0m\u001b[0;34m\u001b[0m\u001b[0;34m\u001b[0m\u001b[0m\n\u001b[0m\u001b[1;32m      5\u001b[0m \u001b[0mprint\u001b[0m\u001b[0;34m(\u001b[0m\u001b[0mout\u001b[0m\u001b[0;34m.\u001b[0m\u001b[0mreshape\u001b[0m\u001b[0;34m(\u001b[0m\u001b[0mout\u001b[0m\u001b[0;34m.\u001b[0m\u001b[0msize\u001b[0m\u001b[0;34m(\u001b[0m\u001b[0;36m0\u001b[0m\u001b[0;34m)\u001b[0m\u001b[0;34m,\u001b[0m \u001b[0;34m-\u001b[0m\u001b[0;36m1\u001b[0m\u001b[0;34m)\u001b[0m\u001b[0;34m.\u001b[0m\u001b[0mshape\u001b[0m\u001b[0;34m)\u001b[0m\u001b[0;34m\u001b[0m\u001b[0;34m\u001b[0m\u001b[0m\n",
      "\u001b[0;32m/anaconda/envs/py36/lib/python3.6/site-packages/torch/nn/modules/module.py\u001b[0m in \u001b[0;36m__call__\u001b[0;34m(self, *input, **kwargs)\u001b[0m\n\u001b[1;32m    545\u001b[0m             \u001b[0mresult\u001b[0m \u001b[0;34m=\u001b[0m \u001b[0mself\u001b[0m\u001b[0;34m.\u001b[0m\u001b[0m_slow_forward\u001b[0m\u001b[0;34m(\u001b[0m\u001b[0;34m*\u001b[0m\u001b[0minput\u001b[0m\u001b[0;34m,\u001b[0m \u001b[0;34m**\u001b[0m\u001b[0mkwargs\u001b[0m\u001b[0;34m)\u001b[0m\u001b[0;34m\u001b[0m\u001b[0;34m\u001b[0m\u001b[0m\n\u001b[1;32m    546\u001b[0m         \u001b[0;32melse\u001b[0m\u001b[0;34m:\u001b[0m\u001b[0;34m\u001b[0m\u001b[0;34m\u001b[0m\u001b[0m\n\u001b[0;32m--> 547\u001b[0;31m             \u001b[0mresult\u001b[0m \u001b[0;34m=\u001b[0m \u001b[0mself\u001b[0m\u001b[0;34m.\u001b[0m\u001b[0mforward\u001b[0m\u001b[0;34m(\u001b[0m\u001b[0;34m*\u001b[0m\u001b[0minput\u001b[0m\u001b[0;34m,\u001b[0m \u001b[0;34m**\u001b[0m\u001b[0mkwargs\u001b[0m\u001b[0;34m)\u001b[0m\u001b[0;34m\u001b[0m\u001b[0;34m\u001b[0m\u001b[0m\n\u001b[0m\u001b[1;32m    548\u001b[0m         \u001b[0;32mfor\u001b[0m \u001b[0mhook\u001b[0m \u001b[0;32min\u001b[0m \u001b[0mself\u001b[0m\u001b[0;34m.\u001b[0m\u001b[0m_forward_hooks\u001b[0m\u001b[0;34m.\u001b[0m\u001b[0mvalues\u001b[0m\u001b[0;34m(\u001b[0m\u001b[0;34m)\u001b[0m\u001b[0;34m:\u001b[0m\u001b[0;34m\u001b[0m\u001b[0;34m\u001b[0m\u001b[0m\n\u001b[1;32m    549\u001b[0m             \u001b[0mhook_result\u001b[0m \u001b[0;34m=\u001b[0m \u001b[0mhook\u001b[0m\u001b[0;34m(\u001b[0m\u001b[0mself\u001b[0m\u001b[0;34m,\u001b[0m \u001b[0minput\u001b[0m\u001b[0;34m,\u001b[0m \u001b[0mresult\u001b[0m\u001b[0;34m)\u001b[0m\u001b[0;34m\u001b[0m\u001b[0;34m\u001b[0m\u001b[0m\n",
      "\u001b[0;32m/anaconda/envs/py36/lib/python3.6/site-packages/torch/nn/modules/rnn.py\u001b[0m in \u001b[0;36mforward\u001b[0;34m(self, input, hx)\u001b[0m\n\u001b[1;32m    726\u001b[0m             \u001b[0;32mreturn\u001b[0m \u001b[0mself\u001b[0m\u001b[0;34m.\u001b[0m\u001b[0mforward_packed\u001b[0m\u001b[0;34m(\u001b[0m\u001b[0minput\u001b[0m\u001b[0;34m,\u001b[0m \u001b[0mhx\u001b[0m\u001b[0;34m)\u001b[0m\u001b[0;34m\u001b[0m\u001b[0;34m\u001b[0m\u001b[0m\n\u001b[1;32m    727\u001b[0m         \u001b[0;32melse\u001b[0m\u001b[0;34m:\u001b[0m\u001b[0;34m\u001b[0m\u001b[0;34m\u001b[0m\u001b[0m\n\u001b[0;32m--> 728\u001b[0;31m             \u001b[0;32mreturn\u001b[0m \u001b[0mself\u001b[0m\u001b[0;34m.\u001b[0m\u001b[0mforward_tensor\u001b[0m\u001b[0;34m(\u001b[0m\u001b[0minput\u001b[0m\u001b[0;34m,\u001b[0m \u001b[0mhx\u001b[0m\u001b[0;34m)\u001b[0m\u001b[0;34m\u001b[0m\u001b[0;34m\u001b[0m\u001b[0m\n\u001b[0m\u001b[1;32m    729\u001b[0m \u001b[0;34m\u001b[0m\u001b[0m\n\u001b[1;32m    730\u001b[0m \u001b[0;34m\u001b[0m\u001b[0m\n",
      "\u001b[0;32m/anaconda/envs/py36/lib/python3.6/site-packages/torch/nn/modules/rnn.py\u001b[0m in \u001b[0;36mforward_tensor\u001b[0;34m(self, input, hx)\u001b[0m\n\u001b[1;32m    718\u001b[0m         \u001b[0msorted_indices\u001b[0m \u001b[0;34m=\u001b[0m \u001b[0;32mNone\u001b[0m\u001b[0;34m\u001b[0m\u001b[0;34m\u001b[0m\u001b[0m\n\u001b[1;32m    719\u001b[0m         \u001b[0munsorted_indices\u001b[0m \u001b[0;34m=\u001b[0m \u001b[0;32mNone\u001b[0m\u001b[0;34m\u001b[0m\u001b[0;34m\u001b[0m\u001b[0m\n\u001b[0;32m--> 720\u001b[0;31m         \u001b[0moutput\u001b[0m\u001b[0;34m,\u001b[0m \u001b[0mhidden\u001b[0m \u001b[0;34m=\u001b[0m \u001b[0mself\u001b[0m\u001b[0;34m.\u001b[0m\u001b[0mforward_impl\u001b[0m\u001b[0;34m(\u001b[0m\u001b[0minput\u001b[0m\u001b[0;34m,\u001b[0m \u001b[0mhx\u001b[0m\u001b[0;34m,\u001b[0m \u001b[0mbatch_sizes\u001b[0m\u001b[0;34m,\u001b[0m \u001b[0mmax_batch_size\u001b[0m\u001b[0;34m,\u001b[0m \u001b[0msorted_indices\u001b[0m\u001b[0;34m)\u001b[0m\u001b[0;34m\u001b[0m\u001b[0;34m\u001b[0m\u001b[0m\n\u001b[0m\u001b[1;32m    721\u001b[0m         \u001b[0;32mreturn\u001b[0m \u001b[0moutput\u001b[0m\u001b[0;34m,\u001b[0m \u001b[0mself\u001b[0m\u001b[0;34m.\u001b[0m\u001b[0mpermute_hidden\u001b[0m\u001b[0;34m(\u001b[0m\u001b[0mhidden\u001b[0m\u001b[0;34m,\u001b[0m \u001b[0munsorted_indices\u001b[0m\u001b[0;34m)\u001b[0m\u001b[0;34m\u001b[0m\u001b[0;34m\u001b[0m\u001b[0m\n\u001b[1;32m    722\u001b[0m \u001b[0;34m\u001b[0m\u001b[0m\n",
      "\u001b[0;32m/anaconda/envs/py36/lib/python3.6/site-packages/torch/nn/modules/rnn.py\u001b[0m in \u001b[0;36mforward_impl\u001b[0;34m(self, input, hx, batch_sizes, max_batch_size, sorted_indices)\u001b[0m\n\u001b[1;32m    695\u001b[0m             \u001b[0mhx\u001b[0m \u001b[0;34m=\u001b[0m \u001b[0mself\u001b[0m\u001b[0;34m.\u001b[0m\u001b[0mpermute_hidden\u001b[0m\u001b[0;34m(\u001b[0m\u001b[0mhx\u001b[0m\u001b[0;34m,\u001b[0m \u001b[0msorted_indices\u001b[0m\u001b[0;34m)\u001b[0m\u001b[0;34m\u001b[0m\u001b[0;34m\u001b[0m\u001b[0m\n\u001b[1;32m    696\u001b[0m \u001b[0;34m\u001b[0m\u001b[0m\n\u001b[0;32m--> 697\u001b[0;31m         \u001b[0mself\u001b[0m\u001b[0;34m.\u001b[0m\u001b[0mcheck_forward_args\u001b[0m\u001b[0;34m(\u001b[0m\u001b[0minput\u001b[0m\u001b[0;34m,\u001b[0m \u001b[0mhx\u001b[0m\u001b[0;34m,\u001b[0m \u001b[0mbatch_sizes\u001b[0m\u001b[0;34m)\u001b[0m\u001b[0;34m\u001b[0m\u001b[0;34m\u001b[0m\u001b[0m\n\u001b[0m\u001b[1;32m    698\u001b[0m         \u001b[0mresult\u001b[0m \u001b[0;34m=\u001b[0m \u001b[0mself\u001b[0m\u001b[0;34m.\u001b[0m\u001b[0mrun_impl\u001b[0m\u001b[0;34m(\u001b[0m\u001b[0minput\u001b[0m\u001b[0;34m,\u001b[0m \u001b[0mhx\u001b[0m\u001b[0;34m,\u001b[0m \u001b[0mbatch_sizes\u001b[0m\u001b[0;34m)\u001b[0m\u001b[0;34m\u001b[0m\u001b[0;34m\u001b[0m\u001b[0m\n\u001b[1;32m    699\u001b[0m         \u001b[0moutput\u001b[0m \u001b[0;34m=\u001b[0m \u001b[0mresult\u001b[0m\u001b[0;34m[\u001b[0m\u001b[0;36m0\u001b[0m\u001b[0;34m]\u001b[0m\u001b[0;34m\u001b[0m\u001b[0;34m\u001b[0m\u001b[0m\n",
      "\u001b[0;32m/anaconda/envs/py36/lib/python3.6/site-packages/torch/nn/modules/rnn.py\u001b[0m in \u001b[0;36mcheck_forward_args\u001b[0;34m(self, input, hidden, batch_sizes)\u001b[0m\n\u001b[1;32m    168\u001b[0m     \u001b[0;32mdef\u001b[0m \u001b[0mcheck_forward_args\u001b[0m\u001b[0;34m(\u001b[0m\u001b[0mself\u001b[0m\u001b[0;34m,\u001b[0m \u001b[0minput\u001b[0m\u001b[0;34m,\u001b[0m \u001b[0mhidden\u001b[0m\u001b[0;34m,\u001b[0m \u001b[0mbatch_sizes\u001b[0m\u001b[0;34m)\u001b[0m\u001b[0;34m:\u001b[0m\u001b[0;34m\u001b[0m\u001b[0;34m\u001b[0m\u001b[0m\n\u001b[1;32m    169\u001b[0m         \u001b[0;31m# type: (Tensor, Tensor, Optional[Tensor]) -> None\u001b[0m\u001b[0;34m\u001b[0m\u001b[0;34m\u001b[0m\u001b[0;34m\u001b[0m\u001b[0m\n\u001b[0;32m--> 170\u001b[0;31m         \u001b[0mself\u001b[0m\u001b[0;34m.\u001b[0m\u001b[0mcheck_input\u001b[0m\u001b[0;34m(\u001b[0m\u001b[0minput\u001b[0m\u001b[0;34m,\u001b[0m \u001b[0mbatch_sizes\u001b[0m\u001b[0;34m)\u001b[0m\u001b[0;34m\u001b[0m\u001b[0;34m\u001b[0m\u001b[0m\n\u001b[0m\u001b[1;32m    171\u001b[0m         \u001b[0mexpected_hidden_size\u001b[0m \u001b[0;34m=\u001b[0m \u001b[0mself\u001b[0m\u001b[0;34m.\u001b[0m\u001b[0mget_expected_hidden_size\u001b[0m\u001b[0;34m(\u001b[0m\u001b[0minput\u001b[0m\u001b[0;34m,\u001b[0m \u001b[0mbatch_sizes\u001b[0m\u001b[0;34m)\u001b[0m\u001b[0;34m\u001b[0m\u001b[0;34m\u001b[0m\u001b[0m\n\u001b[1;32m    172\u001b[0m \u001b[0;34m\u001b[0m\u001b[0m\n",
      "\u001b[0;32m/anaconda/envs/py36/lib/python3.6/site-packages/torch/nn/modules/rnn.py\u001b[0m in \u001b[0;36mcheck_input\u001b[0;34m(self, input, batch_sizes)\u001b[0m\n\u001b[1;32m    147\u001b[0m             raise RuntimeError(\n\u001b[1;32m    148\u001b[0m                 'input.size(-1) must be equal to input_size. Expected {}, got {}'.format(\n\u001b[0;32m--> 149\u001b[0;31m                     self.input_size, input.size(-1)))\n\u001b[0m\u001b[1;32m    150\u001b[0m \u001b[0;34m\u001b[0m\u001b[0m\n\u001b[1;32m    151\u001b[0m     \u001b[0;32mdef\u001b[0m \u001b[0mget_expected_hidden_size\u001b[0m\u001b[0;34m(\u001b[0m\u001b[0mself\u001b[0m\u001b[0;34m,\u001b[0m \u001b[0minput\u001b[0m\u001b[0;34m,\u001b[0m \u001b[0mbatch_sizes\u001b[0m\u001b[0;34m)\u001b[0m\u001b[0;34m:\u001b[0m\u001b[0;34m\u001b[0m\u001b[0;34m\u001b[0m\u001b[0m\n",
      "\u001b[0;31mRuntimeError\u001b[0m: input.size(-1) must be equal to input_size. Expected 128, got 65"
     ]
    }
   ],
   "source": [
    "rnn = nn.GRU(128, hidden_size = 64, num_layers=2, bidirectional=True, batch_first=True)\n",
    "x= torch.from_numpy(get_melspectrogram_db('/data/home/advaitmb/datasets/sentences/' + audio.wav_file[1000] + '.wav', 4 ).T).unsqueeze(0)\n",
    "print(x.shape)\n",
    "out, _ = rnn(x)\n",
    "print(out.reshape(out.size(0), -1).shape)"
   ]
  },
  {
   "cell_type": "code",
   "execution_count": 7,
   "metadata": {},
   "outputs": [],
   "source": [
    "# We split the dataframe into train and test segments\n",
    "from sklearn.utils import shuffle\n",
    "# from sklearn.model_selection import train_test_split\n",
    "train = audio[:2212]\n",
    "train = shuffle(train)\n",
    "valid = audio[2212:]\n",
    "\n",
    "# from sklearn.model_selection import train_test_split\n",
    "\n",
    "# train, valid = train_test_split(audio, test_size=0.2)"
   ]
  },
  {
   "cell_type": "code",
   "execution_count": 15,
   "metadata": {},
   "outputs": [],
   "source": [
    "def get_melspectrogram_db(file_path, sr=None, n_fft=2048, hop_length=512, n_mels=128,top_db=80):\n",
    "    wav,sr = librosa.load(file_path,sr=sr)\n",
    "    \n",
    "    if wav.shape[0]<5*sr:\n",
    "        wav=np.pad(wav,int(np.ceil((5*sr-wav.shape[0])/2)),mode='reflect')\n",
    "    else:\n",
    "        wav=wav[:5*sr]\n",
    "    spec=librosa.feature.melspectrogram(wav, sr=sr, n_fft=n_fft,\n",
    "              hop_length=hop_length,n_mels=n_mels)\n",
    "    spec_db=librosa.power_to_db(spec,top_db=top_db)\n",
    "    return spec_db"
   ]
  },
  {
   "cell_type": "code",
   "execution_count": 18,
   "metadata": {},
   "outputs": [],
   "source": [
    "class IEMOCAP(Dataset):\n",
    "    def __init__(self, base, df, in_col, out_col):\n",
    "        self.df = df\n",
    "        self.data = []\n",
    "        self.labels = []\n",
    "        self.c2i={}\n",
    "        self.i2c={}\n",
    "        self.categories = sorted(df[out_col].unique())\n",
    "        print(self.categories)\n",
    "        for i, category in enumerate(self.categories):\n",
    "            self.c2i[category]=i\n",
    "            self.i2c[i]=category\n",
    "        for ind in tqdm(range(len(df))):\n",
    "            row = df.iloc[ind]\n",
    "            \n",
    "            #If all files are stored in a folder named sentences\n",
    "            file_path = base + '/' + row[in_col] + '.wav'\n",
    "            \n",
    "            \n",
    "            self.data.append(( normalize(get_melspectrogram_db(file_path)).T ))\n",
    "            self.labels.append(self.c2i[row['emotion']])\n",
    "    def __len__(self):\n",
    "        return len(self.data)\n",
    "    def __getitem__(self, idx):\n",
    "        return self.data[idx], self.labels[idx]"
   ]
  },
  {
   "cell_type": "code",
   "execution_count": null,
   "metadata": {},
   "outputs": [],
   "source": []
  },
  {
   "cell_type": "code",
   "execution_count": 19,
   "metadata": {},
   "outputs": [
    {
     "name": "stderr",
     "output_type": "stream",
     "text": [
      "  0%|          | 7/2212 [00:00<00:32, 67.29it/s]"
     ]
    },
    {
     "name": "stdout",
     "output_type": "stream",
     "text": [
      "['ang', 'hap', 'neu', 'sad']\n"
     ]
    },
    {
     "name": "stderr",
     "output_type": "stream",
     "text": [
      "100%|██████████| 2212/2212 [00:53<00:00, 41.58it/s]\n",
      "  1%|          | 4/731 [00:00<00:22, 32.29it/s]"
     ]
    },
    {
     "name": "stdout",
     "output_type": "stream",
     "text": [
      "['ang', 'hap', 'neu', 'sad']\n"
     ]
    },
    {
     "name": "stderr",
     "output_type": "stream",
     "text": [
      "100%|██████████| 731/731 [00:18<00:00, 38.78it/s]\n"
     ]
    }
   ],
   "source": [
    "train_data = IEMOCAP('/data/home/advaitmb/datasets/sentences', train, 'wav_file', 'emotion')\n",
    "valid_data = IEMOCAP('/data/home/advaitmb/datasets/sentences', valid, 'wav_file', 'emotion')\n",
    "train_loader = DataLoader(train_data, batch_size=32, shuffle=True)\n",
    "valid_loader = DataLoader(valid_data, batch_size=32, shuffle=True)"
   ]
  },
  {
   "cell_type": "code",
   "execution_count": 114,
   "metadata": {},
   "outputs": [
    {
     "data": {
      "text/plain": [
       "(129, 129)"
      ]
     },
     "execution_count": 114,
     "metadata": {},
     "output_type": "execute_result"
    }
   ],
   "source": [
    "train_loader.dataset.data[0].shape"
   ]
  },
  {
   "cell_type": "code",
   "execution_count": 48,
   "metadata": {},
   "outputs": [],
   "source": [
    "class Network(nn.Module):\n",
    "    def __init__(self):\n",
    "        super().__init__()\n",
    "        self.rnn = nn.LSTM(128, hidden_size = 64, num_layers=2, bidirectional=True, batch_first=True)\n",
    "        self.fc1 = nn.Linear(64, 4)\n",
    "        \n",
    "    def forward(self, x):\n",
    "        x,(ht,ct) = self.rnn(x)\n",
    "        x  = ht[-1]\n",
    "        x = x.reshape(x.size(0), -1)\n",
    "        x = F.softmax(self.fc1(x), dim=1)\n",
    "        return x"
   ]
  },
  {
   "cell_type": "code",
   "execution_count": 49,
   "metadata": {},
   "outputs": [],
   "source": [
    "if torch.cuda.is_available():\n",
    "    device=torch.device('cuda:0')\n",
    "else:\n",
    "    device=torch.device('cpu')"
   ]
  },
  {
   "cell_type": "code",
   "execution_count": 50,
   "metadata": {},
   "outputs": [
    {
     "data": {
      "text/plain": [
       "Network(\n",
       "  (rnn): LSTM(128, 64, num_layers=2, batch_first=True, bidirectional=True)\n",
       "  (fc1): Linear(in_features=64, out_features=4, bias=True)\n",
       ")"
      ]
     },
     "execution_count": 50,
     "metadata": {},
     "output_type": "execute_result"
    }
   ],
   "source": [
    "net = Network()\n",
    "net.to(device)"
   ]
  },
  {
   "cell_type": "code",
   "execution_count": 51,
   "metadata": {},
   "outputs": [],
   "source": [
    "def setlr(optimizer, lr):\n",
    "    for param_group in optimizer.param_groups:\n",
    "        param_group['lr'] = lr\n",
    "    return optimizer\n",
    "\n",
    "def lr_decay(optimizer, epoch):\n",
    "    if epoch%10==0:\n",
    "        new_lr = learning_rate / (10**(epoch//10))\n",
    "        optimizer = setlr(optimizer, new_lr)\n",
    "        print(\"Changed learning rate to {}\".format(new_lr))\n",
    "    return optimizer"
   ]
  },
  {
   "cell_type": "code",
   "execution_count": 52,
   "metadata": {},
   "outputs": [],
   "source": [
    "from sklearn.metrics import balanced_accuracy_score\n",
    "from sklearn.metrics import accuracy_score\n",
    "\n",
    "def train_model(model, loss_fn, train_loader, valid_loader, epochs, optimizer, train_losses, valid_losses, change_lr=None):\n",
    "    \n",
    "    for epoch in range(1,epochs+1):\n",
    "        \n",
    "        model.train()\n",
    "        batch_losses=[]\n",
    "        if change_lr:\n",
    "            optimizer = change_lr(optimizer, epoch)\n",
    "        for i, data in tqdm(enumerate(train_loader)):\n",
    "            x, y = data\n",
    "            optimizer.zero_grad()\n",
    "            x = x.to(device, dtype=torch.float32)\n",
    "            y = y.to(device, dtype=torch.long)\n",
    "            y_hat = model(x)\n",
    "            loss = loss_fn(y_hat, y)\n",
    "            loss.backward()\n",
    "            batch_losses.append(loss.item())\n",
    "            optimizer.step()\n",
    "        train_losses.append(batch_losses)\n",
    "\n",
    "\n",
    "#         print(\"Epoch - {} Train-Loss : {}\".format(epoch, np.mean(train_losses[-1])))\n",
    "        model.eval()\n",
    "        batch_losses=[]\n",
    "        trace_y = []\n",
    "        trace_yhat = []\n",
    "        for i, data in enumerate(valid_loader):\n",
    "            x, y = data\n",
    "            x = x.to(device, dtype=torch.float32)\n",
    "            y = y.to(device, dtype=torch.long)\n",
    "            y_hat = model(x)\n",
    "            loss = loss_fn(y_hat, y)\n",
    "            trace_y.append(y.cpu().detach().numpy())\n",
    "            trace_yhat.append(y_hat.cpu().detach().numpy())      \n",
    "            batch_losses.append(loss.item())\n",
    "\n",
    "        valid_losses.append(batch_losses)\n",
    "        trace_y = np.concatenate(trace_y)\n",
    "        trace_yhat = np.concatenate(trace_yhat)\n",
    "        accuracy = np.mean(trace_yhat.argmax(axis=1)==trace_y)\n",
    "        unweighted_accuracy = accuracy_score( trace_yhat.argmax(axis=1), trace_y )\n",
    "        weighted_accuracy = balanced_accuracy_score( trace_yhat.argmax(axis=1), trace_y )\n",
    "        print(\"Epoch - {} Train-Loss : {} Valid-Loss : {}\".format(epoch, np.mean(train_losses[-1]), np.mean(valid_losses[-1])))\n",
    "        print(\"unweighted_accuracy : {} weighted_accuracy : {}\".format(unweighted_accuracy, weighted_accuracy ))\n",
    "        \n",
    "\n",
    "\n"
   ]
  },
  {
   "cell_type": "code",
   "execution_count": 53,
   "metadata": {},
   "outputs": [],
   "source": [
    "learning_rate = 2e-5\n",
    "optimizer = optim.Adam(net.parameters(), lr=learning_rate)\n",
    "epochs = 20\n",
    "loss_fn = nn.CrossEntropyLoss()\n",
    "train_losses=[]\n",
    "valid_losses=[]"
   ]
  },
  {
   "cell_type": "code",
   "execution_count": 54,
   "metadata": {},
   "outputs": [
    {
     "name": "stderr",
     "output_type": "stream",
     "text": [
      "70it [00:07,  9.83it/s]\n",
      "1it [00:00,  9.79it/s]"
     ]
    },
    {
     "name": "stdout",
     "output_type": "stream",
     "text": [
      "Epoch - 1 Train-Loss : 1.379390229497637 Valid-Loss : 1.3713203720424487\n",
      "unweighted_accuracy : 0.3898768809849521 weighted_accuracy : 0.3203232462173315\n"
     ]
    },
    {
     "name": "stderr",
     "output_type": "stream",
     "text": [
      "70it [00:06, 10.25it/s]\n",
      "0it [00:00, ?it/s]"
     ]
    },
    {
     "name": "stdout",
     "output_type": "stream",
     "text": [
      "Epoch - 2 Train-Loss : 1.3715014202254159 Valid-Loss : 1.3610354454621025\n",
      "unweighted_accuracy : 0.39261285909712723 weighted_accuracy : 0.39261285909712723\n"
     ]
    },
    {
     "name": "stderr",
     "output_type": "stream",
     "text": [
      "70it [00:06, 10.17it/s]\n",
      "0it [00:00, ?it/s]"
     ]
    },
    {
     "name": "stdout",
     "output_type": "stream",
     "text": [
      "Epoch - 3 Train-Loss : 1.3620279942240034 Valid-Loss : 1.3494044024011362\n",
      "unweighted_accuracy : 0.39261285909712723 weighted_accuracy : 0.39261285909712723\n"
     ]
    },
    {
     "name": "stderr",
     "output_type": "stream",
     "text": [
      "70it [00:06, 10.27it/s]\n",
      "1it [00:00,  9.91it/s]"
     ]
    },
    {
     "name": "stdout",
     "output_type": "stream",
     "text": [
      "Epoch - 4 Train-Loss : 1.3515694226537431 Valid-Loss : 1.3366475157115771\n",
      "unweighted_accuracy : 0.39261285909712723 weighted_accuracy : 0.39261285909712723\n"
     ]
    },
    {
     "name": "stderr",
     "output_type": "stream",
     "text": [
      "70it [00:06, 10.27it/s]\n",
      "1it [00:00,  9.91it/s]"
     ]
    },
    {
     "name": "stdout",
     "output_type": "stream",
     "text": [
      "Epoch - 5 Train-Loss : 1.3409728867667061 Valid-Loss : 1.3236461100370989\n",
      "unweighted_accuracy : 0.39261285909712723 weighted_accuracy : 0.19657534246575342\n"
     ]
    },
    {
     "name": "stderr",
     "output_type": "stream",
     "text": [
      "70it [00:04, 14.80it/s]\n",
      "2it [00:00, 18.06it/s]"
     ]
    },
    {
     "name": "stdout",
     "output_type": "stream",
     "text": [
      "Epoch - 6 Train-Loss : 1.3312170863151551 Valid-Loss : 1.3141095793765525\n",
      "unweighted_accuracy : 0.3953488372093023 weighted_accuracy : 0.39765840220385673\n"
     ]
    },
    {
     "name": "stderr",
     "output_type": "stream",
     "text": [
      "70it [00:03, 17.90it/s]\n",
      "2it [00:00, 18.22it/s]"
     ]
    },
    {
     "name": "stdout",
     "output_type": "stream",
     "text": [
      "Epoch - 7 Train-Loss : 1.319600544657026 Valid-Loss : 1.3031876916470735\n",
      "unweighted_accuracy : 0.39808481532147744 weighted_accuracy : 0.4072206768660176\n"
     ]
    },
    {
     "name": "stderr",
     "output_type": "stream",
     "text": [
      "70it [00:03, 17.91it/s]\n",
      "2it [00:00, 17.86it/s]"
     ]
    },
    {
     "name": "stdout",
     "output_type": "stream",
     "text": [
      "Epoch - 8 Train-Loss : 1.3027797528675624 Valid-Loss : 1.2889784937319548\n",
      "unweighted_accuracy : 0.4049247606019152 weighted_accuracy : 0.47300936017438133\n"
     ]
    },
    {
     "name": "stderr",
     "output_type": "stream",
     "text": [
      "70it [00:03, 17.97it/s]\n",
      "2it [00:00, 17.78it/s]"
     ]
    },
    {
     "name": "stdout",
     "output_type": "stream",
     "text": [
      "Epoch - 9 Train-Loss : 1.2810862421989442 Valid-Loss : 1.2718461596447488\n",
      "unweighted_accuracy : 0.42954856361149113 weighted_accuracy : 0.5272443924973562\n",
      "Changed learning rate to 2.0000000000000003e-06\n"
     ]
    },
    {
     "name": "stderr",
     "output_type": "stream",
     "text": [
      "70it [00:03, 17.84it/s]\n",
      "2it [00:00, 18.01it/s]"
     ]
    },
    {
     "name": "stdout",
     "output_type": "stream",
     "text": [
      "Epoch - 10 Train-Loss : 1.2712035093988692 Valid-Loss : 1.2715195158253545\n",
      "unweighted_accuracy : 0.426812585499316 weighted_accuracy : 0.5223382608175235\n"
     ]
    },
    {
     "name": "stderr",
     "output_type": "stream",
     "text": [
      "70it [00:03, 17.96it/s]\n",
      "2it [00:00, 17.82it/s]"
     ]
    },
    {
     "name": "stdout",
     "output_type": "stream",
     "text": [
      "Epoch - 11 Train-Loss : 1.2686012898172652 Valid-Loss : 1.270587480586508\n",
      "unweighted_accuracy : 0.4322845417236662 weighted_accuracy : 0.5343733189887037\n"
     ]
    },
    {
     "name": "stderr",
     "output_type": "stream",
     "text": [
      "70it [00:03, 17.91it/s]\n",
      "2it [00:00, 17.92it/s]"
     ]
    },
    {
     "name": "stdout",
     "output_type": "stream",
     "text": [
      "Epoch - 12 Train-Loss : 1.2654643944331578 Valid-Loss : 1.2693352336468904\n",
      "unweighted_accuracy : 0.43502051983584133 weighted_accuracy : 0.3609047383193\n"
     ]
    },
    {
     "name": "stderr",
     "output_type": "stream",
     "text": [
      "70it [00:03, 17.92it/s]\n",
      "2it [00:00, 17.62it/s]"
     ]
    },
    {
     "name": "stdout",
     "output_type": "stream",
     "text": [
      "Epoch - 13 Train-Loss : 1.2653548410960607 Valid-Loss : 1.2685020332751067\n",
      "unweighted_accuracy : 0.44049247606019154 weighted_accuracy : 0.6136496400529182\n"
     ]
    },
    {
     "name": "stderr",
     "output_type": "stream",
     "text": [
      "70it [00:03, 17.88it/s]\n",
      "2it [00:00, 18.05it/s]"
     ]
    },
    {
     "name": "stdout",
     "output_type": "stream",
     "text": [
      "Epoch - 14 Train-Loss : 1.26302045243127 Valid-Loss : 1.267621045527251\n",
      "unweighted_accuracy : 0.45690834473324216 weighted_accuracy : 0.6450507659742403\n"
     ]
    },
    {
     "name": "stderr",
     "output_type": "stream",
     "text": [
      "70it [00:03, 17.93it/s]\n",
      "2it [00:00, 17.78it/s]"
     ]
    },
    {
     "name": "stdout",
     "output_type": "stream",
     "text": [
      "Epoch - 15 Train-Loss : 1.2629914130483355 Valid-Loss : 1.2667403324790623\n",
      "unweighted_accuracy : 0.4582763337893297 weighted_accuracy : 0.575336112428912\n"
     ]
    },
    {
     "name": "stderr",
     "output_type": "stream",
     "text": [
      "70it [00:03, 17.86it/s]\n",
      "2it [00:00, 17.96it/s]"
     ]
    },
    {
     "name": "stdout",
     "output_type": "stream",
     "text": [
      "Epoch - 16 Train-Loss : 1.2609470333371844 Valid-Loss : 1.2659765430118726\n",
      "unweighted_accuracy : 0.4637482900136799 weighted_accuracy : 0.5626930861830192\n"
     ]
    },
    {
     "name": "stderr",
     "output_type": "stream",
     "text": [
      "70it [00:03, 17.96it/s]\n",
      "2it [00:00, 18.12it/s]"
     ]
    },
    {
     "name": "stdout",
     "output_type": "stream",
     "text": [
      "Epoch - 17 Train-Loss : 1.2594610163143702 Valid-Loss : 1.2659111282099849\n",
      "unweighted_accuracy : 0.4692202462380301 weighted_accuracy : 0.564345505582619\n"
     ]
    },
    {
     "name": "stderr",
     "output_type": "stream",
     "text": [
      "70it [00:03, 17.95it/s]\n",
      "2it [00:00, 18.08it/s]"
     ]
    },
    {
     "name": "stdout",
     "output_type": "stream",
     "text": [
      "Epoch - 18 Train-Loss : 1.2565184320722307 Valid-Loss : 1.2654193536094998\n",
      "unweighted_accuracy : 0.4719562243502052 weighted_accuracy : 0.5618322373706075\n"
     ]
    },
    {
     "name": "stderr",
     "output_type": "stream",
     "text": [
      "70it [00:03, 17.91it/s]\n",
      "2it [00:00, 17.89it/s]"
     ]
    },
    {
     "name": "stdout",
     "output_type": "stream",
     "text": [
      "Epoch - 19 Train-Loss : 1.2576583572796414 Valid-Loss : 1.2638345023860103\n",
      "unweighted_accuracy : 0.47058823529411764 weighted_accuracy : 0.5517752570605309\n",
      "Changed learning rate to 2.0000000000000002e-07\n"
     ]
    },
    {
     "name": "stderr",
     "output_type": "stream",
     "text": [
      "70it [00:03, 17.89it/s]\n"
     ]
    },
    {
     "name": "stdout",
     "output_type": "stream",
     "text": [
      "Epoch - 20 Train-Loss : 1.2561937860080175 Valid-Loss : 1.2641538070595784\n",
      "unweighted_accuracy : 0.47332421340629277 weighted_accuracy : 0.5551862760342825\n"
     ]
    }
   ],
   "source": [
    "train_model(net, loss_fn, train_loader, valid_loader, epochs, optimizer, train_losses, valid_losses, lr_decay)"
   ]
  },
  {
   "cell_type": "markdown",
   "metadata": {},
   "source": [
    "In the proposed architecture, we consecutively arranged CL. In the first convolutional layer (C1)\n",
    "has 16 number of kernels with squire shape of size (7 × 7) are applied to the input spectrogram with has 16 number of kernels with squire shape of size (7 × 7) are applied to the input spectrogram with\n",
    "the same padding and stride setting of (2 × 2) pixel. Similarly, in the second convolutional layer (C2)\n",
    "Sensors 2020, 20, 183 7 of 15\n",
    "the same padding and stride setting of (2 × 2) pixel. Similarly, in the second convolutional layer (C2) it has 32 filters of size (5 × 5) with (2 × 2) stride setting. The C3 layer uses the same number of filters, stride, and padding as C2, but the size of the filters is 3 × 3. C4 and C5 layers have 64 (3 × 3) kernels with a stride setting of 2 × 2 pixels. In the same way, C6 and C7 layers have 128 kernels of size (3 × 3) with the same stride and padding. The last convolutional layer, which is followed by a flattening layer to convert the data shape into vector form and then the features are fed to FC. The first FC layer has 512 neurons and the last FC layer has the same number of neurons as classes"
   ]
  },
  {
   "cell_type": "code",
   "execution_count": 192,
   "metadata": {},
   "outputs": [],
   "source": [
    "?nn.Dropout"
   ]
  },
  {
   "cell_type": "code",
   "execution_count": 152,
   "metadata": {},
   "outputs": [],
   "source": [
    "class IEMOCAP(Dataset):\n",
    "    def __init__(self, base, df, in_col, out_col):\n",
    "        self.df = df\n",
    "        self.data = []\n",
    "        self.labels = []\n",
    "        self.c2i={}\n",
    "        self.i2c={}\n",
    "        self.categories = sorted(df[out_col].unique())\n",
    "        print(self.categories)\n",
    "        for i, category in enumerate(self.categories):\n",
    "            self.c2i[category]=i\n",
    "            self.i2c[i]=category\n",
    "        for ind in tqdm(range(len(df))):\n",
    "            row = df.iloc[ind]\n",
    "            \n",
    "            #If all files are stored in a folder named sentences\n",
    "            file_path = base + '/' + row[in_col] + '.wav'\n",
    "            \n",
    "            \n",
    "            self.data.append(( normalize(get_spectrogram_db(file_path, 4))[np.newaxis, ...] ))\n",
    "            self.labels.append(self.c2i[row['emotion']])\n",
    "    def __len__(self):\n",
    "        return len(self.data)\n",
    "    def __getitem__(self, idx):\n",
    "        return self.data[idx], self.labels[idx]"
   ]
  },
  {
   "cell_type": "code",
   "execution_count": 153,
   "metadata": {},
   "outputs": [
    {
     "name": "stderr",
     "output_type": "stream",
     "text": [
      "  0%|          | 3/2354 [00:00<01:35, 24.52it/s]"
     ]
    },
    {
     "name": "stdout",
     "output_type": "stream",
     "text": [
      "['ang', 'hap', 'neu', 'sad']\n"
     ]
    },
    {
     "name": "stderr",
     "output_type": "stream",
     "text": [
      "100%|██████████| 2354/2354 [02:03<00:00, 19.05it/s]\n",
      "  1%|          | 3/589 [00:00<00:22, 25.81it/s]"
     ]
    },
    {
     "name": "stdout",
     "output_type": "stream",
     "text": [
      "['ang', 'hap', 'neu', 'sad']\n"
     ]
    },
    {
     "name": "stderr",
     "output_type": "stream",
     "text": [
      "100%|██████████| 589/589 [00:30<00:00, 19.51it/s]\n"
     ]
    }
   ],
   "source": [
    "train_data = IEMOCAP('/data/home/advaitmb/datasets/sentences', train, 'wav_file', 'emotion')\n",
    "valid_data = IEMOCAP('/data/home/advaitmb/datasets/sentences', valid, 'wav_file', 'emotion')\n",
    "train_loader = DataLoader(train_data, batch_size=64, shuffle=True)\n",
    "valid_loader = DataLoader(valid_data, batch_size=64, shuffle=True)"
   ]
  },
  {
   "cell_type": "code",
   "execution_count": 55,
   "metadata": {},
   "outputs": [
    {
     "data": {
      "text/plain": [
       "[1,\n",
       " 2,\n",
       " 1,\n",
       " 1,\n",
       " 1,\n",
       " 2,\n",
       " 3,\n",
       " 3,\n",
       " 1,\n",
       " 1,\n",
       " 3,\n",
       " 2,\n",
       " 1,\n",
       " 1,\n",
       " 2,\n",
       " 3,\n",
       " 1,\n",
       " 1,\n",
       " 2,\n",
       " 2,\n",
       " 3,\n",
       " 3,\n",
       " 3,\n",
       " 2,\n",
       " 2,\n",
       " 1,\n",
       " 2,\n",
       " 3,\n",
       " 0,\n",
       " 3,\n",
       " 3,\n",
       " 2,\n",
       " 3,\n",
       " 2,\n",
       " 2,\n",
       " 3,\n",
       " 3,\n",
       " 1,\n",
       " 3,\n",
       " 2,\n",
       " 1,\n",
       " 2,\n",
       " 3,\n",
       " 2,\n",
       " 2,\n",
       " 1,\n",
       " 1,\n",
       " 2,\n",
       " 1,\n",
       " 1,\n",
       " 1,\n",
       " 2,\n",
       " 3,\n",
       " 2,\n",
       " 2,\n",
       " 2,\n",
       " 3,\n",
       " 1,\n",
       " 3,\n",
       " 1,\n",
       " 2,\n",
       " 2,\n",
       " 1,\n",
       " 3,\n",
       " 1,\n",
       " 1,\n",
       " 1,\n",
       " 2,\n",
       " 1,\n",
       " 2,\n",
       " 2,\n",
       " 0,\n",
       " 2,\n",
       " 2,\n",
       " 1,\n",
       " 3,\n",
       " 3,\n",
       " 3,\n",
       " 3,\n",
       " 0,\n",
       " 0,\n",
       " 1,\n",
       " 1,\n",
       " 1,\n",
       " 0,\n",
       " 1,\n",
       " 2,\n",
       " 3,\n",
       " 1,\n",
       " 3,\n",
       " 0,\n",
       " 2,\n",
       " 2,\n",
       " 2,\n",
       " 0,\n",
       " 0,\n",
       " 2,\n",
       " 3,\n",
       " 3,\n",
       " 2,\n",
       " 2,\n",
       " 1,\n",
       " 3,\n",
       " 1,\n",
       " 2,\n",
       " 0,\n",
       " 3,\n",
       " 1,\n",
       " 1,\n",
       " 2,\n",
       " 2,\n",
       " 2,\n",
       " 2,\n",
       " 0,\n",
       " 2,\n",
       " 1,\n",
       " 2,\n",
       " 2,\n",
       " 2,\n",
       " 3,\n",
       " 2,\n",
       " 2,\n",
       " 1,\n",
       " 2,\n",
       " 1,\n",
       " 2,\n",
       " 1,\n",
       " 1,\n",
       " 2,\n",
       " 3,\n",
       " 3,\n",
       " 3,\n",
       " 2,\n",
       " 2,\n",
       " 2,\n",
       " 2,\n",
       " 3,\n",
       " 1,\n",
       " 1,\n",
       " 2,\n",
       " 1,\n",
       " 3,\n",
       " 1,\n",
       " 1,\n",
       " 2,\n",
       " 1,\n",
       " 0,\n",
       " 2,\n",
       " 1,\n",
       " 2,\n",
       " 2,\n",
       " 1,\n",
       " 0,\n",
       " 3,\n",
       " 3,\n",
       " 1,\n",
       " 1,\n",
       " 3,\n",
       " 2,\n",
       " 2,\n",
       " 1,\n",
       " 1,\n",
       " 3,\n",
       " 2,\n",
       " 1,\n",
       " 1,\n",
       " 1,\n",
       " 1,\n",
       " 1,\n",
       " 2,\n",
       " 2,\n",
       " 0,\n",
       " 2,\n",
       " 3,\n",
       " 0,\n",
       " 2,\n",
       " 3,\n",
       " 2,\n",
       " 2,\n",
       " 1,\n",
       " 1,\n",
       " 2,\n",
       " 1,\n",
       " 0,\n",
       " 3,\n",
       " 0,\n",
       " 2,\n",
       " 1,\n",
       " 3,\n",
       " 3,\n",
       " 3,\n",
       " 2,\n",
       " 1,\n",
       " 2,\n",
       " 1,\n",
       " 1,\n",
       " 2,\n",
       " 2,\n",
       " 3,\n",
       " 2,\n",
       " 1,\n",
       " 3,\n",
       " 1,\n",
       " 1,\n",
       " 1,\n",
       " 2,\n",
       " 2,\n",
       " 2,\n",
       " 3,\n",
       " 1,\n",
       " 3,\n",
       " 3,\n",
       " 1,\n",
       " 2,\n",
       " 2,\n",
       " 0,\n",
       " 2,\n",
       " 3,\n",
       " 3,\n",
       " 2,\n",
       " 1,\n",
       " 1,\n",
       " 1,\n",
       " 3,\n",
       " 1,\n",
       " 0,\n",
       " 3,\n",
       " 2,\n",
       " 1,\n",
       " 3,\n",
       " 0,\n",
       " 2,\n",
       " 3,\n",
       " 3,\n",
       " 3,\n",
       " 2,\n",
       " 2,\n",
       " 2,\n",
       " 2,\n",
       " 2,\n",
       " 2,\n",
       " 1,\n",
       " 1,\n",
       " 2,\n",
       " 3,\n",
       " 3,\n",
       " 1,\n",
       " 2,\n",
       " 3,\n",
       " 2,\n",
       " 3,\n",
       " 2,\n",
       " 1,\n",
       " 0,\n",
       " 1,\n",
       " 3,\n",
       " 2,\n",
       " 2,\n",
       " 2,\n",
       " 3,\n",
       " 2,\n",
       " 2,\n",
       " 1,\n",
       " 1,\n",
       " 3,\n",
       " 1,\n",
       " 3,\n",
       " 1,\n",
       " 1,\n",
       " 0,\n",
       " 2,\n",
       " 1,\n",
       " 3,\n",
       " 1,\n",
       " 2,\n",
       " 3,\n",
       " 2,\n",
       " 2,\n",
       " 2,\n",
       " 3,\n",
       " 3,\n",
       " 2,\n",
       " 1,\n",
       " 3,\n",
       " 2,\n",
       " 2,\n",
       " 3,\n",
       " 2,\n",
       " 3,\n",
       " 1,\n",
       " 1,\n",
       " 3,\n",
       " 2,\n",
       " 2,\n",
       " 2,\n",
       " 1,\n",
       " 2,\n",
       " 1,\n",
       " 1,\n",
       " 2,\n",
       " 2,\n",
       " 3,\n",
       " 1,\n",
       " 3,\n",
       " 3,\n",
       " 2,\n",
       " 3,\n",
       " 1,\n",
       " 1,\n",
       " 2,\n",
       " 3,\n",
       " 2,\n",
       " 3,\n",
       " 2,\n",
       " 1,\n",
       " 2,\n",
       " 2,\n",
       " 0,\n",
       " 1,\n",
       " 1,\n",
       " 2,\n",
       " 0,\n",
       " 1,\n",
       " 0,\n",
       " 3,\n",
       " 2,\n",
       " 2,\n",
       " 2,\n",
       " 3,\n",
       " 3,\n",
       " 1,\n",
       " 2,\n",
       " 3,\n",
       " 1,\n",
       " 1,\n",
       " 3,\n",
       " 3,\n",
       " 2,\n",
       " 3,\n",
       " 1,\n",
       " 3,\n",
       " 1,\n",
       " 1,\n",
       " 2,\n",
       " 2,\n",
       " 2,\n",
       " 2,\n",
       " 2,\n",
       " 2,\n",
       " 0,\n",
       " 2,\n",
       " 0,\n",
       " 1,\n",
       " 2,\n",
       " 3,\n",
       " 3,\n",
       " 0,\n",
       " 1,\n",
       " 2,\n",
       " 0,\n",
       " 3,\n",
       " 3,\n",
       " 1,\n",
       " 1,\n",
       " 3,\n",
       " 1,\n",
       " 2,\n",
       " 3,\n",
       " 1,\n",
       " 1,\n",
       " 1,\n",
       " 3,\n",
       " 2,\n",
       " 2,\n",
       " 2,\n",
       " 3,\n",
       " 1,\n",
       " 1,\n",
       " 1,\n",
       " 1,\n",
       " 2,\n",
       " 3,\n",
       " 0,\n",
       " 2,\n",
       " 1,\n",
       " 3,\n",
       " 2,\n",
       " 2,\n",
       " 2,\n",
       " 1,\n",
       " 1,\n",
       " 0,\n",
       " 1,\n",
       " 2,\n",
       " 2,\n",
       " 3,\n",
       " 2,\n",
       " 2,\n",
       " 2,\n",
       " 3,\n",
       " 1,\n",
       " 3,\n",
       " 3,\n",
       " 2,\n",
       " 2,\n",
       " 2,\n",
       " 1,\n",
       " 0,\n",
       " 1,\n",
       " 3,\n",
       " 0,\n",
       " 1,\n",
       " 1,\n",
       " 0,\n",
       " 3,\n",
       " 1,\n",
       " 1,\n",
       " 1,\n",
       " 3,\n",
       " 3,\n",
       " 2,\n",
       " 2,\n",
       " 2,\n",
       " 2,\n",
       " 0,\n",
       " 3,\n",
       " 0,\n",
       " 3,\n",
       " 1,\n",
       " 1,\n",
       " 3,\n",
       " 1,\n",
       " 0,\n",
       " 0,\n",
       " 1,\n",
       " 2,\n",
       " 1,\n",
       " 3,\n",
       " 2,\n",
       " 1,\n",
       " 2,\n",
       " 2,\n",
       " 0,\n",
       " 3,\n",
       " 1,\n",
       " 2,\n",
       " 3,\n",
       " 1,\n",
       " 2,\n",
       " 1,\n",
       " 3,\n",
       " 0,\n",
       " 2,\n",
       " 1,\n",
       " 1,\n",
       " 2,\n",
       " 1,\n",
       " 1,\n",
       " 3,\n",
       " 2,\n",
       " 0,\n",
       " 0,\n",
       " 2,\n",
       " 2,\n",
       " 1,\n",
       " 1,\n",
       " 1,\n",
       " 0,\n",
       " 0,\n",
       " 2,\n",
       " 2,\n",
       " 2,\n",
       " 2,\n",
       " 1,\n",
       " 0,\n",
       " 2,\n",
       " 2,\n",
       " 0,\n",
       " 2,\n",
       " 2,\n",
       " 1,\n",
       " 1,\n",
       " 1,\n",
       " 2,\n",
       " 0,\n",
       " 1,\n",
       " 0,\n",
       " 1,\n",
       " 2,\n",
       " 1,\n",
       " 2,\n",
       " 1,\n",
       " 1,\n",
       " 1,\n",
       " 3,\n",
       " 1,\n",
       " 2,\n",
       " 2,\n",
       " 3,\n",
       " 2,\n",
       " 3,\n",
       " 1,\n",
       " 2,\n",
       " 2,\n",
       " 3,\n",
       " 2,\n",
       " 3,\n",
       " 3,\n",
       " 2,\n",
       " 3,\n",
       " 1,\n",
       " 2,\n",
       " 2,\n",
       " 0,\n",
       " 3,\n",
       " 2,\n",
       " 1,\n",
       " 1,\n",
       " 2,\n",
       " 1,\n",
       " 1,\n",
       " 2,\n",
       " 0,\n",
       " 1,\n",
       " 3,\n",
       " 2,\n",
       " 2,\n",
       " 2,\n",
       " 2,\n",
       " 3,\n",
       " 1,\n",
       " 2,\n",
       " 2,\n",
       " 3,\n",
       " 2,\n",
       " 0,\n",
       " 3,\n",
       " 2,\n",
       " 1,\n",
       " 1,\n",
       " 3,\n",
       " 2,\n",
       " 2,\n",
       " 1,\n",
       " 2,\n",
       " 3,\n",
       " 1,\n",
       " 2,\n",
       " 1,\n",
       " 2,\n",
       " 1,\n",
       " 2,\n",
       " 3,\n",
       " 3,\n",
       " 1,\n",
       " 1,\n",
       " 1,\n",
       " 3,\n",
       " 0,\n",
       " 3,\n",
       " 1,\n",
       " 2,\n",
       " 2,\n",
       " 0,\n",
       " 3,\n",
       " 2,\n",
       " 3,\n",
       " 3,\n",
       " 2,\n",
       " 1,\n",
       " 2,\n",
       " 0,\n",
       " 0,\n",
       " 2,\n",
       " 3,\n",
       " 1,\n",
       " 3,\n",
       " 1,\n",
       " 1,\n",
       " 0,\n",
       " 3,\n",
       " 0,\n",
       " 1,\n",
       " 1,\n",
       " 3,\n",
       " 2,\n",
       " 1,\n",
       " 2,\n",
       " 2,\n",
       " 1,\n",
       " 2,\n",
       " 0,\n",
       " 1,\n",
       " 2,\n",
       " 2,\n",
       " 2,\n",
       " 3,\n",
       " 2,\n",
       " 1,\n",
       " 2,\n",
       " 0,\n",
       " 1,\n",
       " 3,\n",
       " 1,\n",
       " 1,\n",
       " 2,\n",
       " 3,\n",
       " 2,\n",
       " 2,\n",
       " 3,\n",
       " 2,\n",
       " 2,\n",
       " 2,\n",
       " 1,\n",
       " 0,\n",
       " 1,\n",
       " 2,\n",
       " 2,\n",
       " 2,\n",
       " 1,\n",
       " 2,\n",
       " 1,\n",
       " 2,\n",
       " 1,\n",
       " 2,\n",
       " 1,\n",
       " 1,\n",
       " 3,\n",
       " 1,\n",
       " 1,\n",
       " 1,\n",
       " 2,\n",
       " 2,\n",
       " 1,\n",
       " 2,\n",
       " 1,\n",
       " 2,\n",
       " 2,\n",
       " 1,\n",
       " 2,\n",
       " 2,\n",
       " 2,\n",
       " 2,\n",
       " 0,\n",
       " 3,\n",
       " 3,\n",
       " 0,\n",
       " 2,\n",
       " 2,\n",
       " 3,\n",
       " 1,\n",
       " 2,\n",
       " 0,\n",
       " 1,\n",
       " 3,\n",
       " 0,\n",
       " 3,\n",
       " 2,\n",
       " 2,\n",
       " 2,\n",
       " 1,\n",
       " 2,\n",
       " 2,\n",
       " 0,\n",
       " 2,\n",
       " 2,\n",
       " 2,\n",
       " 3,\n",
       " 2,\n",
       " 1,\n",
       " 2,\n",
       " 1,\n",
       " 2,\n",
       " 1,\n",
       " 2,\n",
       " 1,\n",
       " 0,\n",
       " 2,\n",
       " 2,\n",
       " 1,\n",
       " 1,\n",
       " 2,\n",
       " 2,\n",
       " 3,\n",
       " 2,\n",
       " 2,\n",
       " 2,\n",
       " 2,\n",
       " 1,\n",
       " 2,\n",
       " 2,\n",
       " 1,\n",
       " 3,\n",
       " 2,\n",
       " 2,\n",
       " 2,\n",
       " 2,\n",
       " 3,\n",
       " 2,\n",
       " 2,\n",
       " 1,\n",
       " 3,\n",
       " 2,\n",
       " 0,\n",
       " 0,\n",
       " 2,\n",
       " 2,\n",
       " 2,\n",
       " 1,\n",
       " 3,\n",
       " 3,\n",
       " 2,\n",
       " 0,\n",
       " 1,\n",
       " 1,\n",
       " 3,\n",
       " 1,\n",
       " 0,\n",
       " 1,\n",
       " 3,\n",
       " 3,\n",
       " 1,\n",
       " 2,\n",
       " 2,\n",
       " 1,\n",
       " 2,\n",
       " 2,\n",
       " 2,\n",
       " 3,\n",
       " 1,\n",
       " 2,\n",
       " 0,\n",
       " 3,\n",
       " 0,\n",
       " 1,\n",
       " 0,\n",
       " 1,\n",
       " 2,\n",
       " 1,\n",
       " 1,\n",
       " 0,\n",
       " 1,\n",
       " 3,\n",
       " 0,\n",
       " 3,\n",
       " 3,\n",
       " 1,\n",
       " 3,\n",
       " 1,\n",
       " 3,\n",
       " 0,\n",
       " 3,\n",
       " 2,\n",
       " 1,\n",
       " 2,\n",
       " 2,\n",
       " 1,\n",
       " 1,\n",
       " 2,\n",
       " 2,\n",
       " 2,\n",
       " 3,\n",
       " 2,\n",
       " 2,\n",
       " 3,\n",
       " 0,\n",
       " 0,\n",
       " 1,\n",
       " 0,\n",
       " 1,\n",
       " 2,\n",
       " 2,\n",
       " 3,\n",
       " 3,\n",
       " 2,\n",
       " 1,\n",
       " 2,\n",
       " 1,\n",
       " 2,\n",
       " 3,\n",
       " 2,\n",
       " 2,\n",
       " 0,\n",
       " 2,\n",
       " 3,\n",
       " 0,\n",
       " 2,\n",
       " 1,\n",
       " 1,\n",
       " 0,\n",
       " 3,\n",
       " 3,\n",
       " 3,\n",
       " 3,\n",
       " 2,\n",
       " 2,\n",
       " 1,\n",
       " 1,\n",
       " 0,\n",
       " 1,\n",
       " 2,\n",
       " 1,\n",
       " 0,\n",
       " 1,\n",
       " 0,\n",
       " 3,\n",
       " 2,\n",
       " 3,\n",
       " 1,\n",
       " 0,\n",
       " 2,\n",
       " 1,\n",
       " 1,\n",
       " 1,\n",
       " 1,\n",
       " 2,\n",
       " 0,\n",
       " 1,\n",
       " 3,\n",
       " 0,\n",
       " 3,\n",
       " 0,\n",
       " 3,\n",
       " 2,\n",
       " 1,\n",
       " 1,\n",
       " 3,\n",
       " 1,\n",
       " 2,\n",
       " 0,\n",
       " 1,\n",
       " 2,\n",
       " 3,\n",
       " 1,\n",
       " 0,\n",
       " 0,\n",
       " 2,\n",
       " 2,\n",
       " 3,\n",
       " 3,\n",
       " 0,\n",
       " 3,\n",
       " 1,\n",
       " 3,\n",
       " 0,\n",
       " 0,\n",
       " 2,\n",
       " 0,\n",
       " 1,\n",
       " 2,\n",
       " 0,\n",
       " 3,\n",
       " 1,\n",
       " 1,\n",
       " 2,\n",
       " 2,\n",
       " 1,\n",
       " 2,\n",
       " 3,\n",
       " 2,\n",
       " 1,\n",
       " 2,\n",
       " 2,\n",
       " 2,\n",
       " 1,\n",
       " 0,\n",
       " 3,\n",
       " 0,\n",
       " 1,\n",
       " 2,\n",
       " 1,\n",
       " 3,\n",
       " 3,\n",
       " 1,\n",
       " 0,\n",
       " 3,\n",
       " 2,\n",
       " 1,\n",
       " 1,\n",
       " 0,\n",
       " 2,\n",
       " 2,\n",
       " 3,\n",
       " 0,\n",
       " 3,\n",
       " 2,\n",
       " 1,\n",
       " 2,\n",
       " 2,\n",
       " 2,\n",
       " 1,\n",
       " 1,\n",
       " 0,\n",
       " 3,\n",
       " 1,\n",
       " 2,\n",
       " 3,\n",
       " 0,\n",
       " 2,\n",
       " 1,\n",
       " 1,\n",
       " 0,\n",
       " 1,\n",
       " 2,\n",
       " 0,\n",
       " 3,\n",
       " 2,\n",
       " 2,\n",
       " 2,\n",
       " 3,\n",
       " 2,\n",
       " 0,\n",
       " 2,\n",
       " 3,\n",
       " 2,\n",
       " 1,\n",
       " 2,\n",
       " 2,\n",
       " 3,\n",
       " 2,\n",
       " 0,\n",
       " 2,\n",
       " 3,\n",
       " 3,\n",
       " 1,\n",
       " 2,\n",
       " 3,\n",
       " 2,\n",
       " 1,\n",
       " 3,\n",
       " 2,\n",
       " 1,\n",
       " 0,\n",
       " 2,\n",
       " 3,\n",
       " 3,\n",
       " 2,\n",
       " 0,\n",
       " 2,\n",
       " 0,\n",
       " 1,\n",
       " 1,\n",
       " 3,\n",
       " 2,\n",
       " 1,\n",
       " 3,\n",
       " 1,\n",
       " 1,\n",
       " 2,\n",
       " 0,\n",
       " 3,\n",
       " 2,\n",
       " 0,\n",
       " 0,\n",
       " 2,\n",
       " 0,\n",
       " 0,\n",
       " 1,\n",
       " 2,\n",
       " 0,\n",
       " 2,\n",
       " 3,\n",
       " 3,\n",
       " 1,\n",
       " 1,\n",
       " 1,\n",
       " 1,\n",
       " 0,\n",
       " 2,\n",
       " 1,\n",
       " 2,\n",
       " 1,\n",
       " 3,\n",
       " 0,\n",
       " 1,\n",
       " 2,\n",
       " 0,\n",
       " 2,\n",
       " 0,\n",
       " 2,\n",
       " 0,\n",
       " 1,\n",
       " 3,\n",
       " 2,\n",
       " 2,\n",
       " 2,\n",
       " 3,\n",
       " 2,\n",
       " 0,\n",
       " 1,\n",
       " 2,\n",
       " 3,\n",
       " 2,\n",
       " 1,\n",
       " 3,\n",
       " 1,\n",
       " 2,\n",
       " 1,\n",
       " 1,\n",
       " 0,\n",
       " ...]"
      ]
     },
     "execution_count": 55,
     "metadata": {},
     "output_type": "execute_result"
    }
   ],
   "source": [
    "train_data.labels"
   ]
  },
  {
   "cell_type": "code",
   "execution_count": 154,
   "metadata": {},
   "outputs": [
    {
     "data": {
      "text/plain": [
       "1.0"
      ]
     },
     "execution_count": 154,
     "metadata": {},
     "output_type": "execute_result"
    }
   ],
   "source": [
    "train_loader.dataset.data[1].std()"
   ]
  },
  {
   "cell_type": "code",
   "execution_count": 155,
   "metadata": {},
   "outputs": [],
   "source": [
    "class CNN(nn.Module):\n",
    "    def __init__(self):\n",
    "        super().__init__()\n",
    "        self.conv1 = nn.Conv2d(1, 16, kernel_size=(7,7), stride=(2,2), padding=(1,1))\n",
    "        self.bn1 = nn.BatchNorm2d(16)\n",
    "        self.conv2 = nn.Conv2d(16, 32, kernel_size=(5,5), stride=(2,2), padding=(1,1))\n",
    "        self.bn2 = nn.BatchNorm2d(32)\n",
    "        self.conv3 = nn.Conv2d(32, 32, kernel_size=(3,3), stride=(2,2), padding=(1,1))\n",
    "        self.bn3 = nn.BatchNorm2d(32)\n",
    "        self.conv4 = nn.Conv2d(32, 64, kernel_size=(3,3), stride=(2,2), padding=(1,1))\n",
    "        self.bn4 = nn.BatchNorm2d(64)\n",
    "        self.conv5 = nn.Conv2d(64, 64, kernel_size=(3,3), stride=(2,2), padding=(1,1))\n",
    "        self.bn5 = nn.BatchNorm2d(64)\n",
    "        self.conv6 = nn.Conv2d(64, 128, kernel_size=(3,3), stride=(2,2), padding=(1,1))\n",
    "        self.bn6 = nn.BatchNorm2d(128)\n",
    "        self.conv7 = nn.Conv2d(128, 128, kernel_size=(3,3), stride=(2,2), padding=(1,1))\n",
    "\n",
    "        self.fc1 = nn.Linear(128, 512)\n",
    "        self.dropout = nn.Dropout(0.25)\n",
    "        self.fc2 = nn.Linear(512, 4)\n",
    "    \n",
    "    def convs(self, x):\n",
    "        x = self.bn1(F.relu(self.conv1(x)))\n",
    "        x = self.bn2(F.relu(self.conv2(x)))\n",
    "        x = self.bn3(F.relu(self.conv3(x)))\n",
    "        x = self.bn4(F.relu(self.conv4(x)))\n",
    "        x = self.bn5(F.relu(self.conv5(x)))\n",
    "        x = self.bn6(F.relu(self.conv6(x)))\n",
    "        x = F.relu(self.conv7(x))\n",
    "        return x\n",
    "    \n",
    "    def forward(self, x):\n",
    "        x = self.convs(x)\n",
    "        x = x.reshape(x.size(0), -1)\n",
    "        x = F.relu(self.fc1(x))\n",
    "        x = self.dropout(x)\n",
    "        x = F.softmax(self.fc2(x), dim=1)\n",
    "        return x"
   ]
  },
  {
   "cell_type": "code",
   "execution_count": 156,
   "metadata": {},
   "outputs": [
    {
     "data": {
      "text/plain": [
       "CNN(\n",
       "  (conv1): Conv2d(1, 16, kernel_size=(7, 7), stride=(2, 2), padding=(1, 1))\n",
       "  (bn1): BatchNorm2d(16, eps=1e-05, momentum=0.1, affine=True, track_running_stats=True)\n",
       "  (conv2): Conv2d(16, 32, kernel_size=(5, 5), stride=(2, 2), padding=(1, 1))\n",
       "  (bn2): BatchNorm2d(32, eps=1e-05, momentum=0.1, affine=True, track_running_stats=True)\n",
       "  (conv3): Conv2d(32, 32, kernel_size=(3, 3), stride=(2, 2), padding=(1, 1))\n",
       "  (bn3): BatchNorm2d(32, eps=1e-05, momentum=0.1, affine=True, track_running_stats=True)\n",
       "  (conv4): Conv2d(32, 64, kernel_size=(3, 3), stride=(2, 2), padding=(1, 1))\n",
       "  (bn4): BatchNorm2d(64, eps=1e-05, momentum=0.1, affine=True, track_running_stats=True)\n",
       "  (conv5): Conv2d(64, 64, kernel_size=(3, 3), stride=(2, 2), padding=(1, 1))\n",
       "  (bn5): BatchNorm2d(64, eps=1e-05, momentum=0.1, affine=True, track_running_stats=True)\n",
       "  (conv6): Conv2d(64, 128, kernel_size=(3, 3), stride=(2, 2), padding=(1, 1))\n",
       "  (bn6): BatchNorm2d(128, eps=1e-05, momentum=0.1, affine=True, track_running_stats=True)\n",
       "  (conv7): Conv2d(128, 128, kernel_size=(3, 3), stride=(2, 2), padding=(1, 1))\n",
       "  (fc1): Linear(in_features=128, out_features=512, bias=True)\n",
       "  (dropout): Dropout(p=0.25, inplace=False)\n",
       "  (fc2): Linear(in_features=512, out_features=4, bias=True)\n",
       ")"
      ]
     },
     "execution_count": 156,
     "metadata": {},
     "output_type": "execute_result"
    }
   ],
   "source": [
    "cnn = CNN()\n",
    "cnn.to(device)"
   ]
  },
  {
   "cell_type": "code",
   "execution_count": 106,
   "metadata": {},
   "outputs": [],
   "source": [
    "i = torch.randn(64, 1, 129, 129).to(device)\n",
    "o = cnn(i)"
   ]
  },
  {
   "cell_type": "code",
   "execution_count": 157,
   "metadata": {},
   "outputs": [],
   "source": [
    "from sklearn.metrics import balanced_accuracy_score\n",
    "from sklearn.metrics import accuracy_score\n",
    "\n",
    "def train_model(model, loss_fn, train_loader, valid_loader, epochs, optimizer, train_losses, valid_losses, change_lr=None):\n",
    "    \n",
    "    for epoch in range(1,epochs+1):\n",
    "        \n",
    "        model.train()\n",
    "        batch_losses=[]\n",
    "        if change_lr:\n",
    "            optimizer = change_lr(optimizer, epoch)\n",
    "        for i, data in tqdm(enumerate(train_loader)):\n",
    "            x, y = data\n",
    "            optimizer.zero_grad()\n",
    "            x = x.to(device, dtype=torch.float32)\n",
    "            y = y.to(device, dtype=torch.long)\n",
    "            y_hat = model(x)\n",
    "            loss = loss_fn(y_hat, y)\n",
    "            loss.backward()\n",
    "            batch_losses.append(loss.item())\n",
    "            optimizer.step()\n",
    "        train_losses.append(batch_losses)\n",
    "\n",
    "\n",
    "#         print(\"Epoch - {} Train-Loss : {}\".format(epoch, np.mean(train_losses[-1])))\n",
    "        model.eval()\n",
    "        batch_losses=[]\n",
    "        trace_y = []\n",
    "        trace_yhat = []\n",
    "        for i, data in enumerate(valid_loader):\n",
    "            x, y = data\n",
    "            x = x.to(device, dtype=torch.float32)\n",
    "            y = y.to(device, dtype=torch.long)\n",
    "            y_hat = model(x)\n",
    "            loss = loss_fn(y_hat, y)\n",
    "            trace_y.append(y.cpu().detach().numpy())\n",
    "            trace_yhat.append(y_hat.cpu().detach().numpy())      \n",
    "            batch_losses.append(loss.item())\n",
    "\n",
    "        valid_losses.append(batch_losses)\n",
    "        trace_y = np.concatenate(trace_y)\n",
    "        trace_yhat = np.concatenate(trace_yhat)\n",
    "        accuracy = np.mean(trace_yhat.argmax(axis=1)==trace_y)\n",
    "        unweighted_accuracy = accuracy_score( trace_yhat.argmax(axis=1), trace_y )\n",
    "        weighted_accuracy = balanced_accuracy_score( trace_yhat.argmax(axis=1), trace_y )\n",
    "        print(\"Epoch - {} Train-Loss : {} Valid-Loss : {}\".format(epoch, np.mean(train_losses[-1]), np.mean(valid_losses[-1])))\n",
    "        print(\"unweighted_accuracy : {} weighted_accuracy : {}\".format(unweighted_accuracy, weighted_accuracy ))\n",
    "        "
   ]
  },
  {
   "cell_type": "code",
   "execution_count": 158,
   "metadata": {},
   "outputs": [],
   "source": [
    "learning_rate = 2e-4\n",
    "optimizer = optim.Adam(cnn.parameters(), lr=learning_rate, weight_decay=0.005)\n",
    "epochs = 50\n",
    "loss_fn = nn.CrossEntropyLoss()\n",
    "train_losses=[]\n",
    "valid_losses=[]"
   ]
  },
  {
   "cell_type": "code",
   "execution_count": 159,
   "metadata": {},
   "outputs": [
    {
     "name": "stderr",
     "output_type": "stream",
     "text": [
      "37it [00:01, 30.42it/s]\n",
      "4it [00:00, 34.44it/s]"
     ]
    },
    {
     "name": "stdout",
     "output_type": "stream",
     "text": [
      "Epoch - 1 Train-Loss : 1.3453409381814905 Valid-Loss : 1.3096454739570618\n",
      "unweighted_accuracy : 0.41256366723259763 weighted_accuracy : 0.46073270305113884\n"
     ]
    },
    {
     "name": "stderr",
     "output_type": "stream",
     "text": [
      "37it [00:01, 34.24it/s]\n",
      "4it [00:00, 34.74it/s]"
     ]
    },
    {
     "name": "stdout",
     "output_type": "stream",
     "text": [
      "Epoch - 2 Train-Loss : 1.2692586827922512 Valid-Loss : 1.2554392337799072\n",
      "unweighted_accuracy : 0.4634974533106961 weighted_accuracy : 0.5138124499064921\n"
     ]
    },
    {
     "name": "stderr",
     "output_type": "stream",
     "text": [
      "37it [00:01, 34.01it/s]\n",
      "4it [00:00, 34.76it/s]"
     ]
    },
    {
     "name": "stdout",
     "output_type": "stream",
     "text": [
      "Epoch - 3 Train-Loss : 1.1600208701314152 Valid-Loss : 1.2142937898635864\n",
      "unweighted_accuracy : 0.5059422750424448 weighted_accuracy : 0.5141497208931419\n"
     ]
    },
    {
     "name": "stderr",
     "output_type": "stream",
     "text": [
      "37it [00:01, 34.12it/s]\n",
      "4it [00:00, 34.73it/s]"
     ]
    },
    {
     "name": "stdout",
     "output_type": "stream",
     "text": [
      "Epoch - 4 Train-Loss : 1.0456143069911648 Valid-Loss : 1.2424926042556763\n",
      "unweighted_accuracy : 0.4685908319185059 weighted_accuracy : 0.46757468640909233\n"
     ]
    },
    {
     "name": "stderr",
     "output_type": "stream",
     "text": [
      "37it [00:01, 34.15it/s]\n",
      "4it [00:00, 34.74it/s]"
     ]
    },
    {
     "name": "stdout",
     "output_type": "stream",
     "text": [
      "Epoch - 5 Train-Loss : 0.9689007900856637 Valid-Loss : 1.2149614214897155\n",
      "unweighted_accuracy : 0.5025466893039049 weighted_accuracy : 0.5224266310922245\n"
     ]
    },
    {
     "name": "stderr",
     "output_type": "stream",
     "text": [
      "37it [00:01, 34.40it/s]\n",
      "4it [00:00, 34.74it/s]"
     ]
    },
    {
     "name": "stdout",
     "output_type": "stream",
     "text": [
      "Epoch - 6 Train-Loss : 0.9352054257650633 Valid-Loss : 1.230042612552643\n",
      "unweighted_accuracy : 0.5059422750424448 weighted_accuracy : 0.5072938209678158\n"
     ]
    },
    {
     "name": "stderr",
     "output_type": "stream",
     "text": [
      "37it [00:01, 34.31it/s]\n",
      "4it [00:00, 34.12it/s]"
     ]
    },
    {
     "name": "stdout",
     "output_type": "stream",
     "text": [
      "Epoch - 7 Train-Loss : 0.9118377340806497 Valid-Loss : 1.223758828639984\n",
      "unweighted_accuracy : 0.5025466893039049 weighted_accuracy : 0.500143815168661\n"
     ]
    },
    {
     "name": "stderr",
     "output_type": "stream",
     "text": [
      "37it [00:01, 34.07it/s]\n",
      "4it [00:00, 33.20it/s]"
     ]
    },
    {
     "name": "stdout",
     "output_type": "stream",
     "text": [
      "Epoch - 8 Train-Loss : 0.9004044564994605 Valid-Loss : 1.234082579612732\n",
      "unweighted_accuracy : 0.48896434634974534 weighted_accuracy : 0.48887457822677477\n"
     ]
    },
    {
     "name": "stderr",
     "output_type": "stream",
     "text": [
      "37it [00:01, 33.94it/s]\n",
      "4it [00:00, 34.01it/s]"
     ]
    },
    {
     "name": "stdout",
     "output_type": "stream",
     "text": [
      "Epoch - 9 Train-Loss : 0.8898195318273596 Valid-Loss : 1.235209596157074\n",
      "unweighted_accuracy : 0.499151103565365 weighted_accuracy : 0.5003524397336736\n",
      "Changed learning rate to 2e-05\n"
     ]
    },
    {
     "name": "stderr",
     "output_type": "stream",
     "text": [
      "37it [00:01, 33.86it/s]\n",
      "4it [00:00, 34.11it/s]"
     ]
    },
    {
     "name": "stdout",
     "output_type": "stream",
     "text": [
      "Epoch - 10 Train-Loss : 0.8820268882287515 Valid-Loss : 1.2210898637771606\n",
      "unweighted_accuracy : 0.48896434634974534 weighted_accuracy : 0.49020034555982006\n"
     ]
    },
    {
     "name": "stderr",
     "output_type": "stream",
     "text": [
      "37it [00:01, 33.90it/s]\n",
      "4it [00:00, 33.27it/s]"
     ]
    },
    {
     "name": "stdout",
     "output_type": "stream",
     "text": [
      "Epoch - 11 Train-Loss : 0.8799476510769612 Valid-Loss : 1.2214874267578124\n",
      "unweighted_accuracy : 0.49745331069609505 weighted_accuracy : 0.5001470264128973\n"
     ]
    },
    {
     "name": "stderr",
     "output_type": "stream",
     "text": [
      "37it [00:01, 33.65it/s]\n",
      "4it [00:00, 33.87it/s]"
     ]
    },
    {
     "name": "stdout",
     "output_type": "stream",
     "text": [
      "Epoch - 12 Train-Loss : 0.8784925099965688 Valid-Loss : 1.2219504237174987\n",
      "unweighted_accuracy : 0.49745331069609505 weighted_accuracy : 0.5013109199155711\n"
     ]
    },
    {
     "name": "stderr",
     "output_type": "stream",
     "text": [
      "37it [00:01, 33.98it/s]\n",
      "4it [00:00, 33.97it/s]"
     ]
    },
    {
     "name": "stdout",
     "output_type": "stream",
     "text": [
      "Epoch - 13 Train-Loss : 0.8775085339675078 Valid-Loss : 1.2304375052452088\n",
      "unweighted_accuracy : 0.4923599320882852 weighted_accuracy : 0.495339945967561\n"
     ]
    },
    {
     "name": "stderr",
     "output_type": "stream",
     "text": [
      "37it [00:01, 34.12it/s]\n",
      "4it [00:00, 33.35it/s]"
     ]
    },
    {
     "name": "stdout",
     "output_type": "stream",
     "text": [
      "Epoch - 14 Train-Loss : 0.8763899142677719 Valid-Loss : 1.237543249130249\n",
      "unweighted_accuracy : 0.49745331069609505 weighted_accuracy : 0.4985380116959064\n"
     ]
    },
    {
     "name": "stderr",
     "output_type": "stream",
     "text": [
      "37it [00:01, 33.98it/s]\n",
      "4it [00:00, 34.59it/s]"
     ]
    },
    {
     "name": "stdout",
     "output_type": "stream",
     "text": [
      "Epoch - 15 Train-Loss : 0.8754396390270542 Valid-Loss : 1.2396594047546388\n",
      "unweighted_accuracy : 0.5008488964346349 weighted_accuracy : 0.5030434263687082\n"
     ]
    },
    {
     "name": "stderr",
     "output_type": "stream",
     "text": [
      "37it [00:01, 34.17it/s]\n",
      "4it [00:00, 33.73it/s]"
     ]
    },
    {
     "name": "stdout",
     "output_type": "stream",
     "text": [
      "Epoch - 16 Train-Loss : 0.8735303540487547 Valid-Loss : 1.2392624020576477\n",
      "unweighted_accuracy : 0.4923599320882852 weighted_accuracy : 0.49818456449280824\n"
     ]
    },
    {
     "name": "stderr",
     "output_type": "stream",
     "text": [
      "37it [00:01, 34.28it/s]\n",
      "4it [00:00, 33.84it/s]"
     ]
    },
    {
     "name": "stdout",
     "output_type": "stream",
     "text": [
      "Epoch - 17 Train-Loss : 0.8730696439743042 Valid-Loss : 1.2312031030654906\n",
      "unweighted_accuracy : 0.49575551782682514 weighted_accuracy : 0.5005413753264621\n"
     ]
    },
    {
     "name": "stderr",
     "output_type": "stream",
     "text": [
      "37it [00:01, 33.70it/s]\n",
      "4it [00:00, 34.52it/s]"
     ]
    },
    {
     "name": "stdout",
     "output_type": "stream",
     "text": [
      "Epoch - 18 Train-Loss : 0.8718327670483976 Valid-Loss : 1.2079991757869721\n",
      "unweighted_accuracy : 0.49575551782682514 weighted_accuracy : 0.49775209717581387\n"
     ]
    },
    {
     "name": "stderr",
     "output_type": "stream",
     "text": [
      "37it [00:01, 34.11it/s]\n",
      "4it [00:00, 33.14it/s]"
     ]
    },
    {
     "name": "stdout",
     "output_type": "stream",
     "text": [
      "Epoch - 19 Train-Loss : 0.8713481361801559 Valid-Loss : 1.2318284153938293\n",
      "unweighted_accuracy : 0.499151103565365 weighted_accuracy : 0.5015944919255043\n",
      "Changed learning rate to 2e-06\n"
     ]
    },
    {
     "name": "stderr",
     "output_type": "stream",
     "text": [
      "37it [00:01, 33.67it/s]\n",
      "4it [00:00, 33.94it/s]"
     ]
    },
    {
     "name": "stdout",
     "output_type": "stream",
     "text": [
      "Epoch - 20 Train-Loss : 0.8706146526981045 Valid-Loss : 1.2263845086097718\n",
      "unweighted_accuracy : 0.49745331069609505 weighted_accuracy : 0.4993546265589612\n"
     ]
    },
    {
     "name": "stderr",
     "output_type": "stream",
     "text": [
      "37it [00:01, 34.03it/s]\n",
      "4it [00:00, 34.47it/s]"
     ]
    },
    {
     "name": "stdout",
     "output_type": "stream",
     "text": [
      "Epoch - 21 Train-Loss : 0.8699357509613037 Valid-Loss : 1.2406354904174806\n",
      "unweighted_accuracy : 0.4923599320882852 weighted_accuracy : 0.49502612173478316\n"
     ]
    },
    {
     "name": "stderr",
     "output_type": "stream",
     "text": [
      "37it [00:01, 33.90it/s]\n",
      "4it [00:00, 34.25it/s]"
     ]
    },
    {
     "name": "stdout",
     "output_type": "stream",
     "text": [
      "Epoch - 22 Train-Loss : 0.8698877160613602 Valid-Loss : 1.2431151390075683\n",
      "unweighted_accuracy : 0.49575551782682514 weighted_accuracy : 0.4982618275721724\n"
     ]
    },
    {
     "name": "stderr",
     "output_type": "stream",
     "text": [
      "37it [00:01, 34.23it/s]\n",
      "4it [00:00, 34.85it/s]"
     ]
    },
    {
     "name": "stdout",
     "output_type": "stream",
     "text": [
      "Epoch - 23 Train-Loss : 0.8694132276483484 Valid-Loss : 1.2327298998832703\n",
      "unweighted_accuracy : 0.49575551782682514 weighted_accuracy : 0.49975452546610044\n"
     ]
    },
    {
     "name": "stderr",
     "output_type": "stream",
     "text": [
      "37it [00:01, 33.92it/s]\n",
      "4it [00:00, 33.88it/s]"
     ]
    },
    {
     "name": "stdout",
     "output_type": "stream",
     "text": [
      "Epoch - 24 Train-Loss : 0.8696073390342094 Valid-Loss : 1.2324503183364868\n",
      "unweighted_accuracy : 0.49575551782682514 weighted_accuracy : 0.5027919501133787\n"
     ]
    },
    {
     "name": "stderr",
     "output_type": "stream",
     "text": [
      "37it [00:01, 33.73it/s]\n",
      "4it [00:00, 34.48it/s]"
     ]
    },
    {
     "name": "stdout",
     "output_type": "stream",
     "text": [
      "Epoch - 25 Train-Loss : 0.8698051587955372 Valid-Loss : 1.2224130511283875\n",
      "unweighted_accuracy : 0.48896434634974534 weighted_accuracy : 0.4936640886985308\n"
     ]
    },
    {
     "name": "stderr",
     "output_type": "stream",
     "text": [
      "37it [00:01, 34.11it/s]\n",
      "4it [00:00, 34.27it/s]"
     ]
    },
    {
     "name": "stdout",
     "output_type": "stream",
     "text": [
      "Epoch - 26 Train-Loss : 0.8693324649656141 Valid-Loss : 1.2477655172348023\n",
      "unweighted_accuracy : 0.4940577249575552 weighted_accuracy : 0.4978216947348046\n"
     ]
    },
    {
     "name": "stderr",
     "output_type": "stream",
     "text": [
      "37it [00:01, 33.69it/s]\n",
      "4it [00:00, 34.42it/s]"
     ]
    },
    {
     "name": "stdout",
     "output_type": "stream",
     "text": [
      "Epoch - 27 Train-Loss : 0.8691611950461929 Valid-Loss : 1.2276876449584961\n",
      "unweighted_accuracy : 0.4906621392190153 weighted_accuracy : 0.49479281466953084\n"
     ]
    },
    {
     "name": "stderr",
     "output_type": "stream",
     "text": [
      "37it [00:01, 34.04it/s]\n",
      "4it [00:00, 33.72it/s]"
     ]
    },
    {
     "name": "stdout",
     "output_type": "stream",
     "text": [
      "Epoch - 28 Train-Loss : 0.8691168846310796 Valid-Loss : 1.2407033801078797\n",
      "unweighted_accuracy : 0.4940577249575552 weighted_accuracy : 0.5000944248090868\n"
     ]
    },
    {
     "name": "stderr",
     "output_type": "stream",
     "text": [
      "37it [00:01, 33.72it/s]\n",
      "4it [00:00, 34.33it/s]"
     ]
    },
    {
     "name": "stdout",
     "output_type": "stream",
     "text": [
      "Epoch - 29 Train-Loss : 0.8691927613438787 Valid-Loss : 1.2260478138923645\n",
      "unweighted_accuracy : 0.4906621392190153 weighted_accuracy : 0.4938819192833334\n",
      "Changed learning rate to 2.0000000000000002e-07\n"
     ]
    },
    {
     "name": "stderr",
     "output_type": "stream",
     "text": [
      "37it [00:01, 34.21it/s]\n",
      "4it [00:00, 34.04it/s]"
     ]
    },
    {
     "name": "stdout",
     "output_type": "stream",
     "text": [
      "Epoch - 30 Train-Loss : 0.8683810475710276 Valid-Loss : 1.2226621985435486\n",
      "unweighted_accuracy : 0.49745331069609505 weighted_accuracy : 0.5011062771248187\n"
     ]
    },
    {
     "name": "stderr",
     "output_type": "stream",
     "text": [
      "37it [00:01, 33.81it/s]\n",
      "4it [00:00, 34.49it/s]"
     ]
    },
    {
     "name": "stdout",
     "output_type": "stream",
     "text": [
      "Epoch - 31 Train-Loss : 0.8696568318315454 Valid-Loss : 1.2261142134666443\n",
      "unweighted_accuracy : 0.49575551782682514 weighted_accuracy : 0.5013067149170848\n"
     ]
    },
    {
     "name": "stderr",
     "output_type": "stream",
     "text": [
      "37it [00:01, 34.23it/s]\n",
      "4it [00:00, 34.66it/s]"
     ]
    },
    {
     "name": "stdout",
     "output_type": "stream",
     "text": [
      "Epoch - 32 Train-Loss : 0.8690675368180146 Valid-Loss : 1.219163966178894\n",
      "unweighted_accuracy : 0.49575551782682514 weighted_accuracy : 0.4981693301189071\n"
     ]
    },
    {
     "name": "stderr",
     "output_type": "stream",
     "text": [
      "37it [00:01, 33.64it/s]\n",
      "4it [00:00, 34.19it/s]"
     ]
    },
    {
     "name": "stdout",
     "output_type": "stream",
     "text": [
      "Epoch - 33 Train-Loss : 0.8689585569742564 Valid-Loss : 1.2338753819465638\n",
      "unweighted_accuracy : 0.4940577249575552 weighted_accuracy : 0.4988666861855268\n"
     ]
    },
    {
     "name": "stderr",
     "output_type": "stream",
     "text": [
      "37it [00:01, 34.09it/s]\n",
      "4it [00:00, 34.25it/s]"
     ]
    },
    {
     "name": "stdout",
     "output_type": "stream",
     "text": [
      "Epoch - 34 Train-Loss : 0.868686015541489 Valid-Loss : 1.222920823097229\n",
      "unweighted_accuracy : 0.49575551782682514 weighted_accuracy : 0.5010289363871087\n"
     ]
    },
    {
     "name": "stderr",
     "output_type": "stream",
     "text": [
      "37it [00:01, 33.85it/s]\n",
      "4it [00:00, 34.44it/s]"
     ]
    },
    {
     "name": "stdout",
     "output_type": "stream",
     "text": [
      "Epoch - 35 Train-Loss : 0.8680626492242556 Valid-Loss : 1.2460356593132018\n",
      "unweighted_accuracy : 0.49745331069609505 weighted_accuracy : 0.5014892912577419\n"
     ]
    },
    {
     "name": "stderr",
     "output_type": "stream",
     "text": [
      "37it [00:01, 34.07it/s]\n",
      "4it [00:00, 34.41it/s]"
     ]
    },
    {
     "name": "stdout",
     "output_type": "stream",
     "text": [
      "Epoch - 36 Train-Loss : 0.8688857281530226 Valid-Loss : 1.22958984375\n",
      "unweighted_accuracy : 0.49575551782682514 weighted_accuracy : 0.5018447018447018\n"
     ]
    },
    {
     "name": "stderr",
     "output_type": "stream",
     "text": [
      "37it [00:01, 33.98it/s]\n",
      "4it [00:00, 34.58it/s]"
     ]
    },
    {
     "name": "stdout",
     "output_type": "stream",
     "text": [
      "Epoch - 37 Train-Loss : 0.8687639929152824 Valid-Loss : 1.2363452434539794\n",
      "unweighted_accuracy : 0.4923599320882852 weighted_accuracy : 0.49759177137225913\n"
     ]
    },
    {
     "name": "stderr",
     "output_type": "stream",
     "text": [
      "37it [00:01, 34.09it/s]\n",
      "4it [00:00, 34.33it/s]"
     ]
    },
    {
     "name": "stdout",
     "output_type": "stream",
     "text": [
      "Epoch - 38 Train-Loss : 0.8688270610732001 Valid-Loss : 1.2406872868537904\n",
      "unweighted_accuracy : 0.48896434634974534 weighted_accuracy : 0.49545644086738366\n"
     ]
    },
    {
     "name": "stderr",
     "output_type": "stream",
     "text": [
      "37it [00:01, 33.89it/s]\n",
      "4it [00:00, 34.28it/s]"
     ]
    },
    {
     "name": "stdout",
     "output_type": "stream",
     "text": [
      "Epoch - 39 Train-Loss : 0.8694791826041969 Valid-Loss : 1.2255617141723634\n",
      "unweighted_accuracy : 0.499151103565365 weighted_accuracy : 0.5030610911758453\n",
      "Changed learning rate to 2e-08\n"
     ]
    },
    {
     "name": "stderr",
     "output_type": "stream",
     "text": [
      "37it [00:01, 34.05it/s]\n",
      "4it [00:00, 34.22it/s]"
     ]
    },
    {
     "name": "stdout",
     "output_type": "stream",
     "text": [
      "Epoch - 40 Train-Loss : 0.8686832914481292 Valid-Loss : 1.2321603894233704\n",
      "unweighted_accuracy : 0.49575551782682514 weighted_accuracy : 0.4963859963859964\n"
     ]
    },
    {
     "name": "stderr",
     "output_type": "stream",
     "text": [
      "37it [00:01, 34.11it/s]\n",
      "4it [00:00, 34.20it/s]"
     ]
    },
    {
     "name": "stdout",
     "output_type": "stream",
     "text": [
      "Epoch - 41 Train-Loss : 0.868989511116131 Valid-Loss : 1.2290856838226318\n",
      "unweighted_accuracy : 0.49745331069609505 weighted_accuracy : 0.49991001353475983\n"
     ]
    },
    {
     "name": "stderr",
     "output_type": "stream",
     "text": [
      "37it [00:01, 33.29it/s]\n",
      "4it [00:00, 34.07it/s]"
     ]
    },
    {
     "name": "stdout",
     "output_type": "stream",
     "text": [
      "Epoch - 42 Train-Loss : 0.8688322724522771 Valid-Loss : 1.2311545372009278\n",
      "unweighted_accuracy : 0.4940577249575552 weighted_accuracy : 0.4970159690522708\n"
     ]
    },
    {
     "name": "stderr",
     "output_type": "stream",
     "text": [
      "37it [00:01, 33.78it/s]\n",
      "4it [00:00, 34.35it/s]"
     ]
    },
    {
     "name": "stdout",
     "output_type": "stream",
     "text": [
      "Epoch - 43 Train-Loss : 0.8688723106642027 Valid-Loss : 1.241838777065277\n",
      "unweighted_accuracy : 0.4923599320882852 weighted_accuracy : 0.4972542421734824\n"
     ]
    },
    {
     "name": "stderr",
     "output_type": "stream",
     "text": [
      "37it [00:01, 33.69it/s]\n",
      "4it [00:00, 34.68it/s]"
     ]
    },
    {
     "name": "stdout",
     "output_type": "stream",
     "text": [
      "Epoch - 44 Train-Loss : 0.8687630215206662 Valid-Loss : 1.2228338122367859\n",
      "unweighted_accuracy : 0.49745331069609505 weighted_accuracy : 0.500320781100615\n"
     ]
    },
    {
     "name": "stderr",
     "output_type": "stream",
     "text": [
      "37it [00:01, 34.02it/s]\n",
      "4it [00:00, 34.32it/s]"
     ]
    },
    {
     "name": "stdout",
     "output_type": "stream",
     "text": [
      "Epoch - 45 Train-Loss : 0.868594052018346 Valid-Loss : 1.225698959827423\n",
      "unweighted_accuracy : 0.5008488964346349 weighted_accuracy : 0.5041791044776119\n"
     ]
    },
    {
     "name": "stderr",
     "output_type": "stream",
     "text": [
      "37it [00:01, 33.89it/s]\n",
      "4it [00:00, 33.70it/s]"
     ]
    },
    {
     "name": "stdout",
     "output_type": "stream",
     "text": [
      "Epoch - 46 Train-Loss : 0.8691067921148764 Valid-Loss : 1.225554096698761\n",
      "unweighted_accuracy : 0.4923599320882852 weighted_accuracy : 0.49506775820793436\n"
     ]
    },
    {
     "name": "stderr",
     "output_type": "stream",
     "text": [
      "37it [00:01, 34.00it/s]\n",
      "4it [00:00, 34.70it/s]"
     ]
    },
    {
     "name": "stdout",
     "output_type": "stream",
     "text": [
      "Epoch - 47 Train-Loss : 0.8695275445242185 Valid-Loss : 1.235040831565857\n",
      "unweighted_accuracy : 0.48896434634974534 weighted_accuracy : 0.493100357122411\n"
     ]
    },
    {
     "name": "stderr",
     "output_type": "stream",
     "text": [
      "37it [00:01, 33.98it/s]\n",
      "4it [00:00, 33.75it/s]"
     ]
    },
    {
     "name": "stdout",
     "output_type": "stream",
     "text": [
      "Epoch - 48 Train-Loss : 0.8685110098606831 Valid-Loss : 1.2254974365234375\n",
      "unweighted_accuracy : 0.4906621392190153 weighted_accuracy : 0.49435726498389077\n"
     ]
    },
    {
     "name": "stderr",
     "output_type": "stream",
     "text": [
      "37it [00:01, 33.77it/s]\n",
      "4it [00:00, 34.69it/s]"
     ]
    },
    {
     "name": "stdout",
     "output_type": "stream",
     "text": [
      "Epoch - 49 Train-Loss : 0.8687886966241373 Valid-Loss : 1.2437508702278137\n",
      "unweighted_accuracy : 0.4940577249575552 weighted_accuracy : 0.49844733592361673\n",
      "Changed learning rate to 2e-09\n"
     ]
    },
    {
     "name": "stderr",
     "output_type": "stream",
     "text": [
      "37it [00:01, 33.57it/s]\n"
     ]
    },
    {
     "name": "stdout",
     "output_type": "stream",
     "text": [
      "Epoch - 50 Train-Loss : 0.8693640989226263 Valid-Loss : 1.220603835582733\n",
      "unweighted_accuracy : 0.49575551782682514 weighted_accuracy : 0.4994334147025916\n"
     ]
    }
   ],
   "source": [
    "train_model(cnn, loss_fn, train_loader, valid_loader, epochs, optimizer, train_losses, valid_losses, lr_decay)"
   ]
  },
  {
   "cell_type": "code",
   "execution_count": 66,
   "metadata": {},
   "outputs": [],
   "source": [
    "nice_train = train\n",
    "nice_valid = valid"
   ]
  },
  {
   "cell_type": "code",
   "execution_count": 237,
   "metadata": {},
   "outputs": [],
   "source": [
    "# from sklearn.model_selection import train_test_split\n",
    "# train, valid = train_test_split(audio, test_size=0.2)\n",
    "from sklearn.utils import shuffle\n",
    "# from sklearn.model_selection import train_test_split\n",
    "train = audio[:2617]\n",
    "train = shuffle(train)\n",
    "valid = audio[2617:]\n",
    "# train = nice_train\n",
    "# valid = nice_valid"
   ]
  },
  {
   "cell_type": "code",
   "execution_count": 281,
   "metadata": {},
   "outputs": [],
   "source": [
    "\n",
    "def get_melspectrogram_db(file_path, sr=None, n_fft=2048, hop_length=512, n_mels=128,top_db=80):\n",
    "    wav,sr = librosa.load(file_path,sr=sr)\n",
    "    \n",
    "    if wav.shape[0]<5*sr:\n",
    "        wav=np.pad(wav,int(np.ceil((5*sr-wav.shape[0])/2)),mode='reflect')\n",
    "    else:\n",
    "        wav=wav[:5*sr]\n",
    "    spec=librosa.feature.melspectrogram(wav, sr=sr, n_fft=n_fft,\n",
    "              hop_length=hop_length,n_mels=n_mels)\n",
    "    spec_db=librosa.power_to_db(spec,top_db=top_db)\n",
    "    return spec_db\n",
    "\n",
    "def spec_to_image(spec, eps=1e-6):\n",
    "    mean = spec.mean()\n",
    "    std = spec.std()\n",
    "    spec_norm = (spec - mean) / (std + eps)\n",
    "    spec_min, spec_max = spec_norm.min(), spec_norm.max()\n",
    "    spec_scaled = 255 * (spec_norm - spec_min) / (spec_max - spec_min)\n",
    "    spec_scaled = spec_scaled.astype(np.uint8)\n",
    "    return spec_scaled"
   ]
  },
  {
   "cell_type": "code",
   "execution_count": 282,
   "metadata": {},
   "outputs": [
    {
     "data": {
      "text/plain": [
       "(128, 157)"
      ]
     },
     "execution_count": 282,
     "metadata": {},
     "output_type": "execute_result"
    }
   ],
   "source": [
    "get_melspectrogram_db('/data/home/advaitmb/datasets/sentences/' + audio['wav_file'][1] + '.wav').shape"
   ]
  },
  {
   "cell_type": "code",
   "execution_count": 64,
   "metadata": {},
   "outputs": [],
   "source": [
    "\n",
    "\n",
    "class IEMOCAP(Dataset):\n",
    "    def __init__(self, base, df, in_col, out_col):\n",
    "        self.df = df\n",
    "        self.data = []\n",
    "        self.labels = []\n",
    "        self.c2i={}\n",
    "        self.i2c={}\n",
    "        self.categories = sorted(df[out_col].unique())\n",
    "        print(self.categories)\n",
    "        for i, category in enumerate(self.categories):\n",
    "            self.c2i[category]=i\n",
    "            self.i2c[i]=category\n",
    "        for ind in tqdm(range(len(df))):\n",
    "            row = df.iloc[ind]\n",
    "            file_path = base + '/' + row[in_col] + '.wav'\n",
    "            self.data.append(normalize(get_melspectrogram_db(file_path))[np.newaxis,...])\n",
    "            self.labels.append(self.c2i[row['emotion']])\n",
    "    def __len__(self):\n",
    "        return len(self.data)\n",
    "    def __getitem__(self, idx):\n",
    "        return self.data[idx], self.labels[idx]"
   ]
  },
  {
   "cell_type": "code",
   "execution_count": 72,
   "metadata": {},
   "outputs": [
    {
     "name": "stderr",
     "output_type": "stream",
     "text": [
      "  0%|          | 11/2212 [00:00<00:21, 103.81it/s]"
     ]
    },
    {
     "name": "stdout",
     "output_type": "stream",
     "text": [
      "['ang', 'hap', 'neu', 'sad']\n"
     ]
    },
    {
     "name": "stderr",
     "output_type": "stream",
     "text": [
      "100%|██████████| 2212/2212 [00:21<00:00, 102.61it/s]\n",
      "  2%|▏         | 11/731 [00:00<00:07, 101.61it/s]"
     ]
    },
    {
     "name": "stdout",
     "output_type": "stream",
     "text": [
      "['ang', 'hap', 'neu', 'sad']\n"
     ]
    },
    {
     "name": "stderr",
     "output_type": "stream",
     "text": [
      "100%|██████████| 731/731 [00:07<00:00, 103.51it/s]\n"
     ]
    }
   ],
   "source": [
    "train_data = IEMOCAP('/data/home/advaitmb/datasets/sentences', train, 'wav_file', 'emotion')\n",
    "valid_data = IEMOCAP('/data/home/advaitmb/datasets/sentences', valid, 'wav_file', 'emotion')\n",
    "train_loader = DataLoader(train_data, batch_size=128, shuffle=False)\n",
    "valid_loader = DataLoader(valid_data, batch_size=128, shuffle=False)"
   ]
  },
  {
   "cell_type": "code",
   "execution_count": 346,
   "metadata": {},
   "outputs": [
    {
     "data": {
      "text/plain": [
       "torch.Size([32, 8, 64])"
      ]
     },
     "execution_count": 346,
     "metadata": {},
     "output_type": "execute_result"
    }
   ],
   "source": [
    "l = nn.GRU(128*7, 64, 1, bidirectional=False)\n",
    "f = nn.Linear()\n",
    "#torch.Size([32, 128, 7, 8])\n",
    "i = torch.randn(32, 128, 7, 8)\n",
    "i = i.permute(0, 3, 1, 2)\n",
    "i = i.reshape(i.shape[0], i.shape[1], i.shape[2]*i.shape[3])\n",
    "o, _ = l(i)\n",
    "o.shape"
   ]
  },
  {
   "cell_type": "code",
   "execution_count": 73,
   "metadata": {},
   "outputs": [
    {
     "name": "stdout",
     "output_type": "stream",
     "text": [
      "CRNN(\n",
      "  (conv1): Conv2d(1, 32, kernel_size=(5, 5), stride=(2, 2), padding=(1, 1))\n",
      "  (bn1): BatchNorm2d(32, eps=1e-05, momentum=0.1, affine=True, track_running_stats=True)\n",
      "  (conv2): Conv2d(32, 64, kernel_size=(5, 5), stride=(2, 2), padding=(1, 1))\n",
      "  (bn2): BatchNorm2d(64, eps=1e-05, momentum=0.1, affine=True, track_running_stats=True)\n",
      "  (conv3): Conv2d(64, 128, kernel_size=(5, 5), stride=(2, 2), padding=(1, 1))\n",
      "  (bn3): BatchNorm2d(128, eps=1e-05, momentum=0.1, affine=True, track_running_stats=True)\n",
      "  (conv4): Conv2d(128, 128, kernel_size=(5, 5), stride=(2, 2), padding=(1, 1))\n",
      "  (fc1): Linear(in_features=7168, out_features=512, bias=True)\n",
      "  (fc2): Linear(in_features=512, out_features=4, bias=True)\n",
      ")\n"
     ]
    }
   ],
   "source": [
    "import torch\n",
    "import torch.nn as nn\n",
    "import torch.nn.functional as F\n",
    "\n",
    "class CRNN(nn.Module):\n",
    "    def __init__(self):\n",
    "        super().__init__() # just run the init of parent class (nn.Module)\n",
    "        self.conv1 = nn.Conv2d(1, 32, 5, 2, padding=1) # input is 1 image, 32 output channels, 5x5 kernel / window\n",
    "        self.bn1 = nn.BatchNorm2d(32)\n",
    "        self.conv2 = nn.Conv2d(32, 64, 5, 2, padding=1) # input is 32, bc the first layer output 32. Then we say the output will be 64 channels, 5x5 kernel / window\n",
    "        self.bn2 = nn.BatchNorm2d(64)\n",
    "        self.conv3 = nn.Conv2d(64, 128, 5, 2, padding=1)\n",
    "        self.bn3 = nn.BatchNorm2d(128)\n",
    "        self.conv4 = nn.Conv2d(128, 128, 5, 2, padding=1)\n",
    "        \n",
    "        self.fc1 = nn.Linear((7*8*128), 512) #flattening.\n",
    "        \n",
    "        \n",
    "        self.fc2 = nn.Linear(512, 4) # 512 in, 2 out bc we're doing 2 classes (dog vs cat).\n",
    "\n",
    "    def convs(self, x):\n",
    "        # max pooling over 2x2\n",
    "        x = F.relu(self.conv1(x))\n",
    "        x = self.bn1(x)\n",
    "        x = F.relu(self.conv2(x))\n",
    "        x = self.bn2(x)\n",
    "        x = F.relu(self.conv3(x))\n",
    "        x = self.bn3(x)\n",
    "        x = F.relu(self.conv4(x))\n",
    "\n",
    "        return x\n",
    "\n",
    "    def forward(self, x):\n",
    "        x = self.convs(x)\n",
    "        x = x.reshape(x.size(0), -1)\n",
    "        x = F.relu(self.fc1(x))\n",
    "        x = self.fc2(x) # bc this is our output layer. No activation here.\n",
    "        return F.softmax(x, dim=1)\n",
    "\n",
    "\n",
    "crnn = CRNN()\n",
    "print(crnn)"
   ]
  },
  {
   "cell_type": "code",
   "execution_count": 74,
   "metadata": {},
   "outputs": [
    {
     "data": {
      "text/plain": [
       "CRNN(\n",
       "  (conv1): Conv2d(1, 32, kernel_size=(5, 5), stride=(2, 2), padding=(1, 1))\n",
       "  (bn1): BatchNorm2d(32, eps=1e-05, momentum=0.1, affine=True, track_running_stats=True)\n",
       "  (conv2): Conv2d(32, 64, kernel_size=(5, 5), stride=(2, 2), padding=(1, 1))\n",
       "  (bn2): BatchNorm2d(64, eps=1e-05, momentum=0.1, affine=True, track_running_stats=True)\n",
       "  (conv3): Conv2d(64, 128, kernel_size=(5, 5), stride=(2, 2), padding=(1, 1))\n",
       "  (bn3): BatchNorm2d(128, eps=1e-05, momentum=0.1, affine=True, track_running_stats=True)\n",
       "  (conv4): Conv2d(128, 128, kernel_size=(5, 5), stride=(2, 2), padding=(1, 1))\n",
       "  (fc1): Linear(in_features=7168, out_features=512, bias=True)\n",
       "  (fc2): Linear(in_features=512, out_features=4, bias=True)\n",
       ")"
      ]
     },
     "execution_count": 74,
     "metadata": {},
     "output_type": "execute_result"
    }
   ],
   "source": [
    "crnn.to(device)"
   ]
  },
  {
   "cell_type": "code",
   "execution_count": 75,
   "metadata": {},
   "outputs": [],
   "source": [
    "# i = torch.randn(32, 1, 129, 157).to(device)\n",
    "# o = crnn(i)"
   ]
  },
  {
   "cell_type": "code",
   "execution_count": 76,
   "metadata": {},
   "outputs": [],
   "source": [
    "def setlr(optimizer, lr):\n",
    "    for param_group in optimizer.param_groups:\n",
    "        param_group['lr'] = lr\n",
    "    return optimizer\n",
    "\n",
    "def lr_decay(optimizer, epoch):\n",
    "    if epoch%10==0:\n",
    "        new_lr = learning_rate / (10**(epoch//10))\n",
    "        optimizer = setlr(optimizer, new_lr)\n",
    "        print(\"Changed learning rate to {}\".format(new_lr))\n",
    "    return optimizer"
   ]
  },
  {
   "cell_type": "code",
   "execution_count": 77,
   "metadata": {},
   "outputs": [],
   "source": [
    "from sklearn.metrics import balanced_accuracy_score\n",
    "from sklearn.metrics import accuracy_score\n",
    "\n",
    "def train_model(model, loss_fn, train_loader, valid_loader, epochs, optimizer, train_losses, valid_losses, change_lr=None):\n",
    "    \n",
    "    for epoch in range(1,epochs+1):\n",
    "        \n",
    "        model.train()\n",
    "        batch_losses=[]\n",
    "        if change_lr:\n",
    "            optimizer = change_lr(optimizer, epoch)\n",
    "        for i, data in tqdm(enumerate(train_loader)):\n",
    "            x, y = data\n",
    "            optimizer.zero_grad()\n",
    "            x = x.to(device, dtype=torch.float32)\n",
    "            y = y.to(device, dtype=torch.long)\n",
    "            y_hat = model(x)\n",
    "            loss = loss_fn(y_hat, y)\n",
    "            loss.backward()\n",
    "            batch_losses.append(loss.item())\n",
    "            optimizer.step()\n",
    "        train_losses.append(batch_losses)\n",
    "\n",
    "\n",
    "#         print(\"Epoch - {} Train-Loss : {}\".format(epoch, np.mean(train_losses[-1])))\n",
    "        model.eval()\n",
    "        batch_losses=[]\n",
    "        trace_y = []\n",
    "        trace_yhat = []\n",
    "        for i, data in enumerate(valid_loader):\n",
    "            x, y = data\n",
    "            x = x.to(device, dtype=torch.float32)\n",
    "            y = y.to(device, dtype=torch.long)\n",
    "            y_hat = model(x)\n",
    "            loss = loss_fn(y_hat, y)\n",
    "            trace_y.append(y.cpu().detach().numpy())\n",
    "            trace_yhat.append(y_hat.cpu().detach().numpy())      \n",
    "            batch_losses.append(loss.item())\n",
    "\n",
    "        valid_losses.append(batch_losses)\n",
    "        trace_y = np.concatenate(trace_y)\n",
    "        trace_yhat = np.concatenate(trace_yhat)\n",
    "        accuracy = np.mean(trace_yhat.argmax(axis=1)==trace_y)\n",
    "        unweighted_accuracy = accuracy_score( trace_yhat.argmax(axis=1), trace_y )\n",
    "        weighted_accuracy = balanced_accuracy_score( trace_yhat.argmax(axis=1), trace_y )\n",
    "        print(\"Epoch - {} Train-Loss : {} Valid-Loss : {}\".format(epoch, np.mean(train_losses[-1]), np.mean(valid_losses[-1])))\n",
    "        print(\"unweighted_accuracy : {} weighted_accuracy : {}\".format(unweighted_accuracy, weighted_accuracy ))\n",
    "        "
   ]
  },
  {
   "cell_type": "code",
   "execution_count": 78,
   "metadata": {},
   "outputs": [],
   "source": [
    "learning_rate = 2e-4\n",
    "optimizer = optim.Adam(crnn.parameters(), lr=learning_rate, weight_decay=0.005)\n",
    "epochs = 8\n",
    "loss_fn = nn.CrossEntropyLoss()\n",
    "train_losses=[]\n",
    "valid_losses=[]"
   ]
  },
  {
   "cell_type": "code",
   "execution_count": null,
   "metadata": {},
   "outputs": [],
   "source": []
  },
  {
   "cell_type": "code",
   "execution_count": 79,
   "metadata": {},
   "outputs": [
    {
     "name": "stderr",
     "output_type": "stream",
     "text": [
      "18it [00:02,  6.67it/s]\n",
      "1it [00:00,  6.64it/s]"
     ]
    },
    {
     "name": "stdout",
     "output_type": "stream",
     "text": [
      "Epoch - 1 Train-Loss : 1.219491548008389 Valid-Loss : 1.401651402314504\n",
      "unweighted_accuracy : 0.20383036935704515 weighted_accuracy : 0.35856583455702395\n"
     ]
    },
    {
     "name": "stderr",
     "output_type": "stream",
     "text": [
      "18it [00:02,  6.91it/s]\n",
      "1it [00:00,  6.54it/s]"
     ]
    },
    {
     "name": "stdout",
     "output_type": "stream",
     "text": [
      "Epoch - 2 Train-Loss : 1.0993236502011616 Valid-Loss : 1.1999614238739014\n",
      "unweighted_accuracy : 0.521203830369357 weighted_accuracy : 0.5528281161836185\n"
     ]
    },
    {
     "name": "stderr",
     "output_type": "stream",
     "text": [
      "18it [00:02,  6.88it/s]\n",
      "1it [00:00,  6.61it/s]"
     ]
    },
    {
     "name": "stdout",
     "output_type": "stream",
     "text": [
      "Epoch - 3 Train-Loss : 1.0396446519427829 Valid-Loss : 1.1500777403513591\n",
      "unweighted_accuracy : 0.5937072503419972 weighted_accuracy : 0.5988090103043374\n"
     ]
    },
    {
     "name": "stderr",
     "output_type": "stream",
     "text": [
      "18it [00:02,  6.91it/s]\n",
      "1it [00:00,  6.62it/s]"
     ]
    },
    {
     "name": "stdout",
     "output_type": "stream",
     "text": [
      "Epoch - 4 Train-Loss : 1.0183185736338298 Valid-Loss : 1.217254102230072\n",
      "unweighted_accuracy : 0.518467852257182 weighted_accuracy : 0.6057318869693318\n"
     ]
    },
    {
     "name": "stderr",
     "output_type": "stream",
     "text": [
      "18it [00:02,  6.90it/s]\n",
      "1it [00:00,  6.63it/s]"
     ]
    },
    {
     "name": "stdout",
     "output_type": "stream",
     "text": [
      "Epoch - 5 Train-Loss : 0.9966554575496249 Valid-Loss : 1.158712367216746\n",
      "unweighted_accuracy : 0.5786593707250342 weighted_accuracy : 0.5941381293059407\n"
     ]
    },
    {
     "name": "stderr",
     "output_type": "stream",
     "text": [
      "18it [00:02,  6.88it/s]\n",
      "1it [00:00,  6.56it/s]"
     ]
    },
    {
     "name": "stdout",
     "output_type": "stream",
     "text": [
      "Epoch - 6 Train-Loss : 0.9374294877052307 Valid-Loss : 1.140179435412089\n",
      "unweighted_accuracy : 0.6046511627906976 weighted_accuracy : 0.6192080328888147\n"
     ]
    },
    {
     "name": "stderr",
     "output_type": "stream",
     "text": [
      "18it [00:02,  6.90it/s]\n",
      "1it [00:00,  6.66it/s]"
     ]
    },
    {
     "name": "stdout",
     "output_type": "stream",
     "text": [
      "Epoch - 7 Train-Loss : 0.9146534436278873 Valid-Loss : 1.1452919443448384\n",
      "unweighted_accuracy : 0.5909712722298222 weighted_accuracy : 0.6105718537414967\n"
     ]
    },
    {
     "name": "stderr",
     "output_type": "stream",
     "text": [
      "18it [00:02,  6.88it/s]\n"
     ]
    },
    {
     "name": "stdout",
     "output_type": "stream",
     "text": [
      "Epoch - 8 Train-Loss : 0.9009284973144531 Valid-Loss : 1.1411031087239583\n",
      "unweighted_accuracy : 0.585499316005472 weighted_accuracy : 0.6185183701085945\n"
     ]
    }
   ],
   "source": [
    "train_model(crnn, loss_fn, train_loader, valid_loader, epochs, optimizer, train_losses, valid_losses, lr_decay)"
   ]
  },
  {
   "cell_type": "code",
   "execution_count": 189,
   "metadata": {},
   "outputs": [
    {
     "data": {
      "text/plain": [
       "[]"
      ]
     },
     "execution_count": 189,
     "metadata": {},
     "output_type": "execute_result"
    }
   ],
   "source": [
    "resnet_train_losses"
   ]
  },
  {
   "cell_type": "code",
   "execution_count": 77,
   "metadata": {},
   "outputs": [
    {
     "data": {
      "text/plain": [
       "<matplotlib.legend.Legend at 0x7fbc5ccf2e80>"
      ]
     },
     "execution_count": 77,
     "metadata": {},
     "output_type": "execute_result"
    },
    {
     "data": {
      "image/png": "[encoded data removed]",
      "text/plain": [
       "<Figure size 864x432 with 2 Axes>"
      ]
     },
     "metadata": {
      "needs_background": "light"
     },
     "output_type": "display_data"
    }
   ],
   "source": [
    "tl = np.asarray(train_losses).ravel()\n",
    "vl = np.asarray(valid_losses).ravel()\n",
    "plt.figure(figsize=(12,6))\n",
    "plt.subplot(1,2,1)\n",
    "plt.plot(tl)\n",
    "plt.legend(['Train Loss'])\n",
    "plt.subplot(1,2,2)\n",
    "plt.plot(vl,'orange')\n",
    "plt.legend(['Valid Loss'])"
   ]
  },
  {
   "cell_type": "code",
   "execution_count": null,
   "metadata": {},
   "outputs": [],
   "source": []
  }
 ],
 "metadata": {
  "kernelspec": {
   "display_name": "Python 3.6 - AzureML",
   "language": "python",
   "name": "python3-azureml"
  },
  "language_info": {
   "codemirror_mode": {
    "name": "ipython",
    "version": 3
   },
   "file_extension": ".py",
   "mimetype": "text/x-python",
   "name": "python",
   "nbconvert_exporter": "python",
   "pygments_lexer": "ipython3",
   "version": "3.6.9"
  }
 },
 "nbformat": 4,
 "nbformat_minor": 2
}
