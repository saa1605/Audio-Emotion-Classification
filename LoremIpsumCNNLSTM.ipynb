{
  "nbformat": 4,
  "nbformat_minor": 0,
  "metadata": {
    "colab": {
      "name": "LoremIpsumCNNLSTM.ipynb",
      "provenance": [],
      "collapsed_sections": []
    },
    "kernelspec": {
      "name": "python3",
      "display_name": "Python 3"
    }
  },
  "cells": [
    {
      "cell_type": "code",
      "metadata": {
        "id": "mGEwIW7B7Y82",
        "colab_type": "code",
        "colab": {
          "base_uri": "https://localhost:8080/",
          "height": 124
        },
        "outputId": "15a768a6-57ba-4be7-83da-9cc2a713dc34"
      },
      "source": [
        "from google.colab import drive \n",
        "drive.mount('/content/gdrive')"
      ],
      "execution_count": 1,
      "outputs": [
        {
          "output_type": "stream",
          "text": [
            "Go to this URL in a browser: https://accounts.google.com/o/oauth2/auth?client_id=947318989803-6bn6qk8qdgf4n4g3pfee6491hc0brc4i.apps.googleusercontent.com&redirect_uri=urn%3Aietf%3Awg%3Aoauth%3A2.0%3Aoob&scope=email%20https%3A%2F%2Fwww.googleapis.com%2Fauth%2Fdocs.test%20https%3A%2F%2Fwww.googleapis.com%2Fauth%2Fdrive%20https%3A%2F%2Fwww.googleapis.com%2Fauth%2Fdrive.photos.readonly%20https%3A%2F%2Fwww.googleapis.com%2Fauth%2Fpeopleapi.readonly&response_type=code\n",
            "\n",
            "Enter your authorization code:\n",
            "··········\n",
            "Mounted at /content/gdrive\n"
          ],
          "name": "stdout"
        }
      ]
    },
    {
      "cell_type": "markdown",
      "metadata": {
        "id": "7d7cUT0NWF28",
        "colab_type": "text"
      },
      "source": [
        "Collect RAVDESS DATA from Drive and expand the dimension for CNN"
      ]
    },
    {
      "cell_type": "code",
      "metadata": {
        "id": "3HrGw7zM71Dc",
        "colab_type": "code",
        "colab": {}
      },
      "source": [
        "import numpy as np\n",
        "ravdess_X = np.load('gdrive/My Drive/AI-Hackathon/ravdess_X.npy')\n",
        "ravdess_y = np.load('gdrive/My Drive/AI-Hackathon/ravdess_y.npy')"
      ],
      "execution_count": 0,
      "outputs": []
    },
    {
      "cell_type": "code",
      "metadata": {
        "id": "burk2OT5_toh",
        "colab_type": "code",
        "colab": {}
      },
      "source": [
        "ravdess_X = np.expand_dims(ravdess_X,axis=3)"
      ],
      "execution_count": 0,
      "outputs": []
    },
    {
      "cell_type": "markdown",
      "metadata": {
        "id": "GkDfSzX2WKkx",
        "colab_type": "text"
      },
      "source": [
        "Train-Test Seperation, Shuffling and Weight balance computation"
      ]
    },
    {
      "cell_type": "code",
      "metadata": {
        "id": "QXYoHAF0-CM9",
        "colab_type": "code",
        "colab": {}
      },
      "source": [
        "from sklearn.model_selection import train_test_split\n",
        "ravdess_train_X, ravdess_valid_X, ravdess_train_y, ravdess_valid_y  = train_test_split(ravdess_X,ravdess_y,test_size=0.2,random_state=42)"
      ],
      "execution_count": 0,
      "outputs": []
    },
    {
      "cell_type": "code",
      "metadata": {
        "id": "6e-lPENo9wUC",
        "colab_type": "code",
        "colab": {}
      },
      "source": [
        "from sklearn.utils import shuffle\n",
        "ravdess_train_X, ravdess_train_y = shuffle(ravdess_train_X, ravdess_train_y, random_state=42)"
      ],
      "execution_count": 0,
      "outputs": []
    },
    {
      "cell_type": "code",
      "metadata": {
        "id": "Ajtnq54f-SQa",
        "colab_type": "code",
        "colab": {}
      },
      "source": [
        "from sklearn.utils.class_weight import compute_class_weight\n",
        "class_weights = compute_class_weight('balanced', np.unique(ravdess_train_y),ravdess_train_y)"
      ],
      "execution_count": 0,
      "outputs": []
    },
    {
      "cell_type": "markdown",
      "metadata": {
        "id": "UFXWTMSOWUr-",
        "colab_type": "text"
      },
      "source": [
        "Keras Sequential Model with 2D CNN and LSTM"
      ]
    },
    {
      "cell_type": "code",
      "metadata": {
        "id": "qVynIdlZ-dls",
        "colab_type": "code",
        "colab": {}
      },
      "source": [
        "import keras\n",
        "import numpy as np\n",
        "import matplotlib.pyplot as plt\n",
        "import tensorflow as tf\n",
        "from keras.preprocessing import sequence\n",
        "from keras.models import Sequential\n",
        "from keras.layers import Dense, Embedding\n",
        "from keras.utils import to_categorical\n",
        "from keras.layers import Input, Flatten, Dropout, Activation, BatchNormalization\n",
        "from keras.layers import Conv2D, MaxPooling2D, LSTM, Lambda\n",
        "from keras.models import Model\n",
        "from keras.callbacks import ModelCheckpoint\n",
        "from sklearn.model_selection import train_test_split\n",
        "from keras import backend as K\n",
        "\n",
        "model_ravdess = Sequential()\n",
        "kernel = 5\n",
        "model_ravdess.add(Conv2D(32, 5,strides=2,padding='same',\n",
        "                 input_shape=(13,216,1)))\n",
        "model_ravdess.add(Activation('relu'))\n",
        "model_ravdess.add(BatchNormalization())\n",
        "\n",
        "model_ravdess.add(Conv2D(64, 5,strides=2,padding='same',))\n",
        "model_ravdess.add(Activation('relu'))\n",
        "model_ravdess.add(BatchNormalization())\n",
        "\n",
        "model_ravdess.add(Conv2D(64, 5,strides=2,padding='same',))\n",
        "model_ravdess.add(Activation('relu'))\n",
        "model_ravdess.add(BatchNormalization())\n",
        "model_ravdess.add(MaxPooling2D(pool_size=(2,3)))\n",
        "model_ravdess.add(Lambda(lambda x: K.squeeze(x, axis= 1)))\n",
        "\n",
        "model_ravdess.add(LSTM(16))\n",
        "model_ravdess.add(Dropout(0.2))\n",
        "\n",
        "model_ravdess.add(Dense(7))\n",
        "model_ravdess.add(Activation('softmax'))\n",
        "\n",
        "\n",
        "opt = keras.optimizers.Adam(lr=0.001, beta_1=0.9, beta_2=0.999, epsilon=None, decay=0.0, amsgrad=False)"
      ],
      "execution_count": 0,
      "outputs": []
    },
    {
      "cell_type": "code",
      "metadata": {
        "id": "v9vJukOPQxL1",
        "colab_type": "code",
        "colab": {
          "base_uri": "https://localhost:8080/",
          "height": 677
        },
        "outputId": "a4acb06a-2545-4ffe-f27c-aa988ef7a403"
      },
      "source": [
        "model_ravdess.summary()"
      ],
      "execution_count": 103,
      "outputs": [
        {
          "output_type": "stream",
          "text": [
            "Model: \"sequential_7\"\n",
            "_________________________________________________________________\n",
            "Layer (type)                 Output Shape              Param #   \n",
            "=================================================================\n",
            "conv2d_19 (Conv2D)           (None, 7, 108, 32)        416       \n",
            "_________________________________________________________________\n",
            "activation_25 (Activation)   (None, 7, 108, 32)        0         \n",
            "_________________________________________________________________\n",
            "batch_normalization_19 (Batc (None, 7, 108, 32)        128       \n",
            "_________________________________________________________________\n",
            "conv2d_20 (Conv2D)           (None, 4, 54, 64)         24640     \n",
            "_________________________________________________________________\n",
            "activation_26 (Activation)   (None, 4, 54, 64)         0         \n",
            "_________________________________________________________________\n",
            "batch_normalization_20 (Batc (None, 4, 54, 64)         256       \n",
            "_________________________________________________________________\n",
            "conv2d_21 (Conv2D)           (None, 2, 27, 64)         49216     \n",
            "_________________________________________________________________\n",
            "activation_27 (Activation)   (None, 2, 27, 64)         0         \n",
            "_________________________________________________________________\n",
            "batch_normalization_21 (Batc (None, 2, 27, 64)         256       \n",
            "_________________________________________________________________\n",
            "max_pooling2d_7 (MaxPooling2 (None, 1, 9, 64)          0         \n",
            "_________________________________________________________________\n",
            "lambda_7 (Lambda)            (None, 9, 64)             0         \n",
            "_________________________________________________________________\n",
            "lstm_7 (LSTM)                (None, 16)                5184      \n",
            "_________________________________________________________________\n",
            "dropout_7 (Dropout)          (None, 16)                0         \n",
            "_________________________________________________________________\n",
            "dense_7 (Dense)              (None, 7)                 119       \n",
            "_________________________________________________________________\n",
            "activation_28 (Activation)   (None, 7)                 0         \n",
            "=================================================================\n",
            "Total params: 80,215\n",
            "Trainable params: 79,895\n",
            "Non-trainable params: 320\n",
            "_________________________________________________________________\n"
          ],
          "name": "stdout"
        }
      ]
    },
    {
      "cell_type": "code",
      "metadata": {
        "id": "164x6Sno-fl2",
        "colab_type": "code",
        "colab": {}
      },
      "source": [
        "model_ravdess.compile(loss='sparse_categorical_crossentropy',\n",
        "              optimizer=opt,\n",
        "              metrics=['accuracy'])"
      ],
      "execution_count": 0,
      "outputs": []
    },
    {
      "cell_type": "code",
      "metadata": {
        "id": "0zHQwM2B-nlJ",
        "colab_type": "code",
        "colab": {}
      },
      "source": [
        "cnnhistory=model_ravdess.fit(ravdess_train_X, ravdess_train_y, batch_size=16, epochs=10, validation_data=[ravdess_valid_X,ravdess_valid_y])"
      ],
      "execution_count": 0,
      "outputs": []
    },
    {
      "cell_type": "code",
      "metadata": {
        "id": "JqROeNCMFwBI",
        "colab_type": "code",
        "colab": {}
      },
      "source": [
        "model_ravdess.save('lstm_cnn_rectangular_low_dropout.h5')"
      ],
      "execution_count": 0,
      "outputs": []
    },
    {
      "cell_type": "code",
      "metadata": {
        "id": "q_f_7GlHA2iR",
        "colab_type": "code",
        "colab": {
          "base_uri": "https://localhost:8080/",
          "height": 295
        },
        "outputId": "c34d96e1-3a6f-47f5-aae7-106a5fa16884"
      },
      "source": [
        "import matplotlib.pyplot as plt\n",
        "plt.plot(cnnhistory.history['loss'])\n",
        "plt.plot(cnnhistory.history['val_loss'])\n",
        "plt.title('model loss')\n",
        "plt.ylabel('loss')\n",
        "plt.xlabel('epoch')\n",
        "plt.legend(['train', 'test'], loc='upper left')\n",
        "plt.show()"
      ],
      "execution_count": 124,
      "outputs": [
        {
          "output_type": "display_data",
          "data": {
            "image/png": "[encoded data removed]",
            "text/plain": [
              "<Figure size 432x288 with 1 Axes>"
            ]
          },
          "metadata": {
            "tags": []
          }
        }
      ]
    },
    {
      "cell_type": "code",
      "metadata": {
        "id": "YLWCiwbg-qyo",
        "colab_type": "code",
        "colab": {}
      },
      "source": [
        "import os \n",
        "import librosa\n",
        "i=0\n",
        "test_labels = []\n",
        "t_arr = np.zeros((30,13,216))\n",
        "for folder in os.listdir('Tata-Training-Diarize'):\n",
        "  for file in os.listdir(f'{\"Tata-Training-Diarize/\"}{folder}'):\n",
        "    try:\n",
        "      X, sample_rate = librosa.load(f'{\"Tata-Training-Diarize/\"}{folder}{\"/\"}{file}', res_type='kaiser_fast',duration=2.5,sr=22050*2,offset=0.5)\n",
        "      sample_rate = np.array(sample_rate)\n",
        "      mfccs = librosa.feature.mfcc(y=X, sr=sample_rate, n_mfcc=13)\n",
        "\n",
        "      result = np.zeros((13,216))\n",
        "      result[:mfccs.shape[0],:mfccs.shape[1]] = mfccs\n",
        "      t_arr[i] = result\n",
        "\n",
        "      i+=1\n",
        "      test_labels.append(int(folder))\n",
        "    except:\n",
        "      continue\n"
      ],
      "execution_count": 0,
      "outputs": []
    },
    {
      "cell_type": "code",
      "metadata": {
        "id": "ETdEi1Bf-yON",
        "colab_type": "code",
        "colab": {}
      },
      "source": [
        "test = np.expand_dims(t_arr,axis=3)"
      ],
      "execution_count": 0,
      "outputs": []
    },
    {
      "cell_type": "code",
      "metadata": {
        "id": "xszGoX7x-z5Y",
        "colab_type": "code",
        "colab": {}
      },
      "source": [
        "classes = ['Neutral','Happy','Sad','Angry','Fearful','Disgust','Surprise']"
      ],
      "execution_count": 0,
      "outputs": []
    },
    {
      "cell_type": "markdown",
      "metadata": {
        "id": "qBmtRCQUacDd",
        "colab_type": "text"
      },
      "source": [
        "Load the saved original RAVDESS model to train some more on test dataset "
      ]
    },
    {
      "cell_type": "code",
      "metadata": {
        "id": "JuG-Ic6FE1fU",
        "colab_type": "code",
        "colab": {}
      },
      "source": [
        "from keras.models import load_model\n",
        "# model_ravdess = load_model('gdrive/My Drive/AI-Hackathon/model/2d_Convolution_Ravdess_Shuffled.h5')\n",
        "model_ravdess = load_model('lstm_cnn_rectangular_low_dropout.h5')"
      ],
      "execution_count": 0,
      "outputs": []
    },
    {
      "cell_type": "code",
      "metadata": {
        "id": "b85HhiEe-1oE",
        "colab_type": "code",
        "colab": {}
      },
      "source": [
        "preds = model_ravdess.predict_classes(test)\n",
        "for i in range(len(preds)):\n",
        "  print(classes[preds[i]], '     ',classes[test_labels[i]])"
      ],
      "execution_count": 0,
      "outputs": []
    },
    {
      "cell_type": "markdown",
      "metadata": {
        "id": "9SEPH1SU-2Ux",
        "colab_type": "text"
      },
      "source": [
        "Test on Local Data, Prepare Local Data"
      ]
    },
    {
      "cell_type": "code",
      "metadata": {
        "id": "Zn0GmUuF_FwV",
        "colab_type": "code",
        "colab": {}
      },
      "source": [
        "ravdess_X = t_arr\n",
        "ravdess_y = test_labels"
      ],
      "execution_count": 0,
      "outputs": []
    },
    {
      "cell_type": "code",
      "metadata": {
        "id": "2fikXem-_U2l",
        "colab_type": "code",
        "colab": {}
      },
      "source": [
        "ravdess_X = np.expand_dims(ravdess_X,axis=3)"
      ],
      "execution_count": 0,
      "outputs": []
    },
    {
      "cell_type": "code",
      "metadata": {
        "id": "0UM_wzYl_XHJ",
        "colab_type": "code",
        "colab": {}
      },
      "source": [
        "from sklearn.model_selection import train_test_split\n",
        "ravdess_train_X, ravdess_valid_X, ravdess_train_y, ravdess_valid_y  = train_test_split(ravdess_X,ravdess_y,test_size=0.2,random_state=42)"
      ],
      "execution_count": 0,
      "outputs": []
    },
    {
      "cell_type": "code",
      "metadata": {
        "id": "pO6Flgy__cls",
        "colab_type": "code",
        "colab": {}
      },
      "source": [
        "from sklearn.utils import shuffle\n",
        "ravdess_X, ravdess_y = shuffle(ravdess_X, ravdess_y, random_state=42)"
      ],
      "execution_count": 0,
      "outputs": []
    },
    {
      "cell_type": "code",
      "metadata": {
        "id": "gOn6cFQBJP51",
        "colab_type": "code",
        "colab": {}
      },
      "source": [
        "from sklearn.utils.class_weight import compute_class_weight\n",
        "class_weights = compute_class_weight('balanced', np.unique(ravdess_train_y),ravdess_train_y)"
      ],
      "execution_count": 0,
      "outputs": []
    },
    {
      "cell_type": "code",
      "metadata": {
        "id": "OuxYwXMv-1gw",
        "colab_type": "code",
        "colab": {}
      },
      "source": [
        "cnnhistory=model_ravdess.fit(ravdess_train_X, ravdess_train_y, batch_size=4, epochs=2, validation_data=(ravdess_valid_X, ravdess_valid_y),class_weight=class_weights)"
      ],
      "execution_count": 0,
      "outputs": []
    },
    {
      "cell_type": "markdown",
      "metadata": {
        "id": "ah0scrbUakug",
        "colab_type": "text"
      },
      "source": [
        "Save and import newly created model"
      ]
    },
    {
      "cell_type": "code",
      "metadata": {
        "id": "jr__blt1Irmh",
        "colab_type": "code",
        "colab": {}
      },
      "source": [
        "model_ravdess.save('lstm_cnn_rectangular_lowdropout_trainedoncustomdata.h5')"
      ],
      "execution_count": 0,
      "outputs": []
    }
  ]
}