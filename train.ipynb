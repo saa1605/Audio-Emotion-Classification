{
 "cells": [
  {
   "cell_type": "markdown",
   "metadata": {},
   "source": [
    "sr = None specifies that librosa should use the native sampling rate of 44.1KHz to load the audio data. Next, the first 5 seconds of the given audio is extracted. 2048 samples are chosen for each window which is approximately 46ms and a hop_length of 512 samples is chosen which means the window is moved by skipping 512 samples to get the next time frame. The number of mel filters is 128 which makes the height of spectrogram image 128. fmin and fmax are the lowest and highest frequencies respectively. [https://medium.com/@hasithsura/audio-classification-d37a82d6715]"
   ]
  },
  {
   "cell_type": "markdown",
   "metadata": {},
   "source": [
    "Load the .csv file we created during preprocessing step and reset its index"
   ]
  },
  {
   "cell_type": "code",
   "execution_count": 191,
   "metadata": {},
   "outputs": [
    {
     "data": {
      "text/html": [
       "<div>\n",
       "<style scoped>\n",
       "    .dataframe tbody tr th:only-of-type {\n",
       "        vertical-align: middle;\n",
       "    }\n",
       "\n",
       "    .dataframe tbody tr th {\n",
       "        vertical-align: top;\n",
       "    }\n",
       "\n",
       "    .dataframe thead th {\n",
       "        text-align: right;\n",
       "    }\n",
       "</style>\n",
       "<table border=\"1\" class=\"dataframe\">\n",
       "  <thead>\n",
       "    <tr style=\"text-align: right;\">\n",
       "      <th></th>\n",
       "      <th>index</th>\n",
       "      <th>start_time</th>\n",
       "      <th>end_time</th>\n",
       "      <th>wav_file</th>\n",
       "      <th>emotion</th>\n",
       "      <th>val</th>\n",
       "      <th>act</th>\n",
       "      <th>dom</th>\n",
       "    </tr>\n",
       "  </thead>\n",
       "  <tbody>\n",
       "    <tr>\n",
       "      <th>0</th>\n",
       "      <td>0</td>\n",
       "      <td>6.2901</td>\n",
       "      <td>8.2357</td>\n",
       "      <td>Ses01F_impro01_F000</td>\n",
       "      <td>neu</td>\n",
       "      <td>2.5</td>\n",
       "      <td>2.5</td>\n",
       "      <td>2.5</td>\n",
       "    </tr>\n",
       "    <tr>\n",
       "      <th>1</th>\n",
       "      <td>1</td>\n",
       "      <td>10.0100</td>\n",
       "      <td>11.3925</td>\n",
       "      <td>Ses01F_impro01_F001</td>\n",
       "      <td>neu</td>\n",
       "      <td>2.5</td>\n",
       "      <td>2.5</td>\n",
       "      <td>2.5</td>\n",
       "    </tr>\n",
       "    <tr>\n",
       "      <th>2</th>\n",
       "      <td>2</td>\n",
       "      <td>14.8872</td>\n",
       "      <td>18.0175</td>\n",
       "      <td>Ses01F_impro01_F002</td>\n",
       "      <td>neu</td>\n",
       "      <td>2.5</td>\n",
       "      <td>2.5</td>\n",
       "      <td>2.5</td>\n",
       "    </tr>\n",
       "    <tr>\n",
       "      <th>3</th>\n",
       "      <td>3</td>\n",
       "      <td>27.4600</td>\n",
       "      <td>31.4900</td>\n",
       "      <td>Ses01F_impro01_F005</td>\n",
       "      <td>neu</td>\n",
       "      <td>2.5</td>\n",
       "      <td>3.5</td>\n",
       "      <td>2.0</td>\n",
       "    </tr>\n",
       "    <tr>\n",
       "      <th>4</th>\n",
       "      <td>4</td>\n",
       "      <td>85.2700</td>\n",
       "      <td>88.0200</td>\n",
       "      <td>Ses01F_impro01_F012</td>\n",
       "      <td>ang</td>\n",
       "      <td>2.0</td>\n",
       "      <td>3.5</td>\n",
       "      <td>3.5</td>\n",
       "    </tr>\n",
       "  </tbody>\n",
       "</table>\n",
       "</div>"
      ],
      "text/plain": [
       "   index  start_time  end_time             wav_file emotion  val  act  dom\n",
       "0      0      6.2901    8.2357  Ses01F_impro01_F000     neu  2.5  2.5  2.5\n",
       "1      1     10.0100   11.3925  Ses01F_impro01_F001     neu  2.5  2.5  2.5\n",
       "2      2     14.8872   18.0175  Ses01F_impro01_F002     neu  2.5  2.5  2.5\n",
       "3      3     27.4600   31.4900  Ses01F_impro01_F005     neu  2.5  3.5  2.0\n",
       "4      4     85.2700   88.0200  Ses01F_impro01_F012     ang  2.0  3.5  3.5"
      ]
     },
     "execution_count": 191,
     "metadata": {},
     "output_type": "execute_result"
    }
   ],
   "source": [
    "import pandas as pd\n",
    "audio_impro_processed = pd.read_csv('audio_df_improvised.csv')\n",
    "\n",
    "audio_impro_processed.reset_index(inplace=True)\n",
    "audio_impro_processed.head()"
   ]
  },
  {
   "cell_type": "markdown",
   "metadata": {},
   "source": [
    "Next we compute the median duration of the audio samples "
   ]
  },
  {
   "cell_type": "code",
   "execution_count": 193,
   "metadata": {},
   "outputs": [
    {
     "data": {
      "text/plain": [
       "4.0"
      ]
     },
     "execution_count": 193,
     "metadata": {},
     "output_type": "execute_result"
    }
   ],
   "source": [
    "import numpy as np\n",
    "start_time = np.median( audio_impro_processed['start_time'] )\n",
    "end_time = np.median( audio_impro_processed['end_time'] )\n",
    "med_duration = end_time-start_time\n",
    "np.floor(med_duration)"
   ]
  },
  {
   "cell_type": "markdown",
   "metadata": {},
   "source": [
    "sr = None specifies that librosa should use the native sampling rate of 44.1KHz to load the audio data. Next, the first \"med_duration\" seconds of the given audio is extracted. If audio is smaller than that it is padded reflectively to make sure there is no added information. 2048 samples are chosen for each window which is approximately 46ms and a hop_length of 512 samples is chosen which means the window is moved by skipping 512 samples to get the next time frame. The number of mel filters is 128 which makes the height of spectrogram image 128. fmin and fmax are the lowest and highest frequencies respectively. [https://medium.com/@hasithsura/audio-classification-d37a82d6715]."
   ]
  },
  {
   "cell_type": "code",
   "execution_count": 194,
   "metadata": {},
   "outputs": [],
   "source": [
    "import numpy as np\n",
    "import librosa\n",
    "def get_melspectrogram_db(file_path, med_duration ,sr=None, n_fft=2048, hop_length=512, n_mels=128, fmin=100, fmax=15000, top_db=80):\n",
    "    med_duration = int(np.floor(med_duration))\n",
    "    wav,sr = librosa.load(file_path,sr=sr)\n",
    "    if wav.shape[0]<(med_duration*sr):\n",
    "        wav=np.pad(wav,int(np.ceil(((med_duration*sr)-wav.shape[0])/2)),mode='reflect')\n",
    "    else:\n",
    "        wav=wav[:(med_duration*sr)]\n",
    "    spec=librosa.feature.melspectrogram(wav, sr=sr, n_fft=n_fft,\n",
    "              hop_length=hop_length,n_mels=n_mels,fmin=fmin,fmax=fmax)\n",
    "    spec_db=librosa.power_to_db(spec,top_db=top_db)\n",
    "    return spec_db"
   ]
  },
  {
   "cell_type": "markdown",
   "metadata": {},
   "source": [
    "The Spectrogram data is converted into images"
   ]
  },
  {
   "cell_type": "code",
   "execution_count": 195,
   "metadata": {},
   "outputs": [],
   "source": [
    "def spec_to_image(spec, eps=1e-6):\n",
    "    mean = spec.mean()\n",
    "    std = spec.std()\n",
    "    spec_norm = (spec - mean) / (std + eps)\n",
    "    spec_min, spec_max = spec_norm.min(), spec_norm.max()\n",
    "    spec_scaled = 255 * (spec_norm - spec_min) / (spec_max - spec_min)\n",
    "    spec_scaled = spec_scaled.astype(np.uint8)\n",
    "    return spec_scaled"
   ]
  },
  {
   "cell_type": "code",
   "execution_count": 196,
   "metadata": {},
   "outputs": [
    {
     "name": "stderr",
     "output_type": "stream",
     "text": [
      "/anaconda/envs/py35/lib/python3.5/site-packages/librosa/filters.py:222: UserWarning: Empty filters detected in mel frequency basis. Some channels will produce empty responses. Try increasing your sampling rate (and fmax) or reducing n_mels.\n",
      "  warnings.warn('Empty filters detected in mel frequency basis. '\n"
     ]
    },
    {
     "data": {
      "text/plain": [
       "<matplotlib.image.AxesImage at 0x7f7883f93c50>"
      ]
     },
     "execution_count": 196,
     "metadata": {},
     "output_type": "execute_result"
    },
    {
     "data": {
      "image/png": "[encoded data removed]",
      "text/plain": [
       "<Figure size 432x288 with 1 Axes>"
      ]
     },
     "metadata": {
      "needs_background": "light"
     },
     "output_type": "display_data"
    }
   ],
   "source": [
    "# Visualization of spectrograms. Adjust the index value to see spectrogram corresponding to various files.\n",
    "\n",
    "import matplotlib.pyplot as plt\n",
    "index = 0\n",
    "\n",
    "file = \"/data/home/advaitmb/datasets/sentences/{}.wav\".format(audio_impro_processed['wav_file'][index])\n",
    "label = audio_impro_processed['emotion'][index]\n",
    "\n",
    "plt.title(label)\n",
    "plt.imshow(spec_to_image(get_melspectrogram_db(file, 5)))"
   ]
  },
  {
   "cell_type": "code",
   "execution_count": 197,
   "metadata": {},
   "outputs": [],
   "source": [
    "# We split the dataframe into train and test segments\n",
    "\n",
    "from sklearn.model_selection import train_test_split\n",
    "\n",
    "train, valid = train_test_split(audio_impro_processed, test_size=0.2)"
   ]
  },
  {
   "cell_type": "code",
   "execution_count": 221,
   "metadata": {},
   "outputs": [
    {
     "data": {
      "text/plain": [
       "4.0"
      ]
     },
     "execution_count": 221,
     "metadata": {},
     "output_type": "execute_result"
    }
   ],
   "source": [
    "import numpy as np\n",
    "start_time = np.median( train['start_time'] )\n",
    "end_time = np.median( train['end_time'] )\n",
    "med_duration = end_time-start_time\n",
    "np.floor(med_duration)"
   ]
  },
  {
   "cell_type": "code",
   "execution_count": 222,
   "metadata": {},
   "outputs": [],
   "source": [
    "import numpy as np\n",
    "import pandas as pd\n",
    "from torch.utils.data import Dataset, DataLoader\n",
    "from tqdm import tqdm\n",
    "import os\n",
    "\n",
    "class IEMOCAP(Dataset):\n",
    "    def __init__(self, base, df, in_col, out_col):\n",
    "        self.df = df\n",
    "        self.data = []\n",
    "        self.labels = []\n",
    "        self.c2i={}\n",
    "        self.i2c={}\n",
    "        self.categories = sorted(df[out_col].unique())\n",
    "        print(self.categories)\n",
    "        for i, category in enumerate(self.categories):\n",
    "            self.c2i[category]=i\n",
    "            self.i2c[i]=category\n",
    "        for ind in tqdm(range(len(df))):\n",
    "            row = df.iloc[ind]\n",
    "            \n",
    "            #If all files are stored in a folder named sentences\n",
    "            file_path = base + '/' + row[in_col] + '.wav'\n",
    "            \n",
    "            \n",
    "            self.data.append(spec_to_image(get_melspectrogram_db(file_path, med_duration))[np.newaxis,...])\n",
    "            self.labels.append(self.c2i[row['emotion']])\n",
    "    def __len__(self):\n",
    "        return len(self.data)\n",
    "    def __getitem__(self, idx):\n",
    "        return self.data[idx], self.labels[idx]\n",
    "\n"
   ]
  },
  {
   "cell_type": "code",
   "execution_count": 223,
   "metadata": {},
   "outputs": [
    {
     "name": "stderr",
     "output_type": "stream",
     "text": [
      "\n",
      "  0%|          | 0/2354 [00:00<?, ?it/s]\u001b[A/anaconda/envs/py35/lib/python3.5/site-packages/librosa/filters.py:222: UserWarning: Empty filters detected in mel frequency basis. Some channels will produce empty responses. Try increasing your sampling rate (and fmax) or reducing n_mels.\n",
      "  warnings.warn('Empty filters detected in mel frequency basis. '\n",
      "\n",
      "  0%|          | 11/2354 [00:00<00:21, 107.93it/s]\u001b[A"
     ]
    },
    {
     "name": "stdout",
     "output_type": "stream",
     "text": [
      "['ang', 'hap', 'neu', 'sad']\n"
     ]
    },
    {
     "name": "stderr",
     "output_type": "stream",
     "text": [
      "\n",
      "  1%|          | 20/2354 [00:00<00:23, 100.69it/s]\u001b[A\n",
      "  1%|          | 29/2354 [00:00<00:24, 94.80it/s] \u001b[A\n",
      "  2%|▏         | 41/2354 [00:00<00:23, 99.51it/s]\u001b[A\n",
      "  2%|▏         | 54/2354 [00:00<00:21, 105.10it/s]\u001b[A\n",
      "  3%|▎         | 65/2354 [00:00<00:21, 106.34it/s]\u001b[A\n",
      "  3%|▎         | 78/2354 [00:00<00:20, 110.47it/s]\u001b[A\n",
      "  4%|▍         | 91/2354 [00:00<00:19, 113.85it/s]\u001b[A\n",
      "  4%|▍         | 104/2354 [00:00<00:19, 115.96it/s]\u001b[A\n",
      "  5%|▍         | 116/2354 [00:01<00:19, 116.98it/s]\u001b[A\n",
      "  5%|▌         | 129/2354 [00:01<00:18, 118.53it/s]\u001b[A\n",
      "  6%|▌         | 142/2354 [00:01<00:18, 119.58it/s]\u001b[A\n",
      "  7%|▋         | 155/2354 [00:01<00:18, 120.50it/s]\u001b[A\n",
      "  7%|▋         | 168/2354 [00:01<00:18, 120.62it/s]\u001b[A\n",
      "  8%|▊         | 181/2354 [00:01<00:17, 121.32it/s]\u001b[A\n",
      "  8%|▊         | 194/2354 [00:01<00:17, 121.40it/s]\u001b[A\n",
      "  9%|▉         | 207/2354 [00:01<00:17, 120.82it/s]\u001b[A\n",
      "  9%|▉         | 220/2354 [00:01<00:17, 120.46it/s]\u001b[A\n",
      " 10%|▉         | 233/2354 [00:02<00:17, 120.52it/s]\u001b[A\n",
      " 10%|█         | 246/2354 [00:02<00:17, 120.52it/s]\u001b[A\n",
      " 11%|█         | 259/2354 [00:02<00:17, 121.00it/s]\u001b[A\n",
      " 12%|█▏        | 272/2354 [00:02<00:17, 119.82it/s]\u001b[A\n",
      " 12%|█▏        | 284/2354 [00:02<00:17, 118.31it/s]\u001b[A\n",
      " 13%|█▎        | 296/2354 [00:02<00:17, 118.40it/s]\u001b[A\n",
      " 13%|█▎        | 309/2354 [00:02<00:17, 119.72it/s]\u001b[A\n",
      " 14%|█▎        | 322/2354 [00:02<00:16, 120.73it/s]\u001b[A\n",
      " 14%|█▍        | 335/2354 [00:02<00:16, 120.33it/s]\u001b[A\n",
      " 15%|█▍        | 348/2354 [00:02<00:17, 114.84it/s]\u001b[A\n",
      " 15%|█▌        | 360/2354 [00:03<00:17, 115.87it/s]\u001b[A\n",
      " 16%|█▌        | 373/2354 [00:03<00:16, 117.72it/s]\u001b[A\n",
      " 16%|█▋        | 386/2354 [00:03<00:16, 119.12it/s]\u001b[A\n",
      " 17%|█▋        | 399/2354 [00:03<00:16, 120.32it/s]\u001b[A\n",
      " 18%|█▊        | 412/2354 [00:03<00:16, 120.24it/s]\u001b[A\n",
      " 18%|█▊        | 425/2354 [00:03<00:15, 121.01it/s]\u001b[A\n",
      " 19%|█▊        | 438/2354 [00:03<00:15, 121.71it/s]\u001b[A\n",
      " 19%|█▉        | 451/2354 [00:03<00:15, 122.12it/s]\u001b[A\n",
      " 20%|█▉        | 464/2354 [00:03<00:15, 122.42it/s]\u001b[A\n",
      " 20%|██        | 477/2354 [00:04<00:15, 122.21it/s]\u001b[A\n",
      " 21%|██        | 490/2354 [00:04<00:15, 122.19it/s]\u001b[A\n",
      " 21%|██▏       | 503/2354 [00:04<00:15, 122.49it/s]\u001b[A\n",
      " 22%|██▏       | 516/2354 [00:04<00:14, 122.82it/s]\u001b[A\n",
      " 22%|██▏       | 529/2354 [00:04<00:14, 123.05it/s]\u001b[A\n",
      " 23%|██▎       | 542/2354 [00:04<00:14, 122.69it/s]\u001b[A\n",
      " 24%|██▎       | 555/2354 [00:04<00:14, 122.84it/s]\u001b[A\n",
      " 24%|██▍       | 568/2354 [00:04<00:14, 122.80it/s]\u001b[A\n",
      " 25%|██▍       | 581/2354 [00:04<00:14, 122.90it/s]\u001b[A\n",
      " 25%|██▌       | 594/2354 [00:04<00:14, 122.57it/s]\u001b[A\n",
      " 26%|██▌       | 607/2354 [00:05<00:14, 122.63it/s]\u001b[A\n",
      " 26%|██▋       | 620/2354 [00:05<00:14, 122.77it/s]\u001b[A\n",
      " 27%|██▋       | 633/2354 [00:05<00:13, 123.15it/s]\u001b[A\n",
      " 27%|██▋       | 646/2354 [00:05<00:13, 123.53it/s]\u001b[A\n",
      " 28%|██▊       | 659/2354 [00:05<00:13, 123.43it/s]\u001b[A\n",
      " 29%|██▊       | 672/2354 [00:05<00:13, 123.77it/s]\u001b[A\n",
      " 29%|██▉       | 685/2354 [00:05<00:13, 123.85it/s]\u001b[A\n",
      " 30%|██▉       | 698/2354 [00:05<00:13, 123.90it/s]\u001b[A\n",
      " 30%|███       | 711/2354 [00:05<00:13, 124.21it/s]\u001b[A\n",
      " 31%|███       | 724/2354 [00:06<00:13, 123.16it/s]\u001b[A\n",
      " 31%|███▏      | 737/2354 [00:06<00:13, 122.37it/s]\u001b[A\n",
      " 32%|███▏      | 750/2354 [00:06<00:13, 123.00it/s]\u001b[A\n",
      " 32%|███▏      | 763/2354 [00:06<00:12, 123.56it/s]\u001b[A\n",
      " 33%|███▎      | 776/2354 [00:06<00:12, 123.86it/s]\u001b[A\n",
      " 34%|███▎      | 789/2354 [00:06<00:12, 121.29it/s]\u001b[A\n",
      " 34%|███▍      | 802/2354 [00:06<00:12, 121.79it/s]\u001b[A\n",
      " 35%|███▍      | 815/2354 [00:06<00:12, 121.49it/s]\u001b[A\n",
      " 35%|███▌      | 828/2354 [00:06<00:12, 122.30it/s]\u001b[A\n",
      " 36%|███▌      | 841/2354 [00:07<00:12, 122.51it/s]\u001b[A\n",
      " 36%|███▋      | 854/2354 [00:07<00:12, 123.02it/s]\u001b[A\n",
      " 37%|███▋      | 867/2354 [00:07<00:12, 123.01it/s]\u001b[A\n",
      " 37%|███▋      | 880/2354 [00:07<00:11, 123.48it/s]\u001b[A\n",
      " 38%|███▊      | 893/2354 [00:07<00:11, 123.18it/s]\u001b[A\n",
      " 38%|███▊      | 906/2354 [00:07<00:11, 123.10it/s]\u001b[A\n",
      " 39%|███▉      | 919/2354 [00:07<00:11, 123.22it/s]\u001b[A\n",
      " 40%|███▉      | 932/2354 [00:07<00:11, 123.33it/s]\u001b[A\n",
      " 40%|████      | 945/2354 [00:07<00:11, 120.22it/s]\u001b[A\n",
      " 41%|████      | 958/2354 [00:07<00:11, 118.82it/s]\u001b[A\n",
      " 41%|████      | 971/2354 [00:08<00:11, 119.59it/s]\u001b[A\n",
      " 42%|████▏     | 984/2354 [00:08<00:11, 120.50it/s]\u001b[A\n",
      " 42%|████▏     | 997/2354 [00:08<00:11, 121.21it/s]\u001b[A\n",
      " 43%|████▎     | 1010/2354 [00:08<00:11, 121.53it/s]\u001b[A\n",
      " 43%|████▎     | 1023/2354 [00:08<00:10, 122.03it/s]\u001b[A\n",
      " 44%|████▍     | 1036/2354 [00:08<00:10, 122.26it/s]\u001b[A\n",
      " 45%|████▍     | 1049/2354 [00:08<00:10, 122.43it/s]\u001b[A\n",
      " 45%|████▌     | 1062/2354 [00:08<00:10, 122.56it/s]\u001b[A\n",
      " 46%|████▌     | 1075/2354 [00:08<00:10, 122.31it/s]\u001b[A\n",
      " 46%|████▌     | 1088/2354 [00:09<00:10, 121.94it/s]\u001b[A\n",
      " 47%|████▋     | 1101/2354 [00:09<00:10, 121.73it/s]\u001b[A\n",
      " 47%|████▋     | 1114/2354 [00:09<00:10, 116.03it/s]\u001b[A\n",
      " 48%|████▊     | 1126/2354 [00:09<00:10, 116.96it/s]\u001b[A\n",
      " 48%|████▊     | 1139/2354 [00:09<00:10, 118.46it/s]\u001b[A\n",
      " 49%|████▉     | 1151/2354 [00:09<00:10, 116.84it/s]\u001b[A\n",
      " 49%|████▉     | 1164/2354 [00:09<00:10, 118.32it/s]\u001b[A\n",
      " 50%|█████     | 1177/2354 [00:09<00:09, 119.67it/s]\u001b[A\n",
      " 51%|█████     | 1190/2354 [00:09<00:09, 120.81it/s]\u001b[A\n",
      " 51%|█████     | 1203/2354 [00:10<00:09, 121.31it/s]\u001b[A\n",
      " 52%|█████▏    | 1216/2354 [00:10<00:09, 121.53it/s]\u001b[A\n",
      " 52%|█████▏    | 1229/2354 [00:10<00:09, 118.62it/s]\u001b[A\n",
      " 53%|█████▎    | 1242/2354 [00:10<00:09, 120.53it/s]\u001b[A\n",
      " 53%|█████▎    | 1255/2354 [00:10<00:09, 110.28it/s]\u001b[A\n",
      " 54%|█████▍    | 1267/2354 [00:10<00:09, 111.21it/s]\u001b[A\n",
      " 54%|█████▍    | 1279/2354 [00:10<00:09, 113.16it/s]\u001b[A\n",
      " 55%|█████▍    | 1292/2354 [00:10<00:09, 116.19it/s]\u001b[A\n",
      " 55%|█████▌    | 1305/2354 [00:10<00:08, 118.53it/s]\u001b[A\n",
      " 56%|█████▌    | 1318/2354 [00:10<00:08, 120.47it/s]\u001b[A\n",
      " 57%|█████▋    | 1331/2354 [00:11<00:08, 120.41it/s]\u001b[A\n",
      " 57%|█████▋    | 1344/2354 [00:11<00:08, 121.55it/s]\u001b[A\n",
      " 58%|█████▊    | 1357/2354 [00:11<00:08, 122.60it/s]\u001b[A\n",
      " 58%|█████▊    | 1370/2354 [00:11<00:08, 121.24it/s]\u001b[A\n",
      " 59%|█████▉    | 1383/2354 [00:11<00:07, 122.20it/s]\u001b[A\n",
      " 59%|█████▉    | 1396/2354 [00:11<00:07, 121.69it/s]\u001b[A\n",
      " 60%|█████▉    | 1409/2354 [00:11<00:07, 122.49it/s]\u001b[A\n",
      " 60%|██████    | 1422/2354 [00:11<00:07, 122.98it/s]\u001b[A\n",
      " 61%|██████    | 1435/2354 [00:11<00:07, 123.48it/s]\u001b[A\n",
      " 62%|██████▏   | 1448/2354 [00:12<00:07, 123.81it/s]\u001b[A\n",
      " 62%|██████▏   | 1461/2354 [00:12<00:07, 123.62it/s]\u001b[A\n",
      " 63%|██████▎   | 1474/2354 [00:12<00:07, 124.06it/s]\u001b[A\n",
      " 63%|██████▎   | 1487/2354 [00:12<00:07, 122.19it/s]\u001b[A\n",
      " 64%|██████▎   | 1500/2354 [00:12<00:06, 122.86it/s]\u001b[A\n",
      " 64%|██████▍   | 1513/2354 [00:12<00:06, 122.98it/s]\u001b[A\n",
      " 65%|██████▍   | 1526/2354 [00:12<00:06, 122.89it/s]\u001b[A\n",
      " 65%|██████▌   | 1539/2354 [00:12<00:06, 122.69it/s]\u001b[A\n",
      " 66%|██████▌   | 1552/2354 [00:12<00:06, 120.57it/s]\u001b[A\n",
      " 66%|██████▋   | 1565/2354 [00:13<00:06, 119.09it/s]\u001b[A\n",
      " 67%|██████▋   | 1578/2354 [00:13<00:06, 120.02it/s]\u001b[A\n",
      " 68%|██████▊   | 1591/2354 [00:13<00:06, 121.17it/s]\u001b[A\n",
      " 68%|██████▊   | 1604/2354 [00:13<00:06, 122.21it/s]\u001b[A\n",
      " 69%|██████▊   | 1617/2354 [00:13<00:05, 123.00it/s]\u001b[A\n",
      " 69%|██████▉   | 1630/2354 [00:13<00:05, 123.60it/s]\u001b[A\n",
      " 70%|██████▉   | 1643/2354 [00:13<00:05, 123.91it/s]\u001b[A\n",
      " 70%|███████   | 1656/2354 [00:13<00:05, 124.24it/s]\u001b[A\n",
      " 71%|███████   | 1669/2354 [00:13<00:05, 123.19it/s]\u001b[A\n",
      " 71%|███████▏  | 1682/2354 [00:13<00:05, 123.44it/s]\u001b[A\n",
      " 72%|███████▏  | 1695/2354 [00:14<00:05, 123.88it/s]\u001b[A\n",
      " 73%|███████▎  | 1708/2354 [00:14<00:05, 123.43it/s]\u001b[A\n",
      " 73%|███████▎  | 1721/2354 [00:14<00:05, 123.96it/s]\u001b[A\n",
      " 74%|███████▎  | 1734/2354 [00:14<00:04, 124.33it/s]\u001b[A\n",
      " 74%|███████▍  | 1747/2354 [00:14<00:04, 124.61it/s]\u001b[A\n",
      " 75%|███████▍  | 1760/2354 [00:14<00:04, 124.85it/s]\u001b[A\n",
      " 75%|███████▌  | 1773/2354 [00:14<00:04, 124.59it/s]\u001b[A\n",
      " 76%|███████▌  | 1786/2354 [00:14<00:04, 124.53it/s]\u001b[A\n",
      " 76%|███████▋  | 1799/2354 [00:14<00:04, 124.70it/s]\u001b[A\n",
      " 77%|███████▋  | 1812/2354 [00:15<00:04, 124.74it/s]\u001b[A\n",
      " 78%|███████▊  | 1825/2354 [00:15<00:04, 124.90it/s]\u001b[A\n",
      " 78%|███████▊  | 1838/2354 [00:15<00:04, 124.10it/s]\u001b[A\n",
      " 79%|███████▊  | 1851/2354 [00:15<00:04, 123.95it/s]\u001b[A\n",
      " 79%|███████▉  | 1864/2354 [00:15<00:03, 122.53it/s]\u001b[A\n",
      " 80%|███████▉  | 1877/2354 [00:15<00:03, 121.03it/s]\u001b[A\n",
      " 80%|████████  | 1890/2354 [00:15<00:03, 121.14it/s]\u001b[A\n",
      " 81%|████████  | 1903/2354 [00:15<00:03, 121.66it/s]\u001b[A\n"
     ]
    },
    {
     "name": "stderr",
     "output_type": "stream",
     "text": [
      " 81%|████████▏ | 1916/2354 [00:15<00:03, 121.04it/s]\u001b[A\n",
      " 82%|████████▏ | 1929/2354 [00:15<00:03, 121.37it/s]\u001b[A\n",
      " 82%|████████▏ | 1942/2354 [00:16<00:03, 121.87it/s]\u001b[A\n",
      " 83%|████████▎ | 1955/2354 [00:16<00:03, 119.52it/s]\u001b[A\n",
      " 84%|████████▎ | 1968/2354 [00:16<00:03, 120.09it/s]\u001b[A\n",
      " 84%|████████▍ | 1981/2354 [00:16<00:03, 120.66it/s]\u001b[A\n",
      " 85%|████████▍ | 1994/2354 [00:16<00:02, 121.09it/s]\u001b[A\n",
      " 85%|████████▌ | 2007/2354 [00:16<00:02, 118.37it/s]\u001b[A\n",
      " 86%|████████▌ | 2019/2354 [00:16<00:02, 118.78it/s]\u001b[A\n",
      " 86%|████████▋ | 2031/2354 [00:16<00:02, 118.56it/s]\u001b[A\n",
      " 87%|████████▋ | 2044/2354 [00:16<00:02, 119.40it/s]\u001b[A\n",
      " 87%|████████▋ | 2057/2354 [00:17<00:02, 119.99it/s]\u001b[A\n",
      " 88%|████████▊ | 2070/2354 [00:17<00:02, 120.44it/s]\u001b[A\n",
      " 88%|████████▊ | 2083/2354 [00:17<00:02, 121.16it/s]\u001b[A\n",
      " 89%|████████▉ | 2096/2354 [00:17<00:02, 121.82it/s]\u001b[A\n",
      " 90%|████████▉ | 2109/2354 [00:17<00:01, 122.57it/s]\u001b[A\n",
      " 90%|█████████ | 2122/2354 [00:17<00:01, 122.51it/s]\u001b[A\n",
      " 91%|█████████ | 2135/2354 [00:17<00:01, 122.13it/s]\u001b[A\n",
      " 91%|█████████ | 2148/2354 [00:17<00:01, 120.00it/s]\u001b[A\n",
      " 92%|█████████▏| 2161/2354 [00:17<00:01, 116.54it/s]\u001b[A\n",
      " 92%|█████████▏| 2174/2354 [00:18<00:01, 118.50it/s]\u001b[A\n",
      " 93%|█████████▎| 2187/2354 [00:18<00:01, 120.18it/s]\u001b[A\n",
      " 93%|█████████▎| 2200/2354 [00:18<00:01, 120.76it/s]\u001b[A\n",
      " 94%|█████████▍| 2213/2354 [00:18<00:01, 121.12it/s]\u001b[A\n",
      " 95%|█████████▍| 2226/2354 [00:18<00:01, 121.75it/s]\u001b[A\n",
      " 95%|█████████▌| 2239/2354 [00:18<00:00, 121.61it/s]\u001b[A\n",
      " 96%|█████████▌| 2252/2354 [00:18<00:00, 121.74it/s]\u001b[A\n",
      " 96%|█████████▌| 2265/2354 [00:18<00:00, 122.38it/s]\u001b[A\n",
      " 97%|█████████▋| 2278/2354 [00:18<00:00, 122.02it/s]\u001b[A\n",
      " 97%|█████████▋| 2291/2354 [00:18<00:00, 122.38it/s]\u001b[A\n",
      " 98%|█████████▊| 2304/2354 [00:19<00:00, 120.93it/s]\u001b[A\n",
      " 98%|█████████▊| 2317/2354 [00:19<00:00, 120.40it/s]\u001b[A\n",
      " 99%|█████████▉| 2330/2354 [00:19<00:00, 120.70it/s]\u001b[A\n",
      "100%|██████████| 2354/2354 [00:19<00:00, 120.82it/s]\u001b[A\n",
      "\n",
      "  0%|          | 0/589 [00:00<?, ?it/s]\u001b[A\n",
      "  2%|▏         | 13/589 [00:00<00:04, 122.29it/s]\u001b[A"
     ]
    },
    {
     "name": "stdout",
     "output_type": "stream",
     "text": [
      "['ang', 'hap', 'neu', 'sad']\n"
     ]
    },
    {
     "name": "stderr",
     "output_type": "stream",
     "text": [
      "\n",
      "  4%|▍         | 25/589 [00:00<00:04, 119.22it/s]\u001b[A\n",
      "  6%|▋         | 38/589 [00:00<00:04, 119.76it/s]\u001b[A\n",
      "  9%|▊         | 51/589 [00:00<00:04, 120.71it/s]\u001b[A\n",
      " 11%|█         | 64/589 [00:00<00:04, 121.73it/s]\u001b[A\n",
      " 13%|█▎        | 77/589 [00:00<00:04, 121.83it/s]\u001b[A\n",
      " 15%|█▌        | 90/589 [00:00<00:04, 122.06it/s]\u001b[A\n",
      " 17%|█▋        | 103/589 [00:00<00:03, 122.36it/s]\u001b[A\n",
      " 20%|█▉        | 116/589 [00:00<00:03, 122.43it/s]\u001b[A\n",
      " 22%|██▏       | 129/589 [00:01<00:03, 120.29it/s]\u001b[A\n",
      " 24%|██▍       | 141/589 [00:01<00:04, 103.99it/s]\u001b[A\n",
      " 26%|██▌       | 152/589 [00:01<00:04, 100.65it/s]\u001b[A\n",
      " 28%|██▊       | 165/589 [00:01<00:03, 106.11it/s]\u001b[A\n",
      " 30%|███       | 178/589 [00:01<00:03, 110.46it/s]\u001b[A\n",
      " 32%|███▏      | 190/589 [00:01<00:03, 112.82it/s]\u001b[A\n",
      " 34%|███▍      | 202/589 [00:01<00:03, 114.65it/s]\u001b[A\n",
      " 36%|███▋      | 214/589 [00:01<00:03, 115.89it/s]\u001b[A\n",
      " 39%|███▊      | 227/589 [00:01<00:03, 117.51it/s]\u001b[A\n",
      " 41%|████      | 239/589 [00:02<00:02, 117.73it/s]\u001b[A\n",
      " 43%|████▎     | 251/589 [00:02<00:02, 116.25it/s]\u001b[A\n",
      " 45%|████▍     | 263/589 [00:02<00:02, 116.67it/s]\u001b[A\n",
      " 47%|████▋     | 275/589 [00:02<00:02, 117.12it/s]\u001b[A\n",
      " 49%|████▉     | 288/589 [00:02<00:02, 118.41it/s]\u001b[A\n",
      " 51%|█████     | 301/589 [00:02<00:02, 119.40it/s]\u001b[A\n",
      " 53%|█████▎    | 313/589 [00:02<00:02, 118.95it/s]\u001b[A\n",
      " 55%|█████▌    | 326/589 [00:02<00:02, 119.98it/s]\u001b[A\n",
      " 58%|█████▊    | 339/589 [00:02<00:02, 120.93it/s]\u001b[A\n",
      " 60%|█████▉    | 352/589 [00:03<00:01, 119.25it/s]\u001b[A\n",
      " 62%|██████▏   | 365/589 [00:03<00:01, 119.98it/s]\u001b[A\n",
      " 64%|██████▍   | 378/589 [00:03<00:01, 119.83it/s]\u001b[A\n",
      " 66%|██████▌   | 390/589 [00:03<00:01, 116.48it/s]\u001b[A\n",
      " 68%|██████▊   | 403/589 [00:03<00:01, 117.74it/s]\u001b[A\n",
      " 70%|███████   | 415/589 [00:03<00:01, 117.36it/s]\u001b[A\n",
      " 72%|███████▏  | 427/589 [00:03<00:01, 117.78it/s]\u001b[A\n",
      " 75%|███████▍  | 440/589 [00:03<00:01, 118.84it/s]\u001b[A\n",
      " 77%|███████▋  | 453/589 [00:03<00:01, 119.36it/s]\u001b[A\n",
      " 79%|███████▉  | 466/589 [00:03<00:01, 120.27it/s]\u001b[A\n",
      " 81%|████████▏ | 479/589 [00:04<00:00, 120.95it/s]\u001b[A\n",
      " 84%|████████▎ | 492/589 [00:04<00:00, 120.10it/s]\u001b[A\n",
      " 86%|████████▌ | 505/589 [00:04<00:00, 119.81it/s]\u001b[A\n",
      " 88%|████████▊ | 518/589 [00:04<00:00, 120.28it/s]\u001b[A\n",
      " 90%|█████████ | 531/589 [00:04<00:00, 120.88it/s]\u001b[A\n",
      " 92%|█████████▏| 544/589 [00:04<00:00, 121.09it/s]\u001b[A\n",
      " 95%|█████████▍| 557/589 [00:04<00:00, 120.62it/s]\u001b[A\n",
      " 97%|█████████▋| 570/589 [00:04<00:00, 119.88it/s]\u001b[A\n",
      "100%|██████████| 589/589 [00:04<00:00, 118.03it/s]\u001b[A\n"
     ]
    }
   ],
   "source": [
    "train_data = IEMOCAP('/data/home/advaitmb/datasets/sentences', train, 'wav_file', 'emotion')\n",
    "valid_data = IEMOCAP('/data/home/advaitmb/datasets/sentences', valid, 'wav_file', 'emotion')\n",
    "train_loader = DataLoader(train_data, batch_size=32, shuffle=True)\n",
    "valid_loader = DataLoader(valid_data, batch_size=32, shuffle=True)"
   ]
  },
  {
   "cell_type": "code",
   "execution_count": 133,
   "metadata": {},
   "outputs": [],
   "source": [
    "import time\n",
    "ts = time.gmtime()\n",
    "stamp = time.strftime(\"%Y-%m-%d %H:%M:%S\", ts)\n",
    "stamp[:10]\n",
    "\n",
    "import torch\n",
    "torch.save(train_loader, 'train_loader_{}_medduration.pth'.format(stamp))\n",
    "torch.save(valid_loader, 'valid_loader_{}_medduration.pth'.format(stamp))"
   ]
  },
  {
   "cell_type": "code",
   "execution_count": 224,
   "metadata": {},
   "outputs": [
    {
     "name": "stdout",
     "output_type": "stream",
     "text": [
      "Net(\n",
      "  (conv1): Conv2d(1, 32, kernel_size=(5, 5), stride=(2, 2), padding=(1, 1))\n",
      "  (bn1): BatchNorm2d(32, eps=1e-05, momentum=0.1, affine=True, track_running_stats=True)\n",
      "  (conv2): Conv2d(32, 64, kernel_size=(5, 5), stride=(2, 2), padding=(1, 1))\n",
      "  (bn2): BatchNorm2d(64, eps=1e-05, momentum=0.1, affine=True, track_running_stats=True)\n",
      "  (conv3): Conv2d(64, 128, kernel_size=(5, 5), stride=(2, 2), padding=(1, 1))\n",
      "  (bn3): BatchNorm2d(128, eps=1e-05, momentum=0.1, affine=True, track_running_stats=True)\n",
      "  (conv4): Conv2d(128, 128, kernel_size=(5, 5), stride=(2, 2), padding=(1, 1))\n",
      "  (bn4): BatchNorm2d(128, eps=1e-05, momentum=0.1, affine=True, track_running_stats=True)\n",
      "  (fc1): Linear(in_features=5376, out_features=512, bias=True)\n",
      "  (lstm): LSTMCell(512, 16, bias=1)\n",
      "  (fc2): Linear(in_features=16, out_features=4, bias=True)\n",
      ")\n"
     ]
    }
   ],
   "source": [
    "import torch\n",
    "import torch.nn as nn\n",
    "import torch.optim as optim\n",
    "import librosa\n",
    "from torch.utils.data import Dataset, DataLoader\n",
    "from tqdm import tqdm\n",
    "import torch.nn.functional as F\n",
    "\n",
    "import torch\n",
    "import torch.nn as nn\n",
    "import torch.nn.functional as F\n",
    "\n",
    "class Net(nn.Module):\n",
    "    def __init__(self):\n",
    "        super().__init__()\n",
    "        self.conv1 = nn.Conv2d(1, 32, 5, 2, padding=1) \n",
    "        self.bn1 = nn.BatchNorm2d(32)\n",
    "        self.conv2 = nn.Conv2d(32, 64, 5, 2, padding=1) \n",
    "        self.bn2 = nn.BatchNorm2d(64)\n",
    "        self.conv3 = nn.Conv2d(64, 128, 5, 2, padding=1)\n",
    "        self.bn3 = nn.BatchNorm2d(128)\n",
    "        self.conv4 = nn.Conv2d(128, 128, 5, 2, padding=1)\n",
    "        self.bn4 = nn.BatchNorm2d(128)\n",
    "        \n",
    "        self.fc1 = nn.Linear((7*6*128), 512)\n",
    "        \n",
    "        self.lstm = nn.LSTMCell(512, 16, 1)\n",
    "        \n",
    "        self.fc2 = nn.Linear(16, 4) \n",
    "\n",
    "    def convs(self, x):\n",
    "        # max pooling over 2x2\n",
    "        x = F.relu(self.conv1(x))\n",
    "        x = self.bn1(x)\n",
    "        x = F.relu(self.conv2(x))\n",
    "        x = self.bn2(x)\n",
    "        x = F.relu(self.conv3(x))\n",
    "        x = self.bn3(x)\n",
    "        x = F.relu(self.conv4(x))\n",
    "        x = self.bn4(x)\n",
    "\n",
    "        return x\n",
    "\n",
    "    def forward(self, x):\n",
    "        x = self.convs(x)\n",
    "        x = x.reshape(x.size(0), -1)\n",
    "        x = F.relu(self.fc1(x))\n",
    "        x, cell = self.lstm(x)\n",
    "        x = self.fc2(x) \n",
    "        return F.softmax(x, dim=1)\n",
    "\n",
    "\n",
    "net = Net()\n",
    "print(net)\n"
   ]
  },
  {
   "cell_type": "code",
   "execution_count": 225,
   "metadata": {},
   "outputs": [],
   "source": [
    "if torch.cuda.is_available():\n",
    "    device=torch.device('cuda:0')\n",
    "else:\n",
    "    device=torch.device('cpu')\n",
    "\n",
    "net = net.to(device)"
   ]
  },
  {
   "cell_type": "code",
   "execution_count": 226,
   "metadata": {},
   "outputs": [],
   "source": [
    "def setlr(optimizer, lr):\n",
    "    for param_group in optimizer.param_groups:\n",
    "        param_group['lr'] = lr\n",
    "    return optimizer\n",
    "\n",
    "def lr_decay(optimizer, epoch):\n",
    "    if epoch%10==0:\n",
    "        new_lr = learning_rate / (10**(epoch//10))\n",
    "        optimizer = setlr(optimizer, new_lr)\n",
    "        print(\"Changed learning rate to {}\".format(new_lr))\n",
    "    return optimizer"
   ]
  },
  {
   "cell_type": "code",
   "execution_count": 227,
   "metadata": {},
   "outputs": [],
   "source": [
    "learning_rate = 2e-4\n",
    "optimizer = optim.Adam(net.parameters(), lr=learning_rate)\n",
    "epochs = 10\n",
    "loss_fn = nn.CrossEntropyLoss()\n",
    "resnet_train_losses=[]\n",
    "resnet_valid_losses=[]\n",
    "\n",
    "def train_model(model, loss_fn, train_loader, valid_loader, epochs, optimizer, train_losses, valid_losses, change_lr=None):\n",
    "    \n",
    "    for epoch in tqdm(range(1,epochs+1)):\n",
    "        \n",
    "        model.train()\n",
    "        batch_losses=[]\n",
    "        if change_lr:\n",
    "            optimizer = change_lr(optimizer, epoch)\n",
    "        for i, data in enumerate(train_loader):\n",
    "            x, y = data\n",
    "            optimizer.zero_grad()\n",
    "            x = x.to(device, dtype=torch.float32)\n",
    "            y = y.to(device, dtype=torch.long)\n",
    "            y_hat = model(x)\n",
    "            loss = loss_fn(y_hat, y)\n",
    "            loss.backward()\n",
    "            batch_losses.append(loss.item())\n",
    "            optimizer.step()\n",
    "        train_losses.append(batch_losses)\n",
    "\n",
    "\n",
    "        print(\"Epoch - {} Train-Loss : {}\".format(epoch, np.mean(train_losses[-1])))\n",
    "        model.eval()\n",
    "        batch_losses=[]\n",
    "        trace_y = []\n",
    "        trace_yhat = []\n",
    "        for i, data in enumerate(valid_loader):\n",
    "            x, y = data\n",
    "            x = x.to(device, dtype=torch.float32)\n",
    "            y = y.to(device, dtype=torch.long)\n",
    "            y_hat = model(x)\n",
    "            loss = loss_fn(y_hat, y)\n",
    "            trace_y.append(y.cpu().detach().numpy())\n",
    "            trace_yhat.append(y_hat.cpu().detach().numpy())      \n",
    "            batch_losses.append(loss.item())\n",
    "\n",
    "        valid_losses.append(batch_losses)\n",
    "        trace_y = np.concatenate(trace_y)\n",
    "        trace_yhat = np.concatenate(trace_yhat)\n",
    "        accuracy = np.mean(trace_yhat.argmax(axis=1)==trace_y)\n",
    "        print(\"Epoch - {} Valid-Loss : {} Valid-Accuracy : {}\".format(epoch, np.mean(valid_losses[-1]), accuracy ))\n",
    "        \n"
   ]
  },
  {
   "cell_type": "code",
   "execution_count": 228,
   "metadata": {},
   "outputs": [
    {
     "name": "stderr",
     "output_type": "stream",
     "text": [
      "\n",
      "  0%|          | 0/10 [00:00<?, ?it/s]\u001b[A"
     ]
    },
    {
     "name": "stdout",
     "output_type": "stream",
     "text": [
      "Epoch - 1 Train-Loss : 1.3099466723364752\n"
     ]
    },
    {
     "name": "stderr",
     "output_type": "stream",
     "text": [
      "\n",
      " 10%|█         | 1/10 [00:03<00:32,  3.61s/it]\u001b[A"
     ]
    },
    {
     "name": "stdout",
     "output_type": "stream",
     "text": [
      "Epoch - 1 Valid-Loss : 1.2936402433796932 Valid-Accuracy : 0.4906621392190153\n",
      "Epoch - 2 Train-Loss : 1.2698854385195553\n"
     ]
    },
    {
     "name": "stderr",
     "output_type": "stream",
     "text": [
      "\n",
      " 20%|██        | 2/10 [00:07<00:28,  3.58s/it]\u001b[A"
     ]
    },
    {
     "name": "stdout",
     "output_type": "stream",
     "text": [
      "Epoch - 2 Valid-Loss : 1.267331091981185 Valid-Accuracy : 0.533106960950764\n",
      "Epoch - 3 Train-Loss : 1.2290141630817104\n"
     ]
    },
    {
     "name": "stderr",
     "output_type": "stream",
     "text": [
      "\n",
      " 30%|███       | 3/10 [00:10<00:24,  3.56s/it]\u001b[A"
     ]
    },
    {
     "name": "stdout",
     "output_type": "stream",
     "text": [
      "Epoch - 3 Valid-Loss : 1.2264550234142102 Valid-Accuracy : 0.6095076400679117\n",
      "Epoch - 4 Train-Loss : 1.1717180577484336\n"
     ]
    },
    {
     "name": "stderr",
     "output_type": "stream",
     "text": [
      "\n",
      " 40%|████      | 4/10 [00:14<00:21,  3.55s/it]\u001b[A"
     ]
    },
    {
     "name": "stdout",
     "output_type": "stream",
     "text": [
      "Epoch - 4 Valid-Loss : 1.2102489722402472 Valid-Accuracy : 0.6078098471986417\n",
      "Epoch - 5 Train-Loss : 1.1116415584409558\n"
     ]
    },
    {
     "name": "stderr",
     "output_type": "stream",
     "text": [
      "\n",
      " 50%|█████     | 5/10 [00:17<00:17,  3.55s/it]\u001b[A"
     ]
    },
    {
     "name": "stdout",
     "output_type": "stream",
     "text": [
      "Epoch - 5 Valid-Loss : 1.2096202310762907 Valid-Accuracy : 0.5891341256366723\n",
      "Epoch - 6 Train-Loss : 1.0624972775175765\n"
     ]
    },
    {
     "name": "stderr",
     "output_type": "stream",
     "text": [
      "\n",
      " 60%|██████    | 6/10 [00:21<00:14,  3.55s/it]\u001b[A"
     ]
    },
    {
     "name": "stdout",
     "output_type": "stream",
     "text": [
      "Epoch - 6 Valid-Loss : 1.1821775248176174 Valid-Accuracy : 0.6146010186757216\n",
      "Epoch - 7 Train-Loss : 1.016942588058678\n"
     ]
    },
    {
     "name": "stderr",
     "output_type": "stream",
     "text": [
      "\n",
      " 70%|███████   | 7/10 [00:24<00:10,  3.54s/it]\u001b[A"
     ]
    },
    {
     "name": "stdout",
     "output_type": "stream",
     "text": [
      "Epoch - 7 Valid-Loss : 1.1722773125297146 Valid-Accuracy : 0.601018675721562\n",
      "Epoch - 8 Train-Loss : 0.9824588645148922\n"
     ]
    },
    {
     "name": "stderr",
     "output_type": "stream",
     "text": [
      "\n",
      " 80%|████████  | 8/10 [00:28<00:07,  3.54s/it]\u001b[A"
     ]
    },
    {
     "name": "stdout",
     "output_type": "stream",
     "text": [
      "Epoch - 8 Valid-Loss : 1.156556907453035 Valid-Accuracy : 0.6247877758913413\n",
      "Epoch - 9 Train-Loss : 0.9484333017387906\n"
     ]
    },
    {
     "name": "stderr",
     "output_type": "stream",
     "text": [
      "\n",
      " 90%|█████████ | 9/10 [00:31<00:03,  3.54s/it]\u001b[A"
     ]
    },
    {
     "name": "stdout",
     "output_type": "stream",
     "text": [
      "Epoch - 9 Valid-Loss : 1.1490551672483746 Valid-Accuracy : 0.633276740237691\n",
      "Changed learning rate to 2e-05\n",
      "Epoch - 10 Train-Loss : 0.9214898218979707\n"
     ]
    },
    {
     "name": "stderr",
     "output_type": "stream",
     "text": [
      "\n",
      "100%|██████████| 10/10 [00:35<00:00,  3.54s/it]\u001b[A"
     ]
    },
    {
     "name": "stdout",
     "output_type": "stream",
     "text": [
      "Epoch - 10 Valid-Loss : 1.1396120159249556 Valid-Accuracy : 0.6536502546689303\n"
     ]
    },
    {
     "name": "stderr",
     "output_type": "stream",
     "text": [
      "\n"
     ]
    }
   ],
   "source": [
    "train_model(net, loss_fn, train_loader, valid_loader, epochs, optimizer, resnet_train_losses, resnet_valid_losses, lr_decay)"
   ]
  },
  {
   "cell_type": "code",
   "execution_count": 229,
   "metadata": {},
   "outputs": [
    {
     "name": "stderr",
     "output_type": "stream",
     "text": [
      "\n",
      "  0%|          | 0/20 [00:00<?, ?it/s]\u001b[A"
     ]
    },
    {
     "name": "stdout",
     "output_type": "stream",
     "text": [
      "Epoch - 1 Train-Loss : 0.9135317367476385\n"
     ]
    },
    {
     "name": "stderr",
     "output_type": "stream",
     "text": [
      "\n",
      "  5%|▌         | 1/20 [00:03<01:08,  3.63s/it]\u001b[A"
     ]
    },
    {
     "name": "stdout",
     "output_type": "stream",
     "text": [
      "Epoch - 1 Valid-Loss : 1.134088817395662 Valid-Accuracy : 0.6502546689303905\n",
      "Epoch - 2 Train-Loss : 0.9095086012337659\n"
     ]
    },
    {
     "name": "stderr",
     "output_type": "stream",
     "text": [
      "\n",
      " 10%|█         | 2/20 [00:07<01:04,  3.60s/it]\u001b[A"
     ]
    },
    {
     "name": "stdout",
     "output_type": "stream",
     "text": [
      "Epoch - 2 Valid-Loss : 1.13628814094945 Valid-Accuracy : 0.6485568760611206\n",
      "Epoch - 3 Train-Loss : 0.9064055568463093\n"
     ]
    },
    {
     "name": "stderr",
     "output_type": "stream",
     "text": [
      "\n",
      " 15%|█▌        | 3/20 [00:10<01:00,  3.58s/it]\u001b[A"
     ]
    },
    {
     "name": "stdout",
     "output_type": "stream",
     "text": [
      "Epoch - 3 Valid-Loss : 1.1398329672060514 Valid-Accuracy : 0.6553480475382003\n",
      "Epoch - 4 Train-Loss : 0.9030471210544174\n"
     ]
    },
    {
     "name": "stderr",
     "output_type": "stream",
     "text": [
      "\n",
      " 20%|██        | 4/20 [00:14<00:57,  3.57s/it]\u001b[A"
     ]
    },
    {
     "name": "stdout",
     "output_type": "stream",
     "text": [
      "Epoch - 4 Valid-Loss : 1.1338306916387457 Valid-Accuracy : 0.6519524617996605\n",
      "Epoch - 5 Train-Loss : 0.9011340068804251\n"
     ]
    },
    {
     "name": "stderr",
     "output_type": "stream",
     "text": [
      "\n",
      " 25%|██▌       | 5/20 [00:17<00:53,  3.56s/it]\u001b[A"
     ]
    },
    {
     "name": "stdout",
     "output_type": "stream",
     "text": [
      "Epoch - 5 Valid-Loss : 1.1355281503576982 Valid-Accuracy : 0.6536502546689303\n",
      "Epoch - 6 Train-Loss : 0.8991002496835347\n"
     ]
    },
    {
     "name": "stderr",
     "output_type": "stream",
     "text": [
      "\n",
      " 30%|███       | 6/20 [00:21<00:49,  3.56s/it]\u001b[A"
     ]
    },
    {
     "name": "stdout",
     "output_type": "stream",
     "text": [
      "Epoch - 6 Valid-Loss : 1.130694169747202 Valid-Accuracy : 0.6468590831918506\n",
      "Epoch - 7 Train-Loss : 0.896077242251989\n"
     ]
    },
    {
     "name": "stderr",
     "output_type": "stream",
     "text": [
      "\n",
      " 35%|███▌      | 7/20 [00:24<00:46,  3.56s/it]\u001b[A"
     ]
    },
    {
     "name": "stdout",
     "output_type": "stream",
     "text": [
      "Epoch - 7 Valid-Loss : 1.1311511083653099 Valid-Accuracy : 0.6502546689303905\n",
      "Epoch - 8 Train-Loss : 0.8943890824511245\n"
     ]
    },
    {
     "name": "stderr",
     "output_type": "stream",
     "text": [
      "\n",
      " 40%|████      | 8/20 [00:28<00:42,  3.55s/it]\u001b[A"
     ]
    },
    {
     "name": "stdout",
     "output_type": "stream",
     "text": [
      "Epoch - 8 Valid-Loss : 1.1390666146027415 Valid-Accuracy : 0.6468590831918506\n",
      "Epoch - 9 Train-Loss : 0.891733453885929\n"
     ]
    },
    {
     "name": "stderr",
     "output_type": "stream",
     "text": [
      "\n",
      " 45%|████▌     | 9/20 [00:31<00:39,  3.55s/it]\u001b[A"
     ]
    },
    {
     "name": "stdout",
     "output_type": "stream",
     "text": [
      "Epoch - 9 Valid-Loss : 1.132827175290961 Valid-Accuracy : 0.6417657045840407\n",
      "Changed learning rate to 2e-05\n",
      "Epoch - 10 Train-Loss : 0.8888658752312532\n"
     ]
    },
    {
     "name": "stderr",
     "output_type": "stream",
     "text": [
      "\n",
      " 50%|█████     | 10/20 [00:35<00:35,  3.54s/it]\u001b[A"
     ]
    },
    {
     "name": "stdout",
     "output_type": "stream",
     "text": [
      "Epoch - 10 Valid-Loss : 1.1335141784266423 Valid-Accuracy : 0.6400679117147708\n",
      "Epoch - 11 Train-Loss : 0.8861825852780729\n"
     ]
    },
    {
     "name": "stderr",
     "output_type": "stream",
     "text": [
      "\n",
      " 55%|█████▌    | 11/20 [00:39<00:31,  3.55s/it]\u001b[A"
     ]
    },
    {
     "name": "stdout",
     "output_type": "stream",
     "text": [
      "Epoch - 11 Valid-Loss : 1.1355396634653996 Valid-Accuracy : 0.6451612903225806\n",
      "Epoch - 12 Train-Loss : 0.884066898275066\n"
     ]
    },
    {
     "name": "stderr",
     "output_type": "stream",
     "text": [
      "\n",
      " 60%|██████    | 12/20 [00:42<00:28,  3.55s/it]\u001b[A"
     ]
    },
    {
     "name": "stdout",
     "output_type": "stream",
     "text": [
      "Epoch - 12 Valid-Loss : 1.137167491410908 Valid-Accuracy : 0.6451612903225806\n",
      "Epoch - 13 Train-Loss : 0.8811483165702304\n"
     ]
    },
    {
     "name": "stderr",
     "output_type": "stream",
     "text": [
      "\n",
      " 65%|██████▌   | 13/20 [00:46<00:24,  3.55s/it]\u001b[A"
     ]
    },
    {
     "name": "stdout",
     "output_type": "stream",
     "text": [
      "Epoch - 13 Valid-Loss : 1.132979669068989 Valid-Accuracy : 0.6366723259762309\n",
      "Epoch - 14 Train-Loss : 0.878593809701301\n"
     ]
    },
    {
     "name": "stderr",
     "output_type": "stream",
     "text": [
      "\n",
      " 70%|███████   | 14/20 [00:49<00:21,  3.56s/it]\u001b[A"
     ]
    },
    {
     "name": "stdout",
     "output_type": "stream",
     "text": [
      "Epoch - 14 Valid-Loss : 1.1378994301745766 Valid-Accuracy : 0.6281833616298812\n",
      "Epoch - 15 Train-Loss : 0.8763051371316652\n"
     ]
    },
    {
     "name": "stderr",
     "output_type": "stream",
     "text": [
      "\n",
      " 75%|███████▌  | 15/20 [00:53<00:17,  3.56s/it]\u001b[A"
     ]
    },
    {
     "name": "stdout",
     "output_type": "stream",
     "text": [
      "Epoch - 15 Valid-Loss : 1.1307484538931596 Valid-Accuracy : 0.634974533106961\n",
      "Epoch - 16 Train-Loss : 0.8743687980883831\n"
     ]
    },
    {
     "name": "stderr",
     "output_type": "stream",
     "text": [
      "\n",
      " 80%|████████  | 16/20 [00:56<00:14,  3.56s/it]\u001b[A"
     ]
    },
    {
     "name": "stdout",
     "output_type": "stream",
     "text": [
      "Epoch - 16 Valid-Loss : 1.1352321097725315 Valid-Accuracy : 0.6400679117147708\n",
      "Epoch - 17 Train-Loss : 0.8729632617654027\n"
     ]
    },
    {
     "name": "stderr",
     "output_type": "stream",
     "text": [
      "\n",
      " 85%|████████▌ | 17/20 [01:00<00:10,  3.57s/it]\u001b[A"
     ]
    },
    {
     "name": "stdout",
     "output_type": "stream",
     "text": [
      "Epoch - 17 Valid-Loss : 1.1293549663142155 Valid-Accuracy : 0.6451612903225806\n",
      "Epoch - 18 Train-Loss : 0.8713578388497636\n"
     ]
    },
    {
     "name": "stderr",
     "output_type": "stream",
     "text": [
      "\n",
      " 90%|█████████ | 18/20 [01:04<00:07,  3.56s/it]\u001b[A"
     ]
    },
    {
     "name": "stdout",
     "output_type": "stream",
     "text": [
      "Epoch - 18 Valid-Loss : 1.1318155401631405 Valid-Accuracy : 0.6519524617996605\n",
      "Epoch - 19 Train-Loss : 0.8694284300546389\n"
     ]
    },
    {
     "name": "stderr",
     "output_type": "stream",
     "text": [
      "\n",
      " 95%|█████████▌| 19/20 [01:07<00:03,  3.57s/it]\u001b[A"
     ]
    },
    {
     "name": "stdout",
     "output_type": "stream",
     "text": [
      "Epoch - 19 Valid-Loss : 1.1336614960118343 Valid-Accuracy : 0.6366723259762309\n",
      "Changed learning rate to 2e-06\n",
      "Epoch - 20 Train-Loss : 0.868487009325543\n"
     ]
    },
    {
     "name": "stderr",
     "output_type": "stream",
     "text": [
      "\n",
      "100%|██████████| 20/20 [01:11<00:00,  3.56s/it]\u001b[A"
     ]
    },
    {
     "name": "stdout",
     "output_type": "stream",
     "text": [
      "Epoch - 20 Valid-Loss : 1.1309048251101845 Valid-Accuracy : 0.6434634974533107\n"
     ]
    },
    {
     "name": "stderr",
     "output_type": "stream",
     "text": [
      "\n"
     ]
    }
   ],
   "source": [
    "epochs=20\n",
    "train_model(net, loss_fn, train_loader, valid_loader, epochs, optimizer, resnet_train_losses, resnet_valid_losses, lr_decay)"
   ]
  },
  {
   "cell_type": "code",
   "execution_count": 230,
   "metadata": {},
   "outputs": [
    {
     "data": {
      "text/plain": [
       "<matplotlib.legend.Legend at 0x7f7883d71e80>"
      ]
     },
     "execution_count": 230,
     "metadata": {},
     "output_type": "execute_result"
    },
    {
     "data": {
      "image/png": "[encoded data removed]",
      "text/plain": [
       "<Figure size 864x432 with 2 Axes>"
      ]
     },
     "metadata": {
      "needs_background": "light"
     },
     "output_type": "display_data"
    }
   ],
   "source": [
    "tl = np.asarray(resnet_train_losses).ravel()\n",
    "vl = np.asarray(resnet_valid_losses).ravel()\n",
    "plt.figure(figsize=(12,6))\n",
    "plt.subplot(1,2,1)\n",
    "plt.plot(tl)\n",
    "plt.legend(['Train Loss'])\n",
    "plt.subplot(1,2,2)\n",
    "plt.plot(vl,'orange')\n",
    "plt.legend(['Valid Loss'])"
   ]
  },
  {
   "cell_type": "code",
   "execution_count": 231,
   "metadata": {},
   "outputs": [
    {
     "name": "stderr",
     "output_type": "stream",
     "text": [
      "/anaconda/envs/py35/lib/python3.5/site-packages/torch/serialization.py:256: UserWarning: Couldn't retrieve source code for container of type Net. It won't be checked for correctness upon loading.\n",
      "  \"type \" + obj.__name__ + \". It won't be checked \"\n"
     ]
    }
   ],
   "source": [
    "import time\n",
    "ts = time.gmtime()\n",
    "stamp = time.strftime(\"%Y-%m-%d %H:%M:%S\", ts)\n",
    "stamp[:10]\n",
    "\n",
    "import torch\n",
    "torch.save(net, 'custom_net_{}_medduration.pth'.format(stamp))"
   ]
  }
 ],
 "metadata": {
  "kernelspec": {
   "display_name": "Python 3.5",
   "language": "python",
   "name": "python3"
  },
  "language_info": {
   "codemirror_mode": {
    "name": "ipython",
    "version": 3
   },
   "file_extension": ".py",
   "mimetype": "text/x-python",
   "name": "python",
   "nbconvert_exporter": "python",
   "pygments_lexer": "ipython3",
   "version": "3.5.6"
  }
 },
 "nbformat": 4,
 "nbformat_minor": 2
}
